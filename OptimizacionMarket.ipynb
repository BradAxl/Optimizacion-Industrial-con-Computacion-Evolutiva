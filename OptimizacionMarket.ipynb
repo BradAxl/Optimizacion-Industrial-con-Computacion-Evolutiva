{
 "cells": [
  {
   "cell_type": "markdown",
   "metadata": {
    "colab_type": "text",
    "id": "skYKoK28a3EK"
   },
   "source": [
    "# **Proyecto final: Usando computación evolutiva para encontrar localizaciones optimas de una cadena de supermercados**"
   ]
  },
  {
   "cell_type": "markdown",
   "metadata": {
    "colab_type": "text",
    "id": "IRrENozVa3EN"
   },
   "source": [
    "## **1) Algoritmo genético mono-objetivo**"
   ]
  },
  {
   "cell_type": "markdown",
   "metadata": {
    "colab_type": "text",
    "id": "FZrZ6t_Oa3EO"
   },
   "source": [
    "**a) Importando las librerias necesarias**"
   ]
  },
  {
   "cell_type": "code",
   "execution_count": 2,
   "metadata": {
    "colab": {
     "base_uri": "https://localhost:8080/",
     "height": 425
    },
    "colab_type": "code",
    "collapsed": true,
    "id": "76Lt5Nvqcyao",
    "jupyter": {
     "outputs_hidden": true
    },
    "outputId": "000f6f37-6151-479c-ab13-d54a83cafc3f"
   },
   "outputs": [
    {
     "name": "stdout",
     "output_type": "stream",
     "text": [
      "Collecting git+https://github.com/python-visualization/folium\n",
      "  Cloning https://github.com/python-visualization/folium to /tmp/pip-req-build-r8dpxcao\n",
      "  Running command git clone -q https://github.com/python-visualization/folium /tmp/pip-req-build-r8dpxcao\n",
      "Requirement already satisfied (use --upgrade to upgrade): folium==0.10.0+4.ga1e3686 from git+https://github.com/python-visualization/folium in /home/lautaro/anaconda3/envs/ArtInte/lib/python3.7/site-packages\n",
      "Requirement already satisfied: branca>=0.3.0 in /home/lautaro/anaconda3/envs/ArtInte/lib/python3.7/site-packages (from folium==0.10.0+4.ga1e3686) (0.3.1)\n",
      "Requirement already satisfied: jinja2>=2.9 in /home/lautaro/anaconda3/envs/ArtInte/lib/python3.7/site-packages (from folium==0.10.0+4.ga1e3686) (2.10.3)\n",
      "Requirement already satisfied: numpy in /home/lautaro/anaconda3/envs/ArtInte/lib/python3.7/site-packages (from folium==0.10.0+4.ga1e3686) (1.17.2)\n",
      "Requirement already satisfied: requests in /home/lautaro/anaconda3/envs/ArtInte/lib/python3.7/site-packages (from folium==0.10.0+4.ga1e3686) (2.22.0)\n",
      "Requirement already satisfied: six in /home/lautaro/anaconda3/envs/ArtInte/lib/python3.7/site-packages (from branca>=0.3.0->folium==0.10.0+4.ga1e3686) (1.12.0)\n",
      "Requirement already satisfied: MarkupSafe>=0.23 in /home/lautaro/anaconda3/envs/ArtInte/lib/python3.7/site-packages (from jinja2>=2.9->folium==0.10.0+4.ga1e3686) (1.1.1)\n",
      "Requirement already satisfied: certifi>=2017.4.17 in /home/lautaro/anaconda3/envs/ArtInte/lib/python3.7/site-packages (from requests->folium==0.10.0+4.ga1e3686) (2019.9.11)\n",
      "Requirement already satisfied: urllib3!=1.25.0,!=1.25.1,<1.26,>=1.21.1 in /home/lautaro/anaconda3/envs/ArtInte/lib/python3.7/site-packages (from requests->folium==0.10.0+4.ga1e3686) (1.24.2)\n",
      "Requirement already satisfied: idna<2.9,>=2.5 in /home/lautaro/anaconda3/envs/ArtInte/lib/python3.7/site-packages (from requests->folium==0.10.0+4.ga1e3686) (2.8)\n",
      "Requirement already satisfied: chardet<3.1.0,>=3.0.2 in /home/lautaro/anaconda3/envs/ArtInte/lib/python3.7/site-packages (from requests->folium==0.10.0+4.ga1e3686) (3.0.4)\n",
      "Building wheels for collected packages: folium\n",
      "  Building wheel for folium (setup.py) ... \u001b[?25ldone\n",
      "\u001b[?25h  Created wheel for folium: filename=folium-0.10.0+4.ga1e3686-py2.py3-none-any.whl size=91404 sha256=6522960e8e0ba6e33be80a4fd90c5997ccc9e13be142145f4ae431833289cf17\n",
      "  Stored in directory: /tmp/pip-ephem-wheel-cache-0_nxen_m/wheels/1e/e1/75/ecbc91fd5dd5d90befb0b533bf7492d38acffa033310731862\n",
      "Successfully built folium\n",
      "Note: you may need to restart the kernel to use updated packages.\n"
     ]
    }
   ],
   "source": [
    "pip install git+https://github.com/python-visualization/folium"
   ]
  },
  {
   "cell_type": "code",
   "execution_count": 1,
   "metadata": {
    "colab": {},
    "colab_type": "code",
    "id": "V0zETUnta3EP"
   },
   "outputs": [],
   "source": [
    "import pandas as pd\n",
    "import math\n",
    "import sys\n",
    "import time\n",
    "import numpy as np\n",
    "from random import shuffle, random, sample, randint, randrange, uniform\n",
    "from copy import deepcopy\n",
    "import matplotlib.pyplot as plt\n",
    "import seaborn as sns\n",
    "import folium\n",
    "from datetime import timedelta\n",
    "import datetime\n",
    "from folium.plugins import TimestampedGeoJson\n",
    "import numpy as np\n",
    "from sklearn.preprocessing import MinMaxScaler,MaxAbsScaler"
   ]
  },
  {
   "cell_type": "code",
   "execution_count": 3,
   "metadata": {
    "colab": {
     "base_uri": "https://localhost:8080/",
     "height": 207
    },
    "colab_type": "code",
    "collapsed": true,
    "id": "8ZGYZQCNa8kk",
    "jupyter": {
     "outputs_hidden": true
    },
    "outputId": "cc4fa2ad-d1e5-496a-b6a0-65f3e91e94c8"
   },
   "outputs": [
    {
     "name": "stdout",
     "output_type": "stream",
     "text": [
      "Go to this URL in a browser: https://accounts.google.com/o/oauth2/auth?client_id=947318989803-6bn6qk8qdgf4n4g3pfee6491hc0brc4i.apps.googleusercontent.com&redirect_uri=urn%3aietf%3awg%3aoauth%3a2.0%3aoob&response_type=code&scope=email%20https%3a%2f%2fwww.googleapis.com%2fauth%2fdocs.test%20https%3a%2f%2fwww.googleapis.com%2fauth%2fdrive%20https%3a%2f%2fwww.googleapis.com%2fauth%2fdrive.photos.readonly%20https%3a%2f%2fwww.googleapis.com%2fauth%2fpeopleapi.readonly\n",
      "\n",
      "Enter your authorization code:\n",
      "··········\n",
      "Mounted at /content/gdrive\n",
      "/content/gdrive/My Drive/Colab Notebooks/Algoritmos Bioinspirados/Proyecto Final\n",
      "Candidatos_supermercados.xlsx  OptimizacionMarket.ipynb\n",
      "earthHTML.html\t\t       proyectoFinal.ipynb\n",
      "mapTimer.html\t\t       proyectoFinal-previousVersion.ipynb\n",
      "monoSolution.html\n"
     ]
    }
   ],
   "source": [
    "from google.colab import drive\n",
    "drive.mount(\"/content/gdrive\")\n",
    "%cd gdrive/My\\ Drive/'Colab Notebooks'/'Algoritmos Bioinspirados'/'Proyecto Final/'\n",
    "!ls"
   ]
  },
  {
   "cell_type": "markdown",
   "metadata": {
    "colab_type": "text",
    "id": "CeT2tUeka3ES"
   },
   "source": [
    "**b) Leyendo la información proporcionada**"
   ]
  },
  {
   "cell_type": "code",
   "execution_count": 2,
   "metadata": {
    "colab": {
     "base_uri": "https://localhost:8080/",
     "height": 204
    },
    "colab_type": "code",
    "id": "eYJUckB_a3ET",
    "outputId": "68e5aef1-2d48-41aa-a155-1fa3e0d7210d"
   },
   "outputs": [
    {
     "data": {
      "text/html": [
       "<div>\n",
       "<style scoped>\n",
       "    .dataframe tbody tr th:only-of-type {\n",
       "        vertical-align: middle;\n",
       "    }\n",
       "\n",
       "    .dataframe tbody tr th {\n",
       "        vertical-align: top;\n",
       "    }\n",
       "\n",
       "    .dataframe thead th {\n",
       "        text-align: right;\n",
       "    }\n",
       "</style>\n",
       "<table border=\"1\" class=\"dataframe\">\n",
       "  <thead>\n",
       "    <tr style=\"text-align: right;\">\n",
       "      <th></th>\n",
       "      <th>ID</th>\n",
       "      <th>Descripcion</th>\n",
       "      <th>Latitud</th>\n",
       "      <th>Longitud</th>\n",
       "      <th>Poblacion500m</th>\n",
       "    </tr>\n",
       "  </thead>\n",
       "  <tbody>\n",
       "    <tr>\n",
       "      <th>0</th>\n",
       "      <td>Punto 1</td>\n",
       "      <td>Esq. Benavides con Nicolas Dueñas</td>\n",
       "      <td>-12.04861</td>\n",
       "      <td>-77.06496</td>\n",
       "      <td>16500</td>\n",
       "    </tr>\n",
       "    <tr>\n",
       "      <th>1</th>\n",
       "      <td>Ponto 2</td>\n",
       "      <td>Sta Bernardita con Republica de Venezuela</td>\n",
       "      <td>-12.05956</td>\n",
       "      <td>-77.07583</td>\n",
       "      <td>18000</td>\n",
       "    </tr>\n",
       "    <tr>\n",
       "      <th>2</th>\n",
       "      <td>Ponto 3</td>\n",
       "      <td>Santa Susana con Santa Gertrudis</td>\n",
       "      <td>-12.06524</td>\n",
       "      <td>-77.07334</td>\n",
       "      <td>17000</td>\n",
       "    </tr>\n",
       "    <tr>\n",
       "      <th>3</th>\n",
       "      <td>Ponto 4</td>\n",
       "      <td>Belizario Sosa Pelaez</td>\n",
       "      <td>-12.05998</td>\n",
       "      <td>-77.06300</td>\n",
       "      <td>15000</td>\n",
       "    </tr>\n",
       "    <tr>\n",
       "      <th>4</th>\n",
       "      <td>Ponto 5</td>\n",
       "      <td>Esq. Aurelio Garcia y Miranono Arredondo</td>\n",
       "      <td>-12.05541</td>\n",
       "      <td>-77.07497</td>\n",
       "      <td>17100</td>\n",
       "    </tr>\n",
       "  </tbody>\n",
       "</table>\n",
       "</div>"
      ],
      "text/plain": [
       "        ID                                Descripcion   Latitud  Longitud  \\\n",
       "0  Punto 1          Esq. Benavides con Nicolas Dueñas -12.04861 -77.06496   \n",
       "1  Ponto 2  Sta Bernardita con Republica de Venezuela -12.05956 -77.07583   \n",
       "2  Ponto 3           Santa Susana con Santa Gertrudis -12.06524 -77.07334   \n",
       "3  Ponto 4                      Belizario Sosa Pelaez -12.05998 -77.06300   \n",
       "4  Ponto 5   Esq. Aurelio Garcia y Miranono Arredondo -12.05541 -77.07497   \n",
       "\n",
       "   Poblacion500m  \n",
       "0          16500  \n",
       "1          18000  \n",
       "2          17000  \n",
       "3          15000  \n",
       "4          17100  "
      ]
     },
     "execution_count": 2,
     "metadata": {},
     "output_type": "execute_result"
    }
   ],
   "source": [
    "dataset=pd.read_excel('../UbicacionSupermercados/Candidatos_supermercados.xlsx')\n",
    "dataset.head()"
   ]
  },
  {
   "cell_type": "markdown",
   "metadata": {
    "colab_type": "text",
    "id": "HTad8roUa3EX"
   },
   "source": [
    "**c) Cálculo de las distancias entre cada punto**"
   ]
  },
  {
   "cell_type": "markdown",
   "metadata": {
    "colab_type": "text",
    "id": "HYcnhcBia3EX"
   },
   "source": [
    "Función para el cálculo de las distancias entre dos puntos teniendo la latitud y longitud de las coordenadas"
   ]
  },
  {
   "cell_type": "code",
   "execution_count": 3,
   "metadata": {
    "colab": {},
    "colab_type": "code",
    "id": "VFSiOvcVa3EY"
   },
   "outputs": [],
   "source": [
    "lista_total_distancias={}\n",
    "radio_tierra=6378 #radio ecuatorial\n",
    "def getDistances(dataset):\n",
    "    \"\"\"Función para el cálculo de las distancias entre todos los puntos teniendo la latitud y longitud de las coordenadas.\n",
    "    \n",
    "    Para el cálculo de las distancias entre los puntos se hace uso de Haversine Formula\n",
    "    Parámetros:\n",
    "                -dataset: Dataset del tipo dataFrame pandas\n",
    "                \n",
    "    Retorna: Un diccionario de la forma {(punto1,punto2):distancia}\n",
    "    \"\"\"\n",
    "    valores=dataset[['Latitud','Longitud']].values\n",
    "    for i in range(len(valores)):\n",
    "        for j in range(i+1,len(valores)):\n",
    "            dif_lat=valores[j][0] - valores[i][0] #Hallamos la diferencia de latitud\n",
    "            dif_lon=valores[j][1] - valores[i][1] #Hallamos la diferencia de longitud\n",
    "            a=pow(math.sin(dif_lat/2),2)+(math.cos(valores[i][0])*(math.cos(valores[j][0])))*pow(math.sin(dif_lon/2),2)\n",
    "            c=2*math.asin(min(1,math.sqrt(a)))\n",
    "            lista_total_distancias[(i,j)]=radio_tierra * c #*1000 #multiplicar por mil para obtener en metros"
   ]
  },
  {
   "cell_type": "code",
   "execution_count": 4,
   "metadata": {
    "colab": {},
    "colab_type": "code",
    "id": "mq4nFODda3Ea"
   },
   "outputs": [],
   "source": [
    "getDistances(dataset)"
   ]
  },
  {
   "cell_type": "code",
   "execution_count": 5,
   "metadata": {
    "colab": {
     "base_uri": "https://localhost:8080/",
     "height": 34
    },
    "colab_type": "code",
    "id": "R1ZmOlFZa3Ed",
    "outputId": "69164d58-3e3a-4ae0-baec-0709c220f2e6"
   },
   "outputs": [
    {
     "data": {
      "text/plain": [
       "92.35295446475958"
      ]
     },
     "execution_count": 5,
     "metadata": {},
     "output_type": "execute_result"
    }
   ],
   "source": [
    "lista_total_distancias[(0,1)]"
   ]
  },
  {
   "cell_type": "markdown",
   "metadata": {},
   "source": [
    "**Escalamiento de los valores(poblacion y distancia) que serán sumados para hallar el fitness**"
   ]
  },
  {
   "cell_type": "markdown",
   "metadata": {},
   "source": [
    "Juntamos todos los datos"
   ]
  },
  {
   "cell_type": "code",
   "execution_count": 6,
   "metadata": {},
   "outputs": [],
   "source": [
    "datos_juntos=list(lista_total_distancias.values())+list(dataset.Poblacion500m.values)\n",
    "datos_juntos=np.array(datos_juntos).reshape(-1,1)"
   ]
  },
  {
   "cell_type": "markdown",
   "metadata": {},
   "source": [
    "Escalamos"
   ]
  },
  {
   "cell_type": "code",
   "execution_count": 7,
   "metadata": {},
   "outputs": [
    {
     "data": {
      "text/plain": [
       "array([[0.00461765],\n",
       "       [0.00579378],\n",
       "       [0.0036666 ],\n",
       "       ...,\n",
       "       [0.9       ],\n",
       "       [0.925     ],\n",
       "       [1.        ]])"
      ]
     },
     "execution_count": 7,
     "metadata": {},
     "output_type": "execute_result"
    }
   ],
   "source": [
    "min_max_scaler=MaxAbsScaler()\n",
    "datos_juntos_escalados=min_max_scaler.fit_transform(datos_juntos)\n",
    "datos_juntos_escalados"
   ]
  },
  {
   "cell_type": "markdown",
   "metadata": {},
   "source": [
    "Separamos distancia de poblacion"
   ]
  },
  {
   "cell_type": "code",
   "execution_count": 8,
   "metadata": {},
   "outputs": [
    {
     "data": {
      "text/plain": [
       "1770"
      ]
     },
     "execution_count": 8,
     "metadata": {},
     "output_type": "execute_result"
    }
   ],
   "source": [
    "datos_distancia_escalada=datos_juntos_escalados[:1770]\n",
    "len(datos_distancia_escalada)"
   ]
  },
  {
   "cell_type": "code",
   "execution_count": 9,
   "metadata": {},
   "outputs": [
    {
     "data": {
      "text/plain": [
       "60"
      ]
     },
     "execution_count": 9,
     "metadata": {},
     "output_type": "execute_result"
    }
   ],
   "source": [
    "datos_poblacion_escalada=datos_juntos_escalados[1770:]\n",
    "len(datos_poblacion_escalada)"
   ]
  },
  {
   "cell_type": "markdown",
   "metadata": {},
   "source": [
    "Almacenamiento de las distancias escaladas"
   ]
  },
  {
   "cell_type": "code",
   "execution_count": 10,
   "metadata": {},
   "outputs": [
    {
     "data": {
      "text/plain": [
       "0.004617647723237979"
      ]
     },
     "execution_count": 10,
     "metadata": {},
     "output_type": "execute_result"
    }
   ],
   "source": [
    "keys_lista=[i for i in lista_total_distancias] #Almacenamos los keys del diccionario de las distancias\n",
    "lista_total_distancias_escalado={keys_lista[i]:datos_distancia_escalada[i][0] for i in range(len(keys_lista))} #Creamos un nuevo dic con las distancias escaladas\n",
    "lista_total_distancias_escalado[(0,1)]"
   ]
  },
  {
   "cell_type": "markdown",
   "metadata": {},
   "source": [
    "Almacenamiento de la poblacion escalada"
   ]
  },
  {
   "cell_type": "code",
   "execution_count": 11,
   "metadata": {},
   "outputs": [
    {
     "data": {
      "text/html": [
       "<div>\n",
       "<style scoped>\n",
       "    .dataframe tbody tr th:only-of-type {\n",
       "        vertical-align: middle;\n",
       "    }\n",
       "\n",
       "    .dataframe tbody tr th {\n",
       "        vertical-align: top;\n",
       "    }\n",
       "\n",
       "    .dataframe thead th {\n",
       "        text-align: right;\n",
       "    }\n",
       "</style>\n",
       "<table border=\"1\" class=\"dataframe\">\n",
       "  <thead>\n",
       "    <tr style=\"text-align: right;\">\n",
       "      <th></th>\n",
       "      <th>ID</th>\n",
       "      <th>Descripcion</th>\n",
       "      <th>Latitud</th>\n",
       "      <th>Longitud</th>\n",
       "      <th>Poblacion500m</th>\n",
       "      <th>poblacion_escalado</th>\n",
       "    </tr>\n",
       "  </thead>\n",
       "  <tbody>\n",
       "    <tr>\n",
       "      <th>0</th>\n",
       "      <td>Punto 1</td>\n",
       "      <td>Esq. Benavides con Nicolas Dueñas</td>\n",
       "      <td>-12.04861</td>\n",
       "      <td>-77.06496</td>\n",
       "      <td>16500</td>\n",
       "      <td>0.825</td>\n",
       "    </tr>\n",
       "    <tr>\n",
       "      <th>1</th>\n",
       "      <td>Ponto 2</td>\n",
       "      <td>Sta Bernardita con Republica de Venezuela</td>\n",
       "      <td>-12.05956</td>\n",
       "      <td>-77.07583</td>\n",
       "      <td>18000</td>\n",
       "      <td>0.900</td>\n",
       "    </tr>\n",
       "    <tr>\n",
       "      <th>2</th>\n",
       "      <td>Ponto 3</td>\n",
       "      <td>Santa Susana con Santa Gertrudis</td>\n",
       "      <td>-12.06524</td>\n",
       "      <td>-77.07334</td>\n",
       "      <td>17000</td>\n",
       "      <td>0.850</td>\n",
       "    </tr>\n",
       "    <tr>\n",
       "      <th>3</th>\n",
       "      <td>Ponto 4</td>\n",
       "      <td>Belizario Sosa Pelaez</td>\n",
       "      <td>-12.05998</td>\n",
       "      <td>-77.06300</td>\n",
       "      <td>15000</td>\n",
       "      <td>0.750</td>\n",
       "    </tr>\n",
       "    <tr>\n",
       "      <th>4</th>\n",
       "      <td>Ponto 5</td>\n",
       "      <td>Esq. Aurelio Garcia y Miranono Arredondo</td>\n",
       "      <td>-12.05541</td>\n",
       "      <td>-77.07497</td>\n",
       "      <td>17100</td>\n",
       "      <td>0.855</td>\n",
       "    </tr>\n",
       "  </tbody>\n",
       "</table>\n",
       "</div>"
      ],
      "text/plain": [
       "        ID                                Descripcion   Latitud  Longitud  \\\n",
       "0  Punto 1          Esq. Benavides con Nicolas Dueñas -12.04861 -77.06496   \n",
       "1  Ponto 2  Sta Bernardita con Republica de Venezuela -12.05956 -77.07583   \n",
       "2  Ponto 3           Santa Susana con Santa Gertrudis -12.06524 -77.07334   \n",
       "3  Ponto 4                      Belizario Sosa Pelaez -12.05998 -77.06300   \n",
       "4  Ponto 5   Esq. Aurelio Garcia y Miranono Arredondo -12.05541 -77.07497   \n",
       "\n",
       "   Poblacion500m  poblacion_escalado  \n",
       "0          16500               0.825  \n",
       "1          18000               0.900  \n",
       "2          17000               0.850  \n",
       "3          15000               0.750  \n",
       "4          17100               0.855  "
      ]
     },
     "execution_count": 11,
     "metadata": {},
     "output_type": "execute_result"
    }
   ],
   "source": [
    "dataset['poblacion_escalado']=datos_poblacion_escalada\n",
    "dataset.head()"
   ]
  },
  {
   "cell_type": "markdown",
   "metadata": {
    "colab_type": "text",
    "id": "uAteAP7ga3Eg"
   },
   "source": [
    "**d) Definición del objeto Market para el problema**"
   ]
  },
  {
   "cell_type": "markdown",
   "metadata": {
    "colab_type": "text",
    "id": "y9FrJfV6a3Ei"
   },
   "source": [
    "Un objeto de la clase Market almacena las instancias del dataframe"
   ]
  },
  {
   "cell_type": "code",
   "execution_count": 12,
   "metadata": {
    "colab": {},
    "colab_type": "code",
    "id": "a52QlQi4a3Ej"
   },
   "outputs": [],
   "source": [
    "class Market(object):\n",
    "    def __init__(self,ID,descr,pob,latitud,longitud):\n",
    "        self.id=ID\n",
    "        self.descr=descr\n",
    "        self.pob=pob\n",
    "        self.lat=latitud\n",
    "        self.lon=longitud"
   ]
  },
  {
   "cell_type": "markdown",
   "metadata": {
    "colab_type": "text",
    "id": "oUTzTpd4a3El"
   },
   "source": [
    "**e) Definición de la estructura de un individuo en el AG con sus operadores genéticos**"
   ]
  },
  {
   "cell_type": "code",
   "execution_count": 13,
   "metadata": {
    "colab": {},
    "colab_type": "code",
    "id": "KDXXyOeza3Em"
   },
   "outputs": [],
   "source": [
    "class Individual:\n",
    "    \"\"\" Implementa el individuo del AG. Un individuo tiene un cromosoma que es una lista de num_markets elementos (genes),\n",
    "       cada gen i puede asumir dos posibles alelos: 0 o 1 (no incluir/incluir en la solución el market i del pool) \"\"\"\n",
    "\n",
    "    def __init__(self, chromosome,maxMark=10):  # el constructor recibe un cromosoma\n",
    "        self.chromosome = chromosome[:]  \n",
    "        self.fitness = -1  # -1 indica que el individuo no ha sido evaluado\n",
    "        self.maxMark=maxMark #Cantidad Máxima de markets que desea obtener en la solución\n",
    "\n",
    "    def crossover_onepoint(self, other):\n",
    "        \"Retorna dos nuevos individuos del cruzamiento de un punto entre individuos self y other \"\n",
    "        c = randrange(len(self.chromosome))\n",
    "        ind1 = Individual(self.chromosome[:c] + other.chromosome[c:],self.maxMark)\n",
    "        ind2 = Individual(other.chromosome[:c] + self.chromosome[c:],self.maxMark)\n",
    "        ind1,ind2=self.__verify([ind1,ind2])\n",
    "        return [ind1, ind2]   \n",
    "    \n",
    "    def crossover_uniform(self, other):\n",
    "        chromosome1 = []\n",
    "        chromosome2 = []\n",
    "        \"Retorna dos nuevos individuos del cruzamiento uniforme entre self y other \"\n",
    "        for i in range(len(self.chromosome)):\n",
    "            if uniform(0, 1) < 0.5:\n",
    "                chromosome1.append(self.chromosome[i])\n",
    "                chromosome2.append(other.chromosome[i])\n",
    "            else:\n",
    "                chromosome1.append(other.chromosome[i])\n",
    "                chromosome2.append(self.chromosome[i])\n",
    "        ind1 = Individual(chromosome1,self.maxMark)\n",
    "        ind2 = Individual(chromosome2,self.maxMark)\n",
    "        ind1,ind2=self.__verify([ind1,ind2])\n",
    "        return [ind1, ind2] \n",
    "    \n",
    "    \n",
    "    def mutation_flip(self):\n",
    "        \"Cambia aleatoriamente el alelo de un gen. Se tiene en consideración la cantidad máxima de markets que debe contar una posible solución.\"\n",
    "        new_chromosome = deepcopy(self.chromosome)\n",
    "        mutGene = randrange(0,len(new_chromosome))   # escoge un gen para mutar\n",
    "        if new_chromosome[mutGene] == 0:\n",
    "            #Cambiaremos un cero a un uno, por lo que habrá un uno mas, por lo que se deberá cambiar otro uno a cero\n",
    "            index_unos=[i for i in range(len(new_chromosome)) if new_chromosome[i] == 1]\n",
    "            index_uno=sample(index_unos,1) #Obtenemos un index de todos los unos para cambiarlo a cero\n",
    "            new_chromosome[mutGene] = 1 #Cambiamos a uno un cero\n",
    "            new_chromosome[index_uno[0]]=0 #Cambiamos a cero un uno\n",
    "        else:\n",
    "            index_ceros=[i for i in range(len(new_chromosome)) if new_chromosome[i] == 0]\n",
    "            index_cero=sample(index_ceros,1) #Obtenemos un index de todos los unos para cambiarlo a cero\n",
    "            new_chromosome[mutGene] = 0 #Compensamos\n",
    "            new_chromosome[index_cero[0]]=1 #Cambiamos a uno un cero\n",
    "            \n",
    "        return Individual(new_chromosome,self.maxMark)\n",
    "        \n",
    "    \n",
    "    def __verify(self,individuos):\n",
    "        \"\"\"Funcion para forzar que existan la cantidad máxima de markets(unos) dentro del cromosoma.\n",
    "        \"\"\"\n",
    "        resultado=[]\n",
    "        for ind in individuos:\n",
    "            cant_unos=ind.chromosome.count(1)\n",
    "            index_unos=[i for i in range(len(ind.chromosome)) if ind.chromosome[i] == 1] #Obtenemos los index de los unos dentro del cromosoma\n",
    "            if cant_unos >self.maxMark: #Verificando si el individuo tiene la cantidad maxima de markets(unos) aceptables \n",
    "                index_unos2chg=sample(index_unos,cant_unos - self.maxMark)# Obtenemos los index que cambiaremos a cero porque se pasó del máximo\n",
    "                for index in index_unos2chg:\n",
    "                    ind.chromosome[index]=0\n",
    "            elif cant_unos < self.maxMark: #Si el individuo tiene menos de la cantidad máxima \n",
    "                index_unos2chg=set(range(len(ind.chromosome))) - set(index_unos) #Quitamos los index en los cuales se encuentran los unos\n",
    "                random_index=sample(index_unos2chg,self.maxMark - cant_unos) #Generamos index aletorios para completar a la cantidad máxima\n",
    "                for index in random_index:\n",
    "                    ind.chromosome[index]=1\n",
    "            resultado.append(ind)\n",
    "        return resultado\n"
   ]
  },
  {
   "cell_type": "markdown",
   "metadata": {
    "colab_type": "text",
    "id": "78ubdtuma3Ep"
   },
   "source": [
    "**f) Función para obtener el fitness del cromosoma**"
   ]
  },
  {
   "cell_type": "markdown",
   "metadata": {
    "colab_type": "text",
    "id": "j8SixwRla3Eq"
   },
   "source": [
    "Haciendo uso del diccionario hallado previamente."
   ]
  },
  {
   "cell_type": "code",
   "execution_count": 14,
   "metadata": {
    "colab": {},
    "colab_type": "code",
    "id": "watZ9cQfa3Eq"
   },
   "outputs": [],
   "source": [
    "def get_fitness_lista(chromosome, markets):\n",
    "    \"\"\"Retorna el fitness del cromosoma pasado. Fitness es el valor total de los markets incluidos en el cromosoma\n",
    "        \"\"\"\n",
    "    fitness=0\n",
    "    markets_elegidos=[]\n",
    "    sum_pob=0\n",
    "    sum_dist=0\n",
    "    for i in range(len(markets)):\n",
    "        if chromosome[i] == 1:  # si el market i esta incluido en el cromosoma, acumula su poblacion y distancia\n",
    "            sum_pob += markets[i].pob\n",
    "            markets_elegidos.append(i)\n",
    "            \n",
    "    for j in markets_elegidos:\n",
    "        for k in markets_elegidos[j+1:]:\n",
    "            sum_dist=sum_dist+lista_total_distancias[(j,k)] # Hacemos uso del diccionario calculado previamente, sin escalamiento\n",
    "            #sum_dist=sum_dist+lista_total_distancias_escalado[(j,k)]#diccionario con las distancias escaladas\n",
    "    \n",
    "    return [sum_pob,sum_dist] #Se enviará de esta manera y se obtendrá las sumas por separado para la experimentación y registro de estos experimentos"
   ]
  },
  {
   "cell_type": "markdown",
   "metadata": {
    "colab_type": "text",
    "id": "rxovJvC_a3Es"
   },
   "source": [
    "Calculando las distancias en cada instante"
   ]
  },
  {
   "cell_type": "code",
   "execution_count": 15,
   "metadata": {
    "colab": {},
    "colab_type": "code",
    "id": "OqUFXlAEa3Et"
   },
   "outputs": [],
   "source": [
    "def get_fitness(chromosome, markets):\n",
    "    \"\"\"Retorna el fitness del cromosoma pasado. Fitness es el valor total de los markets incluidos en el cromosoma\n",
    "        \"\"\"\n",
    "    fitness = 0 # initialize fitness to 0\n",
    "    lista_distancias=[]\n",
    "    sum_pob=0\n",
    "    sum_dist=0\n",
    "    for i in range(len(markets)):\n",
    "        if chromosome[i] == 1:  # si el market i esta incluido en el cromosoma, acumula su poblacion y distancia\n",
    "            sum_pob += markets[i].pob\n",
    "            lista_distancias.append((markets[i].lat,markets[i].lon))\n",
    "            \n",
    "    radio_tierra=6378 #radio ecuatorial\n",
    "    for i in range(len(lista_distancias)):\n",
    "        for j in lista_distancias[i+1:]:\n",
    "            dif_lat=j[0] - lista_distancias[i][0] #Hallamos la diferencia de latitud\n",
    "            dif_lon=j[1] - lista_distancias[i][1] #Hallamos la diferencia de longitud\n",
    "            a=pow(math.sin(dif_lat/2),2)+(math.cos(lista_distancias[i][0])*(math.cos(j[0])))*pow(math.sin(dif_lon/2),2)\n",
    "            c=2*math.asin(min(1,math.sqrt(a)))\n",
    "            sum_dist+=radio_tierra * c \n",
    "    fitness=sum_pob + sum_dist\n",
    "    \n",
    "    return fitness"
   ]
  },
  {
   "cell_type": "markdown",
   "metadata": {
    "colab_type": "text",
    "id": "ME-FTXF2a3Ev"
   },
   "source": [
    "**g) Funcion para evaluar una población de individuos**"
   ]
  },
  {
   "cell_type": "code",
   "execution_count": 16,
   "metadata": {
    "colab": {},
    "colab_type": "code",
    "id": "tP-BMpHCa3Ev"
   },
   "outputs": [],
   "source": [
    "def evaluate_population(population, markets):\n",
    "    \"\"\" Evalua una poblacion de individuos con la funcion get_fitness \"\"\"\n",
    "    pop_size = len(population)\n",
    "    for i in range(pop_size):\n",
    "        if population[i].fitness == -1:    # evalua solo si el individuo no esta evaluado\n",
    "            #Se puede hacer uso de las dos funciones para obtener los fitness\n",
    "            #population[i].fitness = get_fitness(population[i].chromosome, markets)\n",
    "            population[i].fitness = sum(get_fitness_lista(population[i].chromosome, markets))"
   ]
  },
  {
   "cell_type": "markdown",
   "metadata": {
    "colab_type": "text",
    "id": "fySRXQq5a3Ey"
   },
   "source": [
    "**h) Funcion para inicializar aleatoriamente una población de individuos**"
   ]
  },
  {
   "cell_type": "code",
   "execution_count": 17,
   "metadata": {
    "colab": {},
    "colab_type": "code",
    "id": "x32setS5a3Ez"
   },
   "outputs": [],
   "source": [
    "def init_population(pop_size, chromosome_size=60,maxMark=10):\n",
    "    \"\"\"Inicializa una poblacion de pop_size individuos, cada cromosoma de individuo de tamaño chromosome_size.\n",
    "       \"\"\"\n",
    "    population = []\n",
    "    for i in range(pop_size):\n",
    "        index_unos=sample(range(chromosome_size),maxMark)\n",
    "        new_chromosome=[0 if i not in index_unos else 1 for i in range(chromosome_size)]\n",
    "        population.append( Individual(new_chromosome,maxMark))\n",
    "    return population"
   ]
  },
  {
   "cell_type": "markdown",
   "metadata": {
    "colab_type": "text",
    "id": "mcrDShRza3E2"
   },
   "source": [
    "**i) Funciones para escoger individuos aleatoriamente para el cruzamiento**"
   ]
  },
  {
   "cell_type": "markdown",
   "metadata": {
    "colab_type": "text",
    "id": "OkIWEFCfa3E2"
   },
   "source": [
    "Seleccion por ruleta"
   ]
  },
  {
   "cell_type": "code",
   "execution_count": 18,
   "metadata": {
    "colab": {},
    "colab_type": "code",
    "id": "ETbeqKTCa3E3"
   },
   "outputs": [],
   "source": [
    "def select_parents_roulette(population):\n",
    "    pop_size = len(population)\n",
    "    \n",
    "    # Escoje el primer padre\n",
    "    sumfitness = sum([indiv.fitness for indiv in population])  # suma total del fitness de la poblacion\n",
    "    pickfitness = uniform(0, sumfitness)   # escoge un numero aleatorio entre 0 y sumfitness\n",
    "    cumfitness = 0     # fitness acumulado\n",
    "    for i in range(pop_size):\n",
    "        cumfitness += population[i].fitness\n",
    "        if cumfitness > pickfitness: \n",
    "            iParent1 = i\n",
    "            break\n",
    "    \n",
    "    # Escoje el segundo padre, desconsiderando el primer padre\n",
    "    sumfitness = sumfitness - population[iParent1].fitness # retira el fitness del padre ya escogido\n",
    "    pickfitness = uniform(0, sumfitness)   # escoge un numero aleatorio entre 0 y sumfitness\n",
    "    cumfitness = 0     # fitness acumulado\n",
    "    for i in range(pop_size):\n",
    "        if i == iParent1: continue   # si es el primer padre \n",
    "        cumfitness += population[i].fitness\n",
    "        if cumfitness > pickfitness: \n",
    "            iParent2 = i\n",
    "            break        \n",
    "    return (population[iParent1], population[iParent2])"
   ]
  },
  {
   "cell_type": "markdown",
   "metadata": {
    "colab_type": "text",
    "id": "5K286IPra3E5"
   },
   "source": [
    "Seleccion por Stochastic universal sampling"
   ]
  },
  {
   "cell_type": "code",
   "execution_count": 19,
   "metadata": {
    "colab": {},
    "colab_type": "code",
    "id": "6Uufcjaca3E6"
   },
   "outputs": [],
   "source": [
    "def sus(poblacion,num_padres):\n",
    "    poblacion_local=poblacion[:]\n",
    "    padres=[]\n",
    "    fitness_total=sum([chromosome.fitness for chromosome in poblacion_local])\n",
    "    agujas=np.linspace(0,fitness_total,num_padres+1)\n",
    "    r_aleatorios=[int(uniform(agujas[i],agujas[i+1])) for i in range(len(agujas)-1)]\n",
    "    for r in r_aleatorios:\n",
    "        fitness_acumulado=0\n",
    "        for chromosome in poblacion_local:\n",
    "            fitness_acumulado+=chromosome.fitness\n",
    "            if fitness_acumulado >= r:\n",
    "                padres.append(chromosome)\n",
    "                break\n",
    "                \n",
    "    return padres"
   ]
  },
  {
   "cell_type": "markdown",
   "metadata": {
    "colab_type": "text",
    "id": "nwFQ2zoVa3E9"
   },
   "source": [
    "**j) Funcion que selecciona la poblacion de la sgte generacion, dada la poblacion actual y poblacion de hijos**"
   ]
  },
  {
   "cell_type": "code",
   "execution_count": 20,
   "metadata": {
    "colab": {},
    "colab_type": "code",
    "id": "0H0ZYk-5a3E9"
   },
   "outputs": [],
   "source": [
    "def select_survivors(population, offspring_population, numsurvivors):\n",
    "    next_population = []\n",
    "    population.extend(offspring_population) # une las dos poblaciones\n",
    "    isurvivors = sorted(range(len(population)), key=lambda i: population[i].fitness, reverse=True)[:numsurvivors]\n",
    "    for i in range(numsurvivors):\n",
    "        next_population.append(population[isurvivors[i]])\n",
    "    return next_population"
   ]
  },
  {
   "cell_type": "markdown",
   "metadata": {
    "colab_type": "text",
    "id": "9qSb-4UPa3E_"
   },
   "source": [
    "**k) Algoritmo Genetico para encontrar soluciones**"
   ]
  },
  {
   "cell_type": "code",
   "execution_count": 21,
   "metadata": {
    "colab": {},
    "colab_type": "code",
    "id": "dzZgJstDa3FA"
   },
   "outputs": [],
   "source": [
    "def genetic_algorithm(population, markets, ngen=100, pmut=0.1, crossover=\"onepoint\", mutation=\"flip\",select='roulette'):\n",
    "    \"\"\"Algoritmo Genetico para el problema de la mochila\n",
    "        markets:      pool de markets a escoger. Debe ser una lista de objetos de clase Market\n",
    "        ngen:       maximo numero de generaciones \n",
    "        pmut:       tasa de mutacion\n",
    "        crossover:  operador de cruzamiento\n",
    "        mutation:   operador de mutacion\n",
    "    \"\"\"\n",
    "    history_population = []\n",
    "\n",
    "    pop_size = len(population)\n",
    "    evaluate_population(population, markets)  # evalua la poblacion inicial\n",
    "    ibest = sorted(range(len(population)), key=lambda i: population[i].fitness, reverse=True)[:1]  # mejor individuo\n",
    "    bestfitness = [population[ibest[0]].fitness]  # fitness del mejor individuo\n",
    "    print(\"Poblacion inicial, best_fitness = {}\".format(population[ibest[0]].fitness))\n",
    "\n",
    "    for g in range(ngen):   # Por cada generacion\n",
    "\n",
    "        ## Selecciona parejas de individuos (mating_pool) para cruzamiento con el metodo de la ruleta\n",
    "        mating_pool = []\n",
    "        if select == 'roulette':\n",
    "            for i in range(int(pop_size/2)): mating_pool.append(select_parents_roulette(population)) \n",
    "        elif select == 'sus':\n",
    "            for i in range(int(pop_size/2)): mating_pool.append(sus(population,2)) \n",
    "\n",
    "        ## Crea la poblacion descendencia cruzando las parejas del mating pool \n",
    "        offspring_population = []\n",
    "        for i in range(len(mating_pool)): \n",
    "            if crossover == \"onepoint\":\n",
    "                offspring_population.extend( mating_pool[i][0].crossover_onepoint(mating_pool[i][1]) ) # cruzamiento 1 punto\n",
    "            elif crossover == \"uniform\":\n",
    "                offspring_population.extend( mating_pool[i][0].crossover_uniform(mating_pool[i][1]) ) # cruzamiento uniforme\n",
    "            else:\n",
    "                raise NotImplementedError\n",
    "\n",
    "        ## Aplica el operador de mutacion con probabilidad pmut en cada hijo generado\n",
    "        for i in range(len(offspring_population)):\n",
    "            if uniform(0, 1) < pmut: \n",
    "                if mutation == \"flip\":\n",
    "                    offspring_population[i] = offspring_population[i].mutation_flip() # cambia el alelo de un gen\n",
    "                else:\n",
    "                    raise NotImplementedError   \n",
    "\n",
    "        ## Evalua la poblacion descendencia creada\n",
    "        evaluate_population(offspring_population, markets)   # evalua la poblacion descendencia\n",
    "\n",
    "        ## Selecciona pop_size individuos para la sgte. generación de la union de la pob. actual y  pob. descendencia\n",
    "        population = select_survivors(population, offspring_population, pop_size)\n",
    "\n",
    "        ## Almacena la historia del fitness del mejor individuo\n",
    "        ibest = sorted(range(len(population)), key=lambda i: population[i].fitness, reverse=True)[:1]\n",
    "        bestfitness.append(population[ibest[0]].fitness)\n",
    "        history_population.append(population[ibest[0]].chromosome) # Agregando el historial de mejores cromosomas\n",
    "\n",
    "        if (g % 10 == 0):  # muestra resultados cada 10 generaciones\n",
    "            print(\"generacion {}, Mejor fitness = {})\".format(g, population[ibest[0]].fitness))\n",
    "\n",
    "    print(\"Mejor individuo en la ultima generacion = {} (fitness = {})\".format(population[ibest[0]].chromosome, population[ibest[0]].fitness))\n",
    "    return population[ibest[0]], bestfitness, history_population  # devuelve el mejor individuo y la lista de mejores fitness x gen"
   ]
  },
  {
   "cell_type": "markdown",
   "metadata": {
    "colab_type": "text",
    "id": "GMkqclRoa3FF"
   },
   "source": [
    "**l) Creación del marketpool**"
   ]
  },
  {
   "cell_type": "code",
   "execution_count": 22,
   "metadata": {
    "colab": {},
    "colab_type": "code",
    "id": "qYCE58Moa3FH"
   },
   "outputs": [],
   "source": [
    "marketPool=[]\n",
    "for i in range(len(dataset)):\n",
    "    ID=dataset.iloc[i].ID\n",
    "    descp=dataset.iloc[i].Descripcion\n",
    "    lat=dataset.iloc[i].Latitud\n",
    "    lon=dataset.iloc[i].Longitud\n",
    "    pob=dataset.iloc[i].Poblacion500m\n",
    "    #pob=dataset.iloc[i].poblacion_escalado #hace uso de la poblacion escalada\n",
    "    marketPool.append(Market(ID,descp,pob,lat,lon))"
   ]
  },
  {
   "cell_type": "code",
   "execution_count": 23,
   "metadata": {
    "colab": {
     "base_uri": "https://localhost:8080/",
     "height": 34
    },
    "colab_type": "code",
    "id": "OAGnumAsa3FL",
    "outputId": "265c77f7-98fa-49b6-bc2b-ebe95d5aeb59"
   },
   "outputs": [
    {
     "data": {
      "text/plain": [
       "16500"
      ]
     },
     "execution_count": 23,
     "metadata": {},
     "output_type": "execute_result"
    }
   ],
   "source": [
    "marketPool[0].pob"
   ]
  },
  {
   "cell_type": "markdown",
   "metadata": {
    "colab_type": "text",
    "id": "hk6czvala3FN"
   },
   "source": [
    "**m) Ejecución del algoritmo**"
   ]
  },
  {
   "cell_type": "code",
   "execution_count": 24,
   "metadata": {
    "colab": {
     "base_uri": "https://localhost:8080/",
     "height": 1000
    },
    "colab_type": "code",
    "id": "KKsw4Dnza3FO",
    "outputId": "2ef92b74-1692-4aae-8388-0b46f28aa12e"
   },
   "outputs": [
    {
     "name": "stdout",
     "output_type": "stream",
     "text": [
      "Poblacion inicial, best_fitness = 173467.96875093944\n",
      "generacion 0, Mejor fitness = 173467.96875093944)\n",
      "generacion 10, Mejor fitness = 187928.30591556322)\n",
      "generacion 20, Mejor fitness = 191341.61701523134)\n",
      "generacion 30, Mejor fitness = 192538.85899320163)\n",
      "generacion 40, Mejor fitness = 192701.26666216095)\n",
      "generacion 50, Mejor fitness = 193202.93798991878)\n",
      "generacion 60, Mejor fitness = 193202.93798991878)\n",
      "generacion 70, Mejor fitness = 193409.90950866626)\n",
      "generacion 80, Mejor fitness = 193409.90950866626)\n",
      "generacion 90, Mejor fitness = 193409.90950866626)\n",
      "generacion 100, Mejor fitness = 193409.90950866626)\n",
      "generacion 110, Mejor fitness = 193409.90950866626)\n",
      "generacion 120, Mejor fitness = 193409.90950866626)\n",
      "generacion 130, Mejor fitness = 193409.90950866626)\n",
      "generacion 140, Mejor fitness = 193409.90950866626)\n",
      "generacion 150, Mejor fitness = 193409.90950866626)\n",
      "generacion 160, Mejor fitness = 193409.90950866626)\n",
      "generacion 170, Mejor fitness = 193409.90950866626)\n",
      "generacion 180, Mejor fitness = 193409.90950866626)\n",
      "generacion 190, Mejor fitness = 193409.90950866626)\n",
      "generacion 200, Mejor fitness = 193409.90950866626)\n",
      "generacion 210, Mejor fitness = 193409.90950866626)\n",
      "generacion 220, Mejor fitness = 193409.90950866626)\n",
      "generacion 230, Mejor fitness = 193409.90950866626)\n",
      "generacion 240, Mejor fitness = 193409.90950866626)\n",
      "generacion 250, Mejor fitness = 193409.90950866626)\n",
      "generacion 260, Mejor fitness = 193409.90950866626)\n",
      "generacion 270, Mejor fitness = 193409.90950866626)\n",
      "generacion 280, Mejor fitness = 193409.90950866626)\n",
      "generacion 290, Mejor fitness = 193409.90950866626)\n",
      "generacion 300, Mejor fitness = 193409.90950866626)\n",
      "generacion 310, Mejor fitness = 193409.90950866626)\n",
      "generacion 320, Mejor fitness = 193409.90950866626)\n",
      "generacion 330, Mejor fitness = 193409.90950866626)\n",
      "generacion 340, Mejor fitness = 193409.90950866626)\n",
      "generacion 350, Mejor fitness = 193409.90950866626)\n",
      "generacion 360, Mejor fitness = 193409.90950866626)\n",
      "generacion 370, Mejor fitness = 193409.90950866626)\n",
      "generacion 380, Mejor fitness = 193409.90950866626)\n",
      "generacion 390, Mejor fitness = 193409.90950866626)\n",
      "generacion 400, Mejor fitness = 193409.90950866626)\n",
      "generacion 410, Mejor fitness = 193409.90950866626)\n",
      "generacion 420, Mejor fitness = 193409.90950866626)\n",
      "generacion 430, Mejor fitness = 193409.90950866626)\n",
      "generacion 440, Mejor fitness = 193409.90950866626)\n",
      "generacion 450, Mejor fitness = 193409.90950866626)\n",
      "generacion 460, Mejor fitness = 193409.90950866626)\n",
      "generacion 470, Mejor fitness = 193409.90950866626)\n",
      "generacion 480, Mejor fitness = 193409.90950866626)\n",
      "generacion 490, Mejor fitness = 193409.90950866626)\n",
      "Mejor individuo en la ultima generacion = [1, 1, 1, 0, 0, 0, 0, 0, 0, 0, 0, 0, 0, 0, 0, 0, 0, 0, 0, 0, 0, 0, 0, 0, 0, 0, 0, 0, 0, 0, 0, 0, 0, 0, 0, 0, 0, 0, 0, 0, 0, 0, 0, 0, 0, 0, 0, 0, 1, 1, 1, 0, 0, 0, 0, 1, 1, 0, 1, 1] (fitness = 193409.90950866626)\n"
     ]
    },
    {
     "data": {
      "image/png": "[encoded data removed]",
      "text/plain": [
       "<Figure size 432x288 with 1 Axes>"
      ]
     },
     "metadata": {
      "needs_background": "light"
     },
     "output_type": "display_data"
    }
   ],
   "source": [
    "## Hiperparametros del algoritmo genetico\n",
    "POP_SIZE = 100       # numero de individuos\n",
    "GENERATIONS = 500   # numero de generaciones\n",
    "PMUT = 1       # tasa de mutacion\n",
    "\n",
    "## Inicializa una poblacion inicial de forma aleatoria\n",
    "population = init_population(POP_SIZE,maxMark=10)\n",
    "\n",
    "# Evolue la poblacion con el algoritmo genetico (cruzamiento 'onepoint', )\n",
    "best_ind, bestfitness, history_population = genetic_algorithm(population, marketPool, GENERATIONS, PMUT, crossover=\"uniform\", mutation=\"flip\",select='roulette')\n",
    "\n",
    "# muestra la evolucion del mejor fitness\n",
    "plt.plot(bestfitness)\n",
    "plt.show()"
   ]
  },
  {
   "cell_type": "markdown",
   "metadata": {
    "colab_type": "text",
    "id": "11axIFh-go31"
   },
   "source": [
    "Solución de manera gráfica"
   ]
  },
  {
   "cell_type": "code",
   "execution_count": 25,
   "metadata": {},
   "outputs": [
    {
     "data": {
      "text/html": [
       "<div style=\"width:100%;\"><div style=\"position:relative;width:100%;height:0;padding-bottom:60%;\"><iframe src=\"data:text/html;charset=utf-8;base64,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\" style=\"position:absolute;width:100%;height:100%;left:0;top:0;border:none !important;\" allowfullscreen webkitallowfullscreen mozallowfullscreen></iframe></div></div>"
      ],
      "text/plain": [
       "<folium.folium.Map at 0x7fb44d22f4d0>"
      ]
     },
     "execution_count": 25,
     "metadata": {},
     "output_type": "execute_result"
    }
   ],
   "source": [
    "m = folium.Map(\n",
    "    location=[-12.0431805, -77.0282364], zoom_start=13, zoomControl= True, min_zoom=13, max_zoom=13)\n",
    "\n",
    "[(folium.Marker([marketPool[i].lat, marketPool[i].lon], icon=folium.Icon(color='blue')).add_to(m)) for i in range(len(best_ind.chromosome)) if best_ind.chromosome[i]==1]\n",
    "[(folium.Marker([marketPool[i].lat, marketPool[i].lon], icon=folium.Icon(color='red')).add_to(m)) for i in range(len(best_ind.chromosome)) if best_ind.chromosome[i]==0]\n",
    "points = [(marketPool[i].lat, marketPool[i].lon) for i in range(len(best_ind.chromosome)) if best_ind.chromosome[i]==1]\n",
    "points.append(points[0])\n",
    "folium.PolyLine(points, color=\"red\", weight=2.5, opacity=1).add_to(m)\n",
    "\n",
    "m"
   ]
  },
  {
   "cell_type": "code",
   "execution_count": 26,
   "metadata": {
    "colab": {},
    "colab_type": "code",
    "id": "v5n0wOEHhiG5"
   },
   "outputs": [],
   "source": [
    "today = datetime.datetime.now()\n",
    "\n",
    "def create_geojson_features(df):\n",
    "    print('> Creating GeoJSON features...')\n",
    "    history = []\n",
    "    for index, row in enumerate(df):\n",
    "      itemHistory = []\n",
    "      for chromo in range(len(best_ind.chromosome)):\n",
    "        feature = {\n",
    "            'type': 'Feature',\n",
    "            'geometry': {\n",
    "                'type':'Point', \n",
    "                'coordinates':[marketPool[chromo].lon, marketPool[chromo].lat]\n",
    "            },\n",
    "            'properties': {\n",
    "                'time': (today + timedelta(days=index)).__str__(),\n",
    "                'style': {'color' : 'blue' if row[chromo] == 1 else 'red' },\n",
    "                'icon': 'circle',\n",
    "                'iconstyle':{\n",
    "                    'fillColor': {'color' : 'blue' if row[chromo] == 1 else 'red' },\n",
    "                    'fillOpacity': 0.8,\n",
    "                    'stroke': 'true',\n",
    "                    'radius': 7\n",
    "                }\n",
    "            }\n",
    "        }\n",
    "        itemHistory.append(feature)\n",
    "      history.append(itemHistory)\n",
    "    return history"
   ]
  },
  {
   "cell_type": "code",
   "execution_count": 27,
   "metadata": {
    "colab": {},
    "colab_type": "code",
    "id": "WrNyQHUkh0qi"
   },
   "outputs": [],
   "source": [
    "def make_map(features):\n",
    "    print('> Making map...')\n",
    "    coords_lima=[-12.0431805, -77.0282364]\n",
    "    mapLima = folium.Map(location=coords_lima, zoom_start=13, zoomControl= False, min_zoom=13, max_zoom=13, control_scale=True)\n",
    "\n",
    "    TimestampedGeoJson(\n",
    "        {'type': 'FeatureCollection',\n",
    "        'features': np.array(features).flatten().tolist()}\n",
    "        , add_last_point=True\n",
    "        , auto_play=False\n",
    "        , loop=False\n",
    "        , max_speed=1\n",
    "        , loop_button=True\n",
    "        , date_options='DD'\n",
    "        , time_slider_drag_update=True\n",
    "    ).add_to(mapLima)\n",
    "    \n",
    "    print('> Done.')\n",
    "    return mapLima\n",
    "def plot_solution_map(df):\n",
    "    features = create_geojson_features(df)\n",
    "    return make_map(features)"
   ]
  },
  {
   "cell_type": "markdown",
   "metadata": {
    "colab_type": "text",
    "id": "K_6NeU90wjgK"
   },
   "source": [
    "Para revisar la solución de manera mas dinánica se puede ir al archivo **html** generado con nombre **monoSolution.html**"
   ]
  },
  {
   "cell_type": "code",
   "execution_count": 28,
   "metadata": {
    "colab": {
     "base_uri": "https://localhost:8080/",
     "height": 68
    },
    "colab_type": "code",
    "id": "J1qerf2biPRy",
    "outputId": "00376e29-78ff-43b6-9a62-8e181e3a76ce"
   },
   "outputs": [
    {
     "name": "stdout",
     "output_type": "stream",
     "text": [
      "> Creating GeoJSON features...\n",
      "> Making map...\n",
      "> Done.\n"
     ]
    }
   ],
   "source": [
    "solutionOverTime = plot_solution_map(history_population)\n",
    "solutionOverTime.save('monoSolution.html')"
   ]
  },
  {
   "cell_type": "markdown",
   "metadata": {
    "colab_type": "text",
    "id": "49xmrW2aa3FS"
   },
   "source": [
    "**n) Experimentación con el algoritmo**"
   ]
  },
  {
   "cell_type": "markdown",
   "metadata": {
    "colab_type": "text",
    "id": "J-aTlO_ya3FT"
   },
   "source": [
    "Experimente varias veces el\n",
    "algoritmo implementado con una población de 100 individuos y 500 generaciones (se\n",
    "sugiere ejecutar 10 veces) y registre en una tabla los mejores individuos de cada ejecución,\n",
    "sus fitness y los componentes del fitness desagregados (suma de distancias y suma de\n",
    "población)."
   ]
  },
  {
   "cell_type": "code",
   "execution_count": 29,
   "metadata": {
    "colab": {
     "base_uri": "https://localhost:8080/",
     "height": 1000
    },
    "colab_type": "code",
    "collapsed": true,
    "id": "oS-Vo6baa3FV",
    "jupyter": {
     "outputs_hidden": true
    },
    "outputId": "fe0eeaa1-281c-4582-b596-e59818618322"
   },
   "outputs": [
    {
     "name": "stdout",
     "output_type": "stream",
     "text": [
      "Poblacion inicial, best_fitness = 177066.5058473939\n",
      "generacion 0, Mejor fitness = 179646.15278547947)\n",
      "generacion 10, Mejor fitness = 190386.63781542802)\n",
      "generacion 20, Mejor fitness = 193353.41645631232)\n",
      "generacion 30, Mejor fitness = 193409.90950866626)\n",
      "generacion 40, Mejor fitness = 193409.90950866626)\n",
      "generacion 50, Mejor fitness = 193409.90950866626)\n",
      "generacion 60, Mejor fitness = 193409.90950866626)\n",
      "generacion 70, Mejor fitness = 193409.90950866626)\n",
      "generacion 80, Mejor fitness = 193409.90950866626)\n",
      "generacion 90, Mejor fitness = 193409.90950866626)\n",
      "generacion 100, Mejor fitness = 193409.90950866626)\n",
      "generacion 110, Mejor fitness = 193409.90950866626)\n",
      "generacion 120, Mejor fitness = 193409.90950866626)\n",
      "generacion 130, Mejor fitness = 193409.90950866626)\n",
      "generacion 140, Mejor fitness = 193409.90950866626)\n",
      "generacion 150, Mejor fitness = 193409.90950866626)\n",
      "generacion 160, Mejor fitness = 193409.90950866626)\n",
      "generacion 170, Mejor fitness = 193409.90950866626)\n",
      "generacion 180, Mejor fitness = 193409.90950866626)\n",
      "generacion 190, Mejor fitness = 193409.90950866626)\n",
      "generacion 200, Mejor fitness = 193409.90950866626)\n",
      "generacion 210, Mejor fitness = 193409.90950866626)\n",
      "generacion 220, Mejor fitness = 193409.90950866626)\n",
      "generacion 230, Mejor fitness = 193409.90950866626)\n",
      "generacion 240, Mejor fitness = 193409.90950866626)\n",
      "generacion 250, Mejor fitness = 193409.90950866626)\n",
      "generacion 260, Mejor fitness = 193409.90950866626)\n",
      "generacion 270, Mejor fitness = 193409.90950866626)\n",
      "generacion 280, Mejor fitness = 193409.90950866626)\n",
      "generacion 290, Mejor fitness = 193409.90950866626)\n",
      "generacion 300, Mejor fitness = 193409.90950866626)\n",
      "generacion 310, Mejor fitness = 193409.90950866626)\n",
      "generacion 320, Mejor fitness = 193409.90950866626)\n",
      "generacion 330, Mejor fitness = 193409.90950866626)\n",
      "generacion 340, Mejor fitness = 193409.90950866626)\n",
      "generacion 350, Mejor fitness = 193409.90950866626)\n",
      "generacion 360, Mejor fitness = 193409.90950866626)\n",
      "generacion 370, Mejor fitness = 193409.90950866626)\n",
      "generacion 380, Mejor fitness = 193409.90950866626)\n",
      "generacion 390, Mejor fitness = 193409.90950866626)\n",
      "generacion 400, Mejor fitness = 193409.90950866626)\n",
      "generacion 410, Mejor fitness = 193409.90950866626)\n",
      "generacion 420, Mejor fitness = 193409.90950866626)\n",
      "generacion 430, Mejor fitness = 193409.90950866626)\n",
      "generacion 440, Mejor fitness = 193409.90950866626)\n",
      "generacion 450, Mejor fitness = 193409.90950866626)\n",
      "generacion 460, Mejor fitness = 193409.90950866626)\n",
      "generacion 470, Mejor fitness = 193409.90950866626)\n",
      "generacion 480, Mejor fitness = 193409.90950866626)\n",
      "generacion 490, Mejor fitness = 193409.90950866626)\n",
      "Mejor individuo en la ultima generacion = [1, 1, 1, 0, 0, 0, 0, 0, 0, 0, 0, 0, 0, 0, 0, 0, 0, 0, 0, 0, 0, 0, 0, 0, 0, 0, 0, 0, 0, 0, 0, 0, 0, 0, 0, 0, 0, 0, 0, 0, 0, 0, 0, 0, 0, 0, 0, 0, 1, 1, 1, 0, 0, 0, 0, 1, 1, 0, 1, 1] (fitness = 193409.90950866626)\n",
      "Poblacion inicial, best_fitness = 176347.6560988959\n",
      "generacion 0, Mejor fitness = 176347.6560988959)\n",
      "generacion 10, Mejor fitness = 191093.0150335767)\n",
      "generacion 20, Mejor fitness = 193353.41645631232)\n",
      "generacion 30, Mejor fitness = 193409.90950866626)\n",
      "generacion 40, Mejor fitness = 193409.90950866626)\n",
      "generacion 50, Mejor fitness = 193409.90950866626)\n",
      "generacion 60, Mejor fitness = 193409.90950866626)\n",
      "generacion 70, Mejor fitness = 193409.90950866626)\n",
      "generacion 80, Mejor fitness = 193409.90950866626)\n",
      "generacion 90, Mejor fitness = 193409.90950866626)\n",
      "generacion 100, Mejor fitness = 193409.90950866626)\n",
      "generacion 110, Mejor fitness = 193409.90950866626)\n",
      "generacion 120, Mejor fitness = 193409.90950866626)\n",
      "generacion 130, Mejor fitness = 193409.90950866626)\n",
      "generacion 140, Mejor fitness = 193409.90950866626)\n",
      "generacion 150, Mejor fitness = 193409.90950866626)\n",
      "generacion 160, Mejor fitness = 193409.90950866626)\n",
      "generacion 170, Mejor fitness = 193409.90950866626)\n",
      "generacion 180, Mejor fitness = 193409.90950866626)\n",
      "generacion 190, Mejor fitness = 193409.90950866626)\n",
      "generacion 200, Mejor fitness = 193409.90950866626)\n",
      "generacion 210, Mejor fitness = 193409.90950866626)\n",
      "generacion 220, Mejor fitness = 193409.90950866626)\n",
      "generacion 230, Mejor fitness = 193409.90950866626)\n",
      "generacion 240, Mejor fitness = 193409.90950866626)\n",
      "generacion 250, Mejor fitness = 193409.90950866626)\n",
      "generacion 260, Mejor fitness = 193409.90950866626)\n",
      "generacion 270, Mejor fitness = 193409.90950866626)\n",
      "generacion 280, Mejor fitness = 193409.90950866626)\n",
      "generacion 290, Mejor fitness = 193409.90950866626)\n",
      "generacion 300, Mejor fitness = 193409.90950866626)\n",
      "generacion 310, Mejor fitness = 193409.90950866626)\n",
      "generacion 320, Mejor fitness = 193409.90950866626)\n",
      "generacion 330, Mejor fitness = 193409.90950866626)\n",
      "generacion 340, Mejor fitness = 193409.90950866626)\n",
      "generacion 350, Mejor fitness = 193409.90950866626)\n",
      "generacion 360, Mejor fitness = 193409.90950866626)\n",
      "generacion 370, Mejor fitness = 193409.90950866626)\n",
      "generacion 380, Mejor fitness = 193409.90950866626)\n",
      "generacion 390, Mejor fitness = 193409.90950866626)\n",
      "generacion 400, Mejor fitness = 193409.90950866626)\n",
      "generacion 410, Mejor fitness = 193409.90950866626)\n",
      "generacion 420, Mejor fitness = 193409.90950866626)\n",
      "generacion 430, Mejor fitness = 193409.90950866626)\n",
      "generacion 440, Mejor fitness = 193409.90950866626)\n",
      "generacion 450, Mejor fitness = 193409.90950866626)\n",
      "generacion 460, Mejor fitness = 193409.90950866626)\n",
      "generacion 470, Mejor fitness = 193409.90950866626)\n",
      "generacion 480, Mejor fitness = 193409.90950866626)\n",
      "generacion 490, Mejor fitness = 193409.90950866626)\n",
      "Mejor individuo en la ultima generacion = [1, 1, 1, 0, 0, 0, 0, 0, 0, 0, 0, 0, 0, 0, 0, 0, 0, 0, 0, 0, 0, 0, 0, 0, 0, 0, 0, 0, 0, 0, 0, 0, 0, 0, 0, 0, 0, 0, 0, 0, 0, 0, 0, 0, 0, 0, 0, 0, 1, 1, 1, 0, 0, 0, 0, 1, 1, 0, 1, 1] (fitness = 193409.90950866626)\n",
      "Poblacion inicial, best_fitness = 174925.11664877433\n",
      "generacion 0, Mejor fitness = 182027.19306577827)\n",
      "generacion 10, Mejor fitness = 191682.34638220188)\n",
      "generacion 20, Mejor fitness = 193409.90950866626)\n",
      "generacion 30, Mejor fitness = 193409.90950866626)\n",
      "generacion 40, Mejor fitness = 193409.90950866626)\n",
      "generacion 50, Mejor fitness = 193409.90950866626)\n",
      "generacion 60, Mejor fitness = 193409.90950866626)\n",
      "generacion 70, Mejor fitness = 193409.90950866626)\n",
      "generacion 80, Mejor fitness = 193409.90950866626)\n",
      "generacion 90, Mejor fitness = 193409.90950866626)\n",
      "generacion 100, Mejor fitness = 193409.90950866626)\n",
      "generacion 110, Mejor fitness = 193409.90950866626)\n",
      "generacion 120, Mejor fitness = 193409.90950866626)\n",
      "generacion 130, Mejor fitness = 193409.90950866626)\n",
      "generacion 140, Mejor fitness = 193409.90950866626)\n",
      "generacion 150, Mejor fitness = 193409.90950866626)\n",
      "generacion 160, Mejor fitness = 193409.90950866626)\n",
      "generacion 170, Mejor fitness = 193409.90950866626)\n",
      "generacion 180, Mejor fitness = 193409.90950866626)\n",
      "generacion 190, Mejor fitness = 193409.90950866626)\n",
      "generacion 200, Mejor fitness = 193409.90950866626)\n",
      "generacion 210, Mejor fitness = 193409.90950866626)\n",
      "generacion 220, Mejor fitness = 193409.90950866626)\n",
      "generacion 230, Mejor fitness = 193409.90950866626)\n",
      "generacion 240, Mejor fitness = 193409.90950866626)\n",
      "generacion 250, Mejor fitness = 193409.90950866626)\n",
      "generacion 260, Mejor fitness = 193409.90950866626)\n",
      "generacion 270, Mejor fitness = 193409.90950866626)\n",
      "generacion 280, Mejor fitness = 193409.90950866626)\n",
      "generacion 290, Mejor fitness = 193409.90950866626)\n",
      "generacion 300, Mejor fitness = 193409.90950866626)\n",
      "generacion 310, Mejor fitness = 193409.90950866626)\n",
      "generacion 320, Mejor fitness = 193409.90950866626)\n",
      "generacion 330, Mejor fitness = 193409.90950866626)\n",
      "generacion 340, Mejor fitness = 193409.90950866626)\n",
      "generacion 350, Mejor fitness = 193409.90950866626)\n",
      "generacion 360, Mejor fitness = 193409.90950866626)\n",
      "generacion 370, Mejor fitness = 193409.90950866626)\n",
      "generacion 380, Mejor fitness = 193409.90950866626)\n",
      "generacion 390, Mejor fitness = 193409.90950866626)\n",
      "generacion 400, Mejor fitness = 193409.90950866626)\n",
      "generacion 410, Mejor fitness = 193409.90950866626)\n",
      "generacion 420, Mejor fitness = 193409.90950866626)\n",
      "generacion 430, Mejor fitness = 193409.90950866626)\n",
      "generacion 440, Mejor fitness = 193409.90950866626)\n",
      "generacion 450, Mejor fitness = 193409.90950866626)\n",
      "generacion 460, Mejor fitness = 193409.90950866626)\n",
      "generacion 470, Mejor fitness = 193409.90950866626)\n",
      "generacion 480, Mejor fitness = 193409.90950866626)\n",
      "generacion 490, Mejor fitness = 193409.90950866626)\n",
      "Mejor individuo en la ultima generacion = [1, 1, 1, 0, 0, 0, 0, 0, 0, 0, 0, 0, 0, 0, 0, 0, 0, 0, 0, 0, 0, 0, 0, 0, 0, 0, 0, 0, 0, 0, 0, 0, 0, 0, 0, 0, 0, 0, 0, 0, 0, 0, 0, 0, 0, 0, 0, 0, 1, 1, 1, 0, 0, 0, 0, 1, 1, 0, 1, 1] (fitness = 193409.90950866626)\n",
      "Poblacion inicial, best_fitness = 177346.78279243916\n",
      "generacion 0, Mejor fitness = 177346.78279243916)\n",
      "generacion 10, Mejor fitness = 190990.96769659498)\n",
      "generacion 20, Mejor fitness = 193353.41645631232)\n",
      "generacion 30, Mejor fitness = 193409.90950866626)\n",
      "generacion 40, Mejor fitness = 193409.90950866626)\n",
      "generacion 50, Mejor fitness = 193409.90950866626)\n",
      "generacion 60, Mejor fitness = 193409.90950866626)\n",
      "generacion 70, Mejor fitness = 193409.90950866626)\n",
      "generacion 80, Mejor fitness = 193409.90950866626)\n",
      "generacion 90, Mejor fitness = 193409.90950866626)\n",
      "generacion 100, Mejor fitness = 193409.90950866626)\n",
      "generacion 110, Mejor fitness = 193409.90950866626)\n",
      "generacion 120, Mejor fitness = 193409.90950866626)\n",
      "generacion 130, Mejor fitness = 193409.90950866626)\n",
      "generacion 140, Mejor fitness = 193409.90950866626)\n",
      "generacion 150, Mejor fitness = 193409.90950866626)\n",
      "generacion 160, Mejor fitness = 193409.90950866626)\n",
      "generacion 170, Mejor fitness = 193409.90950866626)\n",
      "generacion 180, Mejor fitness = 193409.90950866626)\n",
      "generacion 190, Mejor fitness = 193409.90950866626)\n",
      "generacion 200, Mejor fitness = 193409.90950866626)\n",
      "generacion 210, Mejor fitness = 193409.90950866626)\n",
      "generacion 220, Mejor fitness = 193409.90950866626)\n",
      "generacion 230, Mejor fitness = 193409.90950866626)\n",
      "generacion 240, Mejor fitness = 193409.90950866626)\n",
      "generacion 250, Mejor fitness = 193409.90950866626)\n",
      "generacion 260, Mejor fitness = 193409.90950866626)\n",
      "generacion 270, Mejor fitness = 193409.90950866626)\n",
      "generacion 280, Mejor fitness = 193409.90950866626)\n",
      "generacion 290, Mejor fitness = 193409.90950866626)\n",
      "generacion 300, Mejor fitness = 193409.90950866626)\n",
      "generacion 310, Mejor fitness = 193409.90950866626)\n",
      "generacion 320, Mejor fitness = 193409.90950866626)\n",
      "generacion 330, Mejor fitness = 193409.90950866626)\n",
      "generacion 340, Mejor fitness = 193409.90950866626)\n",
      "generacion 350, Mejor fitness = 193409.90950866626)\n",
      "generacion 360, Mejor fitness = 193409.90950866626)\n",
      "generacion 370, Mejor fitness = 193409.90950866626)\n",
      "generacion 380, Mejor fitness = 193409.90950866626)\n",
      "generacion 390, Mejor fitness = 193409.90950866626)\n",
      "generacion 400, Mejor fitness = 193409.90950866626)\n",
      "generacion 410, Mejor fitness = 193409.90950866626)\n",
      "generacion 420, Mejor fitness = 193409.90950866626)\n",
      "generacion 430, Mejor fitness = 193409.90950866626)\n",
      "generacion 440, Mejor fitness = 193409.90950866626)\n",
      "generacion 450, Mejor fitness = 193409.90950866626)\n",
      "generacion 460, Mejor fitness = 193409.90950866626)\n",
      "generacion 470, Mejor fitness = 193409.90950866626)\n",
      "generacion 480, Mejor fitness = 193409.90950866626)\n",
      "generacion 490, Mejor fitness = 193409.90950866626)\n",
      "Mejor individuo en la ultima generacion = [1, 1, 1, 0, 0, 0, 0, 0, 0, 0, 0, 0, 0, 0, 0, 0, 0, 0, 0, 0, 0, 0, 0, 0, 0, 0, 0, 0, 0, 0, 0, 0, 0, 0, 0, 0, 0, 0, 0, 0, 0, 0, 0, 0, 0, 0, 0, 0, 1, 1, 1, 0, 0, 0, 0, 1, 1, 0, 1, 1] (fitness = 193409.90950866626)\n",
      "Poblacion inicial, best_fitness = 177133.72480561037\n",
      "generacion 0, Mejor fitness = 178095.64322408245)\n",
      "generacion 10, Mejor fitness = 191621.30150377576)\n",
      "generacion 20, Mejor fitness = 193409.90950866626)\n",
      "generacion 30, Mejor fitness = 193409.90950866626)\n",
      "generacion 40, Mejor fitness = 193409.90950866626)\n",
      "generacion 50, Mejor fitness = 193409.90950866626)\n",
      "generacion 60, Mejor fitness = 193409.90950866626)\n",
      "generacion 70, Mejor fitness = 193409.90950866626)\n",
      "generacion 80, Mejor fitness = 193409.90950866626)\n",
      "generacion 90, Mejor fitness = 193409.90950866626)\n",
      "generacion 100, Mejor fitness = 193409.90950866626)\n",
      "generacion 110, Mejor fitness = 193409.90950866626)\n",
      "generacion 120, Mejor fitness = 193409.90950866626)\n",
      "generacion 130, Mejor fitness = 193409.90950866626)\n",
      "generacion 140, Mejor fitness = 193409.90950866626)\n",
      "generacion 150, Mejor fitness = 193409.90950866626)\n",
      "generacion 160, Mejor fitness = 193409.90950866626)\n",
      "generacion 170, Mejor fitness = 193409.90950866626)\n",
      "generacion 180, Mejor fitness = 193409.90950866626)\n",
      "generacion 190, Mejor fitness = 193409.90950866626)\n",
      "generacion 200, Mejor fitness = 193409.90950866626)\n",
      "generacion 210, Mejor fitness = 193409.90950866626)\n",
      "generacion 220, Mejor fitness = 193409.90950866626)\n",
      "generacion 230, Mejor fitness = 193409.90950866626)\n",
      "generacion 240, Mejor fitness = 193409.90950866626)\n",
      "generacion 250, Mejor fitness = 193409.90950866626)\n",
      "generacion 260, Mejor fitness = 193409.90950866626)\n",
      "generacion 270, Mejor fitness = 193409.90950866626)\n",
      "generacion 280, Mejor fitness = 193409.90950866626)\n",
      "generacion 290, Mejor fitness = 193409.90950866626)\n",
      "generacion 300, Mejor fitness = 193409.90950866626)\n",
      "generacion 310, Mejor fitness = 193409.90950866626)\n",
      "generacion 320, Mejor fitness = 193409.90950866626)\n",
      "generacion 330, Mejor fitness = 193409.90950866626)\n",
      "generacion 340, Mejor fitness = 193409.90950866626)\n",
      "generacion 350, Mejor fitness = 193409.90950866626)\n",
      "generacion 360, Mejor fitness = 193409.90950866626)\n",
      "generacion 370, Mejor fitness = 193409.90950866626)\n",
      "generacion 380, Mejor fitness = 193409.90950866626)\n",
      "generacion 390, Mejor fitness = 193409.90950866626)\n",
      "generacion 400, Mejor fitness = 193409.90950866626)\n",
      "generacion 410, Mejor fitness = 193409.90950866626)\n",
      "generacion 420, Mejor fitness = 193409.90950866626)\n",
      "generacion 430, Mejor fitness = 193409.90950866626)\n",
      "generacion 440, Mejor fitness = 193409.90950866626)\n",
      "generacion 450, Mejor fitness = 193409.90950866626)\n",
      "generacion 460, Mejor fitness = 193409.90950866626)\n",
      "generacion 470, Mejor fitness = 193409.90950866626)\n",
      "generacion 480, Mejor fitness = 193409.90950866626)\n",
      "generacion 490, Mejor fitness = 193409.90950866626)\n",
      "Mejor individuo en la ultima generacion = [1, 1, 1, 0, 0, 0, 0, 0, 0, 0, 0, 0, 0, 0, 0, 0, 0, 0, 0, 0, 0, 0, 0, 0, 0, 0, 0, 0, 0, 0, 0, 0, 0, 0, 0, 0, 0, 0, 0, 0, 0, 0, 0, 0, 0, 0, 0, 0, 1, 1, 1, 0, 0, 0, 0, 1, 1, 0, 1, 1] (fitness = 193409.90950866626)\n",
      "Poblacion inicial, best_fitness = 175391.75894409153\n",
      "generacion 0, Mejor fitness = 176196.46398793114)\n",
      "generacion 10, Mejor fitness = 187947.52888891814)\n",
      "generacion 20, Mejor fitness = 192771.12966037943)\n",
      "generacion 30, Mejor fitness = 193409.90950866626)\n",
      "generacion 40, Mejor fitness = 193409.90950866626)\n",
      "generacion 50, Mejor fitness = 193409.90950866626)\n",
      "generacion 60, Mejor fitness = 193409.90950866626)\n",
      "generacion 70, Mejor fitness = 193409.90950866626)\n",
      "generacion 80, Mejor fitness = 193409.90950866626)\n",
      "generacion 90, Mejor fitness = 193409.90950866626)\n",
      "generacion 100, Mejor fitness = 193409.90950866626)\n",
      "generacion 110, Mejor fitness = 193409.90950866626)\n",
      "generacion 120, Mejor fitness = 193409.90950866626)\n",
      "generacion 130, Mejor fitness = 193409.90950866626)\n",
      "generacion 140, Mejor fitness = 193409.90950866626)\n",
      "generacion 150, Mejor fitness = 193409.90950866626)\n",
      "generacion 160, Mejor fitness = 193409.90950866626)\n",
      "generacion 170, Mejor fitness = 193409.90950866626)\n",
      "generacion 180, Mejor fitness = 193409.90950866626)\n",
      "generacion 190, Mejor fitness = 193409.90950866626)\n",
      "generacion 200, Mejor fitness = 193409.90950866626)\n",
      "generacion 210, Mejor fitness = 193409.90950866626)\n",
      "generacion 220, Mejor fitness = 193409.90950866626)\n",
      "generacion 230, Mejor fitness = 193409.90950866626)\n",
      "generacion 240, Mejor fitness = 193409.90950866626)\n",
      "generacion 250, Mejor fitness = 193409.90950866626)\n",
      "generacion 260, Mejor fitness = 193409.90950866626)\n",
      "generacion 270, Mejor fitness = 193409.90950866626)\n",
      "generacion 280, Mejor fitness = 193409.90950866626)\n",
      "generacion 290, Mejor fitness = 193409.90950866626)\n",
      "generacion 300, Mejor fitness = 193409.90950866626)\n",
      "generacion 310, Mejor fitness = 193409.90950866626)\n",
      "generacion 320, Mejor fitness = 193409.90950866626)\n",
      "generacion 330, Mejor fitness = 193409.90950866626)\n",
      "generacion 340, Mejor fitness = 193409.90950866626)\n",
      "generacion 350, Mejor fitness = 193409.90950866626)\n",
      "generacion 360, Mejor fitness = 193409.90950866626)\n",
      "generacion 370, Mejor fitness = 193409.90950866626)\n",
      "generacion 380, Mejor fitness = 193409.90950866626)\n",
      "generacion 390, Mejor fitness = 193409.90950866626)\n",
      "generacion 400, Mejor fitness = 193409.90950866626)\n",
      "generacion 410, Mejor fitness = 193409.90950866626)\n",
      "generacion 420, Mejor fitness = 193409.90950866626)\n",
      "generacion 430, Mejor fitness = 193409.90950866626)\n",
      "generacion 440, Mejor fitness = 193409.90950866626)\n",
      "generacion 450, Mejor fitness = 193409.90950866626)\n",
      "generacion 460, Mejor fitness = 193409.90950866626)\n",
      "generacion 470, Mejor fitness = 193409.90950866626)\n",
      "generacion 480, Mejor fitness = 193409.90950866626)\n",
      "generacion 490, Mejor fitness = 193409.90950866626)\n",
      "Mejor individuo en la ultima generacion = [1, 1, 1, 0, 0, 0, 0, 0, 0, 0, 0, 0, 0, 0, 0, 0, 0, 0, 0, 0, 0, 0, 0, 0, 0, 0, 0, 0, 0, 0, 0, 0, 0, 0, 0, 0, 0, 0, 0, 0, 0, 0, 0, 0, 0, 0, 0, 0, 1, 1, 1, 0, 0, 0, 0, 1, 1, 0, 1, 1] (fitness = 193409.90950866626)\n",
      "Poblacion inicial, best_fitness = 174000\n",
      "generacion 0, Mejor fitness = 174000)\n",
      "generacion 10, Mejor fitness = 191381.36213081144)\n",
      "generacion 20, Mejor fitness = 193409.90950866626)\n",
      "generacion 30, Mejor fitness = 193409.90950866626)\n",
      "generacion 40, Mejor fitness = 193409.90950866626)\n",
      "generacion 50, Mejor fitness = 193409.90950866626)\n",
      "generacion 60, Mejor fitness = 193409.90950866626)\n",
      "generacion 70, Mejor fitness = 193409.90950866626)\n",
      "generacion 80, Mejor fitness = 193409.90950866626)\n",
      "generacion 90, Mejor fitness = 193409.90950866626)\n",
      "generacion 100, Mejor fitness = 193409.90950866626)\n",
      "generacion 110, Mejor fitness = 193409.90950866626)\n",
      "generacion 120, Mejor fitness = 193409.90950866626)\n",
      "generacion 130, Mejor fitness = 193409.90950866626)\n",
      "generacion 140, Mejor fitness = 193409.90950866626)\n",
      "generacion 150, Mejor fitness = 193409.90950866626)\n",
      "generacion 160, Mejor fitness = 193409.90950866626)\n",
      "generacion 170, Mejor fitness = 193409.90950866626)\n",
      "generacion 180, Mejor fitness = 193409.90950866626)\n",
      "generacion 190, Mejor fitness = 193409.90950866626)\n",
      "generacion 200, Mejor fitness = 193409.90950866626)\n",
      "generacion 210, Mejor fitness = 193409.90950866626)\n",
      "generacion 220, Mejor fitness = 193409.90950866626)\n",
      "generacion 230, Mejor fitness = 193409.90950866626)\n",
      "generacion 240, Mejor fitness = 193409.90950866626)\n",
      "generacion 250, Mejor fitness = 193409.90950866626)\n",
      "generacion 260, Mejor fitness = 193409.90950866626)\n",
      "generacion 270, Mejor fitness = 193409.90950866626)\n",
      "generacion 280, Mejor fitness = 193409.90950866626)\n",
      "generacion 290, Mejor fitness = 193409.90950866626)\n",
      "generacion 300, Mejor fitness = 193409.90950866626)\n",
      "generacion 310, Mejor fitness = 193409.90950866626)\n",
      "generacion 320, Mejor fitness = 193409.90950866626)\n",
      "generacion 330, Mejor fitness = 193409.90950866626)\n",
      "generacion 340, Mejor fitness = 193409.90950866626)\n",
      "generacion 350, Mejor fitness = 193409.90950866626)\n",
      "generacion 360, Mejor fitness = 193409.90950866626)\n",
      "generacion 370, Mejor fitness = 193409.90950866626)\n",
      "generacion 380, Mejor fitness = 193409.90950866626)\n",
      "generacion 390, Mejor fitness = 193409.90950866626)\n",
      "generacion 400, Mejor fitness = 193409.90950866626)\n",
      "generacion 410, Mejor fitness = 193409.90950866626)\n",
      "generacion 420, Mejor fitness = 193409.90950866626)\n",
      "generacion 430, Mejor fitness = 193409.90950866626)\n",
      "generacion 440, Mejor fitness = 193409.90950866626)\n",
      "generacion 450, Mejor fitness = 193409.90950866626)\n",
      "generacion 460, Mejor fitness = 193409.90950866626)\n",
      "generacion 470, Mejor fitness = 193409.90950866626)\n",
      "generacion 480, Mejor fitness = 193409.90950866626)\n",
      "generacion 490, Mejor fitness = 193409.90950866626)\n",
      "Mejor individuo en la ultima generacion = [1, 1, 1, 0, 0, 0, 0, 0, 0, 0, 0, 0, 0, 0, 0, 0, 0, 0, 0, 0, 0, 0, 0, 0, 0, 0, 0, 0, 0, 0, 0, 0, 0, 0, 0, 0, 0, 0, 0, 0, 0, 0, 0, 0, 0, 0, 0, 0, 1, 1, 1, 0, 0, 0, 0, 1, 1, 0, 1, 1] (fitness = 193409.90950866626)\n",
      "Poblacion inicial, best_fitness = 172864.73048208604\n",
      "generacion 0, Mejor fitness = 174272.68488451745)\n",
      "generacion 10, Mejor fitness = 189322.6662472253)\n",
      "generacion 20, Mejor fitness = 193353.41645631232)\n",
      "generacion 30, Mejor fitness = 193409.90950866626)\n",
      "generacion 40, Mejor fitness = 193409.90950866626)\n",
      "generacion 50, Mejor fitness = 193409.90950866626)\n",
      "generacion 60, Mejor fitness = 193409.90950866626)\n",
      "generacion 70, Mejor fitness = 193409.90950866626)\n",
      "generacion 80, Mejor fitness = 193409.90950866626)\n",
      "generacion 90, Mejor fitness = 193409.90950866626)\n",
      "generacion 100, Mejor fitness = 193409.90950866626)\n",
      "generacion 110, Mejor fitness = 193409.90950866626)\n",
      "generacion 120, Mejor fitness = 193409.90950866626)\n",
      "generacion 130, Mejor fitness = 193409.90950866626)\n",
      "generacion 140, Mejor fitness = 193409.90950866626)\n",
      "generacion 150, Mejor fitness = 193409.90950866626)\n",
      "generacion 160, Mejor fitness = 193409.90950866626)\n",
      "generacion 170, Mejor fitness = 193409.90950866626)\n",
      "generacion 180, Mejor fitness = 193409.90950866626)\n",
      "generacion 190, Mejor fitness = 193409.90950866626)\n",
      "generacion 200, Mejor fitness = 193409.90950866626)\n",
      "generacion 210, Mejor fitness = 193409.90950866626)\n",
      "generacion 220, Mejor fitness = 193409.90950866626)\n",
      "generacion 230, Mejor fitness = 193409.90950866626)\n",
      "generacion 240, Mejor fitness = 193409.90950866626)\n",
      "generacion 250, Mejor fitness = 193409.90950866626)\n",
      "generacion 260, Mejor fitness = 193409.90950866626)\n",
      "generacion 270, Mejor fitness = 193409.90950866626)\n",
      "generacion 280, Mejor fitness = 193409.90950866626)\n",
      "generacion 290, Mejor fitness = 193409.90950866626)\n",
      "generacion 300, Mejor fitness = 193409.90950866626)\n",
      "generacion 310, Mejor fitness = 193409.90950866626)\n",
      "generacion 320, Mejor fitness = 193409.90950866626)\n",
      "generacion 330, Mejor fitness = 193409.90950866626)\n",
      "generacion 340, Mejor fitness = 193409.90950866626)\n",
      "generacion 350, Mejor fitness = 193409.90950866626)\n",
      "generacion 360, Mejor fitness = 193409.90950866626)\n",
      "generacion 370, Mejor fitness = 193409.90950866626)\n",
      "generacion 380, Mejor fitness = 193409.90950866626)\n",
      "generacion 390, Mejor fitness = 193409.90950866626)\n",
      "generacion 400, Mejor fitness = 193409.90950866626)\n",
      "generacion 410, Mejor fitness = 193409.90950866626)\n",
      "generacion 420, Mejor fitness = 193409.90950866626)\n",
      "generacion 430, Mejor fitness = 193409.90950866626)\n",
      "generacion 440, Mejor fitness = 193409.90950866626)\n",
      "generacion 450, Mejor fitness = 193409.90950866626)\n",
      "generacion 460, Mejor fitness = 193409.90950866626)\n",
      "generacion 470, Mejor fitness = 193409.90950866626)\n",
      "generacion 480, Mejor fitness = 193409.90950866626)\n",
      "generacion 490, Mejor fitness = 193409.90950866626)\n",
      "Mejor individuo en la ultima generacion = [1, 1, 1, 0, 0, 0, 0, 0, 0, 0, 0, 0, 0, 0, 0, 0, 0, 0, 0, 0, 0, 0, 0, 0, 0, 0, 0, 0, 0, 0, 0, 0, 0, 0, 0, 0, 0, 0, 0, 0, 0, 0, 0, 0, 0, 0, 0, 0, 1, 1, 1, 0, 0, 0, 0, 1, 1, 0, 1, 1] (fitness = 193409.90950866626)\n",
      "Poblacion inicial, best_fitness = 175290.87418440988\n",
      "generacion 0, Mejor fitness = 175290.87418440988)\n",
      "generacion 10, Mejor fitness = 186952.0556036599)\n",
      "generacion 20, Mejor fitness = 192646.21326384443)\n",
      "generacion 30, Mejor fitness = 193409.90950866626)\n",
      "generacion 40, Mejor fitness = 193409.90950866626)\n",
      "generacion 50, Mejor fitness = 193409.90950866626)\n",
      "generacion 60, Mejor fitness = 193409.90950866626)\n",
      "generacion 70, Mejor fitness = 193409.90950866626)\n",
      "generacion 80, Mejor fitness = 193409.90950866626)\n",
      "generacion 90, Mejor fitness = 193409.90950866626)\n",
      "generacion 100, Mejor fitness = 193409.90950866626)\n",
      "generacion 110, Mejor fitness = 193409.90950866626)\n",
      "generacion 120, Mejor fitness = 193409.90950866626)\n",
      "generacion 130, Mejor fitness = 193409.90950866626)\n",
      "generacion 140, Mejor fitness = 193409.90950866626)\n",
      "generacion 150, Mejor fitness = 193409.90950866626)\n",
      "generacion 160, Mejor fitness = 193409.90950866626)\n",
      "generacion 170, Mejor fitness = 193409.90950866626)\n",
      "generacion 180, Mejor fitness = 193409.90950866626)\n",
      "generacion 190, Mejor fitness = 193409.90950866626)\n",
      "generacion 200, Mejor fitness = 193409.90950866626)\n",
      "generacion 210, Mejor fitness = 193409.90950866626)\n",
      "generacion 220, Mejor fitness = 193409.90950866626)\n",
      "generacion 230, Mejor fitness = 193409.90950866626)\n",
      "generacion 240, Mejor fitness = 193409.90950866626)\n",
      "generacion 250, Mejor fitness = 193409.90950866626)\n",
      "generacion 260, Mejor fitness = 193409.90950866626)\n",
      "generacion 270, Mejor fitness = 193409.90950866626)\n",
      "generacion 280, Mejor fitness = 193409.90950866626)\n",
      "generacion 290, Mejor fitness = 193409.90950866626)\n",
      "generacion 300, Mejor fitness = 193409.90950866626)\n",
      "generacion 310, Mejor fitness = 193409.90950866626)\n",
      "generacion 320, Mejor fitness = 193409.90950866626)\n",
      "generacion 330, Mejor fitness = 193409.90950866626)\n",
      "generacion 340, Mejor fitness = 193409.90950866626)\n",
      "generacion 350, Mejor fitness = 193409.90950866626)\n",
      "generacion 360, Mejor fitness = 193409.90950866626)\n",
      "generacion 370, Mejor fitness = 193409.90950866626)\n",
      "generacion 380, Mejor fitness = 193409.90950866626)\n",
      "generacion 390, Mejor fitness = 193409.90950866626)\n",
      "generacion 400, Mejor fitness = 193409.90950866626)\n",
      "generacion 410, Mejor fitness = 193409.90950866626)\n",
      "generacion 420, Mejor fitness = 193409.90950866626)\n",
      "generacion 430, Mejor fitness = 193409.90950866626)\n",
      "generacion 440, Mejor fitness = 193409.90950866626)\n",
      "generacion 450, Mejor fitness = 193409.90950866626)\n",
      "generacion 460, Mejor fitness = 193409.90950866626)\n",
      "generacion 470, Mejor fitness = 193409.90950866626)\n",
      "generacion 480, Mejor fitness = 193409.90950866626)\n",
      "generacion 490, Mejor fitness = 193409.90950866626)\n",
      "Mejor individuo en la ultima generacion = [1, 1, 1, 0, 0, 0, 0, 0, 0, 0, 0, 0, 0, 0, 0, 0, 0, 0, 0, 0, 0, 0, 0, 0, 0, 0, 0, 0, 0, 0, 0, 0, 0, 0, 0, 0, 0, 0, 0, 0, 0, 0, 0, 0, 0, 0, 0, 0, 1, 1, 1, 0, 0, 0, 0, 1, 1, 0, 1, 1] (fitness = 193409.90950866626)\n",
      "Poblacion inicial, best_fitness = 179738.46755818906\n",
      "generacion 0, Mejor fitness = 180994.17194230814)\n",
      "generacion 10, Mejor fitness = 192212.71720388284)\n",
      "generacion 20, Mejor fitness = 193409.90950866626)\n",
      "generacion 30, Mejor fitness = 193409.90950866626)\n",
      "generacion 40, Mejor fitness = 193409.90950866626)\n",
      "generacion 50, Mejor fitness = 193409.90950866626)\n",
      "generacion 60, Mejor fitness = 193409.90950866626)\n",
      "generacion 70, Mejor fitness = 193409.90950866626)\n",
      "generacion 80, Mejor fitness = 193409.90950866626)\n",
      "generacion 90, Mejor fitness = 193409.90950866626)\n",
      "generacion 100, Mejor fitness = 193409.90950866626)\n",
      "generacion 110, Mejor fitness = 193409.90950866626)\n",
      "generacion 120, Mejor fitness = 193409.90950866626)\n",
      "generacion 130, Mejor fitness = 193409.90950866626)\n",
      "generacion 140, Mejor fitness = 193409.90950866626)\n",
      "generacion 150, Mejor fitness = 193409.90950866626)\n",
      "generacion 160, Mejor fitness = 193409.90950866626)\n",
      "generacion 170, Mejor fitness = 193409.90950866626)\n",
      "generacion 180, Mejor fitness = 193409.90950866626)\n",
      "generacion 190, Mejor fitness = 193409.90950866626)\n",
      "generacion 200, Mejor fitness = 193409.90950866626)\n",
      "generacion 210, Mejor fitness = 193409.90950866626)\n",
      "generacion 220, Mejor fitness = 193409.90950866626)\n",
      "generacion 230, Mejor fitness = 193409.90950866626)\n",
      "generacion 240, Mejor fitness = 193409.90950866626)\n",
      "generacion 250, Mejor fitness = 193409.90950866626)\n",
      "generacion 260, Mejor fitness = 193409.90950866626)\n",
      "generacion 270, Mejor fitness = 193409.90950866626)\n",
      "generacion 280, Mejor fitness = 193409.90950866626)\n",
      "generacion 290, Mejor fitness = 193409.90950866626)\n",
      "generacion 300, Mejor fitness = 193409.90950866626)\n",
      "generacion 310, Mejor fitness = 193409.90950866626)\n",
      "generacion 320, Mejor fitness = 193409.90950866626)\n",
      "generacion 330, Mejor fitness = 193409.90950866626)\n",
      "generacion 340, Mejor fitness = 193409.90950866626)\n",
      "generacion 350, Mejor fitness = 193409.90950866626)\n",
      "generacion 360, Mejor fitness = 193409.90950866626)\n",
      "generacion 370, Mejor fitness = 193409.90950866626)\n",
      "generacion 380, Mejor fitness = 193409.90950866626)\n",
      "generacion 390, Mejor fitness = 193409.90950866626)\n",
      "generacion 400, Mejor fitness = 193409.90950866626)\n",
      "generacion 410, Mejor fitness = 193409.90950866626)\n",
      "generacion 420, Mejor fitness = 193409.90950866626)\n",
      "generacion 430, Mejor fitness = 193409.90950866626)\n",
      "generacion 440, Mejor fitness = 193409.90950866626)\n",
      "generacion 450, Mejor fitness = 193409.90950866626)\n",
      "generacion 460, Mejor fitness = 193409.90950866626)\n",
      "generacion 470, Mejor fitness = 193409.90950866626)\n",
      "generacion 480, Mejor fitness = 193409.90950866626)\n",
      "generacion 490, Mejor fitness = 193409.90950866626)\n",
      "Mejor individuo en la ultima generacion = [1, 1, 1, 0, 0, 0, 0, 0, 0, 0, 0, 0, 0, 0, 0, 0, 0, 0, 0, 0, 0, 0, 0, 0, 0, 0, 0, 0, 0, 0, 0, 0, 0, 0, 0, 0, 0, 0, 0, 0, 0, 0, 0, 0, 0, 0, 0, 0, 1, 1, 1, 0, 0, 0, 0, 1, 1, 0, 1, 1] (fitness = 193409.90950866626)\n"
     ]
    }
   ],
   "source": [
    "## Hiperparametros del algoritmo genetico\n",
    "POP_SIZE = 100       # numero de individuos\n",
    "GENERATIONS = 500   # numero de generaciones\n",
    "PMUT = 0.1        # tasa de mutacion\n",
    "individuos,fitness,sum_distancia,sum_poblacion=([] for _ in range(4))\n",
    "for _ in range(10):\n",
    "    population = init_population(POP_SIZE,maxMark=10);\n",
    "    best_ind, bestfitness, _ = genetic_algorithm(population, marketPool, GENERATIONS, PMUT, crossover=\"uniform\", mutation=\"flip\",select='roulette');\n",
    "    individuos.append(best_ind)\n",
    "    fitness.append(best_ind.fitness)\n",
    "    sum_distancia.append(get_fitness_lista(best_ind.chromosome,marketPool)[1])\n",
    "    sum_poblacion.append(get_fitness_lista(best_ind.chromosome,marketPool)[0])"
   ]
  },
  {
   "cell_type": "code",
   "execution_count": 30,
   "metadata": {
    "colab": {
     "base_uri": "https://localhost:8080/",
     "height": 359
    },
    "colab_type": "code",
    "id": "-vYMN6hza3FX",
    "outputId": "8342f057-98a9-4b17-874d-ae922590a916"
   },
   "outputs": [
    {
     "data": {
      "text/html": [
       "<div>\n",
       "<style scoped>\n",
       "    .dataframe tbody tr th:only-of-type {\n",
       "        vertical-align: middle;\n",
       "    }\n",
       "\n",
       "    .dataframe tbody tr th {\n",
       "        vertical-align: top;\n",
       "    }\n",
       "\n",
       "    .dataframe thead th {\n",
       "        text-align: right;\n",
       "    }\n",
       "</style>\n",
       "<table border=\"1\" class=\"dataframe\">\n",
       "  <thead>\n",
       "    <tr style=\"text-align: right;\">\n",
       "      <th></th>\n",
       "      <th>individuos</th>\n",
       "      <th>fitness</th>\n",
       "      <th>suma_distancia</th>\n",
       "      <th>suma_poblacion</th>\n",
       "    </tr>\n",
       "  </thead>\n",
       "  <tbody>\n",
       "    <tr>\n",
       "      <th>0</th>\n",
       "      <td>&lt;__main__.Individual object at 0x7fb44d60ad50&gt;</td>\n",
       "      <td>193409.909509</td>\n",
       "      <td>10309.909509</td>\n",
       "      <td>183100</td>\n",
       "    </tr>\n",
       "    <tr>\n",
       "      <th>1</th>\n",
       "      <td>&lt;__main__.Individual object at 0x7fb44d60a950&gt;</td>\n",
       "      <td>193409.909509</td>\n",
       "      <td>10309.909509</td>\n",
       "      <td>183100</td>\n",
       "    </tr>\n",
       "    <tr>\n",
       "      <th>2</th>\n",
       "      <td>&lt;__main__.Individual object at 0x7fb44d518650&gt;</td>\n",
       "      <td>193409.909509</td>\n",
       "      <td>10309.909509</td>\n",
       "      <td>183100</td>\n",
       "    </tr>\n",
       "    <tr>\n",
       "      <th>3</th>\n",
       "      <td>&lt;__main__.Individual object at 0x7fb44d518490&gt;</td>\n",
       "      <td>193409.909509</td>\n",
       "      <td>10309.909509</td>\n",
       "      <td>183100</td>\n",
       "    </tr>\n",
       "    <tr>\n",
       "      <th>4</th>\n",
       "      <td>&lt;__main__.Individual object at 0x7fb44d535c50&gt;</td>\n",
       "      <td>193409.909509</td>\n",
       "      <td>10309.909509</td>\n",
       "      <td>183100</td>\n",
       "    </tr>\n",
       "    <tr>\n",
       "      <th>5</th>\n",
       "      <td>&lt;__main__.Individual object at 0x7fb44a001510&gt;</td>\n",
       "      <td>193409.909509</td>\n",
       "      <td>10309.909509</td>\n",
       "      <td>183100</td>\n",
       "    </tr>\n",
       "    <tr>\n",
       "      <th>6</th>\n",
       "      <td>&lt;__main__.Individual object at 0x7fb44d546310&gt;</td>\n",
       "      <td>193409.909509</td>\n",
       "      <td>10309.909509</td>\n",
       "      <td>183100</td>\n",
       "    </tr>\n",
       "    <tr>\n",
       "      <th>7</th>\n",
       "      <td>&lt;__main__.Individual object at 0x7fb44d5f2b50&gt;</td>\n",
       "      <td>193409.909509</td>\n",
       "      <td>10309.909509</td>\n",
       "      <td>183100</td>\n",
       "    </tr>\n",
       "    <tr>\n",
       "      <th>8</th>\n",
       "      <td>&lt;__main__.Individual object at 0x7fb44d207c50&gt;</td>\n",
       "      <td>193409.909509</td>\n",
       "      <td>10309.909509</td>\n",
       "      <td>183100</td>\n",
       "    </tr>\n",
       "    <tr>\n",
       "      <th>9</th>\n",
       "      <td>&lt;__main__.Individual object at 0x7fb44d518890&gt;</td>\n",
       "      <td>193409.909509</td>\n",
       "      <td>10309.909509</td>\n",
       "      <td>183100</td>\n",
       "    </tr>\n",
       "  </tbody>\n",
       "</table>\n",
       "</div>"
      ],
      "text/plain": [
       "                                       individuos        fitness  \\\n",
       "0  <__main__.Individual object at 0x7fb44d60ad50>  193409.909509   \n",
       "1  <__main__.Individual object at 0x7fb44d60a950>  193409.909509   \n",
       "2  <__main__.Individual object at 0x7fb44d518650>  193409.909509   \n",
       "3  <__main__.Individual object at 0x7fb44d518490>  193409.909509   \n",
       "4  <__main__.Individual object at 0x7fb44d535c50>  193409.909509   \n",
       "5  <__main__.Individual object at 0x7fb44a001510>  193409.909509   \n",
       "6  <__main__.Individual object at 0x7fb44d546310>  193409.909509   \n",
       "7  <__main__.Individual object at 0x7fb44d5f2b50>  193409.909509   \n",
       "8  <__main__.Individual object at 0x7fb44d207c50>  193409.909509   \n",
       "9  <__main__.Individual object at 0x7fb44d518890>  193409.909509   \n",
       "\n",
       "   suma_distancia  suma_poblacion  \n",
       "0    10309.909509          183100  \n",
       "1    10309.909509          183100  \n",
       "2    10309.909509          183100  \n",
       "3    10309.909509          183100  \n",
       "4    10309.909509          183100  \n",
       "5    10309.909509          183100  \n",
       "6    10309.909509          183100  \n",
       "7    10309.909509          183100  \n",
       "8    10309.909509          183100  \n",
       "9    10309.909509          183100  "
      ]
     },
     "execution_count": 30,
     "metadata": {},
     "output_type": "execute_result"
    }
   ],
   "source": [
    "resultados_mono_obj=pd.DataFrame({'individuos':individuos,'fitness':fitness,'suma_distancia':sum_distancia,'suma_poblacion':sum_poblacion})\n",
    "resultados_mono_obj"
   ]
  },
  {
   "cell_type": "markdown",
   "metadata": {
    "colab_type": "text",
    "id": "o3XPpzeMa3Fa"
   },
   "source": [
    "## **2) Algoritmo multi-objetivo NSGA-II**"
   ]
  },
  {
   "cell_type": "markdown",
   "metadata": {
    "colab_type": "text",
    "id": "zssQGLS1a3Fa"
   },
   "source": [
    "**a) Función para obtener los fitness para los dos objetivos**"
   ]
  },
  {
   "cell_type": "code",
   "execution_count": 31,
   "metadata": {
    "colab": {},
    "colab_type": "code",
    "id": "5rjPHrcda3Fb"
   },
   "outputs": [],
   "source": [
    "def get_fitness_nsga(chromosome, markets):\n",
    "    fitnesses=np.zeros(2) #cantidad de objetivos a medir\n",
    "    markets_elegidos=[]\n",
    "    sum_pob=0\n",
    "    sum_dist=0\n",
    "    for i in range(len(markets)):\n",
    "        if chromosome[i] == 1:  # si el market i esta incluido en el cromosoma, acumula su poblacion y distancia\n",
    "            sum_pob += markets[i].pob\n",
    "            markets_elegidos.append(i)\n",
    "            \n",
    "    for j in markets_elegidos:\n",
    "        for k in markets_elegidos[j+1:]:\n",
    "            sum_dist=sum_dist+lista_total_distancias[(j,k)]\n",
    "    fitnesses[0]=sum_pob\n",
    "    fitnesses[1]=sum_dist\n",
    "    return fitnesses"
   ]
  },
  {
   "cell_type": "markdown",
   "metadata": {
    "colab_type": "text",
    "id": "0xAG9vD2a3Fe"
   },
   "source": [
    "**b) Funcion para evaluar una población de individuos**"
   ]
  },
  {
   "cell_type": "code",
   "execution_count": 32,
   "metadata": {
    "colab": {},
    "colab_type": "code",
    "id": "zGe1vgOoa3Ff"
   },
   "outputs": [],
   "source": [
    "def evaluate_population_nsga(population, markets):\n",
    "    \"\"\" Evalua una poblacion de individuos con la funcion get_fitness \"\"\"\n",
    "    pop_size = len(population)\n",
    "    for i in range(pop_size):\n",
    "        if population[i].fitness == -1:    # evalua solo si el individuo no esta evaluado\n",
    "            population[i].fitness = get_fitness_nsga(population[i].chromosome, markets)"
   ]
  },
  {
   "cell_type": "markdown",
   "metadata": {
    "colab_type": "text",
    "id": "e0hH_37va3Fk"
   },
   "source": [
    "**c) Funcion para la obtencion de la poblacion descendiente**"
   ]
  },
  {
   "cell_type": "code",
   "execution_count": 33,
   "metadata": {
    "colab": {},
    "colab_type": "code",
    "id": "o4h1JWaPa3Fm"
   },
   "outputs": [],
   "source": [
    "def build_offspring_population(population, crossover, mutation, pmut):     \n",
    "    \"\"\" Construye una poblacion hija con los operadores de cruzamiento y mutacion pasados\n",
    "        crossover:  operador de cruzamiento\n",
    "        mutation:   operador de mutacion\n",
    "        pmut:       taza de mutacion\n",
    "    \"\"\"\n",
    "    pop_size = len(population)\n",
    "    \n",
    "    ## Selecciona parejas de individuos (mating_pool) para cruzamiento con el metodo de la ruleta\n",
    "    mating_pool = []\n",
    "    for i in range(int(pop_size/2)): \n",
    "        # escoge dos individuos diferentes aleatoriamente de la poblacion\n",
    "        permut = np.random.permutation( pop_size )\n",
    "        mating_pool.append( (population[permut[0]], population[permut[1]] ) ) \n",
    "        \n",
    "    ## Crea la poblacion descendencia cruzando las parejas del mating pool \n",
    "    offspring_population = []\n",
    "    for i in range(len(mating_pool)): \n",
    "        if crossover == \"onepoint\":\n",
    "            offspring_population.extend( mating_pool[i][0].crossover_onepoint(mating_pool[i][1]) ) # cruzamiento 1 punto\n",
    "        elif crossover == \"uniform\":\n",
    "            offspring_population.extend( mating_pool[i][0].crossover_uniform(mating_pool[i][1]) ) # cruzamiento uniforme\n",
    "        else:\n",
    "            raise NotImplementedError\n",
    "\n",
    "    ## Aplica el operador de mutacion con probabilidad pmut en cada hijo generado\n",
    "    for i in range(len(offspring_population)):\n",
    "        if uniform(0, 1) < pmut: \n",
    "            if mutation == \"flip\":\n",
    "                offspring_population[i] = offspring_population[i].mutation_flip() # cambia el alelo de un gen\n",
    "            else:\n",
    "                raise NotImplementedError   \n",
    "                \n",
    "    return offspring_population\n"
   ]
  },
  {
   "cell_type": "markdown",
   "metadata": {
    "colab_type": "text",
    "id": "3r5Ardqla3Fq"
   },
   "source": [
    "**d) Funcion para la obtencion de las distancias crowding**"
   ]
  },
  {
   "cell_type": "code",
   "execution_count": 34,
   "metadata": {
    "colab": {},
    "colab_type": "code",
    "id": "A9FI8FLpa3Fr"
   },
   "outputs": [],
   "source": [
    "def get_crowding_distances(fitnesses):\n",
    "    \"\"\"\n",
    "    La distancia crowding de un individuo es la diferencia del fitness mas proximo hacia arriba menos el fitness mas proximo \n",
    "    hacia abajo. El valor crowding total es la suma de todas las distancias crowdings para todos los fitness\n",
    "    \"\"\"\n",
    "    #fitnesses de la forma np.array( [ [23,23],[12,21],[2,2] ])\n",
    "    pop_size = len(fitnesses[:, 0])\n",
    "    num_objectives = len(fitnesses[0, :])\n",
    "\n",
    "    # crea matriz crowding. Filas representan individuos, columnas representan objectives\n",
    "    crowding_matrix = np.zeros((pop_size, num_objectives))\n",
    "\n",
    "    # normaliza los fitnesses entre 0 y 1 (ptp es max - min)\n",
    "    # Es importante normalizar los fitness porque pueden venir con diferentes unidades de medida\n",
    "    normalized_fitnesses = (fitnesses - fitnesses.min(0)) / fitnesses.ptp(0)\n",
    "\n",
    "    for col in range(num_objectives):   # Por cada objective\n",
    "        crowding = np.zeros(pop_size)\n",
    "\n",
    "        # puntos extremos tienen maximo crowding\n",
    "        crowding[0] = 1\n",
    "        crowding[pop_size - 1] = 1\n",
    "\n",
    "        # ordena los fitness normalizados del objectivo actual\n",
    "        sorted_fitnesses = np.sort(normalized_fitnesses[:, col])\n",
    "        sorted_fitnesses_index = np.argsort(normalized_fitnesses[:, col])\n",
    "\n",
    "        # Calcula la distancia crowding de cada individuo como la diferencia de score de los vecinos\n",
    "        crowding[1:pop_size - 1] = (sorted_fitnesses[2:pop_size] - sorted_fitnesses[0:pop_size - 2])\n",
    "\n",
    "        # obtiene el ordenamiento original\n",
    "        re_sort_order = np.argsort(sorted_fitnesses_index)\n",
    "        sorted_crowding = crowding[re_sort_order]\n",
    "\n",
    "        # Salva las distancias crowdingpara el objetivo que se esta iterando\n",
    "        crowding_matrix[:, col] = sorted_crowding\n",
    "\n",
    "    # Obtiene las distancias crowding finales sumando las distancias crowding de cada objetivo \n",
    "    crowding_distances = np.sum(crowding_matrix, axis=1)\n",
    "\n",
    "    return crowding_distances"
   ]
  },
  {
   "cell_type": "markdown",
   "metadata": {
    "colab_type": "text",
    "id": "YJS7Xnxaa3Fu"
   },
   "source": [
    "**e) Funcion para la seleccion por distancia crowding**"
   ]
  },
  {
   "cell_type": "code",
   "execution_count": 35,
   "metadata": {
    "colab": {},
    "colab_type": "code",
    "id": "sgNZbN7ua3Fv"
   },
   "outputs": [],
   "source": [
    "def select_by_crowding(population, num_individuals):\n",
    "    \"\"\"\n",
    "    Selecciona una poblacion de individuos basado en torneos de pares de individuos: dos individuos se escoge al azar\n",
    "    y se selecciona el mejor segun la distancia crowding. Se repite hasta obtener num_individuals individuos\n",
    "    \"\"\"    \n",
    "    population = deepcopy(population)\n",
    "    pop_size = len(population)\n",
    "    num_objectives = len(population[0].fitness)\n",
    "    \n",
    "    # extrae los fitness de la poblacion en la matriz fitnesses\n",
    "    fitnesses = np.zeros([pop_size, num_objectives])\n",
    "    for i in range(pop_size): fitnesses[i,:] = population[i].fitness\n",
    "        \n",
    "    # obtiene las  distancias  crowding\n",
    "    crowding_distances = get_crowding_distances(fitnesses)   \n",
    "    \n",
    "    population_selected = []   # poblacion escogida\n",
    "\n",
    "    for i in range(num_individuals):  # por cada individuo a seleccionar\n",
    "\n",
    "        # escoje dos individuos aleatoriamente de la poblacion no escogida aun\n",
    "        permut = np.random.permutation( len(population) )\n",
    "        ind1_id = permut[0]\n",
    "        ind2_id = permut[1]\n",
    "\n",
    "        # Si ind1_id es el mejor\n",
    "        if crowding_distances[ind1_id] >= crowding_distances[ind2_id]:\n",
    "\n",
    "            # traslada el individuo ind1 de population a la lista de individuos seleccionados\n",
    "            population_selected.append( population.pop(ind1_id) )\n",
    "            # remueve la distancia crowding del individuo seleccionado\n",
    "            crowding_distances = np.delete(crowding_distances, ind1_id, axis=0)\n",
    "            \n",
    "        else:  # Si ind2_id es el mejor\n",
    "            \n",
    "            # traslada el individuo ind2 de population a la lista de individuos seleccionados\n",
    "            population_selected.append( population.pop(ind2_id) )\n",
    "            # remueve la distancia crowding del individuo seleccionado\n",
    "            crowding_distances = np.delete(crowding_distances, ind2_id, axis=0)\n",
    "\n",
    "    return (population_selected)"
   ]
  },
  {
   "cell_type": "markdown",
   "metadata": {
    "colab_type": "text",
    "id": "W-p3XfqTa3Fx"
   },
   "source": [
    "**f) Funcion para de la frontera de pareto**"
   ]
  },
  {
   "cell_type": "code",
   "execution_count": 36,
   "metadata": {
    "colab": {},
    "colab_type": "code",
    "id": "vrOPHlUNa3Fy"
   },
   "outputs": [],
   "source": [
    "def get_paretofront_population(population):\n",
    "    \"\"\"\n",
    "    Obtiene de population la poblacion de individups de la frontera de Pareto, \n",
    "    \"\"\"\n",
    "    population = deepcopy(population)\n",
    "    pop_size = len(population)\n",
    "    \n",
    "    # todos los individuos son inicialmente asumidos como la frontera de Pareto\n",
    "    pareto_front = np.ones(pop_size, dtype=bool)\n",
    "    \n",
    "    for i in range(pop_size): # Compara cada individuo contra todos los demas\n",
    "        for j in range(pop_size):\n",
    "            # Chequea si individuo 'i' es dominado por individuo 'j'\n",
    "            if all(population[j].fitness >= population[i].fitness) and any(population[j].fitness > population[i].fitness): #NO es OR ?\n",
    "                # j domina i -> señaliza que individuo 'i' como no siendo parte de la frontera de Pareto\n",
    "                pareto_front[i] = 0\n",
    "                break   # Para la busqueda para 'i' (no es necesario hacer mas comparaciones)\n",
    "\n",
    "    paretofront_population = []\n",
    "    for i in range(pop_size):  # construye la lista de individuos de la frontera de Pareto \n",
    "        if pareto_front[i] == 1: paretofront_population.append(population[i])\n",
    "        \n",
    "    return paretofront_population"
   ]
  },
  {
   "cell_type": "markdown",
   "metadata": {
    "colab_type": "text",
    "id": "9OK3N4HGa3F0"
   },
   "source": [
    "**g) Funcion para la obtencion de la siguiente poblacion**"
   ]
  },
  {
   "cell_type": "code",
   "execution_count": 37,
   "metadata": {
    "colab": {},
    "colab_type": "code",
    "id": "ZK4vuFJZa3F1"
   },
   "outputs": [],
   "source": [
    "def build_next_population(population, min_pop_size, max_pop_size):\n",
    "    \"\"\"\n",
    "    Construye la poblacion de la siguiente generacion añadiendo sucesivas fronteras de Pareto hasta \n",
    "    tener una poblacion de al menos min_pop_size individuos. Reduce la frontera de Pareto con el metodo de\n",
    "    crowding distance si al agregar la frontera excede el tamaño maximo de la poblacion (max_pop_size)\n",
    "    \"\"\"\n",
    "    population = deepcopy(population)\n",
    "    pareto_front = []\n",
    "    next_population = []\n",
    "    \n",
    "    while len(next_population) < min_pop_size:   # mientras la poblacion no tenga el tamaño minimo\n",
    "        # obtiene la poblacion frontera de Pareto actual\n",
    "        paretofront_population = get_paretofront_population(population)\n",
    "        \n",
    "        # si poblacion actual + paretofront excede el maximo permitido -> reduce paretofront con el metodo de crowding\n",
    "        combined_population_size = len(next_population) + len(paretofront_population)\n",
    "        if  combined_population_size > max_pop_size:\n",
    "            paretofront_population = select_by_crowding( paretofront_population, max_pop_size-len(next_population) ) \n",
    "        \n",
    "        # Adiciona la frontera de Pareto (original o reducida) a la poblacion en construccion\n",
    "        next_population.extend( paretofront_population )\n",
    "    \n",
    "        # remueve de population los individuos que fueron agregados a next_population \n",
    "        for i in range( len(paretofront_population) ):\n",
    "            for j in range( len(population) ):\n",
    "                if all( np.asarray(paretofront_population[i].chromosome) == np.asarray(population[j].chromosome) ):\n",
    "                    del(population[j])\n",
    "                    break\n",
    "                    \n",
    "    return next_population"
   ]
  },
  {
   "cell_type": "markdown",
   "metadata": {
    "colab_type": "text",
    "id": "d8zBp1iKa3F2"
   },
   "source": [
    "**h) Ejecucion del algoritmo**"
   ]
  },
  {
   "cell_type": "code",
   "execution_count": 82,
   "metadata": {
    "colab": {
     "base_uri": "https://localhost:8080/",
     "height": 867
    },
    "colab_type": "code",
    "collapsed": true,
    "id": "3RXr_iSta3F3",
    "jupyter": {
     "outputs_hidden": true
    },
    "outputId": "6579dba2-3d61-4f5c-bb74-2108cc0885b8"
   },
   "outputs": [
    {
     "name": "stdout",
     "output_type": "stream",
     "text": [
      "Generacion 0 (de 500) \n",
      "Generacion 10 (de 500) \n",
      "Generacion 20 (de 500) \n",
      "Generacion 30 (de 500) \n",
      "Generacion 40 (de 500) \n",
      "Generacion 50 (de 500) \n",
      "Generacion 60 (de 500) \n",
      "Generacion 70 (de 500) \n",
      "Generacion 80 (de 500) \n",
      "Generacion 90 (de 500) \n",
      "Generacion 100 (de 500) \n",
      "Generacion 110 (de 500) \n",
      "Generacion 120 (de 500) \n",
      "Generacion 130 (de 500) \n",
      "Generacion 140 (de 500) \n",
      "Generacion 150 (de 500) \n",
      "Generacion 160 (de 500) \n",
      "Generacion 170 (de 500) \n",
      "Generacion 180 (de 500) \n",
      "Generacion 190 (de 500) \n",
      "Generacion 200 (de 500) \n",
      "Generacion 210 (de 500) \n",
      "Generacion 220 (de 500) \n",
      "Generacion 230 (de 500) \n",
      "Generacion 240 (de 500) \n",
      "Generacion 250 (de 500) \n",
      "Generacion 260 (de 500) \n",
      "Generacion 270 (de 500) \n",
      "Generacion 280 (de 500) \n",
      "Generacion 290 (de 500) \n",
      "Generacion 300 (de 500) \n",
      "Generacion 310 (de 500) \n",
      "Generacion 320 (de 500) \n",
      "Generacion 330 (de 500) \n",
      "Generacion 340 (de 500) \n",
      "Generacion 350 (de 500) \n",
      "Generacion 360 (de 500) \n",
      "Generacion 370 (de 500) \n",
      "Generacion 380 (de 500) \n",
      "Generacion 390 (de 500) \n",
      "Generacion 400 (de 500) \n",
      "Generacion 410 (de 500) \n",
      "Generacion 420 (de 500) \n",
      "Generacion 430 (de 500) \n",
      "Generacion 440 (de 500) \n",
      "Generacion 450 (de 500) \n",
      "Generacion 460 (de 500) \n",
      "Generacion 470 (de 500) \n",
      "Generacion 480 (de 500) \n",
      "Generacion 490 (de 500) \n"
     ]
    }
   ],
   "source": [
    "## Hiperparametros del algoritmo genetico\n",
    "POP_SIZE = 50       # numero de individuos\n",
    "GENERATIONS = 500   # numero de generaciones\n",
    "PMUT = 1        # taza de mutacion\n",
    "MIN_POP_SIZE = 100    # numero de individuos minimo\n",
    "MAX_POP_SIZE = 100    # numero de individuos maximo\n",
    "\n",
    "## Inicializa una poblacion inicial de forma aleatoria\n",
    "P = init_population(POP_SIZE,maxMark=10)\n",
    "\n",
    "evaluate_population_nsga(P,marketPool)    #  evalua la poblacion inicial\n",
    "## Ejecuta los ciclos evolutivos \n",
    "for g in range(GENERATIONS):   # Por cada generacion\n",
    "    \n",
    "    if g %10 == 0:\n",
    "        print ('Generacion {} (de {}) '.format(g, GENERATIONS))\n",
    "    \n",
    "    ## genera y evalua la poblacion hija    \n",
    "    Q = build_offspring_population(P, \"uniform\", \"flip\", PMUT)\n",
    "    evaluate_population_nsga(Q, marketPool)\n",
    "    \n",
    "    ## une la poblacion padre y la poblacion hija\n",
    "    P.extend(Q) \n",
    "    \n",
    "    ## Construye la poblacion de la siguiente generacion\n",
    "    P = build_next_population(P, MIN_POP_SIZE, MAX_POP_SIZE)\n",
    "\n",
    "# Obtiene la poblacion de la frontera de pareto final \n",
    "pareto_front_population = get_paretofront_population(P)"
   ]
  },
  {
   "cell_type": "markdown",
   "metadata": {
    "colab_type": "text",
    "id": "ippHlyJGa3F5"
   },
   "source": [
    "**i) Visualizacion de la frontera de pareto**"
   ]
  },
  {
   "cell_type": "code",
   "execution_count": 83,
   "metadata": {
    "colab": {
     "base_uri": "https://localhost:8080/",
     "height": 279
    },
    "colab_type": "code",
    "id": "GkImmB6Va3F5",
    "outputId": "698e016a-ff7e-4cb3-e191-dc9949895952"
   },
   "outputs": [
    {
     "data": {
      "image/png": "[encoded data removed]",
      "text/plain": [
       "<Figure size 432x288 with 1 Axes>"
      ]
     },
     "metadata": {
      "needs_background": "light"
     },
     "output_type": "display_data"
    }
   ],
   "source": [
    "## Plotea los individuos de la frontera de Pareto final\n",
    "CHROMOSOME_SIZE = 60 \n",
    "pop_size = len(pareto_front_population)\n",
    "num_objectives = len(pareto_front_population[0].fitness)\n",
    "    \n",
    "# extrae los fitness de la poblacion en la matriz fitnesses\n",
    "fitnesses = np.zeros([pop_size, num_objectives])\n",
    "for i in range(pop_size): fitnesses[i,:] = pareto_front_population[i].fitness\n",
    "\n",
    "x = fitnesses[:, 0]/CHROMOSOME_SIZE*100\n",
    "y = fitnesses[:, 1]/CHROMOSOME_SIZE*100\n",
    "plt.xlabel('Objectivo Poblacion - % maximo obtenible') #Primer objetivo: Maximizar el valor de la mochila\n",
    "plt.ylabel('Objectivo Distancia - % maximo obtenible') #Segundo objetivo: Minimizar el peso de la mochila\n",
    "plt.scatter(x,y)\n",
    "#plt.savefig('pareto.png')\n",
    "plt.show()\n"
   ]
  },
  {
   "cell_type": "markdown",
   "metadata": {
    "colab_type": "text",
    "id": "-oSV9h-Ma3F7"
   },
   "source": [
    "**Verificacion si la solucion que nos otorgó el mono objetivo es parte de las soluciones obtenidas por NSGA-II**"
   ]
  },
  {
   "cell_type": "code",
   "execution_count": 85,
   "metadata": {
    "colab": {
     "base_uri": "https://localhost:8080/",
     "height": 34
    },
    "colab_type": "code",
    "id": "q4WKGQ_4a3F8",
    "outputId": "20c29f3c-6686-412b-8361-b030ffd46b4b"
   },
   "outputs": [
    {
     "data": {
      "text/plain": [
       "True"
      ]
     },
     "execution_count": 85,
     "metadata": {},
     "output_type": "execute_result"
    }
   ],
   "source": [
    "cromosomas=[indi.chromosome for indi in pareto_front_population]\n",
    "valor=True if best_ind.chromosome in cromosomas else False\n",
    "valor"
   ]
  },
  {
   "cell_type": "markdown",
   "metadata": {},
   "source": [
    "**Obtencion del individuo con maxima poblacion**"
   ]
  },
  {
   "cell_type": "code",
   "execution_count": 107,
   "metadata": {},
   "outputs": [],
   "source": [
    "fit=0\n",
    "individuo_dist is None\n",
    "for indi in pareto_front_population:\n",
    "    if indi.fitness[0] > fit:\n",
    "        fit=indi.fitness[0]\n",
    "        individuo_dist=indi"
   ]
  },
  {
   "cell_type": "code",
   "execution_count": 115,
   "metadata": {},
   "outputs": [
    {
     "data": {
      "text/plain": [
       "array([307666.66666667,   9949.64183685])"
      ]
     },
     "execution_count": 115,
     "metadata": {},
     "output_type": "execute_result"
    }
   ],
   "source": [
    "individuo_dist.fitness/CHROMOSOME_SIZE*100"
   ]
  },
  {
   "cell_type": "markdown",
   "metadata": {},
   "source": [
    "**Obtencion del individuo con maxima distancia**"
   ]
  },
  {
   "cell_type": "code",
   "execution_count": 113,
   "metadata": {},
   "outputs": [],
   "source": [
    "fit=0\n",
    "for indi in pareto_front_population:\n",
    "    if indi.fitness[1] > fit:\n",
    "        fit=indi.fitness[1]\n",
    "        individuo_pob=indi"
   ]
  },
  {
   "cell_type": "code",
   "execution_count": 116,
   "metadata": {},
   "outputs": [
    {
     "data": {
      "text/plain": [
       "array([180166.66666667,  39439.49651384])"
      ]
     },
     "execution_count": 116,
     "metadata": {},
     "output_type": "execute_result"
    }
   ],
   "source": [
    "individuo_pob.fitness/CHROMOSOME_SIZE*100"
   ]
  },
  {
   "cell_type": "markdown",
   "metadata": {},
   "source": [
    "**Obtencion del individuo intermedio**"
   ]
  },
  {
   "cell_type": "code",
   "execution_count": 118,
   "metadata": {},
   "outputs": [],
   "source": [
    "fit_pob=0\n",
    "fit_dist=0\n",
    "for indi in pareto_front_population:\n",
    "    if indi.fitness[0] > fit_pob and indi.fitness[1] > fit_dist:\n",
    "        fit_pob=indi.fitness[0]\n",
    "        fit_dist=indi.fitness[1]\n",
    "        individuo_medio=indi"
   ]
  },
  {
   "cell_type": "code",
   "execution_count": 119,
   "metadata": {},
   "outputs": [
    {
     "data": {
      "text/plain": [
       "array([142450.        ,  19679.55211097])"
      ]
     },
     "execution_count": 119,
     "metadata": {},
     "output_type": "execute_result"
    }
   ],
   "source": [
    "individuo_medio.fitness"
   ]
  },
  {
   "cell_type": "markdown",
   "metadata": {
    "colab_type": "text",
    "id": "5KPeJu3uo16R"
   },
   "source": [
    "Vemos que la primera solución de pareto optimiza a los lugares que poseen una mayor distancia entre ellos, esto se observa en el gráfico"
   ]
  },
  {
   "cell_type": "code",
   "execution_count": 41,
   "metadata": {
    "colab": {
     "base_uri": "https://localhost:8080/",
     "height": 1000
    },
    "colab_type": "code",
    "id": "Kl4gRQlano5R",
    "outputId": "6950de12-5907-4c60-adfa-09b68b3e39fa"
   },
   "outputs": [
    {
     "data": {
      "text/html": [
       "<div style=\"width:100%;\"><div style=\"position:relative;width:100%;height:0;padding-bottom:60%;\"><iframe src=\"data:text/html;charset=utf-8;base64,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\" style=\"position:absolute;width:100%;height:100%;left:0;top:0;border:none !important;\" allowfullscreen webkitallowfullscreen mozallowfullscreen></iframe></div></div>"
      ],
      "text/plain": [
       "<folium.folium.Map at 0x7fb44a73b490>"
      ]
     },
     "execution_count": 41,
     "metadata": {},
     "output_type": "execute_result"
    }
   ],
   "source": [
    "m = folium.Map(\n",
    "    location=[-12.0431805, -77.0282364], zoom_start=13, zoomControl= False, min_zoom=13, max_zoom=13)\n",
    "\n",
    "[(folium.Marker([marketPool[i].lat, marketPool[i].lon], icon=folium.Icon(color='red')).add_to(m)) for i in range(len(pareto_front_population[0].chromosome)) if pareto_front_population[0].chromosome[i]==0]\n",
    "[(folium.Marker([marketPool[i].lat, marketPool[i].lon], icon=folium.Icon(color='blue')).add_to(m)) for i in range(len(pareto_front_population[0].chromosome)) if pareto_front_population[0].chromosome[i]==1]\n",
    "points = [(marketPool[i].lat, marketPool[i].lon) for i in range(len(pareto_front_population[0].chromosome)) if pareto_front_population[0].chromosome[i]==1]\n",
    "points.append(points[0])\n",
    "folium.PolyLine(points, color=\"red\", weight=2.5, opacity=1).add_to(m)\n",
    "\n",
    "m"
   ]
  },
  {
   "cell_type": "code",
   "execution_count": 42,
   "metadata": {
    "colab": {
     "base_uri": "https://localhost:8080/",
     "height": 34
    },
    "colab_type": "code",
    "id": "fjEnWtlVtWo8",
    "outputId": "ce9d6a7d-6c84-4718-a0ff-844e6fb6fa14"
   },
   "outputs": [
    {
     "name": "stdout",
     "output_type": "stream",
     "text": [
      "Esta solución tiene como cantidad de población 132250.0 y un maximo de distancia de entre locales de 21734.821722352826\n"
     ]
    }
   ],
   "source": [
    "print(\"Esta solución tiene como cantidad de población {} y un maximo de distancia de entre locales de {}\".format(pareto_front_population[0].fitness[0], pareto_front_population[0].fitness[1]))"
   ]
  },
  {
   "cell_type": "markdown",
   "metadata": {
    "colab_type": "text",
    "id": "bgGhw7bEprZ_"
   },
   "source": [
    "Ahora probaremos con la frontera de parto que intenta maximizar la distancia entre las ciudades y la población. Este valor estaba ubicado aproximadamente en la mitad"
   ]
  },
  {
   "cell_type": "code",
   "execution_count": 43,
   "metadata": {
    "colab": {
     "base_uri": "https://localhost:8080/",
     "height": 1000
    },
    "colab_type": "code",
    "id": "4W6vUuLSpqe8",
    "outputId": "165c009b-8831-45f7-949e-e445c0bc9dfa"
   },
   "outputs": [
    {
     "data": {
      "text/html": [
       "<div style=\"width:100%;\"><div style=\"position:relative;width:100%;height:0;padding-bottom:60%;\"><iframe src=\"data:text/html;charset=utf-8;base64,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\" style=\"position:absolute;width:100%;height:100%;left:0;top:0;border:none !important;\" allowfullscreen webkitallowfullscreen mozallowfullscreen></iframe></div></div>"
      ],
      "text/plain": [
       "<folium.folium.Map at 0x7fb44d17ad90>"
      ]
     },
     "execution_count": 43,
     "metadata": {},
     "output_type": "execute_result"
    }
   ],
   "source": [
    "indexMid = int(round(len(pareto_front_population)/2, 0))\n",
    "m = folium.Map(\n",
    "    location=[-12.0431805, -77.0282364], zoom_start=13, zoomControl= False, min_zoom=13, max_zoom=13)\n",
    "\n",
    "[(folium.Marker([marketPool[i].lat, marketPool[i].lon], icon=folium.Icon(color='red')).add_to(m)) for i in range(len(pareto_front_population[indexMid].chromosome)) if pareto_front_population[indexMid].chromosome[i]==0]\n",
    "[(folium.Marker([marketPool[i].lat, marketPool[i].lon], icon=folium.Icon(color='blue')).add_to(m)) for i in range(len(pareto_front_population[indexMid].chromosome)) if pareto_front_population[indexMid].chromosome[i]==1]\n",
    "points = [(marketPool[i].lat, marketPool[i].lon) for i in range(len(pareto_front_population[indexMid].chromosome)) if pareto_front_population[indexMid].chromosome[i]==1]\n",
    "points.append(points[0])\n",
    "folium.PolyLine(points, color=\"red\", weight=2.5, opacity=1).add_to(m)\n",
    "\n",
    "m"
   ]
  },
  {
   "cell_type": "code",
   "execution_count": 44,
   "metadata": {
    "colab": {
     "base_uri": "https://localhost:8080/",
     "height": 34
    },
    "colab_type": "code",
    "id": "9F63eRa3t28y",
    "outputId": "766131e7-4e89-4715-a549-2596b181dcc1"
   },
   "outputs": [
    {
     "name": "stdout",
     "output_type": "stream",
     "text": [
      "Esta solución tiene como cantidad de población 147050.0 y un maximo de distancia de entre locales de 18793.183110144168\n"
     ]
    }
   ],
   "source": [
    "print(\"Esta solución tiene como cantidad de población {} y un maximo de distancia de entre locales de {}\".format(pareto_front_population[indexMid].fitness[0], pareto_front_population[indexMid].fitness[1]))"
   ]
  },
  {
   "cell_type": "markdown",
   "metadata": {
    "colab_type": "text",
    "id": "PVgjo-2Va3F9"
   },
   "source": [
    "**j) Experimentación con el algoritmo**"
   ]
  },
  {
   "cell_type": "markdown",
   "metadata": {
    "colab_type": "text",
    "id": "uhQGVCXQa3F-"
   },
   "source": [
    "Experimente varias\n",
    "veces el algoritmo implementado con una población de 100 individuos y 500 generaciones\n",
    "(se sugiere ejecutar 10 veces). En cada ejecución registre los individuos de la frontera de\n",
    "Pareto final, así como los valores de las funciones objetivos de dichos individuo. Realice\n",
    "Plots de las fronteras de Pareto encontradas, ubicando en dichos plots los puntos de los\n",
    "mejores individuos encontrados con el algoritmo mono-objetivo."
   ]
  },
  {
   "cell_type": "code",
   "execution_count": 45,
   "metadata": {
    "colab": {
     "base_uri": "https://localhost:8080/",
     "height": 1000
    },
    "colab_type": "code",
    "collapsed": true,
    "id": "IaqnfKN_a3F_",
    "jupyter": {
     "outputs_hidden": true
    },
    "outputId": "f069296e-046e-4b6f-afda-5a8121df3aee"
   },
   "outputs": [
    {
     "name": "stdout",
     "output_type": "stream",
     "text": [
      "Iteracion 1\n",
      "Generacion 0 (de 500) \n",
      "Generacion 10 (de 500) \n",
      "Generacion 20 (de 500) \n",
      "Generacion 30 (de 500) \n",
      "Generacion 40 (de 500) \n",
      "Generacion 50 (de 500) \n",
      "Generacion 60 (de 500) \n",
      "Generacion 70 (de 500) \n",
      "Generacion 80 (de 500) \n",
      "Generacion 90 (de 500) \n",
      "Generacion 100 (de 500) \n",
      "Generacion 110 (de 500) \n",
      "Generacion 120 (de 500) \n",
      "Generacion 130 (de 500) \n",
      "Generacion 140 (de 500) \n",
      "Generacion 150 (de 500) \n",
      "Generacion 160 (de 500) \n",
      "Generacion 170 (de 500) \n",
      "Generacion 180 (de 500) \n",
      "Generacion 190 (de 500) \n",
      "Generacion 200 (de 500) \n",
      "Generacion 210 (de 500) \n",
      "Generacion 220 (de 500) \n",
      "Generacion 230 (de 500) \n",
      "Generacion 240 (de 500) \n",
      "Generacion 250 (de 500) \n",
      "Generacion 260 (de 500) \n",
      "Generacion 270 (de 500) \n",
      "Generacion 280 (de 500) \n",
      "Generacion 290 (de 500) \n",
      "Generacion 300 (de 500) \n",
      "Generacion 310 (de 500) \n",
      "Generacion 320 (de 500) \n",
      "Generacion 330 (de 500) \n",
      "Generacion 340 (de 500) \n",
      "Generacion 350 (de 500) \n",
      "Generacion 360 (de 500) \n",
      "Generacion 370 (de 500) \n",
      "Generacion 380 (de 500) \n",
      "Generacion 390 (de 500) \n",
      "Generacion 400 (de 500) \n",
      "Generacion 410 (de 500) \n",
      "Generacion 420 (de 500) \n",
      "Generacion 430 (de 500) \n",
      "Generacion 440 (de 500) \n",
      "Generacion 450 (de 500) \n",
      "Generacion 460 (de 500) \n",
      "Generacion 470 (de 500) \n",
      "Generacion 480 (de 500) \n",
      "Generacion 490 (de 500) \n",
      "Iteracion 2\n",
      "Generacion 0 (de 500) \n",
      "Generacion 10 (de 500) \n",
      "Generacion 20 (de 500) \n",
      "Generacion 30 (de 500) \n",
      "Generacion 40 (de 500) \n",
      "Generacion 50 (de 500) \n",
      "Generacion 60 (de 500) \n",
      "Generacion 70 (de 500) \n",
      "Generacion 80 (de 500) \n",
      "Generacion 90 (de 500) \n",
      "Generacion 100 (de 500) \n",
      "Generacion 110 (de 500) \n",
      "Generacion 120 (de 500) \n",
      "Generacion 130 (de 500) \n",
      "Generacion 140 (de 500) \n",
      "Generacion 150 (de 500) \n",
      "Generacion 160 (de 500) \n",
      "Generacion 170 (de 500) \n",
      "Generacion 180 (de 500) \n",
      "Generacion 190 (de 500) \n",
      "Generacion 200 (de 500) \n",
      "Generacion 210 (de 500) \n",
      "Generacion 220 (de 500) \n",
      "Generacion 230 (de 500) \n",
      "Generacion 240 (de 500) \n",
      "Generacion 250 (de 500) \n",
      "Generacion 260 (de 500) \n",
      "Generacion 270 (de 500) \n",
      "Generacion 280 (de 500) \n",
      "Generacion 290 (de 500) \n",
      "Generacion 300 (de 500) \n",
      "Generacion 310 (de 500) \n",
      "Generacion 320 (de 500) \n",
      "Generacion 330 (de 500) \n",
      "Generacion 340 (de 500) \n",
      "Generacion 350 (de 500) \n",
      "Generacion 360 (de 500) \n",
      "Generacion 370 (de 500) \n",
      "Generacion 380 (de 500) \n",
      "Generacion 390 (de 500) \n",
      "Generacion 400 (de 500) \n",
      "Generacion 410 (de 500) \n",
      "Generacion 420 (de 500) \n",
      "Generacion 430 (de 500) \n",
      "Generacion 440 (de 500) \n",
      "Generacion 450 (de 500) \n",
      "Generacion 460 (de 500) \n",
      "Generacion 470 (de 500) \n",
      "Generacion 480 (de 500) \n",
      "Generacion 490 (de 500) \n",
      "Iteracion 3\n",
      "Generacion 0 (de 500) \n",
      "Generacion 10 (de 500) \n",
      "Generacion 20 (de 500) \n",
      "Generacion 30 (de 500) \n",
      "Generacion 40 (de 500) \n",
      "Generacion 50 (de 500) \n",
      "Generacion 60 (de 500) \n",
      "Generacion 70 (de 500) \n",
      "Generacion 80 (de 500) \n",
      "Generacion 90 (de 500) \n",
      "Generacion 100 (de 500) \n",
      "Generacion 110 (de 500) \n",
      "Generacion 120 (de 500) \n",
      "Generacion 130 (de 500) \n",
      "Generacion 140 (de 500) \n",
      "Generacion 150 (de 500) \n",
      "Generacion 160 (de 500) \n",
      "Generacion 170 (de 500) \n",
      "Generacion 180 (de 500) \n",
      "Generacion 190 (de 500) \n",
      "Generacion 200 (de 500) \n",
      "Generacion 210 (de 500) \n",
      "Generacion 220 (de 500) \n",
      "Generacion 230 (de 500) \n",
      "Generacion 240 (de 500) \n",
      "Generacion 250 (de 500) \n",
      "Generacion 260 (de 500) \n",
      "Generacion 270 (de 500) \n",
      "Generacion 280 (de 500) \n",
      "Generacion 290 (de 500) \n",
      "Generacion 300 (de 500) \n",
      "Generacion 310 (de 500) \n",
      "Generacion 320 (de 500) \n",
      "Generacion 330 (de 500) \n",
      "Generacion 340 (de 500) \n",
      "Generacion 350 (de 500) \n",
      "Generacion 360 (de 500) \n",
      "Generacion 370 (de 500) \n",
      "Generacion 380 (de 500) \n",
      "Generacion 390 (de 500) \n",
      "Generacion 400 (de 500) \n",
      "Generacion 410 (de 500) \n",
      "Generacion 420 (de 500) \n",
      "Generacion 430 (de 500) \n",
      "Generacion 440 (de 500) \n",
      "Generacion 450 (de 500) \n",
      "Generacion 460 (de 500) \n",
      "Generacion 470 (de 500) \n",
      "Generacion 480 (de 500) \n",
      "Generacion 490 (de 500) \n",
      "Iteracion 4\n",
      "Generacion 0 (de 500) \n",
      "Generacion 10 (de 500) \n",
      "Generacion 20 (de 500) \n",
      "Generacion 30 (de 500) \n",
      "Generacion 40 (de 500) \n",
      "Generacion 50 (de 500) \n",
      "Generacion 60 (de 500) \n",
      "Generacion 70 (de 500) \n",
      "Generacion 80 (de 500) \n",
      "Generacion 90 (de 500) \n",
      "Generacion 100 (de 500) \n",
      "Generacion 110 (de 500) \n",
      "Generacion 120 (de 500) \n",
      "Generacion 130 (de 500) \n",
      "Generacion 140 (de 500) \n",
      "Generacion 150 (de 500) \n",
      "Generacion 160 (de 500) \n",
      "Generacion 170 (de 500) \n",
      "Generacion 180 (de 500) \n",
      "Generacion 190 (de 500) \n",
      "Generacion 200 (de 500) \n",
      "Generacion 210 (de 500) \n",
      "Generacion 220 (de 500) \n",
      "Generacion 230 (de 500) \n",
      "Generacion 240 (de 500) \n",
      "Generacion 250 (de 500) \n",
      "Generacion 260 (de 500) \n",
      "Generacion 270 (de 500) \n",
      "Generacion 280 (de 500) \n",
      "Generacion 290 (de 500) \n",
      "Generacion 300 (de 500) \n",
      "Generacion 310 (de 500) \n",
      "Generacion 320 (de 500) \n",
      "Generacion 330 (de 500) \n",
      "Generacion 340 (de 500) \n",
      "Generacion 350 (de 500) \n",
      "Generacion 360 (de 500) \n",
      "Generacion 370 (de 500) \n",
      "Generacion 380 (de 500) \n",
      "Generacion 390 (de 500) \n",
      "Generacion 400 (de 500) \n",
      "Generacion 410 (de 500) \n",
      "Generacion 420 (de 500) \n",
      "Generacion 430 (de 500) \n",
      "Generacion 440 (de 500) \n",
      "Generacion 450 (de 500) \n",
      "Generacion 460 (de 500) \n",
      "Generacion 470 (de 500) \n",
      "Generacion 480 (de 500) \n",
      "Generacion 490 (de 500) \n",
      "Iteracion 5\n",
      "Generacion 0 (de 500) \n",
      "Generacion 10 (de 500) \n",
      "Generacion 20 (de 500) \n",
      "Generacion 30 (de 500) \n",
      "Generacion 40 (de 500) \n",
      "Generacion 50 (de 500) \n",
      "Generacion 60 (de 500) \n",
      "Generacion 70 (de 500) \n",
      "Generacion 80 (de 500) \n",
      "Generacion 90 (de 500) \n",
      "Generacion 100 (de 500) \n",
      "Generacion 110 (de 500) \n",
      "Generacion 120 (de 500) \n",
      "Generacion 130 (de 500) \n",
      "Generacion 140 (de 500) \n",
      "Generacion 150 (de 500) \n",
      "Generacion 160 (de 500) \n",
      "Generacion 170 (de 500) \n",
      "Generacion 180 (de 500) \n",
      "Generacion 190 (de 500) \n",
      "Generacion 200 (de 500) \n",
      "Generacion 210 (de 500) \n",
      "Generacion 220 (de 500) \n",
      "Generacion 230 (de 500) \n",
      "Generacion 240 (de 500) \n",
      "Generacion 250 (de 500) \n",
      "Generacion 260 (de 500) \n",
      "Generacion 270 (de 500) \n",
      "Generacion 280 (de 500) \n",
      "Generacion 290 (de 500) \n",
      "Generacion 300 (de 500) \n",
      "Generacion 310 (de 500) \n",
      "Generacion 320 (de 500) \n",
      "Generacion 330 (de 500) \n",
      "Generacion 340 (de 500) \n",
      "Generacion 350 (de 500) \n",
      "Generacion 360 (de 500) \n",
      "Generacion 370 (de 500) \n",
      "Generacion 380 (de 500) \n",
      "Generacion 390 (de 500) \n",
      "Generacion 400 (de 500) \n",
      "Generacion 410 (de 500) \n",
      "Generacion 420 (de 500) \n",
      "Generacion 430 (de 500) \n",
      "Generacion 440 (de 500) \n",
      "Generacion 450 (de 500) \n",
      "Generacion 460 (de 500) \n",
      "Generacion 470 (de 500) \n",
      "Generacion 480 (de 500) \n",
      "Generacion 490 (de 500) \n",
      "Iteracion 6\n",
      "Generacion 0 (de 500) \n",
      "Generacion 10 (de 500) \n",
      "Generacion 20 (de 500) \n",
      "Generacion 30 (de 500) \n",
      "Generacion 40 (de 500) \n",
      "Generacion 50 (de 500) \n",
      "Generacion 60 (de 500) \n",
      "Generacion 70 (de 500) \n",
      "Generacion 80 (de 500) \n",
      "Generacion 90 (de 500) \n",
      "Generacion 100 (de 500) \n",
      "Generacion 110 (de 500) \n",
      "Generacion 120 (de 500) \n",
      "Generacion 130 (de 500) \n",
      "Generacion 140 (de 500) \n",
      "Generacion 150 (de 500) \n",
      "Generacion 160 (de 500) \n",
      "Generacion 170 (de 500) \n",
      "Generacion 180 (de 500) \n",
      "Generacion 190 (de 500) \n",
      "Generacion 200 (de 500) \n",
      "Generacion 210 (de 500) \n",
      "Generacion 220 (de 500) \n",
      "Generacion 230 (de 500) \n",
      "Generacion 240 (de 500) \n",
      "Generacion 250 (de 500) \n",
      "Generacion 260 (de 500) \n",
      "Generacion 270 (de 500) \n",
      "Generacion 280 (de 500) \n",
      "Generacion 290 (de 500) \n",
      "Generacion 300 (de 500) \n",
      "Generacion 310 (de 500) \n",
      "Generacion 320 (de 500) \n",
      "Generacion 330 (de 500) \n",
      "Generacion 340 (de 500) \n",
      "Generacion 350 (de 500) \n",
      "Generacion 360 (de 500) \n",
      "Generacion 370 (de 500) \n",
      "Generacion 380 (de 500) \n",
      "Generacion 390 (de 500) \n",
      "Generacion 400 (de 500) \n",
      "Generacion 410 (de 500) \n",
      "Generacion 420 (de 500) \n",
      "Generacion 430 (de 500) \n",
      "Generacion 440 (de 500) \n",
      "Generacion 450 (de 500) \n",
      "Generacion 460 (de 500) \n",
      "Generacion 470 (de 500) \n",
      "Generacion 480 (de 500) \n",
      "Generacion 490 (de 500) \n",
      "Iteracion 7\n",
      "Generacion 0 (de 500) \n",
      "Generacion 10 (de 500) \n",
      "Generacion 20 (de 500) \n",
      "Generacion 30 (de 500) \n",
      "Generacion 40 (de 500) \n",
      "Generacion 50 (de 500) \n",
      "Generacion 60 (de 500) \n",
      "Generacion 70 (de 500) \n",
      "Generacion 80 (de 500) \n",
      "Generacion 90 (de 500) \n",
      "Generacion 100 (de 500) \n",
      "Generacion 110 (de 500) \n",
      "Generacion 120 (de 500) \n",
      "Generacion 130 (de 500) \n",
      "Generacion 140 (de 500) \n",
      "Generacion 150 (de 500) \n",
      "Generacion 160 (de 500) \n",
      "Generacion 170 (de 500) \n",
      "Generacion 180 (de 500) \n",
      "Generacion 190 (de 500) \n",
      "Generacion 200 (de 500) \n",
      "Generacion 210 (de 500) \n",
      "Generacion 220 (de 500) \n",
      "Generacion 230 (de 500) \n",
      "Generacion 240 (de 500) \n",
      "Generacion 250 (de 500) \n",
      "Generacion 260 (de 500) \n",
      "Generacion 270 (de 500) \n",
      "Generacion 280 (de 500) \n",
      "Generacion 290 (de 500) \n",
      "Generacion 300 (de 500) \n",
      "Generacion 310 (de 500) \n",
      "Generacion 320 (de 500) \n",
      "Generacion 330 (de 500) \n",
      "Generacion 340 (de 500) \n",
      "Generacion 350 (de 500) \n",
      "Generacion 360 (de 500) \n",
      "Generacion 370 (de 500) \n",
      "Generacion 380 (de 500) \n",
      "Generacion 390 (de 500) \n",
      "Generacion 400 (de 500) \n",
      "Generacion 410 (de 500) \n",
      "Generacion 420 (de 500) \n",
      "Generacion 430 (de 500) \n",
      "Generacion 440 (de 500) \n",
      "Generacion 450 (de 500) \n",
      "Generacion 460 (de 500) \n",
      "Generacion 470 (de 500) \n",
      "Generacion 480 (de 500) \n",
      "Generacion 490 (de 500) \n",
      "Iteracion 8\n",
      "Generacion 0 (de 500) \n",
      "Generacion 10 (de 500) \n",
      "Generacion 20 (de 500) \n",
      "Generacion 30 (de 500) \n",
      "Generacion 40 (de 500) \n",
      "Generacion 50 (de 500) \n",
      "Generacion 60 (de 500) \n",
      "Generacion 70 (de 500) \n",
      "Generacion 80 (de 500) \n",
      "Generacion 90 (de 500) \n",
      "Generacion 100 (de 500) \n",
      "Generacion 110 (de 500) \n",
      "Generacion 120 (de 500) \n",
      "Generacion 130 (de 500) \n",
      "Generacion 140 (de 500) \n",
      "Generacion 150 (de 500) \n",
      "Generacion 160 (de 500) \n",
      "Generacion 170 (de 500) \n",
      "Generacion 180 (de 500) \n",
      "Generacion 190 (de 500) \n",
      "Generacion 200 (de 500) \n",
      "Generacion 210 (de 500) \n",
      "Generacion 220 (de 500) \n",
      "Generacion 230 (de 500) \n",
      "Generacion 240 (de 500) \n",
      "Generacion 250 (de 500) \n",
      "Generacion 260 (de 500) \n",
      "Generacion 270 (de 500) \n",
      "Generacion 280 (de 500) \n",
      "Generacion 290 (de 500) \n",
      "Generacion 300 (de 500) \n",
      "Generacion 310 (de 500) \n",
      "Generacion 320 (de 500) \n",
      "Generacion 330 (de 500) \n",
      "Generacion 340 (de 500) \n",
      "Generacion 350 (de 500) \n",
      "Generacion 360 (de 500) \n",
      "Generacion 370 (de 500) \n",
      "Generacion 380 (de 500) \n",
      "Generacion 390 (de 500) \n",
      "Generacion 400 (de 500) \n",
      "Generacion 410 (de 500) \n",
      "Generacion 420 (de 500) \n",
      "Generacion 430 (de 500) \n",
      "Generacion 440 (de 500) \n",
      "Generacion 450 (de 500) \n",
      "Generacion 460 (de 500) \n",
      "Generacion 470 (de 500) \n",
      "Generacion 480 (de 500) \n",
      "Generacion 490 (de 500) \n",
      "Iteracion 9\n",
      "Generacion 0 (de 500) \n",
      "Generacion 10 (de 500) \n",
      "Generacion 20 (de 500) \n",
      "Generacion 30 (de 500) \n",
      "Generacion 40 (de 500) \n",
      "Generacion 50 (de 500) \n",
      "Generacion 60 (de 500) \n",
      "Generacion 70 (de 500) \n",
      "Generacion 80 (de 500) \n",
      "Generacion 90 (de 500) \n",
      "Generacion 100 (de 500) \n",
      "Generacion 110 (de 500) \n",
      "Generacion 120 (de 500) \n",
      "Generacion 130 (de 500) \n",
      "Generacion 140 (de 500) \n",
      "Generacion 150 (de 500) \n",
      "Generacion 160 (de 500) \n",
      "Generacion 170 (de 500) \n",
      "Generacion 180 (de 500) \n",
      "Generacion 190 (de 500) \n",
      "Generacion 200 (de 500) \n",
      "Generacion 210 (de 500) \n",
      "Generacion 220 (de 500) \n",
      "Generacion 230 (de 500) \n",
      "Generacion 240 (de 500) \n",
      "Generacion 250 (de 500) \n",
      "Generacion 260 (de 500) \n",
      "Generacion 270 (de 500) \n",
      "Generacion 280 (de 500) \n",
      "Generacion 290 (de 500) \n",
      "Generacion 300 (de 500) \n",
      "Generacion 310 (de 500) \n",
      "Generacion 320 (de 500) \n",
      "Generacion 330 (de 500) \n",
      "Generacion 340 (de 500) \n",
      "Generacion 350 (de 500) \n",
      "Generacion 360 (de 500) \n",
      "Generacion 370 (de 500) \n",
      "Generacion 380 (de 500) \n",
      "Generacion 390 (de 500) \n",
      "Generacion 400 (de 500) \n",
      "Generacion 410 (de 500) \n",
      "Generacion 420 (de 500) \n",
      "Generacion 430 (de 500) \n",
      "Generacion 440 (de 500) \n",
      "Generacion 450 (de 500) \n",
      "Generacion 460 (de 500) \n",
      "Generacion 470 (de 500) \n",
      "Generacion 480 (de 500) \n",
      "Generacion 490 (de 500) \n",
      "Iteracion 10\n",
      "Generacion 0 (de 500) \n",
      "Generacion 10 (de 500) \n",
      "Generacion 20 (de 500) \n",
      "Generacion 30 (de 500) \n",
      "Generacion 40 (de 500) \n",
      "Generacion 50 (de 500) \n",
      "Generacion 60 (de 500) \n",
      "Generacion 70 (de 500) \n",
      "Generacion 80 (de 500) \n",
      "Generacion 90 (de 500) \n",
      "Generacion 100 (de 500) \n",
      "Generacion 110 (de 500) \n",
      "Generacion 120 (de 500) \n",
      "Generacion 130 (de 500) \n",
      "Generacion 140 (de 500) \n",
      "Generacion 150 (de 500) \n",
      "Generacion 160 (de 500) \n",
      "Generacion 170 (de 500) \n",
      "Generacion 180 (de 500) \n",
      "Generacion 190 (de 500) \n",
      "Generacion 200 (de 500) \n",
      "Generacion 210 (de 500) \n",
      "Generacion 220 (de 500) \n",
      "Generacion 230 (de 500) \n",
      "Generacion 240 (de 500) \n",
      "Generacion 250 (de 500) \n",
      "Generacion 260 (de 500) \n",
      "Generacion 270 (de 500) \n",
      "Generacion 280 (de 500) \n",
      "Generacion 290 (de 500) \n",
      "Generacion 300 (de 500) \n",
      "Generacion 310 (de 500) \n",
      "Generacion 320 (de 500) \n",
      "Generacion 330 (de 500) \n",
      "Generacion 340 (de 500) \n",
      "Generacion 350 (de 500) \n",
      "Generacion 360 (de 500) \n",
      "Generacion 370 (de 500) \n",
      "Generacion 380 (de 500) \n",
      "Generacion 390 (de 500) \n",
      "Generacion 400 (de 500) \n",
      "Generacion 410 (de 500) \n",
      "Generacion 420 (de 500) \n",
      "Generacion 430 (de 500) \n",
      "Generacion 440 (de 500) \n",
      "Generacion 450 (de 500) \n",
      "Generacion 460 (de 500) \n",
      "Generacion 470 (de 500) \n",
      "Generacion 480 (de 500) \n",
      "Generacion 490 (de 500) \n"
     ]
    }
   ],
   "source": [
    "## Hiperparametros del algoritmo genetico\n",
    "POP_SIZE = 100       # numero de individuos\n",
    "GENERATIONS = 500   # numero de generaciones\n",
    "PMUT = 1       # tasa de mutacion, influye en el resultado\n",
    "MIN_POP_SIZE = 100    # numero de individuos minimo\n",
    "MAX_POP_SIZE = 100    # numero de individuos maximo\n",
    "\n",
    "num_iteracion,individuos_pareto,obj_pob,obj_dist=([] for _ in range(4))\n",
    "for i in range(10):\n",
    "    \n",
    "    ## Inicializa una poblacion inicial de forma aleatoria\n",
    "    P = init_population(POP_SIZE,maxMark=10)\n",
    "\n",
    "    evaluate_population_nsga(P,marketPool)    #  evalua la poblacion inicial\n",
    "    print(f'Iteracion {i+1}')\n",
    "    ## Ejecuta los ciclos evolutivos \n",
    "    for g in range(GENERATIONS):   # Por cada generacion\n",
    "        if g %10 == 0:\n",
    "            print ('Generacion {} (de {}) '.format(g, GENERATIONS))\n",
    "\n",
    "        ## genera y evalua la poblacion hija    \n",
    "        Q = build_offspring_population(P, \"uniform\", \"flip\", PMUT)\n",
    "        evaluate_population_nsga(Q, marketPool)\n",
    "\n",
    "        ## une la poblacion padre y la poblacion hija\n",
    "        P.extend(Q) \n",
    "\n",
    "        ## Construye la poblacion de la siguiente generacion\n",
    "        P = build_next_population(P, MIN_POP_SIZE, MAX_POP_SIZE)\n",
    "\n",
    "    # Obtiene la poblacion de la frontera de pareto final \n",
    "    pareto_front_population = get_paretofront_population(P) \n",
    "    \n",
    "    num_iteracion.append([i for _ in range(len(pareto_front_population)) ]) #Almacenamos el numero de iteracion para distingirlos en el dataframe\n",
    "    individuos_pareto.append(pareto_front_population) #Almacenamos los individuos que se encuentran en la frontera de pareto\n",
    "    obj_pob.append([individuo.fitness[0] for individuo in pareto_front_population]) #Almacenamos el objetivo poblacion de cada individuo\n",
    "    obj_dist.append([individuo.fitness[1] for individuo in pareto_front_population]) #Almacenamos el objetivo distancia de cada individuo"
   ]
  },
  {
   "cell_type": "markdown",
   "metadata": {
    "colab_type": "text",
    "id": "_LjF__WQa3GD"
   },
   "source": [
    "Flatten para cada lista"
   ]
  },
  {
   "cell_type": "code",
   "execution_count": 46,
   "metadata": {
    "colab": {},
    "colab_type": "code",
    "id": "-3wMPEWNa3GE"
   },
   "outputs": [],
   "source": [
    "num_iteracion=[item for sublist in num_iteracion for item in sublist]\n",
    "individuos_pareto=[item for sublist in individuos_pareto for item in sublist]\n",
    "obj_pob=[item for sublist in obj_pob for item in sublist]\n",
    "obj_dist=[item for sublist in obj_dist for item in sublist]"
   ]
  },
  {
   "cell_type": "code",
   "execution_count": 47,
   "metadata": {
    "colab": {
     "base_uri": "https://localhost:8080/",
     "height": 419
    },
    "colab_type": "code",
    "id": "CGEE-nUwa3GG",
    "outputId": "7b5811aa-5d41-418f-b457-5ffd84bf847e"
   },
   "outputs": [
    {
     "data": {
      "text/html": [
       "<div>\n",
       "<style scoped>\n",
       "    .dataframe tbody tr th:only-of-type {\n",
       "        vertical-align: middle;\n",
       "    }\n",
       "\n",
       "    .dataframe tbody tr th {\n",
       "        vertical-align: top;\n",
       "    }\n",
       "\n",
       "    .dataframe thead th {\n",
       "        text-align: right;\n",
       "    }\n",
       "</style>\n",
       "<table border=\"1\" class=\"dataframe\">\n",
       "  <thead>\n",
       "    <tr style=\"text-align: right;\">\n",
       "      <th></th>\n",
       "      <th>numero_iteracion</th>\n",
       "      <th>individuos_pareto</th>\n",
       "      <th>objetivo_poblacion</th>\n",
       "      <th>objetivo_distancia</th>\n",
       "    </tr>\n",
       "  </thead>\n",
       "  <tbody>\n",
       "    <tr>\n",
       "      <th>0</th>\n",
       "      <td>0</td>\n",
       "      <td>&lt;__main__.Individual object at 0x7fb44d518d10&gt;</td>\n",
       "      <td>182050.0</td>\n",
       "      <td>10752.046944</td>\n",
       "    </tr>\n",
       "    <tr>\n",
       "      <th>1</th>\n",
       "      <td>0</td>\n",
       "      <td>&lt;__main__.Individual object at 0x7fb44d518e50&gt;</td>\n",
       "      <td>122350.0</td>\n",
       "      <td>23356.604240</td>\n",
       "    </tr>\n",
       "    <tr>\n",
       "      <th>2</th>\n",
       "      <td>0</td>\n",
       "      <td>&lt;__main__.Individual object at 0x7fb44d518a50&gt;</td>\n",
       "      <td>184600.0</td>\n",
       "      <td>7387.734582</td>\n",
       "    </tr>\n",
       "    <tr>\n",
       "      <th>3</th>\n",
       "      <td>0</td>\n",
       "      <td>&lt;__main__.Individual object at 0x7fb44a48ae50&gt;</td>\n",
       "      <td>138450.0</td>\n",
       "      <td>20572.539427</td>\n",
       "    </tr>\n",
       "    <tr>\n",
       "      <th>4</th>\n",
       "      <td>0</td>\n",
       "      <td>&lt;__main__.Individual object at 0x7fb44a48af90&gt;</td>\n",
       "      <td>124150.0</td>\n",
       "      <td>23129.997156</td>\n",
       "    </tr>\n",
       "    <tr>\n",
       "      <th>...</th>\n",
       "      <td>...</td>\n",
       "      <td>...</td>\n",
       "      <td>...</td>\n",
       "      <td>...</td>\n",
       "    </tr>\n",
       "    <tr>\n",
       "      <th>995</th>\n",
       "      <td>9</td>\n",
       "      <td>&lt;__main__.Individual object at 0x7fb44a0218d0&gt;</td>\n",
       "      <td>135450.0</td>\n",
       "      <td>21029.927317</td>\n",
       "    </tr>\n",
       "    <tr>\n",
       "      <th>996</th>\n",
       "      <td>9</td>\n",
       "      <td>&lt;__main__.Individual object at 0x7fb44a021750&gt;</td>\n",
       "      <td>134050.0</td>\n",
       "      <td>21164.084785</td>\n",
       "    </tr>\n",
       "    <tr>\n",
       "      <th>997</th>\n",
       "      <td>9</td>\n",
       "      <td>&lt;__main__.Individual object at 0x7fb44a021350&gt;</td>\n",
       "      <td>169700.0</td>\n",
       "      <td>14137.279598</td>\n",
       "    </tr>\n",
       "    <tr>\n",
       "      <th>998</th>\n",
       "      <td>9</td>\n",
       "      <td>&lt;__main__.Individual object at 0x7fb44a021fd0&gt;</td>\n",
       "      <td>168600.0</td>\n",
       "      <td>14429.393477</td>\n",
       "    </tr>\n",
       "    <tr>\n",
       "      <th>999</th>\n",
       "      <td>9</td>\n",
       "      <td>&lt;__main__.Individual object at 0x7fb44a021250&gt;</td>\n",
       "      <td>165150.0</td>\n",
       "      <td>14978.346960</td>\n",
       "    </tr>\n",
       "  </tbody>\n",
       "</table>\n",
       "<p>1000 rows × 4 columns</p>\n",
       "</div>"
      ],
      "text/plain": [
       "     numero_iteracion                               individuos_pareto  \\\n",
       "0                   0  <__main__.Individual object at 0x7fb44d518d10>   \n",
       "1                   0  <__main__.Individual object at 0x7fb44d518e50>   \n",
       "2                   0  <__main__.Individual object at 0x7fb44d518a50>   \n",
       "3                   0  <__main__.Individual object at 0x7fb44a48ae50>   \n",
       "4                   0  <__main__.Individual object at 0x7fb44a48af90>   \n",
       "..                ...                                             ...   \n",
       "995                 9  <__main__.Individual object at 0x7fb44a0218d0>   \n",
       "996                 9  <__main__.Individual object at 0x7fb44a021750>   \n",
       "997                 9  <__main__.Individual object at 0x7fb44a021350>   \n",
       "998                 9  <__main__.Individual object at 0x7fb44a021fd0>   \n",
       "999                 9  <__main__.Individual object at 0x7fb44a021250>   \n",
       "\n",
       "     objetivo_poblacion  objetivo_distancia  \n",
       "0              182050.0        10752.046944  \n",
       "1              122350.0        23356.604240  \n",
       "2              184600.0         7387.734582  \n",
       "3              138450.0        20572.539427  \n",
       "4              124150.0        23129.997156  \n",
       "..                  ...                 ...  \n",
       "995            135450.0        21029.927317  \n",
       "996            134050.0        21164.084785  \n",
       "997            169700.0        14137.279598  \n",
       "998            168600.0        14429.393477  \n",
       "999            165150.0        14978.346960  \n",
       "\n",
       "[1000 rows x 4 columns]"
      ]
     },
     "execution_count": 47,
     "metadata": {},
     "output_type": "execute_result"
    }
   ],
   "source": [
    "resultados_multi_obj=pd.DataFrame({'numero_iteracion':num_iteracion,'individuos_pareto':individuos_pareto,\n",
    "                                   'objetivo_poblacion':obj_pob,'objetivo_distancia':obj_dist})\n",
    "resultados_multi_obj"
   ]
  },
  {
   "cell_type": "markdown",
   "metadata": {
    "colab_type": "text",
    "id": "vz63KkFYa3GL"
   },
   "source": [
    "**k) Plots de las fronteras de pareto**"
   ]
  },
  {
   "cell_type": "code",
   "execution_count": 48,
   "metadata": {
    "colab": {
     "base_uri": "https://localhost:8080/",
     "height": 702
    },
    "colab_type": "code",
    "collapsed": true,
    "id": "SVKMQt0Ea3GM",
    "jupyter": {
     "outputs_hidden": true,
     "source_hidden": true
    },
    "outputId": "3c9ebbd4-033b-4a64-c0bd-a296b1202c72"
   },
   "outputs": [
    {
     "data": {
      "image/png": "[encoded data removed]",
      "text/plain": [
       "<Figure size 1440x720 with 10 Axes>"
      ]
     },
     "metadata": {
      "needs_background": "light"
     },
     "output_type": "display_data"
    }
   ],
   "source": [
    "fig,axes=plt.subplots(nrows=2, ncols=5,figsize=(20,10))\n",
    "fig.tight_layout(pad=4)\n",
    "for i in range(10):\n",
    "    subplot=plt.subplot(2,5, i+1)    \n",
    "    plt.title(f'Iteración {i+1}', loc='center', fontsize=20, fontweight=0)\n",
    "    fitnesses = np.zeros([pop_size, num_objectives])\n",
    "    for j in range(pop_size): fitnesses[j,:] = resultados_multi_obj.individuos_pareto[resultados_multi_obj.numero_iteracion == i].iloc[j].fitness\n",
    "    x = fitnesses[:, 0]/CHROMOSOME_SIZE*100\n",
    "    y = fitnesses[:, 1]/CHROMOSOME_SIZE*100\n",
    "    plt.xlabel('Objectivo Poblacion - % maximo obtenible') #Primer objetivo: Maximizar el valor de la mochila\n",
    "    plt.ylabel('Objectivo Distancia - % maximo obtenible') #Segundo objetivo: Minimizar el peso de la mochila\n",
    "    plt.scatter(x,y)\n",
    "    #Plot de los mejores individuos encontrados con el algoritmo mono objetivo\n",
    "    x_multi=resultados_mono_obj.iloc[i].suma_poblacion/CHROMOSOME_SIZE*100\n",
    "    y_multi=resultados_mono_obj.iloc[i].suma_distancia/CHROMOSOME_SIZE*100\n",
    "    plt.scatter(x_multi,y_multi,c='red')"
   ]
  }
 ],
 "metadata": {
  "colab": {
   "collapsed_sections": [],
   "name": "OptimizacionMarket.ipynb",
   "provenance": []
  },
  "kernelspec": {
   "display_name": "Python [conda env:ArtInte]",
   "language": "python",
   "name": "conda-env-ArtInte-py"
  },
  "language_info": {
   "codemirror_mode": {
    "name": "ipython",
    "version": 3
   },
   "file_extension": ".py",
   "mimetype": "text/x-python",
   "name": "python",
   "nbconvert_exporter": "python",
   "pygments_lexer": "ipython3",
   "version": "3.7.5"
  }
 },
 "nbformat": 4,
 "nbformat_minor": 4
}
