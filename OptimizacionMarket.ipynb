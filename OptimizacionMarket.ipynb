{
 "cells": [
  {
   "cell_type": "markdown",
   "metadata": {},
   "source": [
    "# **Proyecto final: Usando computación evolutiva para encontrar localizaciones optimas de una cadena de supermercados**"
   ]
  },
  {
   "cell_type": "markdown",
   "metadata": {},
   "source": [
    "## **1) Algoritmo genético mono-objetivo**"
   ]
  },
  {
   "cell_type": "markdown",
   "metadata": {},
   "source": [
    "**a) Importando las librerias necesarias**"
   ]
  },
  {
   "cell_type": "code",
   "execution_count": 1,
   "metadata": {},
   "outputs": [],
   "source": [
    "import pandas as pd\n",
    "import math\n",
    "import sys\n",
    "import time\n",
    "import numpy as np\n",
    "from random import shuffle, random, sample, randint, randrange, uniform\n",
    "from copy import deepcopy\n",
    "import matplotlib.pyplot as plt"
   ]
  },
  {
   "cell_type": "markdown",
   "metadata": {},
   "source": [
    "**b) Leyendo la información proporcionada**"
   ]
  },
  {
   "cell_type": "code",
   "execution_count": 2,
   "metadata": {},
   "outputs": [
    {
     "data": {
      "text/html": [
       "<div>\n",
       "<style scoped>\n",
       "    .dataframe tbody tr th:only-of-type {\n",
       "        vertical-align: middle;\n",
       "    }\n",
       "\n",
       "    .dataframe tbody tr th {\n",
       "        vertical-align: top;\n",
       "    }\n",
       "\n",
       "    .dataframe thead th {\n",
       "        text-align: right;\n",
       "    }\n",
       "</style>\n",
       "<table border=\"1\" class=\"dataframe\">\n",
       "  <thead>\n",
       "    <tr style=\"text-align: right;\">\n",
       "      <th></th>\n",
       "      <th>ID</th>\n",
       "      <th>Descripcion</th>\n",
       "      <th>Latitud</th>\n",
       "      <th>Longitud</th>\n",
       "      <th>Poblacion500m</th>\n",
       "    </tr>\n",
       "  </thead>\n",
       "  <tbody>\n",
       "    <tr>\n",
       "      <th>0</th>\n",
       "      <td>Punto 1</td>\n",
       "      <td>Esq. Benavides con Nicolas Dueñas</td>\n",
       "      <td>-12.04861</td>\n",
       "      <td>-77.06496</td>\n",
       "      <td>16500</td>\n",
       "    </tr>\n",
       "    <tr>\n",
       "      <th>1</th>\n",
       "      <td>Ponto 2</td>\n",
       "      <td>Sta Bernardita con Republica de Venezuela</td>\n",
       "      <td>-12.05956</td>\n",
       "      <td>-77.07583</td>\n",
       "      <td>18000</td>\n",
       "    </tr>\n",
       "    <tr>\n",
       "      <th>2</th>\n",
       "      <td>Ponto 3</td>\n",
       "      <td>Santa Susana con Santa Gertrudis</td>\n",
       "      <td>-12.06524</td>\n",
       "      <td>-77.07334</td>\n",
       "      <td>17000</td>\n",
       "    </tr>\n",
       "    <tr>\n",
       "      <th>3</th>\n",
       "      <td>Ponto 4</td>\n",
       "      <td>Belizario Sosa Pelaez</td>\n",
       "      <td>-12.05998</td>\n",
       "      <td>-77.06300</td>\n",
       "      <td>15000</td>\n",
       "    </tr>\n",
       "    <tr>\n",
       "      <th>4</th>\n",
       "      <td>Ponto 5</td>\n",
       "      <td>Esq. Aurelio Garcia y Miranono Arredondo</td>\n",
       "      <td>-12.05541</td>\n",
       "      <td>-77.07497</td>\n",
       "      <td>17100</td>\n",
       "    </tr>\n",
       "  </tbody>\n",
       "</table>\n",
       "</div>"
      ],
      "text/plain": [
       "        ID                                Descripcion   Latitud  Longitud  \\\n",
       "0  Punto 1          Esq. Benavides con Nicolas Dueñas -12.04861 -77.06496   \n",
       "1  Ponto 2  Sta Bernardita con Republica de Venezuela -12.05956 -77.07583   \n",
       "2  Ponto 3           Santa Susana con Santa Gertrudis -12.06524 -77.07334   \n",
       "3  Ponto 4                      Belizario Sosa Pelaez -12.05998 -77.06300   \n",
       "4  Ponto 5   Esq. Aurelio Garcia y Miranono Arredondo -12.05541 -77.07497   \n",
       "\n",
       "   Poblacion500m  \n",
       "0          16500  \n",
       "1          18000  \n",
       "2          17000  \n",
       "3          15000  \n",
       "4          17100  "
      ]
     },
     "execution_count": 2,
     "metadata": {},
     "output_type": "execute_result"
    }
   ],
   "source": [
    "dataset=pd.read_excel('UbicacionSupermercados/Candidatos_supermercados.xlsx')\n",
    "dataset.head()"
   ]
  },
  {
   "cell_type": "markdown",
   "metadata": {},
   "source": [
    "**c) Cálculo de las distancias entre cada punto**"
   ]
  },
  {
   "cell_type": "markdown",
   "metadata": {},
   "source": [
    "Función para el cálculo de las distancias entre dos puntos teniendo la latitud y longitud de las coordenadas"
   ]
  },
  {
   "cell_type": "code",
   "execution_count": 3,
   "metadata": {},
   "outputs": [],
   "source": [
    "lista_total_distancias={}\n",
    "radio_tierra=6378 #radio ecuatorial\n",
    "def getDistances(dataset):\n",
    "    \"\"\"Función para el cálculo de las distancias entre todos los puntos teniendo la latitud y longitud de las coordenadas.\n",
    "    \n",
    "    Para el cálculo de las distancias entre los puntos se hace uso de Haversine Formula\n",
    "    Parámetros:\n",
    "                -dataset: Dataset del tipo dataFrame pandas\n",
    "                \n",
    "    Retorna: Un diccionario de la forma {(punto1,punto2):distancia}\n",
    "    \"\"\"\n",
    "    valores=dataset[['Latitud','Longitud']].values\n",
    "    for i in range(len(valores)):\n",
    "        for j in range(i+1,len(valores)):\n",
    "            dif_lat=valores[j][0] - valores[i][0] #Hallamos la diferencia de latitud\n",
    "            dif_lon=valores[j][1] - valores[i][1] #Hallamos la diferencia de longitud\n",
    "            a=pow(math.sin(dif_lat/2),2)+(math.cos(valores[i][0])*(math.cos(valores[j][0])))*pow(math.sin(dif_lon/2),2)\n",
    "            c=2*math.asin(min(1,math.sqrt(a)))\n",
    "            lista_total_distancias[(i,j)]=radio_tierra * c "
   ]
  },
  {
   "cell_type": "code",
   "execution_count": 4,
   "metadata": {},
   "outputs": [],
   "source": [
    "getDistances(dataset)"
   ]
  },
  {
   "cell_type": "code",
   "execution_count": 5,
   "metadata": {},
   "outputs": [
    {
     "data": {
      "text/plain": [
       "92.35295446475958"
      ]
     },
     "execution_count": 5,
     "metadata": {},
     "output_type": "execute_result"
    }
   ],
   "source": [
    "lista_total_distancias[(0,1)]"
   ]
  },
  {
   "cell_type": "markdown",
   "metadata": {},
   "source": [
    "**d) Definición del objeto Market para el problema**"
   ]
  },
  {
   "cell_type": "markdown",
   "metadata": {},
   "source": [
    "Un objeto de la clase Market almacena las instancias del dataframe"
   ]
  },
  {
   "cell_type": "code",
   "execution_count": 6,
   "metadata": {},
   "outputs": [],
   "source": [
    "class Market(object):\n",
    "    def __init__(self,ID,descr,pob,latitud,longitud):\n",
    "        self.id=ID\n",
    "        self.descr=descr\n",
    "        self.pob=pob\n",
    "        self.lat=latitud\n",
    "        self.lon=longitud"
   ]
  },
  {
   "cell_type": "markdown",
   "metadata": {},
   "source": [
    "**e) Definición de la estructura de un individuo en el AG con sus operadores genéticos**"
   ]
  },
  {
   "cell_type": "code",
   "execution_count": 7,
   "metadata": {},
   "outputs": [],
   "source": [
    "class Individual:\n",
    "    \"\"\" Implementa el individuo del AG. Un individuo tiene un cromosoma que es una lista de num_markets elementos (genes),\n",
    "       cada gen i puede asumir dos posibles alelos: 0 o 1 (no incluir/incluir en la solución el market i del pool) \"\"\"\n",
    "\n",
    "    def __init__(self, chromosome,maxMark=10):  # el constructor recibe un cromosoma\n",
    "        self.chromosome = chromosome[:]  \n",
    "        self.fitness = -1  # -1 indica que el individuo no ha sido evaluado\n",
    "        self.maxMark=maxMark #Cantidad Máxima de markets que desea obtener en la solución\n",
    "\n",
    "    def crossover_onepoint(self, other):\n",
    "        \"Retorna dos nuevos individuos del cruzamiento de un punto entre individuos self y other \"\n",
    "        c = randrange(len(self.chromosome))\n",
    "        ind1 = Individual(self.chromosome[:c] + other.chromosome[c:],self.maxMark)\n",
    "        ind2 = Individual(other.chromosome[:c] + self.chromosome[c:],self.maxMark)\n",
    "        ind1,ind2=self.__verify([ind1,ind2])\n",
    "        return [ind1, ind2]   \n",
    "    \n",
    "    def crossover_uniform(self, other):\n",
    "        chromosome1 = []\n",
    "        chromosome2 = []\n",
    "        \"Retorna dos nuevos individuos del cruzamiento uniforme entre self y other \"\n",
    "        for i in range(len(self.chromosome)):\n",
    "            if uniform(0, 1) < 0.5:\n",
    "                chromosome1.append(self.chromosome[i])\n",
    "                chromosome2.append(other.chromosome[i])\n",
    "            else:\n",
    "                chromosome1.append(other.chromosome[i])\n",
    "                chromosome2.append(self.chromosome[i])\n",
    "        ind1 = Individual(chromosome1,self.maxMark)\n",
    "        ind2 = Individual(chromosome2,self.maxMark)\n",
    "        ind1,ind2=self.__verify([ind1,ind2])\n",
    "        return [ind1, ind2] \n",
    "    \n",
    "    \n",
    "    def mutation_flip(self):\n",
    "        \"Cambia aleatoriamente el alelo de un gen. Se tiene en consideración la cantidad máxima de markets que debe contar una posible solución.\"\n",
    "        new_chromosome = deepcopy(self.chromosome)\n",
    "        mutGene = randrange(0,len(new_chromosome))   # escoge un gen para mutar\n",
    "        if new_chromosome[mutGene] == 0:\n",
    "            #Cambiaremos un cero a un uno, por lo que habrá un uno mas, por lo que se deberá cambiar otro uno a cero\n",
    "            index_unos=[i for i in range(len(new_chromosome)) if new_chromosome[i] == 1]\n",
    "            index_uno=sample(index_unos,1) #Obtenemos un index de todos los unos para cambiarlo a cero\n",
    "            new_chromosome[mutGene] = 1 #Cambiamos a uno un cero\n",
    "            new_chromosome[index_uno[0]]=0 #Cambiamos a cero un uno\n",
    "        else:\n",
    "            index_ceros=[i for i in range(len(new_chromosome)) if new_chromosome[i] == 0]\n",
    "            index_cero=sample(index_ceros,1) #Obtenemos un index de todos los unos para cambiarlo a cero\n",
    "            new_chromosome[mutGene] = 0 #Compensamos\n",
    "            new_chromosome[index_cero[0]]=1 #Cambiamos a uno un cero\n",
    "            \n",
    "        return Individual(new_chromosome,self.maxMark)\n",
    "        \n",
    "    \n",
    "    def __verify(self,individuos):\n",
    "        \"\"\"Funcion para forzar que existan la cantidad máxima de markets(unos) dentro del cromosoma.\n",
    "        \"\"\"\n",
    "        resultado=[]\n",
    "        for ind in individuos:\n",
    "            cant_unos=ind.chromosome.count(1)\n",
    "            index_unos=[i for i in range(len(ind.chromosome)) if ind.chromosome[i] == 1] #Obtenemos los index de los unos dentro del cromosoma\n",
    "            if cant_unos >self.maxMark: #Verificando si el individuo tiene la cantidad maxima de markets(unos) aceptables \n",
    "                index_unos2chg=sample(index_unos,cant_unos - self.maxMark)# Obtenemos los index que cambiaremos a cero porque se pasó del máximo\n",
    "                for index in index_unos2chg:\n",
    "                    ind.chromosome[index]=0\n",
    "            elif cant_unos < self.maxMark: #Si el individuo tiene menos de la cantidad máxima \n",
    "                index_unos2chg=set(range(len(ind.chromosome))) - set(index_unos) #Quitamos los index en los cuales se encuentran los unos\n",
    "                random_index=sample(index_unos2chg,self.maxMark - cant_unos) #Generamos index aletorios para completar a la cantidad máxima\n",
    "                for index in random_index:\n",
    "                    ind.chromosome[index]=1\n",
    "            resultado.append(ind)\n",
    "        return resultado\n"
   ]
  },
  {
   "cell_type": "markdown",
   "metadata": {},
   "source": [
    "**f) Función para obtener el fitness del cromosoma**"
   ]
  },
  {
   "cell_type": "markdown",
   "metadata": {},
   "source": [
    "Haciendo uso del diccionario hallado previamente."
   ]
  },
  {
   "cell_type": "code",
   "execution_count": 8,
   "metadata": {},
   "outputs": [],
   "source": [
    "def get_fitness_lista(chromosome, markets):\n",
    "    \"\"\"Retorna el fitness del cromosoma pasado. Fitness es el valor total de los markets incluidos en el cromosoma\n",
    "        \"\"\"\n",
    "    fitness=0\n",
    "    markets_elegidos=[]\n",
    "    sum_pob=0\n",
    "    sum_dist=0\n",
    "    for i in range(len(markets)):\n",
    "        if chromosome[i] == 1:  # si el market i esta incluido en el cromosoma, acumula su poblacion y distancia\n",
    "            sum_pob += markets[i].pob\n",
    "            markets_elegidos.append(i)\n",
    "            \n",
    "    for j in markets_elegidos:\n",
    "        for k in markets_elegidos[j+1:]:\n",
    "            sum_dist=sum_dist+lista_total_distancias[(j,k)] # Hacemos uso del diccionario calculado previamente\n",
    "    \n",
    "    return sum_pob + sum_dist"
   ]
  },
  {
   "cell_type": "markdown",
   "metadata": {},
   "source": [
    "Calculando las distancias en cada instante"
   ]
  },
  {
   "cell_type": "code",
   "execution_count": 9,
   "metadata": {},
   "outputs": [],
   "source": [
    "def get_fitness(chromosome, markets):\n",
    "    \"\"\"Retorna el fitness del cromosoma pasado. Fitness es el valor total de los markets incluidos en el cromosoma\n",
    "        \"\"\"\n",
    "    fitness = 0 # initialize fitness to 0\n",
    "    lista_distancias=[]\n",
    "    sum_pob=0\n",
    "    sum_dist=0\n",
    "    for i in range(len(markets)):\n",
    "        if chromosome[i] == 1:  # si el market i esta incluido en el cromosoma, acumula su poblacion y distancia\n",
    "            sum_pob += markets[i].pob\n",
    "            lista_distancias.append((markets[i].lat,markets[i].lon))\n",
    "            \n",
    "    radio_tierra=6378 #radio ecuatorial\n",
    "    for i in range(len(lista_distancias)):\n",
    "        for j in lista_distancias[i+1:]:\n",
    "            dif_lat=j[0] - lista_distancias[i][0] #Hallamos la diferencia de latitud\n",
    "            dif_lon=j[1] - lista_distancias[i][1] #Hallamos la diferencia de longitud\n",
    "            a=pow(math.sin(dif_lat/2),2)+(math.cos(lista_distancias[i][0])*(math.cos(j[0])))*pow(math.sin(dif_lon/2),2)\n",
    "            c=2*math.asin(min(1,math.sqrt(a)))\n",
    "            sum_dist+=radio_tierra * c \n",
    "    fitness=sum_pob + sum_dist\n",
    "    \n",
    "    return fitness"
   ]
  },
  {
   "cell_type": "markdown",
   "metadata": {},
   "source": [
    "**g) Funcion para evaluar una población de individuos**"
   ]
  },
  {
   "cell_type": "code",
   "execution_count": 10,
   "metadata": {},
   "outputs": [],
   "source": [
    "def evaluate_population(population, markets):\n",
    "    \"\"\" Evalua una poblacion de individuos con la funcion get_fitness \"\"\"\n",
    "    pop_size = len(population)\n",
    "    for i in range(pop_size):\n",
    "        if population[i].fitness == -1:    # evalua solo si el individuo no esta evaluado\n",
    "            #Se puede hacer uso de las dos funciones para obtener los fitness\n",
    "            #population[i].fitness = get_fitness(population[i].chromosome, markets) \n",
    "            population[i].fitness = get_fitness_lista(population[i].chromosome, markets)"
   ]
  },
  {
   "cell_type": "markdown",
   "metadata": {},
   "source": [
    "**h) Funcion para inicializar aleatoriamente una población de individuos**"
   ]
  },
  {
   "cell_type": "code",
   "execution_count": 11,
   "metadata": {},
   "outputs": [],
   "source": [
    "def init_population(pop_size, chromosome_size=60,maxMark=10):\n",
    "    \"\"\"Inicializa una poblacion de pop_size individuos, cada cromosoma de individuo de tamaño chromosome_size.\n",
    "       \"\"\"\n",
    "    population = []\n",
    "    for i in range(pop_size):\n",
    "        index_unos=sample(range(chromosome_size),maxMark)\n",
    "        new_chromosome=[0 if i not in index_unos else 1 for i in range(chromosome_size)]\n",
    "        population.append( Individual(new_chromosome,maxMark))\n",
    "    return population"
   ]
  },
  {
   "cell_type": "markdown",
   "metadata": {},
   "source": [
    "**i) Funciones para escoger individuos aleatoriamente para el cruzamiento**"
   ]
  },
  {
   "cell_type": "markdown",
   "metadata": {},
   "source": [
    "Seleccion por ruleta"
   ]
  },
  {
   "cell_type": "code",
   "execution_count": 12,
   "metadata": {},
   "outputs": [],
   "source": [
    "def select_parents_roulette(population):\n",
    "    pop_size = len(population)\n",
    "    \n",
    "    # Escoje el primer padre\n",
    "    sumfitness = sum([indiv.fitness for indiv in population])  # suma total del fitness de la poblacion\n",
    "    pickfitness = uniform(0, sumfitness)   # escoge un numero aleatorio entre 0 y sumfitness\n",
    "    cumfitness = 0     # fitness acumulado\n",
    "    for i in range(pop_size):\n",
    "        cumfitness += population[i].fitness\n",
    "        if cumfitness > pickfitness: \n",
    "            iParent1 = i\n",
    "            break\n",
    "    \n",
    "    # Escoje el segundo padre, desconsiderando el primer padre\n",
    "    sumfitness = sumfitness - population[iParent1].fitness # retira el fitness del padre ya escogido\n",
    "    pickfitness = uniform(0, sumfitness)   # escoge un numero aleatorio entre 0 y sumfitness\n",
    "    cumfitness = 0     # fitness acumulado\n",
    "    for i in range(pop_size):\n",
    "        if i == iParent1: continue   # si es el primer padre \n",
    "        cumfitness += population[i].fitness\n",
    "        if cumfitness > pickfitness: \n",
    "            iParent2 = i\n",
    "            break        \n",
    "    return (population[iParent1], population[iParent2])"
   ]
  },
  {
   "cell_type": "markdown",
   "metadata": {},
   "source": [
    "Seleccion por Stochastic universal sampling"
   ]
  },
  {
   "cell_type": "code",
   "execution_count": 13,
   "metadata": {},
   "outputs": [],
   "source": [
    "def sus(poblacion,num_padres):\n",
    "    poblacion_local=poblacion[:]\n",
    "    padres=[]\n",
    "    fitness_total=sum([chromosome.fitness for chromosome in poblacion_local])\n",
    "    agujas=np.linspace(0,fitness_total,num_padres+1)\n",
    "    r_aleatorios=[int(uniform(agujas[i],agujas[i+1])) for i in range(len(agujas)-1)]\n",
    "    for r in r_aleatorios:\n",
    "        fitness_acumulado=0\n",
    "        for chromosome in poblacion_local:\n",
    "            fitness_acumulado+=chromosome.fitness\n",
    "            if fitness_acumulado >= r:\n",
    "                padres.append(chromosome)\n",
    "                break\n",
    "                \n",
    "    return padres"
   ]
  },
  {
   "cell_type": "markdown",
   "metadata": {},
   "source": [
    "**j) Funcion que selecciona la poblacion de la sgte generacion, dada la poblacion actual y poblacion de hijos**"
   ]
  },
  {
   "cell_type": "code",
   "execution_count": 14,
   "metadata": {},
   "outputs": [],
   "source": [
    "def select_survivors(population, offspring_population, numsurvivors):\n",
    "    next_population = []\n",
    "    population.extend(offspring_population) # une las dos poblaciones\n",
    "    isurvivors = sorted(range(len(population)), key=lambda i: population[i].fitness, reverse=True)[:numsurvivors]\n",
    "    for i in range(numsurvivors):\n",
    "        next_population.append(population[isurvivors[i]])\n",
    "    return next_population"
   ]
  },
  {
   "cell_type": "markdown",
   "metadata": {},
   "source": [
    "**k) Algoritmo Genetico para encontrar soluciones**"
   ]
  },
  {
   "cell_type": "code",
   "execution_count": 15,
   "metadata": {},
   "outputs": [],
   "source": [
    "def genetic_algorithm(population, markets, ngen=100, pmut=0.1, crossover=\"onepoint\", mutation=\"flip\",select='roulette'):\n",
    "    \"\"\"Algoritmo Genetico para el problema de la mochila\n",
    "        markets:      pool de markets a escoger. Debe ser una lista de objetos de clase Market\n",
    "        ngen:       maximo numero de generaciones \n",
    "        pmut:       tasa de mutacion\n",
    "        crossover:  operador de cruzamiento\n",
    "        mutation:   operador de mutacion\n",
    "    \"\"\"\n",
    "\n",
    "    pop_size = len(population)\n",
    "    evaluate_population(population, markets)  # evalua la poblacion inicial\n",
    "    ibest = sorted(range(len(population)), key=lambda i: population[i].fitness, reverse=True)[:1]  # mejor individuo\n",
    "    bestfitness = [population[ibest[0]].fitness]  # fitness del mejor individuo\n",
    "    print(\"Poblacion inicial, best_fitness = {}\".format(population[ibest[0]].fitness))\n",
    "\n",
    "    for g in range(ngen):   # Por cada generacion\n",
    "\n",
    "        ## Selecciona parejas de individuos (mating_pool) para cruzamiento con el metodo de la ruleta\n",
    "        mating_pool = []\n",
    "        if select == 'roulette':\n",
    "            for i in range(int(pop_size/2)): mating_pool.append(select_parents_roulette(population)) \n",
    "        elif select == 'sus':\n",
    "            for i in range(int(pop_size/2)): mating_pool.append(sus(population,2)) \n",
    "\n",
    "        ## Crea la poblacion descendencia cruzando las parejas del mating pool \n",
    "        offspring_population = []\n",
    "        for i in range(len(mating_pool)): \n",
    "            if crossover == \"onepoint\":\n",
    "                offspring_population.extend( mating_pool[i][0].crossover_onepoint(mating_pool[i][1]) ) # cruzamiento 1 punto\n",
    "            elif crossover == \"uniform\":\n",
    "                offspring_population.extend( mating_pool[i][0].crossover_uniform(mating_pool[i][1]) ) # cruzamiento uniforme\n",
    "            else:\n",
    "                raise NotImplementedError\n",
    "\n",
    "        ## Aplica el operador de mutacion con probabilidad pmut en cada hijo generado\n",
    "        for i in range(len(offspring_population)):\n",
    "            if uniform(0, 1) < pmut: \n",
    "                if mutation == \"flip\":\n",
    "                    offspring_population[i] = offspring_population[i].mutation_flip() # cambia el alelo de un gen\n",
    "                else:\n",
    "                    raise NotImplementedError   \n",
    "\n",
    "        ## Evalua la poblacion descendencia creada\n",
    "        evaluate_population(offspring_population, markets)   # evalua la poblacion descendencia\n",
    "\n",
    "        ## Selecciona pop_size individuos para la sgte. generación de la union de la pob. actual y  pob. descendencia\n",
    "        population = select_survivors(population, offspring_population, pop_size)\n",
    "\n",
    "        ## Almacena la historia del fitness del mejor individuo\n",
    "        ibest = sorted(range(len(population)), key=lambda i: population[i].fitness, reverse=True)[:1]\n",
    "        bestfitness.append(population[ibest[0]].fitness)\n",
    "\n",
    "        if (g % 10 == 0):  # muestra resultados cada 10 generaciones\n",
    "            print(\"generacion {}, Mejor fitness = {})\".format(g, population[ibest[0]].fitness))\n",
    "\n",
    "    print(\"Mejor individuo en la ultima generacion = {} (fitness = {})\".format(population[ibest[0]].chromosome, population[ibest[0]].fitness))\n",
    "    return population[ibest[0]], bestfitness  # devuelve el mejor individuo y la lista de mejores fitness x gen"
   ]
  },
  {
   "cell_type": "markdown",
   "metadata": {},
   "source": [
    "**l) Creación del marketpool**"
   ]
  },
  {
   "cell_type": "code",
   "execution_count": 16,
   "metadata": {},
   "outputs": [],
   "source": [
    "marketPool=[]\n",
    "for i in range(len(dataset)):\n",
    "    ID=dataset.iloc[i].ID\n",
    "    descp=dataset.iloc[i].Descripcion\n",
    "    lat=dataset.iloc[i].Latitud\n",
    "    lon=dataset.iloc[i].Longitud\n",
    "    pob=dataset.iloc[i].Poblacion500m\n",
    "    marketPool.append(Market(ID,descp,pob,lat,lon))"
   ]
  },
  {
   "cell_type": "code",
   "execution_count": 17,
   "metadata": {},
   "outputs": [
    {
     "data": {
      "text/plain": [
       "16500"
      ]
     },
     "execution_count": 17,
     "metadata": {},
     "output_type": "execute_result"
    }
   ],
   "source": [
    "marketPool[0].pob"
   ]
  },
  {
   "cell_type": "markdown",
   "metadata": {},
   "source": [
    "**m) Ejecución del algoritmo**"
   ]
  },
  {
   "cell_type": "code",
   "execution_count": 18,
   "metadata": {},
   "outputs": [
    {
     "name": "stdout",
     "output_type": "stream",
     "text": [
      "Poblacion inicial, best_fitness = 178470.25051062906\n",
      "generacion 0, Mejor fitness = 178470.25051062906)\n",
      "generacion 10, Mejor fitness = 187483.62963319637)\n",
      "generacion 20, Mejor fitness = 191857.9049502923)\n",
      "generacion 30, Mejor fitness = 191857.9049502923)\n",
      "generacion 40, Mejor fitness = 192622.52093004016)\n",
      "generacion 50, Mejor fitness = 193070.0576138023)\n",
      "generacion 60, Mejor fitness = 193070.0576138023)\n",
      "generacion 70, Mejor fitness = 193070.0576138023)\n",
      "generacion 80, Mejor fitness = 193248.67046399458)\n",
      "generacion 90, Mejor fitness = 193248.67046399458)\n",
      "generacion 100, Mejor fitness = 193409.90950866626)\n",
      "generacion 110, Mejor fitness = 193409.90950866626)\n",
      "generacion 120, Mejor fitness = 193409.90950866626)\n",
      "generacion 130, Mejor fitness = 193409.90950866626)\n",
      "generacion 140, Mejor fitness = 193409.90950866626)\n",
      "generacion 150, Mejor fitness = 193409.90950866626)\n",
      "generacion 160, Mejor fitness = 193409.90950866626)\n",
      "generacion 170, Mejor fitness = 193409.90950866626)\n",
      "generacion 180, Mejor fitness = 193409.90950866626)\n",
      "generacion 190, Mejor fitness = 193409.90950866626)\n",
      "generacion 200, Mejor fitness = 193409.90950866626)\n",
      "generacion 210, Mejor fitness = 193409.90950866626)\n",
      "generacion 220, Mejor fitness = 193409.90950866626)\n",
      "generacion 230, Mejor fitness = 193409.90950866626)\n",
      "generacion 240, Mejor fitness = 193409.90950866626)\n",
      "generacion 250, Mejor fitness = 193409.90950866626)\n",
      "generacion 260, Mejor fitness = 193409.90950866626)\n",
      "generacion 270, Mejor fitness = 193409.90950866626)\n",
      "generacion 280, Mejor fitness = 193409.90950866626)\n",
      "generacion 290, Mejor fitness = 193409.90950866626)\n",
      "generacion 300, Mejor fitness = 193409.90950866626)\n",
      "generacion 310, Mejor fitness = 193409.90950866626)\n",
      "generacion 320, Mejor fitness = 193409.90950866626)\n",
      "generacion 330, Mejor fitness = 193409.90950866626)\n",
      "generacion 340, Mejor fitness = 193409.90950866626)\n",
      "generacion 350, Mejor fitness = 193409.90950866626)\n",
      "generacion 360, Mejor fitness = 193409.90950866626)\n",
      "generacion 370, Mejor fitness = 193409.90950866626)\n",
      "generacion 380, Mejor fitness = 193409.90950866626)\n",
      "generacion 390, Mejor fitness = 193409.90950866626)\n",
      "generacion 400, Mejor fitness = 193409.90950866626)\n",
      "generacion 410, Mejor fitness = 193409.90950866626)\n",
      "generacion 420, Mejor fitness = 193409.90950866626)\n",
      "generacion 430, Mejor fitness = 193409.90950866626)\n",
      "generacion 440, Mejor fitness = 193409.90950866626)\n",
      "generacion 450, Mejor fitness = 193409.90950866626)\n",
      "generacion 460, Mejor fitness = 193409.90950866626)\n",
      "generacion 470, Mejor fitness = 193409.90950866626)\n",
      "generacion 480, Mejor fitness = 193409.90950866626)\n",
      "generacion 490, Mejor fitness = 193409.90950866626)\n",
      "Mejor individuo en la ultima generacion = [1, 1, 1, 0, 0, 0, 0, 0, 0, 0, 0, 0, 0, 0, 0, 0, 0, 0, 0, 0, 0, 0, 0, 0, 0, 0, 0, 0, 0, 0, 0, 0, 0, 0, 0, 0, 0, 0, 0, 0, 0, 0, 0, 0, 0, 0, 0, 0, 1, 1, 1, 0, 0, 0, 0, 1, 1, 0, 1, 1] (fitness = 193409.90950866626)\n"
     ]
    },
    {
     "data": {
      "image/png": "[encoded data removed]",
      "text/plain": [
       "<Figure size 432x288 with 1 Axes>"
      ]
     },
     "metadata": {
      "needs_background": "light"
     },
     "output_type": "display_data"
    }
   ],
   "source": [
    "## Hiperparametros del algoritmo genetico\n",
    "POP_SIZE = 50       # numero de individuos\n",
    "GENERATIONS = 500   # numero de generaciones\n",
    "PMUT = 1        # taza de mutacion\n",
    "\n",
    "## Inicializa una poblacion inicial de forma aleatoria\n",
    "population = init_population(POP_SIZE,maxMark=10)\n",
    "\n",
    "# Evolue la poblacion con el algoritmo genetico (cruzamiento 'onepoint', )\n",
    "best_ind, bestfitness = genetic_algorithm(population, marketPool, GENERATIONS, PMUT, crossover=\"uniform\", mutation=\"flip\",select='roulette')\n",
    "\n",
    "# muestra la evolucion del mejor fitness\n",
    "plt.plot(bestfitness)\n",
    "plt.show()"
   ]
  },
  {
   "cell_type": "code",
   "execution_count": 19,
   "metadata": {},
   "outputs": [
    {
     "data": {
      "text/plain": [
       "[('Punto 1', 'Esq. Benavides con Nicolas Dueñas', 16500),\n",
       " ('Ponto 2', 'Sta Bernardita con Republica de Venezuela', 18000),\n",
       " ('Ponto 3', 'Santa Susana con Santa Gertrudis', 17000),\n",
       " ('Punto 49', 'Av. la Paz 838, Miraflores 15086', 18400),\n",
       " ('Punto 50', 'Calle San Martin 537, Miraflores 15074', 18800),\n",
       " ('Punto 51', 'Av 28 de Julio 331, Miraflores 15074', 18300),\n",
       " ('Punto 56', 'Calle Berlin 468, Miraflores 15074', 19000),\n",
       " ('Punto 57', 'Calle San Martin 300, Miraflores 15074', 18600),\n",
       " ('Punto 59', 'Calle de las Pizzas 104, Miraflores 15074', 18500),\n",
       " ('Punto 60', 'Calle Enrique Palacios 140, Miraflores 15074\\xa0', 20000)]"
      ]
     },
     "execution_count": 19,
     "metadata": {},
     "output_type": "execute_result"
    }
   ],
   "source": [
    "[(marketPool[i].id,marketPool[i].descr,marketPool[i].pob) for i in range(len(best_ind.chromosome)) if best_ind.chromosome[i]==1]"
   ]
  },
  {
   "cell_type": "markdown",
   "metadata": {},
   "source": [
    "## **2) Algoritmo multi-objetivo NSGA-II**"
   ]
  },
  {
   "cell_type": "markdown",
   "metadata": {},
   "source": [
    "**a) Función para obtener los fitness para los dos objetivos**"
   ]
  },
  {
   "cell_type": "code",
   "execution_count": 20,
   "metadata": {},
   "outputs": [],
   "source": [
    "def get_fitness_nsga(chromosome, markets):\n",
    "    fitnesses=np.zeros(2) #cantidad de objetivos a medir\n",
    "    markets_elegidos=[]\n",
    "    sum_pob=0\n",
    "    sum_dist=0\n",
    "    for i in range(len(markets)):\n",
    "        if chromosome[i] == 1:  # si el market i esta incluido en el cromosoma, acumula su poblacion y distancia\n",
    "            sum_pob += markets[i].pob\n",
    "            markets_elegidos.append(i)\n",
    "            \n",
    "    for j in markets_elegidos:\n",
    "        for k in markets_elegidos[j+1:]:\n",
    "            sum_dist=sum_dist+lista_total_distancias[(j,k)]\n",
    "    fitnesses[0]=sum_pob\n",
    "    fitnesses[1]=sum_dist\n",
    "    return fitnesses"
   ]
  },
  {
   "cell_type": "markdown",
   "metadata": {},
   "source": [
    "**b) Funcion para evaluar una población de individuos**"
   ]
  },
  {
   "cell_type": "code",
   "execution_count": 21,
   "metadata": {},
   "outputs": [],
   "source": [
    "def evaluate_population_nsga(population, markets):\n",
    "    \"\"\" Evalua una poblacion de individuos con la funcion get_fitness \"\"\"\n",
    "    pop_size = len(population)\n",
    "    for i in range(pop_size):\n",
    "        if population[i].fitness == -1:    # evalua solo si el individuo no esta evaluado\n",
    "            population[i].fitness = get_fitness_nsga(population[i].chromosome, markets)"
   ]
  },
  {
   "cell_type": "markdown",
   "metadata": {},
   "source": [
    "**c) Funcion para la obtencion de la poblacion descendiente**"
   ]
  },
  {
   "cell_type": "code",
   "execution_count": 22,
   "metadata": {},
   "outputs": [],
   "source": [
    "def build_offspring_population(population, crossover, mutation, pmut):     \n",
    "    \"\"\" Construye una poblacion hija con los operadores de cruzamiento y mutacion pasados\n",
    "        crossover:  operador de cruzamiento\n",
    "        mutation:   operador de mutacion\n",
    "        pmut:       taza de mutacion\n",
    "    \"\"\"\n",
    "    pop_size = len(population)\n",
    "    \n",
    "    ## Selecciona parejas de individuos (mating_pool) para cruzamiento con el metodo de la ruleta\n",
    "    mating_pool = []\n",
    "    for i in range(int(pop_size/2)): \n",
    "        # escoge dos individuos diferentes aleatoriamente de la poblacion\n",
    "        permut = np.random.permutation( pop_size )\n",
    "        mating_pool.append( (population[permut[0]], population[permut[1]] ) ) \n",
    "        \n",
    "    ## Crea la poblacion descendencia cruzando las parejas del mating pool \n",
    "    offspring_population = []\n",
    "    for i in range(len(mating_pool)): \n",
    "        if crossover == \"onepoint\":\n",
    "            offspring_population.extend( mating_pool[i][0].crossover_onepoint(mating_pool[i][1]) ) # cruzamiento 1 punto\n",
    "        elif crossover == \"uniform\":\n",
    "            offspring_population.extend( mating_pool[i][0].crossover_uniform(mating_pool[i][1]) ) # cruzamiento uniforme\n",
    "        else:\n",
    "            raise NotImplementedError\n",
    "\n",
    "    ## Aplica el operador de mutacion con probabilidad pmut en cada hijo generado\n",
    "    for i in range(len(offspring_population)):\n",
    "        if uniform(0, 1) < pmut: \n",
    "            if mutation == \"flip\":\n",
    "                offspring_population[i] = offspring_population[i].mutation_flip() # cambia el alelo de un gen\n",
    "            else:\n",
    "                raise NotImplementedError   \n",
    "                \n",
    "    return offspring_population\n"
   ]
  },
  {
   "cell_type": "markdown",
   "metadata": {},
   "source": [
    "**d) Funcion para la obtencion de las distancias crowding**"
   ]
  },
  {
   "cell_type": "code",
   "execution_count": 23,
   "metadata": {},
   "outputs": [],
   "source": [
    "def get_crowding_distances(fitnesses):\n",
    "    \"\"\"\n",
    "    La distancia crowding de un individuo es la diferencia del fitness mas proximo hacia arriba menos el fitness mas proximo \n",
    "    hacia abajo. El valor crowding total es la suma de todas las distancias crowdings para todos los fitness\n",
    "    \"\"\"\n",
    "    #fitnesses de la forma np.array( [ [23,23],[12,21],[2,2] ])\n",
    "    pop_size = len(fitnesses[:, 0])\n",
    "    num_objectives = len(fitnesses[0, :])\n",
    "\n",
    "    # crea matriz crowding. Filas representan individuos, columnas representan objectives\n",
    "    crowding_matrix = np.zeros((pop_size, num_objectives))\n",
    "\n",
    "    # normaliza los fitnesses entre 0 y 1 (ptp es max - min)\n",
    "    # Es importante normalizar los fitness porque pueden venir con diferentes unidades de medida\n",
    "    normalized_fitnesses = (fitnesses - fitnesses.min(0)) / fitnesses.ptp(0)\n",
    "\n",
    "    for col in range(num_objectives):   # Por cada objective\n",
    "        crowding = np.zeros(pop_size)\n",
    "\n",
    "        # puntos extremos tienen maximo crowding\n",
    "        crowding[0] = 1\n",
    "        crowding[pop_size - 1] = 1\n",
    "\n",
    "        # ordena los fitness normalizados del objectivo actual\n",
    "        sorted_fitnesses = np.sort(normalized_fitnesses[:, col])\n",
    "        sorted_fitnesses_index = np.argsort(normalized_fitnesses[:, col])\n",
    "\n",
    "        # Calcula la distancia crowding de cada individuo como la diferencia de score de los vecinos\n",
    "        crowding[1:pop_size - 1] = (sorted_fitnesses[2:pop_size] - sorted_fitnesses[0:pop_size - 2])\n",
    "\n",
    "        # obtiene el ordenamiento original\n",
    "        re_sort_order = np.argsort(sorted_fitnesses_index)\n",
    "        sorted_crowding = crowding[re_sort_order]\n",
    "\n",
    "        # Salva las distancias crowdingpara el objetivo que se esta iterando\n",
    "        crowding_matrix[:, col] = sorted_crowding\n",
    "\n",
    "    # Obtiene las distancias crowding finales sumando las distancias crowding de cada objetivo \n",
    "    crowding_distances = np.sum(crowding_matrix, axis=1)\n",
    "\n",
    "    return crowding_distances"
   ]
  },
  {
   "cell_type": "markdown",
   "metadata": {},
   "source": [
    "**e) Funcion para la seleccion por distancia crowding**"
   ]
  },
  {
   "cell_type": "code",
   "execution_count": 24,
   "metadata": {},
   "outputs": [],
   "source": [
    "def select_by_crowding(population, num_individuals):\n",
    "    \"\"\"\n",
    "    Selecciona una poblacion de individuos basado en torneos de pares de individuos: dos individuos se escoge al azar\n",
    "    y se selecciona el mejor segun la distancia crowding. Se repite hasta obtener num_individuals individuos\n",
    "    \"\"\"    \n",
    "    population = deepcopy(population)\n",
    "    pop_size = len(population)\n",
    "    num_objectives = len(population[0].fitness)\n",
    "    \n",
    "    # extrae los fitness de la poblacion en la matriz fitnesses\n",
    "    fitnesses = np.zeros([pop_size, num_objectives])\n",
    "    for i in range(pop_size): fitnesses[i,:] = population[i].fitness\n",
    "        \n",
    "    # obtiene las  distancias  crowding\n",
    "    crowding_distances = get_crowding_distances(fitnesses)   \n",
    "    \n",
    "    population_selected = []   # poblacion escogida\n",
    "\n",
    "    for i in range(num_individuals):  # por cada individuo a seleccionar\n",
    "\n",
    "        # escoje dos individuos aleatoriamente de la poblacion no escogida aun\n",
    "        permut = np.random.permutation( len(population) )\n",
    "        ind1_id = permut[0]\n",
    "        ind2_id = permut[1]\n",
    "\n",
    "        # Si ind1_id es el mejor\n",
    "        if crowding_distances[ind1_id] >= crowding_distances[ind2_id]:\n",
    "\n",
    "            # traslada el individuo ind1 de population a la lista de individuos seleccionados\n",
    "            population_selected.append( population.pop(ind1_id) )\n",
    "            # remueve la distancia crowding del individuo seleccionado\n",
    "            crowding_distances = np.delete(crowding_distances, ind1_id, axis=0)\n",
    "            \n",
    "        else:  # Si ind2_id es el mejor\n",
    "            \n",
    "            # traslada el individuo ind2 de population a la lista de individuos seleccionados\n",
    "            population_selected.append( population.pop(ind2_id) )\n",
    "            # remueve la distancia crowding del individuo seleccionado\n",
    "            crowding_distances = np.delete(crowding_distances, ind2_id, axis=0)\n",
    "\n",
    "    return (population_selected)"
   ]
  },
  {
   "cell_type": "markdown",
   "metadata": {},
   "source": [
    "**f) Funcion para de la frontera de pareto**"
   ]
  },
  {
   "cell_type": "code",
   "execution_count": 25,
   "metadata": {},
   "outputs": [],
   "source": [
    "def get_paretofront_population(population):\n",
    "    \"\"\"\n",
    "    Obtiene de population la poblacion de individups de la frontera de Pareto, \n",
    "    \"\"\"\n",
    "    population = deepcopy(population)\n",
    "    pop_size = len(population)\n",
    "    \n",
    "    # todos los individuos son inicialmente asumidos como la frontera de Pareto\n",
    "    pareto_front = np.ones(pop_size, dtype=bool)\n",
    "    \n",
    "    for i in range(pop_size): # Compara cada individuo contra todos los demas\n",
    "        for j in range(pop_size):\n",
    "            # Chequea si individuo 'i' es dominado por individuo 'j'\n",
    "            if all(population[j].fitness >= population[i].fitness) and any(population[j].fitness > population[i].fitness): #NO es OR ?\n",
    "                # j domina i -> señaliza que individuo 'i' como no siendo parte de la frontera de Pareto\n",
    "                pareto_front[i] = 0\n",
    "                break   # Para la busqueda para 'i' (no es necesario hacer mas comparaciones)\n",
    "\n",
    "    paretofront_population = []\n",
    "    for i in range(pop_size):  # construye la lista de individuos de la frontera de Pareto \n",
    "        if pareto_front[i] == 1: paretofront_population.append(population[i])\n",
    "        \n",
    "    return paretofront_population"
   ]
  },
  {
   "cell_type": "markdown",
   "metadata": {},
   "source": [
    "**g) Funcion para la obtencion de la siguiente poblacion**"
   ]
  },
  {
   "cell_type": "code",
   "execution_count": 26,
   "metadata": {},
   "outputs": [],
   "source": [
    "def build_next_population(population, min_pop_size, max_pop_size):\n",
    "    \"\"\"\n",
    "    Construye la poblacion de la siguiente generacion añadiendo sucesivas fronteras de Pareto hasta \n",
    "    tener una poblacion de al menos min_pop_size individuos. Reduce la frontera de Pareto con el metodo de\n",
    "    crowding distance si al agregar la frontera excede el tamaño maximo de la poblacion (max_pop_size)\n",
    "    \"\"\"\n",
    "    population = deepcopy(population)\n",
    "    pareto_front = []\n",
    "    next_population = []\n",
    "    \n",
    "    while len(next_population) < min_pop_size:   # mientras la poblacion no tenga el tamaño minimo\n",
    "        # obtiene la poblacion frontera de Pareto actual\n",
    "        paretofront_population = get_paretofront_population(population)\n",
    "        \n",
    "        # si poblacion actual + paretofront excede el maximo permitido -> reduce paretofront con el metodo de crowding\n",
    "        combined_population_size = len(next_population) + len(paretofront_population)\n",
    "        if  combined_population_size > max_pop_size:\n",
    "            paretofront_population = select_by_crowding( paretofront_population, max_pop_size-len(next_population) ) \n",
    "        \n",
    "        # Adiciona la frontera de Pareto (original o reducida) a la poblacion en construccion\n",
    "        next_population.extend( paretofront_population )\n",
    "    \n",
    "        # remueve de population los individuos que fueron agregados a next_population \n",
    "        for i in range( len(paretofront_population) ):\n",
    "            for j in range( len(population) ):\n",
    "                if all( np.asarray(paretofront_population[i].chromosome) == np.asarray(population[j].chromosome) ):\n",
    "                    del(population[j])\n",
    "                    break\n",
    "                    \n",
    "    return next_population"
   ]
  },
  {
   "cell_type": "markdown",
   "metadata": {},
   "source": [
    "**h) Ejecucion del algoritmo**"
   ]
  },
  {
   "cell_type": "code",
   "execution_count": 27,
   "metadata": {},
   "outputs": [
    {
     "name": "stdout",
     "output_type": "stream",
     "text": [
      "Generacion 0 (de 500) \n",
      "Generacion 10 (de 500) \n",
      "Generacion 20 (de 500) \n",
      "Generacion 30 (de 500) \n",
      "Generacion 40 (de 500) \n",
      "Generacion 50 (de 500) \n",
      "Generacion 60 (de 500) \n",
      "Generacion 70 (de 500) \n",
      "Generacion 80 (de 500) \n",
      "Generacion 90 (de 500) \n",
      "Generacion 100 (de 500) \n",
      "Generacion 110 (de 500) \n",
      "Generacion 120 (de 500) \n",
      "Generacion 130 (de 500) \n",
      "Generacion 140 (de 500) \n",
      "Generacion 150 (de 500) \n",
      "Generacion 160 (de 500) \n",
      "Generacion 170 (de 500) \n",
      "Generacion 180 (de 500) \n",
      "Generacion 190 (de 500) \n",
      "Generacion 200 (de 500) \n",
      "Generacion 210 (de 500) \n",
      "Generacion 220 (de 500) \n",
      "Generacion 230 (de 500) \n",
      "Generacion 240 (de 500) \n",
      "Generacion 250 (de 500) \n",
      "Generacion 260 (de 500) \n",
      "Generacion 270 (de 500) \n",
      "Generacion 280 (de 500) \n",
      "Generacion 290 (de 500) \n",
      "Generacion 300 (de 500) \n",
      "Generacion 310 (de 500) \n",
      "Generacion 320 (de 500) \n",
      "Generacion 330 (de 500) \n",
      "Generacion 340 (de 500) \n",
      "Generacion 350 (de 500) \n",
      "Generacion 360 (de 500) \n",
      "Generacion 370 (de 500) \n",
      "Generacion 380 (de 500) \n",
      "Generacion 390 (de 500) \n",
      "Generacion 400 (de 500) \n",
      "Generacion 410 (de 500) \n",
      "Generacion 420 (de 500) \n",
      "Generacion 430 (de 500) \n",
      "Generacion 440 (de 500) \n",
      "Generacion 450 (de 500) \n",
      "Generacion 460 (de 500) \n",
      "Generacion 470 (de 500) \n",
      "Generacion 480 (de 500) \n",
      "Generacion 490 (de 500) \n"
     ]
    }
   ],
   "source": [
    "## Hiperparametros del algoritmo genetico\n",
    "POP_SIZE = 50       # numero de individuos\n",
    "GENERATIONS = 500   # numero de generaciones\n",
    "PMUT = 1        # taza de mutacion\n",
    "MIN_POP_SIZE = 100    # numero de individuos minimo\n",
    "MAX_POP_SIZE = 100    # numero de individuos maximo\n",
    "\n",
    "## Inicializa una poblacion inicial de forma aleatoria\n",
    "P = init_population(POP_SIZE,maxMark=10)\n",
    "\n",
    "evaluate_population_nsga(P,marketPool)    #  evalua la poblacion inicial\n",
    "## Ejecuta los ciclos evolutivos \n",
    "for g in range(GENERATIONS):   # Por cada generacion\n",
    "    \n",
    "    if g %10 == 0:\n",
    "        print ('Generacion {} (de {}) '.format(g, GENERATIONS))\n",
    "    \n",
    "    ## genera y evalua la poblacion hija    \n",
    "    Q = build_offspring_population(P, \"uniform\", \"flip\", PMUT)\n",
    "    evaluate_population_nsga(Q, marketPool)\n",
    "    \n",
    "    ## une la poblacion padre y la poblacion hija\n",
    "    P.extend(Q) \n",
    "    \n",
    "    ## Construye la poblacion de la siguiente generacion\n",
    "    P = build_next_population(P, MIN_POP_SIZE, MAX_POP_SIZE)\n",
    "\n",
    "# Obtiene la poblacion de la frontera de pareto final \n",
    "pareto_front_population = get_paretofront_population(P)"
   ]
  },
  {
   "cell_type": "markdown",
   "metadata": {},
   "source": [
    "**i) Visualizacion de la frontera de pareto**"
   ]
  },
  {
   "cell_type": "code",
   "execution_count": 28,
   "metadata": {},
   "outputs": [
    {
     "data": {
      "image/png": "[encoded data removed]",
      "text/plain": [
       "<Figure size 432x288 with 1 Axes>"
      ]
     },
     "metadata": {
      "needs_background": "light"
     },
     "output_type": "display_data"
    }
   ],
   "source": [
    "## Plotea los individuos de la frontera de Pareto final\n",
    "CHROMOSOME_SIZE = 60 \n",
    "pop_size = len(pareto_front_population)\n",
    "num_objectives = len(pareto_front_population[0].fitness)\n",
    "    \n",
    "# extrae los fitness de la poblacion en la matriz fitnesses\n",
    "fitnesses = np.zeros([pop_size, num_objectives])\n",
    "for i in range(pop_size): fitnesses[i,:] = pareto_front_population[i].fitness\n",
    "\n",
    "x = fitnesses[:, 0]/CHROMOSOME_SIZE*100\n",
    "y = fitnesses[:, 1]/CHROMOSOME_SIZE*100\n",
    "plt.xlabel('Objectivo Poblacion - % maximo obtenible') #Primer objetivo: Maximizar el valor de la mochila\n",
    "plt.ylabel('Objectivo Distancia - % maximo obtenible') #Segundo objetivo: Minimizar el peso de la mochila\n",
    "plt.scatter(x,y)\n",
    "#plt.savefig('pareto.png')\n",
    "plt.show()\n"
   ]
  },
  {
   "cell_type": "markdown",
   "metadata": {},
   "source": [
    "**Verificacion si la solucion que nos otorgó el monoobjetivo es parte de las soluciones obtenidas por NSGA-II**"
   ]
  },
  {
   "cell_type": "code",
   "execution_count": 29,
   "metadata": {},
   "outputs": [
    {
     "data": {
      "text/plain": [
       "True"
      ]
     },
     "execution_count": 29,
     "metadata": {},
     "output_type": "execute_result"
    }
   ],
   "source": [
    "cromosomas=[indi.chromosome for indi in pareto_front_population]\n",
    "valor=True if best_ind.chromosome in cromosomas else False\n",
    "valor"
   ]
  }
 ],
 "metadata": {
  "kernelspec": {
   "display_name": "Python [conda env:ArtInte]",
   "language": "python",
   "name": "conda-env-ArtInte-py"
  },
  "language_info": {
   "codemirror_mode": {
    "name": "ipython",
    "version": 3
   },
   "file_extension": ".py",
   "mimetype": "text/x-python",
   "name": "python",
   "nbconvert_exporter": "python",
   "pygments_lexer": "ipython3",
   "version": "3.7.5"
  }
 },
 "nbformat": 4,
 "nbformat_minor": 4
}
