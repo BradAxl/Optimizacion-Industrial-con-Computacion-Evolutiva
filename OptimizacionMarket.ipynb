{
  "nbformat": 4,
  "nbformat_minor": 0,
  "metadata": {
    "colab": {
      "name": "OptimizacionMarket.ipynb",
      "provenance": [],
      "collapsed_sections": []
    },
    "kernelspec": {
      "display_name": "Python [conda env:ArtInte]",
      "language": "python",
      "name": "conda-env-ArtInte-py"
    },
    "language_info": {
      "codemirror_mode": {
        "name": "ipython",
        "version": 3
      },
      "file_extension": ".py",
      "mimetype": "text/x-python",
      "name": "python",
      "nbconvert_exporter": "python",
      "pygments_lexer": "ipython3",
      "version": "3.7.5"
    }
  },
  "cells": [
    {
      "cell_type": "markdown",
      "metadata": {
        "colab_type": "text",
        "id": "skYKoK28a3EK"
      },
      "source": [
        "# **Proyecto final: Usando computación evolutiva para encontrar localizaciones optimas de una cadena de supermercados**"
      ]
    },
    {
      "cell_type": "markdown",
      "metadata": {
        "colab_type": "text",
        "id": "IRrENozVa3EN"
      },
      "source": [
        "## **1) Algoritmo genético mono-objetivo**"
      ]
    },
    {
      "cell_type": "markdown",
      "metadata": {
        "colab_type": "text",
        "id": "FZrZ6t_Oa3EO"
      },
      "source": [
        "**a) Importando las librerias necesarias**"
      ]
    },
    {
      "cell_type": "code",
      "metadata": {
        "colab_type": "code",
        "collapsed": true,
        "id": "76Lt5Nvqcyao",
        "jupyter": {
          "outputs_hidden": true
        },
        "outputId": "119987de-26df-49f0-c3e9-0781c313cc5c",
        "colab": {
          "base_uri": "https://localhost:8080/",
          "height": 340
        }
      },
      "source": [
        "pip install git+https://github.com/python-visualization/folium"
      ],
      "execution_count": 57,
      "outputs": [
        {
          "output_type": "stream",
          "text": [
            "Collecting git+https://github.com/python-visualization/folium\n",
            "  Cloning https://github.com/python-visualization/folium to /tmp/pip-req-build-8y291e_i\n",
            "  Running command git clone -q https://github.com/python-visualization/folium /tmp/pip-req-build-8y291e_i\n",
            "Requirement already satisfied (use --upgrade to upgrade): folium==0.10.0+4.ga1e3686 from git+https://github.com/python-visualization/folium in /usr/local/lib/python3.6/dist-packages\n",
            "Requirement already satisfied: branca>=0.3.0 in /usr/local/lib/python3.6/dist-packages (from folium==0.10.0+4.ga1e3686) (0.3.1)\n",
            "Requirement already satisfied: jinja2>=2.9 in /usr/local/lib/python3.6/dist-packages (from folium==0.10.0+4.ga1e3686) (2.10.3)\n",
            "Requirement already satisfied: numpy in /usr/local/lib/python3.6/dist-packages (from folium==0.10.0+4.ga1e3686) (1.17.4)\n",
            "Requirement already satisfied: requests in /usr/local/lib/python3.6/dist-packages (from folium==0.10.0+4.ga1e3686) (2.21.0)\n",
            "Requirement already satisfied: six in /usr/local/lib/python3.6/dist-packages (from branca>=0.3.0->folium==0.10.0+4.ga1e3686) (1.12.0)\n",
            "Requirement already satisfied: MarkupSafe>=0.23 in /usr/local/lib/python3.6/dist-packages (from jinja2>=2.9->folium==0.10.0+4.ga1e3686) (1.1.1)\n",
            "Requirement already satisfied: chardet<3.1.0,>=3.0.2 in /usr/local/lib/python3.6/dist-packages (from requests->folium==0.10.0+4.ga1e3686) (3.0.4)\n",
            "Requirement already satisfied: urllib3<1.25,>=1.21.1 in /usr/local/lib/python3.6/dist-packages (from requests->folium==0.10.0+4.ga1e3686) (1.24.3)\n",
            "Requirement already satisfied: certifi>=2017.4.17 in /usr/local/lib/python3.6/dist-packages (from requests->folium==0.10.0+4.ga1e3686) (2019.9.11)\n",
            "Requirement already satisfied: idna<2.9,>=2.5 in /usr/local/lib/python3.6/dist-packages (from requests->folium==0.10.0+4.ga1e3686) (2.8)\n",
            "Building wheels for collected packages: folium\n",
            "  Building wheel for folium (setup.py) ... \u001b[?25l\u001b[?25hdone\n",
            "  Created wheel for folium: filename=folium-0.10.0+4.ga1e3686-py2.py3-none-any.whl size=91404 sha256=28a793974802951aaf444e99dad701d0311b4508a7189f534e55bec2c5f4175a\n",
            "  Stored in directory: /tmp/pip-ephem-wheel-cache-p4nxrybv/wheels/1e/e1/75/ecbc91fd5dd5d90befb0b533bf7492d38acffa033310731862\n",
            "Successfully built folium\n"
          ],
          "name": "stdout"
        }
      ]
    },
    {
      "cell_type": "code",
      "metadata": {
        "colab_type": "code",
        "id": "V0zETUnta3EP",
        "colab": {}
      },
      "source": [
        "import pandas as pd\n",
        "import math\n",
        "import sys\n",
        "import time\n",
        "import numpy as np\n",
        "from random import shuffle, random, sample, randint, randrange, uniform\n",
        "from copy import deepcopy\n",
        "import matplotlib.pyplot as plt\n",
        "import seaborn as sns\n",
        "import folium\n",
        "from datetime import timedelta\n",
        "import datetime\n",
        "from folium.plugins import TimestampedGeoJson\n",
        "import numpy as np\n",
        "from sklearn.preprocessing import MinMaxScaler,MaxAbsScaler"
      ],
      "execution_count": 0,
      "outputs": []
    },
    {
      "cell_type": "code",
      "metadata": {
        "colab_type": "code",
        "collapsed": true,
        "id": "8ZGYZQCNa8kk",
        "jupyter": {
          "outputs_hidden": true
        },
        "outputId": "acefac16-88b0-4473-f60d-432c93b23f14",
        "colab": {
          "base_uri": "https://localhost:8080/",
          "height": 136
        }
      },
      "source": [
        "from google.colab import drive\n",
        "drive.mount(\"/content/gdrive\")\n",
        "%cd gdrive/My\\ Drive/'Colab Notebooks'/'Algoritmos Bioinspirados'/'Proyecto Final/'\n",
        "!ls"
      ],
      "execution_count": 59,
      "outputs": [
        {
          "output_type": "stream",
          "text": [
            "Drive already mounted at /content/gdrive; to attempt to forcibly remount, call drive.mount(\"/content/gdrive\", force_remount=True).\n",
            "[Errno 2] No such file or directory: 'gdrive/My Drive/Colab Notebooks/Algoritmos Bioinspirados/Proyecto Final/'\n",
            "/content/gdrive/My Drive/Colab Notebooks/Algoritmos Bioinspirados/Proyecto Final\n",
            "Candidatos_supermercados.xlsx  OptimizacionMarket.ipynb\n",
            "earthHTML.html\t\t       proyectoFinal.ipynb\n",
            "mapTimer.html\t\t       proyectoFinal-previousVersion.ipynb\n",
            "monoSolution.html\n"
          ],
          "name": "stdout"
        }
      ]
    },
    {
      "cell_type": "markdown",
      "metadata": {
        "colab_type": "text",
        "id": "CeT2tUeka3ES"
      },
      "source": [
        "**b) Leyendo la información proporcionada**"
      ]
    },
    {
      "cell_type": "code",
      "metadata": {
        "colab_type": "code",
        "id": "eYJUckB_a3ET",
        "outputId": "c85730b2-fbf0-4fac-a52e-591ac3828f89",
        "colab": {
          "base_uri": "https://localhost:8080/",
          "height": 204
        }
      },
      "source": [
        "dataset=pd.read_excel('Candidatos_supermercados.xlsx')\n",
        "dataset.head()"
      ],
      "execution_count": 60,
      "outputs": [
        {
          "output_type": "execute_result",
          "data": {
            "text/html": [
              "<div>\n",
              "<style scoped>\n",
              "    .dataframe tbody tr th:only-of-type {\n",
              "        vertical-align: middle;\n",
              "    }\n",
              "\n",
              "    .dataframe tbody tr th {\n",
              "        vertical-align: top;\n",
              "    }\n",
              "\n",
              "    .dataframe thead th {\n",
              "        text-align: right;\n",
              "    }\n",
              "</style>\n",
              "<table border=\"1\" class=\"dataframe\">\n",
              "  <thead>\n",
              "    <tr style=\"text-align: right;\">\n",
              "      <th></th>\n",
              "      <th>ID</th>\n",
              "      <th>Descripcion</th>\n",
              "      <th>Latitud</th>\n",
              "      <th>Longitud</th>\n",
              "      <th>Poblacion500m</th>\n",
              "    </tr>\n",
              "  </thead>\n",
              "  <tbody>\n",
              "    <tr>\n",
              "      <th>0</th>\n",
              "      <td>Punto 1</td>\n",
              "      <td>Esq. Benavides con Nicolas Dueñas</td>\n",
              "      <td>-12.04861</td>\n",
              "      <td>-77.06496</td>\n",
              "      <td>16500</td>\n",
              "    </tr>\n",
              "    <tr>\n",
              "      <th>1</th>\n",
              "      <td>Ponto 2</td>\n",
              "      <td>Sta Bernardita con Republica de Venezuela</td>\n",
              "      <td>-12.05956</td>\n",
              "      <td>-77.07583</td>\n",
              "      <td>18000</td>\n",
              "    </tr>\n",
              "    <tr>\n",
              "      <th>2</th>\n",
              "      <td>Ponto 3</td>\n",
              "      <td>Santa Susana con Santa Gertrudis</td>\n",
              "      <td>-12.06524</td>\n",
              "      <td>-77.07334</td>\n",
              "      <td>17000</td>\n",
              "    </tr>\n",
              "    <tr>\n",
              "      <th>3</th>\n",
              "      <td>Ponto 4</td>\n",
              "      <td>Belizario Sosa Pelaez</td>\n",
              "      <td>-12.05998</td>\n",
              "      <td>-77.06300</td>\n",
              "      <td>15000</td>\n",
              "    </tr>\n",
              "    <tr>\n",
              "      <th>4</th>\n",
              "      <td>Ponto 5</td>\n",
              "      <td>Esq. Aurelio Garcia y Miranono Arredondo</td>\n",
              "      <td>-12.05541</td>\n",
              "      <td>-77.07497</td>\n",
              "      <td>17100</td>\n",
              "    </tr>\n",
              "  </tbody>\n",
              "</table>\n",
              "</div>"
            ],
            "text/plain": [
              "        ID                                Descripcion  ...  Longitud  Poblacion500m\n",
              "0  Punto 1          Esq. Benavides con Nicolas Dueñas  ... -77.06496          16500\n",
              "1  Ponto 2  Sta Bernardita con Republica de Venezuela  ... -77.07583          18000\n",
              "2  Ponto 3           Santa Susana con Santa Gertrudis  ... -77.07334          17000\n",
              "3  Ponto 4                      Belizario Sosa Pelaez  ... -77.06300          15000\n",
              "4  Ponto 5   Esq. Aurelio Garcia y Miranono Arredondo  ... -77.07497          17100\n",
              "\n",
              "[5 rows x 5 columns]"
            ]
          },
          "metadata": {
            "tags": []
          },
          "execution_count": 60
        }
      ]
    },
    {
      "cell_type": "markdown",
      "metadata": {
        "colab_type": "text",
        "id": "HTad8roUa3EX"
      },
      "source": [
        "**c) Cálculo de las distancias entre cada punto**"
      ]
    },
    {
      "cell_type": "markdown",
      "metadata": {
        "colab_type": "text",
        "id": "HYcnhcBia3EX"
      },
      "source": [
        "Función para el cálculo de las distancias entre dos puntos teniendo la latitud y longitud de las coordenadas"
      ]
    },
    {
      "cell_type": "code",
      "metadata": {
        "colab_type": "code",
        "id": "VFSiOvcVa3EY",
        "colab": {}
      },
      "source": [
        "lista_total_distancias={}\n",
        "radio_tierra=6378 #radio ecuatorial\n",
        "def getDistances(dataset):\n",
        "    \"\"\"Función para el cálculo de las distancias entre todos los puntos teniendo la latitud y longitud de las coordenadas.\n",
        "    \n",
        "    Para el cálculo de las distancias entre los puntos se hace uso de Haversine Formula\n",
        "    Parámetros:\n",
        "                -dataset: Dataset del tipo dataFrame pandas\n",
        "                \n",
        "    Retorna: Un diccionario de la forma {(punto1,punto2):distancia}\n",
        "    \"\"\"\n",
        "    valores=dataset[['Latitud','Longitud']].values\n",
        "    for i in range(len(valores)):\n",
        "        for j in range(i+1,len(valores)):\n",
        "            dif_lat=valores[j][0] - valores[i][0] #Hallamos la diferencia de latitud\n",
        "            dif_lon=valores[j][1] - valores[i][1] #Hallamos la diferencia de longitud\n",
        "            a=pow(math.sin(dif_lat/2),2)+(math.cos(valores[i][0])*(math.cos(valores[j][0])))*pow(math.sin(dif_lon/2),2)\n",
        "            c=2*math.asin(min(1,math.sqrt(a)))\n",
        "            lista_total_distancias[(i,j)]=radio_tierra * c #*1000 #multiplicar por mil para obtener en metros"
      ],
      "execution_count": 0,
      "outputs": []
    },
    {
      "cell_type": "code",
      "metadata": {
        "colab_type": "code",
        "id": "mq4nFODda3Ea",
        "colab": {}
      },
      "source": [
        "getDistances(dataset)"
      ],
      "execution_count": 0,
      "outputs": []
    },
    {
      "cell_type": "code",
      "metadata": {
        "colab_type": "code",
        "id": "R1ZmOlFZa3Ed",
        "outputId": "8c651592-8c74-4363-e03d-2d889e60ceee",
        "colab": {
          "base_uri": "https://localhost:8080/",
          "height": 34
        }
      },
      "source": [
        "lista_total_distancias[(0,1)]"
      ],
      "execution_count": 63,
      "outputs": [
        {
          "output_type": "execute_result",
          "data": {
            "text/plain": [
              "92.35295446475958"
            ]
          },
          "metadata": {
            "tags": []
          },
          "execution_count": 63
        }
      ]
    },
    {
      "cell_type": "markdown",
      "metadata": {
        "id": "AO3PpmyyCLai",
        "colab_type": "text"
      },
      "source": [
        "**Escalamiento de los valores(poblacion y distancia) que serán sumados para hallar el fitness**"
      ]
    },
    {
      "cell_type": "markdown",
      "metadata": {
        "id": "Pn_s998uCLaj",
        "colab_type": "text"
      },
      "source": [
        "Juntamos todos los datos"
      ]
    },
    {
      "cell_type": "code",
      "metadata": {
        "id": "WnhMcLvpCLaj",
        "colab_type": "code",
        "colab": {}
      },
      "source": [
        "datos_juntos=list(lista_total_distancias.values())+list(dataset.Poblacion500m.values)\n",
        "datos_juntos=np.array(datos_juntos).reshape(-1,1)"
      ],
      "execution_count": 0,
      "outputs": []
    },
    {
      "cell_type": "markdown",
      "metadata": {
        "id": "8wILpzAuCLar",
        "colab_type": "text"
      },
      "source": [
        "Escalamos"
      ]
    },
    {
      "cell_type": "code",
      "metadata": {
        "id": "n9XC3VEZCLat",
        "colab_type": "code",
        "colab": {
          "base_uri": "https://localhost:8080/",
          "height": 136
        },
        "outputId": "566e0734-77e2-4d2b-da9b-9f46cfebcd7a"
      },
      "source": [
        "min_max_scaler=MaxAbsScaler()\n",
        "datos_juntos_escalados=min_max_scaler.fit_transform(datos_juntos)\n",
        "datos_juntos_escalados"
      ],
      "execution_count": 65,
      "outputs": [
        {
          "output_type": "execute_result",
          "data": {
            "text/plain": [
              "array([[0.00461765],\n",
              "       [0.00579378],\n",
              "       [0.0036666 ],\n",
              "       ...,\n",
              "       [0.9       ],\n",
              "       [0.925     ],\n",
              "       [1.        ]])"
            ]
          },
          "metadata": {
            "tags": []
          },
          "execution_count": 65
        }
      ]
    },
    {
      "cell_type": "markdown",
      "metadata": {
        "id": "T2s2dFN8CLaw",
        "colab_type": "text"
      },
      "source": [
        "Separamos distancia de poblacion"
      ]
    },
    {
      "cell_type": "code",
      "metadata": {
        "id": "J-oNRv7-CLax",
        "colab_type": "code",
        "colab": {
          "base_uri": "https://localhost:8080/",
          "height": 34
        },
        "outputId": "c976c9a4-1be9-4ae1-b30e-b4cada004ad6"
      },
      "source": [
        "datos_distancia_escalada=datos_juntos_escalados[:1770]\n",
        "len(datos_distancia_escalada)"
      ],
      "execution_count": 66,
      "outputs": [
        {
          "output_type": "execute_result",
          "data": {
            "text/plain": [
              "1770"
            ]
          },
          "metadata": {
            "tags": []
          },
          "execution_count": 66
        }
      ]
    },
    {
      "cell_type": "code",
      "metadata": {
        "id": "YoRyIzoLCLa0",
        "colab_type": "code",
        "colab": {
          "base_uri": "https://localhost:8080/",
          "height": 34
        },
        "outputId": "af24b883-c6ee-4fae-e936-64f3be223cc0"
      },
      "source": [
        "datos_poblacion_escalada=datos_juntos_escalados[1770:]\n",
        "len(datos_poblacion_escalada)"
      ],
      "execution_count": 67,
      "outputs": [
        {
          "output_type": "execute_result",
          "data": {
            "text/plain": [
              "60"
            ]
          },
          "metadata": {
            "tags": []
          },
          "execution_count": 67
        }
      ]
    },
    {
      "cell_type": "markdown",
      "metadata": {
        "id": "vZ7zgU2VCLa5",
        "colab_type": "text"
      },
      "source": [
        "Almacenamiento de las distancias escaladas"
      ]
    },
    {
      "cell_type": "code",
      "metadata": {
        "id": "spwDikWECLa6",
        "colab_type": "code",
        "colab": {
          "base_uri": "https://localhost:8080/",
          "height": 34
        },
        "outputId": "e979658e-d38c-48be-c8f6-b80f37a2511b"
      },
      "source": [
        "keys_lista=[i for i in lista_total_distancias] #Almacenamos los keys del diccionario de las distancias\n",
        "lista_total_distancias_escalado={keys_lista[i]:datos_distancia_escalada[i][0] for i in range(len(keys_lista))} #Creamos un nuevo dic con las distancias escaladas\n",
        "lista_total_distancias_escalado[(0,1)]"
      ],
      "execution_count": 68,
      "outputs": [
        {
          "output_type": "execute_result",
          "data": {
            "text/plain": [
              "0.004617647723237979"
            ]
          },
          "metadata": {
            "tags": []
          },
          "execution_count": 68
        }
      ]
    },
    {
      "cell_type": "markdown",
      "metadata": {
        "id": "aSN80V3cCLa8",
        "colab_type": "text"
      },
      "source": [
        "Almacenamiento de la poblacion escalada"
      ]
    },
    {
      "cell_type": "code",
      "metadata": {
        "id": "-Y7HCrmwCLa9",
        "colab_type": "code",
        "colab": {
          "base_uri": "https://localhost:8080/",
          "height": 204
        },
        "outputId": "0837fb59-5e88-430f-c4e4-501ecb3deea6"
      },
      "source": [
        "dataset['poblacion_escalado']=datos_poblacion_escalada\n",
        "dataset.head()"
      ],
      "execution_count": 69,
      "outputs": [
        {
          "output_type": "execute_result",
          "data": {
            "text/html": [
              "<div>\n",
              "<style scoped>\n",
              "    .dataframe tbody tr th:only-of-type {\n",
              "        vertical-align: middle;\n",
              "    }\n",
              "\n",
              "    .dataframe tbody tr th {\n",
              "        vertical-align: top;\n",
              "    }\n",
              "\n",
              "    .dataframe thead th {\n",
              "        text-align: right;\n",
              "    }\n",
              "</style>\n",
              "<table border=\"1\" class=\"dataframe\">\n",
              "  <thead>\n",
              "    <tr style=\"text-align: right;\">\n",
              "      <th></th>\n",
              "      <th>ID</th>\n",
              "      <th>Descripcion</th>\n",
              "      <th>Latitud</th>\n",
              "      <th>Longitud</th>\n",
              "      <th>Poblacion500m</th>\n",
              "      <th>poblacion_escalado</th>\n",
              "    </tr>\n",
              "  </thead>\n",
              "  <tbody>\n",
              "    <tr>\n",
              "      <th>0</th>\n",
              "      <td>Punto 1</td>\n",
              "      <td>Esq. Benavides con Nicolas Dueñas</td>\n",
              "      <td>-12.04861</td>\n",
              "      <td>-77.06496</td>\n",
              "      <td>16500</td>\n",
              "      <td>0.825</td>\n",
              "    </tr>\n",
              "    <tr>\n",
              "      <th>1</th>\n",
              "      <td>Ponto 2</td>\n",
              "      <td>Sta Bernardita con Republica de Venezuela</td>\n",
              "      <td>-12.05956</td>\n",
              "      <td>-77.07583</td>\n",
              "      <td>18000</td>\n",
              "      <td>0.900</td>\n",
              "    </tr>\n",
              "    <tr>\n",
              "      <th>2</th>\n",
              "      <td>Ponto 3</td>\n",
              "      <td>Santa Susana con Santa Gertrudis</td>\n",
              "      <td>-12.06524</td>\n",
              "      <td>-77.07334</td>\n",
              "      <td>17000</td>\n",
              "      <td>0.850</td>\n",
              "    </tr>\n",
              "    <tr>\n",
              "      <th>3</th>\n",
              "      <td>Ponto 4</td>\n",
              "      <td>Belizario Sosa Pelaez</td>\n",
              "      <td>-12.05998</td>\n",
              "      <td>-77.06300</td>\n",
              "      <td>15000</td>\n",
              "      <td>0.750</td>\n",
              "    </tr>\n",
              "    <tr>\n",
              "      <th>4</th>\n",
              "      <td>Ponto 5</td>\n",
              "      <td>Esq. Aurelio Garcia y Miranono Arredondo</td>\n",
              "      <td>-12.05541</td>\n",
              "      <td>-77.07497</td>\n",
              "      <td>17100</td>\n",
              "      <td>0.855</td>\n",
              "    </tr>\n",
              "  </tbody>\n",
              "</table>\n",
              "</div>"
            ],
            "text/plain": [
              "        ID  ... poblacion_escalado\n",
              "0  Punto 1  ...              0.825\n",
              "1  Ponto 2  ...              0.900\n",
              "2  Ponto 3  ...              0.850\n",
              "3  Ponto 4  ...              0.750\n",
              "4  Ponto 5  ...              0.855\n",
              "\n",
              "[5 rows x 6 columns]"
            ]
          },
          "metadata": {
            "tags": []
          },
          "execution_count": 69
        }
      ]
    },
    {
      "cell_type": "markdown",
      "metadata": {
        "colab_type": "text",
        "id": "uAteAP7ga3Eg"
      },
      "source": [
        "**d) Definición del objeto Market para el problema**"
      ]
    },
    {
      "cell_type": "markdown",
      "metadata": {
        "colab_type": "text",
        "id": "y9FrJfV6a3Ei"
      },
      "source": [
        "Un objeto de la clase Market almacena las instancias del dataframe"
      ]
    },
    {
      "cell_type": "code",
      "metadata": {
        "colab_type": "code",
        "id": "a52QlQi4a3Ej",
        "colab": {}
      },
      "source": [
        "class Market(object):\n",
        "    def __init__(self,ID,descr,pob,latitud,longitud):\n",
        "        self.id=ID\n",
        "        self.descr=descr\n",
        "        self.pob=pob\n",
        "        self.lat=latitud\n",
        "        self.lon=longitud"
      ],
      "execution_count": 0,
      "outputs": []
    },
    {
      "cell_type": "markdown",
      "metadata": {
        "colab_type": "text",
        "id": "oUTzTpd4a3El"
      },
      "source": [
        "**e) Definición de la estructura de un individuo en el AG con sus operadores genéticos**"
      ]
    },
    {
      "cell_type": "code",
      "metadata": {
        "colab_type": "code",
        "id": "KDXXyOeza3Em",
        "colab": {}
      },
      "source": [
        "class Individual:\n",
        "    \"\"\" Implementa el individuo del AG. Un individuo tiene un cromosoma que es una lista de num_markets elementos (genes),\n",
        "       cada gen i puede asumir dos posibles alelos: 0 o 1 (no incluir/incluir en la solución el market i del pool) \"\"\"\n",
        "\n",
        "    def __init__(self, chromosome,maxMark=10):  # el constructor recibe un cromosoma\n",
        "        self.chromosome = chromosome[:]  \n",
        "        self.fitness = -1  # -1 indica que el individuo no ha sido evaluado\n",
        "        self.maxMark=maxMark #Cantidad Máxima de markets que desea obtener en la solución\n",
        "\n",
        "    def crossover_onepoint(self, other):\n",
        "        \"Retorna dos nuevos individuos del cruzamiento de un punto entre individuos self y other \"\n",
        "        c = randrange(len(self.chromosome))\n",
        "        ind1 = Individual(self.chromosome[:c] + other.chromosome[c:],self.maxMark)\n",
        "        ind2 = Individual(other.chromosome[:c] + self.chromosome[c:],self.maxMark)\n",
        "        ind1,ind2=self.__verify([ind1,ind2])\n",
        "        return [ind1, ind2]   \n",
        "    \n",
        "    def crossover_uniform(self, other):\n",
        "        chromosome1 = []\n",
        "        chromosome2 = []\n",
        "        \"Retorna dos nuevos individuos del cruzamiento uniforme entre self y other \"\n",
        "        for i in range(len(self.chromosome)):\n",
        "            if uniform(0, 1) < 0.5:\n",
        "                chromosome1.append(self.chromosome[i])\n",
        "                chromosome2.append(other.chromosome[i])\n",
        "            else:\n",
        "                chromosome1.append(other.chromosome[i])\n",
        "                chromosome2.append(self.chromosome[i])\n",
        "        ind1 = Individual(chromosome1,self.maxMark)\n",
        "        ind2 = Individual(chromosome2,self.maxMark)\n",
        "        ind1,ind2=self.__verify([ind1,ind2])\n",
        "        return [ind1, ind2] \n",
        "    \n",
        "    \n",
        "    def mutation_flip(self):\n",
        "        \"Cambia aleatoriamente el alelo de un gen. Se tiene en consideración la cantidad máxima de markets que debe contar una posible solución.\"\n",
        "        new_chromosome = deepcopy(self.chromosome)\n",
        "        mutGene = randrange(0,len(new_chromosome))   # escoge un gen para mutar\n",
        "        if new_chromosome[mutGene] == 0:\n",
        "            #Cambiaremos un cero a un uno, por lo que habrá un uno mas, por lo que se deberá cambiar otro uno a cero\n",
        "            index_unos=[i for i in range(len(new_chromosome)) if new_chromosome[i] == 1]\n",
        "            index_uno=sample(index_unos,1) #Obtenemos un index de todos los unos para cambiarlo a cero\n",
        "            new_chromosome[mutGene] = 1 #Cambiamos a uno un cero\n",
        "            new_chromosome[index_uno[0]]=0 #Cambiamos a cero un uno\n",
        "        else:\n",
        "            index_ceros=[i for i in range(len(new_chromosome)) if new_chromosome[i] == 0]\n",
        "            index_cero=sample(index_ceros,1) #Obtenemos un index de todos los unos para cambiarlo a cero\n",
        "            new_chromosome[mutGene] = 0 #Compensamos\n",
        "            new_chromosome[index_cero[0]]=1 #Cambiamos a uno un cero\n",
        "            \n",
        "        return Individual(new_chromosome,self.maxMark)\n",
        "        \n",
        "    \n",
        "    def __verify(self,individuos):\n",
        "        \"\"\"Funcion para forzar que existan la cantidad máxima de markets(unos) dentro del cromosoma.\n",
        "        \"\"\"\n",
        "        resultado=[]\n",
        "        for ind in individuos:\n",
        "            cant_unos=ind.chromosome.count(1)\n",
        "            index_unos=[i for i in range(len(ind.chromosome)) if ind.chromosome[i] == 1] #Obtenemos los index de los unos dentro del cromosoma\n",
        "            if cant_unos >self.maxMark: #Verificando si el individuo tiene la cantidad maxima de markets(unos) aceptables \n",
        "                index_unos2chg=sample(index_unos,cant_unos - self.maxMark)# Obtenemos los index que cambiaremos a cero porque se pasó del máximo\n",
        "                for index in index_unos2chg:\n",
        "                    ind.chromosome[index]=0\n",
        "            elif cant_unos < self.maxMark: #Si el individuo tiene menos de la cantidad máxima \n",
        "                index_unos2chg=set(range(len(ind.chromosome))) - set(index_unos) #Quitamos los index en los cuales se encuentran los unos\n",
        "                random_index=sample(index_unos2chg,self.maxMark - cant_unos) #Generamos index aletorios para completar a la cantidad máxima\n",
        "                for index in random_index:\n",
        "                    ind.chromosome[index]=1\n",
        "            resultado.append(ind)\n",
        "        return resultado\n"
      ],
      "execution_count": 0,
      "outputs": []
    },
    {
      "cell_type": "markdown",
      "metadata": {
        "colab_type": "text",
        "id": "78ubdtuma3Ep"
      },
      "source": [
        "**f) Función para obtener el fitness del cromosoma**"
      ]
    },
    {
      "cell_type": "markdown",
      "metadata": {
        "colab_type": "text",
        "id": "j8SixwRla3Eq"
      },
      "source": [
        "Haciendo uso del diccionario hallado previamente."
      ]
    },
    {
      "cell_type": "code",
      "metadata": {
        "colab_type": "code",
        "id": "watZ9cQfa3Eq",
        "colab": {}
      },
      "source": [
        "def get_fitness_lista(chromosome, markets):\n",
        "    \"\"\"Retorna el fitness del cromosoma pasado. Fitness es el valor total de los markets incluidos en el cromosoma\n",
        "        \"\"\"\n",
        "    fitness=0\n",
        "    markets_elegidos=[]\n",
        "    sum_pob=0\n",
        "    sum_dist=0\n",
        "    for i in range(len(markets)):\n",
        "        if chromosome[i] == 1:  # si el market i esta incluido en el cromosoma, acumula su poblacion y distancia\n",
        "            sum_pob += markets[i].pob\n",
        "            markets_elegidos.append(i)\n",
        "            \n",
        "    for j in markets_elegidos:\n",
        "        for k in markets_elegidos[j+1:]:\n",
        "            sum_dist=sum_dist+lista_total_distancias[(j,k)] # Hacemos uso del diccionario calculado previamente, sin escalamiento\n",
        "            #sum_dist=sum_dist+lista_total_distancias_escalado[(j,k)]#diccionario con las distancias escaladas\n",
        "    \n",
        "    return [sum_pob,sum_dist] #Se enviará de esta manera y se obtendrá las sumas por separado para la experimentación y registro de estos experimentos"
      ],
      "execution_count": 0,
      "outputs": []
    },
    {
      "cell_type": "markdown",
      "metadata": {
        "colab_type": "text",
        "id": "rxovJvC_a3Es"
      },
      "source": [
        "Calculando las distancias en cada instante"
      ]
    },
    {
      "cell_type": "code",
      "metadata": {
        "colab_type": "code",
        "id": "OqUFXlAEa3Et",
        "colab": {}
      },
      "source": [
        "def get_fitness(chromosome, markets):\n",
        "    \"\"\"Retorna el fitness del cromosoma pasado. Fitness es el valor total de los markets incluidos en el cromosoma\n",
        "        \"\"\"\n",
        "    fitness = 0 # initialize fitness to 0\n",
        "    lista_distancias=[]\n",
        "    sum_pob=0\n",
        "    sum_dist=0\n",
        "    for i in range(len(markets)):\n",
        "        if chromosome[i] == 1:  # si el market i esta incluido en el cromosoma, acumula su poblacion y distancia\n",
        "            sum_pob += markets[i].pob\n",
        "            lista_distancias.append((markets[i].lat,markets[i].lon))\n",
        "            \n",
        "    radio_tierra=6378 #radio ecuatorial\n",
        "    for i in range(len(lista_distancias)):\n",
        "        for j in lista_distancias[i+1:]:\n",
        "            dif_lat=j[0] - lista_distancias[i][0] #Hallamos la diferencia de latitud\n",
        "            dif_lon=j[1] - lista_distancias[i][1] #Hallamos la diferencia de longitud\n",
        "            a=pow(math.sin(dif_lat/2),2)+(math.cos(lista_distancias[i][0])*(math.cos(j[0])))*pow(math.sin(dif_lon/2),2)\n",
        "            c=2*math.asin(min(1,math.sqrt(a)))\n",
        "            sum_dist+=radio_tierra * c \n",
        "    fitness=sum_pob + sum_dist\n",
        "    \n",
        "    return fitness"
      ],
      "execution_count": 0,
      "outputs": []
    },
    {
      "cell_type": "markdown",
      "metadata": {
        "colab_type": "text",
        "id": "ME-FTXF2a3Ev"
      },
      "source": [
        "**g) Funcion para evaluar una población de individuos**"
      ]
    },
    {
      "cell_type": "code",
      "metadata": {
        "colab_type": "code",
        "id": "tP-BMpHCa3Ev",
        "colab": {}
      },
      "source": [
        "def evaluate_population(population, markets):\n",
        "    \"\"\" Evalua una poblacion de individuos con la funcion get_fitness \"\"\"\n",
        "    pop_size = len(population)\n",
        "    for i in range(pop_size):\n",
        "        if population[i].fitness == -1:    # evalua solo si el individuo no esta evaluado\n",
        "            #Se puede hacer uso de las dos funciones para obtener los fitness\n",
        "            #population[i].fitness = get_fitness(population[i].chromosome, markets)\n",
        "            population[i].fitness = sum(get_fitness_lista(population[i].chromosome, markets))"
      ],
      "execution_count": 0,
      "outputs": []
    },
    {
      "cell_type": "markdown",
      "metadata": {
        "colab_type": "text",
        "id": "fySRXQq5a3Ey"
      },
      "source": [
        "**h) Funcion para inicializar aleatoriamente una población de individuos**"
      ]
    },
    {
      "cell_type": "code",
      "metadata": {
        "colab_type": "code",
        "id": "x32setS5a3Ez",
        "colab": {}
      },
      "source": [
        "def init_population(pop_size, chromosome_size=60,maxMark=10):\n",
        "    \"\"\"Inicializa una poblacion de pop_size individuos, cada cromosoma de individuo de tamaño chromosome_size.\n",
        "       \"\"\"\n",
        "    population = []\n",
        "    for i in range(pop_size):\n",
        "        index_unos=sample(range(chromosome_size),maxMark)\n",
        "        new_chromosome=[0 if i not in index_unos else 1 for i in range(chromosome_size)]\n",
        "        population.append( Individual(new_chromosome,maxMark))\n",
        "    return population"
      ],
      "execution_count": 0,
      "outputs": []
    },
    {
      "cell_type": "markdown",
      "metadata": {
        "colab_type": "text",
        "id": "mcrDShRza3E2"
      },
      "source": [
        "**i) Funciones para escoger individuos aleatoriamente para el cruzamiento**"
      ]
    },
    {
      "cell_type": "markdown",
      "metadata": {
        "colab_type": "text",
        "id": "OkIWEFCfa3E2"
      },
      "source": [
        "Seleccion por ruleta"
      ]
    },
    {
      "cell_type": "code",
      "metadata": {
        "colab_type": "code",
        "id": "ETbeqKTCa3E3",
        "colab": {}
      },
      "source": [
        "def select_parents_roulette(population):\n",
        "    pop_size = len(population)\n",
        "    \n",
        "    # Escoje el primer padre\n",
        "    sumfitness = sum([indiv.fitness for indiv in population])  # suma total del fitness de la poblacion\n",
        "    pickfitness = uniform(0, sumfitness)   # escoge un numero aleatorio entre 0 y sumfitness\n",
        "    cumfitness = 0     # fitness acumulado\n",
        "    for i in range(pop_size):\n",
        "        cumfitness += population[i].fitness\n",
        "        if cumfitness > pickfitness: \n",
        "            iParent1 = i\n",
        "            break\n",
        "    \n",
        "    # Escoje el segundo padre, desconsiderando el primer padre\n",
        "    sumfitness = sumfitness - population[iParent1].fitness # retira el fitness del padre ya escogido\n",
        "    pickfitness = uniform(0, sumfitness)   # escoge un numero aleatorio entre 0 y sumfitness\n",
        "    cumfitness = 0     # fitness acumulado\n",
        "    for i in range(pop_size):\n",
        "        if i == iParent1: continue   # si es el primer padre \n",
        "        cumfitness += population[i].fitness\n",
        "        if cumfitness > pickfitness: \n",
        "            iParent2 = i\n",
        "            break        \n",
        "    return (population[iParent1], population[iParent2])"
      ],
      "execution_count": 0,
      "outputs": []
    },
    {
      "cell_type": "markdown",
      "metadata": {
        "colab_type": "text",
        "id": "5K286IPra3E5"
      },
      "source": [
        "Seleccion por Stochastic universal sampling"
      ]
    },
    {
      "cell_type": "code",
      "metadata": {
        "colab_type": "code",
        "id": "6Uufcjaca3E6",
        "colab": {}
      },
      "source": [
        "def sus(poblacion,num_padres):\n",
        "    poblacion_local=poblacion[:]\n",
        "    padres=[]\n",
        "    fitness_total=sum([chromosome.fitness for chromosome in poblacion_local])\n",
        "    agujas=np.linspace(0,fitness_total,num_padres+1)\n",
        "    r_aleatorios=[int(uniform(agujas[i],agujas[i+1])) for i in range(len(agujas)-1)]\n",
        "    for r in r_aleatorios:\n",
        "        fitness_acumulado=0\n",
        "        for chromosome in poblacion_local:\n",
        "            fitness_acumulado+=chromosome.fitness\n",
        "            if fitness_acumulado >= r:\n",
        "                padres.append(chromosome)\n",
        "                break\n",
        "                \n",
        "    return padres"
      ],
      "execution_count": 0,
      "outputs": []
    },
    {
      "cell_type": "markdown",
      "metadata": {
        "colab_type": "text",
        "id": "nwFQ2zoVa3E9"
      },
      "source": [
        "**j) Funcion que selecciona la poblacion de la sgte generacion, dada la poblacion actual y poblacion de hijos**"
      ]
    },
    {
      "cell_type": "code",
      "metadata": {
        "colab_type": "code",
        "id": "0H0ZYk-5a3E9",
        "colab": {}
      },
      "source": [
        "def select_survivors(population, offspring_population, numsurvivors):\n",
        "    next_population = []\n",
        "    population.extend(offspring_population) # une las dos poblaciones\n",
        "    isurvivors = sorted(range(len(population)), key=lambda i: population[i].fitness, reverse=True)[:numsurvivors]\n",
        "    for i in range(numsurvivors):\n",
        "        next_population.append(population[isurvivors[i]])\n",
        "    return next_population"
      ],
      "execution_count": 0,
      "outputs": []
    },
    {
      "cell_type": "markdown",
      "metadata": {
        "colab_type": "text",
        "id": "9qSb-4UPa3E_"
      },
      "source": [
        "**k) Algoritmo Genetico para encontrar soluciones**"
      ]
    },
    {
      "cell_type": "code",
      "metadata": {
        "colab_type": "code",
        "id": "dzZgJstDa3FA",
        "colab": {}
      },
      "source": [
        "def genetic_algorithm(population, markets, ngen=100, pmut=0.1, crossover=\"onepoint\", mutation=\"flip\",select='roulette'):\n",
        "    \"\"\"Algoritmo Genetico para el problema de la mochila\n",
        "        markets:      pool de markets a escoger. Debe ser una lista de objetos de clase Market\n",
        "        ngen:       maximo numero de generaciones \n",
        "        pmut:       tasa de mutacion\n",
        "        crossover:  operador de cruzamiento\n",
        "        mutation:   operador de mutacion\n",
        "    \"\"\"\n",
        "    history_population = []\n",
        "\n",
        "    pop_size = len(population)\n",
        "    evaluate_population(population, markets)  # evalua la poblacion inicial\n",
        "    ibest = sorted(range(len(population)), key=lambda i: population[i].fitness, reverse=True)[:1]  # mejor individuo\n",
        "    bestfitness = [population[ibest[0]].fitness]  # fitness del mejor individuo\n",
        "    print(\"Poblacion inicial, best_fitness = {}\".format(population[ibest[0]].fitness))\n",
        "\n",
        "    for g in range(ngen):   # Por cada generacion\n",
        "\n",
        "        ## Selecciona parejas de individuos (mating_pool) para cruzamiento con el metodo de la ruleta\n",
        "        mating_pool = []\n",
        "        if select == 'roulette':\n",
        "            for i in range(int(pop_size/2)): mating_pool.append(select_parents_roulette(population)) \n",
        "        elif select == 'sus':\n",
        "            for i in range(int(pop_size/2)): mating_pool.append(sus(population,2)) \n",
        "\n",
        "        ## Crea la poblacion descendencia cruzando las parejas del mating pool \n",
        "        offspring_population = []\n",
        "        for i in range(len(mating_pool)): \n",
        "            if crossover == \"onepoint\":\n",
        "                offspring_population.extend( mating_pool[i][0].crossover_onepoint(mating_pool[i][1]) ) # cruzamiento 1 punto\n",
        "            elif crossover == \"uniform\":\n",
        "                offspring_population.extend( mating_pool[i][0].crossover_uniform(mating_pool[i][1]) ) # cruzamiento uniforme\n",
        "            else:\n",
        "                raise NotImplementedError\n",
        "\n",
        "        ## Aplica el operador de mutacion con probabilidad pmut en cada hijo generado\n",
        "        for i in range(len(offspring_population)):\n",
        "            if uniform(0, 1) < pmut: \n",
        "                if mutation == \"flip\":\n",
        "                    offspring_population[i] = offspring_population[i].mutation_flip() # cambia el alelo de un gen\n",
        "                else:\n",
        "                    raise NotImplementedError   \n",
        "\n",
        "        ## Evalua la poblacion descendencia creada\n",
        "        evaluate_population(offspring_population, markets)   # evalua la poblacion descendencia\n",
        "\n",
        "        ## Selecciona pop_size individuos para la sgte. generación de la union de la pob. actual y  pob. descendencia\n",
        "        population = select_survivors(population, offspring_population, pop_size)\n",
        "\n",
        "        ## Almacena la historia del fitness del mejor individuo\n",
        "        ibest = sorted(range(len(population)), key=lambda i: population[i].fitness, reverse=True)[:1]\n",
        "        bestfitness.append(population[ibest[0]].fitness)\n",
        "        history_population.append(population[ibest[0]].chromosome) # Agregando el historial de mejores cromosomas\n",
        "\n",
        "        if (g % 10 == 0):  # muestra resultados cada 10 generaciones\n",
        "            print(\"generacion {}, Mejor fitness = {})\".format(g, population[ibest[0]].fitness))\n",
        "\n",
        "    print(\"Mejor individuo en la ultima generacion = {} (fitness = {})\".format(population[ibest[0]].chromosome, population[ibest[0]].fitness))\n",
        "    return population[ibest[0]], bestfitness, history_population  # devuelve el mejor individuo y la lista de mejores fitness x gen"
      ],
      "execution_count": 0,
      "outputs": []
    },
    {
      "cell_type": "markdown",
      "metadata": {
        "colab_type": "text",
        "id": "GMkqclRoa3FF"
      },
      "source": [
        "**l) Creación del marketpool**"
      ]
    },
    {
      "cell_type": "code",
      "metadata": {
        "colab_type": "code",
        "id": "qYCE58Moa3FH",
        "colab": {}
      },
      "source": [
        "marketPool=[]\n",
        "for i in range(len(dataset)):\n",
        "    ID=dataset.iloc[i].ID\n",
        "    descp=dataset.iloc[i].Descripcion\n",
        "    lat=dataset.iloc[i].Latitud\n",
        "    lon=dataset.iloc[i].Longitud\n",
        "    pob=dataset.iloc[i].Poblacion500m\n",
        "    #pob=dataset.iloc[i].poblacion_escalado #hace uso de la poblacion escalada\n",
        "    marketPool.append(Market(ID,descp,pob,lat,lon))"
      ],
      "execution_count": 0,
      "outputs": []
    },
    {
      "cell_type": "code",
      "metadata": {
        "colab_type": "code",
        "id": "OAGnumAsa3FL",
        "outputId": "333067d1-ce9a-496b-bbfb-6c5f7a100fee",
        "colab": {
          "base_uri": "https://localhost:8080/",
          "height": 34
        }
      },
      "source": [
        "marketPool[0].pob"
      ],
      "execution_count": 81,
      "outputs": [
        {
          "output_type": "execute_result",
          "data": {
            "text/plain": [
              "16500"
            ]
          },
          "metadata": {
            "tags": []
          },
          "execution_count": 81
        }
      ]
    },
    {
      "cell_type": "markdown",
      "metadata": {
        "colab_type": "text",
        "id": "hk6czvala3FN"
      },
      "source": [
        "**m) Ejecución del algoritmo**"
      ]
    },
    {
      "cell_type": "code",
      "metadata": {
        "colab_type": "code",
        "id": "KKsw4Dnza3FO",
        "outputId": "16eeb3f8-8517-447d-8a8b-492d6f9545be",
        "colab": {
          "base_uri": "https://localhost:8080/",
          "height": 1000
        }
      },
      "source": [
        "## Hiperparametros del algoritmo genetico\n",
        "POP_SIZE = 100       # numero de individuos\n",
        "GENERATIONS = 500   # numero de generaciones\n",
        "PMUT = 1       # tasa de mutacion\n",
        "\n",
        "## Inicializa una poblacion inicial de forma aleatoria\n",
        "population = init_population(POP_SIZE,maxMark=10)\n",
        "\n",
        "# Evolue la poblacion con el algoritmo genetico (cruzamiento 'onepoint', )\n",
        "best_ind, bestfitness, history_population = genetic_algorithm(population, marketPool, GENERATIONS, PMUT, crossover=\"uniform\", mutation=\"flip\",select='roulette')\n",
        "\n",
        "# muestra la evolucion del mejor fitness\n",
        "plt.plot(bestfitness)\n",
        "plt.show()"
      ],
      "execution_count": 82,
      "outputs": [
        {
          "output_type": "stream",
          "text": [
            "Poblacion inicial, best_fitness = 177549.96297642888\n",
            "generacion 0, Mejor fitness = 179845.46902098093)\n",
            "generacion 10, Mejor fitness = 189254.59032313983)\n",
            "generacion 20, Mejor fitness = 191709.13036558224)\n",
            "generacion 30, Mejor fitness = 192166.98472980704)\n",
            "generacion 40, Mejor fitness = 192166.98472980704)\n",
            "generacion 50, Mejor fitness = 193048.62489038808)\n",
            "generacion 60, Mejor fitness = 193048.62489038808)\n",
            "generacion 70, Mejor fitness = 193202.93798991878)\n",
            "generacion 80, Mejor fitness = 193202.93798991878)\n",
            "generacion 90, Mejor fitness = 193409.90950866626)\n",
            "generacion 100, Mejor fitness = 193409.90950866626)\n",
            "generacion 110, Mejor fitness = 193409.90950866626)\n",
            "generacion 120, Mejor fitness = 193409.90950866626)\n",
            "generacion 130, Mejor fitness = 193409.90950866626)\n",
            "generacion 140, Mejor fitness = 193409.90950866626)\n",
            "generacion 150, Mejor fitness = 193409.90950866626)\n",
            "generacion 160, Mejor fitness = 193409.90950866626)\n",
            "generacion 170, Mejor fitness = 193409.90950866626)\n",
            "generacion 180, Mejor fitness = 193409.90950866626)\n",
            "generacion 190, Mejor fitness = 193409.90950866626)\n",
            "generacion 200, Mejor fitness = 193409.90950866626)\n",
            "generacion 210, Mejor fitness = 193409.90950866626)\n",
            "generacion 220, Mejor fitness = 193409.90950866626)\n",
            "generacion 230, Mejor fitness = 193409.90950866626)\n",
            "generacion 240, Mejor fitness = 193409.90950866626)\n",
            "generacion 250, Mejor fitness = 193409.90950866626)\n",
            "generacion 260, Mejor fitness = 193409.90950866626)\n",
            "generacion 270, Mejor fitness = 193409.90950866626)\n",
            "generacion 280, Mejor fitness = 193409.90950866626)\n",
            "generacion 290, Mejor fitness = 193409.90950866626)\n",
            "generacion 300, Mejor fitness = 193409.90950866626)\n",
            "generacion 310, Mejor fitness = 193409.90950866626)\n",
            "generacion 320, Mejor fitness = 193409.90950866626)\n",
            "generacion 330, Mejor fitness = 193409.90950866626)\n",
            "generacion 340, Mejor fitness = 193409.90950866626)\n",
            "generacion 350, Mejor fitness = 193409.90950866626)\n",
            "generacion 360, Mejor fitness = 193409.90950866626)\n",
            "generacion 370, Mejor fitness = 193409.90950866626)\n",
            "generacion 380, Mejor fitness = 193409.90950866626)\n",
            "generacion 390, Mejor fitness = 193409.90950866626)\n",
            "generacion 400, Mejor fitness = 193409.90950866626)\n",
            "generacion 410, Mejor fitness = 193409.90950866626)\n",
            "generacion 420, Mejor fitness = 193409.90950866626)\n",
            "generacion 430, Mejor fitness = 193409.90950866626)\n",
            "generacion 440, Mejor fitness = 193409.90950866626)\n",
            "generacion 450, Mejor fitness = 193409.90950866626)\n",
            "generacion 460, Mejor fitness = 193409.90950866626)\n",
            "generacion 470, Mejor fitness = 193409.90950866626)\n",
            "generacion 480, Mejor fitness = 193409.90950866626)\n",
            "generacion 490, Mejor fitness = 193409.90950866626)\n",
            "Mejor individuo en la ultima generacion = [1, 1, 1, 0, 0, 0, 0, 0, 0, 0, 0, 0, 0, 0, 0, 0, 0, 0, 0, 0, 0, 0, 0, 0, 0, 0, 0, 0, 0, 0, 0, 0, 0, 0, 0, 0, 0, 0, 0, 0, 0, 0, 0, 0, 0, 0, 0, 0, 1, 1, 1, 0, 0, 0, 0, 1, 1, 0, 1, 1] (fitness = 193409.90950866626)\n"
          ],
          "name": "stdout"
        },
        {
          "output_type": "display_data",
          "data": {
            "image/png": "[encoded data removed]",
            "text/plain": [
              "<Figure size 432x288 with 1 Axes>"
            ]
          },
          "metadata": {
            "tags": []
          }
        }
      ]
    },
    {
      "cell_type": "markdown",
      "metadata": {
        "colab_type": "text",
        "id": "11axIFh-go31"
      },
      "source": [
        "Solución de manera gráfica"
      ]
    },
    {
      "cell_type": "code",
      "metadata": {
        "id": "4eVqjQZ7CLcE",
        "colab_type": "code",
        "colab": {
          "base_uri": "https://localhost:8080/",
          "height": 1000
        },
        "outputId": "1f147667-5577-4034-b8cf-85e2e96c571c"
      },
      "source": [
        "m = folium.Map(\n",
        "    location=[-12.0431805, -77.0282364], zoom_start=13, zoomControl= True, min_zoom=13, max_zoom=13)\n",
        "\n",
        "[(folium.Marker([marketPool[i].lat, marketPool[i].lon], icon=folium.Icon(color='blue')).add_to(m)) for i in range(len(best_ind.chromosome)) if best_ind.chromosome[i]==1]\n",
        "[(folium.Marker([marketPool[i].lat, marketPool[i].lon], icon=folium.Icon(color='red')).add_to(m)) for i in range(len(best_ind.chromosome)) if best_ind.chromosome[i]==0]\n",
        "points = [(marketPool[i].lat, marketPool[i].lon) for i in range(len(best_ind.chromosome)) if best_ind.chromosome[i]==1]\n",
        "points.append(points[0])\n",
        "folium.PolyLine(points, color=\"red\", weight=2.5, opacity=1).add_to(m)\n",
        "\n",
        "m"
      ],
      "execution_count": 83,
      "outputs": [
        {
          "output_type": "execute_result",
          "data": {
            "text/html": [
              "<div style=\"width:100%;\"><div style=\"position:relative;width:100%;height:0;padding-bottom:60%;\"><iframe src=\"data:text/html;charset=utf-8;base64,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\" style=\"position:absolute;width:100%;height:100%;left:0;top:0;border:none !important;\" allowfullscreen webkitallowfullscreen mozallowfullscreen></iframe></div></div>"
            ],
            "text/plain": [
              "<folium.folium.Map at 0x7fbbb8d2edd8>"
            ]
          },
          "metadata": {
            "tags": []
          },
          "execution_count": 83
        }
      ]
    },
    {
      "cell_type": "code",
      "metadata": {
        "colab_type": "code",
        "id": "v5n0wOEHhiG5",
        "colab": {}
      },
      "source": [
        "today = datetime.datetime.now()\n",
        "\n",
        "def create_geojson_features(df):\n",
        "    print('> Creating GeoJSON features...')\n",
        "    history = []\n",
        "    for index, row in enumerate(df):\n",
        "      itemHistory = []\n",
        "      for chromo in range(len(best_ind.chromosome)):\n",
        "        feature = {\n",
        "            'type': 'Feature',\n",
        "            'geometry': {\n",
        "                'type':'Point', \n",
        "                'coordinates':[marketPool[chromo].lon, marketPool[chromo].lat]\n",
        "            },\n",
        "            'properties': {\n",
        "                'time': (today + timedelta(days=index)).__str__(),\n",
        "                'style': {'color' : 'blue' if row[chromo] == 1 else 'red' },\n",
        "                'icon': 'circle',\n",
        "                'iconstyle':{\n",
        "                    'fillColor': {'color' : 'blue' if row[chromo] == 1 else 'red' },\n",
        "                    'fillOpacity': 0.8,\n",
        "                    'stroke': 'true',\n",
        "                    'radius': 7\n",
        "                }\n",
        "            }\n",
        "        }\n",
        "        itemHistory.append(feature)\n",
        "      history.append(itemHistory)\n",
        "    return history"
      ],
      "execution_count": 0,
      "outputs": []
    },
    {
      "cell_type": "code",
      "metadata": {
        "colab_type": "code",
        "id": "WrNyQHUkh0qi",
        "colab": {}
      },
      "source": [
        "def make_map(features):\n",
        "    print('> Making map...')\n",
        "    coords_lima=[-12.0431805, -77.0282364]\n",
        "    mapLima = folium.Map(location=coords_lima, zoom_start=13, zoomControl= False, min_zoom=13, max_zoom=13, control_scale=True)\n",
        "\n",
        "    TimestampedGeoJson(\n",
        "        {'type': 'FeatureCollection',\n",
        "        'features': np.array(features).flatten().tolist()}\n",
        "        , add_last_point=True\n",
        "        , auto_play=False\n",
        "        , loop=False\n",
        "        , max_speed=1\n",
        "        , loop_button=True\n",
        "        , date_options='DD'\n",
        "        , time_slider_drag_update=True\n",
        "    ).add_to(mapLima)\n",
        "    \n",
        "    print('> Done.')\n",
        "    return mapLima\n",
        "def plot_solution_map(df):\n",
        "    features = create_geojson_features(df)\n",
        "    return make_map(features)"
      ],
      "execution_count": 0,
      "outputs": []
    },
    {
      "cell_type": "markdown",
      "metadata": {
        "colab_type": "text",
        "id": "K_6NeU90wjgK"
      },
      "source": [
        "Para revisar la solución de manera mas dinánica se puede ir al archivo **html** generado con nombre **monoSolution.html**"
      ]
    },
    {
      "cell_type": "code",
      "metadata": {
        "colab_type": "code",
        "id": "J1qerf2biPRy",
        "outputId": "1a60800e-5e6a-466d-eb41-4d057af68b02",
        "colab": {
          "base_uri": "https://localhost:8080/",
          "height": 68
        }
      },
      "source": [
        "solutionOverTime = plot_solution_map(history_population)\n",
        "solutionOverTime.save('monoSolution.html')"
      ],
      "execution_count": 86,
      "outputs": [
        {
          "output_type": "stream",
          "text": [
            "> Creating GeoJSON features...\n",
            "> Making map...\n",
            "> Done.\n"
          ],
          "name": "stdout"
        }
      ]
    },
    {
      "cell_type": "markdown",
      "metadata": {
        "colab_type": "text",
        "id": "49xmrW2aa3FS"
      },
      "source": [
        "**n) Experimentación con el algoritmo**"
      ]
    },
    {
      "cell_type": "markdown",
      "metadata": {
        "colab_type": "text",
        "id": "J-aTlO_ya3FT"
      },
      "source": [
        "Experimente varias veces el\n",
        "algoritmo implementado con una población de 100 individuos y 500 generaciones (se\n",
        "sugiere ejecutar 10 veces) y registre en una tabla los mejores individuos de cada ejecución,\n",
        "sus fitness y los componentes del fitness desagregados (suma de distancias y suma de\n",
        "población)."
      ]
    },
    {
      "cell_type": "code",
      "metadata": {
        "colab_type": "code",
        "collapsed": true,
        "id": "oS-Vo6baa3FV",
        "jupyter": {
          "outputs_hidden": true
        },
        "outputId": "1bab082c-5149-4f2e-83f5-c1b0a21ed1c7",
        "colab": {
          "base_uri": "https://localhost:8080/",
          "height": 1000
        }
      },
      "source": [
        "## Hiperparametros del algoritmo genetico\n",
        "POP_SIZE = 100       # numero de individuos\n",
        "GENERATIONS = 500   # numero de generaciones\n",
        "PMUT = 0.1        # tasa de mutacion\n",
        "individuos,fitness,sum_distancia,sum_poblacion=([] for _ in range(4))\n",
        "for _ in range(10):\n",
        "    population = init_population(POP_SIZE,maxMark=10);\n",
        "    best_ind, bestfitness, _ = genetic_algorithm(population, marketPool, GENERATIONS, PMUT, crossover=\"uniform\", mutation=\"flip\",select='roulette');\n",
        "    individuos.append(best_ind)\n",
        "    fitness.append(best_ind.fitness)\n",
        "    sum_distancia.append(get_fitness_lista(best_ind.chromosome,marketPool)[1])\n",
        "    sum_poblacion.append(get_fitness_lista(best_ind.chromosome,marketPool)[0])"
      ],
      "execution_count": 87,
      "outputs": [
        {
          "output_type": "stream",
          "text": [
            "Poblacion inicial, best_fitness = 173450\n",
            "generacion 0, Mejor fitness = 178784.41564352514)\n",
            "generacion 10, Mejor fitness = 190985.5178017317)\n",
            "generacion 20, Mejor fitness = 193070.0576138023)\n",
            "generacion 30, Mejor fitness = 193409.90950866626)\n",
            "generacion 40, Mejor fitness = 193409.90950866626)\n",
            "generacion 50, Mejor fitness = 193409.90950866626)\n",
            "generacion 60, Mejor fitness = 193409.90950866626)\n",
            "generacion 70, Mejor fitness = 193409.90950866626)\n",
            "generacion 80, Mejor fitness = 193409.90950866626)\n",
            "generacion 90, Mejor fitness = 193409.90950866626)\n",
            "generacion 100, Mejor fitness = 193409.90950866626)\n",
            "generacion 110, Mejor fitness = 193409.90950866626)\n",
            "generacion 120, Mejor fitness = 193409.90950866626)\n",
            "generacion 130, Mejor fitness = 193409.90950866626)\n",
            "generacion 140, Mejor fitness = 193409.90950866626)\n",
            "generacion 150, Mejor fitness = 193409.90950866626)\n",
            "generacion 160, Mejor fitness = 193409.90950866626)\n",
            "generacion 170, Mejor fitness = 193409.90950866626)\n",
            "generacion 180, Mejor fitness = 193409.90950866626)\n",
            "generacion 190, Mejor fitness = 193409.90950866626)\n",
            "generacion 200, Mejor fitness = 193409.90950866626)\n",
            "generacion 210, Mejor fitness = 193409.90950866626)\n",
            "generacion 220, Mejor fitness = 193409.90950866626)\n",
            "generacion 230, Mejor fitness = 193409.90950866626)\n",
            "generacion 240, Mejor fitness = 193409.90950866626)\n",
            "generacion 250, Mejor fitness = 193409.90950866626)\n",
            "generacion 260, Mejor fitness = 193409.90950866626)\n",
            "generacion 270, Mejor fitness = 193409.90950866626)\n",
            "generacion 280, Mejor fitness = 193409.90950866626)\n",
            "generacion 290, Mejor fitness = 193409.90950866626)\n",
            "generacion 300, Mejor fitness = 193409.90950866626)\n",
            "generacion 310, Mejor fitness = 193409.90950866626)\n",
            "generacion 320, Mejor fitness = 193409.90950866626)\n",
            "generacion 330, Mejor fitness = 193409.90950866626)\n",
            "generacion 340, Mejor fitness = 193409.90950866626)\n",
            "generacion 350, Mejor fitness = 193409.90950866626)\n",
            "generacion 360, Mejor fitness = 193409.90950866626)\n",
            "generacion 370, Mejor fitness = 193409.90950866626)\n",
            "generacion 380, Mejor fitness = 193409.90950866626)\n",
            "generacion 390, Mejor fitness = 193409.90950866626)\n",
            "generacion 400, Mejor fitness = 193409.90950866626)\n",
            "generacion 410, Mejor fitness = 193409.90950866626)\n",
            "generacion 420, Mejor fitness = 193409.90950866626)\n",
            "generacion 430, Mejor fitness = 193409.90950866626)\n",
            "generacion 440, Mejor fitness = 193409.90950866626)\n",
            "generacion 450, Mejor fitness = 193409.90950866626)\n",
            "generacion 460, Mejor fitness = 193409.90950866626)\n",
            "generacion 470, Mejor fitness = 193409.90950866626)\n",
            "generacion 480, Mejor fitness = 193409.90950866626)\n",
            "generacion 490, Mejor fitness = 193409.90950866626)\n",
            "Mejor individuo en la ultima generacion = [1, 1, 1, 0, 0, 0, 0, 0, 0, 0, 0, 0, 0, 0, 0, 0, 0, 0, 0, 0, 0, 0, 0, 0, 0, 0, 0, 0, 0, 0, 0, 0, 0, 0, 0, 0, 0, 0, 0, 0, 0, 0, 0, 0, 0, 0, 0, 0, 1, 1, 1, 0, 0, 0, 0, 1, 1, 0, 1, 1] (fitness = 193409.90950866626)\n",
            "Poblacion inicial, best_fitness = 179844.91023413243\n",
            "generacion 0, Mejor fitness = 179844.91023413243)\n",
            "generacion 10, Mejor fitness = 187490.63556238386)\n",
            "generacion 20, Mejor fitness = 192802.7560496577)\n",
            "generacion 30, Mejor fitness = 193409.90950866626)\n",
            "generacion 40, Mejor fitness = 193409.90950866626)\n",
            "generacion 50, Mejor fitness = 193409.90950866626)\n",
            "generacion 60, Mejor fitness = 193409.90950866626)\n",
            "generacion 70, Mejor fitness = 193409.90950866626)\n",
            "generacion 80, Mejor fitness = 193409.90950866626)\n",
            "generacion 90, Mejor fitness = 193409.90950866626)\n",
            "generacion 100, Mejor fitness = 193409.90950866626)\n",
            "generacion 110, Mejor fitness = 193409.90950866626)\n",
            "generacion 120, Mejor fitness = 193409.90950866626)\n",
            "generacion 130, Mejor fitness = 193409.90950866626)\n",
            "generacion 140, Mejor fitness = 193409.90950866626)\n",
            "generacion 150, Mejor fitness = 193409.90950866626)\n",
            "generacion 160, Mejor fitness = 193409.90950866626)\n",
            "generacion 170, Mejor fitness = 193409.90950866626)\n",
            "generacion 180, Mejor fitness = 193409.90950866626)\n",
            "generacion 190, Mejor fitness = 193409.90950866626)\n",
            "generacion 200, Mejor fitness = 193409.90950866626)\n",
            "generacion 210, Mejor fitness = 193409.90950866626)\n",
            "generacion 220, Mejor fitness = 193409.90950866626)\n",
            "generacion 230, Mejor fitness = 193409.90950866626)\n",
            "generacion 240, Mejor fitness = 193409.90950866626)\n",
            "generacion 250, Mejor fitness = 193409.90950866626)\n",
            "generacion 260, Mejor fitness = 193409.90950866626)\n",
            "generacion 270, Mejor fitness = 193409.90950866626)\n",
            "generacion 280, Mejor fitness = 193409.90950866626)\n",
            "generacion 290, Mejor fitness = 193409.90950866626)\n",
            "generacion 300, Mejor fitness = 193409.90950866626)\n",
            "generacion 310, Mejor fitness = 193409.90950866626)\n",
            "generacion 320, Mejor fitness = 193409.90950866626)\n",
            "generacion 330, Mejor fitness = 193409.90950866626)\n",
            "generacion 340, Mejor fitness = 193409.90950866626)\n",
            "generacion 350, Mejor fitness = 193409.90950866626)\n",
            "generacion 360, Mejor fitness = 193409.90950866626)\n",
            "generacion 370, Mejor fitness = 193409.90950866626)\n",
            "generacion 380, Mejor fitness = 193409.90950866626)\n",
            "generacion 390, Mejor fitness = 193409.90950866626)\n",
            "generacion 400, Mejor fitness = 193409.90950866626)\n",
            "generacion 410, Mejor fitness = 193409.90950866626)\n",
            "generacion 420, Mejor fitness = 193409.90950866626)\n",
            "generacion 430, Mejor fitness = 193409.90950866626)\n",
            "generacion 440, Mejor fitness = 193409.90950866626)\n",
            "generacion 450, Mejor fitness = 193409.90950866626)\n",
            "generacion 460, Mejor fitness = 193409.90950866626)\n",
            "generacion 470, Mejor fitness = 193409.90950866626)\n",
            "generacion 480, Mejor fitness = 193409.90950866626)\n",
            "generacion 490, Mejor fitness = 193409.90950866626)\n",
            "Mejor individuo en la ultima generacion = [1, 1, 1, 0, 0, 0, 0, 0, 0, 0, 0, 0, 0, 0, 0, 0, 0, 0, 0, 0, 0, 0, 0, 0, 0, 0, 0, 0, 0, 0, 0, 0, 0, 0, 0, 0, 0, 0, 0, 0, 0, 0, 0, 0, 0, 0, 0, 0, 1, 1, 1, 0, 0, 0, 0, 1, 1, 0, 1, 1] (fitness = 193409.90950866626)\n",
            "Poblacion inicial, best_fitness = 182610.97801498926\n",
            "generacion 0, Mejor fitness = 182610.97801498926)\n",
            "generacion 10, Mejor fitness = 190487.6901812587)\n",
            "generacion 20, Mejor fitness = 193409.90950866626)\n",
            "generacion 30, Mejor fitness = 193409.90950866626)\n",
            "generacion 40, Mejor fitness = 193409.90950866626)\n",
            "generacion 50, Mejor fitness = 193409.90950866626)\n",
            "generacion 60, Mejor fitness = 193409.90950866626)\n",
            "generacion 70, Mejor fitness = 193409.90950866626)\n",
            "generacion 80, Mejor fitness = 193409.90950866626)\n",
            "generacion 90, Mejor fitness = 193409.90950866626)\n",
            "generacion 100, Mejor fitness = 193409.90950866626)\n",
            "generacion 110, Mejor fitness = 193409.90950866626)\n",
            "generacion 120, Mejor fitness = 193409.90950866626)\n",
            "generacion 130, Mejor fitness = 193409.90950866626)\n",
            "generacion 140, Mejor fitness = 193409.90950866626)\n",
            "generacion 150, Mejor fitness = 193409.90950866626)\n",
            "generacion 160, Mejor fitness = 193409.90950866626)\n",
            "generacion 170, Mejor fitness = 193409.90950866626)\n",
            "generacion 180, Mejor fitness = 193409.90950866626)\n",
            "generacion 190, Mejor fitness = 193409.90950866626)\n",
            "generacion 200, Mejor fitness = 193409.90950866626)\n",
            "generacion 210, Mejor fitness = 193409.90950866626)\n",
            "generacion 220, Mejor fitness = 193409.90950866626)\n",
            "generacion 230, Mejor fitness = 193409.90950866626)\n",
            "generacion 240, Mejor fitness = 193409.90950866626)\n",
            "generacion 250, Mejor fitness = 193409.90950866626)\n",
            "generacion 260, Mejor fitness = 193409.90950866626)\n",
            "generacion 270, Mejor fitness = 193409.90950866626)\n",
            "generacion 280, Mejor fitness = 193409.90950866626)\n",
            "generacion 290, Mejor fitness = 193409.90950866626)\n",
            "generacion 300, Mejor fitness = 193409.90950866626)\n",
            "generacion 310, Mejor fitness = 193409.90950866626)\n",
            "generacion 320, Mejor fitness = 193409.90950866626)\n",
            "generacion 330, Mejor fitness = 193409.90950866626)\n",
            "generacion 340, Mejor fitness = 193409.90950866626)\n",
            "generacion 350, Mejor fitness = 193409.90950866626)\n",
            "generacion 360, Mejor fitness = 193409.90950866626)\n",
            "generacion 370, Mejor fitness = 193409.90950866626)\n",
            "generacion 380, Mejor fitness = 193409.90950866626)\n",
            "generacion 390, Mejor fitness = 193409.90950866626)\n",
            "generacion 400, Mejor fitness = 193409.90950866626)\n",
            "generacion 410, Mejor fitness = 193409.90950866626)\n",
            "generacion 420, Mejor fitness = 193409.90950866626)\n",
            "generacion 430, Mejor fitness = 193409.90950866626)\n",
            "generacion 440, Mejor fitness = 193409.90950866626)\n",
            "generacion 450, Mejor fitness = 193409.90950866626)\n",
            "generacion 460, Mejor fitness = 193409.90950866626)\n",
            "generacion 470, Mejor fitness = 193409.90950866626)\n",
            "generacion 480, Mejor fitness = 193409.90950866626)\n",
            "generacion 490, Mejor fitness = 193409.90950866626)\n",
            "Mejor individuo en la ultima generacion = [1, 1, 1, 0, 0, 0, 0, 0, 0, 0, 0, 0, 0, 0, 0, 0, 0, 0, 0, 0, 0, 0, 0, 0, 0, 0, 0, 0, 0, 0, 0, 0, 0, 0, 0, 0, 0, 0, 0, 0, 0, 0, 0, 0, 0, 0, 0, 0, 1, 1, 1, 0, 0, 0, 0, 1, 1, 0, 1, 1] (fitness = 193409.90950866626)\n",
            "Poblacion inicial, best_fitness = 176366.88840012412\n",
            "generacion 0, Mejor fitness = 176366.88840012412)\n",
            "generacion 10, Mejor fitness = 190346.29180470575)\n",
            "generacion 20, Mejor fitness = 192916.7709423955)\n",
            "generacion 30, Mejor fitness = 193409.90950866626)\n",
            "generacion 40, Mejor fitness = 193409.90950866626)\n",
            "generacion 50, Mejor fitness = 193409.90950866626)\n",
            "generacion 60, Mejor fitness = 193409.90950866626)\n",
            "generacion 70, Mejor fitness = 193409.90950866626)\n",
            "generacion 80, Mejor fitness = 193409.90950866626)\n",
            "generacion 90, Mejor fitness = 193409.90950866626)\n",
            "generacion 100, Mejor fitness = 193409.90950866626)\n",
            "generacion 110, Mejor fitness = 193409.90950866626)\n",
            "generacion 120, Mejor fitness = 193409.90950866626)\n",
            "generacion 130, Mejor fitness = 193409.90950866626)\n",
            "generacion 140, Mejor fitness = 193409.90950866626)\n",
            "generacion 150, Mejor fitness = 193409.90950866626)\n",
            "generacion 160, Mejor fitness = 193409.90950866626)\n",
            "generacion 170, Mejor fitness = 193409.90950866626)\n",
            "generacion 180, Mejor fitness = 193409.90950866626)\n",
            "generacion 190, Mejor fitness = 193409.90950866626)\n",
            "generacion 200, Mejor fitness = 193409.90950866626)\n",
            "generacion 210, Mejor fitness = 193409.90950866626)\n",
            "generacion 220, Mejor fitness = 193409.90950866626)\n",
            "generacion 230, Mejor fitness = 193409.90950866626)\n",
            "generacion 240, Mejor fitness = 193409.90950866626)\n",
            "generacion 250, Mejor fitness = 193409.90950866626)\n",
            "generacion 260, Mejor fitness = 193409.90950866626)\n",
            "generacion 270, Mejor fitness = 193409.90950866626)\n",
            "generacion 280, Mejor fitness = 193409.90950866626)\n",
            "generacion 290, Mejor fitness = 193409.90950866626)\n",
            "generacion 300, Mejor fitness = 193409.90950866626)\n",
            "generacion 310, Mejor fitness = 193409.90950866626)\n",
            "generacion 320, Mejor fitness = 193409.90950866626)\n",
            "generacion 330, Mejor fitness = 193409.90950866626)\n",
            "generacion 340, Mejor fitness = 193409.90950866626)\n",
            "generacion 350, Mejor fitness = 193409.90950866626)\n",
            "generacion 360, Mejor fitness = 193409.90950866626)\n",
            "generacion 370, Mejor fitness = 193409.90950866626)\n",
            "generacion 380, Mejor fitness = 193409.90950866626)\n",
            "generacion 390, Mejor fitness = 193409.90950866626)\n",
            "generacion 400, Mejor fitness = 193409.90950866626)\n",
            "generacion 410, Mejor fitness = 193409.90950866626)\n",
            "generacion 420, Mejor fitness = 193409.90950866626)\n",
            "generacion 430, Mejor fitness = 193409.90950866626)\n",
            "generacion 440, Mejor fitness = 193409.90950866626)\n",
            "generacion 450, Mejor fitness = 193409.90950866626)\n",
            "generacion 460, Mejor fitness = 193409.90950866626)\n",
            "generacion 470, Mejor fitness = 193409.90950866626)\n",
            "generacion 480, Mejor fitness = 193409.90950866626)\n",
            "generacion 490, Mejor fitness = 193409.90950866626)\n",
            "Mejor individuo en la ultima generacion = [1, 1, 1, 0, 0, 0, 0, 0, 0, 0, 0, 0, 0, 0, 0, 0, 0, 0, 0, 0, 0, 0, 0, 0, 0, 0, 0, 0, 0, 0, 0, 0, 0, 0, 0, 0, 0, 0, 0, 0, 0, 0, 0, 0, 0, 0, 0, 0, 1, 1, 1, 0, 0, 0, 0, 1, 1, 0, 1, 1] (fitness = 193409.90950866626)\n",
            "Poblacion inicial, best_fitness = 182728.9113369396\n",
            "generacion 0, Mejor fitness = 182728.9113369396)\n",
            "generacion 10, Mejor fitness = 189597.3947552982)\n",
            "generacion 20, Mejor fitness = 193353.41645631232)\n",
            "generacion 30, Mejor fitness = 193409.90950866626)\n",
            "generacion 40, Mejor fitness = 193409.90950866626)\n",
            "generacion 50, Mejor fitness = 193409.90950866626)\n",
            "generacion 60, Mejor fitness = 193409.90950866626)\n",
            "generacion 70, Mejor fitness = 193409.90950866626)\n",
            "generacion 80, Mejor fitness = 193409.90950866626)\n",
            "generacion 90, Mejor fitness = 193409.90950866626)\n",
            "generacion 100, Mejor fitness = 193409.90950866626)\n",
            "generacion 110, Mejor fitness = 193409.90950866626)\n",
            "generacion 120, Mejor fitness = 193409.90950866626)\n",
            "generacion 130, Mejor fitness = 193409.90950866626)\n",
            "generacion 140, Mejor fitness = 193409.90950866626)\n",
            "generacion 150, Mejor fitness = 193409.90950866626)\n",
            "generacion 160, Mejor fitness = 193409.90950866626)\n",
            "generacion 170, Mejor fitness = 193409.90950866626)\n",
            "generacion 180, Mejor fitness = 193409.90950866626)\n",
            "generacion 190, Mejor fitness = 193409.90950866626)\n",
            "generacion 200, Mejor fitness = 193409.90950866626)\n",
            "generacion 210, Mejor fitness = 193409.90950866626)\n",
            "generacion 220, Mejor fitness = 193409.90950866626)\n",
            "generacion 230, Mejor fitness = 193409.90950866626)\n",
            "generacion 240, Mejor fitness = 193409.90950866626)\n",
            "generacion 250, Mejor fitness = 193409.90950866626)\n",
            "generacion 260, Mejor fitness = 193409.90950866626)\n",
            "generacion 270, Mejor fitness = 193409.90950866626)\n",
            "generacion 280, Mejor fitness = 193409.90950866626)\n",
            "generacion 290, Mejor fitness = 193409.90950866626)\n",
            "generacion 300, Mejor fitness = 193409.90950866626)\n",
            "generacion 310, Mejor fitness = 193409.90950866626)\n",
            "generacion 320, Mejor fitness = 193409.90950866626)\n",
            "generacion 330, Mejor fitness = 193409.90950866626)\n",
            "generacion 340, Mejor fitness = 193409.90950866626)\n",
            "generacion 350, Mejor fitness = 193409.90950866626)\n",
            "generacion 360, Mejor fitness = 193409.90950866626)\n",
            "generacion 370, Mejor fitness = 193409.90950866626)\n",
            "generacion 380, Mejor fitness = 193409.90950866626)\n",
            "generacion 390, Mejor fitness = 193409.90950866626)\n",
            "generacion 400, Mejor fitness = 193409.90950866626)\n",
            "generacion 410, Mejor fitness = 193409.90950866626)\n",
            "generacion 420, Mejor fitness = 193409.90950866626)\n",
            "generacion 430, Mejor fitness = 193409.90950866626)\n",
            "generacion 440, Mejor fitness = 193409.90950866626)\n",
            "generacion 450, Mejor fitness = 193409.90950866626)\n",
            "generacion 460, Mejor fitness = 193409.90950866626)\n",
            "generacion 470, Mejor fitness = 193409.90950866626)\n",
            "generacion 480, Mejor fitness = 193409.90950866626)\n",
            "generacion 490, Mejor fitness = 193409.90950866626)\n",
            "Mejor individuo en la ultima generacion = [1, 1, 1, 0, 0, 0, 0, 0, 0, 0, 0, 0, 0, 0, 0, 0, 0, 0, 0, 0, 0, 0, 0, 0, 0, 0, 0, 0, 0, 0, 0, 0, 0, 0, 0, 0, 0, 0, 0, 0, 0, 0, 0, 0, 0, 0, 0, 0, 1, 1, 1, 0, 0, 0, 0, 1, 1, 0, 1, 1] (fitness = 193409.90950866626)\n",
            "Poblacion inicial, best_fitness = 163081.63364898975\n",
            "generacion 0, Mejor fitness = 169864.2529084623)\n",
            "generacion 10, Mejor fitness = 189940.0335333827)\n",
            "generacion 20, Mejor fitness = 193202.93798991878)\n",
            "generacion 30, Mejor fitness = 193409.90950866626)\n",
            "generacion 40, Mejor fitness = 193409.90950866626)\n",
            "generacion 50, Mejor fitness = 193409.90950866626)\n",
            "generacion 60, Mejor fitness = 193409.90950866626)\n",
            "generacion 70, Mejor fitness = 193409.90950866626)\n",
            "generacion 80, Mejor fitness = 193409.90950866626)\n",
            "generacion 90, Mejor fitness = 193409.90950866626)\n",
            "generacion 100, Mejor fitness = 193409.90950866626)\n",
            "generacion 110, Mejor fitness = 193409.90950866626)\n",
            "generacion 120, Mejor fitness = 193409.90950866626)\n",
            "generacion 130, Mejor fitness = 193409.90950866626)\n",
            "generacion 140, Mejor fitness = 193409.90950866626)\n",
            "generacion 150, Mejor fitness = 193409.90950866626)\n",
            "generacion 160, Mejor fitness = 193409.90950866626)\n",
            "generacion 170, Mejor fitness = 193409.90950866626)\n",
            "generacion 180, Mejor fitness = 193409.90950866626)\n",
            "generacion 190, Mejor fitness = 193409.90950866626)\n",
            "generacion 200, Mejor fitness = 193409.90950866626)\n",
            "generacion 210, Mejor fitness = 193409.90950866626)\n",
            "generacion 220, Mejor fitness = 193409.90950866626)\n",
            "generacion 230, Mejor fitness = 193409.90950866626)\n",
            "generacion 240, Mejor fitness = 193409.90950866626)\n",
            "generacion 250, Mejor fitness = 193409.90950866626)\n",
            "generacion 260, Mejor fitness = 193409.90950866626)\n",
            "generacion 270, Mejor fitness = 193409.90950866626)\n",
            "generacion 280, Mejor fitness = 193409.90950866626)\n",
            "generacion 290, Mejor fitness = 193409.90950866626)\n",
            "generacion 300, Mejor fitness = 193409.90950866626)\n",
            "generacion 310, Mejor fitness = 193409.90950866626)\n",
            "generacion 320, Mejor fitness = 193409.90950866626)\n",
            "generacion 330, Mejor fitness = 193409.90950866626)\n",
            "generacion 340, Mejor fitness = 193409.90950866626)\n",
            "generacion 350, Mejor fitness = 193409.90950866626)\n",
            "generacion 360, Mejor fitness = 193409.90950866626)\n",
            "generacion 370, Mejor fitness = 193409.90950866626)\n",
            "generacion 380, Mejor fitness = 193409.90950866626)\n",
            "generacion 390, Mejor fitness = 193409.90950866626)\n",
            "generacion 400, Mejor fitness = 193409.90950866626)\n",
            "generacion 410, Mejor fitness = 193409.90950866626)\n",
            "generacion 420, Mejor fitness = 193409.90950866626)\n",
            "generacion 430, Mejor fitness = 193409.90950866626)\n",
            "generacion 440, Mejor fitness = 193409.90950866626)\n",
            "generacion 450, Mejor fitness = 193409.90950866626)\n",
            "generacion 460, Mejor fitness = 193409.90950866626)\n",
            "generacion 470, Mejor fitness = 193409.90950866626)\n",
            "generacion 480, Mejor fitness = 193409.90950866626)\n",
            "generacion 490, Mejor fitness = 193409.90950866626)\n",
            "Mejor individuo en la ultima generacion = [1, 1, 1, 0, 0, 0, 0, 0, 0, 0, 0, 0, 0, 0, 0, 0, 0, 0, 0, 0, 0, 0, 0, 0, 0, 0, 0, 0, 0, 0, 0, 0, 0, 0, 0, 0, 0, 0, 0, 0, 0, 0, 0, 0, 0, 0, 0, 0, 1, 1, 1, 0, 0, 0, 0, 1, 1, 0, 1, 1] (fitness = 193409.90950866626)\n",
            "Poblacion inicial, best_fitness = 171782.44246869293\n",
            "generacion 0, Mejor fitness = 172718.6749604789)\n",
            "generacion 10, Mejor fitness = 190463.45293774348)\n",
            "generacion 20, Mejor fitness = 193353.41645631232)\n",
            "generacion 30, Mejor fitness = 193409.90950866626)\n",
            "generacion 40, Mejor fitness = 193409.90950866626)\n",
            "generacion 50, Mejor fitness = 193409.90950866626)\n",
            "generacion 60, Mejor fitness = 193409.90950866626)\n",
            "generacion 70, Mejor fitness = 193409.90950866626)\n",
            "generacion 80, Mejor fitness = 193409.90950866626)\n",
            "generacion 90, Mejor fitness = 193409.90950866626)\n",
            "generacion 100, Mejor fitness = 193409.90950866626)\n",
            "generacion 110, Mejor fitness = 193409.90950866626)\n",
            "generacion 120, Mejor fitness = 193409.90950866626)\n",
            "generacion 130, Mejor fitness = 193409.90950866626)\n",
            "generacion 140, Mejor fitness = 193409.90950866626)\n",
            "generacion 150, Mejor fitness = 193409.90950866626)\n",
            "generacion 160, Mejor fitness = 193409.90950866626)\n",
            "generacion 170, Mejor fitness = 193409.90950866626)\n",
            "generacion 180, Mejor fitness = 193409.90950866626)\n",
            "generacion 190, Mejor fitness = 193409.90950866626)\n",
            "generacion 200, Mejor fitness = 193409.90950866626)\n",
            "generacion 210, Mejor fitness = 193409.90950866626)\n",
            "generacion 220, Mejor fitness = 193409.90950866626)\n",
            "generacion 230, Mejor fitness = 193409.90950866626)\n",
            "generacion 240, Mejor fitness = 193409.90950866626)\n",
            "generacion 250, Mejor fitness = 193409.90950866626)\n",
            "generacion 260, Mejor fitness = 193409.90950866626)\n",
            "generacion 270, Mejor fitness = 193409.90950866626)\n",
            "generacion 280, Mejor fitness = 193409.90950866626)\n",
            "generacion 290, Mejor fitness = 193409.90950866626)\n",
            "generacion 300, Mejor fitness = 193409.90950866626)\n",
            "generacion 310, Mejor fitness = 193409.90950866626)\n",
            "generacion 320, Mejor fitness = 193409.90950866626)\n",
            "generacion 330, Mejor fitness = 193409.90950866626)\n",
            "generacion 340, Mejor fitness = 193409.90950866626)\n",
            "generacion 350, Mejor fitness = 193409.90950866626)\n",
            "generacion 360, Mejor fitness = 193409.90950866626)\n",
            "generacion 370, Mejor fitness = 193409.90950866626)\n",
            "generacion 380, Mejor fitness = 193409.90950866626)\n",
            "generacion 390, Mejor fitness = 193409.90950866626)\n",
            "generacion 400, Mejor fitness = 193409.90950866626)\n",
            "generacion 410, Mejor fitness = 193409.90950866626)\n",
            "generacion 420, Mejor fitness = 193409.90950866626)\n",
            "generacion 430, Mejor fitness = 193409.90950866626)\n",
            "generacion 440, Mejor fitness = 193409.90950866626)\n",
            "generacion 450, Mejor fitness = 193409.90950866626)\n",
            "generacion 460, Mejor fitness = 193409.90950866626)\n",
            "generacion 470, Mejor fitness = 193409.90950866626)\n",
            "generacion 480, Mejor fitness = 193409.90950866626)\n",
            "generacion 490, Mejor fitness = 193409.90950866626)\n",
            "Mejor individuo en la ultima generacion = [1, 1, 1, 0, 0, 0, 0, 0, 0, 0, 0, 0, 0, 0, 0, 0, 0, 0, 0, 0, 0, 0, 0, 0, 0, 0, 0, 0, 0, 0, 0, 0, 0, 0, 0, 0, 0, 0, 0, 0, 0, 0, 0, 0, 0, 0, 0, 0, 1, 1, 1, 0, 0, 0, 0, 1, 1, 0, 1, 1] (fitness = 193409.90950866626)\n",
            "Poblacion inicial, best_fitness = 168751.5247181852\n",
            "generacion 0, Mejor fitness = 172447.6891600264)\n",
            "generacion 10, Mejor fitness = 189841.1218984068)\n",
            "generacion 20, Mejor fitness = 193012.0781472902)\n",
            "generacion 30, Mejor fitness = 193409.90950866626)\n",
            "generacion 40, Mejor fitness = 193409.90950866626)\n",
            "generacion 50, Mejor fitness = 193409.90950866626)\n",
            "generacion 60, Mejor fitness = 193409.90950866626)\n",
            "generacion 70, Mejor fitness = 193409.90950866626)\n",
            "generacion 80, Mejor fitness = 193409.90950866626)\n",
            "generacion 90, Mejor fitness = 193409.90950866626)\n",
            "generacion 100, Mejor fitness = 193409.90950866626)\n",
            "generacion 110, Mejor fitness = 193409.90950866626)\n",
            "generacion 120, Mejor fitness = 193409.90950866626)\n",
            "generacion 130, Mejor fitness = 193409.90950866626)\n",
            "generacion 140, Mejor fitness = 193409.90950866626)\n",
            "generacion 150, Mejor fitness = 193409.90950866626)\n",
            "generacion 160, Mejor fitness = 193409.90950866626)\n",
            "generacion 170, Mejor fitness = 193409.90950866626)\n",
            "generacion 180, Mejor fitness = 193409.90950866626)\n",
            "generacion 190, Mejor fitness = 193409.90950866626)\n",
            "generacion 200, Mejor fitness = 193409.90950866626)\n",
            "generacion 210, Mejor fitness = 193409.90950866626)\n",
            "generacion 220, Mejor fitness = 193409.90950866626)\n",
            "generacion 230, Mejor fitness = 193409.90950866626)\n",
            "generacion 240, Mejor fitness = 193409.90950866626)\n",
            "generacion 250, Mejor fitness = 193409.90950866626)\n",
            "generacion 260, Mejor fitness = 193409.90950866626)\n",
            "generacion 270, Mejor fitness = 193409.90950866626)\n",
            "generacion 280, Mejor fitness = 193409.90950866626)\n",
            "generacion 290, Mejor fitness = 193409.90950866626)\n",
            "generacion 300, Mejor fitness = 193409.90950866626)\n",
            "generacion 310, Mejor fitness = 193409.90950866626)\n",
            "generacion 320, Mejor fitness = 193409.90950866626)\n",
            "generacion 330, Mejor fitness = 193409.90950866626)\n",
            "generacion 340, Mejor fitness = 193409.90950866626)\n",
            "generacion 350, Mejor fitness = 193409.90950866626)\n",
            "generacion 360, Mejor fitness = 193409.90950866626)\n",
            "generacion 370, Mejor fitness = 193409.90950866626)\n",
            "generacion 380, Mejor fitness = 193409.90950866626)\n",
            "generacion 390, Mejor fitness = 193409.90950866626)\n",
            "generacion 400, Mejor fitness = 193409.90950866626)\n",
            "generacion 410, Mejor fitness = 193409.90950866626)\n",
            "generacion 420, Mejor fitness = 193409.90950866626)\n",
            "generacion 430, Mejor fitness = 193409.90950866626)\n",
            "generacion 440, Mejor fitness = 193409.90950866626)\n",
            "generacion 450, Mejor fitness = 193409.90950866626)\n",
            "generacion 460, Mejor fitness = 193409.90950866626)\n",
            "generacion 470, Mejor fitness = 193409.90950866626)\n",
            "generacion 480, Mejor fitness = 193409.90950866626)\n",
            "generacion 490, Mejor fitness = 193409.90950866626)\n",
            "Mejor individuo en la ultima generacion = [1, 1, 1, 0, 0, 0, 0, 0, 0, 0, 0, 0, 0, 0, 0, 0, 0, 0, 0, 0, 0, 0, 0, 0, 0, 0, 0, 0, 0, 0, 0, 0, 0, 0, 0, 0, 0, 0, 0, 0, 0, 0, 0, 0, 0, 0, 0, 0, 1, 1, 1, 0, 0, 0, 0, 1, 1, 0, 1, 1] (fitness = 193409.90950866626)\n",
            "Poblacion inicial, best_fitness = 179782.7449310442\n",
            "generacion 0, Mejor fitness = 179782.7449310442)\n",
            "generacion 10, Mejor fitness = 191461.77021976092)\n",
            "generacion 20, Mejor fitness = 193409.90950866626)\n",
            "generacion 30, Mejor fitness = 193409.90950866626)\n",
            "generacion 40, Mejor fitness = 193409.90950866626)\n",
            "generacion 50, Mejor fitness = 193409.90950866626)\n",
            "generacion 60, Mejor fitness = 193409.90950866626)\n",
            "generacion 70, Mejor fitness = 193409.90950866626)\n",
            "generacion 80, Mejor fitness = 193409.90950866626)\n",
            "generacion 90, Mejor fitness = 193409.90950866626)\n",
            "generacion 100, Mejor fitness = 193409.90950866626)\n",
            "generacion 110, Mejor fitness = 193409.90950866626)\n",
            "generacion 120, Mejor fitness = 193409.90950866626)\n",
            "generacion 130, Mejor fitness = 193409.90950866626)\n",
            "generacion 140, Mejor fitness = 193409.90950866626)\n",
            "generacion 150, Mejor fitness = 193409.90950866626)\n",
            "generacion 160, Mejor fitness = 193409.90950866626)\n",
            "generacion 170, Mejor fitness = 193409.90950866626)\n",
            "generacion 180, Mejor fitness = 193409.90950866626)\n",
            "generacion 190, Mejor fitness = 193409.90950866626)\n",
            "generacion 200, Mejor fitness = 193409.90950866626)\n",
            "generacion 210, Mejor fitness = 193409.90950866626)\n",
            "generacion 220, Mejor fitness = 193409.90950866626)\n",
            "generacion 230, Mejor fitness = 193409.90950866626)\n",
            "generacion 240, Mejor fitness = 193409.90950866626)\n",
            "generacion 250, Mejor fitness = 193409.90950866626)\n",
            "generacion 260, Mejor fitness = 193409.90950866626)\n",
            "generacion 270, Mejor fitness = 193409.90950866626)\n",
            "generacion 280, Mejor fitness = 193409.90950866626)\n",
            "generacion 290, Mejor fitness = 193409.90950866626)\n",
            "generacion 300, Mejor fitness = 193409.90950866626)\n",
            "generacion 310, Mejor fitness = 193409.90950866626)\n",
            "generacion 320, Mejor fitness = 193409.90950866626)\n",
            "generacion 330, Mejor fitness = 193409.90950866626)\n",
            "generacion 340, Mejor fitness = 193409.90950866626)\n",
            "generacion 350, Mejor fitness = 193409.90950866626)\n",
            "generacion 360, Mejor fitness = 193409.90950866626)\n",
            "generacion 370, Mejor fitness = 193409.90950866626)\n",
            "generacion 380, Mejor fitness = 193409.90950866626)\n",
            "generacion 390, Mejor fitness = 193409.90950866626)\n",
            "generacion 400, Mejor fitness = 193409.90950866626)\n",
            "generacion 410, Mejor fitness = 193409.90950866626)\n",
            "generacion 420, Mejor fitness = 193409.90950866626)\n",
            "generacion 430, Mejor fitness = 193409.90950866626)\n",
            "generacion 440, Mejor fitness = 193409.90950866626)\n",
            "generacion 450, Mejor fitness = 193409.90950866626)\n",
            "generacion 460, Mejor fitness = 193409.90950866626)\n",
            "generacion 470, Mejor fitness = 193409.90950866626)\n",
            "generacion 480, Mejor fitness = 193409.90950866626)\n",
            "generacion 490, Mejor fitness = 193409.90950866626)\n",
            "Mejor individuo en la ultima generacion = [1, 1, 1, 0, 0, 0, 0, 0, 0, 0, 0, 0, 0, 0, 0, 0, 0, 0, 0, 0, 0, 0, 0, 0, 0, 0, 0, 0, 0, 0, 0, 0, 0, 0, 0, 0, 0, 0, 0, 0, 0, 0, 0, 0, 0, 0, 0, 0, 1, 1, 1, 0, 0, 0, 0, 1, 1, 0, 1, 1] (fitness = 193409.90950866626)\n",
            "Poblacion inicial, best_fitness = 177599.44481290324\n",
            "generacion 0, Mejor fitness = 177599.44481290324)\n",
            "generacion 10, Mejor fitness = 190374.58403719912)\n",
            "generacion 20, Mejor fitness = 192716.80424999783)\n",
            "generacion 30, Mejor fitness = 193409.90950866626)\n",
            "generacion 40, Mejor fitness = 193409.90950866626)\n",
            "generacion 50, Mejor fitness = 193409.90950866626)\n",
            "generacion 60, Mejor fitness = 193409.90950866626)\n",
            "generacion 70, Mejor fitness = 193409.90950866626)\n",
            "generacion 80, Mejor fitness = 193409.90950866626)\n",
            "generacion 90, Mejor fitness = 193409.90950866626)\n",
            "generacion 100, Mejor fitness = 193409.90950866626)\n",
            "generacion 110, Mejor fitness = 193409.90950866626)\n",
            "generacion 120, Mejor fitness = 193409.90950866626)\n",
            "generacion 130, Mejor fitness = 193409.90950866626)\n",
            "generacion 140, Mejor fitness = 193409.90950866626)\n",
            "generacion 150, Mejor fitness = 193409.90950866626)\n",
            "generacion 160, Mejor fitness = 193409.90950866626)\n",
            "generacion 170, Mejor fitness = 193409.90950866626)\n",
            "generacion 180, Mejor fitness = 193409.90950866626)\n",
            "generacion 190, Mejor fitness = 193409.90950866626)\n",
            "generacion 200, Mejor fitness = 193409.90950866626)\n",
            "generacion 210, Mejor fitness = 193409.90950866626)\n",
            "generacion 220, Mejor fitness = 193409.90950866626)\n",
            "generacion 230, Mejor fitness = 193409.90950866626)\n",
            "generacion 240, Mejor fitness = 193409.90950866626)\n",
            "generacion 250, Mejor fitness = 193409.90950866626)\n",
            "generacion 260, Mejor fitness = 193409.90950866626)\n",
            "generacion 270, Mejor fitness = 193409.90950866626)\n",
            "generacion 280, Mejor fitness = 193409.90950866626)\n",
            "generacion 290, Mejor fitness = 193409.90950866626)\n",
            "generacion 300, Mejor fitness = 193409.90950866626)\n",
            "generacion 310, Mejor fitness = 193409.90950866626)\n",
            "generacion 320, Mejor fitness = 193409.90950866626)\n",
            "generacion 330, Mejor fitness = 193409.90950866626)\n",
            "generacion 340, Mejor fitness = 193409.90950866626)\n",
            "generacion 350, Mejor fitness = 193409.90950866626)\n",
            "generacion 360, Mejor fitness = 193409.90950866626)\n",
            "generacion 370, Mejor fitness = 193409.90950866626)\n",
            "generacion 380, Mejor fitness = 193409.90950866626)\n",
            "generacion 390, Mejor fitness = 193409.90950866626)\n",
            "generacion 400, Mejor fitness = 193409.90950866626)\n",
            "generacion 410, Mejor fitness = 193409.90950866626)\n",
            "generacion 420, Mejor fitness = 193409.90950866626)\n",
            "generacion 430, Mejor fitness = 193409.90950866626)\n",
            "generacion 440, Mejor fitness = 193409.90950866626)\n",
            "generacion 450, Mejor fitness = 193409.90950866626)\n",
            "generacion 460, Mejor fitness = 193409.90950866626)\n",
            "generacion 470, Mejor fitness = 193409.90950866626)\n",
            "generacion 480, Mejor fitness = 193409.90950866626)\n",
            "generacion 490, Mejor fitness = 193409.90950866626)\n",
            "Mejor individuo en la ultima generacion = [1, 1, 1, 0, 0, 0, 0, 0, 0, 0, 0, 0, 0, 0, 0, 0, 0, 0, 0, 0, 0, 0, 0, 0, 0, 0, 0, 0, 0, 0, 0, 0, 0, 0, 0, 0, 0, 0, 0, 0, 0, 0, 0, 0, 0, 0, 0, 0, 1, 1, 1, 0, 0, 0, 0, 1, 1, 0, 1, 1] (fitness = 193409.90950866626)\n"
          ],
          "name": "stdout"
        }
      ]
    },
    {
      "cell_type": "code",
      "metadata": {
        "colab_type": "code",
        "id": "-vYMN6hza3FX",
        "outputId": "46f76b7d-58fa-48fa-8ce1-e845f2ff5508",
        "colab": {
          "base_uri": "https://localhost:8080/",
          "height": 359
        }
      },
      "source": [
        "resultados_mono_obj=pd.DataFrame({'individuos':individuos,'fitness':fitness,'suma_distancia':sum_distancia,'suma_poblacion':sum_poblacion})\n",
        "resultados_mono_obj"
      ],
      "execution_count": 88,
      "outputs": [
        {
          "output_type": "execute_result",
          "data": {
            "text/html": [
              "<div>\n",
              "<style scoped>\n",
              "    .dataframe tbody tr th:only-of-type {\n",
              "        vertical-align: middle;\n",
              "    }\n",
              "\n",
              "    .dataframe tbody tr th {\n",
              "        vertical-align: top;\n",
              "    }\n",
              "\n",
              "    .dataframe thead th {\n",
              "        text-align: right;\n",
              "    }\n",
              "</style>\n",
              "<table border=\"1\" class=\"dataframe\">\n",
              "  <thead>\n",
              "    <tr style=\"text-align: right;\">\n",
              "      <th></th>\n",
              "      <th>individuos</th>\n",
              "      <th>fitness</th>\n",
              "      <th>suma_distancia</th>\n",
              "      <th>suma_poblacion</th>\n",
              "    </tr>\n",
              "  </thead>\n",
              "  <tbody>\n",
              "    <tr>\n",
              "      <th>0</th>\n",
              "      <td>&lt;__main__.Individual object at 0x7fbbb9b2de10&gt;</td>\n",
              "      <td>193409.909509</td>\n",
              "      <td>10309.909509</td>\n",
              "      <td>183100</td>\n",
              "    </tr>\n",
              "    <tr>\n",
              "      <th>1</th>\n",
              "      <td>&lt;__main__.Individual object at 0x7fbbb9b2dcf8&gt;</td>\n",
              "      <td>193409.909509</td>\n",
              "      <td>10309.909509</td>\n",
              "      <td>183100</td>\n",
              "    </tr>\n",
              "    <tr>\n",
              "      <th>2</th>\n",
              "      <td>&lt;__main__.Individual object at 0x7fbbb9bfa208&gt;</td>\n",
              "      <td>193409.909509</td>\n",
              "      <td>10309.909509</td>\n",
              "      <td>183100</td>\n",
              "    </tr>\n",
              "    <tr>\n",
              "      <th>3</th>\n",
              "      <td>&lt;__main__.Individual object at 0x7fbbb9bfa748&gt;</td>\n",
              "      <td>193409.909509</td>\n",
              "      <td>10309.909509</td>\n",
              "      <td>183100</td>\n",
              "    </tr>\n",
              "    <tr>\n",
              "      <th>4</th>\n",
              "      <td>&lt;__main__.Individual object at 0x7fbbb9bfa9e8&gt;</td>\n",
              "      <td>193409.909509</td>\n",
              "      <td>10309.909509</td>\n",
              "      <td>183100</td>\n",
              "    </tr>\n",
              "    <tr>\n",
              "      <th>5</th>\n",
              "      <td>&lt;__main__.Individual object at 0x7fbbb8c1f710&gt;</td>\n",
              "      <td>193409.909509</td>\n",
              "      <td>10309.909509</td>\n",
              "      <td>183100</td>\n",
              "    </tr>\n",
              "    <tr>\n",
              "      <th>6</th>\n",
              "      <td>&lt;__main__.Individual object at 0x7fbbb9bfaf28&gt;</td>\n",
              "      <td>193409.909509</td>\n",
              "      <td>10309.909509</td>\n",
              "      <td>183100</td>\n",
              "    </tr>\n",
              "    <tr>\n",
              "      <th>7</th>\n",
              "      <td>&lt;__main__.Individual object at 0x7fbbb9bfa6d8&gt;</td>\n",
              "      <td>193409.909509</td>\n",
              "      <td>10309.909509</td>\n",
              "      <td>183100</td>\n",
              "    </tr>\n",
              "    <tr>\n",
              "      <th>8</th>\n",
              "      <td>&lt;__main__.Individual object at 0x7fbbb9bfa4e0&gt;</td>\n",
              "      <td>193409.909509</td>\n",
              "      <td>10309.909509</td>\n",
              "      <td>183100</td>\n",
              "    </tr>\n",
              "    <tr>\n",
              "      <th>9</th>\n",
              "      <td>&lt;__main__.Individual object at 0x7fbbb8baa898&gt;</td>\n",
              "      <td>193409.909509</td>\n",
              "      <td>10309.909509</td>\n",
              "      <td>183100</td>\n",
              "    </tr>\n",
              "  </tbody>\n",
              "</table>\n",
              "</div>"
            ],
            "text/plain": [
              "                                       individuos  ...  suma_poblacion\n",
              "0  <__main__.Individual object at 0x7fbbb9b2de10>  ...          183100\n",
              "1  <__main__.Individual object at 0x7fbbb9b2dcf8>  ...          183100\n",
              "2  <__main__.Individual object at 0x7fbbb9bfa208>  ...          183100\n",
              "3  <__main__.Individual object at 0x7fbbb9bfa748>  ...          183100\n",
              "4  <__main__.Individual object at 0x7fbbb9bfa9e8>  ...          183100\n",
              "5  <__main__.Individual object at 0x7fbbb8c1f710>  ...          183100\n",
              "6  <__main__.Individual object at 0x7fbbb9bfaf28>  ...          183100\n",
              "7  <__main__.Individual object at 0x7fbbb9bfa6d8>  ...          183100\n",
              "8  <__main__.Individual object at 0x7fbbb9bfa4e0>  ...          183100\n",
              "9  <__main__.Individual object at 0x7fbbb8baa898>  ...          183100\n",
              "\n",
              "[10 rows x 4 columns]"
            ]
          },
          "metadata": {
            "tags": []
          },
          "execution_count": 88
        }
      ]
    },
    {
      "cell_type": "markdown",
      "metadata": {
        "colab_type": "text",
        "id": "o3XPpzeMa3Fa"
      },
      "source": [
        "## **2) Algoritmo multi-objetivo NSGA-II**"
      ]
    },
    {
      "cell_type": "markdown",
      "metadata": {
        "colab_type": "text",
        "id": "zssQGLS1a3Fa"
      },
      "source": [
        "**a) Función para obtener los fitness para los dos objetivos**"
      ]
    },
    {
      "cell_type": "code",
      "metadata": {
        "colab_type": "code",
        "id": "5rjPHrcda3Fb",
        "colab": {}
      },
      "source": [
        "def get_fitness_nsga(chromosome, markets):\n",
        "    fitnesses=np.zeros(2) #cantidad de objetivos a medir\n",
        "    markets_elegidos=[]\n",
        "    sum_pob=0\n",
        "    sum_dist=0\n",
        "    for i in range(len(markets)):\n",
        "        if chromosome[i] == 1:  # si el market i esta incluido en el cromosoma, acumula su poblacion y distancia\n",
        "            sum_pob += markets[i].pob\n",
        "            markets_elegidos.append(i)\n",
        "            \n",
        "    for j in markets_elegidos:\n",
        "        for k in markets_elegidos[j+1:]:\n",
        "            sum_dist=sum_dist+lista_total_distancias[(j,k)]\n",
        "    fitnesses[0]=sum_pob\n",
        "    fitnesses[1]=sum_dist\n",
        "    return fitnesses"
      ],
      "execution_count": 0,
      "outputs": []
    },
    {
      "cell_type": "markdown",
      "metadata": {
        "colab_type": "text",
        "id": "0xAG9vD2a3Fe"
      },
      "source": [
        "**b) Funcion para evaluar una población de individuos**"
      ]
    },
    {
      "cell_type": "code",
      "metadata": {
        "colab_type": "code",
        "id": "zGe1vgOoa3Ff",
        "colab": {}
      },
      "source": [
        "def evaluate_population_nsga(population, markets):\n",
        "    \"\"\" Evalua una poblacion de individuos con la funcion get_fitness \"\"\"\n",
        "    pop_size = len(population)\n",
        "    for i in range(pop_size):\n",
        "        if population[i].fitness == -1:    # evalua solo si el individuo no esta evaluado\n",
        "            population[i].fitness = get_fitness_nsga(population[i].chromosome, markets)"
      ],
      "execution_count": 0,
      "outputs": []
    },
    {
      "cell_type": "markdown",
      "metadata": {
        "colab_type": "text",
        "id": "e0hH_37va3Fk"
      },
      "source": [
        "**c) Funcion para la obtencion de la poblacion descendiente**"
      ]
    },
    {
      "cell_type": "code",
      "metadata": {
        "colab_type": "code",
        "id": "o4h1JWaPa3Fm",
        "colab": {}
      },
      "source": [
        "def build_offspring_population(population, crossover, mutation, pmut):     \n",
        "    \"\"\" Construye una poblacion hija con los operadores de cruzamiento y mutacion pasados\n",
        "        crossover:  operador de cruzamiento\n",
        "        mutation:   operador de mutacion\n",
        "        pmut:       taza de mutacion\n",
        "    \"\"\"\n",
        "    pop_size = len(population)\n",
        "    \n",
        "    ## Selecciona parejas de individuos (mating_pool) para cruzamiento con el metodo de la ruleta\n",
        "    mating_pool = []\n",
        "    for i in range(int(pop_size/2)): \n",
        "        # escoge dos individuos diferentes aleatoriamente de la poblacion\n",
        "        permut = np.random.permutation( pop_size )\n",
        "        mating_pool.append( (population[permut[0]], population[permut[1]] ) ) \n",
        "        \n",
        "    ## Crea la poblacion descendencia cruzando las parejas del mating pool \n",
        "    offspring_population = []\n",
        "    for i in range(len(mating_pool)): \n",
        "        if crossover == \"onepoint\":\n",
        "            offspring_population.extend( mating_pool[i][0].crossover_onepoint(mating_pool[i][1]) ) # cruzamiento 1 punto\n",
        "        elif crossover == \"uniform\":\n",
        "            offspring_population.extend( mating_pool[i][0].crossover_uniform(mating_pool[i][1]) ) # cruzamiento uniforme\n",
        "        else:\n",
        "            raise NotImplementedError\n",
        "\n",
        "    ## Aplica el operador de mutacion con probabilidad pmut en cada hijo generado\n",
        "    for i in range(len(offspring_population)):\n",
        "        if uniform(0, 1) < pmut: \n",
        "            if mutation == \"flip\":\n",
        "                offspring_population[i] = offspring_population[i].mutation_flip() # cambia el alelo de un gen\n",
        "            else:\n",
        "                raise NotImplementedError   \n",
        "                \n",
        "    return offspring_population\n"
      ],
      "execution_count": 0,
      "outputs": []
    },
    {
      "cell_type": "markdown",
      "metadata": {
        "colab_type": "text",
        "id": "3r5Ardqla3Fq"
      },
      "source": [
        "**d) Funcion para la obtencion de las distancias crowding**"
      ]
    },
    {
      "cell_type": "code",
      "metadata": {
        "colab_type": "code",
        "id": "A9FI8FLpa3Fr",
        "colab": {}
      },
      "source": [
        "def get_crowding_distances(fitnesses):\n",
        "    \"\"\"\n",
        "    La distancia crowding de un individuo es la diferencia del fitness mas proximo hacia arriba menos el fitness mas proximo \n",
        "    hacia abajo. El valor crowding total es la suma de todas las distancias crowdings para todos los fitness\n",
        "    \"\"\"\n",
        "    #fitnesses de la forma np.array( [ [23,23],[12,21],[2,2] ])\n",
        "    pop_size = len(fitnesses[:, 0])\n",
        "    num_objectives = len(fitnesses[0, :])\n",
        "\n",
        "    # crea matriz crowding. Filas representan individuos, columnas representan objectives\n",
        "    crowding_matrix = np.zeros((pop_size, num_objectives))\n",
        "\n",
        "    # normaliza los fitnesses entre 0 y 1 (ptp es max - min)\n",
        "    # Es importante normalizar los fitness porque pueden venir con diferentes unidades de medida\n",
        "    normalized_fitnesses = (fitnesses - fitnesses.min(0)) / fitnesses.ptp(0)\n",
        "\n",
        "    for col in range(num_objectives):   # Por cada objective\n",
        "        crowding = np.zeros(pop_size)\n",
        "\n",
        "        # puntos extremos tienen maximo crowding\n",
        "        crowding[0] = 1\n",
        "        crowding[pop_size - 1] = 1\n",
        "\n",
        "        # ordena los fitness normalizados del objectivo actual\n",
        "        sorted_fitnesses = np.sort(normalized_fitnesses[:, col])\n",
        "        sorted_fitnesses_index = np.argsort(normalized_fitnesses[:, col])\n",
        "\n",
        "        # Calcula la distancia crowding de cada individuo como la diferencia de score de los vecinos\n",
        "        crowding[1:pop_size - 1] = (sorted_fitnesses[2:pop_size] - sorted_fitnesses[0:pop_size - 2])\n",
        "\n",
        "        # obtiene el ordenamiento original\n",
        "        re_sort_order = np.argsort(sorted_fitnesses_index)\n",
        "        sorted_crowding = crowding[re_sort_order]\n",
        "\n",
        "        # Salva las distancias crowdingpara el objetivo que se esta iterando\n",
        "        crowding_matrix[:, col] = sorted_crowding\n",
        "\n",
        "    # Obtiene las distancias crowding finales sumando las distancias crowding de cada objetivo \n",
        "    crowding_distances = np.sum(crowding_matrix, axis=1)\n",
        "\n",
        "    return crowding_distances"
      ],
      "execution_count": 0,
      "outputs": []
    },
    {
      "cell_type": "markdown",
      "metadata": {
        "colab_type": "text",
        "id": "YJS7Xnxaa3Fu"
      },
      "source": [
        "**e) Funcion para la seleccion por distancia crowding**"
      ]
    },
    {
      "cell_type": "code",
      "metadata": {
        "colab_type": "code",
        "id": "sgNZbN7ua3Fv",
        "colab": {}
      },
      "source": [
        "def select_by_crowding(population, num_individuals):\n",
        "    \"\"\"\n",
        "    Selecciona una poblacion de individuos basado en torneos de pares de individuos: dos individuos se escoge al azar\n",
        "    y se selecciona el mejor segun la distancia crowding. Se repite hasta obtener num_individuals individuos\n",
        "    \"\"\"    \n",
        "    population = deepcopy(population)\n",
        "    pop_size = len(population)\n",
        "    num_objectives = len(population[0].fitness)\n",
        "    \n",
        "    # extrae los fitness de la poblacion en la matriz fitnesses\n",
        "    fitnesses = np.zeros([pop_size, num_objectives])\n",
        "    for i in range(pop_size): fitnesses[i,:] = population[i].fitness\n",
        "        \n",
        "    # obtiene las  distancias  crowding\n",
        "    crowding_distances = get_crowding_distances(fitnesses)   \n",
        "    \n",
        "    population_selected = []   # poblacion escogida\n",
        "\n",
        "    for i in range(num_individuals):  # por cada individuo a seleccionar\n",
        "\n",
        "        # escoje dos individuos aleatoriamente de la poblacion no escogida aun\n",
        "        permut = np.random.permutation( len(population) )\n",
        "        ind1_id = permut[0]\n",
        "        ind2_id = permut[1]\n",
        "\n",
        "        # Si ind1_id es el mejor\n",
        "        if crowding_distances[ind1_id] >= crowding_distances[ind2_id]:\n",
        "\n",
        "            # traslada el individuo ind1 de population a la lista de individuos seleccionados\n",
        "            population_selected.append( population.pop(ind1_id) )\n",
        "            # remueve la distancia crowding del individuo seleccionado\n",
        "            crowding_distances = np.delete(crowding_distances, ind1_id, axis=0)\n",
        "            \n",
        "        else:  # Si ind2_id es el mejor\n",
        "            \n",
        "            # traslada el individuo ind2 de population a la lista de individuos seleccionados\n",
        "            population_selected.append( population.pop(ind2_id) )\n",
        "            # remueve la distancia crowding del individuo seleccionado\n",
        "            crowding_distances = np.delete(crowding_distances, ind2_id, axis=0)\n",
        "\n",
        "    return (population_selected)"
      ],
      "execution_count": 0,
      "outputs": []
    },
    {
      "cell_type": "markdown",
      "metadata": {
        "colab_type": "text",
        "id": "W-p3XfqTa3Fx"
      },
      "source": [
        "**f) Funcion para de la frontera de pareto**"
      ]
    },
    {
      "cell_type": "code",
      "metadata": {
        "colab_type": "code",
        "id": "vrOPHlUNa3Fy",
        "colab": {}
      },
      "source": [
        "def get_paretofront_population(population):\n",
        "    \"\"\"\n",
        "    Obtiene de population la poblacion de individups de la frontera de Pareto, \n",
        "    \"\"\"\n",
        "    population = deepcopy(population)\n",
        "    pop_size = len(population)\n",
        "    \n",
        "    # todos los individuos son inicialmente asumidos como la frontera de Pareto\n",
        "    pareto_front = np.ones(pop_size, dtype=bool)\n",
        "    \n",
        "    for i in range(pop_size): # Compara cada individuo contra todos los demas\n",
        "        for j in range(pop_size):\n",
        "            # Chequea si individuo 'i' es dominado por individuo 'j'\n",
        "            if all(population[j].fitness >= population[i].fitness) and any(population[j].fitness > population[i].fitness): #NO es OR ?\n",
        "                # j domina i -> señaliza que individuo 'i' como no siendo parte de la frontera de Pareto\n",
        "                pareto_front[i] = 0\n",
        "                break   # Para la busqueda para 'i' (no es necesario hacer mas comparaciones)\n",
        "\n",
        "    paretofront_population = []\n",
        "    for i in range(pop_size):  # construye la lista de individuos de la frontera de Pareto \n",
        "        if pareto_front[i] == 1: paretofront_population.append(population[i])\n",
        "        \n",
        "    return paretofront_population"
      ],
      "execution_count": 0,
      "outputs": []
    },
    {
      "cell_type": "markdown",
      "metadata": {
        "colab_type": "text",
        "id": "9OK3N4HGa3F0"
      },
      "source": [
        "**g) Funcion para la obtencion de la siguiente poblacion**"
      ]
    },
    {
      "cell_type": "code",
      "metadata": {
        "colab_type": "code",
        "id": "ZK4vuFJZa3F1",
        "colab": {}
      },
      "source": [
        "def build_next_population(population, min_pop_size, max_pop_size):\n",
        "    \"\"\"\n",
        "    Construye la poblacion de la siguiente generacion añadiendo sucesivas fronteras de Pareto hasta \n",
        "    tener una poblacion de al menos min_pop_size individuos. Reduce la frontera de Pareto con el metodo de\n",
        "    crowding distance si al agregar la frontera excede el tamaño maximo de la poblacion (max_pop_size)\n",
        "    \"\"\"\n",
        "    population = deepcopy(population)\n",
        "    pareto_front = []\n",
        "    next_population = []\n",
        "    \n",
        "    while len(next_population) < min_pop_size:   # mientras la poblacion no tenga el tamaño minimo\n",
        "        # obtiene la poblacion frontera de Pareto actual\n",
        "        paretofront_population = get_paretofront_population(population)\n",
        "        \n",
        "        # si poblacion actual + paretofront excede el maximo permitido -> reduce paretofront con el metodo de crowding\n",
        "        combined_population_size = len(next_population) + len(paretofront_population)\n",
        "        if  combined_population_size > max_pop_size:\n",
        "            paretofront_population = select_by_crowding( paretofront_population, max_pop_size-len(next_population) ) \n",
        "        \n",
        "        # Adiciona la frontera de Pareto (original o reducida) a la poblacion en construccion\n",
        "        next_population.extend( paretofront_population )\n",
        "    \n",
        "        # remueve de population los individuos que fueron agregados a next_population \n",
        "        for i in range( len(paretofront_population) ):\n",
        "            for j in range( len(population) ):\n",
        "                if all( np.asarray(paretofront_population[i].chromosome) == np.asarray(population[j].chromosome) ):\n",
        "                    del(population[j])\n",
        "                    break\n",
        "                    \n",
        "    return next_population"
      ],
      "execution_count": 0,
      "outputs": []
    },
    {
      "cell_type": "markdown",
      "metadata": {
        "colab_type": "text",
        "id": "d8zBp1iKa3F2"
      },
      "source": [
        "**h) Ejecucion del algoritmo**"
      ]
    },
    {
      "cell_type": "code",
      "metadata": {
        "colab_type": "code",
        "collapsed": true,
        "id": "3RXr_iSta3F3",
        "jupyter": {
          "outputs_hidden": true
        },
        "outputId": "99e7c7e5-f14c-4a76-c833-bb52fcaf1562",
        "colab": {
          "base_uri": "https://localhost:8080/",
          "height": 867
        }
      },
      "source": [
        "## Hiperparametros del algoritmo genetico\n",
        "POP_SIZE = 50       # numero de individuos\n",
        "GENERATIONS = 500   # numero de generaciones\n",
        "PMUT = 1        # taza de mutacion\n",
        "MIN_POP_SIZE = 100    # numero de individuos minimo\n",
        "MAX_POP_SIZE = 100    # numero de individuos maximo\n",
        "\n",
        "## Inicializa una poblacion inicial de forma aleatoria\n",
        "P = init_population(POP_SIZE,maxMark=10)\n",
        "\n",
        "evaluate_population_nsga(P,marketPool)    #  evalua la poblacion inicial\n",
        "## Ejecuta los ciclos evolutivos \n",
        "for g in range(GENERATIONS):   # Por cada generacion\n",
        "    \n",
        "    if g %10 == 0:\n",
        "        print ('Generacion {} (de {}) '.format(g, GENERATIONS))\n",
        "    \n",
        "    ## genera y evalua la poblacion hija    \n",
        "    Q = build_offspring_population(P, \"uniform\", \"flip\", PMUT)\n",
        "    evaluate_population_nsga(Q, marketPool)\n",
        "    \n",
        "    ## une la poblacion padre y la poblacion hija\n",
        "    P.extend(Q) \n",
        "    \n",
        "    ## Construye la poblacion de la siguiente generacion\n",
        "    P = build_next_population(P, MIN_POP_SIZE, MAX_POP_SIZE)\n",
        "\n",
        "# Obtiene la poblacion de la frontera de pareto final \n",
        "pareto_front_population = get_paretofront_population(P)"
      ],
      "execution_count": 96,
      "outputs": [
        {
          "output_type": "stream",
          "text": [
            "Generacion 0 (de 500) \n",
            "Generacion 10 (de 500) \n",
            "Generacion 20 (de 500) \n",
            "Generacion 30 (de 500) \n",
            "Generacion 40 (de 500) \n",
            "Generacion 50 (de 500) \n",
            "Generacion 60 (de 500) \n",
            "Generacion 70 (de 500) \n",
            "Generacion 80 (de 500) \n",
            "Generacion 90 (de 500) \n",
            "Generacion 100 (de 500) \n",
            "Generacion 110 (de 500) \n",
            "Generacion 120 (de 500) \n",
            "Generacion 130 (de 500) \n",
            "Generacion 140 (de 500) \n",
            "Generacion 150 (de 500) \n",
            "Generacion 160 (de 500) \n",
            "Generacion 170 (de 500) \n",
            "Generacion 180 (de 500) \n",
            "Generacion 190 (de 500) \n",
            "Generacion 200 (de 500) \n",
            "Generacion 210 (de 500) \n",
            "Generacion 220 (de 500) \n",
            "Generacion 230 (de 500) \n",
            "Generacion 240 (de 500) \n",
            "Generacion 250 (de 500) \n",
            "Generacion 260 (de 500) \n",
            "Generacion 270 (de 500) \n",
            "Generacion 280 (de 500) \n",
            "Generacion 290 (de 500) \n",
            "Generacion 300 (de 500) \n",
            "Generacion 310 (de 500) \n",
            "Generacion 320 (de 500) \n",
            "Generacion 330 (de 500) \n",
            "Generacion 340 (de 500) \n",
            "Generacion 350 (de 500) \n",
            "Generacion 360 (de 500) \n",
            "Generacion 370 (de 500) \n",
            "Generacion 380 (de 500) \n",
            "Generacion 390 (de 500) \n",
            "Generacion 400 (de 500) \n",
            "Generacion 410 (de 500) \n",
            "Generacion 420 (de 500) \n",
            "Generacion 430 (de 500) \n",
            "Generacion 440 (de 500) \n",
            "Generacion 450 (de 500) \n",
            "Generacion 460 (de 500) \n",
            "Generacion 470 (de 500) \n",
            "Generacion 480 (de 500) \n",
            "Generacion 490 (de 500) \n"
          ],
          "name": "stdout"
        }
      ]
    },
    {
      "cell_type": "markdown",
      "metadata": {
        "colab_type": "text",
        "id": "ippHlyJGa3F5"
      },
      "source": [
        "**i) Visualizacion de la frontera de pareto**"
      ]
    },
    {
      "cell_type": "code",
      "metadata": {
        "colab_type": "code",
        "id": "GkImmB6Va3F5",
        "outputId": "f92befb8-ab23-4268-82aa-52fc2de404e8",
        "colab": {
          "base_uri": "https://localhost:8080/",
          "height": 279
        }
      },
      "source": [
        "## Plotea los individuos de la frontera de Pareto final\n",
        "CHROMOSOME_SIZE = 60 \n",
        "pop_size = len(pareto_front_population)\n",
        "num_objectives = len(pareto_front_population[0].fitness)\n",
        "    \n",
        "# extrae los fitness de la poblacion en la matriz fitnesses\n",
        "fitnesses = np.zeros([pop_size, num_objectives])\n",
        "for i in range(pop_size): fitnesses[i,:] = pareto_front_population[i].fitness\n",
        "\n",
        "x = fitnesses[:, 0]/CHROMOSOME_SIZE*100\n",
        "y = fitnesses[:, 1]/CHROMOSOME_SIZE*100\n",
        "plt.xlabel('Objectivo Poblacion - % maximo obtenible') #Primer objetivo: Maximizar el valor de la mochila\n",
        "plt.ylabel('Objectivo Distancia - % maximo obtenible') #Segundo objetivo: Minimizar el peso de la mochila\n",
        "plt.scatter(x,y)\n",
        "#plt.savefig('pareto.png')\n",
        "plt.show()\n"
      ],
      "execution_count": 97,
      "outputs": [
        {
          "output_type": "display_data",
          "data": {
            "image/png": "[encoded data removed]",
            "text/plain": [
              "<Figure size 432x288 with 1 Axes>"
            ]
          },
          "metadata": {
            "tags": []
          }
        }
      ]
    },
    {
      "cell_type": "markdown",
      "metadata": {
        "colab_type": "text",
        "id": "-oSV9h-Ma3F7"
      },
      "source": [
        "**Verificacion si la solucion que nos otorgó el mono objetivo es parte de las soluciones obtenidas por NSGA-II**"
      ]
    },
    {
      "cell_type": "code",
      "metadata": {
        "colab_type": "code",
        "id": "q4WKGQ_4a3F8",
        "outputId": "d14dc954-fb0d-4a04-c247-330d6b92c229",
        "colab": {
          "base_uri": "https://localhost:8080/",
          "height": 34
        }
      },
      "source": [
        "cromosomas=[indi.chromosome for indi in pareto_front_population]\n",
        "valor=True if best_ind.chromosome in cromosomas else False\n",
        "valor"
      ],
      "execution_count": 98,
      "outputs": [
        {
          "output_type": "execute_result",
          "data": {
            "text/plain": [
              "False"
            ]
          },
          "metadata": {
            "tags": []
          },
          "execution_count": 98
        }
      ]
    },
    {
      "cell_type": "markdown",
      "metadata": {
        "id": "xpxqxi8yCLdV",
        "colab_type": "text"
      },
      "source": [
        "**Obtencion del individuo con maxima poblacion**"
      ]
    },
    {
      "cell_type": "code",
      "metadata": {
        "id": "-oEme_WfCLdW",
        "colab_type": "code",
        "colab": {}
      },
      "source": [
        "fit=0\n",
        "individuo_pob = None\n",
        "for indi in pareto_front_population:\n",
        "    if indi.fitness[0] > fit:\n",
        "        fit=indi.fitness[0]\n",
        "        individuo_pob=indi"
      ],
      "execution_count": 0,
      "outputs": []
    },
    {
      "cell_type": "code",
      "metadata": {
        "id": "zD-UneMVCLdY",
        "colab_type": "code",
        "colab": {
          "base_uri": "https://localhost:8080/",
          "height": 34
        },
        "outputId": "16995a01-5a56-41e8-d621-6d46ea8c27d3"
      },
      "source": [
        "individuo_pob.fitness/CHROMOSOME_SIZE*100"
      ],
      "execution_count": 114,
      "outputs": [
        {
          "output_type": "execute_result",
          "data": {
            "text/plain": [
              "array([308666.66666667,   9956.50061104])"
            ]
          },
          "metadata": {
            "tags": []
          },
          "execution_count": 114
        }
      ]
    },
    {
      "cell_type": "markdown",
      "metadata": {
        "id": "ikzcG8syCLdZ",
        "colab_type": "text"
      },
      "source": [
        "**Obtencion del individuo con maxima distancia**"
      ]
    },
    {
      "cell_type": "code",
      "metadata": {
        "id": "_Qi4nJuhCLda",
        "colab_type": "code",
        "colab": {}
      },
      "source": [
        "fit=0\n",
        "individuo_dist=None\n",
        "for indi in pareto_front_population:\n",
        "    if indi.fitness[1] > fit:\n",
        "        fit=indi.fitness[1]\n",
        "        individuo_dist=indi"
      ],
      "execution_count": 0,
      "outputs": []
    },
    {
      "cell_type": "code",
      "metadata": {
        "id": "wpES6oXmCLdb",
        "colab_type": "code",
        "colab": {
          "base_uri": "https://localhost:8080/",
          "height": 34
        },
        "outputId": "b33e7f50-5964-4b3a-a185-daf848e0e818"
      },
      "source": [
        "individuo_dist.fitness/CHROMOSOME_SIZE*100"
      ],
      "execution_count": 116,
      "outputs": [
        {
          "output_type": "execute_result",
          "data": {
            "text/plain": [
              "array([193083.33333333,  39241.73627165])"
            ]
          },
          "metadata": {
            "tags": []
          },
          "execution_count": 116
        }
      ]
    },
    {
      "cell_type": "markdown",
      "metadata": {
        "id": "gTdUepE7CLdh",
        "colab_type": "text"
      },
      "source": [
        "**Obtencion del individuo intermedio**"
      ]
    },
    {
      "cell_type": "code",
      "metadata": {
        "id": "P0VLzWqACLdi",
        "colab_type": "code",
        "colab": {}
      },
      "source": [
        "fit_pob=0\n",
        "fit_dist=0\n",
        "for indi in pareto_front_population:\n",
        "    if indi.fitness[0] > fit_pob and indi.fitness[1] > fit_dist:\n",
        "        fit_pob=indi.fitness[0]\n",
        "        fit_dist=indi.fitness[1]\n",
        "        individuo_medio=indi"
      ],
      "execution_count": 0,
      "outputs": []
    },
    {
      "cell_type": "code",
      "metadata": {
        "id": "8L3vnXe5CLdj",
        "colab_type": "code",
        "colab": {
          "base_uri": "https://localhost:8080/",
          "height": 34
        },
        "outputId": "85a90fa7-9217-4896-cccd-f137d5ba7c13"
      },
      "source": [
        "individuo_medio.fitness"
      ],
      "execution_count": 118,
      "outputs": [
        {
          "output_type": "execute_result",
          "data": {
            "text/plain": [
              "array([170250.        ,  13910.11822141])"
            ]
          },
          "metadata": {
            "tags": []
          },
          "execution_count": 118
        }
      ]
    },
    {
      "cell_type": "markdown",
      "metadata": {
        "colab_type": "text",
        "id": "5KPeJu3uo16R"
      },
      "source": [
        "Vemos que la última solución de pareto optimiza la cantidad de pobladores que en los locales"
      ]
    },
    {
      "cell_type": "code",
      "metadata": {
        "colab_type": "code",
        "id": "Kl4gRQlano5R",
        "outputId": "6aa97e65-5016-464a-be2b-429f5e4cd4ea",
        "colab": {
          "base_uri": "https://localhost:8080/",
          "height": 1000
        }
      },
      "source": [
        "m = folium.Map(\n",
        "    location=[-12.0431805, -77.0282364], zoom_start=13, zoomControl= False, min_zoom=13, max_zoom=13)\n",
        "\n",
        "[(folium.Marker([marketPool[i].lat, marketPool[i].lon], icon=folium.Icon(color='red')).add_to(m)) for i in range(len(individuo_pob.chromosome)) if individuo_pob.chromosome[i]==0]\n",
        "[(folium.Marker([marketPool[i].lat, marketPool[i].lon], icon=folium.Icon(color='blue')).add_to(m)) for i in range(len(individuo_pob.chromosome)) if individuo_pob.chromosome[i]==1]\n",
        "points = [(marketPool[i].lat, marketPool[i].lon) for i in range(len(individuo_pob.chromosome)) if individuo_pob.chromosome[i]==1]\n",
        "points.append(points[0])\n",
        "folium.PolyLine(points, color=\"red\", weight=2.5, opacity=1).add_to(m)\n",
        "\n",
        "m"
      ],
      "execution_count": 119,
      "outputs": [
        {
          "output_type": "execute_result",
          "data": {
            "text/html": [
              "<div style=\"width:100%;\"><div style=\"position:relative;width:100%;height:0;padding-bottom:60%;\"><iframe src=\"data:text/html;charset=utf-8;base64,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\" style=\"position:absolute;width:100%;height:100%;left:0;top:0;border:none !important;\" allowfullscreen webkitallowfullscreen mozallowfullscreen></iframe></div></div>"
            ],
            "text/plain": [
              "<folium.folium.Map at 0x7fbbb809b588>"
            ]
          },
          "metadata": {
            "tags": []
          },
          "execution_count": 119
        }
      ]
    },
    {
      "cell_type": "code",
      "metadata": {
        "colab_type": "code",
        "id": "fjEnWtlVtWo8",
        "outputId": "a830184b-9538-4d08-e715-352e812fbf0e",
        "colab": {
          "base_uri": "https://localhost:8080/",
          "height": 34
        }
      },
      "source": [
        "print(\"Esta solución tiene como maximo fitness cantidad de población {} y una distancia fitness entre locales de {}\".format(individuo_pob.fitness[0]/CHROMOSOME_SIZE*100, individuo_pob.fitness[1]/CHROMOSOME_SIZE*100))"
      ],
      "execution_count": 121,
      "outputs": [
        {
          "output_type": "stream",
          "text": [
            "Esta solución tiene como maximo fitness cantidad de población 308666.6666666666 y una distancia fitness entre locales de 9956.500611036774\n"
          ],
          "name": "stdout"
        }
      ]
    },
    {
      "cell_type": "markdown",
      "metadata": {
        "colab_type": "text",
        "id": "bgGhw7bEprZ_"
      },
      "source": [
        "Ahora probaremos con la frontera de pareto, en donde se maximiza la distancia entre los locales sea la máxima."
      ]
    },
    {
      "cell_type": "code",
      "metadata": {
        "colab_type": "code",
        "id": "4W6vUuLSpqe8",
        "outputId": "9931a713-3226-401a-ad07-113675db44a6",
        "colab": {
          "base_uri": "https://localhost:8080/",
          "height": 1000
        }
      },
      "source": [
        "m = folium.Map(\n",
        "    location=[-12.0431805, -77.0282364], zoom_start=13, zoomControl= False, min_zoom=13, max_zoom=13)\n",
        "\n",
        "[(folium.Marker([marketPool[i].lat, marketPool[i].lon], icon=folium.Icon(color='red')).add_to(m)) for i in range(len(individuo_dist.chromosome)) if individuo_dist.chromosome[i]==0]\n",
        "[(folium.Marker([marketPool[i].lat, marketPool[i].lon], icon=folium.Icon(color='blue')).add_to(m)) for i in range(len(individuo_dist.chromosome)) if individuo_dist.chromosome[i]==1]\n",
        "points = [(marketPool[i].lat, marketPool[i].lon) for i in range(len(individuo_dist.chromosome)) if individuo_dist.chromosome[i]==1]\n",
        "points.append(points[0])\n",
        "folium.PolyLine(points, color=\"red\", weight=2.5, opacity=1).add_to(m)\n",
        "\n",
        "m"
      ],
      "execution_count": 122,
      "outputs": [
        {
          "output_type": "execute_result",
          "data": {
            "text/html": [
              "<div style=\"width:100%;\"><div style=\"position:relative;width:100%;height:0;padding-bottom:60%;\"><iframe src=\"data:text/html;charset=utf-8;base64,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\" style=\"position:absolute;width:100%;height:100%;left:0;top:0;border:none !important;\" allowfullscreen webkitallowfullscreen mozallowfullscreen></iframe></div></div>"
            ],
            "text/plain": [
              "<folium.folium.Map at 0x7fbbb9c27160>"
            ]
          },
          "metadata": {
            "tags": []
          },
          "execution_count": 122
        }
      ]
    },
    {
      "cell_type": "code",
      "metadata": {
        "colab_type": "code",
        "id": "9F63eRa3t28y",
        "outputId": "4d6b047c-9189-42fa-9171-fde547cb3a25",
        "colab": {
          "base_uri": "https://localhost:8080/",
          "height": 34
        }
      },
      "source": [
        "print(\"Esta solución tiene como cantidad de población {} y un maximo de distancia de entre locales de {}\".format(individuo_dist.fitness[0]/CHROMOSOME_SIZE*100, individuo_dist.fitness[1]/CHROMOSOME_SIZE*100))"
      ],
      "execution_count": 124,
      "outputs": [
        {
          "output_type": "stream",
          "text": [
            "Esta solución tiene como cantidad de población 193083.3333333333 y un maximo de distancia de entre locales de 39241.73627165429\n"
          ],
          "name": "stdout"
        }
      ]
    },
    {
      "cell_type": "markdown",
      "metadata": {
        "id": "AzGAknRiFNoT",
        "colab_type": "text"
      },
      "source": [
        "Ahora añadiremos los cuales maximizan ambos valores (distancia entre locales y cantidad de población)"
      ]
    },
    {
      "cell_type": "code",
      "metadata": {
        "id": "K7btCLxLFM0c",
        "colab_type": "code",
        "colab": {
          "base_uri": "https://localhost:8080/",
          "height": 1000
        },
        "outputId": "5f36f1db-cd39-4500-cab0-b5984a5b62fa"
      },
      "source": [
        "m = folium.Map(\n",
        "    location=[-12.0431805, -77.0282364], zoom_start=13, zoomControl= False, min_zoom=13, max_zoom=13)\n",
        "\n",
        "[(folium.Marker([marketPool[i].lat, marketPool[i].lon], icon=folium.Icon(color='red')).add_to(m)) for i in range(len(individuo_medio.chromosome)) if individuo_medio.chromosome[i]==0]\n",
        "[(folium.Marker([marketPool[i].lat, marketPool[i].lon], icon=folium.Icon(color='blue')).add_to(m)) for i in range(len(individuo_medio.chromosome)) if individuo_medio.chromosome[i]==1]\n",
        "points = [(marketPool[i].lat, marketPool[i].lon) for i in range(len(individuo_medio.chromosome)) if individuo_medio.chromosome[i]==1]\n",
        "points.append(points[0])\n",
        "folium.PolyLine(points, color=\"red\", weight=2.5, opacity=1).add_to(m)\n",
        "\n",
        "m"
      ],
      "execution_count": 125,
      "outputs": [
        {
          "output_type": "execute_result",
          "data": {
            "text/html": [
              "<div style=\"width:100%;\"><div style=\"position:relative;width:100%;height:0;padding-bottom:60%;\"><iframe src=\"data:text/html;charset=utf-8;base64,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\" style=\"position:absolute;width:100%;height:100%;left:0;top:0;border:none !important;\" allowfullscreen webkitallowfullscreen mozallowfullscreen></iframe></div></div>"
            ],
            "text/plain": [
              "<folium.folium.Map at 0x7fbbb8a75828>"
            ]
          },
          "metadata": {
            "tags": []
          },
          "execution_count": 125
        }
      ]
    },
    {
      "cell_type": "code",
      "metadata": {
        "id": "hf-gqH4yFflU",
        "colab_type": "code",
        "colab": {
          "base_uri": "https://localhost:8080/",
          "height": 34
        },
        "outputId": "09d8ead5-2cce-4774-b50a-636da47a9a5e"
      },
      "source": [
        "print(\"Esta solución tiene como cantidad de población {} y la distancia de entre locales de {}\".format(individuo_medio.fitness[0]/CHROMOSOME_SIZE*100, individuo_medio.fitness[1]/CHROMOSOME_SIZE*100))"
      ],
      "execution_count": 126,
      "outputs": [
        {
          "output_type": "stream",
          "text": [
            "Esta solución tiene como cantidad de población 283750.0 y la distancia de entre locales de 23183.530369021522\n"
          ],
          "name": "stdout"
        }
      ]
    },
    {
      "cell_type": "markdown",
      "metadata": {
        "colab_type": "text",
        "id": "PVgjo-2Va3F9"
      },
      "source": [
        "**j) Experimentación con el algoritmo**"
      ]
    },
    {
      "cell_type": "markdown",
      "metadata": {
        "colab_type": "text",
        "id": "uhQGVCXQa3F-"
      },
      "source": [
        "Experimente varias\n",
        "veces el algoritmo implementado con una población de 100 individuos y 500 generaciones\n",
        "(se sugiere ejecutar 10 veces). En cada ejecución registre los individuos de la frontera de\n",
        "Pareto final, así como los valores de las funciones objetivos de dichos individuo. Realice\n",
        "Plots de las fronteras de Pareto encontradas, ubicando en dichos plots los puntos de los\n",
        "mejores individuos encontrados con el algoritmo mono-objetivo."
      ]
    },
    {
      "cell_type": "code",
      "metadata": {
        "colab_type": "code",
        "collapsed": true,
        "id": "IaqnfKN_a3F_",
        "jupyter": {
          "outputs_hidden": true
        },
        "outputId": "befc0bbf-36ec-42f9-8d17-41d2b9166ca7",
        "colab": {
          "base_uri": "https://localhost:8080/",
          "height": 204
        }
      },
      "source": [
        "## Hiperparametros del algoritmo genetico\n",
        "POP_SIZE = 100       # numero de individuos\n",
        "GENERATIONS = 500   # numero de generaciones\n",
        "PMUT = 1       # tasa de mutacion, influye en el resultado\n",
        "MIN_POP_SIZE = 100    # numero de individuos minimo\n",
        "MAX_POP_SIZE = 100    # numero de individuos maximo\n",
        "\n",
        "num_iteracion,individuos_pareto,obj_pob,obj_dist=([] for _ in range(4))\n",
        "for i in range(10):\n",
        "    \n",
        "    ## Inicializa una poblacion inicial de forma aleatoria\n",
        "    P = init_population(POP_SIZE,maxMark=10)\n",
        "\n",
        "    evaluate_population_nsga(P,marketPool)    #  evalua la poblacion inicial\n",
        "    print(f'Iteracion {i+1}')\n",
        "    ## Ejecuta los ciclos evolutivos \n",
        "    for g in range(GENERATIONS):   # Por cada generacion\n",
        "        if g %10 == 0:\n",
        "            print ('Generacion {} (de {}) '.format(g, GENERATIONS))\n",
        "\n",
        "        ## genera y evalua la poblacion hija    \n",
        "        Q = build_offspring_population(P, \"uniform\", \"flip\", PMUT)\n",
        "        evaluate_population_nsga(Q, marketPool)\n",
        "\n",
        "        ## une la poblacion padre y la poblacion hija\n",
        "        P.extend(Q) \n",
        "\n",
        "        ## Construye la poblacion de la siguiente generacion\n",
        "        P = build_next_population(P, MIN_POP_SIZE, MAX_POP_SIZE)\n",
        "\n",
        "    # Obtiene la poblacion de la frontera de pareto final \n",
        "    pareto_front_population = get_paretofront_population(P) \n",
        "    \n",
        "    num_iteracion.append([i for _ in range(len(pareto_front_population)) ]) #Almacenamos el numero de iteracion para distingirlos en el dataframe\n",
        "    individuos_pareto.append(pareto_front_population) #Almacenamos los individuos que se encuentran en la frontera de pareto\n",
        "    obj_pob.append([individuo.fitness[0] for individuo in pareto_front_population]) #Almacenamos el objetivo poblacion de cada individuo\n",
        "    obj_dist.append([individuo.fitness[1] for individuo in pareto_front_population]) #Almacenamos el objetivo distancia de cada individuo"
      ],
      "execution_count": 0,
      "outputs": [
        {
          "output_type": "stream",
          "text": [
            "Iteracion 1\n",
            "Generacion 0 (de 500) \n",
            "Generacion 10 (de 500) \n",
            "Generacion 20 (de 500) \n",
            "Generacion 30 (de 500) \n",
            "Generacion 40 (de 500) \n",
            "Generacion 50 (de 500) \n",
            "Generacion 60 (de 500) \n",
            "Generacion 70 (de 500) \n",
            "Generacion 80 (de 500) \n",
            "Generacion 90 (de 500) \n"
          ],
          "name": "stdout"
        }
      ]
    },
    {
      "cell_type": "markdown",
      "metadata": {
        "colab_type": "text",
        "id": "_LjF__WQa3GD"
      },
      "source": [
        "Flatten para cada lista"
      ]
    },
    {
      "cell_type": "code",
      "metadata": {
        "colab_type": "code",
        "id": "-3wMPEWNa3GE",
        "colab": {}
      },
      "source": [
        "num_iteracion=[item for sublist in num_iteracion for item in sublist]\n",
        "individuos_pareto=[item for sublist in individuos_pareto for item in sublist]\n",
        "obj_pob=[item for sublist in obj_pob for item in sublist]\n",
        "obj_dist=[item for sublist in obj_dist for item in sublist]"
      ],
      "execution_count": 0,
      "outputs": []
    },
    {
      "cell_type": "code",
      "metadata": {
        "colab_type": "code",
        "id": "CGEE-nUwa3GG",
        "colab": {}
      },
      "source": [
        "resultados_multi_obj=pd.DataFrame({'numero_iteracion':num_iteracion,'individuos_pareto':individuos_pareto,\n",
        "                                   'objetivo_poblacion':obj_pob,'objetivo_distancia':obj_dist})\n",
        "resultados_multi_obj"
      ],
      "execution_count": 0,
      "outputs": []
    },
    {
      "cell_type": "markdown",
      "metadata": {
        "colab_type": "text",
        "id": "vz63KkFYa3GL"
      },
      "source": [
        "**k) Plots de las fronteras de pareto**"
      ]
    },
    {
      "cell_type": "code",
      "metadata": {
        "colab_type": "code",
        "collapsed": true,
        "id": "SVKMQt0Ea3GM",
        "jupyter": {
          "outputs_hidden": true,
          "source_hidden": true
        },
        "colab": {}
      },
      "source": [
        "fig,axes=plt.subplots(nrows=2, ncols=5,figsize=(20,10))\n",
        "fig.tight_layout(pad=4)\n",
        "for i in range(10):\n",
        "    subplot=plt.subplot(2,5, i+1)    \n",
        "    plt.title(f'Iteración {i+1}', loc='center', fontsize=20, fontweight=0)\n",
        "    fitnesses = np.zeros([pop_size, num_objectives])\n",
        "    for j in range(pop_size): fitnesses[j,:] = resultados_multi_obj.individuos_pareto[resultados_multi_obj.numero_iteracion == i].iloc[j].fitness\n",
        "    x = fitnesses[:, 0]/CHROMOSOME_SIZE*100\n",
        "    y = fitnesses[:, 1]/CHROMOSOME_SIZE*100\n",
        "    plt.xlabel('Objectivo Poblacion - % maximo obtenible') #Primer objetivo: Maximizar el valor de la mochila\n",
        "    plt.ylabel('Objectivo Distancia - % maximo obtenible') #Segundo objetivo: Minimizar el peso de la mochila\n",
        "    plt.scatter(x,y)\n",
        "    #Plot de los mejores individuos encontrados con el algoritmo mono objetivo\n",
        "    x_multi=resultados_mono_obj.iloc[i].suma_poblacion/CHROMOSOME_SIZE*100\n",
        "    y_multi=resultados_mono_obj.iloc[i].suma_distancia/CHROMOSOME_SIZE*100\n",
        "    plt.scatter(x_multi,y_multi,c='red')"
      ],
      "execution_count": 0,
      "outputs": []
    },
    {
      "cell_type": "code",
      "metadata": {
        "id": "MAlnE-ydCXmt",
        "colab_type": "code",
        "colab": {}
      },
      "source": [
        ""
      ],
      "execution_count": 0,
      "outputs": []
    }
  ]
}