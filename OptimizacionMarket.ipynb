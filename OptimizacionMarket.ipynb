{
 "cells": [
  {
   "cell_type": "markdown",
   "metadata": {
    "colab_type": "text",
    "id": "skYKoK28a3EK"
   },
   "source": [
    "# **Proyecto final: Usando computación evolutiva para encontrar localizaciones optimas de una cadena de supermercados**"
   ]
  },
  {
   "cell_type": "markdown",
   "metadata": {
    "colab_type": "text",
    "id": "IRrENozVa3EN"
   },
   "source": [
    "## **1) Algoritmo genético mono-objetivo**"
   ]
  },
  {
   "cell_type": "markdown",
   "metadata": {
    "colab_type": "text",
    "id": "FZrZ6t_Oa3EO"
   },
   "source": [
    "**a) Importando las librerias necesarias**"
   ]
  },
  {
   "cell_type": "code",
   "execution_count": 2,
   "metadata": {
    "colab": {
     "base_uri": "https://localhost:8080/",
     "height": 425
    },
    "colab_type": "code",
    "collapsed": true,
    "id": "76Lt5Nvqcyao",
    "jupyter": {
     "outputs_hidden": true
    },
    "outputId": "000f6f37-6151-479c-ab13-d54a83cafc3f"
   },
   "outputs": [
    {
     "name": "stdout",
     "output_type": "stream",
     "text": [
      "Collecting git+https://github.com/python-visualization/folium\n",
      "  Cloning https://github.com/python-visualization/folium to /tmp/pip-req-build-r8dpxcao\n",
      "  Running command git clone -q https://github.com/python-visualization/folium /tmp/pip-req-build-r8dpxcao\n",
      "Requirement already satisfied (use --upgrade to upgrade): folium==0.10.0+4.ga1e3686 from git+https://github.com/python-visualization/folium in /home/lautaro/anaconda3/envs/ArtInte/lib/python3.7/site-packages\n",
      "Requirement already satisfied: branca>=0.3.0 in /home/lautaro/anaconda3/envs/ArtInte/lib/python3.7/site-packages (from folium==0.10.0+4.ga1e3686) (0.3.1)\n",
      "Requirement already satisfied: jinja2>=2.9 in /home/lautaro/anaconda3/envs/ArtInte/lib/python3.7/site-packages (from folium==0.10.0+4.ga1e3686) (2.10.3)\n",
      "Requirement already satisfied: numpy in /home/lautaro/anaconda3/envs/ArtInte/lib/python3.7/site-packages (from folium==0.10.0+4.ga1e3686) (1.17.2)\n",
      "Requirement already satisfied: requests in /home/lautaro/anaconda3/envs/ArtInte/lib/python3.7/site-packages (from folium==0.10.0+4.ga1e3686) (2.22.0)\n",
      "Requirement already satisfied: six in /home/lautaro/anaconda3/envs/ArtInte/lib/python3.7/site-packages (from branca>=0.3.0->folium==0.10.0+4.ga1e3686) (1.12.0)\n",
      "Requirement already satisfied: MarkupSafe>=0.23 in /home/lautaro/anaconda3/envs/ArtInte/lib/python3.7/site-packages (from jinja2>=2.9->folium==0.10.0+4.ga1e3686) (1.1.1)\n",
      "Requirement already satisfied: certifi>=2017.4.17 in /home/lautaro/anaconda3/envs/ArtInte/lib/python3.7/site-packages (from requests->folium==0.10.0+4.ga1e3686) (2019.9.11)\n",
      "Requirement already satisfied: urllib3!=1.25.0,!=1.25.1,<1.26,>=1.21.1 in /home/lautaro/anaconda3/envs/ArtInte/lib/python3.7/site-packages (from requests->folium==0.10.0+4.ga1e3686) (1.24.2)\n",
      "Requirement already satisfied: idna<2.9,>=2.5 in /home/lautaro/anaconda3/envs/ArtInte/lib/python3.7/site-packages (from requests->folium==0.10.0+4.ga1e3686) (2.8)\n",
      "Requirement already satisfied: chardet<3.1.0,>=3.0.2 in /home/lautaro/anaconda3/envs/ArtInte/lib/python3.7/site-packages (from requests->folium==0.10.0+4.ga1e3686) (3.0.4)\n",
      "Building wheels for collected packages: folium\n",
      "  Building wheel for folium (setup.py) ... \u001b[?25ldone\n",
      "\u001b[?25h  Created wheel for folium: filename=folium-0.10.0+4.ga1e3686-py2.py3-none-any.whl size=91404 sha256=6522960e8e0ba6e33be80a4fd90c5997ccc9e13be142145f4ae431833289cf17\n",
      "  Stored in directory: /tmp/pip-ephem-wheel-cache-0_nxen_m/wheels/1e/e1/75/ecbc91fd5dd5d90befb0b533bf7492d38acffa033310731862\n",
      "Successfully built folium\n",
      "Note: you may need to restart the kernel to use updated packages.\n"
     ]
    }
   ],
   "source": [
    "pip install git+https://github.com/python-visualization/folium"
   ]
  },
  {
   "cell_type": "code",
   "execution_count": 99,
   "metadata": {
    "colab": {},
    "colab_type": "code",
    "id": "V0zETUnta3EP"
   },
   "outputs": [],
   "source": [
    "import pandas as pd\n",
    "import math\n",
    "import sys\n",
    "import time\n",
    "import numpy as np\n",
    "from random import shuffle, random, sample, randint, randrange, uniform\n",
    "from copy import deepcopy\n",
    "import matplotlib.pyplot as plt\n",
    "import seaborn as sns\n",
    "import folium\n",
    "from datetime import timedelta\n",
    "import datetime\n",
    "from folium.plugins import TimestampedGeoJson\n",
    "import numpy as np\n",
    "from sklearn.preprocessing import MinMaxScaler,MaxAbsScaler"
   ]
  },
  {
   "cell_type": "code",
   "execution_count": 3,
   "metadata": {
    "colab": {
     "base_uri": "https://localhost:8080/",
     "height": 207
    },
    "colab_type": "code",
    "collapsed": true,
    "id": "8ZGYZQCNa8kk",
    "jupyter": {
     "outputs_hidden": true
    },
    "outputId": "cc4fa2ad-d1e5-496a-b6a0-65f3e91e94c8"
   },
   "outputs": [
    {
     "name": "stdout",
     "output_type": "stream",
     "text": [
      "Go to this URL in a browser: https://accounts.google.com/o/oauth2/auth?client_id=947318989803-6bn6qk8qdgf4n4g3pfee6491hc0brc4i.apps.googleusercontent.com&redirect_uri=urn%3aietf%3awg%3aoauth%3a2.0%3aoob&response_type=code&scope=email%20https%3a%2f%2fwww.googleapis.com%2fauth%2fdocs.test%20https%3a%2f%2fwww.googleapis.com%2fauth%2fdrive%20https%3a%2f%2fwww.googleapis.com%2fauth%2fdrive.photos.readonly%20https%3a%2f%2fwww.googleapis.com%2fauth%2fpeopleapi.readonly\n",
      "\n",
      "Enter your authorization code:\n",
      "··········\n",
      "Mounted at /content/gdrive\n",
      "/content/gdrive/My Drive/Colab Notebooks/Algoritmos Bioinspirados/Proyecto Final\n",
      "Candidatos_supermercados.xlsx  OptimizacionMarket.ipynb\n",
      "earthHTML.html\t\t       proyectoFinal.ipynb\n",
      "mapTimer.html\t\t       proyectoFinal-previousVersion.ipynb\n",
      "monoSolution.html\n"
     ]
    }
   ],
   "source": [
    "from google.colab import drive\n",
    "drive.mount(\"/content/gdrive\")\n",
    "%cd gdrive/My\\ Drive/'Colab Notebooks'/'Algoritmos Bioinspirados'/'Proyecto Final/'\n",
    "!ls"
   ]
  },
  {
   "cell_type": "markdown",
   "metadata": {
    "colab_type": "text",
    "id": "CeT2tUeka3ES"
   },
   "source": [
    "**b) Leyendo la información proporcionada**"
   ]
  },
  {
   "cell_type": "code",
   "execution_count": 194,
   "metadata": {
    "colab": {
     "base_uri": "https://localhost:8080/",
     "height": 204
    },
    "colab_type": "code",
    "id": "eYJUckB_a3ET",
    "outputId": "68e5aef1-2d48-41aa-a155-1fa3e0d7210d"
   },
   "outputs": [
    {
     "data": {
      "text/html": [
       "<div>\n",
       "<style scoped>\n",
       "    .dataframe tbody tr th:only-of-type {\n",
       "        vertical-align: middle;\n",
       "    }\n",
       "\n",
       "    .dataframe tbody tr th {\n",
       "        vertical-align: top;\n",
       "    }\n",
       "\n",
       "    .dataframe thead th {\n",
       "        text-align: right;\n",
       "    }\n",
       "</style>\n",
       "<table border=\"1\" class=\"dataframe\">\n",
       "  <thead>\n",
       "    <tr style=\"text-align: right;\">\n",
       "      <th></th>\n",
       "      <th>ID</th>\n",
       "      <th>Descripcion</th>\n",
       "      <th>Latitud</th>\n",
       "      <th>Longitud</th>\n",
       "      <th>Poblacion500m</th>\n",
       "    </tr>\n",
       "  </thead>\n",
       "  <tbody>\n",
       "    <tr>\n",
       "      <th>0</th>\n",
       "      <td>Punto 1</td>\n",
       "      <td>Esq. Benavides con Nicolas Dueñas</td>\n",
       "      <td>-12.04861</td>\n",
       "      <td>-77.06496</td>\n",
       "      <td>16500</td>\n",
       "    </tr>\n",
       "    <tr>\n",
       "      <th>1</th>\n",
       "      <td>Ponto 2</td>\n",
       "      <td>Sta Bernardita con Republica de Venezuela</td>\n",
       "      <td>-12.05956</td>\n",
       "      <td>-77.07583</td>\n",
       "      <td>18000</td>\n",
       "    </tr>\n",
       "    <tr>\n",
       "      <th>2</th>\n",
       "      <td>Ponto 3</td>\n",
       "      <td>Santa Susana con Santa Gertrudis</td>\n",
       "      <td>-12.06524</td>\n",
       "      <td>-77.07334</td>\n",
       "      <td>17000</td>\n",
       "    </tr>\n",
       "    <tr>\n",
       "      <th>3</th>\n",
       "      <td>Ponto 4</td>\n",
       "      <td>Belizario Sosa Pelaez</td>\n",
       "      <td>-12.05998</td>\n",
       "      <td>-77.06300</td>\n",
       "      <td>15000</td>\n",
       "    </tr>\n",
       "    <tr>\n",
       "      <th>4</th>\n",
       "      <td>Ponto 5</td>\n",
       "      <td>Esq. Aurelio Garcia y Miranono Arredondo</td>\n",
       "      <td>-12.05541</td>\n",
       "      <td>-77.07497</td>\n",
       "      <td>17100</td>\n",
       "    </tr>\n",
       "  </tbody>\n",
       "</table>\n",
       "</div>"
      ],
      "text/plain": [
       "        ID                                Descripcion   Latitud  Longitud  \\\n",
       "0  Punto 1          Esq. Benavides con Nicolas Dueñas -12.04861 -77.06496   \n",
       "1  Ponto 2  Sta Bernardita con Republica de Venezuela -12.05956 -77.07583   \n",
       "2  Ponto 3           Santa Susana con Santa Gertrudis -12.06524 -77.07334   \n",
       "3  Ponto 4                      Belizario Sosa Pelaez -12.05998 -77.06300   \n",
       "4  Ponto 5   Esq. Aurelio Garcia y Miranono Arredondo -12.05541 -77.07497   \n",
       "\n",
       "   Poblacion500m  \n",
       "0          16500  \n",
       "1          18000  \n",
       "2          17000  \n",
       "3          15000  \n",
       "4          17100  "
      ]
     },
     "execution_count": 194,
     "metadata": {},
     "output_type": "execute_result"
    }
   ],
   "source": [
    "dataset=pd.read_excel('../UbicacionSupermercados/Candidatos_supermercados.xlsx')\n",
    "dataset.head()"
   ]
  },
  {
   "cell_type": "markdown",
   "metadata": {
    "colab_type": "text",
    "id": "HTad8roUa3EX"
   },
   "source": [
    "**c) Cálculo de las distancias entre cada punto**"
   ]
  },
  {
   "cell_type": "markdown",
   "metadata": {
    "colab_type": "text",
    "id": "HYcnhcBia3EX"
   },
   "source": [
    "Función para el cálculo de las distancias entre dos puntos teniendo la latitud y longitud de las coordenadas"
   ]
  },
  {
   "cell_type": "code",
   "execution_count": 195,
   "metadata": {
    "colab": {},
    "colab_type": "code",
    "id": "VFSiOvcVa3EY"
   },
   "outputs": [],
   "source": [
    "lista_total_distancias={}\n",
    "radio_tierra=6378 #radio ecuatorial\n",
    "def getDistances(dataset):\n",
    "    \"\"\"Función para el cálculo de las distancias entre todos los puntos teniendo la latitud y longitud de las coordenadas.\n",
    "    \n",
    "    Para el cálculo de las distancias entre los puntos se hace uso de Haversine Formula\n",
    "    Parámetros:\n",
    "                -dataset: Dataset del tipo dataFrame pandas\n",
    "                \n",
    "    Retorna: Un diccionario de la forma {(punto1,punto2):distancia}\n",
    "    \"\"\"\n",
    "    valores=dataset[['Latitud','Longitud']].values\n",
    "    for i in range(len(valores)):\n",
    "        for j in range(i+1,len(valores)):\n",
    "            dif_lat=valores[j][0] - valores[i][0] #Hallamos la diferencia de latitud\n",
    "            dif_lon=valores[j][1] - valores[i][1] #Hallamos la diferencia de longitud\n",
    "            a=pow(math.sin(dif_lat/2),2)+(math.cos(valores[i][0])*(math.cos(valores[j][0])))*pow(math.sin(dif_lon/2),2)\n",
    "            c=2*math.asin(min(1,math.sqrt(a)))\n",
    "            lista_total_distancias[(i,j)]=radio_tierra * c #*1000 #multiplicar por mil para obtener en metros"
   ]
  },
  {
   "cell_type": "code",
   "execution_count": 196,
   "metadata": {
    "colab": {},
    "colab_type": "code",
    "id": "mq4nFODda3Ea"
   },
   "outputs": [],
   "source": [
    "getDistances(dataset)"
   ]
  },
  {
   "cell_type": "code",
   "execution_count": 197,
   "metadata": {
    "colab": {
     "base_uri": "https://localhost:8080/",
     "height": 34
    },
    "colab_type": "code",
    "id": "R1ZmOlFZa3Ed",
    "outputId": "69164d58-3e3a-4ae0-baec-0709c220f2e6"
   },
   "outputs": [
    {
     "data": {
      "text/plain": [
       "92.35295446475958"
      ]
     },
     "execution_count": 197,
     "metadata": {},
     "output_type": "execute_result"
    }
   ],
   "source": [
    "lista_total_distancias[(0,1)]"
   ]
  },
  {
   "cell_type": "markdown",
   "metadata": {},
   "source": [
    "**Escalamiento de los valores(poblacion y distancia) que serán sumados para hallar el fitness**"
   ]
  },
  {
   "cell_type": "markdown",
   "metadata": {},
   "source": [
    "Juntamos todos los datos"
   ]
  },
  {
   "cell_type": "code",
   "execution_count": 198,
   "metadata": {},
   "outputs": [],
   "source": [
    "datos_juntos=list(lista_total_distancias.values())+list(dataset.Poblacion500m.values)\n",
    "datos_juntos=np.array(datos_juntos).reshape(-1,1)"
   ]
  },
  {
   "cell_type": "markdown",
   "metadata": {},
   "source": [
    "Escalamos"
   ]
  },
  {
   "cell_type": "code",
   "execution_count": 199,
   "metadata": {},
   "outputs": [
    {
     "data": {
      "text/plain": [
       "array([[0.00461765],\n",
       "       [0.00579378],\n",
       "       [0.0036666 ],\n",
       "       ...,\n",
       "       [0.9       ],\n",
       "       [0.925     ],\n",
       "       [1.        ]])"
      ]
     },
     "execution_count": 199,
     "metadata": {},
     "output_type": "execute_result"
    }
   ],
   "source": [
    "min_max_scaler=MaxAbsScaler()\n",
    "datos_juntos_escalados=min_max_scaler.fit_transform(datos_juntos)\n",
    "datos_juntos_escalados"
   ]
  },
  {
   "cell_type": "markdown",
   "metadata": {},
   "source": [
    "Separamos distancia de poblacion"
   ]
  },
  {
   "cell_type": "code",
   "execution_count": 200,
   "metadata": {},
   "outputs": [
    {
     "data": {
      "text/plain": [
       "1770"
      ]
     },
     "execution_count": 200,
     "metadata": {},
     "output_type": "execute_result"
    }
   ],
   "source": [
    "datos_distancia_escalada=datos_juntos_escalados[:1770]\n",
    "len(datos_distancia_escalada)"
   ]
  },
  {
   "cell_type": "code",
   "execution_count": 201,
   "metadata": {},
   "outputs": [
    {
     "data": {
      "text/plain": [
       "60"
      ]
     },
     "execution_count": 201,
     "metadata": {},
     "output_type": "execute_result"
    }
   ],
   "source": [
    "datos_poblacion_escalada=datos_juntos_escalados[1770:]\n",
    "len(datos_poblacion_escalada)"
   ]
  },
  {
   "cell_type": "markdown",
   "metadata": {},
   "source": [
    "Almacenamiento de las distancias escaladas"
   ]
  },
  {
   "cell_type": "code",
   "execution_count": 202,
   "metadata": {},
   "outputs": [
    {
     "data": {
      "text/plain": [
       "0.004617647723237979"
      ]
     },
     "execution_count": 202,
     "metadata": {},
     "output_type": "execute_result"
    }
   ],
   "source": [
    "keys_lista=[i for i in lista_total_distancias] #Almacenamos los keys del diccionario de las distancias\n",
    "lista_total_distancias_escalado={keys_lista[i]:datos_distancia_escalada[i][0] for i in range(len(keys_lista))} #Creamos un nuevo dic con las distancias escaladas\n",
    "lista_total_distancias_escalado[(0,1)]"
   ]
  },
  {
   "cell_type": "markdown",
   "metadata": {},
   "source": [
    "Almacenamiento de la poblacion escalada"
   ]
  },
  {
   "cell_type": "code",
   "execution_count": 203,
   "metadata": {},
   "outputs": [
    {
     "data": {
      "text/html": [
       "<div>\n",
       "<style scoped>\n",
       "    .dataframe tbody tr th:only-of-type {\n",
       "        vertical-align: middle;\n",
       "    }\n",
       "\n",
       "    .dataframe tbody tr th {\n",
       "        vertical-align: top;\n",
       "    }\n",
       "\n",
       "    .dataframe thead th {\n",
       "        text-align: right;\n",
       "    }\n",
       "</style>\n",
       "<table border=\"1\" class=\"dataframe\">\n",
       "  <thead>\n",
       "    <tr style=\"text-align: right;\">\n",
       "      <th></th>\n",
       "      <th>ID</th>\n",
       "      <th>Descripcion</th>\n",
       "      <th>Latitud</th>\n",
       "      <th>Longitud</th>\n",
       "      <th>Poblacion500m</th>\n",
       "      <th>poblacion_escalado</th>\n",
       "    </tr>\n",
       "  </thead>\n",
       "  <tbody>\n",
       "    <tr>\n",
       "      <th>0</th>\n",
       "      <td>Punto 1</td>\n",
       "      <td>Esq. Benavides con Nicolas Dueñas</td>\n",
       "      <td>-12.04861</td>\n",
       "      <td>-77.06496</td>\n",
       "      <td>16500</td>\n",
       "      <td>0.825</td>\n",
       "    </tr>\n",
       "    <tr>\n",
       "      <th>1</th>\n",
       "      <td>Ponto 2</td>\n",
       "      <td>Sta Bernardita con Republica de Venezuela</td>\n",
       "      <td>-12.05956</td>\n",
       "      <td>-77.07583</td>\n",
       "      <td>18000</td>\n",
       "      <td>0.900</td>\n",
       "    </tr>\n",
       "    <tr>\n",
       "      <th>2</th>\n",
       "      <td>Ponto 3</td>\n",
       "      <td>Santa Susana con Santa Gertrudis</td>\n",
       "      <td>-12.06524</td>\n",
       "      <td>-77.07334</td>\n",
       "      <td>17000</td>\n",
       "      <td>0.850</td>\n",
       "    </tr>\n",
       "    <tr>\n",
       "      <th>3</th>\n",
       "      <td>Ponto 4</td>\n",
       "      <td>Belizario Sosa Pelaez</td>\n",
       "      <td>-12.05998</td>\n",
       "      <td>-77.06300</td>\n",
       "      <td>15000</td>\n",
       "      <td>0.750</td>\n",
       "    </tr>\n",
       "    <tr>\n",
       "      <th>4</th>\n",
       "      <td>Ponto 5</td>\n",
       "      <td>Esq. Aurelio Garcia y Miranono Arredondo</td>\n",
       "      <td>-12.05541</td>\n",
       "      <td>-77.07497</td>\n",
       "      <td>17100</td>\n",
       "      <td>0.855</td>\n",
       "    </tr>\n",
       "  </tbody>\n",
       "</table>\n",
       "</div>"
      ],
      "text/plain": [
       "        ID                                Descripcion   Latitud  Longitud  \\\n",
       "0  Punto 1          Esq. Benavides con Nicolas Dueñas -12.04861 -77.06496   \n",
       "1  Ponto 2  Sta Bernardita con Republica de Venezuela -12.05956 -77.07583   \n",
       "2  Ponto 3           Santa Susana con Santa Gertrudis -12.06524 -77.07334   \n",
       "3  Ponto 4                      Belizario Sosa Pelaez -12.05998 -77.06300   \n",
       "4  Ponto 5   Esq. Aurelio Garcia y Miranono Arredondo -12.05541 -77.07497   \n",
       "\n",
       "   Poblacion500m  poblacion_escalado  \n",
       "0          16500               0.825  \n",
       "1          18000               0.900  \n",
       "2          17000               0.850  \n",
       "3          15000               0.750  \n",
       "4          17100               0.855  "
      ]
     },
     "execution_count": 203,
     "metadata": {},
     "output_type": "execute_result"
    }
   ],
   "source": [
    "dataset['poblacion_escalado']=datos_poblacion_escalada\n",
    "dataset.head()"
   ]
  },
  {
   "cell_type": "markdown",
   "metadata": {
    "colab_type": "text",
    "id": "uAteAP7ga3Eg"
   },
   "source": [
    "**d) Definición del objeto Market para el problema**"
   ]
  },
  {
   "cell_type": "markdown",
   "metadata": {
    "colab_type": "text",
    "id": "y9FrJfV6a3Ei"
   },
   "source": [
    "Un objeto de la clase Market almacena las instancias del dataframe"
   ]
  },
  {
   "cell_type": "code",
   "execution_count": 204,
   "metadata": {
    "colab": {},
    "colab_type": "code",
    "id": "a52QlQi4a3Ej"
   },
   "outputs": [],
   "source": [
    "class Market(object):\n",
    "    def __init__(self,ID,descr,pob,latitud,longitud):\n",
    "        self.id=ID\n",
    "        self.descr=descr\n",
    "        self.pob=pob\n",
    "        self.lat=latitud\n",
    "        self.lon=longitud"
   ]
  },
  {
   "cell_type": "markdown",
   "metadata": {
    "colab_type": "text",
    "id": "oUTzTpd4a3El"
   },
   "source": [
    "**e) Definición de la estructura de un individuo en el AG con sus operadores genéticos**"
   ]
  },
  {
   "cell_type": "code",
   "execution_count": 205,
   "metadata": {
    "colab": {},
    "colab_type": "code",
    "id": "KDXXyOeza3Em"
   },
   "outputs": [],
   "source": [
    "class Individual:\n",
    "    \"\"\" Implementa el individuo del AG. Un individuo tiene un cromosoma que es una lista de num_markets elementos (genes),\n",
    "       cada gen i puede asumir dos posibles alelos: 0 o 1 (no incluir/incluir en la solución el market i del pool) \"\"\"\n",
    "\n",
    "    def __init__(self, chromosome,maxMark=10):  # el constructor recibe un cromosoma\n",
    "        self.chromosome = chromosome[:]  \n",
    "        self.fitness = -1  # -1 indica que el individuo no ha sido evaluado\n",
    "        self.maxMark=maxMark #Cantidad Máxima de markets que desea obtener en la solución\n",
    "\n",
    "    def crossover_onepoint(self, other):\n",
    "        \"Retorna dos nuevos individuos del cruzamiento de un punto entre individuos self y other \"\n",
    "        c = randrange(len(self.chromosome))\n",
    "        ind1 = Individual(self.chromosome[:c] + other.chromosome[c:],self.maxMark)\n",
    "        ind2 = Individual(other.chromosome[:c] + self.chromosome[c:],self.maxMark)\n",
    "        ind1,ind2=self.__verify([ind1,ind2])\n",
    "        return [ind1, ind2]   \n",
    "    \n",
    "    def crossover_uniform(self, other):\n",
    "        chromosome1 = []\n",
    "        chromosome2 = []\n",
    "        \"Retorna dos nuevos individuos del cruzamiento uniforme entre self y other \"\n",
    "        for i in range(len(self.chromosome)):\n",
    "            if uniform(0, 1) < 0.5:\n",
    "                chromosome1.append(self.chromosome[i])\n",
    "                chromosome2.append(other.chromosome[i])\n",
    "            else:\n",
    "                chromosome1.append(other.chromosome[i])\n",
    "                chromosome2.append(self.chromosome[i])\n",
    "        ind1 = Individual(chromosome1,self.maxMark)\n",
    "        ind2 = Individual(chromosome2,self.maxMark)\n",
    "        ind1,ind2=self.__verify([ind1,ind2])\n",
    "        return [ind1, ind2] \n",
    "    \n",
    "    \n",
    "    def mutation_flip(self):\n",
    "        \"Cambia aleatoriamente el alelo de un gen. Se tiene en consideración la cantidad máxima de markets que debe contar una posible solución.\"\n",
    "        new_chromosome = deepcopy(self.chromosome)\n",
    "        mutGene = randrange(0,len(new_chromosome))   # escoge un gen para mutar\n",
    "        if new_chromosome[mutGene] == 0:\n",
    "            #Cambiaremos un cero a un uno, por lo que habrá un uno mas, por lo que se deberá cambiar otro uno a cero\n",
    "            index_unos=[i for i in range(len(new_chromosome)) if new_chromosome[i] == 1]\n",
    "            index_uno=sample(index_unos,1) #Obtenemos un index de todos los unos para cambiarlo a cero\n",
    "            new_chromosome[mutGene] = 1 #Cambiamos a uno un cero\n",
    "            new_chromosome[index_uno[0]]=0 #Cambiamos a cero un uno\n",
    "        else:\n",
    "            index_ceros=[i for i in range(len(new_chromosome)) if new_chromosome[i] == 0]\n",
    "            index_cero=sample(index_ceros,1) #Obtenemos un index de todos los unos para cambiarlo a cero\n",
    "            new_chromosome[mutGene] = 0 #Compensamos\n",
    "            new_chromosome[index_cero[0]]=1 #Cambiamos a uno un cero\n",
    "            \n",
    "        return Individual(new_chromosome,self.maxMark)\n",
    "        \n",
    "    \n",
    "    def __verify(self,individuos):\n",
    "        \"\"\"Funcion para forzar que existan la cantidad máxima de markets(unos) dentro del cromosoma.\n",
    "        \"\"\"\n",
    "        resultado=[]\n",
    "        for ind in individuos:\n",
    "            cant_unos=ind.chromosome.count(1)\n",
    "            index_unos=[i for i in range(len(ind.chromosome)) if ind.chromosome[i] == 1] #Obtenemos los index de los unos dentro del cromosoma\n",
    "            if cant_unos >self.maxMark: #Verificando si el individuo tiene la cantidad maxima de markets(unos) aceptables \n",
    "                index_unos2chg=sample(index_unos,cant_unos - self.maxMark)# Obtenemos los index que cambiaremos a cero porque se pasó del máximo\n",
    "                for index in index_unos2chg:\n",
    "                    ind.chromosome[index]=0\n",
    "            elif cant_unos < self.maxMark: #Si el individuo tiene menos de la cantidad máxima \n",
    "                index_unos2chg=set(range(len(ind.chromosome))) - set(index_unos) #Quitamos los index en los cuales se encuentran los unos\n",
    "                random_index=sample(index_unos2chg,self.maxMark - cant_unos) #Generamos index aletorios para completar a la cantidad máxima\n",
    "                for index in random_index:\n",
    "                    ind.chromosome[index]=1\n",
    "            resultado.append(ind)\n",
    "        return resultado\n"
   ]
  },
  {
   "cell_type": "markdown",
   "metadata": {
    "colab_type": "text",
    "id": "78ubdtuma3Ep"
   },
   "source": [
    "**f) Función para obtener el fitness del cromosoma**"
   ]
  },
  {
   "cell_type": "markdown",
   "metadata": {
    "colab_type": "text",
    "id": "j8SixwRla3Eq"
   },
   "source": [
    "Haciendo uso del diccionario hallado previamente."
   ]
  },
  {
   "cell_type": "code",
   "execution_count": 206,
   "metadata": {
    "colab": {},
    "colab_type": "code",
    "id": "watZ9cQfa3Eq"
   },
   "outputs": [],
   "source": [
    "def get_fitness_lista(chromosome, markets):\n",
    "    \"\"\"Retorna el fitness del cromosoma pasado. Fitness es el valor total de los markets incluidos en el cromosoma\n",
    "        \"\"\"\n",
    "    fitness=0\n",
    "    markets_elegidos=[]\n",
    "    sum_pob=0\n",
    "    sum_dist=0\n",
    "    for i in range(len(markets)):\n",
    "        if chromosome[i] == 1:  # si el market i esta incluido en el cromosoma, acumula su poblacion y distancia\n",
    "            sum_pob += markets[i].pob\n",
    "            markets_elegidos.append(i)\n",
    "            \n",
    "    for j in markets_elegidos:\n",
    "        for k in markets_elegidos[j+1:]:\n",
    "            sum_dist=sum_dist+lista_total_distancias[(j,k)] # Hacemos uso del diccionario calculado previamente, sin escalamiento\n",
    "            #sum_dist=sum_dist+lista_total_distancias_escalado[(j,k)]#diccionario con las distancias escaladas\n",
    "    \n",
    "    return [sum_pob,sum_dist] #Se enviará de esta manera y se obtendrá las sumas por separado para la experimentación y registro de estos experimentos"
   ]
  },
  {
   "cell_type": "markdown",
   "metadata": {
    "colab_type": "text",
    "id": "rxovJvC_a3Es"
   },
   "source": [
    "Calculando las distancias en cada instante"
   ]
  },
  {
   "cell_type": "code",
   "execution_count": 207,
   "metadata": {
    "colab": {},
    "colab_type": "code",
    "id": "OqUFXlAEa3Et"
   },
   "outputs": [],
   "source": [
    "def get_fitness(chromosome, markets):\n",
    "    \"\"\"Retorna el fitness del cromosoma pasado. Fitness es el valor total de los markets incluidos en el cromosoma\n",
    "        \"\"\"\n",
    "    fitness = 0 # initialize fitness to 0\n",
    "    lista_distancias=[]\n",
    "    sum_pob=0\n",
    "    sum_dist=0\n",
    "    for i in range(len(markets)):\n",
    "        if chromosome[i] == 1:  # si el market i esta incluido en el cromosoma, acumula su poblacion y distancia\n",
    "            sum_pob += markets[i].pob\n",
    "            lista_distancias.append((markets[i].lat,markets[i].lon))\n",
    "            \n",
    "    radio_tierra=6378 #radio ecuatorial\n",
    "    for i in range(len(lista_distancias)):\n",
    "        for j in lista_distancias[i+1:]:\n",
    "            dif_lat=j[0] - lista_distancias[i][0] #Hallamos la diferencia de latitud\n",
    "            dif_lon=j[1] - lista_distancias[i][1] #Hallamos la diferencia de longitud\n",
    "            a=pow(math.sin(dif_lat/2),2)+(math.cos(lista_distancias[i][0])*(math.cos(j[0])))*pow(math.sin(dif_lon/2),2)\n",
    "            c=2*math.asin(min(1,math.sqrt(a)))\n",
    "            sum_dist+=radio_tierra * c \n",
    "    fitness=sum_pob + sum_dist\n",
    "    \n",
    "    return fitness"
   ]
  },
  {
   "cell_type": "markdown",
   "metadata": {
    "colab_type": "text",
    "id": "ME-FTXF2a3Ev"
   },
   "source": [
    "**g) Funcion para evaluar una población de individuos**"
   ]
  },
  {
   "cell_type": "code",
   "execution_count": 208,
   "metadata": {
    "colab": {},
    "colab_type": "code",
    "id": "tP-BMpHCa3Ev"
   },
   "outputs": [],
   "source": [
    "def evaluate_population(population, markets):\n",
    "    \"\"\" Evalua una poblacion de individuos con la funcion get_fitness \"\"\"\n",
    "    pop_size = len(population)\n",
    "    for i in range(pop_size):\n",
    "        if population[i].fitness == -1:    # evalua solo si el individuo no esta evaluado\n",
    "            #Se puede hacer uso de las dos funciones para obtener los fitness\n",
    "            #population[i].fitness = get_fitness(population[i].chromosome, markets)\n",
    "            population[i].fitness = sum(get_fitness_lista(population[i].chromosome, markets))"
   ]
  },
  {
   "cell_type": "markdown",
   "metadata": {
    "colab_type": "text",
    "id": "fySRXQq5a3Ey"
   },
   "source": [
    "**h) Funcion para inicializar aleatoriamente una población de individuos**"
   ]
  },
  {
   "cell_type": "code",
   "execution_count": 209,
   "metadata": {
    "colab": {},
    "colab_type": "code",
    "id": "x32setS5a3Ez"
   },
   "outputs": [],
   "source": [
    "def init_population(pop_size, chromosome_size=60,maxMark=10):\n",
    "    \"\"\"Inicializa una poblacion de pop_size individuos, cada cromosoma de individuo de tamaño chromosome_size.\n",
    "       \"\"\"\n",
    "    population = []\n",
    "    for i in range(pop_size):\n",
    "        index_unos=sample(range(chromosome_size),maxMark)\n",
    "        new_chromosome=[0 if i not in index_unos else 1 for i in range(chromosome_size)]\n",
    "        population.append( Individual(new_chromosome,maxMark))\n",
    "    return population"
   ]
  },
  {
   "cell_type": "markdown",
   "metadata": {
    "colab_type": "text",
    "id": "mcrDShRza3E2"
   },
   "source": [
    "**i) Funciones para escoger individuos aleatoriamente para el cruzamiento**"
   ]
  },
  {
   "cell_type": "markdown",
   "metadata": {
    "colab_type": "text",
    "id": "OkIWEFCfa3E2"
   },
   "source": [
    "Seleccion por ruleta"
   ]
  },
  {
   "cell_type": "code",
   "execution_count": 210,
   "metadata": {
    "colab": {},
    "colab_type": "code",
    "id": "ETbeqKTCa3E3"
   },
   "outputs": [],
   "source": [
    "def select_parents_roulette(population):\n",
    "    pop_size = len(population)\n",
    "    \n",
    "    # Escoje el primer padre\n",
    "    sumfitness = sum([indiv.fitness for indiv in population])  # suma total del fitness de la poblacion\n",
    "    pickfitness = uniform(0, sumfitness)   # escoge un numero aleatorio entre 0 y sumfitness\n",
    "    cumfitness = 0     # fitness acumulado\n",
    "    for i in range(pop_size):\n",
    "        cumfitness += population[i].fitness\n",
    "        if cumfitness > pickfitness: \n",
    "            iParent1 = i\n",
    "            break\n",
    "    \n",
    "    # Escoje el segundo padre, desconsiderando el primer padre\n",
    "    sumfitness = sumfitness - population[iParent1].fitness # retira el fitness del padre ya escogido\n",
    "    pickfitness = uniform(0, sumfitness)   # escoge un numero aleatorio entre 0 y sumfitness\n",
    "    cumfitness = 0     # fitness acumulado\n",
    "    for i in range(pop_size):\n",
    "        if i == iParent1: continue   # si es el primer padre \n",
    "        cumfitness += population[i].fitness\n",
    "        if cumfitness > pickfitness: \n",
    "            iParent2 = i\n",
    "            break        \n",
    "    return (population[iParent1], population[iParent2])"
   ]
  },
  {
   "cell_type": "markdown",
   "metadata": {
    "colab_type": "text",
    "id": "5K286IPra3E5"
   },
   "source": [
    "Seleccion por Stochastic universal sampling"
   ]
  },
  {
   "cell_type": "code",
   "execution_count": 211,
   "metadata": {
    "colab": {},
    "colab_type": "code",
    "id": "6Uufcjaca3E6"
   },
   "outputs": [],
   "source": [
    "def sus(poblacion,num_padres):\n",
    "    poblacion_local=poblacion[:]\n",
    "    padres=[]\n",
    "    fitness_total=sum([chromosome.fitness for chromosome in poblacion_local])\n",
    "    agujas=np.linspace(0,fitness_total,num_padres+1)\n",
    "    r_aleatorios=[int(uniform(agujas[i],agujas[i+1])) for i in range(len(agujas)-1)]\n",
    "    for r in r_aleatorios:\n",
    "        fitness_acumulado=0\n",
    "        for chromosome in poblacion_local:\n",
    "            fitness_acumulado+=chromosome.fitness\n",
    "            if fitness_acumulado >= r:\n",
    "                padres.append(chromosome)\n",
    "                break\n",
    "                \n",
    "    return padres"
   ]
  },
  {
   "cell_type": "markdown",
   "metadata": {
    "colab_type": "text",
    "id": "nwFQ2zoVa3E9"
   },
   "source": [
    "**j) Funcion que selecciona la poblacion de la sgte generacion, dada la poblacion actual y poblacion de hijos**"
   ]
  },
  {
   "cell_type": "code",
   "execution_count": 212,
   "metadata": {
    "colab": {},
    "colab_type": "code",
    "id": "0H0ZYk-5a3E9"
   },
   "outputs": [],
   "source": [
    "def select_survivors(population, offspring_population, numsurvivors):\n",
    "    next_population = []\n",
    "    population.extend(offspring_population) # une las dos poblaciones\n",
    "    isurvivors = sorted(range(len(population)), key=lambda i: population[i].fitness, reverse=True)[:numsurvivors]\n",
    "    for i in range(numsurvivors):\n",
    "        next_population.append(population[isurvivors[i]])\n",
    "    return next_population"
   ]
  },
  {
   "cell_type": "markdown",
   "metadata": {
    "colab_type": "text",
    "id": "9qSb-4UPa3E_"
   },
   "source": [
    "**k) Algoritmo Genetico para encontrar soluciones**"
   ]
  },
  {
   "cell_type": "code",
   "execution_count": 213,
   "metadata": {
    "colab": {},
    "colab_type": "code",
    "id": "dzZgJstDa3FA"
   },
   "outputs": [],
   "source": [
    "def genetic_algorithm(population, markets, ngen=100, pmut=0.1, crossover=\"onepoint\", mutation=\"flip\",select='roulette'):\n",
    "    \"\"\"Algoritmo Genetico para el problema de la mochila\n",
    "        markets:      pool de markets a escoger. Debe ser una lista de objetos de clase Market\n",
    "        ngen:       maximo numero de generaciones \n",
    "        pmut:       tasa de mutacion\n",
    "        crossover:  operador de cruzamiento\n",
    "        mutation:   operador de mutacion\n",
    "    \"\"\"\n",
    "    history_population = []\n",
    "\n",
    "    pop_size = len(population)\n",
    "    evaluate_population(population, markets)  # evalua la poblacion inicial\n",
    "    ibest = sorted(range(len(population)), key=lambda i: population[i].fitness, reverse=True)[:1]  # mejor individuo\n",
    "    bestfitness = [population[ibest[0]].fitness]  # fitness del mejor individuo\n",
    "    print(\"Poblacion inicial, best_fitness = {}\".format(population[ibest[0]].fitness))\n",
    "\n",
    "    for g in range(ngen):   # Por cada generacion\n",
    "\n",
    "        ## Selecciona parejas de individuos (mating_pool) para cruzamiento con el metodo de la ruleta\n",
    "        mating_pool = []\n",
    "        if select == 'roulette':\n",
    "            for i in range(int(pop_size/2)): mating_pool.append(select_parents_roulette(population)) \n",
    "        elif select == 'sus':\n",
    "            for i in range(int(pop_size/2)): mating_pool.append(sus(population,2)) \n",
    "\n",
    "        ## Crea la poblacion descendencia cruzando las parejas del mating pool \n",
    "        offspring_population = []\n",
    "        for i in range(len(mating_pool)): \n",
    "            if crossover == \"onepoint\":\n",
    "                offspring_population.extend( mating_pool[i][0].crossover_onepoint(mating_pool[i][1]) ) # cruzamiento 1 punto\n",
    "            elif crossover == \"uniform\":\n",
    "                offspring_population.extend( mating_pool[i][0].crossover_uniform(mating_pool[i][1]) ) # cruzamiento uniforme\n",
    "            else:\n",
    "                raise NotImplementedError\n",
    "\n",
    "        ## Aplica el operador de mutacion con probabilidad pmut en cada hijo generado\n",
    "        for i in range(len(offspring_population)):\n",
    "            if uniform(0, 1) < pmut: \n",
    "                if mutation == \"flip\":\n",
    "                    offspring_population[i] = offspring_population[i].mutation_flip() # cambia el alelo de un gen\n",
    "                else:\n",
    "                    raise NotImplementedError   \n",
    "\n",
    "        ## Evalua la poblacion descendencia creada\n",
    "        evaluate_population(offspring_population, markets)   # evalua la poblacion descendencia\n",
    "\n",
    "        ## Selecciona pop_size individuos para la sgte. generación de la union de la pob. actual y  pob. descendencia\n",
    "        population = select_survivors(population, offspring_population, pop_size)\n",
    "\n",
    "        ## Almacena la historia del fitness del mejor individuo\n",
    "        ibest = sorted(range(len(population)), key=lambda i: population[i].fitness, reverse=True)[:1]\n",
    "        bestfitness.append(population[ibest[0]].fitness)\n",
    "        history_population.append(population[ibest[0]].chromosome) # Agregando el historial de mejores cromosomas\n",
    "\n",
    "        if (g % 10 == 0):  # muestra resultados cada 10 generaciones\n",
    "            print(\"generacion {}, Mejor fitness = {})\".format(g, population[ibest[0]].fitness))\n",
    "\n",
    "    print(\"Mejor individuo en la ultima generacion = {} (fitness = {})\".format(population[ibest[0]].chromosome, population[ibest[0]].fitness))\n",
    "    return population[ibest[0]], bestfitness, history_population  # devuelve el mejor individuo y la lista de mejores fitness x gen"
   ]
  },
  {
   "cell_type": "markdown",
   "metadata": {
    "colab_type": "text",
    "id": "GMkqclRoa3FF"
   },
   "source": [
    "**l) Creación del marketpool**"
   ]
  },
  {
   "cell_type": "code",
   "execution_count": 214,
   "metadata": {
    "colab": {},
    "colab_type": "code",
    "id": "qYCE58Moa3FH"
   },
   "outputs": [],
   "source": [
    "marketPool=[]\n",
    "for i in range(len(dataset)):\n",
    "    ID=dataset.iloc[i].ID\n",
    "    descp=dataset.iloc[i].Descripcion\n",
    "    lat=dataset.iloc[i].Latitud\n",
    "    lon=dataset.iloc[i].Longitud\n",
    "    pob=dataset.iloc[i].Poblacion500m\n",
    "    #pob=dataset.iloc[i].poblacion_escalado #hace uso de la poblacion escalada\n",
    "    marketPool.append(Market(ID,descp,pob,lat,lon))"
   ]
  },
  {
   "cell_type": "code",
   "execution_count": 215,
   "metadata": {
    "colab": {
     "base_uri": "https://localhost:8080/",
     "height": 34
    },
    "colab_type": "code",
    "id": "OAGnumAsa3FL",
    "outputId": "265c77f7-98fa-49b6-bc2b-ebe95d5aeb59"
   },
   "outputs": [
    {
     "data": {
      "text/plain": [
       "16500"
      ]
     },
     "execution_count": 215,
     "metadata": {},
     "output_type": "execute_result"
    }
   ],
   "source": [
    "marketPool[0].pob"
   ]
  },
  {
   "cell_type": "markdown",
   "metadata": {
    "colab_type": "text",
    "id": "hk6czvala3FN"
   },
   "source": [
    "**m) Ejecución del algoritmo**"
   ]
  },
  {
   "cell_type": "code",
   "execution_count": 216,
   "metadata": {
    "colab": {
     "base_uri": "https://localhost:8080/",
     "height": 1000
    },
    "colab_type": "code",
    "id": "KKsw4Dnza3FO",
    "outputId": "2ef92b74-1692-4aae-8388-0b46f28aa12e"
   },
   "outputs": [
    {
     "name": "stdout",
     "output_type": "stream",
     "text": [
      "Poblacion inicial, best_fitness = 173939.20663166005\n",
      "generacion 0, Mejor fitness = 177116.28695237293)\n",
      "generacion 10, Mejor fitness = 188033.8548399103)\n",
      "generacion 20, Mejor fitness = 192424.0314489985)\n",
      "generacion 30, Mejor fitness = 192582.4096580133)\n",
      "generacion 40, Mejor fitness = 192973.2639947494)\n",
      "generacion 50, Mejor fitness = 193353.41645631232)\n",
      "generacion 60, Mejor fitness = 193353.41645631232)\n",
      "generacion 70, Mejor fitness = 193353.41645631232)\n",
      "generacion 80, Mejor fitness = 193409.90950866626)\n",
      "generacion 90, Mejor fitness = 193409.90950866626)\n",
      "generacion 100, Mejor fitness = 193409.90950866626)\n",
      "generacion 110, Mejor fitness = 193409.90950866626)\n",
      "generacion 120, Mejor fitness = 193409.90950866626)\n",
      "generacion 130, Mejor fitness = 193409.90950866626)\n",
      "generacion 140, Mejor fitness = 193409.90950866626)\n",
      "generacion 150, Mejor fitness = 193409.90950866626)\n",
      "generacion 160, Mejor fitness = 193409.90950866626)\n",
      "generacion 170, Mejor fitness = 193409.90950866626)\n",
      "generacion 180, Mejor fitness = 193409.90950866626)\n",
      "generacion 190, Mejor fitness = 193409.90950866626)\n",
      "generacion 200, Mejor fitness = 193409.90950866626)\n",
      "generacion 210, Mejor fitness = 193409.90950866626)\n",
      "generacion 220, Mejor fitness = 193409.90950866626)\n",
      "generacion 230, Mejor fitness = 193409.90950866626)\n",
      "generacion 240, Mejor fitness = 193409.90950866626)\n",
      "generacion 250, Mejor fitness = 193409.90950866626)\n",
      "generacion 260, Mejor fitness = 193409.90950866626)\n",
      "generacion 270, Mejor fitness = 193409.90950866626)\n",
      "generacion 280, Mejor fitness = 193409.90950866626)\n",
      "generacion 290, Mejor fitness = 193409.90950866626)\n",
      "generacion 300, Mejor fitness = 193409.90950866626)\n",
      "generacion 310, Mejor fitness = 193409.90950866626)\n",
      "generacion 320, Mejor fitness = 193409.90950866626)\n",
      "generacion 330, Mejor fitness = 193409.90950866626)\n",
      "generacion 340, Mejor fitness = 193409.90950866626)\n",
      "generacion 350, Mejor fitness = 193409.90950866626)\n",
      "generacion 360, Mejor fitness = 193409.90950866626)\n",
      "generacion 370, Mejor fitness = 193409.90950866626)\n",
      "generacion 380, Mejor fitness = 193409.90950866626)\n",
      "generacion 390, Mejor fitness = 193409.90950866626)\n",
      "generacion 400, Mejor fitness = 193409.90950866626)\n",
      "generacion 410, Mejor fitness = 193409.90950866626)\n",
      "generacion 420, Mejor fitness = 193409.90950866626)\n",
      "generacion 430, Mejor fitness = 193409.90950866626)\n",
      "generacion 440, Mejor fitness = 193409.90950866626)\n",
      "generacion 450, Mejor fitness = 193409.90950866626)\n",
      "generacion 460, Mejor fitness = 193409.90950866626)\n",
      "generacion 470, Mejor fitness = 193409.90950866626)\n",
      "generacion 480, Mejor fitness = 193409.90950866626)\n",
      "generacion 490, Mejor fitness = 193409.90950866626)\n",
      "Mejor individuo en la ultima generacion = [1, 1, 1, 0, 0, 0, 0, 0, 0, 0, 0, 0, 0, 0, 0, 0, 0, 0, 0, 0, 0, 0, 0, 0, 0, 0, 0, 0, 0, 0, 0, 0, 0, 0, 0, 0, 0, 0, 0, 0, 0, 0, 0, 0, 0, 0, 0, 0, 1, 1, 1, 0, 0, 0, 0, 1, 1, 0, 1, 1] (fitness = 193409.90950866626)\n"
     ]
    },
    {
     "data": {
      "image/png": "[encoded data removed]",
      "text/plain": [
       "<Figure size 432x288 with 1 Axes>"
      ]
     },
     "metadata": {
      "needs_background": "light"
     },
     "output_type": "display_data"
    }
   ],
   "source": [
    "## Hiperparametros del algoritmo genetico\n",
    "POP_SIZE = 100       # numero de individuos\n",
    "GENERATIONS = 500   # numero de generaciones\n",
    "PMUT = 1       # tasa de mutacion\n",
    "\n",
    "## Inicializa una poblacion inicial de forma aleatoria\n",
    "population = init_population(POP_SIZE,maxMark=10)\n",
    "\n",
    "# Evolue la poblacion con el algoritmo genetico (cruzamiento 'onepoint', )\n",
    "best_ind, bestfitness, history_population = genetic_algorithm(population, marketPool, GENERATIONS, PMUT, crossover=\"uniform\", mutation=\"flip\",select='roulette')\n",
    "\n",
    "# muestra la evolucion del mejor fitness\n",
    "plt.plot(bestfitness)\n",
    "plt.show()"
   ]
  },
  {
   "cell_type": "markdown",
   "metadata": {
    "colab_type": "text",
    "id": "11axIFh-go31"
   },
   "source": [
    "Solución de manera gráfica"
   ]
  },
  {
   "cell_type": "code",
   "execution_count": 217,
   "metadata": {},
   "outputs": [
    {
     "data": {
      "text/html": [
       "<div style=\"width:100%;\"><div style=\"position:relative;width:100%;height:0;padding-bottom:60%;\"><iframe src=\"data:text/html;charset=utf-8;base64,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\" style=\"position:absolute;width:100%;height:100%;left:0;top:0;border:none !important;\" allowfullscreen webkitallowfullscreen mozallowfullscreen></iframe></div></div>"
      ],
      "text/plain": [
       "<folium.folium.Map at 0x7f4610e186d0>"
      ]
     },
     "execution_count": 217,
     "metadata": {},
     "output_type": "execute_result"
    }
   ],
   "source": [
    "m = folium.Map(\n",
    "    location=[-12.0431805, -77.0282364], zoom_start=13, zoomControl= True, min_zoom=13, max_zoom=13)\n",
    "\n",
    "[(folium.Marker([marketPool[i].lat, marketPool[i].lon], icon=folium.Icon(color='blue')).add_to(m)) for i in range(len(best_ind.chromosome)) if best_ind.chromosome[i]==1]\n",
    "[(folium.Marker([marketPool[i].lat, marketPool[i].lon], icon=folium.Icon(color='red')).add_to(m)) for i in range(len(best_ind.chromosome)) if best_ind.chromosome[i]==0]\n",
    "points = [(marketPool[i].lat, marketPool[i].lon) for i in range(len(best_ind.chromosome)) if best_ind.chromosome[i]==1]\n",
    "points.append(points[0])\n",
    "folium.PolyLine(points, color=\"red\", weight=2.5, opacity=1).add_to(m)\n",
    "\n",
    "m"
   ]
  },
  {
   "cell_type": "code",
   "execution_count": 23,
   "metadata": {
    "colab": {},
    "colab_type": "code",
    "id": "v5n0wOEHhiG5"
   },
   "outputs": [],
   "source": [
    "today = datetime.datetime.now()\n",
    "\n",
    "def create_geojson_features(df):\n",
    "    print('> Creating GeoJSON features...')\n",
    "    history = []\n",
    "    for index, row in enumerate(df):\n",
    "      itemHistory = []\n",
    "      for chromo in range(len(best_ind.chromosome)):\n",
    "        feature = {\n",
    "            'type': 'Feature',\n",
    "            'geometry': {\n",
    "                'type':'Point', \n",
    "                'coordinates':[marketPool[chromo].lon, marketPool[chromo].lat]\n",
    "            },\n",
    "            'properties': {\n",
    "                'time': (today + timedelta(days=index)).__str__(),\n",
    "                'style': {'color' : 'blue' if row[chromo] == 1 else 'red' },\n",
    "                'icon': 'circle',\n",
    "                'iconstyle':{\n",
    "                    'fillColor': {'color' : 'blue' if row[chromo] == 1 else 'red' },\n",
    "                    'fillOpacity': 0.8,\n",
    "                    'stroke': 'true',\n",
    "                    'radius': 7\n",
    "                }\n",
    "            }\n",
    "        }\n",
    "        itemHistory.append(feature)\n",
    "      history.append(itemHistory)\n",
    "    return history"
   ]
  },
  {
   "cell_type": "code",
   "execution_count": 24,
   "metadata": {
    "colab": {},
    "colab_type": "code",
    "id": "WrNyQHUkh0qi"
   },
   "outputs": [],
   "source": [
    "def make_map(features):\n",
    "    print('> Making map...')\n",
    "    coords_lima=[-12.0431805, -77.0282364]\n",
    "    mapLima = folium.Map(location=coords_lima, zoom_start=13, zoomControl= False, min_zoom=13, max_zoom=13, control_scale=True)\n",
    "\n",
    "    TimestampedGeoJson(\n",
    "        {'type': 'FeatureCollection',\n",
    "        'features': np.array(features).flatten().tolist()}\n",
    "        , add_last_point=True\n",
    "        , auto_play=False\n",
    "        , loop=False\n",
    "        , max_speed=1\n",
    "        , loop_button=True\n",
    "        , date_options='DD'\n",
    "        , time_slider_drag_update=True\n",
    "    ).add_to(mapLima)\n",
    "    \n",
    "    print('> Done.')\n",
    "    return mapLima\n",
    "def plot_solution_map(df):\n",
    "    features = create_geojson_features(df)\n",
    "    return make_map(features)"
   ]
  },
  {
   "cell_type": "markdown",
   "metadata": {
    "colab_type": "text",
    "id": "K_6NeU90wjgK"
   },
   "source": [
    "Para revisar la solución de manera mas dinánica se puede ir al archivo **html** generado con nombre **monoSolution.html**"
   ]
  },
  {
   "cell_type": "code",
   "execution_count": 25,
   "metadata": {
    "colab": {
     "base_uri": "https://localhost:8080/",
     "height": 68
    },
    "colab_type": "code",
    "id": "J1qerf2biPRy",
    "outputId": "00376e29-78ff-43b6-9a62-8e181e3a76ce"
   },
   "outputs": [
    {
     "name": "stdout",
     "output_type": "stream",
     "text": [
      "> Creating GeoJSON features...\n",
      "> Making map...\n",
      "> Done.\n"
     ]
    }
   ],
   "source": [
    "solutionOverTime = plot_solution_map(history_population)\n",
    "solutionOverTime.save('monoSolution.html')"
   ]
  },
  {
   "cell_type": "markdown",
   "metadata": {
    "colab_type": "text",
    "id": "49xmrW2aa3FS"
   },
   "source": [
    "**n) Experimentación con el algoritmo**"
   ]
  },
  {
   "cell_type": "markdown",
   "metadata": {
    "colab_type": "text",
    "id": "J-aTlO_ya3FT"
   },
   "source": [
    "Experimente varias veces el\n",
    "algoritmo implementado con una población de 100 individuos y 500 generaciones (se\n",
    "sugiere ejecutar 10 veces) y registre en una tabla los mejores individuos de cada ejecución,\n",
    "sus fitness y los componentes del fitness desagregados (suma de distancias y suma de\n",
    "población)."
   ]
  },
  {
   "cell_type": "code",
   "execution_count": 26,
   "metadata": {
    "colab": {
     "base_uri": "https://localhost:8080/",
     "height": 1000
    },
    "colab_type": "code",
    "id": "oS-Vo6baa3FV",
    "outputId": "fe0eeaa1-281c-4582-b596-e59818618322"
   },
   "outputs": [
    {
     "name": "stdout",
     "output_type": "stream",
     "text": [
      "Poblacion inicial, best_fitness = 177128.10355462044\n",
      "generacion 0, Mejor fitness = 177128.10355462044)\n",
      "generacion 10, Mejor fitness = 191705.26685887994)\n",
      "generacion 20, Mejor fitness = 193248.67046399458)\n",
      "generacion 30, Mejor fitness = 193409.90950866626)\n",
      "generacion 40, Mejor fitness = 193409.90950866626)\n",
      "generacion 50, Mejor fitness = 193409.90950866626)\n",
      "generacion 60, Mejor fitness = 193409.90950866626)\n",
      "generacion 70, Mejor fitness = 193409.90950866626)\n",
      "generacion 80, Mejor fitness = 193409.90950866626)\n",
      "generacion 90, Mejor fitness = 193409.90950866626)\n",
      "generacion 100, Mejor fitness = 193409.90950866626)\n",
      "generacion 110, Mejor fitness = 193409.90950866626)\n",
      "generacion 120, Mejor fitness = 193409.90950866626)\n",
      "generacion 130, Mejor fitness = 193409.90950866626)\n",
      "generacion 140, Mejor fitness = 193409.90950866626)\n",
      "generacion 150, Mejor fitness = 193409.90950866626)\n",
      "generacion 160, Mejor fitness = 193409.90950866626)\n",
      "generacion 170, Mejor fitness = 193409.90950866626)\n",
      "generacion 180, Mejor fitness = 193409.90950866626)\n",
      "generacion 190, Mejor fitness = 193409.90950866626)\n",
      "generacion 200, Mejor fitness = 193409.90950866626)\n",
      "generacion 210, Mejor fitness = 193409.90950866626)\n",
      "generacion 220, Mejor fitness = 193409.90950866626)\n",
      "generacion 230, Mejor fitness = 193409.90950866626)\n",
      "generacion 240, Mejor fitness = 193409.90950866626)\n",
      "generacion 250, Mejor fitness = 193409.90950866626)\n",
      "generacion 260, Mejor fitness = 193409.90950866626)\n",
      "generacion 270, Mejor fitness = 193409.90950866626)\n",
      "generacion 280, Mejor fitness = 193409.90950866626)\n",
      "generacion 290, Mejor fitness = 193409.90950866626)\n",
      "generacion 300, Mejor fitness = 193409.90950866626)\n",
      "generacion 310, Mejor fitness = 193409.90950866626)\n",
      "generacion 320, Mejor fitness = 193409.90950866626)\n",
      "generacion 330, Mejor fitness = 193409.90950866626)\n",
      "generacion 340, Mejor fitness = 193409.90950866626)\n",
      "generacion 350, Mejor fitness = 193409.90950866626)\n",
      "generacion 360, Mejor fitness = 193409.90950866626)\n",
      "generacion 370, Mejor fitness = 193409.90950866626)\n",
      "generacion 380, Mejor fitness = 193409.90950866626)\n",
      "generacion 390, Mejor fitness = 193409.90950866626)\n",
      "generacion 400, Mejor fitness = 193409.90950866626)\n",
      "generacion 410, Mejor fitness = 193409.90950866626)\n",
      "generacion 420, Mejor fitness = 193409.90950866626)\n",
      "generacion 430, Mejor fitness = 193409.90950866626)\n",
      "generacion 440, Mejor fitness = 193409.90950866626)\n",
      "generacion 450, Mejor fitness = 193409.90950866626)\n",
      "generacion 460, Mejor fitness = 193409.90950866626)\n",
      "generacion 470, Mejor fitness = 193409.90950866626)\n",
      "generacion 480, Mejor fitness = 193409.90950866626)\n",
      "generacion 490, Mejor fitness = 193409.90950866626)\n",
      "Mejor individuo en la ultima generacion = [1, 1, 1, 0, 0, 0, 0, 0, 0, 0, 0, 0, 0, 0, 0, 0, 0, 0, 0, 0, 0, 0, 0, 0, 0, 0, 0, 0, 0, 0, 0, 0, 0, 0, 0, 0, 0, 0, 0, 0, 0, 0, 0, 0, 0, 0, 0, 0, 1, 1, 1, 0, 0, 0, 0, 1, 1, 0, 1, 1] (fitness = 193409.90950866626)\n",
      "Poblacion inicial, best_fitness = 171847.25601140168\n",
      "generacion 0, Mejor fitness = 177063.33976585336)\n",
      "generacion 10, Mejor fitness = 191595.27545077886)\n",
      "generacion 20, Mejor fitness = 193248.67046399458)\n",
      "generacion 30, Mejor fitness = 193409.90950866626)\n",
      "generacion 40, Mejor fitness = 193409.90950866626)\n",
      "generacion 50, Mejor fitness = 193409.90950866626)\n",
      "generacion 60, Mejor fitness = 193409.90950866626)\n",
      "generacion 70, Mejor fitness = 193409.90950866626)\n",
      "generacion 80, Mejor fitness = 193409.90950866626)\n",
      "generacion 90, Mejor fitness = 193409.90950866626)\n",
      "generacion 100, Mejor fitness = 193409.90950866626)\n",
      "generacion 110, Mejor fitness = 193409.90950866626)\n",
      "generacion 120, Mejor fitness = 193409.90950866626)\n",
      "generacion 130, Mejor fitness = 193409.90950866626)\n",
      "generacion 140, Mejor fitness = 193409.90950866626)\n",
      "generacion 150, Mejor fitness = 193409.90950866626)\n",
      "generacion 160, Mejor fitness = 193409.90950866626)\n",
      "generacion 170, Mejor fitness = 193409.90950866626)\n",
      "generacion 180, Mejor fitness = 193409.90950866626)\n",
      "generacion 190, Mejor fitness = 193409.90950866626)\n",
      "generacion 200, Mejor fitness = 193409.90950866626)\n",
      "generacion 210, Mejor fitness = 193409.90950866626)\n",
      "generacion 220, Mejor fitness = 193409.90950866626)\n",
      "generacion 230, Mejor fitness = 193409.90950866626)\n",
      "generacion 240, Mejor fitness = 193409.90950866626)\n",
      "generacion 250, Mejor fitness = 193409.90950866626)\n",
      "generacion 260, Mejor fitness = 193409.90950866626)\n",
      "generacion 270, Mejor fitness = 193409.90950866626)\n",
      "generacion 280, Mejor fitness = 193409.90950866626)\n",
      "generacion 290, Mejor fitness = 193409.90950866626)\n",
      "generacion 300, Mejor fitness = 193409.90950866626)\n",
      "generacion 310, Mejor fitness = 193409.90950866626)\n",
      "generacion 320, Mejor fitness = 193409.90950866626)\n",
      "generacion 330, Mejor fitness = 193409.90950866626)\n",
      "generacion 340, Mejor fitness = 193409.90950866626)\n",
      "generacion 350, Mejor fitness = 193409.90950866626)\n",
      "generacion 360, Mejor fitness = 193409.90950866626)\n",
      "generacion 370, Mejor fitness = 193409.90950866626)\n",
      "generacion 380, Mejor fitness = 193409.90950866626)\n",
      "generacion 390, Mejor fitness = 193409.90950866626)\n",
      "generacion 400, Mejor fitness = 193409.90950866626)\n",
      "generacion 410, Mejor fitness = 193409.90950866626)\n",
      "generacion 420, Mejor fitness = 193409.90950866626)\n",
      "generacion 430, Mejor fitness = 193409.90950866626)\n",
      "generacion 440, Mejor fitness = 193409.90950866626)\n",
      "generacion 450, Mejor fitness = 193409.90950866626)\n",
      "generacion 460, Mejor fitness = 193409.90950866626)\n",
      "generacion 470, Mejor fitness = 193409.90950866626)\n",
      "generacion 480, Mejor fitness = 193409.90950866626)\n",
      "generacion 490, Mejor fitness = 193409.90950866626)\n",
      "Mejor individuo en la ultima generacion = [1, 1, 1, 0, 0, 0, 0, 0, 0, 0, 0, 0, 0, 0, 0, 0, 0, 0, 0, 0, 0, 0, 0, 0, 0, 0, 0, 0, 0, 0, 0, 0, 0, 0, 0, 0, 0, 0, 0, 0, 0, 0, 0, 0, 0, 0, 0, 0, 1, 1, 1, 0, 0, 0, 0, 1, 1, 0, 1, 1] (fitness = 193409.90950866626)\n",
      "Poblacion inicial, best_fitness = 176705.01160382747\n",
      "generacion 0, Mejor fitness = 176705.01160382747)\n",
      "generacion 10, Mejor fitness = 188759.41948273245)\n",
      "generacion 20, Mejor fitness = 193409.90950866626)\n",
      "generacion 30, Mejor fitness = 193409.90950866626)\n",
      "generacion 40, Mejor fitness = 193409.90950866626)\n",
      "generacion 50, Mejor fitness = 193409.90950866626)\n",
      "generacion 60, Mejor fitness = 193409.90950866626)\n",
      "generacion 70, Mejor fitness = 193409.90950866626)\n",
      "generacion 80, Mejor fitness = 193409.90950866626)\n",
      "generacion 90, Mejor fitness = 193409.90950866626)\n",
      "generacion 100, Mejor fitness = 193409.90950866626)\n",
      "generacion 110, Mejor fitness = 193409.90950866626)\n",
      "generacion 120, Mejor fitness = 193409.90950866626)\n",
      "generacion 130, Mejor fitness = 193409.90950866626)\n",
      "generacion 140, Mejor fitness = 193409.90950866626)\n",
      "generacion 150, Mejor fitness = 193409.90950866626)\n",
      "generacion 160, Mejor fitness = 193409.90950866626)\n",
      "generacion 170, Mejor fitness = 193409.90950866626)\n",
      "generacion 180, Mejor fitness = 193409.90950866626)\n",
      "generacion 190, Mejor fitness = 193409.90950866626)\n",
      "generacion 200, Mejor fitness = 193409.90950866626)\n",
      "generacion 210, Mejor fitness = 193409.90950866626)\n",
      "generacion 220, Mejor fitness = 193409.90950866626)\n",
      "generacion 230, Mejor fitness = 193409.90950866626)\n",
      "generacion 240, Mejor fitness = 193409.90950866626)\n",
      "generacion 250, Mejor fitness = 193409.90950866626)\n",
      "generacion 260, Mejor fitness = 193409.90950866626)\n",
      "generacion 270, Mejor fitness = 193409.90950866626)\n",
      "generacion 280, Mejor fitness = 193409.90950866626)\n",
      "generacion 290, Mejor fitness = 193409.90950866626)\n",
      "generacion 300, Mejor fitness = 193409.90950866626)\n",
      "generacion 310, Mejor fitness = 193409.90950866626)\n",
      "generacion 320, Mejor fitness = 193409.90950866626)\n",
      "generacion 330, Mejor fitness = 193409.90950866626)\n",
      "generacion 340, Mejor fitness = 193409.90950866626)\n",
      "generacion 350, Mejor fitness = 193409.90950866626)\n",
      "generacion 360, Mejor fitness = 193409.90950866626)\n",
      "generacion 370, Mejor fitness = 193409.90950866626)\n",
      "generacion 380, Mejor fitness = 193409.90950866626)\n",
      "generacion 390, Mejor fitness = 193409.90950866626)\n",
      "generacion 400, Mejor fitness = 193409.90950866626)\n",
      "generacion 410, Mejor fitness = 193409.90950866626)\n",
      "generacion 420, Mejor fitness = 193409.90950866626)\n",
      "generacion 430, Mejor fitness = 193409.90950866626)\n",
      "generacion 440, Mejor fitness = 193409.90950866626)\n",
      "generacion 450, Mejor fitness = 193409.90950866626)\n",
      "generacion 460, Mejor fitness = 193409.90950866626)\n",
      "generacion 470, Mejor fitness = 193409.90950866626)\n",
      "generacion 480, Mejor fitness = 193409.90950866626)\n",
      "generacion 490, Mejor fitness = 193409.90950866626)\n",
      "Mejor individuo en la ultima generacion = [1, 1, 1, 0, 0, 0, 0, 0, 0, 0, 0, 0, 0, 0, 0, 0, 0, 0, 0, 0, 0, 0, 0, 0, 0, 0, 0, 0, 0, 0, 0, 0, 0, 0, 0, 0, 0, 0, 0, 0, 0, 0, 0, 0, 0, 0, 0, 0, 1, 1, 1, 0, 0, 0, 0, 1, 1, 0, 1, 1] (fitness = 193409.90950866626)\n",
      "Poblacion inicial, best_fitness = 180078.35309089423\n",
      "generacion 0, Mejor fitness = 180078.35309089423)\n",
      "generacion 10, Mejor fitness = 190101.61683918428)\n",
      "generacion 20, Mejor fitness = 193353.41645631232)\n",
      "generacion 30, Mejor fitness = 193409.90950866626)\n",
      "generacion 40, Mejor fitness = 193409.90950866626)\n",
      "generacion 50, Mejor fitness = 193409.90950866626)\n",
      "generacion 60, Mejor fitness = 193409.90950866626)\n",
      "generacion 70, Mejor fitness = 193409.90950866626)\n",
      "generacion 80, Mejor fitness = 193409.90950866626)\n",
      "generacion 90, Mejor fitness = 193409.90950866626)\n",
      "generacion 100, Mejor fitness = 193409.90950866626)\n",
      "generacion 110, Mejor fitness = 193409.90950866626)\n",
      "generacion 120, Mejor fitness = 193409.90950866626)\n",
      "generacion 130, Mejor fitness = 193409.90950866626)\n",
      "generacion 140, Mejor fitness = 193409.90950866626)\n",
      "generacion 150, Mejor fitness = 193409.90950866626)\n",
      "generacion 160, Mejor fitness = 193409.90950866626)\n",
      "generacion 170, Mejor fitness = 193409.90950866626)\n",
      "generacion 180, Mejor fitness = 193409.90950866626)\n",
      "generacion 190, Mejor fitness = 193409.90950866626)\n",
      "generacion 200, Mejor fitness = 193409.90950866626)\n",
      "generacion 210, Mejor fitness = 193409.90950866626)\n",
      "generacion 220, Mejor fitness = 193409.90950866626)\n",
      "generacion 230, Mejor fitness = 193409.90950866626)\n",
      "generacion 240, Mejor fitness = 193409.90950866626)\n",
      "generacion 250, Mejor fitness = 193409.90950866626)\n",
      "generacion 260, Mejor fitness = 193409.90950866626)\n",
      "generacion 270, Mejor fitness = 193409.90950866626)\n",
      "generacion 280, Mejor fitness = 193409.90950866626)\n",
      "generacion 290, Mejor fitness = 193409.90950866626)\n",
      "generacion 300, Mejor fitness = 193409.90950866626)\n",
      "generacion 310, Mejor fitness = 193409.90950866626)\n",
      "generacion 320, Mejor fitness = 193409.90950866626)\n",
      "generacion 330, Mejor fitness = 193409.90950866626)\n",
      "generacion 340, Mejor fitness = 193409.90950866626)\n",
      "generacion 350, Mejor fitness = 193409.90950866626)\n",
      "generacion 360, Mejor fitness = 193409.90950866626)\n",
      "generacion 370, Mejor fitness = 193409.90950866626)\n",
      "generacion 380, Mejor fitness = 193409.90950866626)\n",
      "generacion 390, Mejor fitness = 193409.90950866626)\n",
      "generacion 400, Mejor fitness = 193409.90950866626)\n",
      "generacion 410, Mejor fitness = 193409.90950866626)\n",
      "generacion 420, Mejor fitness = 193409.90950866626)\n",
      "generacion 430, Mejor fitness = 193409.90950866626)\n",
      "generacion 440, Mejor fitness = 193409.90950866626)\n",
      "generacion 450, Mejor fitness = 193409.90950866626)\n",
      "generacion 460, Mejor fitness = 193409.90950866626)\n",
      "generacion 470, Mejor fitness = 193409.90950866626)\n",
      "generacion 480, Mejor fitness = 193409.90950866626)\n",
      "generacion 490, Mejor fitness = 193409.90950866626)\n",
      "Mejor individuo en la ultima generacion = [1, 1, 1, 0, 0, 0, 0, 0, 0, 0, 0, 0, 0, 0, 0, 0, 0, 0, 0, 0, 0, 0, 0, 0, 0, 0, 0, 0, 0, 0, 0, 0, 0, 0, 0, 0, 0, 0, 0, 0, 0, 0, 0, 0, 0, 0, 0, 0, 1, 1, 1, 0, 0, 0, 0, 1, 1, 0, 1, 1] (fitness = 193409.90950866626)\n",
      "Poblacion inicial, best_fitness = 173587.82585691925\n",
      "generacion 0, Mejor fitness = 176064.94231646878)\n",
      "generacion 10, Mejor fitness = 190161.3656852171)\n",
      "generacion 20, Mejor fitness = 193202.93798991878)\n",
      "generacion 30, Mejor fitness = 193409.90950866626)\n",
      "generacion 40, Mejor fitness = 193409.90950866626)\n",
      "generacion 50, Mejor fitness = 193409.90950866626)\n",
      "generacion 60, Mejor fitness = 193409.90950866626)\n",
      "generacion 70, Mejor fitness = 193409.90950866626)\n",
      "generacion 80, Mejor fitness = 193409.90950866626)\n",
      "generacion 90, Mejor fitness = 193409.90950866626)\n",
      "generacion 100, Mejor fitness = 193409.90950866626)\n",
      "generacion 110, Mejor fitness = 193409.90950866626)\n",
      "generacion 120, Mejor fitness = 193409.90950866626)\n",
      "generacion 130, Mejor fitness = 193409.90950866626)\n",
      "generacion 140, Mejor fitness = 193409.90950866626)\n",
      "generacion 150, Mejor fitness = 193409.90950866626)\n",
      "generacion 160, Mejor fitness = 193409.90950866626)\n",
      "generacion 170, Mejor fitness = 193409.90950866626)\n",
      "generacion 180, Mejor fitness = 193409.90950866626)\n",
      "generacion 190, Mejor fitness = 193409.90950866626)\n",
      "generacion 200, Mejor fitness = 193409.90950866626)\n",
      "generacion 210, Mejor fitness = 193409.90950866626)\n",
      "generacion 220, Mejor fitness = 193409.90950866626)\n",
      "generacion 230, Mejor fitness = 193409.90950866626)\n",
      "generacion 240, Mejor fitness = 193409.90950866626)\n",
      "generacion 250, Mejor fitness = 193409.90950866626)\n",
      "generacion 260, Mejor fitness = 193409.90950866626)\n",
      "generacion 270, Mejor fitness = 193409.90950866626)\n",
      "generacion 280, Mejor fitness = 193409.90950866626)\n",
      "generacion 290, Mejor fitness = 193409.90950866626)\n",
      "generacion 300, Mejor fitness = 193409.90950866626)\n",
      "generacion 310, Mejor fitness = 193409.90950866626)\n",
      "generacion 320, Mejor fitness = 193409.90950866626)\n",
      "generacion 330, Mejor fitness = 193409.90950866626)\n",
      "generacion 340, Mejor fitness = 193409.90950866626)\n",
      "generacion 350, Mejor fitness = 193409.90950866626)\n",
      "generacion 360, Mejor fitness = 193409.90950866626)\n",
      "generacion 370, Mejor fitness = 193409.90950866626)\n",
      "generacion 380, Mejor fitness = 193409.90950866626)\n",
      "generacion 390, Mejor fitness = 193409.90950866626)\n",
      "generacion 400, Mejor fitness = 193409.90950866626)\n",
      "generacion 410, Mejor fitness = 193409.90950866626)\n",
      "generacion 420, Mejor fitness = 193409.90950866626)\n",
      "generacion 430, Mejor fitness = 193409.90950866626)\n",
      "generacion 440, Mejor fitness = 193409.90950866626)\n",
      "generacion 450, Mejor fitness = 193409.90950866626)\n",
      "generacion 460, Mejor fitness = 193409.90950866626)\n",
      "generacion 470, Mejor fitness = 193409.90950866626)\n",
      "generacion 480, Mejor fitness = 193409.90950866626)\n",
      "generacion 490, Mejor fitness = 193409.90950866626)\n",
      "Mejor individuo en la ultima generacion = [1, 1, 1, 0, 0, 0, 0, 0, 0, 0, 0, 0, 0, 0, 0, 0, 0, 0, 0, 0, 0, 0, 0, 0, 0, 0, 0, 0, 0, 0, 0, 0, 0, 0, 0, 0, 0, 0, 0, 0, 0, 0, 0, 0, 0, 0, 0, 0, 1, 1, 1, 0, 0, 0, 0, 1, 1, 0, 1, 1] (fitness = 193409.90950866626)\n",
      "Poblacion inicial, best_fitness = 181471.8188324556\n",
      "generacion 0, Mejor fitness = 181471.8188324556)\n",
      "generacion 10, Mejor fitness = 191896.93411056127)\n",
      "generacion 20, Mejor fitness = 193116.66549904036)\n",
      "generacion 30, Mejor fitness = 193409.90950866626)\n",
      "generacion 40, Mejor fitness = 193409.90950866626)\n",
      "generacion 50, Mejor fitness = 193409.90950866626)\n",
      "generacion 60, Mejor fitness = 193409.90950866626)\n",
      "generacion 70, Mejor fitness = 193409.90950866626)\n",
      "generacion 80, Mejor fitness = 193409.90950866626)\n",
      "generacion 90, Mejor fitness = 193409.90950866626)\n",
      "generacion 100, Mejor fitness = 193409.90950866626)\n",
      "generacion 110, Mejor fitness = 193409.90950866626)\n",
      "generacion 120, Mejor fitness = 193409.90950866626)\n",
      "generacion 130, Mejor fitness = 193409.90950866626)\n",
      "generacion 140, Mejor fitness = 193409.90950866626)\n",
      "generacion 150, Mejor fitness = 193409.90950866626)\n",
      "generacion 160, Mejor fitness = 193409.90950866626)\n",
      "generacion 170, Mejor fitness = 193409.90950866626)\n",
      "generacion 180, Mejor fitness = 193409.90950866626)\n",
      "generacion 190, Mejor fitness = 193409.90950866626)\n",
      "generacion 200, Mejor fitness = 193409.90950866626)\n",
      "generacion 210, Mejor fitness = 193409.90950866626)\n",
      "generacion 220, Mejor fitness = 193409.90950866626)\n",
      "generacion 230, Mejor fitness = 193409.90950866626)\n",
      "generacion 240, Mejor fitness = 193409.90950866626)\n",
      "generacion 250, Mejor fitness = 193409.90950866626)\n",
      "generacion 260, Mejor fitness = 193409.90950866626)\n",
      "generacion 270, Mejor fitness = 193409.90950866626)\n",
      "generacion 280, Mejor fitness = 193409.90950866626)\n",
      "generacion 290, Mejor fitness = 193409.90950866626)\n",
      "generacion 300, Mejor fitness = 193409.90950866626)\n",
      "generacion 310, Mejor fitness = 193409.90950866626)\n",
      "generacion 320, Mejor fitness = 193409.90950866626)\n",
      "generacion 330, Mejor fitness = 193409.90950866626)\n",
      "generacion 340, Mejor fitness = 193409.90950866626)\n",
      "generacion 350, Mejor fitness = 193409.90950866626)\n",
      "generacion 360, Mejor fitness = 193409.90950866626)\n",
      "generacion 370, Mejor fitness = 193409.90950866626)\n",
      "generacion 380, Mejor fitness = 193409.90950866626)\n",
      "generacion 390, Mejor fitness = 193409.90950866626)\n",
      "generacion 400, Mejor fitness = 193409.90950866626)\n",
      "generacion 410, Mejor fitness = 193409.90950866626)\n",
      "generacion 420, Mejor fitness = 193409.90950866626)\n",
      "generacion 430, Mejor fitness = 193409.90950866626)\n",
      "generacion 440, Mejor fitness = 193409.90950866626)\n",
      "generacion 450, Mejor fitness = 193409.90950866626)\n",
      "generacion 460, Mejor fitness = 193409.90950866626)\n",
      "generacion 470, Mejor fitness = 193409.90950866626)\n",
      "generacion 480, Mejor fitness = 193409.90950866626)\n",
      "generacion 490, Mejor fitness = 193409.90950866626)\n",
      "Mejor individuo en la ultima generacion = [1, 1, 1, 0, 0, 0, 0, 0, 0, 0, 0, 0, 0, 0, 0, 0, 0, 0, 0, 0, 0, 0, 0, 0, 0, 0, 0, 0, 0, 0, 0, 0, 0, 0, 0, 0, 0, 0, 0, 0, 0, 0, 0, 0, 0, 0, 0, 0, 1, 1, 1, 0, 0, 0, 0, 1, 1, 0, 1, 1] (fitness = 193409.90950866626)\n",
      "Poblacion inicial, best_fitness = 174447.32610625293\n",
      "generacion 0, Mejor fitness = 174528.4944706604)\n",
      "generacion 10, Mejor fitness = 188669.0538204782)\n",
      "generacion 20, Mejor fitness = 193012.0781472902)\n",
      "generacion 30, Mejor fitness = 193409.90950866626)\n",
      "generacion 40, Mejor fitness = 193409.90950866626)\n",
      "generacion 50, Mejor fitness = 193409.90950866626)\n",
      "generacion 60, Mejor fitness = 193409.90950866626)\n",
      "generacion 70, Mejor fitness = 193409.90950866626)\n",
      "generacion 80, Mejor fitness = 193409.90950866626)\n",
      "generacion 90, Mejor fitness = 193409.90950866626)\n",
      "generacion 100, Mejor fitness = 193409.90950866626)\n",
      "generacion 110, Mejor fitness = 193409.90950866626)\n",
      "generacion 120, Mejor fitness = 193409.90950866626)\n",
      "generacion 130, Mejor fitness = 193409.90950866626)\n",
      "generacion 140, Mejor fitness = 193409.90950866626)\n",
      "generacion 150, Mejor fitness = 193409.90950866626)\n",
      "generacion 160, Mejor fitness = 193409.90950866626)\n",
      "generacion 170, Mejor fitness = 193409.90950866626)\n",
      "generacion 180, Mejor fitness = 193409.90950866626)\n",
      "generacion 190, Mejor fitness = 193409.90950866626)\n",
      "generacion 200, Mejor fitness = 193409.90950866626)\n",
      "generacion 210, Mejor fitness = 193409.90950866626)\n",
      "generacion 220, Mejor fitness = 193409.90950866626)\n",
      "generacion 230, Mejor fitness = 193409.90950866626)\n",
      "generacion 240, Mejor fitness = 193409.90950866626)\n",
      "generacion 250, Mejor fitness = 193409.90950866626)\n",
      "generacion 260, Mejor fitness = 193409.90950866626)\n",
      "generacion 270, Mejor fitness = 193409.90950866626)\n",
      "generacion 280, Mejor fitness = 193409.90950866626)\n",
      "generacion 290, Mejor fitness = 193409.90950866626)\n",
      "generacion 300, Mejor fitness = 193409.90950866626)\n",
      "generacion 310, Mejor fitness = 193409.90950866626)\n",
      "generacion 320, Mejor fitness = 193409.90950866626)\n",
      "generacion 330, Mejor fitness = 193409.90950866626)\n",
      "generacion 340, Mejor fitness = 193409.90950866626)\n",
      "generacion 350, Mejor fitness = 193409.90950866626)\n",
      "generacion 360, Mejor fitness = 193409.90950866626)\n",
      "generacion 370, Mejor fitness = 193409.90950866626)\n",
      "generacion 380, Mejor fitness = 193409.90950866626)\n",
      "generacion 390, Mejor fitness = 193409.90950866626)\n",
      "generacion 400, Mejor fitness = 193409.90950866626)\n",
      "generacion 410, Mejor fitness = 193409.90950866626)\n",
      "generacion 420, Mejor fitness = 193409.90950866626)\n",
      "generacion 430, Mejor fitness = 193409.90950866626)\n",
      "generacion 440, Mejor fitness = 193409.90950866626)\n",
      "generacion 450, Mejor fitness = 193409.90950866626)\n",
      "generacion 460, Mejor fitness = 193409.90950866626)\n",
      "generacion 470, Mejor fitness = 193409.90950866626)\n",
      "generacion 480, Mejor fitness = 193409.90950866626)\n",
      "generacion 490, Mejor fitness = 193409.90950866626)\n",
      "Mejor individuo en la ultima generacion = [1, 1, 1, 0, 0, 0, 0, 0, 0, 0, 0, 0, 0, 0, 0, 0, 0, 0, 0, 0, 0, 0, 0, 0, 0, 0, 0, 0, 0, 0, 0, 0, 0, 0, 0, 0, 0, 0, 0, 0, 0, 0, 0, 0, 0, 0, 0, 0, 1, 1, 1, 0, 0, 0, 0, 1, 1, 0, 1, 1] (fitness = 193409.90950866626)\n",
      "Poblacion inicial, best_fitness = 180351.99801477906\n",
      "generacion 0, Mejor fitness = 180351.99801477906)\n",
      "generacion 10, Mejor fitness = 189986.19206423132)\n",
      "generacion 20, Mejor fitness = 193012.0781472902)\n",
      "generacion 30, Mejor fitness = 193409.90950866626)\n",
      "generacion 40, Mejor fitness = 193409.90950866626)\n",
      "generacion 50, Mejor fitness = 193409.90950866626)\n",
      "generacion 60, Mejor fitness = 193409.90950866626)\n",
      "generacion 70, Mejor fitness = 193409.90950866626)\n",
      "generacion 80, Mejor fitness = 193409.90950866626)\n",
      "generacion 90, Mejor fitness = 193409.90950866626)\n",
      "generacion 100, Mejor fitness = 193409.90950866626)\n",
      "generacion 110, Mejor fitness = 193409.90950866626)\n",
      "generacion 120, Mejor fitness = 193409.90950866626)\n",
      "generacion 130, Mejor fitness = 193409.90950866626)\n",
      "generacion 140, Mejor fitness = 193409.90950866626)\n",
      "generacion 150, Mejor fitness = 193409.90950866626)\n",
      "generacion 160, Mejor fitness = 193409.90950866626)\n",
      "generacion 170, Mejor fitness = 193409.90950866626)\n",
      "generacion 180, Mejor fitness = 193409.90950866626)\n",
      "generacion 190, Mejor fitness = 193409.90950866626)\n",
      "generacion 200, Mejor fitness = 193409.90950866626)\n",
      "generacion 210, Mejor fitness = 193409.90950866626)\n",
      "generacion 220, Mejor fitness = 193409.90950866626)\n",
      "generacion 230, Mejor fitness = 193409.90950866626)\n",
      "generacion 240, Mejor fitness = 193409.90950866626)\n",
      "generacion 250, Mejor fitness = 193409.90950866626)\n",
      "generacion 260, Mejor fitness = 193409.90950866626)\n",
      "generacion 270, Mejor fitness = 193409.90950866626)\n",
      "generacion 280, Mejor fitness = 193409.90950866626)\n",
      "generacion 290, Mejor fitness = 193409.90950866626)\n",
      "generacion 300, Mejor fitness = 193409.90950866626)\n",
      "generacion 310, Mejor fitness = 193409.90950866626)\n",
      "generacion 320, Mejor fitness = 193409.90950866626)\n",
      "generacion 330, Mejor fitness = 193409.90950866626)\n",
      "generacion 340, Mejor fitness = 193409.90950866626)\n",
      "generacion 350, Mejor fitness = 193409.90950866626)\n",
      "generacion 360, Mejor fitness = 193409.90950866626)\n",
      "generacion 370, Mejor fitness = 193409.90950866626)\n",
      "generacion 380, Mejor fitness = 193409.90950866626)\n",
      "generacion 390, Mejor fitness = 193409.90950866626)\n",
      "generacion 400, Mejor fitness = 193409.90950866626)\n",
      "generacion 410, Mejor fitness = 193409.90950866626)\n",
      "generacion 420, Mejor fitness = 193409.90950866626)\n",
      "generacion 430, Mejor fitness = 193409.90950866626)\n",
      "generacion 440, Mejor fitness = 193409.90950866626)\n",
      "generacion 450, Mejor fitness = 193409.90950866626)\n",
      "generacion 460, Mejor fitness = 193409.90950866626)\n",
      "generacion 470, Mejor fitness = 193409.90950866626)\n",
      "generacion 480, Mejor fitness = 193409.90950866626)\n",
      "generacion 490, Mejor fitness = 193409.90950866626)\n",
      "Mejor individuo en la ultima generacion = [1, 1, 1, 0, 0, 0, 0, 0, 0, 0, 0, 0, 0, 0, 0, 0, 0, 0, 0, 0, 0, 0, 0, 0, 0, 0, 0, 0, 0, 0, 0, 0, 0, 0, 0, 0, 0, 0, 0, 0, 0, 0, 0, 0, 0, 0, 0, 0, 1, 1, 1, 0, 0, 0, 0, 1, 1, 0, 1, 1] (fitness = 193409.90950866626)\n",
      "Poblacion inicial, best_fitness = 168472.69698122324\n",
      "generacion 0, Mejor fitness = 179280.15646962464)\n",
      "generacion 10, Mejor fitness = 190166.74214296803)\n",
      "generacion 20, Mejor fitness = 192746.99913623676)\n",
      "generacion 30, Mejor fitness = 193409.90950866626)\n",
      "generacion 40, Mejor fitness = 193409.90950866626)\n",
      "generacion 50, Mejor fitness = 193409.90950866626)\n",
      "generacion 60, Mejor fitness = 193409.90950866626)\n",
      "generacion 70, Mejor fitness = 193409.90950866626)\n",
      "generacion 80, Mejor fitness = 193409.90950866626)\n",
      "generacion 90, Mejor fitness = 193409.90950866626)\n",
      "generacion 100, Mejor fitness = 193409.90950866626)\n",
      "generacion 110, Mejor fitness = 193409.90950866626)\n",
      "generacion 120, Mejor fitness = 193409.90950866626)\n",
      "generacion 130, Mejor fitness = 193409.90950866626)\n",
      "generacion 140, Mejor fitness = 193409.90950866626)\n",
      "generacion 150, Mejor fitness = 193409.90950866626)\n",
      "generacion 160, Mejor fitness = 193409.90950866626)\n",
      "generacion 170, Mejor fitness = 193409.90950866626)\n",
      "generacion 180, Mejor fitness = 193409.90950866626)\n",
      "generacion 190, Mejor fitness = 193409.90950866626)\n",
      "generacion 200, Mejor fitness = 193409.90950866626)\n",
      "generacion 210, Mejor fitness = 193409.90950866626)\n",
      "generacion 220, Mejor fitness = 193409.90950866626)\n",
      "generacion 230, Mejor fitness = 193409.90950866626)\n",
      "generacion 240, Mejor fitness = 193409.90950866626)\n",
      "generacion 250, Mejor fitness = 193409.90950866626)\n",
      "generacion 260, Mejor fitness = 193409.90950866626)\n",
      "generacion 270, Mejor fitness = 193409.90950866626)\n",
      "generacion 280, Mejor fitness = 193409.90950866626)\n",
      "generacion 290, Mejor fitness = 193409.90950866626)\n",
      "generacion 300, Mejor fitness = 193409.90950866626)\n",
      "generacion 310, Mejor fitness = 193409.90950866626)\n",
      "generacion 320, Mejor fitness = 193409.90950866626)\n",
      "generacion 330, Mejor fitness = 193409.90950866626)\n",
      "generacion 340, Mejor fitness = 193409.90950866626)\n",
      "generacion 350, Mejor fitness = 193409.90950866626)\n",
      "generacion 360, Mejor fitness = 193409.90950866626)\n",
      "generacion 370, Mejor fitness = 193409.90950866626)\n",
      "generacion 380, Mejor fitness = 193409.90950866626)\n",
      "generacion 390, Mejor fitness = 193409.90950866626)\n",
      "generacion 400, Mejor fitness = 193409.90950866626)\n",
      "generacion 410, Mejor fitness = 193409.90950866626)\n",
      "generacion 420, Mejor fitness = 193409.90950866626)\n",
      "generacion 430, Mejor fitness = 193409.90950866626)\n",
      "generacion 440, Mejor fitness = 193409.90950866626)\n",
      "generacion 450, Mejor fitness = 193409.90950866626)\n",
      "generacion 460, Mejor fitness = 193409.90950866626)\n",
      "generacion 470, Mejor fitness = 193409.90950866626)\n",
      "generacion 480, Mejor fitness = 193409.90950866626)\n",
      "generacion 490, Mejor fitness = 193409.90950866626)\n",
      "Mejor individuo en la ultima generacion = [1, 1, 1, 0, 0, 0, 0, 0, 0, 0, 0, 0, 0, 0, 0, 0, 0, 0, 0, 0, 0, 0, 0, 0, 0, 0, 0, 0, 0, 0, 0, 0, 0, 0, 0, 0, 0, 0, 0, 0, 0, 0, 0, 0, 0, 0, 0, 0, 1, 1, 1, 0, 0, 0, 0, 1, 1, 0, 1, 1] (fitness = 193409.90950866626)\n",
      "Poblacion inicial, best_fitness = 174955.0723048269\n",
      "generacion 0, Mejor fitness = 181893.52030760382)\n",
      "generacion 10, Mejor fitness = 191053.2306693245)\n",
      "generacion 20, Mejor fitness = 193409.90950866626)\n",
      "generacion 30, Mejor fitness = 193409.90950866626)\n",
      "generacion 40, Mejor fitness = 193409.90950866626)\n",
      "generacion 50, Mejor fitness = 193409.90950866626)\n",
      "generacion 60, Mejor fitness = 193409.90950866626)\n",
      "generacion 70, Mejor fitness = 193409.90950866626)\n",
      "generacion 80, Mejor fitness = 193409.90950866626)\n",
      "generacion 90, Mejor fitness = 193409.90950866626)\n",
      "generacion 100, Mejor fitness = 193409.90950866626)\n",
      "generacion 110, Mejor fitness = 193409.90950866626)\n",
      "generacion 120, Mejor fitness = 193409.90950866626)\n",
      "generacion 130, Mejor fitness = 193409.90950866626)\n",
      "generacion 140, Mejor fitness = 193409.90950866626)\n",
      "generacion 150, Mejor fitness = 193409.90950866626)\n",
      "generacion 160, Mejor fitness = 193409.90950866626)\n",
      "generacion 170, Mejor fitness = 193409.90950866626)\n",
      "generacion 180, Mejor fitness = 193409.90950866626)\n",
      "generacion 190, Mejor fitness = 193409.90950866626)\n",
      "generacion 200, Mejor fitness = 193409.90950866626)\n",
      "generacion 210, Mejor fitness = 193409.90950866626)\n",
      "generacion 220, Mejor fitness = 193409.90950866626)\n",
      "generacion 230, Mejor fitness = 193409.90950866626)\n",
      "generacion 240, Mejor fitness = 193409.90950866626)\n",
      "generacion 250, Mejor fitness = 193409.90950866626)\n",
      "generacion 260, Mejor fitness = 193409.90950866626)\n",
      "generacion 270, Mejor fitness = 193409.90950866626)\n",
      "generacion 280, Mejor fitness = 193409.90950866626)\n",
      "generacion 290, Mejor fitness = 193409.90950866626)\n",
      "generacion 300, Mejor fitness = 193409.90950866626)\n",
      "generacion 310, Mejor fitness = 193409.90950866626)\n",
      "generacion 320, Mejor fitness = 193409.90950866626)\n",
      "generacion 330, Mejor fitness = 193409.90950866626)\n",
      "generacion 340, Mejor fitness = 193409.90950866626)\n",
      "generacion 350, Mejor fitness = 193409.90950866626)\n",
      "generacion 360, Mejor fitness = 193409.90950866626)\n",
      "generacion 370, Mejor fitness = 193409.90950866626)\n",
      "generacion 380, Mejor fitness = 193409.90950866626)\n",
      "generacion 390, Mejor fitness = 193409.90950866626)\n",
      "generacion 400, Mejor fitness = 193409.90950866626)\n",
      "generacion 410, Mejor fitness = 193409.90950866626)\n",
      "generacion 420, Mejor fitness = 193409.90950866626)\n",
      "generacion 430, Mejor fitness = 193409.90950866626)\n",
      "generacion 440, Mejor fitness = 193409.90950866626)\n",
      "generacion 450, Mejor fitness = 193409.90950866626)\n",
      "generacion 460, Mejor fitness = 193409.90950866626)\n",
      "generacion 470, Mejor fitness = 193409.90950866626)\n",
      "generacion 480, Mejor fitness = 193409.90950866626)\n",
      "generacion 490, Mejor fitness = 193409.90950866626)\n",
      "Mejor individuo en la ultima generacion = [1, 1, 1, 0, 0, 0, 0, 0, 0, 0, 0, 0, 0, 0, 0, 0, 0, 0, 0, 0, 0, 0, 0, 0, 0, 0, 0, 0, 0, 0, 0, 0, 0, 0, 0, 0, 0, 0, 0, 0, 0, 0, 0, 0, 0, 0, 0, 0, 1, 1, 1, 0, 0, 0, 0, 1, 1, 0, 1, 1] (fitness = 193409.90950866626)\n"
     ]
    }
   ],
   "source": [
    "## Hiperparametros del algoritmo genetico\n",
    "POP_SIZE = 100       # numero de individuos\n",
    "GENERATIONS = 500   # numero de generaciones\n",
    "PMUT = 0.1        # tasa de mutacion\n",
    "individuos,fitness,sum_distancia,sum_poblacion=([] for _ in range(4))\n",
    "for _ in range(10):\n",
    "    population = init_population(POP_SIZE,maxMark=10);\n",
    "    best_ind, bestfitness, _ = genetic_algorithm(population, marketPool, GENERATIONS, PMUT, crossover=\"uniform\", mutation=\"flip\",select='roulette');\n",
    "    individuos.append(best_ind)\n",
    "    fitness.append(best_ind.fitness)\n",
    "    sum_distancia.append(get_fitness_lista(best_ind.chromosome,marketPool)[1])\n",
    "    sum_poblacion.append(get_fitness_lista(best_ind.chromosome,marketPool)[0])"
   ]
  },
  {
   "cell_type": "code",
   "execution_count": 27,
   "metadata": {
    "colab": {
     "base_uri": "https://localhost:8080/",
     "height": 359
    },
    "colab_type": "code",
    "id": "-vYMN6hza3FX",
    "outputId": "8342f057-98a9-4b17-874d-ae922590a916"
   },
   "outputs": [
    {
     "data": {
      "text/html": [
       "<div>\n",
       "<style scoped>\n",
       "    .dataframe tbody tr th:only-of-type {\n",
       "        vertical-align: middle;\n",
       "    }\n",
       "\n",
       "    .dataframe tbody tr th {\n",
       "        vertical-align: top;\n",
       "    }\n",
       "\n",
       "    .dataframe thead th {\n",
       "        text-align: right;\n",
       "    }\n",
       "</style>\n",
       "<table border=\"1\" class=\"dataframe\">\n",
       "  <thead>\n",
       "    <tr style=\"text-align: right;\">\n",
       "      <th></th>\n",
       "      <th>individuos</th>\n",
       "      <th>fitness</th>\n",
       "      <th>suma_distancia</th>\n",
       "      <th>suma_poblacion</th>\n",
       "    </tr>\n",
       "  </thead>\n",
       "  <tbody>\n",
       "    <tr>\n",
       "      <th>0</th>\n",
       "      <td>&lt;__main__.Individual object at 0x7f46a3f91890&gt;</td>\n",
       "      <td>193409.909509</td>\n",
       "      <td>10309.909509</td>\n",
       "      <td>183100</td>\n",
       "    </tr>\n",
       "    <tr>\n",
       "      <th>1</th>\n",
       "      <td>&lt;__main__.Individual object at 0x7f46a4053d10&gt;</td>\n",
       "      <td>193409.909509</td>\n",
       "      <td>10309.909509</td>\n",
       "      <td>183100</td>\n",
       "    </tr>\n",
       "    <tr>\n",
       "      <th>2</th>\n",
       "      <td>&lt;__main__.Individual object at 0x7f46a3fc9450&gt;</td>\n",
       "      <td>193409.909509</td>\n",
       "      <td>10309.909509</td>\n",
       "      <td>183100</td>\n",
       "    </tr>\n",
       "    <tr>\n",
       "      <th>3</th>\n",
       "      <td>&lt;__main__.Individual object at 0x7f46a3a9af90&gt;</td>\n",
       "      <td>193409.909509</td>\n",
       "      <td>10309.909509</td>\n",
       "      <td>183100</td>\n",
       "    </tr>\n",
       "    <tr>\n",
       "      <th>4</th>\n",
       "      <td>&lt;__main__.Individual object at 0x7f46a3f879d0&gt;</td>\n",
       "      <td>193409.909509</td>\n",
       "      <td>10309.909509</td>\n",
       "      <td>183100</td>\n",
       "    </tr>\n",
       "    <tr>\n",
       "      <th>5</th>\n",
       "      <td>&lt;__main__.Individual object at 0x7f46a3f369d0&gt;</td>\n",
       "      <td>193409.909509</td>\n",
       "      <td>10309.909509</td>\n",
       "      <td>183100</td>\n",
       "    </tr>\n",
       "    <tr>\n",
       "      <th>6</th>\n",
       "      <td>&lt;__main__.Individual object at 0x7f46a3a87110&gt;</td>\n",
       "      <td>193409.909509</td>\n",
       "      <td>10309.909509</td>\n",
       "      <td>183100</td>\n",
       "    </tr>\n",
       "    <tr>\n",
       "      <th>7</th>\n",
       "      <td>&lt;__main__.Individual object at 0x7f46a3f36bd0&gt;</td>\n",
       "      <td>193409.909509</td>\n",
       "      <td>10309.909509</td>\n",
       "      <td>183100</td>\n",
       "    </tr>\n",
       "    <tr>\n",
       "      <th>8</th>\n",
       "      <td>&lt;__main__.Individual object at 0x7f46a3f91510&gt;</td>\n",
       "      <td>193409.909509</td>\n",
       "      <td>10309.909509</td>\n",
       "      <td>183100</td>\n",
       "    </tr>\n",
       "    <tr>\n",
       "      <th>9</th>\n",
       "      <td>&lt;__main__.Individual object at 0x7f46a39f5b90&gt;</td>\n",
       "      <td>193409.909509</td>\n",
       "      <td>10309.909509</td>\n",
       "      <td>183100</td>\n",
       "    </tr>\n",
       "  </tbody>\n",
       "</table>\n",
       "</div>"
      ],
      "text/plain": [
       "                                       individuos        fitness  \\\n",
       "0  <__main__.Individual object at 0x7f46a3f91890>  193409.909509   \n",
       "1  <__main__.Individual object at 0x7f46a4053d10>  193409.909509   \n",
       "2  <__main__.Individual object at 0x7f46a3fc9450>  193409.909509   \n",
       "3  <__main__.Individual object at 0x7f46a3a9af90>  193409.909509   \n",
       "4  <__main__.Individual object at 0x7f46a3f879d0>  193409.909509   \n",
       "5  <__main__.Individual object at 0x7f46a3f369d0>  193409.909509   \n",
       "6  <__main__.Individual object at 0x7f46a3a87110>  193409.909509   \n",
       "7  <__main__.Individual object at 0x7f46a3f36bd0>  193409.909509   \n",
       "8  <__main__.Individual object at 0x7f46a3f91510>  193409.909509   \n",
       "9  <__main__.Individual object at 0x7f46a39f5b90>  193409.909509   \n",
       "\n",
       "   suma_distancia  suma_poblacion  \n",
       "0    10309.909509          183100  \n",
       "1    10309.909509          183100  \n",
       "2    10309.909509          183100  \n",
       "3    10309.909509          183100  \n",
       "4    10309.909509          183100  \n",
       "5    10309.909509          183100  \n",
       "6    10309.909509          183100  \n",
       "7    10309.909509          183100  \n",
       "8    10309.909509          183100  \n",
       "9    10309.909509          183100  "
      ]
     },
     "execution_count": 27,
     "metadata": {},
     "output_type": "execute_result"
    }
   ],
   "source": [
    "resultados_mono_obj=pd.DataFrame({'individuos':individuos,'fitness':fitness,'suma_distancia':sum_distancia,'suma_poblacion':sum_poblacion})\n",
    "resultados_mono_obj"
   ]
  },
  {
   "cell_type": "markdown",
   "metadata": {
    "colab_type": "text",
    "id": "o3XPpzeMa3Fa"
   },
   "source": [
    "## **2) Algoritmo multi-objetivo NSGA-II**"
   ]
  },
  {
   "cell_type": "markdown",
   "metadata": {
    "colab_type": "text",
    "id": "zssQGLS1a3Fa"
   },
   "source": [
    "**a) Función para obtener los fitness para los dos objetivos**"
   ]
  },
  {
   "cell_type": "code",
   "execution_count": 28,
   "metadata": {
    "colab": {},
    "colab_type": "code",
    "id": "5rjPHrcda3Fb"
   },
   "outputs": [],
   "source": [
    "def get_fitness_nsga(chromosome, markets):\n",
    "    fitnesses=np.zeros(2) #cantidad de objetivos a medir\n",
    "    markets_elegidos=[]\n",
    "    sum_pob=0\n",
    "    sum_dist=0\n",
    "    for i in range(len(markets)):\n",
    "        if chromosome[i] == 1:  # si el market i esta incluido en el cromosoma, acumula su poblacion y distancia\n",
    "            sum_pob += markets[i].pob\n",
    "            markets_elegidos.append(i)\n",
    "            \n",
    "    for j in markets_elegidos:\n",
    "        for k in markets_elegidos[j+1:]:\n",
    "            sum_dist=sum_dist+lista_total_distancias[(j,k)]\n",
    "    fitnesses[0]=sum_pob\n",
    "    fitnesses[1]=sum_dist\n",
    "    return fitnesses"
   ]
  },
  {
   "cell_type": "markdown",
   "metadata": {
    "colab_type": "text",
    "id": "0xAG9vD2a3Fe"
   },
   "source": [
    "**b) Funcion para evaluar una población de individuos**"
   ]
  },
  {
   "cell_type": "code",
   "execution_count": 29,
   "metadata": {
    "colab": {},
    "colab_type": "code",
    "id": "zGe1vgOoa3Ff"
   },
   "outputs": [],
   "source": [
    "def evaluate_population_nsga(population, markets):\n",
    "    \"\"\" Evalua una poblacion de individuos con la funcion get_fitness \"\"\"\n",
    "    pop_size = len(population)\n",
    "    for i in range(pop_size):\n",
    "        if population[i].fitness == -1:    # evalua solo si el individuo no esta evaluado\n",
    "            population[i].fitness = get_fitness_nsga(population[i].chromosome, markets)"
   ]
  },
  {
   "cell_type": "markdown",
   "metadata": {
    "colab_type": "text",
    "id": "e0hH_37va3Fk"
   },
   "source": [
    "**c) Funcion para la obtencion de la poblacion descendiente**"
   ]
  },
  {
   "cell_type": "code",
   "execution_count": 30,
   "metadata": {
    "colab": {},
    "colab_type": "code",
    "id": "o4h1JWaPa3Fm"
   },
   "outputs": [],
   "source": [
    "def build_offspring_population(population, crossover, mutation, pmut):     \n",
    "    \"\"\" Construye una poblacion hija con los operadores de cruzamiento y mutacion pasados\n",
    "        crossover:  operador de cruzamiento\n",
    "        mutation:   operador de mutacion\n",
    "        pmut:       taza de mutacion\n",
    "    \"\"\"\n",
    "    pop_size = len(population)\n",
    "    \n",
    "    ## Selecciona parejas de individuos (mating_pool) para cruzamiento con el metodo de la ruleta\n",
    "    mating_pool = []\n",
    "    for i in range(int(pop_size/2)): \n",
    "        # escoge dos individuos diferentes aleatoriamente de la poblacion\n",
    "        permut = np.random.permutation( pop_size )\n",
    "        mating_pool.append( (population[permut[0]], population[permut[1]] ) ) \n",
    "        \n",
    "    ## Crea la poblacion descendencia cruzando las parejas del mating pool \n",
    "    offspring_population = []\n",
    "    for i in range(len(mating_pool)): \n",
    "        if crossover == \"onepoint\":\n",
    "            offspring_population.extend( mating_pool[i][0].crossover_onepoint(mating_pool[i][1]) ) # cruzamiento 1 punto\n",
    "        elif crossover == \"uniform\":\n",
    "            offspring_population.extend( mating_pool[i][0].crossover_uniform(mating_pool[i][1]) ) # cruzamiento uniforme\n",
    "        else:\n",
    "            raise NotImplementedError\n",
    "\n",
    "    ## Aplica el operador de mutacion con probabilidad pmut en cada hijo generado\n",
    "    for i in range(len(offspring_population)):\n",
    "        if uniform(0, 1) < pmut: \n",
    "            if mutation == \"flip\":\n",
    "                offspring_population[i] = offspring_population[i].mutation_flip() # cambia el alelo de un gen\n",
    "            else:\n",
    "                raise NotImplementedError   \n",
    "                \n",
    "    return offspring_population\n"
   ]
  },
  {
   "cell_type": "markdown",
   "metadata": {
    "colab_type": "text",
    "id": "3r5Ardqla3Fq"
   },
   "source": [
    "**d) Funcion para la obtencion de las distancias crowding**"
   ]
  },
  {
   "cell_type": "code",
   "execution_count": 31,
   "metadata": {
    "colab": {},
    "colab_type": "code",
    "id": "A9FI8FLpa3Fr"
   },
   "outputs": [],
   "source": [
    "def get_crowding_distances(fitnesses):\n",
    "    \"\"\"\n",
    "    La distancia crowding de un individuo es la diferencia del fitness mas proximo hacia arriba menos el fitness mas proximo \n",
    "    hacia abajo. El valor crowding total es la suma de todas las distancias crowdings para todos los fitness\n",
    "    \"\"\"\n",
    "    #fitnesses de la forma np.array( [ [23,23],[12,21],[2,2] ])\n",
    "    pop_size = len(fitnesses[:, 0])\n",
    "    num_objectives = len(fitnesses[0, :])\n",
    "\n",
    "    # crea matriz crowding. Filas representan individuos, columnas representan objectives\n",
    "    crowding_matrix = np.zeros((pop_size, num_objectives))\n",
    "\n",
    "    # normaliza los fitnesses entre 0 y 1 (ptp es max - min)\n",
    "    # Es importante normalizar los fitness porque pueden venir con diferentes unidades de medida\n",
    "    normalized_fitnesses = (fitnesses - fitnesses.min(0)) / fitnesses.ptp(0)\n",
    "\n",
    "    for col in range(num_objectives):   # Por cada objective\n",
    "        crowding = np.zeros(pop_size)\n",
    "\n",
    "        # puntos extremos tienen maximo crowding\n",
    "        crowding[0] = 1\n",
    "        crowding[pop_size - 1] = 1\n",
    "\n",
    "        # ordena los fitness normalizados del objectivo actual\n",
    "        sorted_fitnesses = np.sort(normalized_fitnesses[:, col])\n",
    "        sorted_fitnesses_index = np.argsort(normalized_fitnesses[:, col])\n",
    "\n",
    "        # Calcula la distancia crowding de cada individuo como la diferencia de score de los vecinos\n",
    "        crowding[1:pop_size - 1] = (sorted_fitnesses[2:pop_size] - sorted_fitnesses[0:pop_size - 2])\n",
    "\n",
    "        # obtiene el ordenamiento original\n",
    "        re_sort_order = np.argsort(sorted_fitnesses_index)\n",
    "        sorted_crowding = crowding[re_sort_order]\n",
    "\n",
    "        # Salva las distancias crowdingpara el objetivo que se esta iterando\n",
    "        crowding_matrix[:, col] = sorted_crowding\n",
    "\n",
    "    # Obtiene las distancias crowding finales sumando las distancias crowding de cada objetivo \n",
    "    crowding_distances = np.sum(crowding_matrix, axis=1)\n",
    "\n",
    "    return crowding_distances"
   ]
  },
  {
   "cell_type": "markdown",
   "metadata": {
    "colab_type": "text",
    "id": "YJS7Xnxaa3Fu"
   },
   "source": [
    "**e) Funcion para la seleccion por distancia crowding**"
   ]
  },
  {
   "cell_type": "code",
   "execution_count": 32,
   "metadata": {
    "colab": {},
    "colab_type": "code",
    "id": "sgNZbN7ua3Fv"
   },
   "outputs": [],
   "source": [
    "def select_by_crowding(population, num_individuals):\n",
    "    \"\"\"\n",
    "    Selecciona una poblacion de individuos basado en torneos de pares de individuos: dos individuos se escoge al azar\n",
    "    y se selecciona el mejor segun la distancia crowding. Se repite hasta obtener num_individuals individuos\n",
    "    \"\"\"    \n",
    "    population = deepcopy(population)\n",
    "    pop_size = len(population)\n",
    "    num_objectives = len(population[0].fitness)\n",
    "    \n",
    "    # extrae los fitness de la poblacion en la matriz fitnesses\n",
    "    fitnesses = np.zeros([pop_size, num_objectives])\n",
    "    for i in range(pop_size): fitnesses[i,:] = population[i].fitness\n",
    "        \n",
    "    # obtiene las  distancias  crowding\n",
    "    crowding_distances = get_crowding_distances(fitnesses)   \n",
    "    \n",
    "    population_selected = []   # poblacion escogida\n",
    "\n",
    "    for i in range(num_individuals):  # por cada individuo a seleccionar\n",
    "\n",
    "        # escoje dos individuos aleatoriamente de la poblacion no escogida aun\n",
    "        permut = np.random.permutation( len(population) )\n",
    "        ind1_id = permut[0]\n",
    "        ind2_id = permut[1]\n",
    "\n",
    "        # Si ind1_id es el mejor\n",
    "        if crowding_distances[ind1_id] >= crowding_distances[ind2_id]:\n",
    "\n",
    "            # traslada el individuo ind1 de population a la lista de individuos seleccionados\n",
    "            population_selected.append( population.pop(ind1_id) )\n",
    "            # remueve la distancia crowding del individuo seleccionado\n",
    "            crowding_distances = np.delete(crowding_distances, ind1_id, axis=0)\n",
    "            \n",
    "        else:  # Si ind2_id es el mejor\n",
    "            \n",
    "            # traslada el individuo ind2 de population a la lista de individuos seleccionados\n",
    "            population_selected.append( population.pop(ind2_id) )\n",
    "            # remueve la distancia crowding del individuo seleccionado\n",
    "            crowding_distances = np.delete(crowding_distances, ind2_id, axis=0)\n",
    "\n",
    "    return (population_selected)"
   ]
  },
  {
   "cell_type": "markdown",
   "metadata": {
    "colab_type": "text",
    "id": "W-p3XfqTa3Fx"
   },
   "source": [
    "**f) Funcion para de la frontera de pareto**"
   ]
  },
  {
   "cell_type": "code",
   "execution_count": 33,
   "metadata": {
    "colab": {},
    "colab_type": "code",
    "id": "vrOPHlUNa3Fy"
   },
   "outputs": [],
   "source": [
    "def get_paretofront_population(population):\n",
    "    \"\"\"\n",
    "    Obtiene de population la poblacion de individups de la frontera de Pareto, \n",
    "    \"\"\"\n",
    "    population = deepcopy(population)\n",
    "    pop_size = len(population)\n",
    "    \n",
    "    # todos los individuos son inicialmente asumidos como la frontera de Pareto\n",
    "    pareto_front = np.ones(pop_size, dtype=bool)\n",
    "    \n",
    "    for i in range(pop_size): # Compara cada individuo contra todos los demas\n",
    "        for j in range(pop_size):\n",
    "            # Chequea si individuo 'i' es dominado por individuo 'j'\n",
    "            if all(population[j].fitness >= population[i].fitness) and any(population[j].fitness > population[i].fitness): #NO es OR ?\n",
    "                # j domina i -> señaliza que individuo 'i' como no siendo parte de la frontera de Pareto\n",
    "                pareto_front[i] = 0\n",
    "                break   # Para la busqueda para 'i' (no es necesario hacer mas comparaciones)\n",
    "\n",
    "    paretofront_population = []\n",
    "    for i in range(pop_size):  # construye la lista de individuos de la frontera de Pareto \n",
    "        if pareto_front[i] == 1: paretofront_population.append(population[i])\n",
    "        \n",
    "    return paretofront_population"
   ]
  },
  {
   "cell_type": "markdown",
   "metadata": {
    "colab_type": "text",
    "id": "9OK3N4HGa3F0"
   },
   "source": [
    "**g) Funcion para la obtencion de la siguiente poblacion**"
   ]
  },
  {
   "cell_type": "code",
   "execution_count": 34,
   "metadata": {
    "colab": {},
    "colab_type": "code",
    "id": "ZK4vuFJZa3F1"
   },
   "outputs": [],
   "source": [
    "def build_next_population(population, min_pop_size, max_pop_size):\n",
    "    \"\"\"\n",
    "    Construye la poblacion de la siguiente generacion añadiendo sucesivas fronteras de Pareto hasta \n",
    "    tener una poblacion de al menos min_pop_size individuos. Reduce la frontera de Pareto con el metodo de\n",
    "    crowding distance si al agregar la frontera excede el tamaño maximo de la poblacion (max_pop_size)\n",
    "    \"\"\"\n",
    "    population = deepcopy(population)\n",
    "    pareto_front = []\n",
    "    next_population = []\n",
    "    \n",
    "    while len(next_population) < min_pop_size:   # mientras la poblacion no tenga el tamaño minimo\n",
    "        # obtiene la poblacion frontera de Pareto actual\n",
    "        paretofront_population = get_paretofront_population(population)\n",
    "        \n",
    "        # si poblacion actual + paretofront excede el maximo permitido -> reduce paretofront con el metodo de crowding\n",
    "        combined_population_size = len(next_population) + len(paretofront_population)\n",
    "        if  combined_population_size > max_pop_size:\n",
    "            paretofront_population = select_by_crowding( paretofront_population, max_pop_size-len(next_population) ) \n",
    "        \n",
    "        # Adiciona la frontera de Pareto (original o reducida) a la poblacion en construccion\n",
    "        next_population.extend( paretofront_population )\n",
    "    \n",
    "        # remueve de population los individuos que fueron agregados a next_population \n",
    "        for i in range( len(paretofront_population) ):\n",
    "            for j in range( len(population) ):\n",
    "                if all( np.asarray(paretofront_population[i].chromosome) == np.asarray(population[j].chromosome) ):\n",
    "                    del(population[j])\n",
    "                    break\n",
    "                    \n",
    "    return next_population"
   ]
  },
  {
   "cell_type": "markdown",
   "metadata": {
    "colab_type": "text",
    "id": "d8zBp1iKa3F2"
   },
   "source": [
    "**h) Ejecucion del algoritmo**"
   ]
  },
  {
   "cell_type": "code",
   "execution_count": 35,
   "metadata": {
    "colab": {
     "base_uri": "https://localhost:8080/",
     "height": 867
    },
    "colab_type": "code",
    "id": "3RXr_iSta3F3",
    "outputId": "6579dba2-3d61-4f5c-bb74-2108cc0885b8"
   },
   "outputs": [
    {
     "name": "stdout",
     "output_type": "stream",
     "text": [
      "Generacion 0 (de 500) \n",
      "Generacion 10 (de 500) \n",
      "Generacion 20 (de 500) \n",
      "Generacion 30 (de 500) \n",
      "Generacion 40 (de 500) \n",
      "Generacion 50 (de 500) \n",
      "Generacion 60 (de 500) \n",
      "Generacion 70 (de 500) \n",
      "Generacion 80 (de 500) \n",
      "Generacion 90 (de 500) \n",
      "Generacion 100 (de 500) \n",
      "Generacion 110 (de 500) \n",
      "Generacion 120 (de 500) \n",
      "Generacion 130 (de 500) \n",
      "Generacion 140 (de 500) \n",
      "Generacion 150 (de 500) \n",
      "Generacion 160 (de 500) \n",
      "Generacion 170 (de 500) \n",
      "Generacion 180 (de 500) \n",
      "Generacion 190 (de 500) \n",
      "Generacion 200 (de 500) \n",
      "Generacion 210 (de 500) \n",
      "Generacion 220 (de 500) \n",
      "Generacion 230 (de 500) \n",
      "Generacion 240 (de 500) \n",
      "Generacion 250 (de 500) \n",
      "Generacion 260 (de 500) \n",
      "Generacion 270 (de 500) \n",
      "Generacion 280 (de 500) \n",
      "Generacion 290 (de 500) \n",
      "Generacion 300 (de 500) \n",
      "Generacion 310 (de 500) \n",
      "Generacion 320 (de 500) \n",
      "Generacion 330 (de 500) \n",
      "Generacion 340 (de 500) \n",
      "Generacion 350 (de 500) \n",
      "Generacion 360 (de 500) \n",
      "Generacion 370 (de 500) \n",
      "Generacion 380 (de 500) \n",
      "Generacion 390 (de 500) \n",
      "Generacion 400 (de 500) \n",
      "Generacion 410 (de 500) \n",
      "Generacion 420 (de 500) \n",
      "Generacion 430 (de 500) \n",
      "Generacion 440 (de 500) \n",
      "Generacion 450 (de 500) \n",
      "Generacion 460 (de 500) \n",
      "Generacion 470 (de 500) \n",
      "Generacion 480 (de 500) \n",
      "Generacion 490 (de 500) \n"
     ]
    }
   ],
   "source": [
    "## Hiperparametros del algoritmo genetico\n",
    "POP_SIZE = 50       # numero de individuos\n",
    "GENERATIONS = 500   # numero de generaciones\n",
    "PMUT = 1        # taza de mutacion\n",
    "MIN_POP_SIZE = 100    # numero de individuos minimo\n",
    "MAX_POP_SIZE = 100    # numero de individuos maximo\n",
    "\n",
    "## Inicializa una poblacion inicial de forma aleatoria\n",
    "P = init_population(POP_SIZE,maxMark=10)\n",
    "\n",
    "evaluate_population_nsga(P,marketPool)    #  evalua la poblacion inicial\n",
    "## Ejecuta los ciclos evolutivos \n",
    "for g in range(GENERATIONS):   # Por cada generacion\n",
    "    \n",
    "    if g %10 == 0:\n",
    "        print ('Generacion {} (de {}) '.format(g, GENERATIONS))\n",
    "    \n",
    "    ## genera y evalua la poblacion hija    \n",
    "    Q = build_offspring_population(P, \"uniform\", \"flip\", PMUT)\n",
    "    evaluate_population_nsga(Q, marketPool)\n",
    "    \n",
    "    ## une la poblacion padre y la poblacion hija\n",
    "    P.extend(Q) \n",
    "    \n",
    "    ## Construye la poblacion de la siguiente generacion\n",
    "    P = build_next_population(P, MIN_POP_SIZE, MAX_POP_SIZE)\n",
    "\n",
    "# Obtiene la poblacion de la frontera de pareto final \n",
    "pareto_front_population = get_paretofront_population(P)"
   ]
  },
  {
   "cell_type": "markdown",
   "metadata": {
    "colab_type": "text",
    "id": "ippHlyJGa3F5"
   },
   "source": [
    "**i) Visualizacion de la frontera de pareto**"
   ]
  },
  {
   "cell_type": "code",
   "execution_count": 36,
   "metadata": {
    "colab": {
     "base_uri": "https://localhost:8080/",
     "height": 279
    },
    "colab_type": "code",
    "id": "GkImmB6Va3F5",
    "outputId": "698e016a-ff7e-4cb3-e191-dc9949895952"
   },
   "outputs": [
    {
     "data": {
      "image/png": "[encoded data removed]",
      "text/plain": [
       "<Figure size 432x288 with 1 Axes>"
      ]
     },
     "metadata": {
      "needs_background": "light"
     },
     "output_type": "display_data"
    }
   ],
   "source": [
    "## Plotea los individuos de la frontera de Pareto final\n",
    "CHROMOSOME_SIZE = 60 \n",
    "pop_size = len(pareto_front_population)\n",
    "num_objectives = len(pareto_front_population[0].fitness)\n",
    "    \n",
    "# extrae los fitness de la poblacion en la matriz fitnesses\n",
    "fitnesses = np.zeros([pop_size, num_objectives])\n",
    "for i in range(pop_size): fitnesses[i,:] = pareto_front_population[i].fitness\n",
    "\n",
    "x = fitnesses[:, 0]/CHROMOSOME_SIZE*100\n",
    "y = fitnesses[:, 1]/CHROMOSOME_SIZE*100\n",
    "plt.xlabel('Objectivo Poblacion - % maximo obtenible') #Primer objetivo: Maximizar el valor de la mochila\n",
    "plt.ylabel('Objectivo Distancia - % maximo obtenible') #Segundo objetivo: Minimizar el peso de la mochila\n",
    "plt.scatter(x,y)\n",
    "#plt.savefig('pareto.png')\n",
    "plt.show()\n"
   ]
  },
  {
   "cell_type": "markdown",
   "metadata": {
    "colab_type": "text",
    "id": "-oSV9h-Ma3F7"
   },
   "source": [
    "**Verificacion si la solucion que nos otorgó el mono objetivo es parte de las soluciones obtenidas por NSGA-II**"
   ]
  },
  {
   "cell_type": "code",
   "execution_count": 37,
   "metadata": {
    "colab": {
     "base_uri": "https://localhost:8080/",
     "height": 34
    },
    "colab_type": "code",
    "id": "q4WKGQ_4a3F8",
    "outputId": "20c29f3c-6686-412b-8361-b030ffd46b4b"
   },
   "outputs": [
    {
     "data": {
      "text/plain": [
       "True"
      ]
     },
     "execution_count": 37,
     "metadata": {},
     "output_type": "execute_result"
    }
   ],
   "source": [
    "cromosomas=[indi.chromosome for indi in pareto_front_population]\n",
    "valor=True if best_ind.chromosome in cromosomas else False\n",
    "valor"
   ]
  },
  {
   "cell_type": "markdown",
   "metadata": {
    "colab_type": "text",
    "id": "5KPeJu3uo16R"
   },
   "source": [
    "Vemos que la primera solución de pareto optimiza a los lugares que poseen una mayor distancia entre ellos, esto se observa en el gráfico"
   ]
  },
  {
   "cell_type": "code",
   "execution_count": 38,
   "metadata": {
    "colab": {
     "base_uri": "https://localhost:8080/",
     "height": 1000
    },
    "colab_type": "code",
    "id": "Kl4gRQlano5R",
    "outputId": "6950de12-5907-4c60-adfa-09b68b3e39fa"
   },
   "outputs": [
    {
     "data": {
      "text/html": [
       "<div style=\"width:100%;\"><div style=\"position:relative;width:100%;height:0;padding-bottom:60%;\"><iframe src=\"data:text/html;charset=utf-8;base64,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\" style=\"position:absolute;width:100%;height:100%;left:0;top:0;border:none !important;\" allowfullscreen webkitallowfullscreen mozallowfullscreen></iframe></div></div>"
      ],
      "text/plain": [
       "<folium.folium.Map at 0x7f46a34f5950>"
      ]
     },
     "execution_count": 38,
     "metadata": {},
     "output_type": "execute_result"
    }
   ],
   "source": [
    "m = folium.Map(\n",
    "    location=[-12.0431805, -77.0282364], zoom_start=13, zoomControl= False, min_zoom=13, max_zoom=13)\n",
    "\n",
    "[(folium.Marker([marketPool[i].lat, marketPool[i].lon], icon=folium.Icon(color='red')).add_to(m)) for i in range(len(pareto_front_population[0].chromosome)) if pareto_front_population[0].chromosome[i]==0]\n",
    "[(folium.Marker([marketPool[i].lat, marketPool[i].lon], icon=folium.Icon(color='blue')).add_to(m)) for i in range(len(pareto_front_population[0].chromosome)) if pareto_front_population[0].chromosome[i]==1]\n",
    "points = [(marketPool[i].lat, marketPool[i].lon) for i in range(len(pareto_front_population[0].chromosome)) if pareto_front_population[0].chromosome[i]==1]\n",
    "points.append(points[0])\n",
    "folium.PolyLine(points, color=\"red\", weight=2.5, opacity=1).add_to(m)\n",
    "\n",
    "m"
   ]
  },
  {
   "cell_type": "code",
   "execution_count": 39,
   "metadata": {
    "colab": {
     "base_uri": "https://localhost:8080/",
     "height": 34
    },
    "colab_type": "code",
    "id": "fjEnWtlVtWo8",
    "outputId": "ce9d6a7d-6c84-4718-a0ff-844e6fb6fa14"
   },
   "outputs": [
    {
     "name": "stdout",
     "output_type": "stream",
     "text": [
      "Esta solución tiene como cantidad de población 144350.0 y un maximo de distancia de entre locales de 19241.804127280077\n"
     ]
    }
   ],
   "source": [
    "print(\"Esta solución tiene como cantidad de población {} y un maximo de distancia de entre locales de {}\".format(pareto_front_population[0].fitness[0], pareto_front_population[0].fitness[1]))"
   ]
  },
  {
   "cell_type": "markdown",
   "metadata": {
    "colab_type": "text",
    "id": "bgGhw7bEprZ_"
   },
   "source": [
    "Ahora probaremos con la frontera de parto que intenta maximizar la distancia entre las ciudades y la población. Este valor estaba ubicado aproximadamente en la mitad"
   ]
  },
  {
   "cell_type": "code",
   "execution_count": 40,
   "metadata": {
    "colab": {
     "base_uri": "https://localhost:8080/",
     "height": 1000
    },
    "colab_type": "code",
    "id": "4W6vUuLSpqe8",
    "outputId": "165c009b-8831-45f7-949e-e445c0bc9dfa"
   },
   "outputs": [
    {
     "data": {
      "text/html": [
       "<div style=\"width:100%;\"><div style=\"position:relative;width:100%;height:0;padding-bottom:60%;\"><iframe src=\"data:text/html;charset=utf-8;base64,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\" style=\"position:absolute;width:100%;height:100%;left:0;top:0;border:none !important;\" allowfullscreen webkitallowfullscreen mozallowfullscreen></iframe></div></div>"
      ],
      "text/plain": [
       "<folium.folium.Map at 0x7f46a358fc50>"
      ]
     },
     "execution_count": 40,
     "metadata": {},
     "output_type": "execute_result"
    }
   ],
   "source": [
    "indexMid = int(round(len(pareto_front_population)/2, 0))\n",
    "m = folium.Map(\n",
    "    location=[-12.0431805, -77.0282364], zoom_start=13, zoomControl= False, min_zoom=13, max_zoom=13)\n",
    "\n",
    "[(folium.Marker([marketPool[i].lat, marketPool[i].lon], icon=folium.Icon(color='red')).add_to(m)) for i in range(len(pareto_front_population[indexMid].chromosome)) if pareto_front_population[indexMid].chromosome[i]==0]\n",
    "[(folium.Marker([marketPool[i].lat, marketPool[i].lon], icon=folium.Icon(color='blue')).add_to(m)) for i in range(len(pareto_front_population[indexMid].chromosome)) if pareto_front_population[indexMid].chromosome[i]==1]\n",
    "points = [(marketPool[i].lat, marketPool[i].lon) for i in range(len(pareto_front_population[indexMid].chromosome)) if pareto_front_population[indexMid].chromosome[i]==1]\n",
    "points.append(points[0])\n",
    "folium.PolyLine(points, color=\"red\", weight=2.5, opacity=1).add_to(m)\n",
    "\n",
    "m"
   ]
  },
  {
   "cell_type": "code",
   "execution_count": 41,
   "metadata": {
    "colab": {
     "base_uri": "https://localhost:8080/",
     "height": 34
    },
    "colab_type": "code",
    "id": "9F63eRa3t28y",
    "outputId": "766131e7-4e89-4715-a549-2596b181dcc1"
   },
   "outputs": [
    {
     "name": "stdout",
     "output_type": "stream",
     "text": [
      "Esta solución tiene como cantidad de población 167600.0 y un maximo de distancia de entre locales de 14599.491380601108\n"
     ]
    }
   ],
   "source": [
    "print(\"Esta solución tiene como cantidad de población {} y un maximo de distancia de entre locales de {}\".format(pareto_front_population[indexMid].fitness[0], pareto_front_population[indexMid].fitness[1]))"
   ]
  },
  {
   "cell_type": "markdown",
   "metadata": {
    "colab_type": "text",
    "id": "PVgjo-2Va3F9"
   },
   "source": [
    "**j) Experimentación con el algoritmo**"
   ]
  },
  {
   "cell_type": "markdown",
   "metadata": {
    "colab_type": "text",
    "id": "uhQGVCXQa3F-"
   },
   "source": [
    "Experimente varias\n",
    "veces el algoritmo implementado con una población de 100 individuos y 500 generaciones\n",
    "(se sugiere ejecutar 10 veces). En cada ejecución registre los individuos de la frontera de\n",
    "Pareto final, así como los valores de las funciones objetivos de dichos individuo. Realice\n",
    "Plots de las fronteras de Pareto encontradas, ubicando en dichos plots los puntos de los\n",
    "mejores individuos encontrados con el algoritmo mono-objetivo."
   ]
  },
  {
   "cell_type": "code",
   "execution_count": 42,
   "metadata": {
    "colab": {
     "base_uri": "https://localhost:8080/",
     "height": 1000
    },
    "colab_type": "code",
    "collapsed": true,
    "id": "IaqnfKN_a3F_",
    "jupyter": {
     "outputs_hidden": true
    },
    "outputId": "f069296e-046e-4b6f-afda-5a8121df3aee"
   },
   "outputs": [
    {
     "name": "stdout",
     "output_type": "stream",
     "text": [
      "Iteracion 1\n",
      "Generacion 0 (de 500) \n",
      "Generacion 10 (de 500) \n",
      "Generacion 20 (de 500) \n",
      "Generacion 30 (de 500) \n",
      "Generacion 40 (de 500) \n",
      "Generacion 50 (de 500) \n",
      "Generacion 60 (de 500) \n",
      "Generacion 70 (de 500) \n",
      "Generacion 80 (de 500) \n",
      "Generacion 90 (de 500) \n",
      "Generacion 100 (de 500) \n",
      "Generacion 110 (de 500) \n",
      "Generacion 120 (de 500) \n",
      "Generacion 130 (de 500) \n",
      "Generacion 140 (de 500) \n",
      "Generacion 150 (de 500) \n",
      "Generacion 160 (de 500) \n",
      "Generacion 170 (de 500) \n",
      "Generacion 180 (de 500) \n",
      "Generacion 190 (de 500) \n",
      "Generacion 200 (de 500) \n",
      "Generacion 210 (de 500) \n",
      "Generacion 220 (de 500) \n",
      "Generacion 230 (de 500) \n",
      "Generacion 240 (de 500) \n",
      "Generacion 250 (de 500) \n",
      "Generacion 260 (de 500) \n",
      "Generacion 270 (de 500) \n",
      "Generacion 280 (de 500) \n",
      "Generacion 290 (de 500) \n",
      "Generacion 300 (de 500) \n",
      "Generacion 310 (de 500) \n",
      "Generacion 320 (de 500) \n",
      "Generacion 330 (de 500) \n",
      "Generacion 340 (de 500) \n",
      "Generacion 350 (de 500) \n",
      "Generacion 360 (de 500) \n",
      "Generacion 370 (de 500) \n",
      "Generacion 380 (de 500) \n",
      "Generacion 390 (de 500) \n",
      "Generacion 400 (de 500) \n",
      "Generacion 410 (de 500) \n",
      "Generacion 420 (de 500) \n",
      "Generacion 430 (de 500) \n",
      "Generacion 440 (de 500) \n",
      "Generacion 450 (de 500) \n",
      "Generacion 460 (de 500) \n",
      "Generacion 470 (de 500) \n",
      "Generacion 480 (de 500) \n",
      "Generacion 490 (de 500) \n",
      "Iteracion 2\n",
      "Generacion 0 (de 500) \n",
      "Generacion 10 (de 500) \n",
      "Generacion 20 (de 500) \n",
      "Generacion 30 (de 500) \n",
      "Generacion 40 (de 500) \n",
      "Generacion 50 (de 500) \n",
      "Generacion 60 (de 500) \n",
      "Generacion 70 (de 500) \n",
      "Generacion 80 (de 500) \n",
      "Generacion 90 (de 500) \n",
      "Generacion 100 (de 500) \n",
      "Generacion 110 (de 500) \n",
      "Generacion 120 (de 500) \n",
      "Generacion 130 (de 500) \n",
      "Generacion 140 (de 500) \n",
      "Generacion 150 (de 500) \n",
      "Generacion 160 (de 500) \n",
      "Generacion 170 (de 500) \n",
      "Generacion 180 (de 500) \n",
      "Generacion 190 (de 500) \n",
      "Generacion 200 (de 500) \n",
      "Generacion 210 (de 500) \n",
      "Generacion 220 (de 500) \n",
      "Generacion 230 (de 500) \n",
      "Generacion 240 (de 500) \n",
      "Generacion 250 (de 500) \n",
      "Generacion 260 (de 500) \n",
      "Generacion 270 (de 500) \n",
      "Generacion 280 (de 500) \n",
      "Generacion 290 (de 500) \n",
      "Generacion 300 (de 500) \n",
      "Generacion 310 (de 500) \n",
      "Generacion 320 (de 500) \n",
      "Generacion 330 (de 500) \n",
      "Generacion 340 (de 500) \n",
      "Generacion 350 (de 500) \n",
      "Generacion 360 (de 500) \n",
      "Generacion 370 (de 500) \n",
      "Generacion 380 (de 500) \n",
      "Generacion 390 (de 500) \n",
      "Generacion 400 (de 500) \n",
      "Generacion 410 (de 500) \n",
      "Generacion 420 (de 500) \n",
      "Generacion 430 (de 500) \n",
      "Generacion 440 (de 500) \n",
      "Generacion 450 (de 500) \n",
      "Generacion 460 (de 500) \n",
      "Generacion 470 (de 500) \n",
      "Generacion 480 (de 500) \n",
      "Generacion 490 (de 500) \n",
      "Iteracion 3\n",
      "Generacion 0 (de 500) \n",
      "Generacion 10 (de 500) \n",
      "Generacion 20 (de 500) \n",
      "Generacion 30 (de 500) \n",
      "Generacion 40 (de 500) \n",
      "Generacion 50 (de 500) \n",
      "Generacion 60 (de 500) \n",
      "Generacion 70 (de 500) \n",
      "Generacion 80 (de 500) \n",
      "Generacion 90 (de 500) \n",
      "Generacion 100 (de 500) \n",
      "Generacion 110 (de 500) \n",
      "Generacion 120 (de 500) \n",
      "Generacion 130 (de 500) \n",
      "Generacion 140 (de 500) \n",
      "Generacion 150 (de 500) \n",
      "Generacion 160 (de 500) \n",
      "Generacion 170 (de 500) \n",
      "Generacion 180 (de 500) \n",
      "Generacion 190 (de 500) \n",
      "Generacion 200 (de 500) \n",
      "Generacion 210 (de 500) \n",
      "Generacion 220 (de 500) \n",
      "Generacion 230 (de 500) \n",
      "Generacion 240 (de 500) \n",
      "Generacion 250 (de 500) \n",
      "Generacion 260 (de 500) \n",
      "Generacion 270 (de 500) \n",
      "Generacion 280 (de 500) \n",
      "Generacion 290 (de 500) \n",
      "Generacion 300 (de 500) \n",
      "Generacion 310 (de 500) \n",
      "Generacion 320 (de 500) \n",
      "Generacion 330 (de 500) \n",
      "Generacion 340 (de 500) \n",
      "Generacion 350 (de 500) \n",
      "Generacion 360 (de 500) \n",
      "Generacion 370 (de 500) \n",
      "Generacion 380 (de 500) \n",
      "Generacion 390 (de 500) \n",
      "Generacion 400 (de 500) \n",
      "Generacion 410 (de 500) \n",
      "Generacion 420 (de 500) \n",
      "Generacion 430 (de 500) \n",
      "Generacion 440 (de 500) \n",
      "Generacion 450 (de 500) \n",
      "Generacion 460 (de 500) \n",
      "Generacion 470 (de 500) \n",
      "Generacion 480 (de 500) \n",
      "Generacion 490 (de 500) \n",
      "Iteracion 4\n",
      "Generacion 0 (de 500) \n",
      "Generacion 10 (de 500) \n",
      "Generacion 20 (de 500) \n",
      "Generacion 30 (de 500) \n",
      "Generacion 40 (de 500) \n",
      "Generacion 50 (de 500) \n",
      "Generacion 60 (de 500) \n",
      "Generacion 70 (de 500) \n",
      "Generacion 80 (de 500) \n",
      "Generacion 90 (de 500) \n",
      "Generacion 100 (de 500) \n",
      "Generacion 110 (de 500) \n",
      "Generacion 120 (de 500) \n",
      "Generacion 130 (de 500) \n",
      "Generacion 140 (de 500) \n",
      "Generacion 150 (de 500) \n",
      "Generacion 160 (de 500) \n",
      "Generacion 170 (de 500) \n",
      "Generacion 180 (de 500) \n",
      "Generacion 190 (de 500) \n",
      "Generacion 200 (de 500) \n",
      "Generacion 210 (de 500) \n",
      "Generacion 220 (de 500) \n",
      "Generacion 230 (de 500) \n",
      "Generacion 240 (de 500) \n",
      "Generacion 250 (de 500) \n",
      "Generacion 260 (de 500) \n",
      "Generacion 270 (de 500) \n",
      "Generacion 280 (de 500) \n",
      "Generacion 290 (de 500) \n",
      "Generacion 300 (de 500) \n",
      "Generacion 310 (de 500) \n",
      "Generacion 320 (de 500) \n",
      "Generacion 330 (de 500) \n",
      "Generacion 340 (de 500) \n",
      "Generacion 350 (de 500) \n",
      "Generacion 360 (de 500) \n",
      "Generacion 370 (de 500) \n",
      "Generacion 380 (de 500) \n",
      "Generacion 390 (de 500) \n",
      "Generacion 400 (de 500) \n",
      "Generacion 410 (de 500) \n",
      "Generacion 420 (de 500) \n",
      "Generacion 430 (de 500) \n",
      "Generacion 440 (de 500) \n",
      "Generacion 450 (de 500) \n",
      "Generacion 460 (de 500) \n",
      "Generacion 470 (de 500) \n",
      "Generacion 480 (de 500) \n",
      "Generacion 490 (de 500) \n",
      "Iteracion 5\n",
      "Generacion 0 (de 500) \n",
      "Generacion 10 (de 500) \n",
      "Generacion 20 (de 500) \n",
      "Generacion 30 (de 500) \n",
      "Generacion 40 (de 500) \n",
      "Generacion 50 (de 500) \n",
      "Generacion 60 (de 500) \n",
      "Generacion 70 (de 500) \n",
      "Generacion 80 (de 500) \n",
      "Generacion 90 (de 500) \n",
      "Generacion 100 (de 500) \n",
      "Generacion 110 (de 500) \n",
      "Generacion 120 (de 500) \n",
      "Generacion 130 (de 500) \n",
      "Generacion 140 (de 500) \n",
      "Generacion 150 (de 500) \n",
      "Generacion 160 (de 500) \n",
      "Generacion 170 (de 500) \n",
      "Generacion 180 (de 500) \n",
      "Generacion 190 (de 500) \n",
      "Generacion 200 (de 500) \n",
      "Generacion 210 (de 500) \n",
      "Generacion 220 (de 500) \n",
      "Generacion 230 (de 500) \n",
      "Generacion 240 (de 500) \n",
      "Generacion 250 (de 500) \n",
      "Generacion 260 (de 500) \n",
      "Generacion 270 (de 500) \n",
      "Generacion 280 (de 500) \n",
      "Generacion 290 (de 500) \n",
      "Generacion 300 (de 500) \n",
      "Generacion 310 (de 500) \n",
      "Generacion 320 (de 500) \n",
      "Generacion 330 (de 500) \n",
      "Generacion 340 (de 500) \n",
      "Generacion 350 (de 500) \n",
      "Generacion 360 (de 500) \n",
      "Generacion 370 (de 500) \n",
      "Generacion 380 (de 500) \n",
      "Generacion 390 (de 500) \n",
      "Generacion 400 (de 500) \n",
      "Generacion 410 (de 500) \n",
      "Generacion 420 (de 500) \n",
      "Generacion 430 (de 500) \n",
      "Generacion 440 (de 500) \n",
      "Generacion 450 (de 500) \n",
      "Generacion 460 (de 500) \n",
      "Generacion 470 (de 500) \n",
      "Generacion 480 (de 500) \n",
      "Generacion 490 (de 500) \n",
      "Iteracion 6\n",
      "Generacion 0 (de 500) \n",
      "Generacion 10 (de 500) \n",
      "Generacion 20 (de 500) \n",
      "Generacion 30 (de 500) \n",
      "Generacion 40 (de 500) \n",
      "Generacion 50 (de 500) \n",
      "Generacion 60 (de 500) \n",
      "Generacion 70 (de 500) \n",
      "Generacion 80 (de 500) \n",
      "Generacion 90 (de 500) \n",
      "Generacion 100 (de 500) \n",
      "Generacion 110 (de 500) \n",
      "Generacion 120 (de 500) \n",
      "Generacion 130 (de 500) \n",
      "Generacion 140 (de 500) \n",
      "Generacion 150 (de 500) \n",
      "Generacion 160 (de 500) \n",
      "Generacion 170 (de 500) \n",
      "Generacion 180 (de 500) \n",
      "Generacion 190 (de 500) \n",
      "Generacion 200 (de 500) \n",
      "Generacion 210 (de 500) \n",
      "Generacion 220 (de 500) \n",
      "Generacion 230 (de 500) \n",
      "Generacion 240 (de 500) \n",
      "Generacion 250 (de 500) \n",
      "Generacion 260 (de 500) \n",
      "Generacion 270 (de 500) \n",
      "Generacion 280 (de 500) \n",
      "Generacion 290 (de 500) \n",
      "Generacion 300 (de 500) \n",
      "Generacion 310 (de 500) \n",
      "Generacion 320 (de 500) \n",
      "Generacion 330 (de 500) \n",
      "Generacion 340 (de 500) \n",
      "Generacion 350 (de 500) \n",
      "Generacion 360 (de 500) \n",
      "Generacion 370 (de 500) \n",
      "Generacion 380 (de 500) \n",
      "Generacion 390 (de 500) \n",
      "Generacion 400 (de 500) \n",
      "Generacion 410 (de 500) \n",
      "Generacion 420 (de 500) \n",
      "Generacion 430 (de 500) \n",
      "Generacion 440 (de 500) \n",
      "Generacion 450 (de 500) \n",
      "Generacion 460 (de 500) \n",
      "Generacion 470 (de 500) \n",
      "Generacion 480 (de 500) \n",
      "Generacion 490 (de 500) \n",
      "Iteracion 7\n",
      "Generacion 0 (de 500) \n",
      "Generacion 10 (de 500) \n",
      "Generacion 20 (de 500) \n",
      "Generacion 30 (de 500) \n",
      "Generacion 40 (de 500) \n",
      "Generacion 50 (de 500) \n",
      "Generacion 60 (de 500) \n",
      "Generacion 70 (de 500) \n",
      "Generacion 80 (de 500) \n",
      "Generacion 90 (de 500) \n",
      "Generacion 100 (de 500) \n",
      "Generacion 110 (de 500) \n",
      "Generacion 120 (de 500) \n",
      "Generacion 130 (de 500) \n",
      "Generacion 140 (de 500) \n",
      "Generacion 150 (de 500) \n",
      "Generacion 160 (de 500) \n",
      "Generacion 170 (de 500) \n",
      "Generacion 180 (de 500) \n",
      "Generacion 190 (de 500) \n",
      "Generacion 200 (de 500) \n",
      "Generacion 210 (de 500) \n",
      "Generacion 220 (de 500) \n",
      "Generacion 230 (de 500) \n",
      "Generacion 240 (de 500) \n",
      "Generacion 250 (de 500) \n",
      "Generacion 260 (de 500) \n",
      "Generacion 270 (de 500) \n",
      "Generacion 280 (de 500) \n",
      "Generacion 290 (de 500) \n",
      "Generacion 300 (de 500) \n",
      "Generacion 310 (de 500) \n",
      "Generacion 320 (de 500) \n",
      "Generacion 330 (de 500) \n",
      "Generacion 340 (de 500) \n",
      "Generacion 350 (de 500) \n",
      "Generacion 360 (de 500) \n",
      "Generacion 370 (de 500) \n",
      "Generacion 380 (de 500) \n",
      "Generacion 390 (de 500) \n",
      "Generacion 400 (de 500) \n",
      "Generacion 410 (de 500) \n",
      "Generacion 420 (de 500) \n",
      "Generacion 430 (de 500) \n",
      "Generacion 440 (de 500) \n",
      "Generacion 450 (de 500) \n",
      "Generacion 460 (de 500) \n",
      "Generacion 470 (de 500) \n",
      "Generacion 480 (de 500) \n",
      "Generacion 490 (de 500) \n",
      "Iteracion 8\n",
      "Generacion 0 (de 500) \n",
      "Generacion 10 (de 500) \n",
      "Generacion 20 (de 500) \n",
      "Generacion 30 (de 500) \n",
      "Generacion 40 (de 500) \n",
      "Generacion 50 (de 500) \n",
      "Generacion 60 (de 500) \n",
      "Generacion 70 (de 500) \n",
      "Generacion 80 (de 500) \n",
      "Generacion 90 (de 500) \n",
      "Generacion 100 (de 500) \n",
      "Generacion 110 (de 500) \n",
      "Generacion 120 (de 500) \n",
      "Generacion 130 (de 500) \n",
      "Generacion 140 (de 500) \n",
      "Generacion 150 (de 500) \n",
      "Generacion 160 (de 500) \n",
      "Generacion 170 (de 500) \n",
      "Generacion 180 (de 500) \n",
      "Generacion 190 (de 500) \n",
      "Generacion 200 (de 500) \n",
      "Generacion 210 (de 500) \n",
      "Generacion 220 (de 500) \n",
      "Generacion 230 (de 500) \n",
      "Generacion 240 (de 500) \n",
      "Generacion 250 (de 500) \n",
      "Generacion 260 (de 500) \n",
      "Generacion 270 (de 500) \n",
      "Generacion 280 (de 500) \n",
      "Generacion 290 (de 500) \n",
      "Generacion 300 (de 500) \n",
      "Generacion 310 (de 500) \n",
      "Generacion 320 (de 500) \n",
      "Generacion 330 (de 500) \n",
      "Generacion 340 (de 500) \n",
      "Generacion 350 (de 500) \n",
      "Generacion 360 (de 500) \n",
      "Generacion 370 (de 500) \n",
      "Generacion 380 (de 500) \n",
      "Generacion 390 (de 500) \n",
      "Generacion 400 (de 500) \n",
      "Generacion 410 (de 500) \n",
      "Generacion 420 (de 500) \n",
      "Generacion 430 (de 500) \n",
      "Generacion 440 (de 500) \n",
      "Generacion 450 (de 500) \n",
      "Generacion 460 (de 500) \n",
      "Generacion 470 (de 500) \n",
      "Generacion 480 (de 500) \n",
      "Generacion 490 (de 500) \n",
      "Iteracion 9\n",
      "Generacion 0 (de 500) \n",
      "Generacion 10 (de 500) \n",
      "Generacion 20 (de 500) \n",
      "Generacion 30 (de 500) \n",
      "Generacion 40 (de 500) \n",
      "Generacion 50 (de 500) \n",
      "Generacion 60 (de 500) \n",
      "Generacion 70 (de 500) \n",
      "Generacion 80 (de 500) \n",
      "Generacion 90 (de 500) \n",
      "Generacion 100 (de 500) \n",
      "Generacion 110 (de 500) \n",
      "Generacion 120 (de 500) \n",
      "Generacion 130 (de 500) \n",
      "Generacion 140 (de 500) \n",
      "Generacion 150 (de 500) \n",
      "Generacion 160 (de 500) \n",
      "Generacion 170 (de 500) \n",
      "Generacion 180 (de 500) \n",
      "Generacion 190 (de 500) \n",
      "Generacion 200 (de 500) \n",
      "Generacion 210 (de 500) \n",
      "Generacion 220 (de 500) \n",
      "Generacion 230 (de 500) \n",
      "Generacion 240 (de 500) \n",
      "Generacion 250 (de 500) \n",
      "Generacion 260 (de 500) \n",
      "Generacion 270 (de 500) \n",
      "Generacion 280 (de 500) \n",
      "Generacion 290 (de 500) \n",
      "Generacion 300 (de 500) \n",
      "Generacion 310 (de 500) \n",
      "Generacion 320 (de 500) \n",
      "Generacion 330 (de 500) \n",
      "Generacion 340 (de 500) \n",
      "Generacion 350 (de 500) \n",
      "Generacion 360 (de 500) \n",
      "Generacion 370 (de 500) \n",
      "Generacion 380 (de 500) \n",
      "Generacion 390 (de 500) \n",
      "Generacion 400 (de 500) \n",
      "Generacion 410 (de 500) \n",
      "Generacion 420 (de 500) \n",
      "Generacion 430 (de 500) \n",
      "Generacion 440 (de 500) \n",
      "Generacion 450 (de 500) \n",
      "Generacion 460 (de 500) \n",
      "Generacion 470 (de 500) \n",
      "Generacion 480 (de 500) \n",
      "Generacion 490 (de 500) \n",
      "Iteracion 10\n",
      "Generacion 0 (de 500) \n",
      "Generacion 10 (de 500) \n",
      "Generacion 20 (de 500) \n",
      "Generacion 30 (de 500) \n",
      "Generacion 40 (de 500) \n",
      "Generacion 50 (de 500) \n",
      "Generacion 60 (de 500) \n",
      "Generacion 70 (de 500) \n",
      "Generacion 80 (de 500) \n",
      "Generacion 90 (de 500) \n",
      "Generacion 100 (de 500) \n",
      "Generacion 110 (de 500) \n",
      "Generacion 120 (de 500) \n",
      "Generacion 130 (de 500) \n",
      "Generacion 140 (de 500) \n",
      "Generacion 150 (de 500) \n",
      "Generacion 160 (de 500) \n",
      "Generacion 170 (de 500) \n",
      "Generacion 180 (de 500) \n",
      "Generacion 190 (de 500) \n",
      "Generacion 200 (de 500) \n",
      "Generacion 210 (de 500) \n",
      "Generacion 220 (de 500) \n",
      "Generacion 230 (de 500) \n",
      "Generacion 240 (de 500) \n",
      "Generacion 250 (de 500) \n",
      "Generacion 260 (de 500) \n",
      "Generacion 270 (de 500) \n",
      "Generacion 280 (de 500) \n",
      "Generacion 290 (de 500) \n",
      "Generacion 300 (de 500) \n",
      "Generacion 310 (de 500) \n",
      "Generacion 320 (de 500) \n",
      "Generacion 330 (de 500) \n",
      "Generacion 340 (de 500) \n",
      "Generacion 350 (de 500) \n",
      "Generacion 360 (de 500) \n",
      "Generacion 370 (de 500) \n",
      "Generacion 380 (de 500) \n",
      "Generacion 390 (de 500) \n",
      "Generacion 400 (de 500) \n",
      "Generacion 410 (de 500) \n",
      "Generacion 420 (de 500) \n",
      "Generacion 430 (de 500) \n",
      "Generacion 440 (de 500) \n",
      "Generacion 450 (de 500) \n",
      "Generacion 460 (de 500) \n",
      "Generacion 470 (de 500) \n",
      "Generacion 480 (de 500) \n",
      "Generacion 490 (de 500) \n"
     ]
    }
   ],
   "source": [
    "## Hiperparametros del algoritmo genetico\n",
    "POP_SIZE = 100       # numero de individuos\n",
    "GENERATIONS = 500   # numero de generaciones\n",
    "PMUT = 1       # tasa de mutacion, influye en el resultado\n",
    "MIN_POP_SIZE = 100    # numero de individuos minimo\n",
    "MAX_POP_SIZE = 100    # numero de individuos maximo\n",
    "\n",
    "num_iteracion,individuos_pareto,obj_pob,obj_dist=([] for _ in range(4))\n",
    "for i in range(10):\n",
    "    \n",
    "    ## Inicializa una poblacion inicial de forma aleatoria\n",
    "    P = init_population(POP_SIZE,maxMark=10)\n",
    "\n",
    "    evaluate_population_nsga(P,marketPool)    #  evalua la poblacion inicial\n",
    "    print(f'Iteracion {i+1}')\n",
    "    ## Ejecuta los ciclos evolutivos \n",
    "    for g in range(GENERATIONS):   # Por cada generacion\n",
    "        if g %10 == 0:\n",
    "            print ('Generacion {} (de {}) '.format(g, GENERATIONS))\n",
    "\n",
    "        ## genera y evalua la poblacion hija    \n",
    "        Q = build_offspring_population(P, \"uniform\", \"flip\", PMUT)\n",
    "        evaluate_population_nsga(Q, marketPool)\n",
    "\n",
    "        ## une la poblacion padre y la poblacion hija\n",
    "        P.extend(Q) \n",
    "\n",
    "        ## Construye la poblacion de la siguiente generacion\n",
    "        P = build_next_population(P, MIN_POP_SIZE, MAX_POP_SIZE)\n",
    "\n",
    "    # Obtiene la poblacion de la frontera de pareto final \n",
    "    pareto_front_population = get_paretofront_population(P) \n",
    "    \n",
    "    num_iteracion.append([i for _ in range(len(pareto_front_population)) ]) #Almacenamos el numero de iteracion para distingirlos en el dataframe\n",
    "    individuos_pareto.append(pareto_front_population) #Almacenamos los individuos que se encuentran en la frontera de pareto\n",
    "    obj_pob.append([individuo.fitness[0] for individuo in pareto_front_population]) #Almacenamos el objetivo poblacion de cada individuo\n",
    "    obj_dist.append([individuo.fitness[1] for individuo in pareto_front_population]) #Almacenamos el objetivo distancia de cada individuo"
   ]
  },
  {
   "cell_type": "markdown",
   "metadata": {
    "colab_type": "text",
    "id": "_LjF__WQa3GD"
   },
   "source": [
    "Flatten para cada lista"
   ]
  },
  {
   "cell_type": "code",
   "execution_count": 43,
   "metadata": {
    "colab": {},
    "colab_type": "code",
    "id": "-3wMPEWNa3GE"
   },
   "outputs": [],
   "source": [
    "num_iteracion=[item for sublist in num_iteracion for item in sublist]\n",
    "individuos_pareto=[item for sublist in individuos_pareto for item in sublist]\n",
    "obj_pob=[item for sublist in obj_pob for item in sublist]\n",
    "obj_dist=[item for sublist in obj_dist for item in sublist]"
   ]
  },
  {
   "cell_type": "code",
   "execution_count": 44,
   "metadata": {
    "colab": {
     "base_uri": "https://localhost:8080/",
     "height": 419
    },
    "colab_type": "code",
    "id": "CGEE-nUwa3GG",
    "outputId": "7b5811aa-5d41-418f-b457-5ffd84bf847e"
   },
   "outputs": [
    {
     "data": {
      "text/html": [
       "<div>\n",
       "<style scoped>\n",
       "    .dataframe tbody tr th:only-of-type {\n",
       "        vertical-align: middle;\n",
       "    }\n",
       "\n",
       "    .dataframe tbody tr th {\n",
       "        vertical-align: top;\n",
       "    }\n",
       "\n",
       "    .dataframe thead th {\n",
       "        text-align: right;\n",
       "    }\n",
       "</style>\n",
       "<table border=\"1\" class=\"dataframe\">\n",
       "  <thead>\n",
       "    <tr style=\"text-align: right;\">\n",
       "      <th></th>\n",
       "      <th>numero_iteracion</th>\n",
       "      <th>individuos_pareto</th>\n",
       "      <th>objetivo_poblacion</th>\n",
       "      <th>objetivo_distancia</th>\n",
       "    </tr>\n",
       "  </thead>\n",
       "  <tbody>\n",
       "    <tr>\n",
       "      <th>0</th>\n",
       "      <td>0</td>\n",
       "      <td>&lt;__main__.Individual object at 0x7f46a3a27090&gt;</td>\n",
       "      <td>180650.0</td>\n",
       "      <td>12185.885870</td>\n",
       "    </tr>\n",
       "    <tr>\n",
       "      <th>1</th>\n",
       "      <td>0</td>\n",
       "      <td>&lt;__main__.Individual object at 0x7f46a39fc410&gt;</td>\n",
       "      <td>162550.0</td>\n",
       "      <td>15359.669046</td>\n",
       "    </tr>\n",
       "    <tr>\n",
       "      <th>2</th>\n",
       "      <td>0</td>\n",
       "      <td>&lt;__main__.Individual object at 0x7f46a4d61b50&gt;</td>\n",
       "      <td>124750.0</td>\n",
       "      <td>23042.818309</td>\n",
       "    </tr>\n",
       "    <tr>\n",
       "      <th>3</th>\n",
       "      <td>0</td>\n",
       "      <td>&lt;__main__.Individual object at 0x7f46a4d61a10&gt;</td>\n",
       "      <td>161250.0</td>\n",
       "      <td>15715.609747</td>\n",
       "    </tr>\n",
       "    <tr>\n",
       "      <th>4</th>\n",
       "      <td>0</td>\n",
       "      <td>&lt;__main__.Individual object at 0x7f46a34ffc50&gt;</td>\n",
       "      <td>170650.0</td>\n",
       "      <td>13810.740079</td>\n",
       "    </tr>\n",
       "    <tr>\n",
       "      <th>...</th>\n",
       "      <td>...</td>\n",
       "      <td>...</td>\n",
       "      <td>...</td>\n",
       "      <td>...</td>\n",
       "    </tr>\n",
       "    <tr>\n",
       "      <th>995</th>\n",
       "      <td>9</td>\n",
       "      <td>&lt;__main__.Individual object at 0x7f46a3c5af10&gt;</td>\n",
       "      <td>180450.0</td>\n",
       "      <td>12271.870977</td>\n",
       "    </tr>\n",
       "    <tr>\n",
       "      <th>996</th>\n",
       "      <td>9</td>\n",
       "      <td>&lt;__main__.Individual object at 0x7f46a3c5a450&gt;</td>\n",
       "      <td>152550.0</td>\n",
       "      <td>17569.430740</td>\n",
       "    </tr>\n",
       "    <tr>\n",
       "      <th>997</th>\n",
       "      <td>9</td>\n",
       "      <td>&lt;__main__.Individual object at 0x7f46a3c5a0d0&gt;</td>\n",
       "      <td>149650.0</td>\n",
       "      <td>18206.266223</td>\n",
       "    </tr>\n",
       "    <tr>\n",
       "      <th>998</th>\n",
       "      <td>9</td>\n",
       "      <td>&lt;__main__.Individual object at 0x7f46a3b1bd90&gt;</td>\n",
       "      <td>161650.0</td>\n",
       "      <td>15491.882835</td>\n",
       "    </tr>\n",
       "    <tr>\n",
       "      <th>999</th>\n",
       "      <td>9</td>\n",
       "      <td>&lt;__main__.Individual object at 0x7f46a3b1bb50&gt;</td>\n",
       "      <td>170450.0</td>\n",
       "      <td>13755.276691</td>\n",
       "    </tr>\n",
       "  </tbody>\n",
       "</table>\n",
       "<p>1000 rows × 4 columns</p>\n",
       "</div>"
      ],
      "text/plain": [
       "     numero_iteracion                               individuos_pareto  \\\n",
       "0                   0  <__main__.Individual object at 0x7f46a3a27090>   \n",
       "1                   0  <__main__.Individual object at 0x7f46a39fc410>   \n",
       "2                   0  <__main__.Individual object at 0x7f46a4d61b50>   \n",
       "3                   0  <__main__.Individual object at 0x7f46a4d61a10>   \n",
       "4                   0  <__main__.Individual object at 0x7f46a34ffc50>   \n",
       "..                ...                                             ...   \n",
       "995                 9  <__main__.Individual object at 0x7f46a3c5af10>   \n",
       "996                 9  <__main__.Individual object at 0x7f46a3c5a450>   \n",
       "997                 9  <__main__.Individual object at 0x7f46a3c5a0d0>   \n",
       "998                 9  <__main__.Individual object at 0x7f46a3b1bd90>   \n",
       "999                 9  <__main__.Individual object at 0x7f46a3b1bb50>   \n",
       "\n",
       "     objetivo_poblacion  objetivo_distancia  \n",
       "0              180650.0        12185.885870  \n",
       "1              162550.0        15359.669046  \n",
       "2              124750.0        23042.818309  \n",
       "3              161250.0        15715.609747  \n",
       "4              170650.0        13810.740079  \n",
       "..                  ...                 ...  \n",
       "995            180450.0        12271.870977  \n",
       "996            152550.0        17569.430740  \n",
       "997            149650.0        18206.266223  \n",
       "998            161650.0        15491.882835  \n",
       "999            170450.0        13755.276691  \n",
       "\n",
       "[1000 rows x 4 columns]"
      ]
     },
     "execution_count": 44,
     "metadata": {},
     "output_type": "execute_result"
    }
   ],
   "source": [
    "resultados_multi_obj=pd.DataFrame({'numero_iteracion':num_iteracion,'individuos_pareto':individuos_pareto,\n",
    "                                   'objetivo_poblacion':obj_pob,'objetivo_distancia':obj_dist})\n",
    "resultados_multi_obj"
   ]
  },
  {
   "cell_type": "markdown",
   "metadata": {
    "colab_type": "text",
    "id": "vz63KkFYa3GL"
   },
   "source": [
    "**k) Plots de las fronteras de pareto**"
   ]
  },
  {
   "cell_type": "code",
   "execution_count": 45,
   "metadata": {
    "colab": {
     "base_uri": "https://localhost:8080/",
     "height": 702
    },
    "colab_type": "code",
    "id": "SVKMQt0Ea3GM",
    "outputId": "3c9ebbd4-033b-4a64-c0bd-a296b1202c72"
   },
   "outputs": [
    {
     "data": {
      "image/png": "[encoded data removed]",
      "text/plain": [
       "<Figure size 1440x720 with 10 Axes>"
      ]
     },
     "metadata": {
      "needs_background": "light"
     },
     "output_type": "display_data"
    }
   ],
   "source": [
    "fig,axes=plt.subplots(nrows=2, ncols=5,figsize=(20,10))\n",
    "fig.tight_layout(pad=4)\n",
    "for i in range(10):\n",
    "    subplot=plt.subplot(2,5, i+1)    \n",
    "    plt.title(f'Iteración {i+1}', loc='center', fontsize=20, fontweight=0)\n",
    "    fitnesses = np.zeros([pop_size, num_objectives])\n",
    "    for j in range(pop_size): fitnesses[j,:] = resultados_multi_obj.individuos_pareto[resultados_multi_obj.numero_iteracion == i].iloc[j].fitness\n",
    "    x = fitnesses[:, 0]/CHROMOSOME_SIZE*100\n",
    "    y = fitnesses[:, 1]/CHROMOSOME_SIZE*100\n",
    "    plt.xlabel('Objectivo Poblacion - % maximo obtenible') #Primer objetivo: Maximizar el valor de la mochila\n",
    "    plt.ylabel('Objectivo Distancia - % maximo obtenible') #Segundo objetivo: Minimizar el peso de la mochila\n",
    "    plt.scatter(x,y)\n",
    "    #Plot de los mejores individuos encontrados con el algoritmo mono objetivo\n",
    "    x_multi=resultados_mono_obj.iloc[i].suma_poblacion/CHROMOSOME_SIZE*100\n",
    "    y_multi=resultados_mono_obj.iloc[i].suma_distancia/CHROMOSOME_SIZE*100\n",
    "    plt.scatter(x_multi,y_multi,c='red')"
   ]
  }
 ],
 "metadata": {
  "colab": {
   "collapsed_sections": [],
   "name": "OptimizacionMarket.ipynb",
   "provenance": []
  },
  "kernelspec": {
   "display_name": "Python [conda env:ArtInte]",
   "language": "python",
   "name": "conda-env-ArtInte-py"
  },
  "language_info": {
   "codemirror_mode": {
    "name": "ipython",
    "version": 3
   },
   "file_extension": ".py",
   "mimetype": "text/x-python",
   "name": "python",
   "nbconvert_exporter": "python",
   "pygments_lexer": "ipython3",
   "version": "3.7.5"
  }
 },
 "nbformat": 4,
 "nbformat_minor": 4
}
