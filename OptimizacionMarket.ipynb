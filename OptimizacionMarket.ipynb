{
 "cells": [
  {
   "cell_type": "markdown",
   "metadata": {
    "colab_type": "text",
    "id": "skYKoK28a3EK"
   },
   "source": [
    "# **Proyecto final: Usando computación evolutiva para encontrar localizaciones optimas de una cadena de supermercados**"
   ]
  },
  {
   "cell_type": "markdown",
   "metadata": {
    "colab_type": "text",
    "id": "IRrENozVa3EN"
   },
   "source": [
    "## **1) Algoritmo genético mono-objetivo**"
   ]
  },
  {
   "cell_type": "markdown",
   "metadata": {
    "colab_type": "text",
    "id": "FZrZ6t_Oa3EO"
   },
   "source": [
    "**a) Importando las librerias necesarias**"
   ]
  },
  {
   "cell_type": "code",
   "execution_count": 57,
   "metadata": {
    "colab": {
     "base_uri": "https://localhost:8080/",
     "height": 340
    },
    "colab_type": "code",
    "collapsed": true,
    "id": "76Lt5Nvqcyao",
    "jupyter": {
     "outputs_hidden": true
    },
    "outputId": "119987de-26df-49f0-c3e9-0781c313cc5c"
   },
   "outputs": [
    {
     "name": "stdout",
     "output_type": "stream",
     "text": [
      "Collecting git+https://github.com/python-visualization/folium\n",
      "  Cloning https://github.com/python-visualization/folium to /tmp/pip-req-build-8y291e_i\n",
      "  Running command git clone -q https://github.com/python-visualization/folium /tmp/pip-req-build-8y291e_i\n",
      "Requirement already satisfied (use --upgrade to upgrade): folium==0.10.0+4.ga1e3686 from git+https://github.com/python-visualization/folium in /usr/local/lib/python3.6/dist-packages\n",
      "Requirement already satisfied: branca>=0.3.0 in /usr/local/lib/python3.6/dist-packages (from folium==0.10.0+4.ga1e3686) (0.3.1)\n",
      "Requirement already satisfied: jinja2>=2.9 in /usr/local/lib/python3.6/dist-packages (from folium==0.10.0+4.ga1e3686) (2.10.3)\n",
      "Requirement already satisfied: numpy in /usr/local/lib/python3.6/dist-packages (from folium==0.10.0+4.ga1e3686) (1.17.4)\n",
      "Requirement already satisfied: requests in /usr/local/lib/python3.6/dist-packages (from folium==0.10.0+4.ga1e3686) (2.21.0)\n",
      "Requirement already satisfied: six in /usr/local/lib/python3.6/dist-packages (from branca>=0.3.0->folium==0.10.0+4.ga1e3686) (1.12.0)\n",
      "Requirement already satisfied: MarkupSafe>=0.23 in /usr/local/lib/python3.6/dist-packages (from jinja2>=2.9->folium==0.10.0+4.ga1e3686) (1.1.1)\n",
      "Requirement already satisfied: chardet<3.1.0,>=3.0.2 in /usr/local/lib/python3.6/dist-packages (from requests->folium==0.10.0+4.ga1e3686) (3.0.4)\n",
      "Requirement already satisfied: urllib3<1.25,>=1.21.1 in /usr/local/lib/python3.6/dist-packages (from requests->folium==0.10.0+4.ga1e3686) (1.24.3)\n",
      "Requirement already satisfied: certifi>=2017.4.17 in /usr/local/lib/python3.6/dist-packages (from requests->folium==0.10.0+4.ga1e3686) (2019.9.11)\n",
      "Requirement already satisfied: idna<2.9,>=2.5 in /usr/local/lib/python3.6/dist-packages (from requests->folium==0.10.0+4.ga1e3686) (2.8)\n",
      "Building wheels for collected packages: folium\n",
      "  Building wheel for folium (setup.py) ... \u001b[?25l\u001b[?25hdone\n",
      "  Created wheel for folium: filename=folium-0.10.0+4.ga1e3686-py2.py3-none-any.whl size=91404 sha256=28a793974802951aaf444e99dad701d0311b4508a7189f534e55bec2c5f4175a\n",
      "  Stored in directory: /tmp/pip-ephem-wheel-cache-p4nxrybv/wheels/1e/e1/75/ecbc91fd5dd5d90befb0b533bf7492d38acffa033310731862\n",
      "Successfully built folium\n"
     ]
    }
   ],
   "source": [
    "pip install git+https://github.com/python-visualization/folium"
   ]
  },
  {
   "cell_type": "code",
   "execution_count": 1,
   "metadata": {
    "colab": {},
    "colab_type": "code",
    "id": "V0zETUnta3EP"
   },
   "outputs": [],
   "source": [
    "import pandas as pd\n",
    "import math\n",
    "import sys\n",
    "import time\n",
    "import numpy as np\n",
    "from random import shuffle, random, sample, randint, randrange, uniform\n",
    "from copy import deepcopy\n",
    "import matplotlib.pyplot as plt\n",
    "import seaborn as sns\n",
    "import folium\n",
    "from datetime import timedelta\n",
    "import datetime\n",
    "from folium.plugins import TimestampedGeoJson\n",
    "import numpy as np\n",
    "from sklearn.preprocessing import MinMaxScaler,MaxAbsScaler"
   ]
  },
  {
   "cell_type": "code",
   "execution_count": 59,
   "metadata": {
    "colab": {
     "base_uri": "https://localhost:8080/",
     "height": 136
    },
    "colab_type": "code",
    "collapsed": true,
    "id": "8ZGYZQCNa8kk",
    "jupyter": {
     "outputs_hidden": true
    },
    "outputId": "acefac16-88b0-4473-f60d-432c93b23f14"
   },
   "outputs": [
    {
     "name": "stdout",
     "output_type": "stream",
     "text": [
      "Drive already mounted at /content/gdrive; to attempt to forcibly remount, call drive.mount(\"/content/gdrive\", force_remount=True).\n",
      "[Errno 2] No such file or directory: 'gdrive/My Drive/Colab Notebooks/Algoritmos Bioinspirados/Proyecto Final/'\n",
      "/content/gdrive/My Drive/Colab Notebooks/Algoritmos Bioinspirados/Proyecto Final\n",
      "Candidatos_supermercados.xlsx  OptimizacionMarket.ipynb\n",
      "earthHTML.html\t\t       proyectoFinal.ipynb\n",
      "mapTimer.html\t\t       proyectoFinal-previousVersion.ipynb\n",
      "monoSolution.html\n"
     ]
    }
   ],
   "source": [
    "from google.colab import drive\n",
    "drive.mount(\"/content/gdrive\")\n",
    "%cd gdrive/My\\ Drive/'Colab Notebooks'/'Algoritmos Bioinspirados'/'Proyecto Final/'\n",
    "!ls"
   ]
  },
  {
   "cell_type": "markdown",
   "metadata": {
    "colab_type": "text",
    "id": "CeT2tUeka3ES"
   },
   "source": [
    "**b) Leyendo la información proporcionada**"
   ]
  },
  {
   "cell_type": "code",
   "execution_count": 2,
   "metadata": {
    "colab": {
     "base_uri": "https://localhost:8080/",
     "height": 204
    },
    "colab_type": "code",
    "id": "eYJUckB_a3ET",
    "outputId": "c85730b2-fbf0-4fac-a52e-591ac3828f89"
   },
   "outputs": [
    {
     "data": {
      "text/html": [
       "<div>\n",
       "<style scoped>\n",
       "    .dataframe tbody tr th:only-of-type {\n",
       "        vertical-align: middle;\n",
       "    }\n",
       "\n",
       "    .dataframe tbody tr th {\n",
       "        vertical-align: top;\n",
       "    }\n",
       "\n",
       "    .dataframe thead th {\n",
       "        text-align: right;\n",
       "    }\n",
       "</style>\n",
       "<table border=\"1\" class=\"dataframe\">\n",
       "  <thead>\n",
       "    <tr style=\"text-align: right;\">\n",
       "      <th></th>\n",
       "      <th>ID</th>\n",
       "      <th>Descripcion</th>\n",
       "      <th>Latitud</th>\n",
       "      <th>Longitud</th>\n",
       "      <th>Poblacion500m</th>\n",
       "    </tr>\n",
       "  </thead>\n",
       "  <tbody>\n",
       "    <tr>\n",
       "      <th>0</th>\n",
       "      <td>Punto 1</td>\n",
       "      <td>Esq. Benavides con Nicolas Dueñas</td>\n",
       "      <td>-12.04861</td>\n",
       "      <td>-77.06496</td>\n",
       "      <td>16500</td>\n",
       "    </tr>\n",
       "    <tr>\n",
       "      <th>1</th>\n",
       "      <td>Ponto 2</td>\n",
       "      <td>Sta Bernardita con Republica de Venezuela</td>\n",
       "      <td>-12.05956</td>\n",
       "      <td>-77.07583</td>\n",
       "      <td>18000</td>\n",
       "    </tr>\n",
       "    <tr>\n",
       "      <th>2</th>\n",
       "      <td>Ponto 3</td>\n",
       "      <td>Santa Susana con Santa Gertrudis</td>\n",
       "      <td>-12.06524</td>\n",
       "      <td>-77.07334</td>\n",
       "      <td>17000</td>\n",
       "    </tr>\n",
       "    <tr>\n",
       "      <th>3</th>\n",
       "      <td>Ponto 4</td>\n",
       "      <td>Belizario Sosa Pelaez</td>\n",
       "      <td>-12.05998</td>\n",
       "      <td>-77.06300</td>\n",
       "      <td>15000</td>\n",
       "    </tr>\n",
       "    <tr>\n",
       "      <th>4</th>\n",
       "      <td>Ponto 5</td>\n",
       "      <td>Esq. Aurelio Garcia y Miranono Arredondo</td>\n",
       "      <td>-12.05541</td>\n",
       "      <td>-77.07497</td>\n",
       "      <td>17100</td>\n",
       "    </tr>\n",
       "  </tbody>\n",
       "</table>\n",
       "</div>"
      ],
      "text/plain": [
       "        ID                                Descripcion   Latitud  Longitud  \\\n",
       "0  Punto 1          Esq. Benavides con Nicolas Dueñas -12.04861 -77.06496   \n",
       "1  Ponto 2  Sta Bernardita con Republica de Venezuela -12.05956 -77.07583   \n",
       "2  Ponto 3           Santa Susana con Santa Gertrudis -12.06524 -77.07334   \n",
       "3  Ponto 4                      Belizario Sosa Pelaez -12.05998 -77.06300   \n",
       "4  Ponto 5   Esq. Aurelio Garcia y Miranono Arredondo -12.05541 -77.07497   \n",
       "\n",
       "   Poblacion500m  \n",
       "0          16500  \n",
       "1          18000  \n",
       "2          17000  \n",
       "3          15000  \n",
       "4          17100  "
      ]
     },
     "execution_count": 2,
     "metadata": {},
     "output_type": "execute_result"
    }
   ],
   "source": [
    "dataset=pd.read_excel('UbicacionSupermercados/Candidatos_supermercados.xlsx')\n",
    "dataset.head()"
   ]
  },
  {
   "cell_type": "markdown",
   "metadata": {
    "colab_type": "text",
    "id": "HTad8roUa3EX"
   },
   "source": [
    "**c) Cálculo de las distancias entre cada punto**"
   ]
  },
  {
   "cell_type": "markdown",
   "metadata": {
    "colab_type": "text",
    "id": "HYcnhcBia3EX"
   },
   "source": [
    "Función para el cálculo de las distancias entre dos puntos teniendo la latitud y longitud de las coordenadas"
   ]
  },
  {
   "cell_type": "code",
   "execution_count": 3,
   "metadata": {
    "colab": {},
    "colab_type": "code",
    "id": "VFSiOvcVa3EY"
   },
   "outputs": [],
   "source": [
    "lista_total_distancias={}\n",
    "radio_tierra=6378 #radio ecuatorial\n",
    "def getDistances(dataset):\n",
    "    \"\"\"Función para el cálculo de las distancias entre todos los puntos teniendo la latitud y longitud de las coordenadas.\n",
    "    \n",
    "    Para el cálculo de las distancias entre los puntos se hace uso de Haversine Formula\n",
    "    Parámetros:\n",
    "                -dataset: Dataset del tipo dataFrame pandas\n",
    "                \n",
    "    Retorna: Un diccionario de la forma {(punto1,punto2):distancia}\n",
    "    \"\"\"\n",
    "    valores=dataset[['Latitud','Longitud']].values\n",
    "    for i in range(len(valores)):\n",
    "        for j in range(i+1,len(valores)):\n",
    "            dif_lat=valores[j][0] - valores[i][0] #Hallamos la diferencia de latitud\n",
    "            dif_lon=valores[j][1] - valores[i][1] #Hallamos la diferencia de longitud\n",
    "            a=pow(math.sin(dif_lat/2),2)+(math.cos(valores[i][0])*(math.cos(valores[j][0])))*pow(math.sin(dif_lon/2),2)\n",
    "            c=2*math.asin(min(1,math.sqrt(a)))\n",
    "            lista_total_distancias[(i,j)]=radio_tierra * c #*1000 #multiplicar por mil para obtener en metros"
   ]
  },
  {
   "cell_type": "code",
   "execution_count": 4,
   "metadata": {
    "colab": {},
    "colab_type": "code",
    "id": "mq4nFODda3Ea"
   },
   "outputs": [],
   "source": [
    "getDistances(dataset)"
   ]
  },
  {
   "cell_type": "code",
   "execution_count": 5,
   "metadata": {
    "colab": {
     "base_uri": "https://localhost:8080/",
     "height": 34
    },
    "colab_type": "code",
    "id": "R1ZmOlFZa3Ed",
    "outputId": "8c651592-8c74-4363-e03d-2d889e60ceee"
   },
   "outputs": [
    {
     "data": {
      "text/plain": [
       "92.35295446475958"
      ]
     },
     "execution_count": 5,
     "metadata": {},
     "output_type": "execute_result"
    }
   ],
   "source": [
    "lista_total_distancias[(0,1)]"
   ]
  },
  {
   "cell_type": "markdown",
   "metadata": {
    "colab_type": "text",
    "id": "AO3PpmyyCLai"
   },
   "source": [
    "**Escalamiento de los valores(poblacion y distancia) que serán sumados para hallar el fitness**"
   ]
  },
  {
   "cell_type": "markdown",
   "metadata": {
    "colab_type": "text",
    "id": "Pn_s998uCLaj"
   },
   "source": [
    "Juntamos todos los datos"
   ]
  },
  {
   "cell_type": "code",
   "execution_count": 6,
   "metadata": {
    "colab": {},
    "colab_type": "code",
    "id": "WnhMcLvpCLaj"
   },
   "outputs": [],
   "source": [
    "datos_juntos=list(lista_total_distancias.values())+list(dataset.Poblacion500m.values)\n",
    "datos_juntos=np.array(datos_juntos).reshape(-1,1)"
   ]
  },
  {
   "cell_type": "markdown",
   "metadata": {
    "colab_type": "text",
    "id": "8wILpzAuCLar"
   },
   "source": [
    "Escalamos"
   ]
  },
  {
   "cell_type": "code",
   "execution_count": 7,
   "metadata": {
    "colab": {
     "base_uri": "https://localhost:8080/",
     "height": 136
    },
    "colab_type": "code",
    "id": "n9XC3VEZCLat",
    "outputId": "566e0734-77e2-4d2b-da9b-9f46cfebcd7a"
   },
   "outputs": [
    {
     "data": {
      "text/plain": [
       "array([[0.00461765],\n",
       "       [0.00579378],\n",
       "       [0.0036666 ],\n",
       "       ...,\n",
       "       [0.9       ],\n",
       "       [0.925     ],\n",
       "       [1.        ]])"
      ]
     },
     "execution_count": 7,
     "metadata": {},
     "output_type": "execute_result"
    }
   ],
   "source": [
    "min_max_scaler=MaxAbsScaler()\n",
    "datos_juntos_escalados=min_max_scaler.fit_transform(datos_juntos)\n",
    "datos_juntos_escalados"
   ]
  },
  {
   "cell_type": "markdown",
   "metadata": {
    "colab_type": "text",
    "id": "T2s2dFN8CLaw"
   },
   "source": [
    "Separamos distancia de poblacion"
   ]
  },
  {
   "cell_type": "code",
   "execution_count": 8,
   "metadata": {
    "colab": {
     "base_uri": "https://localhost:8080/",
     "height": 34
    },
    "colab_type": "code",
    "id": "J-oNRv7-CLax",
    "outputId": "c976c9a4-1be9-4ae1-b30e-b4cada004ad6"
   },
   "outputs": [
    {
     "data": {
      "text/plain": [
       "1770"
      ]
     },
     "execution_count": 8,
     "metadata": {},
     "output_type": "execute_result"
    }
   ],
   "source": [
    "datos_distancia_escalada=datos_juntos_escalados[:1770]\n",
    "len(datos_distancia_escalada)"
   ]
  },
  {
   "cell_type": "code",
   "execution_count": 9,
   "metadata": {
    "colab": {
     "base_uri": "https://localhost:8080/",
     "height": 34
    },
    "colab_type": "code",
    "id": "YoRyIzoLCLa0",
    "outputId": "af24b883-c6ee-4fae-e936-64f3be223cc0"
   },
   "outputs": [
    {
     "data": {
      "text/plain": [
       "60"
      ]
     },
     "execution_count": 9,
     "metadata": {},
     "output_type": "execute_result"
    }
   ],
   "source": [
    "datos_poblacion_escalada=datos_juntos_escalados[1770:]\n",
    "len(datos_poblacion_escalada)"
   ]
  },
  {
   "cell_type": "markdown",
   "metadata": {
    "colab_type": "text",
    "id": "vZ7zgU2VCLa5"
   },
   "source": [
    "Almacenamiento de las distancias escaladas"
   ]
  },
  {
   "cell_type": "code",
   "execution_count": 10,
   "metadata": {
    "colab": {
     "base_uri": "https://localhost:8080/",
     "height": 34
    },
    "colab_type": "code",
    "id": "spwDikWECLa6",
    "outputId": "e979658e-d38c-48be-c8f6-b80f37a2511b"
   },
   "outputs": [
    {
     "data": {
      "text/plain": [
       "0.004617647723237979"
      ]
     },
     "execution_count": 10,
     "metadata": {},
     "output_type": "execute_result"
    }
   ],
   "source": [
    "keys_lista=[i for i in lista_total_distancias] #Almacenamos los keys del diccionario de las distancias\n",
    "lista_total_distancias_escalado={keys_lista[i]:datos_distancia_escalada[i][0] for i in range(len(keys_lista))} #Creamos un nuevo dic con las distancias escaladas\n",
    "lista_total_distancias_escalado[(0,1)]"
   ]
  },
  {
   "cell_type": "markdown",
   "metadata": {
    "colab_type": "text",
    "id": "aSN80V3cCLa8"
   },
   "source": [
    "Almacenamiento de la poblacion escalada"
   ]
  },
  {
   "cell_type": "code",
   "execution_count": 11,
   "metadata": {
    "colab": {
     "base_uri": "https://localhost:8080/",
     "height": 204
    },
    "colab_type": "code",
    "id": "-Y7HCrmwCLa9",
    "outputId": "0837fb59-5e88-430f-c4e4-501ecb3deea6"
   },
   "outputs": [
    {
     "data": {
      "text/html": [
       "<div>\n",
       "<style scoped>\n",
       "    .dataframe tbody tr th:only-of-type {\n",
       "        vertical-align: middle;\n",
       "    }\n",
       "\n",
       "    .dataframe tbody tr th {\n",
       "        vertical-align: top;\n",
       "    }\n",
       "\n",
       "    .dataframe thead th {\n",
       "        text-align: right;\n",
       "    }\n",
       "</style>\n",
       "<table border=\"1\" class=\"dataframe\">\n",
       "  <thead>\n",
       "    <tr style=\"text-align: right;\">\n",
       "      <th></th>\n",
       "      <th>ID</th>\n",
       "      <th>Descripcion</th>\n",
       "      <th>Latitud</th>\n",
       "      <th>Longitud</th>\n",
       "      <th>Poblacion500m</th>\n",
       "      <th>poblacion_escalado</th>\n",
       "    </tr>\n",
       "  </thead>\n",
       "  <tbody>\n",
       "    <tr>\n",
       "      <th>0</th>\n",
       "      <td>Punto 1</td>\n",
       "      <td>Esq. Benavides con Nicolas Dueñas</td>\n",
       "      <td>-12.04861</td>\n",
       "      <td>-77.06496</td>\n",
       "      <td>16500</td>\n",
       "      <td>0.825</td>\n",
       "    </tr>\n",
       "    <tr>\n",
       "      <th>1</th>\n",
       "      <td>Ponto 2</td>\n",
       "      <td>Sta Bernardita con Republica de Venezuela</td>\n",
       "      <td>-12.05956</td>\n",
       "      <td>-77.07583</td>\n",
       "      <td>18000</td>\n",
       "      <td>0.900</td>\n",
       "    </tr>\n",
       "    <tr>\n",
       "      <th>2</th>\n",
       "      <td>Ponto 3</td>\n",
       "      <td>Santa Susana con Santa Gertrudis</td>\n",
       "      <td>-12.06524</td>\n",
       "      <td>-77.07334</td>\n",
       "      <td>17000</td>\n",
       "      <td>0.850</td>\n",
       "    </tr>\n",
       "    <tr>\n",
       "      <th>3</th>\n",
       "      <td>Ponto 4</td>\n",
       "      <td>Belizario Sosa Pelaez</td>\n",
       "      <td>-12.05998</td>\n",
       "      <td>-77.06300</td>\n",
       "      <td>15000</td>\n",
       "      <td>0.750</td>\n",
       "    </tr>\n",
       "    <tr>\n",
       "      <th>4</th>\n",
       "      <td>Ponto 5</td>\n",
       "      <td>Esq. Aurelio Garcia y Miranono Arredondo</td>\n",
       "      <td>-12.05541</td>\n",
       "      <td>-77.07497</td>\n",
       "      <td>17100</td>\n",
       "      <td>0.855</td>\n",
       "    </tr>\n",
       "  </tbody>\n",
       "</table>\n",
       "</div>"
      ],
      "text/plain": [
       "        ID                                Descripcion   Latitud  Longitud  \\\n",
       "0  Punto 1          Esq. Benavides con Nicolas Dueñas -12.04861 -77.06496   \n",
       "1  Ponto 2  Sta Bernardita con Republica de Venezuela -12.05956 -77.07583   \n",
       "2  Ponto 3           Santa Susana con Santa Gertrudis -12.06524 -77.07334   \n",
       "3  Ponto 4                      Belizario Sosa Pelaez -12.05998 -77.06300   \n",
       "4  Ponto 5   Esq. Aurelio Garcia y Miranono Arredondo -12.05541 -77.07497   \n",
       "\n",
       "   Poblacion500m  poblacion_escalado  \n",
       "0          16500               0.825  \n",
       "1          18000               0.900  \n",
       "2          17000               0.850  \n",
       "3          15000               0.750  \n",
       "4          17100               0.855  "
      ]
     },
     "execution_count": 11,
     "metadata": {},
     "output_type": "execute_result"
    }
   ],
   "source": [
    "dataset['poblacion_escalado']=datos_poblacion_escalada\n",
    "dataset.head()"
   ]
  },
  {
   "cell_type": "markdown",
   "metadata": {
    "colab_type": "text",
    "id": "uAteAP7ga3Eg"
   },
   "source": [
    "**d) Definición del objeto Market para el problema**"
   ]
  },
  {
   "cell_type": "markdown",
   "metadata": {
    "colab_type": "text",
    "id": "y9FrJfV6a3Ei"
   },
   "source": [
    "Un objeto de la clase Market almacena las instancias del dataframe"
   ]
  },
  {
   "cell_type": "code",
   "execution_count": 12,
   "metadata": {
    "colab": {},
    "colab_type": "code",
    "id": "a52QlQi4a3Ej"
   },
   "outputs": [],
   "source": [
    "class Market(object):\n",
    "    def __init__(self,ID,descr,pob,latitud,longitud):\n",
    "        self.id=ID\n",
    "        self.descr=descr\n",
    "        self.pob=pob\n",
    "        self.lat=latitud\n",
    "        self.lon=longitud"
   ]
  },
  {
   "cell_type": "markdown",
   "metadata": {
    "colab_type": "text",
    "id": "oUTzTpd4a3El"
   },
   "source": [
    "**e) Definición de la estructura de un individuo en el AG con sus operadores genéticos**"
   ]
  },
  {
   "cell_type": "code",
   "execution_count": 13,
   "metadata": {
    "colab": {},
    "colab_type": "code",
    "id": "KDXXyOeza3Em"
   },
   "outputs": [],
   "source": [
    "class Individual:\n",
    "    \"\"\" Implementa el individuo del AG. Un individuo tiene un cromosoma que es una lista de num_markets elementos (genes),\n",
    "       cada gen i puede asumir dos posibles alelos: 0 o 1 (no incluir/incluir en la solución el market i del pool) \"\"\"\n",
    "\n",
    "    def __init__(self, chromosome,maxMark=10):  # el constructor recibe un cromosoma\n",
    "        self.chromosome = chromosome[:]  \n",
    "        self.fitness = -1  # -1 indica que el individuo no ha sido evaluado\n",
    "        self.maxMark=maxMark #Cantidad Máxima de markets que desea obtener en la solución\n",
    "\n",
    "    def crossover_onepoint(self, other):\n",
    "        \"Retorna dos nuevos individuos del cruzamiento de un punto entre individuos self y other \"\n",
    "        c = randrange(len(self.chromosome))\n",
    "        ind1 = Individual(self.chromosome[:c] + other.chromosome[c:],self.maxMark)\n",
    "        ind2 = Individual(other.chromosome[:c] + self.chromosome[c:],self.maxMark)\n",
    "        ind1,ind2=self.__verify([ind1,ind2])\n",
    "        return [ind1, ind2]   \n",
    "    \n",
    "    def crossover_uniform(self, other):\n",
    "        chromosome1 = []\n",
    "        chromosome2 = []\n",
    "        \"Retorna dos nuevos individuos del cruzamiento uniforme entre self y other \"\n",
    "        for i in range(len(self.chromosome)):\n",
    "            if uniform(0, 1) < 0.5:\n",
    "                chromosome1.append(self.chromosome[i])\n",
    "                chromosome2.append(other.chromosome[i])\n",
    "            else:\n",
    "                chromosome1.append(other.chromosome[i])\n",
    "                chromosome2.append(self.chromosome[i])\n",
    "        ind1 = Individual(chromosome1,self.maxMark)\n",
    "        ind2 = Individual(chromosome2,self.maxMark)\n",
    "        ind1,ind2=self.__verify([ind1,ind2])\n",
    "        return [ind1, ind2] \n",
    "    \n",
    "    \n",
    "    def mutation_flip(self):\n",
    "        \"Cambia aleatoriamente el alelo de un gen. Se tiene en consideración la cantidad máxima de markets que debe contar una posible solución.\"\n",
    "        new_chromosome = deepcopy(self.chromosome)\n",
    "        mutGene = randrange(0,len(new_chromosome))   # escoge un gen para mutar\n",
    "        if new_chromosome[mutGene] == 0:\n",
    "            #Cambiaremos un cero a un uno, por lo que habrá un uno mas, por lo que se deberá cambiar otro uno a cero\n",
    "            index_unos=[i for i in range(len(new_chromosome)) if new_chromosome[i] == 1]\n",
    "            index_uno=sample(index_unos,1) #Obtenemos un index de todos los unos para cambiarlo a cero\n",
    "            new_chromosome[mutGene] = 1 #Cambiamos a uno un cero\n",
    "            new_chromosome[index_uno[0]]=0 #Cambiamos a cero un uno\n",
    "        else:\n",
    "            index_ceros=[i for i in range(len(new_chromosome)) if new_chromosome[i] == 0]\n",
    "            index_cero=sample(index_ceros,1) #Obtenemos un index de todos los unos para cambiarlo a cero\n",
    "            new_chromosome[mutGene] = 0 #Compensamos\n",
    "            new_chromosome[index_cero[0]]=1 #Cambiamos a uno un cero\n",
    "            \n",
    "        return Individual(new_chromosome,self.maxMark)\n",
    "        \n",
    "    \n",
    "    def __verify(self,individuos):\n",
    "        \"\"\"Funcion para forzar que existan la cantidad máxima de markets(unos) dentro del cromosoma.\n",
    "        \"\"\"\n",
    "        resultado=[]\n",
    "        for ind in individuos:\n",
    "            cant_unos=ind.chromosome.count(1)\n",
    "            index_unos=[i for i in range(len(ind.chromosome)) if ind.chromosome[i] == 1] #Obtenemos los index de los unos dentro del cromosoma\n",
    "            if cant_unos >self.maxMark: #Verificando si el individuo tiene la cantidad maxima de markets(unos) aceptables \n",
    "                index_unos2chg=sample(index_unos,cant_unos - self.maxMark)# Obtenemos los index que cambiaremos a cero porque se pasó del máximo\n",
    "                for index in index_unos2chg:\n",
    "                    ind.chromosome[index]=0\n",
    "            elif cant_unos < self.maxMark: #Si el individuo tiene menos de la cantidad máxima \n",
    "                index_unos2chg=set(range(len(ind.chromosome))) - set(index_unos) #Quitamos los index en los cuales se encuentran los unos\n",
    "                random_index=sample(index_unos2chg,self.maxMark - cant_unos) #Generamos index aletorios para completar a la cantidad máxima\n",
    "                for index in random_index:\n",
    "                    ind.chromosome[index]=1\n",
    "            resultado.append(ind)\n",
    "        return resultado\n"
   ]
  },
  {
   "cell_type": "markdown",
   "metadata": {
    "colab_type": "text",
    "id": "78ubdtuma3Ep"
   },
   "source": [
    "**f) Función para obtener el fitness del cromosoma**"
   ]
  },
  {
   "cell_type": "markdown",
   "metadata": {
    "colab_type": "text",
    "id": "j8SixwRla3Eq"
   },
   "source": [
    "Haciendo uso del diccionario hallado previamente."
   ]
  },
  {
   "cell_type": "code",
   "execution_count": 14,
   "metadata": {
    "colab": {},
    "colab_type": "code",
    "id": "watZ9cQfa3Eq"
   },
   "outputs": [],
   "source": [
    "def get_fitness_lista(chromosome, markets):\n",
    "    \"\"\"Retorna el fitness del cromosoma pasado. Fitness es el valor total de los markets incluidos en el cromosoma\n",
    "        \"\"\"\n",
    "    fitness=0\n",
    "    markets_elegidos=[]\n",
    "    sum_pob=0\n",
    "    sum_dist=0\n",
    "    for i in range(len(markets)):\n",
    "        if chromosome[i] == 1:  # si el market i esta incluido en el cromosoma, acumula su poblacion y distancia\n",
    "            sum_pob += markets[i].pob\n",
    "            markets_elegidos.append(i)\n",
    "            \n",
    "    for j in markets_elegidos:\n",
    "        for k in markets_elegidos[j+1:]:\n",
    "            sum_dist=sum_dist+lista_total_distancias[(j,k)] # Hacemos uso del diccionario calculado previamente, sin escalamiento\n",
    "            #sum_dist=sum_dist+lista_total_distancias_escalado[(j,k)]#diccionario con las distancias escaladas\n",
    "    \n",
    "    return [sum_pob,sum_dist] #Se enviará de esta manera y se obtendrá las sumas por separado para la experimentación y registro de estos experimentos"
   ]
  },
  {
   "cell_type": "markdown",
   "metadata": {
    "colab_type": "text",
    "id": "rxovJvC_a3Es"
   },
   "source": [
    "Calculando las distancias en cada instante"
   ]
  },
  {
   "cell_type": "code",
   "execution_count": 15,
   "metadata": {
    "colab": {},
    "colab_type": "code",
    "id": "OqUFXlAEa3Et"
   },
   "outputs": [],
   "source": [
    "def get_fitness(chromosome, markets):\n",
    "    \"\"\"Retorna el fitness del cromosoma pasado. Fitness es el valor total de los markets incluidos en el cromosoma\n",
    "        \"\"\"\n",
    "    fitness = 0 # initialize fitness to 0\n",
    "    lista_distancias=[]\n",
    "    sum_pob=0\n",
    "    sum_dist=0\n",
    "    for i in range(len(markets)):\n",
    "        if chromosome[i] == 1:  # si el market i esta incluido en el cromosoma, acumula su poblacion y distancia\n",
    "            sum_pob += markets[i].pob\n",
    "            lista_distancias.append((markets[i].lat,markets[i].lon))\n",
    "            \n",
    "    radio_tierra=6378 #radio ecuatorial\n",
    "    for i in range(len(lista_distancias)):\n",
    "        for j in lista_distancias[i+1:]:\n",
    "            dif_lat=j[0] - lista_distancias[i][0] #Hallamos la diferencia de latitud\n",
    "            dif_lon=j[1] - lista_distancias[i][1] #Hallamos la diferencia de longitud\n",
    "            a=pow(math.sin(dif_lat/2),2)+(math.cos(lista_distancias[i][0])*(math.cos(j[0])))*pow(math.sin(dif_lon/2),2)\n",
    "            c=2*math.asin(min(1,math.sqrt(a)))\n",
    "            sum_dist+=radio_tierra * c \n",
    "    fitness=sum_pob + sum_dist\n",
    "    \n",
    "    return fitness"
   ]
  },
  {
   "cell_type": "markdown",
   "metadata": {
    "colab_type": "text",
    "id": "ME-FTXF2a3Ev"
   },
   "source": [
    "**g) Funcion para evaluar una población de individuos**"
   ]
  },
  {
   "cell_type": "code",
   "execution_count": 16,
   "metadata": {
    "colab": {},
    "colab_type": "code",
    "id": "tP-BMpHCa3Ev"
   },
   "outputs": [],
   "source": [
    "def evaluate_population(population, markets):\n",
    "    \"\"\" Evalua una poblacion de individuos con la funcion get_fitness \"\"\"\n",
    "    pop_size = len(population)\n",
    "    for i in range(pop_size):\n",
    "        if population[i].fitness == -1:    # evalua solo si el individuo no esta evaluado\n",
    "            #Se puede hacer uso de las dos funciones para obtener los fitness\n",
    "            #population[i].fitness = get_fitness(population[i].chromosome, markets)\n",
    "            population[i].fitness = sum(get_fitness_lista(population[i].chromosome, markets))"
   ]
  },
  {
   "cell_type": "markdown",
   "metadata": {
    "colab_type": "text",
    "id": "fySRXQq5a3Ey"
   },
   "source": [
    "**h) Funcion para inicializar aleatoriamente una población de individuos**"
   ]
  },
  {
   "cell_type": "code",
   "execution_count": 17,
   "metadata": {
    "colab": {},
    "colab_type": "code",
    "id": "x32setS5a3Ez"
   },
   "outputs": [],
   "source": [
    "def init_population(pop_size, chromosome_size=60,maxMark=10):\n",
    "    \"\"\"Inicializa una poblacion de pop_size individuos, cada cromosoma de individuo de tamaño chromosome_size.\n",
    "       \"\"\"\n",
    "    population = []\n",
    "    for i in range(pop_size):\n",
    "        index_unos=sample(range(chromosome_size),maxMark)\n",
    "        new_chromosome=[0 if i not in index_unos else 1 for i in range(chromosome_size)]\n",
    "        population.append( Individual(new_chromosome,maxMark))\n",
    "    return population"
   ]
  },
  {
   "cell_type": "markdown",
   "metadata": {
    "colab_type": "text",
    "id": "mcrDShRza3E2"
   },
   "source": [
    "**i) Funciones para escoger individuos aleatoriamente para el cruzamiento**"
   ]
  },
  {
   "cell_type": "markdown",
   "metadata": {
    "colab_type": "text",
    "id": "OkIWEFCfa3E2"
   },
   "source": [
    "Seleccion por ruleta"
   ]
  },
  {
   "cell_type": "code",
   "execution_count": 18,
   "metadata": {
    "colab": {},
    "colab_type": "code",
    "id": "ETbeqKTCa3E3"
   },
   "outputs": [],
   "source": [
    "def select_parents_roulette(population):\n",
    "    pop_size = len(population)\n",
    "    \n",
    "    # Escoje el primer padre\n",
    "    sumfitness = sum([indiv.fitness for indiv in population])  # suma total del fitness de la poblacion\n",
    "    pickfitness = uniform(0, sumfitness)   # escoge un numero aleatorio entre 0 y sumfitness\n",
    "    cumfitness = 0     # fitness acumulado\n",
    "    for i in range(pop_size):\n",
    "        cumfitness += population[i].fitness\n",
    "        if cumfitness > pickfitness: \n",
    "            iParent1 = i\n",
    "            break\n",
    "    \n",
    "    # Escoje el segundo padre, desconsiderando el primer padre\n",
    "    sumfitness = sumfitness - population[iParent1].fitness # retira el fitness del padre ya escogido\n",
    "    pickfitness = uniform(0, sumfitness)   # escoge un numero aleatorio entre 0 y sumfitness\n",
    "    cumfitness = 0     # fitness acumulado\n",
    "    for i in range(pop_size):\n",
    "        if i == iParent1: continue   # si es el primer padre \n",
    "        cumfitness += population[i].fitness\n",
    "        if cumfitness > pickfitness: \n",
    "            iParent2 = i\n",
    "            break        \n",
    "    return (population[iParent1], population[iParent2])"
   ]
  },
  {
   "cell_type": "markdown",
   "metadata": {
    "colab_type": "text",
    "id": "5K286IPra3E5"
   },
   "source": [
    "Seleccion por Stochastic universal sampling"
   ]
  },
  {
   "cell_type": "code",
   "execution_count": 19,
   "metadata": {
    "colab": {},
    "colab_type": "code",
    "id": "6Uufcjaca3E6"
   },
   "outputs": [],
   "source": [
    "def sus(poblacion,num_padres):\n",
    "    poblacion_local=poblacion[:]\n",
    "    padres=[]\n",
    "    fitness_total=sum([chromosome.fitness for chromosome in poblacion_local])\n",
    "    agujas=np.linspace(0,fitness_total,num_padres+1)\n",
    "    r_aleatorios=[int(uniform(agujas[i],agujas[i+1])) for i in range(len(agujas)-1)]\n",
    "    for r in r_aleatorios:\n",
    "        fitness_acumulado=0\n",
    "        for chromosome in poblacion_local:\n",
    "            fitness_acumulado+=chromosome.fitness\n",
    "            if fitness_acumulado >= r:\n",
    "                padres.append(chromosome)\n",
    "                break\n",
    "                \n",
    "    return padres"
   ]
  },
  {
   "cell_type": "markdown",
   "metadata": {
    "colab_type": "text",
    "id": "nwFQ2zoVa3E9"
   },
   "source": [
    "**j) Funcion que selecciona la poblacion de la sgte generacion, dada la poblacion actual y poblacion de hijos**"
   ]
  },
  {
   "cell_type": "code",
   "execution_count": 20,
   "metadata": {
    "colab": {},
    "colab_type": "code",
    "id": "0H0ZYk-5a3E9"
   },
   "outputs": [],
   "source": [
    "def select_survivors(population, offspring_population, numsurvivors):\n",
    "    next_population = []\n",
    "    population.extend(offspring_population) # une las dos poblaciones\n",
    "    isurvivors = sorted(range(len(population)), key=lambda i: population[i].fitness, reverse=True)[:numsurvivors]\n",
    "    for i in range(numsurvivors):\n",
    "        next_population.append(population[isurvivors[i]])\n",
    "    return next_population"
   ]
  },
  {
   "cell_type": "markdown",
   "metadata": {
    "colab_type": "text",
    "id": "9qSb-4UPa3E_"
   },
   "source": [
    "**k) Algoritmo Genetico para encontrar soluciones**"
   ]
  },
  {
   "cell_type": "code",
   "execution_count": 21,
   "metadata": {
    "colab": {},
    "colab_type": "code",
    "id": "dzZgJstDa3FA"
   },
   "outputs": [],
   "source": [
    "def genetic_algorithm(population, markets, ngen=100, pmut=0.1, crossover=\"onepoint\", mutation=\"flip\",select='roulette'):\n",
    "    \"\"\"Algoritmo Genetico para el problema de la mochila\n",
    "        markets:      pool de markets a escoger. Debe ser una lista de objetos de clase Market\n",
    "        ngen:       maximo numero de generaciones \n",
    "        pmut:       tasa de mutacion\n",
    "        crossover:  operador de cruzamiento\n",
    "        mutation:   operador de mutacion\n",
    "    \"\"\"\n",
    "    history_population = []\n",
    "\n",
    "    pop_size = len(population)\n",
    "    evaluate_population(population, markets)  # evalua la poblacion inicial\n",
    "    ibest = sorted(range(len(population)), key=lambda i: population[i].fitness, reverse=True)[:1]  # mejor individuo\n",
    "    bestfitness = [population[ibest[0]].fitness]  # fitness del mejor individuo\n",
    "    print(\"Poblacion inicial, best_fitness = {}\".format(population[ibest[0]].fitness))\n",
    "\n",
    "    for g in range(ngen):   # Por cada generacion\n",
    "\n",
    "        ## Selecciona parejas de individuos (mating_pool) para cruzamiento con el metodo de la ruleta\n",
    "        mating_pool = []\n",
    "        if select == 'roulette':\n",
    "            for i in range(int(pop_size/2)): mating_pool.append(select_parents_roulette(population)) \n",
    "        elif select == 'sus':\n",
    "            for i in range(int(pop_size/2)): mating_pool.append(sus(population,2)) \n",
    "\n",
    "        ## Crea la poblacion descendencia cruzando las parejas del mating pool \n",
    "        offspring_population = []\n",
    "        for i in range(len(mating_pool)): \n",
    "            if crossover == \"onepoint\":\n",
    "                offspring_population.extend( mating_pool[i][0].crossover_onepoint(mating_pool[i][1]) ) # cruzamiento 1 punto\n",
    "            elif crossover == \"uniform\":\n",
    "                offspring_population.extend( mating_pool[i][0].crossover_uniform(mating_pool[i][1]) ) # cruzamiento uniforme\n",
    "            else:\n",
    "                raise NotImplementedError\n",
    "\n",
    "        ## Aplica el operador de mutacion con probabilidad pmut en cada hijo generado\n",
    "        for i in range(len(offspring_population)):\n",
    "            if uniform(0, 1) < pmut: \n",
    "                if mutation == \"flip\":\n",
    "                    offspring_population[i] = offspring_population[i].mutation_flip() # cambia el alelo de un gen\n",
    "                else:\n",
    "                    raise NotImplementedError   \n",
    "\n",
    "        ## Evalua la poblacion descendencia creada\n",
    "        evaluate_population(offspring_population, markets)   # evalua la poblacion descendencia\n",
    "\n",
    "        ## Selecciona pop_size individuos para la sgte. generación de la union de la pob. actual y  pob. descendencia\n",
    "        population = select_survivors(population, offspring_population, pop_size)\n",
    "\n",
    "        ## Almacena la historia del fitness del mejor individuo\n",
    "        ibest = sorted(range(len(population)), key=lambda i: population[i].fitness, reverse=True)[:1]\n",
    "        bestfitness.append(population[ibest[0]].fitness)\n",
    "        history_population.append(population[ibest[0]].chromosome) # Agregando el historial de mejores cromosomas\n",
    "\n",
    "        if (g % 10 == 0):  # muestra resultados cada 10 generaciones\n",
    "            print(\"generacion {}, Mejor fitness = {})\".format(g, population[ibest[0]].fitness))\n",
    "\n",
    "    print(\"Mejor individuo en la ultima generacion = {} (fitness = {})\".format(population[ibest[0]].chromosome, population[ibest[0]].fitness))\n",
    "    return population[ibest[0]], bestfitness, history_population  # devuelve el mejor individuo y la lista de mejores fitness x gen"
   ]
  },
  {
   "cell_type": "markdown",
   "metadata": {
    "colab_type": "text",
    "id": "GMkqclRoa3FF"
   },
   "source": [
    "**l) Creación del marketpool**"
   ]
  },
  {
   "cell_type": "code",
   "execution_count": 22,
   "metadata": {
    "colab": {},
    "colab_type": "code",
    "id": "qYCE58Moa3FH"
   },
   "outputs": [],
   "source": [
    "marketPool=[]\n",
    "for i in range(len(dataset)):\n",
    "    ID=dataset.iloc[i].ID\n",
    "    descp=dataset.iloc[i].Descripcion\n",
    "    lat=dataset.iloc[i].Latitud\n",
    "    lon=dataset.iloc[i].Longitud\n",
    "    pob=dataset.iloc[i].Poblacion500m\n",
    "    #pob=dataset.iloc[i].poblacion_escalado #hace uso de la poblacion escalada\n",
    "    marketPool.append(Market(ID,descp,pob,lat,lon))"
   ]
  },
  {
   "cell_type": "code",
   "execution_count": 23,
   "metadata": {
    "colab": {
     "base_uri": "https://localhost:8080/",
     "height": 34
    },
    "colab_type": "code",
    "id": "OAGnumAsa3FL",
    "outputId": "333067d1-ce9a-496b-bbfb-6c5f7a100fee"
   },
   "outputs": [
    {
     "data": {
      "text/plain": [
       "16500"
      ]
     },
     "execution_count": 23,
     "metadata": {},
     "output_type": "execute_result"
    }
   ],
   "source": [
    "marketPool[0].pob"
   ]
  },
  {
   "cell_type": "markdown",
   "metadata": {
    "colab_type": "text",
    "id": "hk6czvala3FN"
   },
   "source": [
    "**m) Ejecución del algoritmo**"
   ]
  },
  {
   "cell_type": "code",
   "execution_count": 24,
   "metadata": {
    "colab": {
     "base_uri": "https://localhost:8080/",
     "height": 1000
    },
    "colab_type": "code",
    "collapsed": true,
    "id": "KKsw4Dnza3FO",
    "jupyter": {
     "outputs_hidden": true
    },
    "outputId": "16eeb3f8-8517-447d-8a8b-492d6f9545be"
   },
   "outputs": [
    {
     "name": "stdout",
     "output_type": "stream",
     "text": [
      "Poblacion inicial, best_fitness = 176962.6463096912\n",
      "generacion 0, Mejor fitness = 176962.6463096912)\n",
      "generacion 10, Mejor fitness = 186913.0997718717)\n",
      "generacion 20, Mejor fitness = 190708.51283919907)\n",
      "generacion 30, Mejor fitness = 192232.17852951048)\n",
      "generacion 40, Mejor fitness = 192973.2639947494)\n",
      "generacion 50, Mejor fitness = 193409.90950866626)\n",
      "generacion 60, Mejor fitness = 193409.90950866626)\n",
      "generacion 70, Mejor fitness = 193409.90950866626)\n",
      "generacion 80, Mejor fitness = 193409.90950866626)\n",
      "generacion 90, Mejor fitness = 193409.90950866626)\n",
      "generacion 100, Mejor fitness = 193409.90950866626)\n",
      "generacion 110, Mejor fitness = 193409.90950866626)\n",
      "generacion 120, Mejor fitness = 193409.90950866626)\n",
      "generacion 130, Mejor fitness = 193409.90950866626)\n",
      "generacion 140, Mejor fitness = 193409.90950866626)\n",
      "generacion 150, Mejor fitness = 193409.90950866626)\n",
      "generacion 160, Mejor fitness = 193409.90950866626)\n",
      "generacion 170, Mejor fitness = 193409.90950866626)\n",
      "generacion 180, Mejor fitness = 193409.90950866626)\n",
      "generacion 190, Mejor fitness = 193409.90950866626)\n",
      "generacion 200, Mejor fitness = 193409.90950866626)\n",
      "generacion 210, Mejor fitness = 193409.90950866626)\n",
      "generacion 220, Mejor fitness = 193409.90950866626)\n",
      "generacion 230, Mejor fitness = 193409.90950866626)\n",
      "generacion 240, Mejor fitness = 193409.90950866626)\n",
      "generacion 250, Mejor fitness = 193409.90950866626)\n",
      "generacion 260, Mejor fitness = 193409.90950866626)\n",
      "generacion 270, Mejor fitness = 193409.90950866626)\n",
      "generacion 280, Mejor fitness = 193409.90950866626)\n",
      "generacion 290, Mejor fitness = 193409.90950866626)\n",
      "generacion 300, Mejor fitness = 193409.90950866626)\n",
      "generacion 310, Mejor fitness = 193409.90950866626)\n",
      "generacion 320, Mejor fitness = 193409.90950866626)\n",
      "generacion 330, Mejor fitness = 193409.90950866626)\n",
      "generacion 340, Mejor fitness = 193409.90950866626)\n",
      "generacion 350, Mejor fitness = 193409.90950866626)\n",
      "generacion 360, Mejor fitness = 193409.90950866626)\n",
      "generacion 370, Mejor fitness = 193409.90950866626)\n",
      "generacion 380, Mejor fitness = 193409.90950866626)\n",
      "generacion 390, Mejor fitness = 193409.90950866626)\n",
      "generacion 400, Mejor fitness = 193409.90950866626)\n",
      "generacion 410, Mejor fitness = 193409.90950866626)\n",
      "generacion 420, Mejor fitness = 193409.90950866626)\n",
      "generacion 430, Mejor fitness = 193409.90950866626)\n",
      "generacion 440, Mejor fitness = 193409.90950866626)\n",
      "generacion 450, Mejor fitness = 193409.90950866626)\n",
      "generacion 460, Mejor fitness = 193409.90950866626)\n",
      "generacion 470, Mejor fitness = 193409.90950866626)\n",
      "generacion 480, Mejor fitness = 193409.90950866626)\n",
      "generacion 490, Mejor fitness = 193409.90950866626)\n",
      "Mejor individuo en la ultima generacion = [1, 1, 1, 0, 0, 0, 0, 0, 0, 0, 0, 0, 0, 0, 0, 0, 0, 0, 0, 0, 0, 0, 0, 0, 0, 0, 0, 0, 0, 0, 0, 0, 0, 0, 0, 0, 0, 0, 0, 0, 0, 0, 0, 0, 0, 0, 0, 0, 1, 1, 1, 0, 0, 0, 0, 1, 1, 0, 1, 1] (fitness = 193409.90950866626)\n"
     ]
    },
    {
     "data": {
      "image/png": "[encoded data removed]",
      "text/plain": [
       "<Figure size 432x288 with 1 Axes>"
      ]
     },
     "metadata": {
      "needs_background": "light"
     },
     "output_type": "display_data"
    }
   ],
   "source": [
    "## Hiperparametros del algoritmo genetico\n",
    "POP_SIZE = 100       # numero de individuos\n",
    "GENERATIONS = 500   # numero de generaciones\n",
    "PMUT = 1       # tasa de mutacion\n",
    "\n",
    "## Inicializa una poblacion inicial de forma aleatoria\n",
    "population = init_population(POP_SIZE,maxMark=10)\n",
    "\n",
    "# Evolue la poblacion con el algoritmo genetico (cruzamiento 'onepoint', )\n",
    "best_ind, bestfitness, history_population = genetic_algorithm(population, marketPool, GENERATIONS, PMUT, crossover=\"uniform\", mutation=\"flip\",select='roulette')\n",
    "\n",
    "# muestra la evolucion del mejor fitness\n",
    "plt.plot(bestfitness)\n",
    "plt.show()"
   ]
  },
  {
   "cell_type": "markdown",
   "metadata": {
    "colab_type": "text",
    "id": "11axIFh-go31"
   },
   "source": [
    "Solución de manera gráfica"
   ]
  },
  {
   "cell_type": "code",
   "execution_count": 25,
   "metadata": {
    "colab": {
     "base_uri": "https://localhost:8080/",
     "height": 1000
    },
    "colab_type": "code",
    "id": "4eVqjQZ7CLcE",
    "outputId": "1f147667-5577-4034-b8cf-85e2e96c571c"
   },
   "outputs": [
    {
     "data": {
      "text/html": [
       "<div style=\"width:100%;\"><div style=\"position:relative;width:100%;height:0;padding-bottom:60%;\"><iframe src=\"data:text/html;charset=utf-8;base64,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\" style=\"position:absolute;width:100%;height:100%;left:0;top:0;border:none !important;\" allowfullscreen webkitallowfullscreen mozallowfullscreen></iframe></div></div>"
      ],
      "text/plain": [
       "<folium.folium.Map at 0x7f09dcfdd850>"
      ]
     },
     "execution_count": 25,
     "metadata": {},
     "output_type": "execute_result"
    }
   ],
   "source": [
    "m = folium.Map(\n",
    "    location=[-12.0431805, -77.0282364], zoom_start=13, zoomControl= True, min_zoom=13, max_zoom=13)\n",
    "\n",
    "[(folium.Marker([marketPool[i].lat, marketPool[i].lon], icon=folium.Icon(color='blue')).add_to(m)) for i in range(len(best_ind.chromosome)) if best_ind.chromosome[i]==1]\n",
    "[(folium.Marker([marketPool[i].lat, marketPool[i].lon], icon=folium.Icon(color='red')).add_to(m)) for i in range(len(best_ind.chromosome)) if best_ind.chromosome[i]==0]\n",
    "points = [(marketPool[i].lat, marketPool[i].lon) for i in range(len(best_ind.chromosome)) if best_ind.chromosome[i]==1]\n",
    "points.append(points[0])\n",
    "folium.PolyLine(points, color=\"red\", weight=2.5, opacity=1).add_to(m)\n",
    "\n",
    "m"
   ]
  },
  {
   "cell_type": "code",
   "execution_count": 26,
   "metadata": {
    "colab": {},
    "colab_type": "code",
    "id": "v5n0wOEHhiG5"
   },
   "outputs": [],
   "source": [
    "today = datetime.datetime.now()\n",
    "\n",
    "def create_geojson_features(df):\n",
    "    print('> Creating GeoJSON features...')\n",
    "    history = []\n",
    "    for index, row in enumerate(df):\n",
    "      itemHistory = []\n",
    "      for chromo in range(len(best_ind.chromosome)):\n",
    "        feature = {\n",
    "            'type': 'Feature',\n",
    "            'geometry': {\n",
    "                'type':'Point', \n",
    "                'coordinates':[marketPool[chromo].lon, marketPool[chromo].lat]\n",
    "            },\n",
    "            'properties': {\n",
    "                'time': (today + timedelta(days=index)).__str__(),\n",
    "                'style': {'color' : 'blue' if row[chromo] == 1 else 'red' },\n",
    "                'icon': 'circle',\n",
    "                'iconstyle':{\n",
    "                    'fillColor': {'color' : 'blue' if row[chromo] == 1 else 'red' },\n",
    "                    'fillOpacity': 0.8,\n",
    "                    'stroke': 'true',\n",
    "                    'radius': 7\n",
    "                }\n",
    "            }\n",
    "        }\n",
    "        itemHistory.append(feature)\n",
    "      history.append(itemHistory)\n",
    "    return history"
   ]
  },
  {
   "cell_type": "code",
   "execution_count": 27,
   "metadata": {
    "colab": {},
    "colab_type": "code",
    "id": "WrNyQHUkh0qi"
   },
   "outputs": [],
   "source": [
    "def make_map(features):\n",
    "    print('> Making map...')\n",
    "    coords_lima=[-12.0431805, -77.0282364]\n",
    "    mapLima = folium.Map(location=coords_lima, zoom_start=13, zoomControl= False, min_zoom=13, max_zoom=13, control_scale=True)\n",
    "\n",
    "    TimestampedGeoJson(\n",
    "        {'type': 'FeatureCollection',\n",
    "        'features': np.array(features).flatten().tolist()}\n",
    "        , add_last_point=True\n",
    "        , auto_play=False\n",
    "        , loop=False\n",
    "        , max_speed=1\n",
    "        , loop_button=True\n",
    "        , date_options='DD'\n",
    "        , time_slider_drag_update=True\n",
    "    ).add_to(mapLima)\n",
    "    \n",
    "    print('> Done.')\n",
    "    return mapLima\n",
    "def plot_solution_map(df):\n",
    "    features = create_geojson_features(df)\n",
    "    return make_map(features)"
   ]
  },
  {
   "cell_type": "markdown",
   "metadata": {
    "colab_type": "text",
    "id": "K_6NeU90wjgK"
   },
   "source": [
    "Para revisar la solución de manera mas dinánica se puede ir al archivo **html** generado con nombre **monoSolution.html**"
   ]
  },
  {
   "cell_type": "code",
   "execution_count": 28,
   "metadata": {
    "colab": {
     "base_uri": "https://localhost:8080/",
     "height": 68
    },
    "colab_type": "code",
    "id": "J1qerf2biPRy",
    "outputId": "1a60800e-5e6a-466d-eb41-4d057af68b02"
   },
   "outputs": [
    {
     "name": "stdout",
     "output_type": "stream",
     "text": [
      "> Creating GeoJSON features...\n",
      "> Making map...\n",
      "> Done.\n"
     ]
    }
   ],
   "source": [
    "solutionOverTime = plot_solution_map(history_population)\n",
    "solutionOverTime.save('monoSolution.html')"
   ]
  },
  {
   "cell_type": "markdown",
   "metadata": {
    "colab_type": "text",
    "id": "49xmrW2aa3FS"
   },
   "source": [
    "**n) Experimentación con el algoritmo**"
   ]
  },
  {
   "cell_type": "markdown",
   "metadata": {
    "colab_type": "text",
    "id": "J-aTlO_ya3FT"
   },
   "source": [
    "Experimente varias veces el\n",
    "algoritmo implementado con una población de 100 individuos y 500 generaciones (se\n",
    "sugiere ejecutar 10 veces) y registre en una tabla los mejores individuos de cada ejecución,\n",
    "sus fitness y los componentes del fitness desagregados (suma de distancias y suma de\n",
    "población)."
   ]
  },
  {
   "cell_type": "code",
   "execution_count": 29,
   "metadata": {
    "colab": {
     "base_uri": "https://localhost:8080/",
     "height": 1000
    },
    "colab_type": "code",
    "collapsed": true,
    "id": "oS-Vo6baa3FV",
    "jupyter": {
     "outputs_hidden": true
    },
    "outputId": "1bab082c-5149-4f2e-83f5-c1b0a21ed1c7"
   },
   "outputs": [
    {
     "name": "stdout",
     "output_type": "stream",
     "text": [
      "Poblacion inicial, best_fitness = 166160.31846990617\n",
      "generacion 0, Mejor fitness = 172639.63023533925)\n",
      "generacion 10, Mejor fitness = 188487.882428999)\n",
      "generacion 20, Mejor fitness = 192701.26666216095)\n",
      "generacion 30, Mejor fitness = 193409.90950866626)\n",
      "generacion 40, Mejor fitness = 193409.90950866626)\n",
      "generacion 50, Mejor fitness = 193409.90950866626)\n",
      "generacion 60, Mejor fitness = 193409.90950866626)\n",
      "generacion 70, Mejor fitness = 193409.90950866626)\n",
      "generacion 80, Mejor fitness = 193409.90950866626)\n",
      "generacion 90, Mejor fitness = 193409.90950866626)\n",
      "generacion 100, Mejor fitness = 193409.90950866626)\n",
      "generacion 110, Mejor fitness = 193409.90950866626)\n",
      "generacion 120, Mejor fitness = 193409.90950866626)\n",
      "generacion 130, Mejor fitness = 193409.90950866626)\n",
      "generacion 140, Mejor fitness = 193409.90950866626)\n",
      "generacion 150, Mejor fitness = 193409.90950866626)\n",
      "generacion 160, Mejor fitness = 193409.90950866626)\n",
      "generacion 170, Mejor fitness = 193409.90950866626)\n",
      "generacion 180, Mejor fitness = 193409.90950866626)\n",
      "generacion 190, Mejor fitness = 193409.90950866626)\n",
      "generacion 200, Mejor fitness = 193409.90950866626)\n",
      "generacion 210, Mejor fitness = 193409.90950866626)\n",
      "generacion 220, Mejor fitness = 193409.90950866626)\n",
      "generacion 230, Mejor fitness = 193409.90950866626)\n",
      "generacion 240, Mejor fitness = 193409.90950866626)\n",
      "generacion 250, Mejor fitness = 193409.90950866626)\n",
      "generacion 260, Mejor fitness = 193409.90950866626)\n",
      "generacion 270, Mejor fitness = 193409.90950866626)\n",
      "generacion 280, Mejor fitness = 193409.90950866626)\n",
      "generacion 290, Mejor fitness = 193409.90950866626)\n",
      "generacion 300, Mejor fitness = 193409.90950866626)\n",
      "generacion 310, Mejor fitness = 193409.90950866626)\n",
      "generacion 320, Mejor fitness = 193409.90950866626)\n",
      "generacion 330, Mejor fitness = 193409.90950866626)\n",
      "generacion 340, Mejor fitness = 193409.90950866626)\n",
      "generacion 350, Mejor fitness = 193409.90950866626)\n",
      "generacion 360, Mejor fitness = 193409.90950866626)\n",
      "generacion 370, Mejor fitness = 193409.90950866626)\n",
      "generacion 380, Mejor fitness = 193409.90950866626)\n",
      "generacion 390, Mejor fitness = 193409.90950866626)\n",
      "generacion 400, Mejor fitness = 193409.90950866626)\n",
      "generacion 410, Mejor fitness = 193409.90950866626)\n",
      "generacion 420, Mejor fitness = 193409.90950866626)\n",
      "generacion 430, Mejor fitness = 193409.90950866626)\n",
      "generacion 440, Mejor fitness = 193409.90950866626)\n",
      "generacion 450, Mejor fitness = 193409.90950866626)\n",
      "generacion 460, Mejor fitness = 193409.90950866626)\n",
      "generacion 470, Mejor fitness = 193409.90950866626)\n",
      "generacion 480, Mejor fitness = 193409.90950866626)\n",
      "generacion 490, Mejor fitness = 193409.90950866626)\n",
      "Mejor individuo en la ultima generacion = [1, 1, 1, 0, 0, 0, 0, 0, 0, 0, 0, 0, 0, 0, 0, 0, 0, 0, 0, 0, 0, 0, 0, 0, 0, 0, 0, 0, 0, 0, 0, 0, 0, 0, 0, 0, 0, 0, 0, 0, 0, 0, 0, 0, 0, 0, 0, 0, 1, 1, 1, 0, 0, 0, 0, 1, 1, 0, 1, 1] (fitness = 193409.90950866626)\n",
      "Poblacion inicial, best_fitness = 177044.4546986378\n",
      "generacion 0, Mejor fitness = 177044.4546986378)\n",
      "generacion 10, Mejor fitness = 189180.8762681553)\n",
      "generacion 20, Mejor fitness = 192429.4694990397)\n",
      "generacion 30, Mejor fitness = 193409.90950866626)\n",
      "generacion 40, Mejor fitness = 193409.90950866626)\n",
      "generacion 50, Mejor fitness = 193409.90950866626)\n",
      "generacion 60, Mejor fitness = 193409.90950866626)\n",
      "generacion 70, Mejor fitness = 193409.90950866626)\n",
      "generacion 80, Mejor fitness = 193409.90950866626)\n",
      "generacion 90, Mejor fitness = 193409.90950866626)\n",
      "generacion 100, Mejor fitness = 193409.90950866626)\n",
      "generacion 110, Mejor fitness = 193409.90950866626)\n",
      "generacion 120, Mejor fitness = 193409.90950866626)\n",
      "generacion 130, Mejor fitness = 193409.90950866626)\n",
      "generacion 140, Mejor fitness = 193409.90950866626)\n",
      "generacion 150, Mejor fitness = 193409.90950866626)\n",
      "generacion 160, Mejor fitness = 193409.90950866626)\n",
      "generacion 170, Mejor fitness = 193409.90950866626)\n",
      "generacion 180, Mejor fitness = 193409.90950866626)\n",
      "generacion 190, Mejor fitness = 193409.90950866626)\n",
      "generacion 200, Mejor fitness = 193409.90950866626)\n",
      "generacion 210, Mejor fitness = 193409.90950866626)\n",
      "generacion 220, Mejor fitness = 193409.90950866626)\n",
      "generacion 230, Mejor fitness = 193409.90950866626)\n",
      "generacion 240, Mejor fitness = 193409.90950866626)\n",
      "generacion 250, Mejor fitness = 193409.90950866626)\n",
      "generacion 260, Mejor fitness = 193409.90950866626)\n",
      "generacion 270, Mejor fitness = 193409.90950866626)\n",
      "generacion 280, Mejor fitness = 193409.90950866626)\n",
      "generacion 290, Mejor fitness = 193409.90950866626)\n",
      "generacion 300, Mejor fitness = 193409.90950866626)\n",
      "generacion 310, Mejor fitness = 193409.90950866626)\n",
      "generacion 320, Mejor fitness = 193409.90950866626)\n",
      "generacion 330, Mejor fitness = 193409.90950866626)\n",
      "generacion 340, Mejor fitness = 193409.90950866626)\n",
      "generacion 350, Mejor fitness = 193409.90950866626)\n",
      "generacion 360, Mejor fitness = 193409.90950866626)\n",
      "generacion 370, Mejor fitness = 193409.90950866626)\n",
      "generacion 380, Mejor fitness = 193409.90950866626)\n",
      "generacion 390, Mejor fitness = 193409.90950866626)\n",
      "generacion 400, Mejor fitness = 193409.90950866626)\n",
      "generacion 410, Mejor fitness = 193409.90950866626)\n",
      "generacion 420, Mejor fitness = 193409.90950866626)\n",
      "generacion 430, Mejor fitness = 193409.90950866626)\n",
      "generacion 440, Mejor fitness = 193409.90950866626)\n",
      "generacion 450, Mejor fitness = 193409.90950866626)\n",
      "generacion 460, Mejor fitness = 193409.90950866626)\n",
      "generacion 470, Mejor fitness = 193409.90950866626)\n",
      "generacion 480, Mejor fitness = 193409.90950866626)\n",
      "generacion 490, Mejor fitness = 193409.90950866626)\n",
      "Mejor individuo en la ultima generacion = [1, 1, 1, 0, 0, 0, 0, 0, 0, 0, 0, 0, 0, 0, 0, 0, 0, 0, 0, 0, 0, 0, 0, 0, 0, 0, 0, 0, 0, 0, 0, 0, 0, 0, 0, 0, 0, 0, 0, 0, 0, 0, 0, 0, 0, 0, 0, 0, 1, 1, 1, 0, 0, 0, 0, 1, 1, 0, 1, 1] (fitness = 193409.90950866626)\n",
      "Poblacion inicial, best_fitness = 172613.46796104554\n",
      "generacion 0, Mejor fitness = 177066.72220604916)\n",
      "generacion 10, Mejor fitness = 188891.38411709404)\n",
      "generacion 20, Mejor fitness = 193409.90950866626)\n",
      "generacion 30, Mejor fitness = 193409.90950866626)\n",
      "generacion 40, Mejor fitness = 193409.90950866626)\n",
      "generacion 50, Mejor fitness = 193409.90950866626)\n",
      "generacion 60, Mejor fitness = 193409.90950866626)\n",
      "generacion 70, Mejor fitness = 193409.90950866626)\n",
      "generacion 80, Mejor fitness = 193409.90950866626)\n",
      "generacion 90, Mejor fitness = 193409.90950866626)\n",
      "generacion 100, Mejor fitness = 193409.90950866626)\n",
      "generacion 110, Mejor fitness = 193409.90950866626)\n",
      "generacion 120, Mejor fitness = 193409.90950866626)\n",
      "generacion 130, Mejor fitness = 193409.90950866626)\n",
      "generacion 140, Mejor fitness = 193409.90950866626)\n",
      "generacion 150, Mejor fitness = 193409.90950866626)\n",
      "generacion 160, Mejor fitness = 193409.90950866626)\n",
      "generacion 170, Mejor fitness = 193409.90950866626)\n",
      "generacion 180, Mejor fitness = 193409.90950866626)\n",
      "generacion 190, Mejor fitness = 193409.90950866626)\n",
      "generacion 200, Mejor fitness = 193409.90950866626)\n",
      "generacion 210, Mejor fitness = 193409.90950866626)\n",
      "generacion 220, Mejor fitness = 193409.90950866626)\n",
      "generacion 230, Mejor fitness = 193409.90950866626)\n",
      "generacion 240, Mejor fitness = 193409.90950866626)\n",
      "generacion 250, Mejor fitness = 193409.90950866626)\n",
      "generacion 260, Mejor fitness = 193409.90950866626)\n",
      "generacion 270, Mejor fitness = 193409.90950866626)\n",
      "generacion 280, Mejor fitness = 193409.90950866626)\n",
      "generacion 290, Mejor fitness = 193409.90950866626)\n",
      "generacion 300, Mejor fitness = 193409.90950866626)\n",
      "generacion 310, Mejor fitness = 193409.90950866626)\n",
      "generacion 320, Mejor fitness = 193409.90950866626)\n",
      "generacion 330, Mejor fitness = 193409.90950866626)\n",
      "generacion 340, Mejor fitness = 193409.90950866626)\n",
      "generacion 350, Mejor fitness = 193409.90950866626)\n",
      "generacion 360, Mejor fitness = 193409.90950866626)\n",
      "generacion 370, Mejor fitness = 193409.90950866626)\n",
      "generacion 380, Mejor fitness = 193409.90950866626)\n",
      "generacion 390, Mejor fitness = 193409.90950866626)\n",
      "generacion 400, Mejor fitness = 193409.90950866626)\n",
      "generacion 410, Mejor fitness = 193409.90950866626)\n",
      "generacion 420, Mejor fitness = 193409.90950866626)\n",
      "generacion 430, Mejor fitness = 193409.90950866626)\n",
      "generacion 440, Mejor fitness = 193409.90950866626)\n",
      "generacion 450, Mejor fitness = 193409.90950866626)\n",
      "generacion 460, Mejor fitness = 193409.90950866626)\n",
      "generacion 470, Mejor fitness = 193409.90950866626)\n",
      "generacion 480, Mejor fitness = 193409.90950866626)\n",
      "generacion 490, Mejor fitness = 193409.90950866626)\n",
      "Mejor individuo en la ultima generacion = [1, 1, 1, 0, 0, 0, 0, 0, 0, 0, 0, 0, 0, 0, 0, 0, 0, 0, 0, 0, 0, 0, 0, 0, 0, 0, 0, 0, 0, 0, 0, 0, 0, 0, 0, 0, 0, 0, 0, 0, 0, 0, 0, 0, 0, 0, 0, 0, 1, 1, 1, 0, 0, 0, 0, 1, 1, 0, 1, 1] (fitness = 193409.90950866626)\n",
      "Poblacion inicial, best_fitness = 168057.50705165745\n",
      "generacion 0, Mejor fitness = 183642.33304490327)\n",
      "generacion 10, Mejor fitness = 190159.7106865935)\n",
      "generacion 20, Mejor fitness = 193248.67046399458)\n",
      "generacion 30, Mejor fitness = 193409.90950866626)\n",
      "generacion 40, Mejor fitness = 193409.90950866626)\n",
      "generacion 50, Mejor fitness = 193409.90950866626)\n",
      "generacion 60, Mejor fitness = 193409.90950866626)\n",
      "generacion 70, Mejor fitness = 193409.90950866626)\n",
      "generacion 80, Mejor fitness = 193409.90950866626)\n",
      "generacion 90, Mejor fitness = 193409.90950866626)\n",
      "generacion 100, Mejor fitness = 193409.90950866626)\n",
      "generacion 110, Mejor fitness = 193409.90950866626)\n",
      "generacion 120, Mejor fitness = 193409.90950866626)\n",
      "generacion 130, Mejor fitness = 193409.90950866626)\n",
      "generacion 140, Mejor fitness = 193409.90950866626)\n",
      "generacion 150, Mejor fitness = 193409.90950866626)\n",
      "generacion 160, Mejor fitness = 193409.90950866626)\n",
      "generacion 170, Mejor fitness = 193409.90950866626)\n",
      "generacion 180, Mejor fitness = 193409.90950866626)\n",
      "generacion 190, Mejor fitness = 193409.90950866626)\n",
      "generacion 200, Mejor fitness = 193409.90950866626)\n",
      "generacion 210, Mejor fitness = 193409.90950866626)\n",
      "generacion 220, Mejor fitness = 193409.90950866626)\n",
      "generacion 230, Mejor fitness = 193409.90950866626)\n",
      "generacion 240, Mejor fitness = 193409.90950866626)\n",
      "generacion 250, Mejor fitness = 193409.90950866626)\n",
      "generacion 260, Mejor fitness = 193409.90950866626)\n",
      "generacion 270, Mejor fitness = 193409.90950866626)\n",
      "generacion 280, Mejor fitness = 193409.90950866626)\n",
      "generacion 290, Mejor fitness = 193409.90950866626)\n",
      "generacion 300, Mejor fitness = 193409.90950866626)\n",
      "generacion 310, Mejor fitness = 193409.90950866626)\n",
      "generacion 320, Mejor fitness = 193409.90950866626)\n",
      "generacion 330, Mejor fitness = 193409.90950866626)\n",
      "generacion 340, Mejor fitness = 193409.90950866626)\n",
      "generacion 350, Mejor fitness = 193409.90950866626)\n",
      "generacion 360, Mejor fitness = 193409.90950866626)\n",
      "generacion 370, Mejor fitness = 193409.90950866626)\n",
      "generacion 380, Mejor fitness = 193409.90950866626)\n",
      "generacion 390, Mejor fitness = 193409.90950866626)\n",
      "generacion 400, Mejor fitness = 193409.90950866626)\n",
      "generacion 410, Mejor fitness = 193409.90950866626)\n",
      "generacion 420, Mejor fitness = 193409.90950866626)\n",
      "generacion 430, Mejor fitness = 193409.90950866626)\n",
      "generacion 440, Mejor fitness = 193409.90950866626)\n",
      "generacion 450, Mejor fitness = 193409.90950866626)\n",
      "generacion 460, Mejor fitness = 193409.90950866626)\n",
      "generacion 470, Mejor fitness = 193409.90950866626)\n",
      "generacion 480, Mejor fitness = 193409.90950866626)\n",
      "generacion 490, Mejor fitness = 193409.90950866626)\n",
      "Mejor individuo en la ultima generacion = [1, 1, 1, 0, 0, 0, 0, 0, 0, 0, 0, 0, 0, 0, 0, 0, 0, 0, 0, 0, 0, 0, 0, 0, 0, 0, 0, 0, 0, 0, 0, 0, 0, 0, 0, 0, 0, 0, 0, 0, 0, 0, 0, 0, 0, 0, 0, 0, 1, 1, 1, 0, 0, 0, 0, 1, 1, 0, 1, 1] (fitness = 193409.90950866626)\n",
      "Poblacion inicial, best_fitness = 175200\n",
      "generacion 0, Mejor fitness = 177248.21203767895)\n",
      "generacion 10, Mejor fitness = 192487.00684186787)\n",
      "generacion 20, Mejor fitness = 193409.90950866626)\n",
      "generacion 30, Mejor fitness = 193409.90950866626)\n",
      "generacion 40, Mejor fitness = 193409.90950866626)\n",
      "generacion 50, Mejor fitness = 193409.90950866626)\n",
      "generacion 60, Mejor fitness = 193409.90950866626)\n",
      "generacion 70, Mejor fitness = 193409.90950866626)\n",
      "generacion 80, Mejor fitness = 193409.90950866626)\n",
      "generacion 90, Mejor fitness = 193409.90950866626)\n",
      "generacion 100, Mejor fitness = 193409.90950866626)\n",
      "generacion 110, Mejor fitness = 193409.90950866626)\n",
      "generacion 120, Mejor fitness = 193409.90950866626)\n",
      "generacion 130, Mejor fitness = 193409.90950866626)\n",
      "generacion 140, Mejor fitness = 193409.90950866626)\n",
      "generacion 150, Mejor fitness = 193409.90950866626)\n",
      "generacion 160, Mejor fitness = 193409.90950866626)\n",
      "generacion 170, Mejor fitness = 193409.90950866626)\n",
      "generacion 180, Mejor fitness = 193409.90950866626)\n",
      "generacion 190, Mejor fitness = 193409.90950866626)\n",
      "generacion 200, Mejor fitness = 193409.90950866626)\n",
      "generacion 210, Mejor fitness = 193409.90950866626)\n",
      "generacion 220, Mejor fitness = 193409.90950866626)\n",
      "generacion 230, Mejor fitness = 193409.90950866626)\n",
      "generacion 240, Mejor fitness = 193409.90950866626)\n",
      "generacion 250, Mejor fitness = 193409.90950866626)\n",
      "generacion 260, Mejor fitness = 193409.90950866626)\n",
      "generacion 270, Mejor fitness = 193409.90950866626)\n",
      "generacion 280, Mejor fitness = 193409.90950866626)\n",
      "generacion 290, Mejor fitness = 193409.90950866626)\n",
      "generacion 300, Mejor fitness = 193409.90950866626)\n",
      "generacion 310, Mejor fitness = 193409.90950866626)\n",
      "generacion 320, Mejor fitness = 193409.90950866626)\n",
      "generacion 330, Mejor fitness = 193409.90950866626)\n",
      "generacion 340, Mejor fitness = 193409.90950866626)\n",
      "generacion 350, Mejor fitness = 193409.90950866626)\n",
      "generacion 360, Mejor fitness = 193409.90950866626)\n",
      "generacion 370, Mejor fitness = 193409.90950866626)\n",
      "generacion 380, Mejor fitness = 193409.90950866626)\n",
      "generacion 390, Mejor fitness = 193409.90950866626)\n",
      "generacion 400, Mejor fitness = 193409.90950866626)\n",
      "generacion 410, Mejor fitness = 193409.90950866626)\n",
      "generacion 420, Mejor fitness = 193409.90950866626)\n",
      "generacion 430, Mejor fitness = 193409.90950866626)\n",
      "generacion 440, Mejor fitness = 193409.90950866626)\n",
      "generacion 450, Mejor fitness = 193409.90950866626)\n",
      "generacion 460, Mejor fitness = 193409.90950866626)\n",
      "generacion 470, Mejor fitness = 193409.90950866626)\n",
      "generacion 480, Mejor fitness = 193409.90950866626)\n",
      "generacion 490, Mejor fitness = 193409.90950866626)\n",
      "Mejor individuo en la ultima generacion = [1, 1, 1, 0, 0, 0, 0, 0, 0, 0, 0, 0, 0, 0, 0, 0, 0, 0, 0, 0, 0, 0, 0, 0, 0, 0, 0, 0, 0, 0, 0, 0, 0, 0, 0, 0, 0, 0, 0, 0, 0, 0, 0, 0, 0, 0, 0, 0, 1, 1, 1, 0, 0, 0, 0, 1, 1, 0, 1, 1] (fitness = 193409.90950866626)\n",
      "Poblacion inicial, best_fitness = 177829.25518473086\n",
      "generacion 0, Mejor fitness = 177829.25518473086)\n",
      "generacion 10, Mejor fitness = 189699.1467252232)\n",
      "generacion 20, Mejor fitness = 193012.0781472902)\n",
      "generacion 30, Mejor fitness = 193409.90950866626)\n",
      "generacion 40, Mejor fitness = 193409.90950866626)\n",
      "generacion 50, Mejor fitness = 193409.90950866626)\n",
      "generacion 60, Mejor fitness = 193409.90950866626)\n",
      "generacion 70, Mejor fitness = 193409.90950866626)\n",
      "generacion 80, Mejor fitness = 193409.90950866626)\n",
      "generacion 90, Mejor fitness = 193409.90950866626)\n",
      "generacion 100, Mejor fitness = 193409.90950866626)\n",
      "generacion 110, Mejor fitness = 193409.90950866626)\n",
      "generacion 120, Mejor fitness = 193409.90950866626)\n",
      "generacion 130, Mejor fitness = 193409.90950866626)\n",
      "generacion 140, Mejor fitness = 193409.90950866626)\n",
      "generacion 150, Mejor fitness = 193409.90950866626)\n",
      "generacion 160, Mejor fitness = 193409.90950866626)\n",
      "generacion 170, Mejor fitness = 193409.90950866626)\n",
      "generacion 180, Mejor fitness = 193409.90950866626)\n",
      "generacion 190, Mejor fitness = 193409.90950866626)\n",
      "generacion 200, Mejor fitness = 193409.90950866626)\n",
      "generacion 210, Mejor fitness = 193409.90950866626)\n",
      "generacion 220, Mejor fitness = 193409.90950866626)\n",
      "generacion 230, Mejor fitness = 193409.90950866626)\n",
      "generacion 240, Mejor fitness = 193409.90950866626)\n",
      "generacion 250, Mejor fitness = 193409.90950866626)\n",
      "generacion 260, Mejor fitness = 193409.90950866626)\n",
      "generacion 270, Mejor fitness = 193409.90950866626)\n",
      "generacion 280, Mejor fitness = 193409.90950866626)\n",
      "generacion 290, Mejor fitness = 193409.90950866626)\n",
      "generacion 300, Mejor fitness = 193409.90950866626)\n",
      "generacion 310, Mejor fitness = 193409.90950866626)\n",
      "generacion 320, Mejor fitness = 193409.90950866626)\n",
      "generacion 330, Mejor fitness = 193409.90950866626)\n",
      "generacion 340, Mejor fitness = 193409.90950866626)\n",
      "generacion 350, Mejor fitness = 193409.90950866626)\n",
      "generacion 360, Mejor fitness = 193409.90950866626)\n",
      "generacion 370, Mejor fitness = 193409.90950866626)\n",
      "generacion 380, Mejor fitness = 193409.90950866626)\n",
      "generacion 390, Mejor fitness = 193409.90950866626)\n",
      "generacion 400, Mejor fitness = 193409.90950866626)\n",
      "generacion 410, Mejor fitness = 193409.90950866626)\n",
      "generacion 420, Mejor fitness = 193409.90950866626)\n",
      "generacion 430, Mejor fitness = 193409.90950866626)\n",
      "generacion 440, Mejor fitness = 193409.90950866626)\n",
      "generacion 450, Mejor fitness = 193409.90950866626)\n",
      "generacion 460, Mejor fitness = 193409.90950866626)\n",
      "generacion 470, Mejor fitness = 193409.90950866626)\n",
      "generacion 480, Mejor fitness = 193409.90950866626)\n",
      "generacion 490, Mejor fitness = 193409.90950866626)\n",
      "Mejor individuo en la ultima generacion = [1, 1, 1, 0, 0, 0, 0, 0, 0, 0, 0, 0, 0, 0, 0, 0, 0, 0, 0, 0, 0, 0, 0, 0, 0, 0, 0, 0, 0, 0, 0, 0, 0, 0, 0, 0, 0, 0, 0, 0, 0, 0, 0, 0, 0, 0, 0, 0, 1, 1, 1, 0, 0, 0, 0, 1, 1, 0, 1, 1] (fitness = 193409.90950866626)\n",
      "Poblacion inicial, best_fitness = 175554.1010735914\n",
      "generacion 0, Mejor fitness = 176616.01376636222)\n",
      "generacion 10, Mejor fitness = 190107.2115089015)\n",
      "generacion 20, Mejor fitness = 193116.66549904036)\n",
      "generacion 30, Mejor fitness = 193409.90950866626)\n",
      "generacion 40, Mejor fitness = 193409.90950866626)\n",
      "generacion 50, Mejor fitness = 193409.90950866626)\n",
      "generacion 60, Mejor fitness = 193409.90950866626)\n",
      "generacion 70, Mejor fitness = 193409.90950866626)\n",
      "generacion 80, Mejor fitness = 193409.90950866626)\n",
      "generacion 90, Mejor fitness = 193409.90950866626)\n",
      "generacion 100, Mejor fitness = 193409.90950866626)\n",
      "generacion 110, Mejor fitness = 193409.90950866626)\n",
      "generacion 120, Mejor fitness = 193409.90950866626)\n",
      "generacion 130, Mejor fitness = 193409.90950866626)\n",
      "generacion 140, Mejor fitness = 193409.90950866626)\n",
      "generacion 150, Mejor fitness = 193409.90950866626)\n",
      "generacion 160, Mejor fitness = 193409.90950866626)\n",
      "generacion 170, Mejor fitness = 193409.90950866626)\n",
      "generacion 180, Mejor fitness = 193409.90950866626)\n",
      "generacion 190, Mejor fitness = 193409.90950866626)\n",
      "generacion 200, Mejor fitness = 193409.90950866626)\n",
      "generacion 210, Mejor fitness = 193409.90950866626)\n",
      "generacion 220, Mejor fitness = 193409.90950866626)\n",
      "generacion 230, Mejor fitness = 193409.90950866626)\n",
      "generacion 240, Mejor fitness = 193409.90950866626)\n",
      "generacion 250, Mejor fitness = 193409.90950866626)\n",
      "generacion 260, Mejor fitness = 193409.90950866626)\n",
      "generacion 270, Mejor fitness = 193409.90950866626)\n",
      "generacion 280, Mejor fitness = 193409.90950866626)\n",
      "generacion 290, Mejor fitness = 193409.90950866626)\n",
      "generacion 300, Mejor fitness = 193409.90950866626)\n",
      "generacion 310, Mejor fitness = 193409.90950866626)\n",
      "generacion 320, Mejor fitness = 193409.90950866626)\n",
      "generacion 330, Mejor fitness = 193409.90950866626)\n",
      "generacion 340, Mejor fitness = 193409.90950866626)\n",
      "generacion 350, Mejor fitness = 193409.90950866626)\n",
      "generacion 360, Mejor fitness = 193409.90950866626)\n",
      "generacion 370, Mejor fitness = 193409.90950866626)\n",
      "generacion 380, Mejor fitness = 193409.90950866626)\n",
      "generacion 390, Mejor fitness = 193409.90950866626)\n",
      "generacion 400, Mejor fitness = 193409.90950866626)\n",
      "generacion 410, Mejor fitness = 193409.90950866626)\n",
      "generacion 420, Mejor fitness = 193409.90950866626)\n",
      "generacion 430, Mejor fitness = 193409.90950866626)\n",
      "generacion 440, Mejor fitness = 193409.90950866626)\n",
      "generacion 450, Mejor fitness = 193409.90950866626)\n",
      "generacion 460, Mejor fitness = 193409.90950866626)\n",
      "generacion 470, Mejor fitness = 193409.90950866626)\n",
      "generacion 480, Mejor fitness = 193409.90950866626)\n",
      "generacion 490, Mejor fitness = 193409.90950866626)\n",
      "Mejor individuo en la ultima generacion = [1, 1, 1, 0, 0, 0, 0, 0, 0, 0, 0, 0, 0, 0, 0, 0, 0, 0, 0, 0, 0, 0, 0, 0, 0, 0, 0, 0, 0, 0, 0, 0, 0, 0, 0, 0, 0, 0, 0, 0, 0, 0, 0, 0, 0, 0, 0, 0, 1, 1, 1, 0, 0, 0, 0, 1, 1, 0, 1, 1] (fitness = 193409.90950866626)\n",
      "Poblacion inicial, best_fitness = 174051.68498353925\n",
      "generacion 0, Mejor fitness = 174051.68498353925)\n",
      "generacion 10, Mejor fitness = 189694.16605071982)\n",
      "generacion 20, Mejor fitness = 193248.67046399458)\n",
      "generacion 30, Mejor fitness = 193409.90950866626)\n",
      "generacion 40, Mejor fitness = 193409.90950866626)\n",
      "generacion 50, Mejor fitness = 193409.90950866626)\n",
      "generacion 60, Mejor fitness = 193409.90950866626)\n",
      "generacion 70, Mejor fitness = 193409.90950866626)\n",
      "generacion 80, Mejor fitness = 193409.90950866626)\n",
      "generacion 90, Mejor fitness = 193409.90950866626)\n",
      "generacion 100, Mejor fitness = 193409.90950866626)\n",
      "generacion 110, Mejor fitness = 193409.90950866626)\n",
      "generacion 120, Mejor fitness = 193409.90950866626)\n",
      "generacion 130, Mejor fitness = 193409.90950866626)\n",
      "generacion 140, Mejor fitness = 193409.90950866626)\n",
      "generacion 150, Mejor fitness = 193409.90950866626)\n",
      "generacion 160, Mejor fitness = 193409.90950866626)\n",
      "generacion 170, Mejor fitness = 193409.90950866626)\n",
      "generacion 180, Mejor fitness = 193409.90950866626)\n",
      "generacion 190, Mejor fitness = 193409.90950866626)\n",
      "generacion 200, Mejor fitness = 193409.90950866626)\n",
      "generacion 210, Mejor fitness = 193409.90950866626)\n",
      "generacion 220, Mejor fitness = 193409.90950866626)\n",
      "generacion 230, Mejor fitness = 193409.90950866626)\n",
      "generacion 240, Mejor fitness = 193409.90950866626)\n",
      "generacion 250, Mejor fitness = 193409.90950866626)\n",
      "generacion 260, Mejor fitness = 193409.90950866626)\n",
      "generacion 270, Mejor fitness = 193409.90950866626)\n",
      "generacion 280, Mejor fitness = 193409.90950866626)\n",
      "generacion 290, Mejor fitness = 193409.90950866626)\n",
      "generacion 300, Mejor fitness = 193409.90950866626)\n",
      "generacion 310, Mejor fitness = 193409.90950866626)\n",
      "generacion 320, Mejor fitness = 193409.90950866626)\n",
      "generacion 330, Mejor fitness = 193409.90950866626)\n",
      "generacion 340, Mejor fitness = 193409.90950866626)\n",
      "generacion 350, Mejor fitness = 193409.90950866626)\n",
      "generacion 360, Mejor fitness = 193409.90950866626)\n",
      "generacion 370, Mejor fitness = 193409.90950866626)\n",
      "generacion 380, Mejor fitness = 193409.90950866626)\n",
      "generacion 390, Mejor fitness = 193409.90950866626)\n",
      "generacion 400, Mejor fitness = 193409.90950866626)\n",
      "generacion 410, Mejor fitness = 193409.90950866626)\n",
      "generacion 420, Mejor fitness = 193409.90950866626)\n",
      "generacion 430, Mejor fitness = 193409.90950866626)\n",
      "generacion 440, Mejor fitness = 193409.90950866626)\n",
      "generacion 450, Mejor fitness = 193409.90950866626)\n",
      "generacion 460, Mejor fitness = 193409.90950866626)\n",
      "generacion 470, Mejor fitness = 193409.90950866626)\n",
      "generacion 480, Mejor fitness = 193409.90950866626)\n",
      "generacion 490, Mejor fitness = 193409.90950866626)\n",
      "Mejor individuo en la ultima generacion = [1, 1, 1, 0, 0, 0, 0, 0, 0, 0, 0, 0, 0, 0, 0, 0, 0, 0, 0, 0, 0, 0, 0, 0, 0, 0, 0, 0, 0, 0, 0, 0, 0, 0, 0, 0, 0, 0, 0, 0, 0, 0, 0, 0, 0, 0, 0, 0, 1, 1, 1, 0, 0, 0, 0, 1, 1, 0, 1, 1] (fitness = 193409.90950866626)\n",
      "Poblacion inicial, best_fitness = 179110.68385171713\n",
      "generacion 0, Mejor fitness = 179110.68385171713)\n",
      "generacion 10, Mejor fitness = 191896.8733866386)\n",
      "generacion 20, Mejor fitness = 193202.93798991878)\n",
      "generacion 30, Mejor fitness = 193409.90950866626)\n",
      "generacion 40, Mejor fitness = 193409.90950866626)\n",
      "generacion 50, Mejor fitness = 193409.90950866626)\n",
      "generacion 60, Mejor fitness = 193409.90950866626)\n",
      "generacion 70, Mejor fitness = 193409.90950866626)\n",
      "generacion 80, Mejor fitness = 193409.90950866626)\n",
      "generacion 90, Mejor fitness = 193409.90950866626)\n",
      "generacion 100, Mejor fitness = 193409.90950866626)\n",
      "generacion 110, Mejor fitness = 193409.90950866626)\n",
      "generacion 120, Mejor fitness = 193409.90950866626)\n",
      "generacion 130, Mejor fitness = 193409.90950866626)\n",
      "generacion 140, Mejor fitness = 193409.90950866626)\n",
      "generacion 150, Mejor fitness = 193409.90950866626)\n",
      "generacion 160, Mejor fitness = 193409.90950866626)\n",
      "generacion 170, Mejor fitness = 193409.90950866626)\n",
      "generacion 180, Mejor fitness = 193409.90950866626)\n",
      "generacion 190, Mejor fitness = 193409.90950866626)\n",
      "generacion 200, Mejor fitness = 193409.90950866626)\n",
      "generacion 210, Mejor fitness = 193409.90950866626)\n",
      "generacion 220, Mejor fitness = 193409.90950866626)\n",
      "generacion 230, Mejor fitness = 193409.90950866626)\n",
      "generacion 240, Mejor fitness = 193409.90950866626)\n",
      "generacion 250, Mejor fitness = 193409.90950866626)\n",
      "generacion 260, Mejor fitness = 193409.90950866626)\n",
      "generacion 270, Mejor fitness = 193409.90950866626)\n",
      "generacion 280, Mejor fitness = 193409.90950866626)\n",
      "generacion 290, Mejor fitness = 193409.90950866626)\n",
      "generacion 300, Mejor fitness = 193409.90950866626)\n",
      "generacion 310, Mejor fitness = 193409.90950866626)\n",
      "generacion 320, Mejor fitness = 193409.90950866626)\n",
      "generacion 330, Mejor fitness = 193409.90950866626)\n",
      "generacion 340, Mejor fitness = 193409.90950866626)\n",
      "generacion 350, Mejor fitness = 193409.90950866626)\n",
      "generacion 360, Mejor fitness = 193409.90950866626)\n",
      "generacion 370, Mejor fitness = 193409.90950866626)\n",
      "generacion 380, Mejor fitness = 193409.90950866626)\n",
      "generacion 390, Mejor fitness = 193409.90950866626)\n",
      "generacion 400, Mejor fitness = 193409.90950866626)\n",
      "generacion 410, Mejor fitness = 193409.90950866626)\n",
      "generacion 420, Mejor fitness = 193409.90950866626)\n",
      "generacion 430, Mejor fitness = 193409.90950866626)\n",
      "generacion 440, Mejor fitness = 193409.90950866626)\n",
      "generacion 450, Mejor fitness = 193409.90950866626)\n",
      "generacion 460, Mejor fitness = 193409.90950866626)\n",
      "generacion 470, Mejor fitness = 193409.90950866626)\n",
      "generacion 480, Mejor fitness = 193409.90950866626)\n",
      "generacion 490, Mejor fitness = 193409.90950866626)\n",
      "Mejor individuo en la ultima generacion = [1, 1, 1, 0, 0, 0, 0, 0, 0, 0, 0, 0, 0, 0, 0, 0, 0, 0, 0, 0, 0, 0, 0, 0, 0, 0, 0, 0, 0, 0, 0, 0, 0, 0, 0, 0, 0, 0, 0, 0, 0, 0, 0, 0, 0, 0, 0, 0, 1, 1, 1, 0, 0, 0, 0, 1, 1, 0, 1, 1] (fitness = 193409.90950866626)\n",
      "Poblacion inicial, best_fitness = 173150\n",
      "generacion 0, Mejor fitness = 180638.0484570989)\n",
      "generacion 10, Mejor fitness = 189818.19528964203)\n",
      "generacion 20, Mejor fitness = 192807.5128586522)\n",
      "generacion 30, Mejor fitness = 193409.90950866626)\n",
      "generacion 40, Mejor fitness = 193409.90950866626)\n",
      "generacion 50, Mejor fitness = 193409.90950866626)\n",
      "generacion 60, Mejor fitness = 193409.90950866626)\n",
      "generacion 70, Mejor fitness = 193409.90950866626)\n",
      "generacion 80, Mejor fitness = 193409.90950866626)\n",
      "generacion 90, Mejor fitness = 193409.90950866626)\n",
      "generacion 100, Mejor fitness = 193409.90950866626)\n",
      "generacion 110, Mejor fitness = 193409.90950866626)\n",
      "generacion 120, Mejor fitness = 193409.90950866626)\n",
      "generacion 130, Mejor fitness = 193409.90950866626)\n",
      "generacion 140, Mejor fitness = 193409.90950866626)\n",
      "generacion 150, Mejor fitness = 193409.90950866626)\n",
      "generacion 160, Mejor fitness = 193409.90950866626)\n",
      "generacion 170, Mejor fitness = 193409.90950866626)\n",
      "generacion 180, Mejor fitness = 193409.90950866626)\n",
      "generacion 190, Mejor fitness = 193409.90950866626)\n",
      "generacion 200, Mejor fitness = 193409.90950866626)\n",
      "generacion 210, Mejor fitness = 193409.90950866626)\n",
      "generacion 220, Mejor fitness = 193409.90950866626)\n",
      "generacion 230, Mejor fitness = 193409.90950866626)\n",
      "generacion 240, Mejor fitness = 193409.90950866626)\n",
      "generacion 250, Mejor fitness = 193409.90950866626)\n",
      "generacion 260, Mejor fitness = 193409.90950866626)\n",
      "generacion 270, Mejor fitness = 193409.90950866626)\n",
      "generacion 280, Mejor fitness = 193409.90950866626)\n",
      "generacion 290, Mejor fitness = 193409.90950866626)\n",
      "generacion 300, Mejor fitness = 193409.90950866626)\n",
      "generacion 310, Mejor fitness = 193409.90950866626)\n",
      "generacion 320, Mejor fitness = 193409.90950866626)\n",
      "generacion 330, Mejor fitness = 193409.90950866626)\n",
      "generacion 340, Mejor fitness = 193409.90950866626)\n",
      "generacion 350, Mejor fitness = 193409.90950866626)\n",
      "generacion 360, Mejor fitness = 193409.90950866626)\n",
      "generacion 370, Mejor fitness = 193409.90950866626)\n",
      "generacion 380, Mejor fitness = 193409.90950866626)\n",
      "generacion 390, Mejor fitness = 193409.90950866626)\n",
      "generacion 400, Mejor fitness = 193409.90950866626)\n",
      "generacion 410, Mejor fitness = 193409.90950866626)\n",
      "generacion 420, Mejor fitness = 193409.90950866626)\n",
      "generacion 430, Mejor fitness = 193409.90950866626)\n",
      "generacion 440, Mejor fitness = 193409.90950866626)\n",
      "generacion 450, Mejor fitness = 193409.90950866626)\n",
      "generacion 460, Mejor fitness = 193409.90950866626)\n",
      "generacion 470, Mejor fitness = 193409.90950866626)\n",
      "generacion 480, Mejor fitness = 193409.90950866626)\n",
      "generacion 490, Mejor fitness = 193409.90950866626)\n",
      "Mejor individuo en la ultima generacion = [1, 1, 1, 0, 0, 0, 0, 0, 0, 0, 0, 0, 0, 0, 0, 0, 0, 0, 0, 0, 0, 0, 0, 0, 0, 0, 0, 0, 0, 0, 0, 0, 0, 0, 0, 0, 0, 0, 0, 0, 0, 0, 0, 0, 0, 0, 0, 0, 1, 1, 1, 0, 0, 0, 0, 1, 1, 0, 1, 1] (fitness = 193409.90950866626)\n"
     ]
    }
   ],
   "source": [
    "## Hiperparametros del algoritmo genetico\n",
    "POP_SIZE = 100       # numero de individuos\n",
    "GENERATIONS = 500   # numero de generaciones\n",
    "PMUT = 0.1        # tasa de mutacion\n",
    "individuos,fitness,sum_distancia,sum_poblacion=([] for _ in range(4))\n",
    "for _ in range(10):\n",
    "    population = init_population(POP_SIZE,maxMark=10);\n",
    "    best_ind, bestfitness, _ = genetic_algorithm(population, marketPool, GENERATIONS, PMUT, crossover=\"uniform\", mutation=\"flip\",select='roulette');\n",
    "    individuos.append(best_ind)\n",
    "    fitness.append(best_ind.fitness)\n",
    "    sum_distancia.append(get_fitness_lista(best_ind.chromosome,marketPool)[1])\n",
    "    sum_poblacion.append(get_fitness_lista(best_ind.chromosome,marketPool)[0])"
   ]
  },
  {
   "cell_type": "code",
   "execution_count": 30,
   "metadata": {
    "colab": {
     "base_uri": "https://localhost:8080/",
     "height": 359
    },
    "colab_type": "code",
    "id": "-vYMN6hza3FX",
    "outputId": "46f76b7d-58fa-48fa-8ce1-e845f2ff5508"
   },
   "outputs": [
    {
     "data": {
      "text/html": [
       "<div>\n",
       "<style scoped>\n",
       "    .dataframe tbody tr th:only-of-type {\n",
       "        vertical-align: middle;\n",
       "    }\n",
       "\n",
       "    .dataframe tbody tr th {\n",
       "        vertical-align: top;\n",
       "    }\n",
       "\n",
       "    .dataframe thead th {\n",
       "        text-align: right;\n",
       "    }\n",
       "</style>\n",
       "<table border=\"1\" class=\"dataframe\">\n",
       "  <thead>\n",
       "    <tr style=\"text-align: right;\">\n",
       "      <th></th>\n",
       "      <th>individuos</th>\n",
       "      <th>fitness</th>\n",
       "      <th>suma_distancia</th>\n",
       "      <th>suma_poblacion</th>\n",
       "    </tr>\n",
       "  </thead>\n",
       "  <tbody>\n",
       "    <tr>\n",
       "      <th>0</th>\n",
       "      <td>&lt;__main__.Individual object at 0x7f09dd030bd0&gt;</td>\n",
       "      <td>193409.909509</td>\n",
       "      <td>10309.909509</td>\n",
       "      <td>183100</td>\n",
       "    </tr>\n",
       "    <tr>\n",
       "      <th>1</th>\n",
       "      <td>&lt;__main__.Individual object at 0x7f09dd5c72d0&gt;</td>\n",
       "      <td>193409.909509</td>\n",
       "      <td>10309.909509</td>\n",
       "      <td>183100</td>\n",
       "    </tr>\n",
       "    <tr>\n",
       "      <th>2</th>\n",
       "      <td>&lt;__main__.Individual object at 0x7f09dd5ea810&gt;</td>\n",
       "      <td>193409.909509</td>\n",
       "      <td>10309.909509</td>\n",
       "      <td>183100</td>\n",
       "    </tr>\n",
       "    <tr>\n",
       "      <th>3</th>\n",
       "      <td>&lt;__main__.Individual object at 0x7f09dd5eaf90&gt;</td>\n",
       "      <td>193409.909509</td>\n",
       "      <td>10309.909509</td>\n",
       "      <td>183100</td>\n",
       "    </tr>\n",
       "    <tr>\n",
       "      <th>4</th>\n",
       "      <td>&lt;__main__.Individual object at 0x7f09dd657710&gt;</td>\n",
       "      <td>193409.909509</td>\n",
       "      <td>10309.909509</td>\n",
       "      <td>183100</td>\n",
       "    </tr>\n",
       "    <tr>\n",
       "      <th>5</th>\n",
       "      <td>&lt;__main__.Individual object at 0x7f09dd5c7490&gt;</td>\n",
       "      <td>193409.909509</td>\n",
       "      <td>10309.909509</td>\n",
       "      <td>183100</td>\n",
       "    </tr>\n",
       "    <tr>\n",
       "      <th>6</th>\n",
       "      <td>&lt;__main__.Individual object at 0x7f09dd5de610&gt;</td>\n",
       "      <td>193409.909509</td>\n",
       "      <td>10309.909509</td>\n",
       "      <td>183100</td>\n",
       "    </tr>\n",
       "    <tr>\n",
       "      <th>7</th>\n",
       "      <td>&lt;__main__.Individual object at 0x7f09dd5eabd0&gt;</td>\n",
       "      <td>193409.909509</td>\n",
       "      <td>10309.909509</td>\n",
       "      <td>183100</td>\n",
       "    </tr>\n",
       "    <tr>\n",
       "      <th>8</th>\n",
       "      <td>&lt;__main__.Individual object at 0x7f09dd65d810&gt;</td>\n",
       "      <td>193409.909509</td>\n",
       "      <td>10309.909509</td>\n",
       "      <td>183100</td>\n",
       "    </tr>\n",
       "    <tr>\n",
       "      <th>9</th>\n",
       "      <td>&lt;__main__.Individual object at 0x7f09dd657ed0&gt;</td>\n",
       "      <td>193409.909509</td>\n",
       "      <td>10309.909509</td>\n",
       "      <td>183100</td>\n",
       "    </tr>\n",
       "  </tbody>\n",
       "</table>\n",
       "</div>"
      ],
      "text/plain": [
       "                                       individuos        fitness  \\\n",
       "0  <__main__.Individual object at 0x7f09dd030bd0>  193409.909509   \n",
       "1  <__main__.Individual object at 0x7f09dd5c72d0>  193409.909509   \n",
       "2  <__main__.Individual object at 0x7f09dd5ea810>  193409.909509   \n",
       "3  <__main__.Individual object at 0x7f09dd5eaf90>  193409.909509   \n",
       "4  <__main__.Individual object at 0x7f09dd657710>  193409.909509   \n",
       "5  <__main__.Individual object at 0x7f09dd5c7490>  193409.909509   \n",
       "6  <__main__.Individual object at 0x7f09dd5de610>  193409.909509   \n",
       "7  <__main__.Individual object at 0x7f09dd5eabd0>  193409.909509   \n",
       "8  <__main__.Individual object at 0x7f09dd65d810>  193409.909509   \n",
       "9  <__main__.Individual object at 0x7f09dd657ed0>  193409.909509   \n",
       "\n",
       "   suma_distancia  suma_poblacion  \n",
       "0    10309.909509          183100  \n",
       "1    10309.909509          183100  \n",
       "2    10309.909509          183100  \n",
       "3    10309.909509          183100  \n",
       "4    10309.909509          183100  \n",
       "5    10309.909509          183100  \n",
       "6    10309.909509          183100  \n",
       "7    10309.909509          183100  \n",
       "8    10309.909509          183100  \n",
       "9    10309.909509          183100  "
      ]
     },
     "execution_count": 30,
     "metadata": {},
     "output_type": "execute_result"
    }
   ],
   "source": [
    "resultados_mono_obj=pd.DataFrame({'individuos':individuos,'fitness':fitness,'suma_distancia':sum_distancia,'suma_poblacion':sum_poblacion})\n",
    "resultados_mono_obj"
   ]
  },
  {
   "cell_type": "markdown",
   "metadata": {
    "colab_type": "text",
    "id": "o3XPpzeMa3Fa"
   },
   "source": [
    "## **2) Algoritmo multi-objetivo NSGA-II**"
   ]
  },
  {
   "cell_type": "markdown",
   "metadata": {
    "colab_type": "text",
    "id": "zssQGLS1a3Fa"
   },
   "source": [
    "**a) Función para obtener los fitness para los dos objetivos**"
   ]
  },
  {
   "cell_type": "code",
   "execution_count": 31,
   "metadata": {
    "colab": {},
    "colab_type": "code",
    "id": "5rjPHrcda3Fb"
   },
   "outputs": [],
   "source": [
    "def get_fitness_nsga(chromosome, markets):\n",
    "    fitnesses=np.zeros(2) #cantidad de objetivos a medir\n",
    "    markets_elegidos=[]\n",
    "    sum_pob=0\n",
    "    sum_dist=0\n",
    "    for i in range(len(markets)):\n",
    "        if chromosome[i] == 1:  # si el market i esta incluido en el cromosoma, acumula su poblacion y distancia\n",
    "            sum_pob += markets[i].pob\n",
    "            markets_elegidos.append(i)\n",
    "            \n",
    "    for j in markets_elegidos:\n",
    "        for k in markets_elegidos[j+1:]:\n",
    "            sum_dist=sum_dist+lista_total_distancias[(j,k)]\n",
    "    fitnesses[0]=sum_pob\n",
    "    fitnesses[1]=sum_dist\n",
    "    return fitnesses"
   ]
  },
  {
   "cell_type": "markdown",
   "metadata": {
    "colab_type": "text",
    "id": "0xAG9vD2a3Fe"
   },
   "source": [
    "**b) Funcion para evaluar una población de individuos**"
   ]
  },
  {
   "cell_type": "code",
   "execution_count": 32,
   "metadata": {
    "colab": {},
    "colab_type": "code",
    "id": "zGe1vgOoa3Ff"
   },
   "outputs": [],
   "source": [
    "def evaluate_population_nsga(population, markets):\n",
    "    \"\"\" Evalua una poblacion de individuos con la funcion get_fitness \"\"\"\n",
    "    pop_size = len(population)\n",
    "    for i in range(pop_size):\n",
    "        if population[i].fitness == -1:    # evalua solo si el individuo no esta evaluado\n",
    "            population[i].fitness = get_fitness_nsga(population[i].chromosome, markets)"
   ]
  },
  {
   "cell_type": "markdown",
   "metadata": {
    "colab_type": "text",
    "id": "e0hH_37va3Fk"
   },
   "source": [
    "**c) Funcion para la obtencion de la poblacion descendiente**"
   ]
  },
  {
   "cell_type": "code",
   "execution_count": 33,
   "metadata": {
    "colab": {},
    "colab_type": "code",
    "id": "o4h1JWaPa3Fm"
   },
   "outputs": [],
   "source": [
    "def build_offspring_population(population, crossover, mutation, pmut):     \n",
    "    \"\"\" Construye una poblacion hija con los operadores de cruzamiento y mutacion pasados\n",
    "        crossover:  operador de cruzamiento\n",
    "        mutation:   operador de mutacion\n",
    "        pmut:       taza de mutacion\n",
    "    \"\"\"\n",
    "    pop_size = len(population)\n",
    "    \n",
    "    ## Selecciona parejas de individuos (mating_pool) para cruzamiento con el metodo de la ruleta\n",
    "    mating_pool = []\n",
    "    for i in range(int(pop_size/2)): \n",
    "        # escoge dos individuos diferentes aleatoriamente de la poblacion\n",
    "        permut = np.random.permutation( pop_size )\n",
    "        mating_pool.append( (population[permut[0]], population[permut[1]] ) ) \n",
    "        \n",
    "    ## Crea la poblacion descendencia cruzando las parejas del mating pool \n",
    "    offspring_population = []\n",
    "    for i in range(len(mating_pool)): \n",
    "        if crossover == \"onepoint\":\n",
    "            offspring_population.extend( mating_pool[i][0].crossover_onepoint(mating_pool[i][1]) ) # cruzamiento 1 punto\n",
    "        elif crossover == \"uniform\":\n",
    "            offspring_population.extend( mating_pool[i][0].crossover_uniform(mating_pool[i][1]) ) # cruzamiento uniforme\n",
    "        else:\n",
    "            raise NotImplementedError\n",
    "\n",
    "    ## Aplica el operador de mutacion con probabilidad pmut en cada hijo generado\n",
    "    for i in range(len(offspring_population)):\n",
    "        if uniform(0, 1) < pmut: \n",
    "            if mutation == \"flip\":\n",
    "                offspring_population[i] = offspring_population[i].mutation_flip() # cambia el alelo de un gen\n",
    "            else:\n",
    "                raise NotImplementedError   \n",
    "                \n",
    "    return offspring_population\n"
   ]
  },
  {
   "cell_type": "markdown",
   "metadata": {
    "colab_type": "text",
    "id": "3r5Ardqla3Fq"
   },
   "source": [
    "**d) Funcion para la obtencion de las distancias crowding**"
   ]
  },
  {
   "cell_type": "code",
   "execution_count": 34,
   "metadata": {
    "colab": {},
    "colab_type": "code",
    "id": "A9FI8FLpa3Fr"
   },
   "outputs": [],
   "source": [
    "def get_crowding_distances(fitnesses):\n",
    "    \"\"\"\n",
    "    La distancia crowding de un individuo es la diferencia del fitness mas proximo hacia arriba menos el fitness mas proximo \n",
    "    hacia abajo. El valor crowding total es la suma de todas las distancias crowdings para todos los fitness\n",
    "    \"\"\"\n",
    "    #fitnesses de la forma np.array( [ [23,23],[12,21],[2,2] ])\n",
    "    pop_size = len(fitnesses[:, 0])\n",
    "    num_objectives = len(fitnesses[0, :])\n",
    "\n",
    "    # crea matriz crowding. Filas representan individuos, columnas representan objectives\n",
    "    crowding_matrix = np.zeros((pop_size, num_objectives))\n",
    "\n",
    "    # normaliza los fitnesses entre 0 y 1 (ptp es max - min)\n",
    "    # Es importante normalizar los fitness porque pueden venir con diferentes unidades de medida\n",
    "    normalized_fitnesses = (fitnesses - fitnesses.min(0)) / fitnesses.ptp(0)\n",
    "\n",
    "    for col in range(num_objectives):   # Por cada objective\n",
    "        crowding = np.zeros(pop_size)\n",
    "\n",
    "        # puntos extremos tienen maximo crowding\n",
    "        crowding[0] = 1\n",
    "        crowding[pop_size - 1] = 1\n",
    "\n",
    "        # ordena los fitness normalizados del objectivo actual\n",
    "        sorted_fitnesses = np.sort(normalized_fitnesses[:, col])\n",
    "        sorted_fitnesses_index = np.argsort(normalized_fitnesses[:, col])\n",
    "\n",
    "        # Calcula la distancia crowding de cada individuo como la diferencia de score de los vecinos\n",
    "        crowding[1:pop_size - 1] = (sorted_fitnesses[2:pop_size] - sorted_fitnesses[0:pop_size - 2])\n",
    "\n",
    "        # obtiene el ordenamiento original\n",
    "        re_sort_order = np.argsort(sorted_fitnesses_index)\n",
    "        sorted_crowding = crowding[re_sort_order]\n",
    "\n",
    "        # Salva las distancias crowdingpara el objetivo que se esta iterando\n",
    "        crowding_matrix[:, col] = sorted_crowding\n",
    "\n",
    "    # Obtiene las distancias crowding finales sumando las distancias crowding de cada objetivo \n",
    "    crowding_distances = np.sum(crowding_matrix, axis=1)\n",
    "\n",
    "    return crowding_distances"
   ]
  },
  {
   "cell_type": "markdown",
   "metadata": {
    "colab_type": "text",
    "id": "YJS7Xnxaa3Fu"
   },
   "source": [
    "**e) Funcion para la seleccion por distancia crowding**"
   ]
  },
  {
   "cell_type": "code",
   "execution_count": 35,
   "metadata": {
    "colab": {},
    "colab_type": "code",
    "id": "sgNZbN7ua3Fv"
   },
   "outputs": [],
   "source": [
    "def select_by_crowding(population, num_individuals):\n",
    "    \"\"\"\n",
    "    Selecciona una poblacion de individuos basado en torneos de pares de individuos: dos individuos se escoge al azar\n",
    "    y se selecciona el mejor segun la distancia crowding. Se repite hasta obtener num_individuals individuos\n",
    "    \"\"\"    \n",
    "    population = deepcopy(population)\n",
    "    pop_size = len(population)\n",
    "    num_objectives = len(population[0].fitness)\n",
    "    \n",
    "    # extrae los fitness de la poblacion en la matriz fitnesses\n",
    "    fitnesses = np.zeros([pop_size, num_objectives])\n",
    "    for i in range(pop_size): fitnesses[i,:] = population[i].fitness\n",
    "        \n",
    "    # obtiene las  distancias  crowding\n",
    "    crowding_distances = get_crowding_distances(fitnesses)   \n",
    "    \n",
    "    population_selected = []   # poblacion escogida\n",
    "\n",
    "    for i in range(num_individuals):  # por cada individuo a seleccionar\n",
    "\n",
    "        # escoje dos individuos aleatoriamente de la poblacion no escogida aun\n",
    "        permut = np.random.permutation( len(population) )\n",
    "        ind1_id = permut[0]\n",
    "        ind2_id = permut[1]\n",
    "\n",
    "        # Si ind1_id es el mejor\n",
    "        if crowding_distances[ind1_id] >= crowding_distances[ind2_id]:\n",
    "\n",
    "            # traslada el individuo ind1 de population a la lista de individuos seleccionados\n",
    "            population_selected.append( population.pop(ind1_id) )\n",
    "            # remueve la distancia crowding del individuo seleccionado\n",
    "            crowding_distances = np.delete(crowding_distances, ind1_id, axis=0)\n",
    "            \n",
    "        else:  # Si ind2_id es el mejor\n",
    "            \n",
    "            # traslada el individuo ind2 de population a la lista de individuos seleccionados\n",
    "            population_selected.append( population.pop(ind2_id) )\n",
    "            # remueve la distancia crowding del individuo seleccionado\n",
    "            crowding_distances = np.delete(crowding_distances, ind2_id, axis=0)\n",
    "\n",
    "    return (population_selected)"
   ]
  },
  {
   "cell_type": "markdown",
   "metadata": {
    "colab_type": "text",
    "id": "W-p3XfqTa3Fx"
   },
   "source": [
    "**f) Funcion para de la frontera de pareto**"
   ]
  },
  {
   "cell_type": "code",
   "execution_count": 36,
   "metadata": {
    "colab": {},
    "colab_type": "code",
    "id": "vrOPHlUNa3Fy"
   },
   "outputs": [],
   "source": [
    "def get_paretofront_population(population):\n",
    "    \"\"\"\n",
    "    Obtiene de population la poblacion de individups de la frontera de Pareto, \n",
    "    \"\"\"\n",
    "    population = deepcopy(population)\n",
    "    pop_size = len(population)\n",
    "    \n",
    "    # todos los individuos son inicialmente asumidos como la frontera de Pareto\n",
    "    pareto_front = np.ones(pop_size, dtype=bool)\n",
    "    \n",
    "    for i in range(pop_size): # Compara cada individuo contra todos los demas\n",
    "        for j in range(pop_size):\n",
    "            # Chequea si individuo 'i' es dominado por individuo 'j'\n",
    "            if all(population[j].fitness >= population[i].fitness) and any(population[j].fitness > population[i].fitness): #NO es OR ?\n",
    "                # j domina i -> señaliza que individuo 'i' como no siendo parte de la frontera de Pareto\n",
    "                pareto_front[i] = 0\n",
    "                break   # Para la busqueda para 'i' (no es necesario hacer mas comparaciones)\n",
    "\n",
    "    paretofront_population = []\n",
    "    for i in range(pop_size):  # construye la lista de individuos de la frontera de Pareto \n",
    "        if pareto_front[i] == 1: paretofront_population.append(population[i])\n",
    "        \n",
    "    return paretofront_population"
   ]
  },
  {
   "cell_type": "markdown",
   "metadata": {
    "colab_type": "text",
    "id": "9OK3N4HGa3F0"
   },
   "source": [
    "**g) Funcion para la obtencion de la siguiente poblacion**"
   ]
  },
  {
   "cell_type": "code",
   "execution_count": 37,
   "metadata": {
    "colab": {},
    "colab_type": "code",
    "id": "ZK4vuFJZa3F1"
   },
   "outputs": [],
   "source": [
    "def build_next_population(population, min_pop_size, max_pop_size):\n",
    "    \"\"\"\n",
    "    Construye la poblacion de la siguiente generacion añadiendo sucesivas fronteras de Pareto hasta \n",
    "    tener una poblacion de al menos min_pop_size individuos. Reduce la frontera de Pareto con el metodo de\n",
    "    crowding distance si al agregar la frontera excede el tamaño maximo de la poblacion (max_pop_size)\n",
    "    \"\"\"\n",
    "    population = deepcopy(population)\n",
    "    pareto_front = []\n",
    "    next_population = []\n",
    "    \n",
    "    while len(next_population) < min_pop_size:   # mientras la poblacion no tenga el tamaño minimo\n",
    "        # obtiene la poblacion frontera de Pareto actual\n",
    "        paretofront_population = get_paretofront_population(population)\n",
    "        \n",
    "        # si poblacion actual + paretofront excede el maximo permitido -> reduce paretofront con el metodo de crowding\n",
    "        combined_population_size = len(next_population) + len(paretofront_population)\n",
    "        if  combined_population_size > max_pop_size:\n",
    "            paretofront_population = select_by_crowding( paretofront_population, max_pop_size-len(next_population) ) \n",
    "        \n",
    "        # Adiciona la frontera de Pareto (original o reducida) a la poblacion en construccion\n",
    "        next_population.extend( paretofront_population )\n",
    "    \n",
    "        # remueve de population los individuos que fueron agregados a next_population \n",
    "        for i in range( len(paretofront_population) ):\n",
    "            for j in range( len(population) ):\n",
    "                if all( np.asarray(paretofront_population[i].chromosome) == np.asarray(population[j].chromosome) ):\n",
    "                    del(population[j])\n",
    "                    break\n",
    "                    \n",
    "    return next_population"
   ]
  },
  {
   "cell_type": "markdown",
   "metadata": {
    "colab_type": "text",
    "id": "d8zBp1iKa3F2"
   },
   "source": [
    "**h) Ejecucion del algoritmo**"
   ]
  },
  {
   "cell_type": "code",
   "execution_count": 38,
   "metadata": {
    "colab": {
     "base_uri": "https://localhost:8080/",
     "height": 867
    },
    "colab_type": "code",
    "collapsed": true,
    "id": "3RXr_iSta3F3",
    "jupyter": {
     "outputs_hidden": true
    },
    "outputId": "99e7c7e5-f14c-4a76-c833-bb52fcaf1562"
   },
   "outputs": [
    {
     "name": "stdout",
     "output_type": "stream",
     "text": [
      "Generacion 0 (de 500) \n",
      "Generacion 10 (de 500) \n",
      "Generacion 20 (de 500) \n",
      "Generacion 30 (de 500) \n",
      "Generacion 40 (de 500) \n",
      "Generacion 50 (de 500) \n",
      "Generacion 60 (de 500) \n",
      "Generacion 70 (de 500) \n",
      "Generacion 80 (de 500) \n",
      "Generacion 90 (de 500) \n",
      "Generacion 100 (de 500) \n",
      "Generacion 110 (de 500) \n",
      "Generacion 120 (de 500) \n",
      "Generacion 130 (de 500) \n",
      "Generacion 140 (de 500) \n",
      "Generacion 150 (de 500) \n",
      "Generacion 160 (de 500) \n",
      "Generacion 170 (de 500) \n",
      "Generacion 180 (de 500) \n",
      "Generacion 190 (de 500) \n",
      "Generacion 200 (de 500) \n",
      "Generacion 210 (de 500) \n",
      "Generacion 220 (de 500) \n",
      "Generacion 230 (de 500) \n",
      "Generacion 240 (de 500) \n",
      "Generacion 250 (de 500) \n",
      "Generacion 260 (de 500) \n",
      "Generacion 270 (de 500) \n",
      "Generacion 280 (de 500) \n",
      "Generacion 290 (de 500) \n",
      "Generacion 300 (de 500) \n",
      "Generacion 310 (de 500) \n",
      "Generacion 320 (de 500) \n",
      "Generacion 330 (de 500) \n",
      "Generacion 340 (de 500) \n",
      "Generacion 350 (de 500) \n",
      "Generacion 360 (de 500) \n",
      "Generacion 370 (de 500) \n",
      "Generacion 380 (de 500) \n",
      "Generacion 390 (de 500) \n",
      "Generacion 400 (de 500) \n",
      "Generacion 410 (de 500) \n",
      "Generacion 420 (de 500) \n",
      "Generacion 430 (de 500) \n",
      "Generacion 440 (de 500) \n",
      "Generacion 450 (de 500) \n",
      "Generacion 460 (de 500) \n",
      "Generacion 470 (de 500) \n",
      "Generacion 480 (de 500) \n",
      "Generacion 490 (de 500) \n"
     ]
    }
   ],
   "source": [
    "## Hiperparametros del algoritmo genetico\n",
    "POP_SIZE = 50       # numero de individuos\n",
    "GENERATIONS = 500   # numero de generaciones\n",
    "PMUT = 1        # taza de mutacion\n",
    "MIN_POP_SIZE = 100    # numero de individuos minimo\n",
    "MAX_POP_SIZE = 100    # numero de individuos maximo\n",
    "\n",
    "## Inicializa una poblacion inicial de forma aleatoria\n",
    "P = init_population(POP_SIZE,maxMark=10)\n",
    "\n",
    "evaluate_population_nsga(P,marketPool)    #  evalua la poblacion inicial\n",
    "## Ejecuta los ciclos evolutivos \n",
    "for g in range(GENERATIONS):   # Por cada generacion\n",
    "    \n",
    "    if g %10 == 0:\n",
    "        print ('Generacion {} (de {}) '.format(g, GENERATIONS))\n",
    "    \n",
    "    ## genera y evalua la poblacion hija    \n",
    "    Q = build_offspring_population(P, \"uniform\", \"flip\", PMUT)\n",
    "    evaluate_population_nsga(Q, marketPool)\n",
    "    \n",
    "    ## une la poblacion padre y la poblacion hija\n",
    "    P.extend(Q) \n",
    "    \n",
    "    ## Construye la poblacion de la siguiente generacion\n",
    "    P = build_next_population(P, MIN_POP_SIZE, MAX_POP_SIZE)\n",
    "\n",
    "# Obtiene la poblacion de la frontera de pareto final \n",
    "pareto_front_population = get_paretofront_population(P)"
   ]
  },
  {
   "cell_type": "markdown",
   "metadata": {
    "colab_type": "text",
    "id": "ippHlyJGa3F5"
   },
   "source": [
    "**i) Visualizacion de la frontera de pareto**"
   ]
  },
  {
   "cell_type": "code",
   "execution_count": 39,
   "metadata": {
    "colab": {
     "base_uri": "https://localhost:8080/",
     "height": 279
    },
    "colab_type": "code",
    "id": "GkImmB6Va3F5",
    "outputId": "f92befb8-ab23-4268-82aa-52fc2de404e8"
   },
   "outputs": [
    {
     "data": {
      "image/png": "[encoded data removed]",
      "text/plain": [
       "<Figure size 432x288 with 1 Axes>"
      ]
     },
     "metadata": {
      "needs_background": "light"
     },
     "output_type": "display_data"
    }
   ],
   "source": [
    "## Plotea los individuos de la frontera de Pareto final\n",
    "CHROMOSOME_SIZE = 60 \n",
    "pop_size = len(pareto_front_population)\n",
    "num_objectives = len(pareto_front_population[0].fitness)\n",
    "    \n",
    "# extrae los fitness de la poblacion en la matriz fitnesses\n",
    "fitnesses = np.zeros([pop_size, num_objectives])\n",
    "for i in range(pop_size): fitnesses[i,:] = pareto_front_population[i].fitness\n",
    "\n",
    "x = fitnesses[:, 0]/CHROMOSOME_SIZE*100\n",
    "y = fitnesses[:, 1]/CHROMOSOME_SIZE*100\n",
    "plt.xlabel('Objectivo Poblacion - % maximo obtenible') #Primer objetivo: Maximizar el valor de la mochila\n",
    "plt.ylabel('Objectivo Distancia - % maximo obtenible') #Segundo objetivo: Minimizar el peso de la mochila\n",
    "plt.scatter(x,y)\n",
    "#plt.savefig('pareto.png')\n",
    "plt.show()\n"
   ]
  },
  {
   "cell_type": "markdown",
   "metadata": {
    "colab_type": "text",
    "id": "-oSV9h-Ma3F7"
   },
   "source": [
    "**Verificacion si la solucion que nos otorgó el mono objetivo es parte de las soluciones obtenidas por NSGA-II**"
   ]
  },
  {
   "cell_type": "code",
   "execution_count": 40,
   "metadata": {
    "colab": {
     "base_uri": "https://localhost:8080/",
     "height": 34
    },
    "colab_type": "code",
    "id": "q4WKGQ_4a3F8",
    "outputId": "d14dc954-fb0d-4a04-c247-330d6b92c229"
   },
   "outputs": [
    {
     "data": {
      "text/plain": [
       "True"
      ]
     },
     "execution_count": 40,
     "metadata": {},
     "output_type": "execute_result"
    }
   ],
   "source": [
    "cromosomas=[indi.chromosome for indi in pareto_front_population]\n",
    "valor=True if best_ind.chromosome in cromosomas else False\n",
    "valor"
   ]
  },
  {
   "cell_type": "markdown",
   "metadata": {
    "colab_type": "text",
    "id": "xpxqxi8yCLdV"
   },
   "source": [
    "**Obtencion del individuo con maxima poblacion**"
   ]
  },
  {
   "cell_type": "code",
   "execution_count": 41,
   "metadata": {
    "colab": {},
    "colab_type": "code",
    "id": "-oEme_WfCLdW"
   },
   "outputs": [],
   "source": [
    "fit=0\n",
    "individuo_pob = None\n",
    "for indi in pareto_front_population:\n",
    "    if indi.fitness[0] > fit:\n",
    "        fit=indi.fitness[0]\n",
    "        individuo_pob=indi"
   ]
  },
  {
   "cell_type": "code",
   "execution_count": 42,
   "metadata": {
    "colab": {
     "base_uri": "https://localhost:8080/",
     "height": 34
    },
    "colab_type": "code",
    "id": "zD-UneMVCLdY",
    "outputId": "16995a01-5a56-41e8-d621-6d46ea8c27d3"
   },
   "outputs": [
    {
     "data": {
      "text/plain": [
       "array([307416.66666667,   6486.17710629])"
      ]
     },
     "execution_count": 42,
     "metadata": {},
     "output_type": "execute_result"
    }
   ],
   "source": [
    "individuo_pob.fitness/CHROMOSOME_SIZE*100"
   ]
  },
  {
   "cell_type": "markdown",
   "metadata": {
    "colab_type": "text",
    "id": "ikzcG8syCLdZ"
   },
   "source": [
    "**Obtencion del individuo con maxima distancia**"
   ]
  },
  {
   "cell_type": "code",
   "execution_count": 43,
   "metadata": {
    "colab": {},
    "colab_type": "code",
    "id": "_Qi4nJuhCLda"
   },
   "outputs": [],
   "source": [
    "fit=0\n",
    "individuo_dist=None\n",
    "for indi in pareto_front_population:\n",
    "    if indi.fitness[1] > fit:\n",
    "        fit=indi.fitness[1]\n",
    "        individuo_dist=indi"
   ]
  },
  {
   "cell_type": "code",
   "execution_count": 44,
   "metadata": {
    "colab": {
     "base_uri": "https://localhost:8080/",
     "height": 34
    },
    "colab_type": "code",
    "id": "wpES6oXmCLdb",
    "outputId": "b33e7f50-5964-4b3a-a185-daf848e0e818"
   },
   "outputs": [
    {
     "data": {
      "text/plain": [
       "array([178333.33333333,  39503.64023327])"
      ]
     },
     "execution_count": 44,
     "metadata": {},
     "output_type": "execute_result"
    }
   ],
   "source": [
    "individuo_dist.fitness/CHROMOSOME_SIZE*100"
   ]
  },
  {
   "cell_type": "markdown",
   "metadata": {
    "colab_type": "text",
    "id": "gTdUepE7CLdh"
   },
   "source": [
    "**Obtencion del individuo intermedio**"
   ]
  },
  {
   "cell_type": "code",
   "execution_count": 45,
   "metadata": {
    "colab": {},
    "colab_type": "code",
    "id": "P0VLzWqACLdi"
   },
   "outputs": [],
   "source": [
    "fit_pob=0\n",
    "fit_dist=0\n",
    "for indi in pareto_front_population:\n",
    "    if indi.fitness[0] > fit_pob and indi.fitness[1] > fit_dist:\n",
    "        fit_pob=indi.fitness[0]\n",
    "        fit_dist=indi.fitness[1]\n",
    "        individuo_medio=indi"
   ]
  },
  {
   "cell_type": "code",
   "execution_count": 46,
   "metadata": {
    "colab": {
     "base_uri": "https://localhost:8080/",
     "height": 34
    },
    "colab_type": "code",
    "id": "8L3vnXe5CLdj",
    "outputId": "85a90fa7-9217-4896-cccd-f137d5ba7c13"
   },
   "outputs": [
    {
     "data": {
      "text/plain": [
       "array([181400.        ,  11467.28271639])"
      ]
     },
     "execution_count": 46,
     "metadata": {},
     "output_type": "execute_result"
    }
   ],
   "source": [
    "individuo_medio.fitness"
   ]
  },
  {
   "cell_type": "markdown",
   "metadata": {
    "colab_type": "text",
    "id": "5KPeJu3uo16R"
   },
   "source": [
    "Vemos que la última solución de pareto optimiza la cantidad de pobladores que en los locales"
   ]
  },
  {
   "cell_type": "code",
   "execution_count": 47,
   "metadata": {
    "colab": {
     "base_uri": "https://localhost:8080/",
     "height": 1000
    },
    "colab_type": "code",
    "id": "Kl4gRQlano5R",
    "outputId": "6aa97e65-5016-464a-be2b-429f5e4cd4ea"
   },
   "outputs": [
    {
     "data": {
      "text/html": [
       "<div style=\"width:100%;\"><div style=\"position:relative;width:100%;height:0;padding-bottom:60%;\"><iframe src=\"data:text/html;charset=utf-8;base64,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\" style=\"position:absolute;width:100%;height:100%;left:0;top:0;border:none !important;\" allowfullscreen webkitallowfullscreen mozallowfullscreen></iframe></div></div>"
      ],
      "text/plain": [
       "<folium.folium.Map at 0x7f09dd832a10>"
      ]
     },
     "execution_count": 47,
     "metadata": {},
     "output_type": "execute_result"
    }
   ],
   "source": [
    "m = folium.Map(\n",
    "    location=[-12.0431805, -77.0282364], zoom_start=13, zoomControl= False, min_zoom=13, max_zoom=13)\n",
    "\n",
    "[(folium.Marker([marketPool[i].lat, marketPool[i].lon], icon=folium.Icon(color='red')).add_to(m)) for i in range(len(individuo_pob.chromosome)) if individuo_pob.chromosome[i]==0]\n",
    "[(folium.Marker([marketPool[i].lat, marketPool[i].lon], icon=folium.Icon(color='blue')).add_to(m)) for i in range(len(individuo_pob.chromosome)) if individuo_pob.chromosome[i]==1]\n",
    "points = [(marketPool[i].lat, marketPool[i].lon) for i in range(len(individuo_pob.chromosome)) if individuo_pob.chromosome[i]==1]\n",
    "points.append(points[0])\n",
    "folium.PolyLine(points, color=\"red\", weight=2.5, opacity=1).add_to(m)\n",
    "\n",
    "m"
   ]
  },
  {
   "cell_type": "code",
   "execution_count": 48,
   "metadata": {
    "colab": {
     "base_uri": "https://localhost:8080/",
     "height": 34
    },
    "colab_type": "code",
    "id": "fjEnWtlVtWo8",
    "outputId": "a830184b-9538-4d08-e715-352e812fbf0e"
   },
   "outputs": [
    {
     "name": "stdout",
     "output_type": "stream",
     "text": [
      "Esta solución tiene como maximo fitness cantidad de población 307416.6666666666 y una distancia fitness entre locales de 6486.177106294564\n"
     ]
    }
   ],
   "source": [
    "print(\"Esta solución tiene como maximo fitness cantidad de población {} y una distancia fitness entre locales de {}\".format(individuo_pob.fitness[0]/CHROMOSOME_SIZE*100, individuo_pob.fitness[1]/CHROMOSOME_SIZE*100))"
   ]
  },
  {
   "cell_type": "markdown",
   "metadata": {
    "colab_type": "text",
    "id": "bgGhw7bEprZ_"
   },
   "source": [
    "Ahora probaremos con la frontera de pareto, en donde se maximiza la distancia entre los locales sea la máxima."
   ]
  },
  {
   "cell_type": "code",
   "execution_count": 49,
   "metadata": {
    "colab": {
     "base_uri": "https://localhost:8080/",
     "height": 1000
    },
    "colab_type": "code",
    "id": "4W6vUuLSpqe8",
    "outputId": "9931a713-3226-401a-ad07-113675db44a6"
   },
   "outputs": [
    {
     "data": {
      "text/html": [
       "<div style=\"width:100%;\"><div style=\"position:relative;width:100%;height:0;padding-bottom:60%;\"><iframe src=\"data:text/html;charset=utf-8;base64,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\" style=\"position:absolute;width:100%;height:100%;left:0;top:0;border:none !important;\" allowfullscreen webkitallowfullscreen mozallowfullscreen></iframe></div></div>"
      ],
      "text/plain": [
       "<folium.folium.Map at 0x7f09dd3b88d0>"
      ]
     },
     "execution_count": 49,
     "metadata": {},
     "output_type": "execute_result"
    }
   ],
   "source": [
    "m = folium.Map(\n",
    "    location=[-12.0431805, -77.0282364], zoom_start=13, zoomControl= False, min_zoom=13, max_zoom=13)\n",
    "\n",
    "[(folium.Marker([marketPool[i].lat, marketPool[i].lon], icon=folium.Icon(color='red')).add_to(m)) for i in range(len(individuo_dist.chromosome)) if individuo_dist.chromosome[i]==0]\n",
    "[(folium.Marker([marketPool[i].lat, marketPool[i].lon], icon=folium.Icon(color='blue')).add_to(m)) for i in range(len(individuo_dist.chromosome)) if individuo_dist.chromosome[i]==1]\n",
    "points = [(marketPool[i].lat, marketPool[i].lon) for i in range(len(individuo_dist.chromosome)) if individuo_dist.chromosome[i]==1]\n",
    "points.append(points[0])\n",
    "folium.PolyLine(points, color=\"red\", weight=2.5, opacity=1).add_to(m)\n",
    "\n",
    "m"
   ]
  },
  {
   "cell_type": "code",
   "execution_count": 50,
   "metadata": {
    "colab": {
     "base_uri": "https://localhost:8080/",
     "height": 34
    },
    "colab_type": "code",
    "id": "9F63eRa3t28y",
    "outputId": "4d6b047c-9189-42fa-9171-fde547cb3a25"
   },
   "outputs": [
    {
     "name": "stdout",
     "output_type": "stream",
     "text": [
      "Esta solución tiene como cantidad de población 178333.3333333333 y un maximo de distancia de entre locales de 39503.6402332711\n"
     ]
    }
   ],
   "source": [
    "print(\"Esta solución tiene como cantidad de población {} y un maximo de distancia de entre locales de {}\".format(individuo_dist.fitness[0]/CHROMOSOME_SIZE*100, individuo_dist.fitness[1]/CHROMOSOME_SIZE*100))"
   ]
  },
  {
   "cell_type": "markdown",
   "metadata": {
    "colab_type": "text",
    "id": "AzGAknRiFNoT"
   },
   "source": [
    "Ahora añadiremos los cuales maximizan ambos valores (distancia entre locales y cantidad de población)"
   ]
  },
  {
   "cell_type": "code",
   "execution_count": 51,
   "metadata": {
    "colab": {
     "base_uri": "https://localhost:8080/",
     "height": 1000
    },
    "colab_type": "code",
    "id": "K7btCLxLFM0c",
    "outputId": "5f36f1db-cd39-4500-cab0-b5984a5b62fa"
   },
   "outputs": [
    {
     "data": {
      "text/html": [
       "<div style=\"width:100%;\"><div style=\"position:relative;width:100%;height:0;padding-bottom:60%;\"><iframe src=\"data:text/html;charset=utf-8;base64,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\" style=\"position:absolute;width:100%;height:100%;left:0;top:0;border:none !important;\" allowfullscreen webkitallowfullscreen mozallowfullscreen></iframe></div></div>"
      ],
      "text/plain": [
       "<folium.folium.Map at 0x7f09dd038590>"
      ]
     },
     "execution_count": 51,
     "metadata": {},
     "output_type": "execute_result"
    }
   ],
   "source": [
    "m = folium.Map(\n",
    "    location=[-12.0431805, -77.0282364], zoom_start=13, zoomControl= False, min_zoom=13, max_zoom=13)\n",
    "\n",
    "[(folium.Marker([marketPool[i].lat, marketPool[i].lon], icon=folium.Icon(color='red')).add_to(m)) for i in range(len(individuo_medio.chromosome)) if individuo_medio.chromosome[i]==0]\n",
    "[(folium.Marker([marketPool[i].lat, marketPool[i].lon], icon=folium.Icon(color='blue')).add_to(m)) for i in range(len(individuo_medio.chromosome)) if individuo_medio.chromosome[i]==1]\n",
    "points = [(marketPool[i].lat, marketPool[i].lon) for i in range(len(individuo_medio.chromosome)) if individuo_medio.chromosome[i]==1]\n",
    "points.append(points[0])\n",
    "folium.PolyLine(points, color=\"red\", weight=2.5, opacity=1).add_to(m)\n",
    "\n",
    "m"
   ]
  },
  {
   "cell_type": "code",
   "execution_count": 52,
   "metadata": {
    "colab": {
     "base_uri": "https://localhost:8080/",
     "height": 34
    },
    "colab_type": "code",
    "id": "hf-gqH4yFflU",
    "outputId": "09d8ead5-2cce-4774-b50a-636da47a9a5e"
   },
   "outputs": [
    {
     "name": "stdout",
     "output_type": "stream",
     "text": [
      "Esta solución tiene como cantidad de población 302333.3333333334 y la distancia de entre locales de 19112.13786065232\n"
     ]
    }
   ],
   "source": [
    "print(\"Esta solución tiene como cantidad de población {} y la distancia de entre locales de {}\".format(individuo_medio.fitness[0]/CHROMOSOME_SIZE*100, individuo_medio.fitness[1]/CHROMOSOME_SIZE*100))"
   ]
  },
  {
   "cell_type": "markdown",
   "metadata": {
    "colab_type": "text",
    "id": "PVgjo-2Va3F9"
   },
   "source": [
    "**j) Experimentación con el algoritmo**"
   ]
  },
  {
   "cell_type": "markdown",
   "metadata": {
    "colab_type": "text",
    "id": "uhQGVCXQa3F-"
   },
   "source": [
    "Experimente varias\n",
    "veces el algoritmo implementado con una población de 100 individuos y 500 generaciones\n",
    "(se sugiere ejecutar 10 veces). En cada ejecución registre los individuos de la frontera de\n",
    "Pareto final, así como los valores de las funciones objetivos de dichos individuo. Realice\n",
    "Plots de las fronteras de Pareto encontradas, ubicando en dichos plots los puntos de los\n",
    "mejores individuos encontrados con el algoritmo mono-objetivo."
   ]
  },
  {
   "cell_type": "code",
   "execution_count": 53,
   "metadata": {
    "colab": {
     "base_uri": "https://localhost:8080/",
     "height": 204
    },
    "colab_type": "code",
    "id": "IaqnfKN_a3F_",
    "outputId": "befc0bbf-36ec-42f9-8d17-41d2b9166ca7"
   },
   "outputs": [
    {
     "name": "stdout",
     "output_type": "stream",
     "text": [
      "Iteracion 1\n",
      "Generacion 0 (de 500) \n",
      "Generacion 10 (de 500) \n",
      "Generacion 20 (de 500) \n",
      "Generacion 30 (de 500) \n",
      "Generacion 40 (de 500) \n",
      "Generacion 50 (de 500) \n",
      "Generacion 60 (de 500) \n",
      "Generacion 70 (de 500) \n",
      "Generacion 80 (de 500) \n",
      "Generacion 90 (de 500) \n",
      "Generacion 100 (de 500) \n",
      "Generacion 110 (de 500) \n",
      "Generacion 120 (de 500) \n",
      "Generacion 130 (de 500) \n",
      "Generacion 140 (de 500) \n",
      "Generacion 150 (de 500) \n",
      "Generacion 160 (de 500) \n",
      "Generacion 170 (de 500) \n",
      "Generacion 180 (de 500) \n",
      "Generacion 190 (de 500) \n",
      "Generacion 200 (de 500) \n",
      "Generacion 210 (de 500) \n",
      "Generacion 220 (de 500) \n",
      "Generacion 230 (de 500) \n",
      "Generacion 240 (de 500) \n",
      "Generacion 250 (de 500) \n",
      "Generacion 260 (de 500) \n",
      "Generacion 270 (de 500) \n",
      "Generacion 280 (de 500) \n",
      "Generacion 290 (de 500) \n",
      "Generacion 300 (de 500) \n",
      "Generacion 310 (de 500) \n",
      "Generacion 320 (de 500) \n",
      "Generacion 330 (de 500) \n",
      "Generacion 340 (de 500) \n",
      "Generacion 350 (de 500) \n",
      "Generacion 360 (de 500) \n",
      "Generacion 370 (de 500) \n",
      "Generacion 380 (de 500) \n",
      "Generacion 390 (de 500) \n",
      "Generacion 400 (de 500) \n",
      "Generacion 410 (de 500) \n",
      "Generacion 420 (de 500) \n",
      "Generacion 430 (de 500) \n",
      "Generacion 440 (de 500) \n",
      "Generacion 450 (de 500) \n",
      "Generacion 460 (de 500) \n",
      "Generacion 470 (de 500) \n",
      "Generacion 480 (de 500) \n",
      "Generacion 490 (de 500) \n",
      "Iteracion 2\n",
      "Generacion 0 (de 500) \n",
      "Generacion 10 (de 500) \n",
      "Generacion 20 (de 500) \n",
      "Generacion 30 (de 500) \n",
      "Generacion 40 (de 500) \n",
      "Generacion 50 (de 500) \n",
      "Generacion 60 (de 500) \n",
      "Generacion 70 (de 500) \n",
      "Generacion 80 (de 500) \n",
      "Generacion 90 (de 500) \n",
      "Generacion 100 (de 500) \n",
      "Generacion 110 (de 500) \n",
      "Generacion 120 (de 500) \n",
      "Generacion 130 (de 500) \n",
      "Generacion 140 (de 500) \n",
      "Generacion 150 (de 500) \n",
      "Generacion 160 (de 500) \n",
      "Generacion 170 (de 500) \n",
      "Generacion 180 (de 500) \n",
      "Generacion 190 (de 500) \n",
      "Generacion 200 (de 500) \n",
      "Generacion 210 (de 500) \n",
      "Generacion 220 (de 500) \n",
      "Generacion 230 (de 500) \n",
      "Generacion 240 (de 500) \n",
      "Generacion 250 (de 500) \n",
      "Generacion 260 (de 500) \n",
      "Generacion 270 (de 500) \n",
      "Generacion 280 (de 500) \n",
      "Generacion 290 (de 500) \n",
      "Generacion 300 (de 500) \n",
      "Generacion 310 (de 500) \n",
      "Generacion 320 (de 500) \n",
      "Generacion 330 (de 500) \n",
      "Generacion 340 (de 500) \n",
      "Generacion 350 (de 500) \n",
      "Generacion 360 (de 500) \n",
      "Generacion 370 (de 500) \n",
      "Generacion 380 (de 500) \n",
      "Generacion 390 (de 500) \n",
      "Generacion 400 (de 500) \n",
      "Generacion 410 (de 500) \n",
      "Generacion 420 (de 500) \n",
      "Generacion 430 (de 500) \n",
      "Generacion 440 (de 500) \n",
      "Generacion 450 (de 500) \n",
      "Generacion 460 (de 500) \n",
      "Generacion 470 (de 500) \n",
      "Generacion 480 (de 500) \n",
      "Generacion 490 (de 500) \n",
      "Iteracion 3\n",
      "Generacion 0 (de 500) \n",
      "Generacion 10 (de 500) \n",
      "Generacion 20 (de 500) \n",
      "Generacion 30 (de 500) \n",
      "Generacion 40 (de 500) \n",
      "Generacion 50 (de 500) \n",
      "Generacion 60 (de 500) \n",
      "Generacion 70 (de 500) \n",
      "Generacion 80 (de 500) \n",
      "Generacion 90 (de 500) \n",
      "Generacion 100 (de 500) \n",
      "Generacion 110 (de 500) \n",
      "Generacion 120 (de 500) \n",
      "Generacion 130 (de 500) \n",
      "Generacion 140 (de 500) \n",
      "Generacion 150 (de 500) \n",
      "Generacion 160 (de 500) \n",
      "Generacion 170 (de 500) \n",
      "Generacion 180 (de 500) \n",
      "Generacion 190 (de 500) \n",
      "Generacion 200 (de 500) \n",
      "Generacion 210 (de 500) \n",
      "Generacion 220 (de 500) \n",
      "Generacion 230 (de 500) \n",
      "Generacion 240 (de 500) \n",
      "Generacion 250 (de 500) \n",
      "Generacion 260 (de 500) \n",
      "Generacion 270 (de 500) \n",
      "Generacion 280 (de 500) \n",
      "Generacion 290 (de 500) \n",
      "Generacion 300 (de 500) \n",
      "Generacion 310 (de 500) \n",
      "Generacion 320 (de 500) \n",
      "Generacion 330 (de 500) \n",
      "Generacion 340 (de 500) \n",
      "Generacion 350 (de 500) \n",
      "Generacion 360 (de 500) \n",
      "Generacion 370 (de 500) \n",
      "Generacion 380 (de 500) \n",
      "Generacion 390 (de 500) \n",
      "Generacion 400 (de 500) \n",
      "Generacion 410 (de 500) \n",
      "Generacion 420 (de 500) \n",
      "Generacion 430 (de 500) \n",
      "Generacion 440 (de 500) \n",
      "Generacion 450 (de 500) \n",
      "Generacion 460 (de 500) \n",
      "Generacion 470 (de 500) \n",
      "Generacion 480 (de 500) \n",
      "Generacion 490 (de 500) \n",
      "Iteracion 4\n",
      "Generacion 0 (de 500) \n",
      "Generacion 10 (de 500) \n",
      "Generacion 20 (de 500) \n",
      "Generacion 30 (de 500) \n",
      "Generacion 40 (de 500) \n",
      "Generacion 50 (de 500) \n",
      "Generacion 60 (de 500) \n",
      "Generacion 70 (de 500) \n",
      "Generacion 80 (de 500) \n",
      "Generacion 90 (de 500) \n",
      "Generacion 100 (de 500) \n",
      "Generacion 110 (de 500) \n",
      "Generacion 120 (de 500) \n",
      "Generacion 130 (de 500) \n",
      "Generacion 140 (de 500) \n",
      "Generacion 150 (de 500) \n",
      "Generacion 160 (de 500) \n",
      "Generacion 170 (de 500) \n",
      "Generacion 180 (de 500) \n",
      "Generacion 190 (de 500) \n",
      "Generacion 200 (de 500) \n",
      "Generacion 210 (de 500) \n",
      "Generacion 220 (de 500) \n",
      "Generacion 230 (de 500) \n",
      "Generacion 240 (de 500) \n",
      "Generacion 250 (de 500) \n",
      "Generacion 260 (de 500) \n",
      "Generacion 270 (de 500) \n",
      "Generacion 280 (de 500) \n",
      "Generacion 290 (de 500) \n",
      "Generacion 300 (de 500) \n",
      "Generacion 310 (de 500) \n",
      "Generacion 320 (de 500) \n",
      "Generacion 330 (de 500) \n",
      "Generacion 340 (de 500) \n",
      "Generacion 350 (de 500) \n",
      "Generacion 360 (de 500) \n",
      "Generacion 370 (de 500) \n",
      "Generacion 380 (de 500) \n",
      "Generacion 390 (de 500) \n",
      "Generacion 400 (de 500) \n",
      "Generacion 410 (de 500) \n",
      "Generacion 420 (de 500) \n",
      "Generacion 430 (de 500) \n",
      "Generacion 440 (de 500) \n",
      "Generacion 450 (de 500) \n",
      "Generacion 460 (de 500) \n",
      "Generacion 470 (de 500) \n",
      "Generacion 480 (de 500) \n",
      "Generacion 490 (de 500) \n",
      "Iteracion 5\n",
      "Generacion 0 (de 500) \n",
      "Generacion 10 (de 500) \n",
      "Generacion 20 (de 500) \n",
      "Generacion 30 (de 500) \n",
      "Generacion 40 (de 500) \n",
      "Generacion 50 (de 500) \n",
      "Generacion 60 (de 500) \n",
      "Generacion 70 (de 500) \n",
      "Generacion 80 (de 500) \n",
      "Generacion 90 (de 500) \n",
      "Generacion 100 (de 500) \n",
      "Generacion 110 (de 500) \n",
      "Generacion 120 (de 500) \n",
      "Generacion 130 (de 500) \n",
      "Generacion 140 (de 500) \n",
      "Generacion 150 (de 500) \n",
      "Generacion 160 (de 500) \n",
      "Generacion 170 (de 500) \n",
      "Generacion 180 (de 500) \n",
      "Generacion 190 (de 500) \n",
      "Generacion 200 (de 500) \n",
      "Generacion 210 (de 500) \n",
      "Generacion 220 (de 500) \n",
      "Generacion 230 (de 500) \n",
      "Generacion 240 (de 500) \n",
      "Generacion 250 (de 500) \n",
      "Generacion 260 (de 500) \n",
      "Generacion 270 (de 500) \n",
      "Generacion 280 (de 500) \n",
      "Generacion 290 (de 500) \n",
      "Generacion 300 (de 500) \n",
      "Generacion 310 (de 500) \n",
      "Generacion 320 (de 500) \n",
      "Generacion 330 (de 500) \n",
      "Generacion 340 (de 500) \n",
      "Generacion 350 (de 500) \n",
      "Generacion 360 (de 500) \n",
      "Generacion 370 (de 500) \n",
      "Generacion 380 (de 500) \n",
      "Generacion 390 (de 500) \n",
      "Generacion 400 (de 500) \n",
      "Generacion 410 (de 500) \n",
      "Generacion 420 (de 500) \n",
      "Generacion 430 (de 500) \n",
      "Generacion 440 (de 500) \n",
      "Generacion 450 (de 500) \n",
      "Generacion 460 (de 500) \n",
      "Generacion 470 (de 500) \n",
      "Generacion 480 (de 500) \n",
      "Generacion 490 (de 500) \n",
      "Iteracion 6\n",
      "Generacion 0 (de 500) \n",
      "Generacion 10 (de 500) \n",
      "Generacion 20 (de 500) \n",
      "Generacion 30 (de 500) \n",
      "Generacion 40 (de 500) \n",
      "Generacion 50 (de 500) \n",
      "Generacion 60 (de 500) \n",
      "Generacion 70 (de 500) \n",
      "Generacion 80 (de 500) \n",
      "Generacion 90 (de 500) \n",
      "Generacion 100 (de 500) \n",
      "Generacion 110 (de 500) \n",
      "Generacion 120 (de 500) \n",
      "Generacion 130 (de 500) \n",
      "Generacion 140 (de 500) \n",
      "Generacion 150 (de 500) \n",
      "Generacion 160 (de 500) \n",
      "Generacion 170 (de 500) \n",
      "Generacion 180 (de 500) \n",
      "Generacion 190 (de 500) \n",
      "Generacion 200 (de 500) \n",
      "Generacion 210 (de 500) \n",
      "Generacion 220 (de 500) \n",
      "Generacion 230 (de 500) \n",
      "Generacion 240 (de 500) \n",
      "Generacion 250 (de 500) \n",
      "Generacion 260 (de 500) \n",
      "Generacion 270 (de 500) \n",
      "Generacion 280 (de 500) \n",
      "Generacion 290 (de 500) \n",
      "Generacion 300 (de 500) \n",
      "Generacion 310 (de 500) \n",
      "Generacion 320 (de 500) \n",
      "Generacion 330 (de 500) \n",
      "Generacion 340 (de 500) \n",
      "Generacion 350 (de 500) \n",
      "Generacion 360 (de 500) \n",
      "Generacion 370 (de 500) \n",
      "Generacion 380 (de 500) \n",
      "Generacion 390 (de 500) \n",
      "Generacion 400 (de 500) \n",
      "Generacion 410 (de 500) \n",
      "Generacion 420 (de 500) \n",
      "Generacion 430 (de 500) \n",
      "Generacion 440 (de 500) \n",
      "Generacion 450 (de 500) \n",
      "Generacion 460 (de 500) \n",
      "Generacion 470 (de 500) \n",
      "Generacion 480 (de 500) \n",
      "Generacion 490 (de 500) \n",
      "Iteracion 7\n",
      "Generacion 0 (de 500) \n",
      "Generacion 10 (de 500) \n",
      "Generacion 20 (de 500) \n",
      "Generacion 30 (de 500) \n",
      "Generacion 40 (de 500) \n",
      "Generacion 50 (de 500) \n",
      "Generacion 60 (de 500) \n",
      "Generacion 70 (de 500) \n",
      "Generacion 80 (de 500) \n",
      "Generacion 90 (de 500) \n",
      "Generacion 100 (de 500) \n",
      "Generacion 110 (de 500) \n",
      "Generacion 120 (de 500) \n",
      "Generacion 130 (de 500) \n",
      "Generacion 140 (de 500) \n",
      "Generacion 150 (de 500) \n",
      "Generacion 160 (de 500) \n",
      "Generacion 170 (de 500) \n",
      "Generacion 180 (de 500) \n",
      "Generacion 190 (de 500) \n",
      "Generacion 200 (de 500) \n",
      "Generacion 210 (de 500) \n",
      "Generacion 220 (de 500) \n",
      "Generacion 230 (de 500) \n",
      "Generacion 240 (de 500) \n",
      "Generacion 250 (de 500) \n",
      "Generacion 260 (de 500) \n",
      "Generacion 270 (de 500) \n",
      "Generacion 280 (de 500) \n",
      "Generacion 290 (de 500) \n",
      "Generacion 300 (de 500) \n",
      "Generacion 310 (de 500) \n",
      "Generacion 320 (de 500) \n",
      "Generacion 330 (de 500) \n",
      "Generacion 340 (de 500) \n",
      "Generacion 350 (de 500) \n",
      "Generacion 360 (de 500) \n",
      "Generacion 370 (de 500) \n",
      "Generacion 380 (de 500) \n",
      "Generacion 390 (de 500) \n",
      "Generacion 400 (de 500) \n",
      "Generacion 410 (de 500) \n",
      "Generacion 420 (de 500) \n",
      "Generacion 430 (de 500) \n",
      "Generacion 440 (de 500) \n",
      "Generacion 450 (de 500) \n",
      "Generacion 460 (de 500) \n",
      "Generacion 470 (de 500) \n",
      "Generacion 480 (de 500) \n",
      "Generacion 490 (de 500) \n",
      "Iteracion 8\n",
      "Generacion 0 (de 500) \n",
      "Generacion 10 (de 500) \n",
      "Generacion 20 (de 500) \n",
      "Generacion 30 (de 500) \n",
      "Generacion 40 (de 500) \n",
      "Generacion 50 (de 500) \n",
      "Generacion 60 (de 500) \n",
      "Generacion 70 (de 500) \n",
      "Generacion 80 (de 500) \n",
      "Generacion 90 (de 500) \n",
      "Generacion 100 (de 500) \n",
      "Generacion 110 (de 500) \n",
      "Generacion 120 (de 500) \n",
      "Generacion 130 (de 500) \n",
      "Generacion 140 (de 500) \n",
      "Generacion 150 (de 500) \n",
      "Generacion 160 (de 500) \n",
      "Generacion 170 (de 500) \n",
      "Generacion 180 (de 500) \n",
      "Generacion 190 (de 500) \n",
      "Generacion 200 (de 500) \n",
      "Generacion 210 (de 500) \n",
      "Generacion 220 (de 500) \n",
      "Generacion 230 (de 500) \n",
      "Generacion 240 (de 500) \n",
      "Generacion 250 (de 500) \n",
      "Generacion 260 (de 500) \n",
      "Generacion 270 (de 500) \n",
      "Generacion 280 (de 500) \n",
      "Generacion 290 (de 500) \n",
      "Generacion 300 (de 500) \n",
      "Generacion 310 (de 500) \n",
      "Generacion 320 (de 500) \n",
      "Generacion 330 (de 500) \n",
      "Generacion 340 (de 500) \n",
      "Generacion 350 (de 500) \n",
      "Generacion 360 (de 500) \n",
      "Generacion 370 (de 500) \n",
      "Generacion 380 (de 500) \n",
      "Generacion 390 (de 500) \n",
      "Generacion 400 (de 500) \n",
      "Generacion 410 (de 500) \n",
      "Generacion 420 (de 500) \n",
      "Generacion 430 (de 500) \n",
      "Generacion 440 (de 500) \n",
      "Generacion 450 (de 500) \n",
      "Generacion 460 (de 500) \n",
      "Generacion 470 (de 500) \n",
      "Generacion 480 (de 500) \n",
      "Generacion 490 (de 500) \n",
      "Iteracion 9\n",
      "Generacion 0 (de 500) \n",
      "Generacion 10 (de 500) \n",
      "Generacion 20 (de 500) \n",
      "Generacion 30 (de 500) \n",
      "Generacion 40 (de 500) \n",
      "Generacion 50 (de 500) \n",
      "Generacion 60 (de 500) \n",
      "Generacion 70 (de 500) \n",
      "Generacion 80 (de 500) \n",
      "Generacion 90 (de 500) \n",
      "Generacion 100 (de 500) \n",
      "Generacion 110 (de 500) \n",
      "Generacion 120 (de 500) \n",
      "Generacion 130 (de 500) \n",
      "Generacion 140 (de 500) \n",
      "Generacion 150 (de 500) \n",
      "Generacion 160 (de 500) \n",
      "Generacion 170 (de 500) \n",
      "Generacion 180 (de 500) \n",
      "Generacion 190 (de 500) \n",
      "Generacion 200 (de 500) \n",
      "Generacion 210 (de 500) \n",
      "Generacion 220 (de 500) \n",
      "Generacion 230 (de 500) \n",
      "Generacion 240 (de 500) \n",
      "Generacion 250 (de 500) \n",
      "Generacion 260 (de 500) \n",
      "Generacion 270 (de 500) \n",
      "Generacion 280 (de 500) \n",
      "Generacion 290 (de 500) \n",
      "Generacion 300 (de 500) \n",
      "Generacion 310 (de 500) \n",
      "Generacion 320 (de 500) \n",
      "Generacion 330 (de 500) \n",
      "Generacion 340 (de 500) \n",
      "Generacion 350 (de 500) \n",
      "Generacion 360 (de 500) \n",
      "Generacion 370 (de 500) \n",
      "Generacion 380 (de 500) \n",
      "Generacion 390 (de 500) \n",
      "Generacion 400 (de 500) \n",
      "Generacion 410 (de 500) \n",
      "Generacion 420 (de 500) \n",
      "Generacion 430 (de 500) \n",
      "Generacion 440 (de 500) \n",
      "Generacion 450 (de 500) \n",
      "Generacion 460 (de 500) \n",
      "Generacion 470 (de 500) \n",
      "Generacion 480 (de 500) \n",
      "Generacion 490 (de 500) \n",
      "Iteracion 10\n",
      "Generacion 0 (de 500) \n",
      "Generacion 10 (de 500) \n",
      "Generacion 20 (de 500) \n",
      "Generacion 30 (de 500) \n",
      "Generacion 40 (de 500) \n",
      "Generacion 50 (de 500) \n",
      "Generacion 60 (de 500) \n",
      "Generacion 70 (de 500) \n",
      "Generacion 80 (de 500) \n",
      "Generacion 90 (de 500) \n",
      "Generacion 100 (de 500) \n",
      "Generacion 110 (de 500) \n",
      "Generacion 120 (de 500) \n",
      "Generacion 130 (de 500) \n",
      "Generacion 140 (de 500) \n",
      "Generacion 150 (de 500) \n",
      "Generacion 160 (de 500) \n",
      "Generacion 170 (de 500) \n",
      "Generacion 180 (de 500) \n",
      "Generacion 190 (de 500) \n",
      "Generacion 200 (de 500) \n",
      "Generacion 210 (de 500) \n",
      "Generacion 220 (de 500) \n",
      "Generacion 230 (de 500) \n",
      "Generacion 240 (de 500) \n",
      "Generacion 250 (de 500) \n",
      "Generacion 260 (de 500) \n",
      "Generacion 270 (de 500) \n",
      "Generacion 280 (de 500) \n",
      "Generacion 290 (de 500) \n",
      "Generacion 300 (de 500) \n",
      "Generacion 310 (de 500) \n",
      "Generacion 320 (de 500) \n",
      "Generacion 330 (de 500) \n",
      "Generacion 340 (de 500) \n",
      "Generacion 350 (de 500) \n",
      "Generacion 360 (de 500) \n",
      "Generacion 370 (de 500) \n",
      "Generacion 380 (de 500) \n",
      "Generacion 390 (de 500) \n",
      "Generacion 400 (de 500) \n",
      "Generacion 410 (de 500) \n",
      "Generacion 420 (de 500) \n",
      "Generacion 430 (de 500) \n",
      "Generacion 440 (de 500) \n",
      "Generacion 450 (de 500) \n",
      "Generacion 460 (de 500) \n",
      "Generacion 470 (de 500) \n",
      "Generacion 480 (de 500) \n",
      "Generacion 490 (de 500) \n"
     ]
    }
   ],
   "source": [
    "## Hiperparametros del algoritmo genetico\n",
    "POP_SIZE = 100       # numero de individuos\n",
    "GENERATIONS = 500   # numero de generaciones\n",
    "PMUT = 1       # tasa de mutacion, influye en el resultado\n",
    "MIN_POP_SIZE = 100    # numero de individuos minimo\n",
    "MAX_POP_SIZE = 100    # numero de individuos maximo\n",
    "\n",
    "num_iteracion,individuos_pareto,obj_pob,obj_dist=([] for _ in range(4))\n",
    "for i in range(10):\n",
    "    \n",
    "    ## Inicializa una poblacion inicial de forma aleatoria\n",
    "    P = init_population(POP_SIZE,maxMark=10)\n",
    "\n",
    "    evaluate_population_nsga(P,marketPool)    #  evalua la poblacion inicial\n",
    "    print(f'Iteracion {i+1}')\n",
    "    ## Ejecuta los ciclos evolutivos \n",
    "    for g in range(GENERATIONS):   # Por cada generacion\n",
    "        if g %10 == 0:\n",
    "            print ('Generacion {} (de {}) '.format(g, GENERATIONS))\n",
    "\n",
    "        ## genera y evalua la poblacion hija    \n",
    "        Q = build_offspring_population(P, \"uniform\", \"flip\", PMUT)\n",
    "        evaluate_population_nsga(Q, marketPool)\n",
    "\n",
    "        ## une la poblacion padre y la poblacion hija\n",
    "        P.extend(Q) \n",
    "\n",
    "        ## Construye la poblacion de la siguiente generacion\n",
    "        P = build_next_population(P, MIN_POP_SIZE, MAX_POP_SIZE)\n",
    "\n",
    "    # Obtiene la poblacion de la frontera de pareto final \n",
    "    pareto_front_population = get_paretofront_population(P) \n",
    "    \n",
    "    num_iteracion.append([i for _ in range(len(pareto_front_population)) ]) #Almacenamos el numero de iteracion para distingirlos en el dataframe\n",
    "    individuos_pareto.append(pareto_front_population) #Almacenamos los individuos que se encuentran en la frontera de pareto\n",
    "    obj_pob.append([individuo.fitness[0] for individuo in pareto_front_population]) #Almacenamos el objetivo poblacion de cada individuo\n",
    "    obj_dist.append([individuo.fitness[1] for individuo in pareto_front_population]) #Almacenamos el objetivo distancia de cada individuo"
   ]
  },
  {
   "cell_type": "markdown",
   "metadata": {
    "colab_type": "text",
    "id": "_LjF__WQa3GD"
   },
   "source": [
    "Flatten para cada lista"
   ]
  },
  {
   "cell_type": "code",
   "execution_count": 54,
   "metadata": {
    "colab": {},
    "colab_type": "code",
    "id": "-3wMPEWNa3GE"
   },
   "outputs": [],
   "source": [
    "num_iteracion=[item for sublist in num_iteracion for item in sublist]\n",
    "individuos_pareto=[item for sublist in individuos_pareto for item in sublist]\n",
    "obj_pob=[item for sublist in obj_pob for item in sublist]\n",
    "obj_dist=[item for sublist in obj_dist for item in sublist]"
   ]
  },
  {
   "cell_type": "code",
   "execution_count": 55,
   "metadata": {
    "colab": {},
    "colab_type": "code",
    "id": "CGEE-nUwa3GG"
   },
   "outputs": [
    {
     "data": {
      "text/html": [
       "<div>\n",
       "<style scoped>\n",
       "    .dataframe tbody tr th:only-of-type {\n",
       "        vertical-align: middle;\n",
       "    }\n",
       "\n",
       "    .dataframe tbody tr th {\n",
       "        vertical-align: top;\n",
       "    }\n",
       "\n",
       "    .dataframe thead th {\n",
       "        text-align: right;\n",
       "    }\n",
       "</style>\n",
       "<table border=\"1\" class=\"dataframe\">\n",
       "  <thead>\n",
       "    <tr style=\"text-align: right;\">\n",
       "      <th></th>\n",
       "      <th>numero_iteracion</th>\n",
       "      <th>individuos_pareto</th>\n",
       "      <th>objetivo_poblacion</th>\n",
       "      <th>objetivo_distancia</th>\n",
       "    </tr>\n",
       "  </thead>\n",
       "  <tbody>\n",
       "    <tr>\n",
       "      <th>0</th>\n",
       "      <td>0</td>\n",
       "      <td>&lt;__main__.Individual object at 0x7f09dd7402d0&gt;</td>\n",
       "      <td>159550.0</td>\n",
       "      <td>16239.563190</td>\n",
       "    </tr>\n",
       "    <tr>\n",
       "      <th>1</th>\n",
       "      <td>0</td>\n",
       "      <td>&lt;__main__.Individual object at 0x7f09dd740810&gt;</td>\n",
       "      <td>184700.0</td>\n",
       "      <td>5981.533645</td>\n",
       "    </tr>\n",
       "    <tr>\n",
       "      <th>2</th>\n",
       "      <td>0</td>\n",
       "      <td>&lt;__main__.Individual object at 0x7f09dd740ad0&gt;</td>\n",
       "      <td>162950.0</td>\n",
       "      <td>15253.832816</td>\n",
       "    </tr>\n",
       "    <tr>\n",
       "      <th>3</th>\n",
       "      <td>0</td>\n",
       "      <td>&lt;__main__.Individual object at 0x7f09dd740e50&gt;</td>\n",
       "      <td>159900.0</td>\n",
       "      <td>15983.418273</td>\n",
       "    </tr>\n",
       "    <tr>\n",
       "      <th>4</th>\n",
       "      <td>0</td>\n",
       "      <td>&lt;__main__.Individual object at 0x7f09dd740510&gt;</td>\n",
       "      <td>152750.0</td>\n",
       "      <td>17280.006025</td>\n",
       "    </tr>\n",
       "    <tr>\n",
       "      <th>...</th>\n",
       "      <td>...</td>\n",
       "      <td>...</td>\n",
       "      <td>...</td>\n",
       "      <td>...</td>\n",
       "    </tr>\n",
       "    <tr>\n",
       "      <th>995</th>\n",
       "      <td>9</td>\n",
       "      <td>&lt;__main__.Individual object at 0x7f09dd8016d0&gt;</td>\n",
       "      <td>174000.0</td>\n",
       "      <td>13097.942833</td>\n",
       "    </tr>\n",
       "    <tr>\n",
       "      <th>996</th>\n",
       "      <td>9</td>\n",
       "      <td>&lt;__main__.Individual object at 0x7f09dd801390&gt;</td>\n",
       "      <td>162250.0</td>\n",
       "      <td>15422.832912</td>\n",
       "    </tr>\n",
       "    <tr>\n",
       "      <th>997</th>\n",
       "      <td>9</td>\n",
       "      <td>&lt;__main__.Individual object at 0x7f09dd801a10&gt;</td>\n",
       "      <td>152150.0</td>\n",
       "      <td>17614.563228</td>\n",
       "    </tr>\n",
       "    <tr>\n",
       "      <th>998</th>\n",
       "      <td>9</td>\n",
       "      <td>&lt;__main__.Individual object at 0x7f09dd801210&gt;</td>\n",
       "      <td>156750.0</td>\n",
       "      <td>16804.492390</td>\n",
       "    </tr>\n",
       "    <tr>\n",
       "      <th>999</th>\n",
       "      <td>9</td>\n",
       "      <td>&lt;__main__.Individual object at 0x7f09dd8010d0&gt;</td>\n",
       "      <td>162250.0</td>\n",
       "      <td>15422.832912</td>\n",
       "    </tr>\n",
       "  </tbody>\n",
       "</table>\n",
       "<p>1000 rows × 4 columns</p>\n",
       "</div>"
      ],
      "text/plain": [
       "     numero_iteracion                               individuos_pareto  \\\n",
       "0                   0  <__main__.Individual object at 0x7f09dd7402d0>   \n",
       "1                   0  <__main__.Individual object at 0x7f09dd740810>   \n",
       "2                   0  <__main__.Individual object at 0x7f09dd740ad0>   \n",
       "3                   0  <__main__.Individual object at 0x7f09dd740e50>   \n",
       "4                   0  <__main__.Individual object at 0x7f09dd740510>   \n",
       "..                ...                                             ...   \n",
       "995                 9  <__main__.Individual object at 0x7f09dd8016d0>   \n",
       "996                 9  <__main__.Individual object at 0x7f09dd801390>   \n",
       "997                 9  <__main__.Individual object at 0x7f09dd801a10>   \n",
       "998                 9  <__main__.Individual object at 0x7f09dd801210>   \n",
       "999                 9  <__main__.Individual object at 0x7f09dd8010d0>   \n",
       "\n",
       "     objetivo_poblacion  objetivo_distancia  \n",
       "0              159550.0        16239.563190  \n",
       "1              184700.0         5981.533645  \n",
       "2              162950.0        15253.832816  \n",
       "3              159900.0        15983.418273  \n",
       "4              152750.0        17280.006025  \n",
       "..                  ...                 ...  \n",
       "995            174000.0        13097.942833  \n",
       "996            162250.0        15422.832912  \n",
       "997            152150.0        17614.563228  \n",
       "998            156750.0        16804.492390  \n",
       "999            162250.0        15422.832912  \n",
       "\n",
       "[1000 rows x 4 columns]"
      ]
     },
     "execution_count": 55,
     "metadata": {},
     "output_type": "execute_result"
    }
   ],
   "source": [
    "resultados_multi_obj=pd.DataFrame({'numero_iteracion':num_iteracion,'individuos_pareto':individuos_pareto,\n",
    "                                   'objetivo_poblacion':obj_pob,'objetivo_distancia':obj_dist})\n",
    "resultados_multi_obj"
   ]
  },
  {
   "cell_type": "markdown",
   "metadata": {
    "colab_type": "text",
    "id": "vz63KkFYa3GL"
   },
   "source": [
    "**k) Plots de las fronteras de pareto**"
   ]
  },
  {
   "cell_type": "code",
   "execution_count": 56,
   "metadata": {
    "colab": {},
    "colab_type": "code",
    "id": "SVKMQt0Ea3GM"
   },
   "outputs": [
    {
     "data": {
      "image/png": "[encoded data removed]",
      "text/plain": [
       "<Figure size 1440x720 with 10 Axes>"
      ]
     },
     "metadata": {
      "needs_background": "light"
     },
     "output_type": "display_data"
    }
   ],
   "source": [
    "fig,axes=plt.subplots(nrows=2, ncols=5,figsize=(20,10))\n",
    "fig.tight_layout(pad=4)\n",
    "for i in range(10):\n",
    "    subplot=plt.subplot(2,5, i+1)    \n",
    "    plt.title(f'Iteración {i+1}', loc='center', fontsize=20, fontweight=0)\n",
    "    fitnesses = np.zeros([pop_size, num_objectives])\n",
    "    for j in range(pop_size): fitnesses[j,:] = resultados_multi_obj.individuos_pareto[resultados_multi_obj.numero_iteracion == i].iloc[j].fitness\n",
    "    x = fitnesses[:, 0]/CHROMOSOME_SIZE*100\n",
    "    y = fitnesses[:, 1]/CHROMOSOME_SIZE*100\n",
    "    plt.xlabel('Objectivo Poblacion - % maximo obtenible') #Primer objetivo: Maximizar el valor de la mochila\n",
    "    plt.ylabel('Objectivo Distancia - % maximo obtenible') #Segundo objetivo: Minimizar el peso de la mochila\n",
    "    plt.scatter(x,y)\n",
    "    #Plot de los mejores individuos encontrados con el algoritmo mono objetivo\n",
    "    x_multi=resultados_mono_obj.iloc[i].suma_poblacion/CHROMOSOME_SIZE*100\n",
    "    y_multi=resultados_mono_obj.iloc[i].suma_distancia/CHROMOSOME_SIZE*100\n",
    "    plt.scatter(x_multi,y_multi,c='red')"
   ]
  }
 ],
 "metadata": {
  "colab": {
   "collapsed_sections": [],
   "name": "OptimizacionMarket.ipynb",
   "provenance": []
  },
  "kernelspec": {
   "display_name": "Python [conda env:ArtInte]",
   "language": "python",
   "name": "conda-env-ArtInte-py"
  },
  "language_info": {
   "codemirror_mode": {
    "name": "ipython",
    "version": 3
   },
   "file_extension": ".py",
   "mimetype": "text/x-python",
   "name": "python",
   "nbconvert_exporter": "python",
   "pygments_lexer": "ipython3",
   "version": "3.7.5"
  }
 },
 "nbformat": 4,
 "nbformat_minor": 4
}
