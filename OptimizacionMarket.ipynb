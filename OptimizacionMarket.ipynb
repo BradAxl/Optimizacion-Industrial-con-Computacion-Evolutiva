{
  "nbformat": 4,
  "nbformat_minor": 0,
  "metadata": {
    "kernelspec": {
      "display_name": "Python [conda env:ArtInte]",
      "language": "python",
      "name": "conda-env-ArtInte-py"
    },
    "language_info": {
      "codemirror_mode": {
        "name": "ipython",
        "version": 3
      },
      "file_extension": ".py",
      "mimetype": "text/x-python",
      "name": "python",
      "nbconvert_exporter": "python",
      "pygments_lexer": "ipython3",
      "version": "3.7.5"
    },
    "colab": {
      "name": "OptimizacionMarket.ipynb",
      "provenance": [],
      "collapsed_sections": []
    }
  },
  "cells": [
    {
      "cell_type": "markdown",
      "metadata": {
        "id": "skYKoK28a3EK",
        "colab_type": "text"
      },
      "source": [
        "# **Proyecto final: Usando computación evolutiva para encontrar localizaciones optimas de una cadena de supermercados**"
      ]
    },
    {
      "cell_type": "markdown",
      "metadata": {
        "id": "IRrENozVa3EN",
        "colab_type": "text"
      },
      "source": [
        "## **1) Algoritmo genético mono-objetivo**"
      ]
    },
    {
      "cell_type": "markdown",
      "metadata": {
        "id": "FZrZ6t_Oa3EO",
        "colab_type": "text"
      },
      "source": [
        "**a) Importando las librerias necesarias**"
      ]
    },
    {
      "cell_type": "code",
      "metadata": {
        "id": "76Lt5Nvqcyao",
        "colab_type": "code",
        "outputId": "000f6f37-6151-479c-ab13-d54a83cafc3f",
        "colab": {
          "base_uri": "https://localhost:8080/",
          "height": 425
        }
      },
      "source": [
        "!pip install git+https://github.com/python-visualization/folium"
      ],
      "execution_count": 1,
      "outputs": [
        {
          "output_type": "stream",
          "text": [
            "Collecting git+https://github.com/python-visualization/folium\n",
            "  Cloning https://github.com/python-visualization/folium to /tmp/pip-req-build-ky22f2g2\n",
            "  Running command git clone -q https://github.com/python-visualization/folium /tmp/pip-req-build-ky22f2g2\n",
            "Requirement already satisfied: branca>=0.3.0 in /usr/local/lib/python3.6/dist-packages (from folium==0.10.0+4.ga1e3686) (0.3.1)\n",
            "Requirement already satisfied: jinja2>=2.9 in /usr/local/lib/python3.6/dist-packages (from folium==0.10.0+4.ga1e3686) (2.10.3)\n",
            "Requirement already satisfied: numpy in /usr/local/lib/python3.6/dist-packages (from folium==0.10.0+4.ga1e3686) (1.17.4)\n",
            "Requirement already satisfied: requests in /usr/local/lib/python3.6/dist-packages (from folium==0.10.0+4.ga1e3686) (2.21.0)\n",
            "Requirement already satisfied: six in /usr/local/lib/python3.6/dist-packages (from branca>=0.3.0->folium==0.10.0+4.ga1e3686) (1.12.0)\n",
            "Requirement already satisfied: MarkupSafe>=0.23 in /usr/local/lib/python3.6/dist-packages (from jinja2>=2.9->folium==0.10.0+4.ga1e3686) (1.1.1)\n",
            "Requirement already satisfied: urllib3<1.25,>=1.21.1 in /usr/local/lib/python3.6/dist-packages (from requests->folium==0.10.0+4.ga1e3686) (1.24.3)\n",
            "Requirement already satisfied: idna<2.9,>=2.5 in /usr/local/lib/python3.6/dist-packages (from requests->folium==0.10.0+4.ga1e3686) (2.8)\n",
            "Requirement already satisfied: certifi>=2017.4.17 in /usr/local/lib/python3.6/dist-packages (from requests->folium==0.10.0+4.ga1e3686) (2019.9.11)\n",
            "Requirement already satisfied: chardet<3.1.0,>=3.0.2 in /usr/local/lib/python3.6/dist-packages (from requests->folium==0.10.0+4.ga1e3686) (3.0.4)\n",
            "Building wheels for collected packages: folium\n",
            "  Building wheel for folium (setup.py) ... \u001b[?25l\u001b[?25hdone\n",
            "  Created wheel for folium: filename=folium-0.10.0+4.ga1e3686-py2.py3-none-any.whl size=91404 sha256=b82237d5d3b38311545e7590a1b5f84cd3e39e77f92d7ceff26df1cb0fb24412\n",
            "  Stored in directory: /tmp/pip-ephem-wheel-cache-pxn4xr7w/wheels/1e/e1/75/ecbc91fd5dd5d90befb0b533bf7492d38acffa033310731862\n",
            "Successfully built folium\n",
            "\u001b[31mERROR: datascience 0.10.6 has requirement folium==0.2.1, but you'll have folium 0.10.0+4.ga1e3686 which is incompatible.\u001b[0m\n",
            "Installing collected packages: folium\n",
            "  Found existing installation: folium 0.8.3\n",
            "    Uninstalling folium-0.8.3:\n",
            "      Successfully uninstalled folium-0.8.3\n",
            "Successfully installed folium-0.10.0+4.ga1e3686\n"
          ],
          "name": "stdout"
        }
      ]
    },
    {
      "cell_type": "code",
      "metadata": {
        "id": "V0zETUnta3EP",
        "colab_type": "code",
        "colab": {}
      },
      "source": [
        "import pandas as pd\n",
        "import math\n",
        "import sys\n",
        "import time\n",
        "import numpy as np\n",
        "from random import shuffle, random, sample, randint, randrange, uniform\n",
        "from copy import deepcopy\n",
        "import matplotlib.pyplot as plt\n",
        "import seaborn as sns\n",
        "import folium\n",
        "from datetime import timedelta\n",
        "import datetime\n",
        "from folium.plugins import TimestampedGeoJson\n",
        "import numpy as np"
      ],
      "execution_count": 0,
      "outputs": []
    },
    {
      "cell_type": "code",
      "metadata": {
        "id": "8ZGYZQCNa8kk",
        "colab_type": "code",
        "outputId": "cc4fa2ad-d1e5-496a-b6a0-65f3e91e94c8",
        "colab": {
          "base_uri": "https://localhost:8080/",
          "height": 207
        }
      },
      "source": [
        "from google.colab import drive\n",
        "drive.mount(\"/content/gdrive\")\n",
        "%cd gdrive/My\\ Drive/'Colab Notebooks'/'Algoritmos Bioinspirados'/'Proyecto Final/'\n",
        "!ls"
      ],
      "execution_count": 3,
      "outputs": [
        {
          "output_type": "stream",
          "text": [
            "Go to this URL in a browser: https://accounts.google.com/o/oauth2/auth?client_id=947318989803-6bn6qk8qdgf4n4g3pfee6491hc0brc4i.apps.googleusercontent.com&redirect_uri=urn%3aietf%3awg%3aoauth%3a2.0%3aoob&response_type=code&scope=email%20https%3a%2f%2fwww.googleapis.com%2fauth%2fdocs.test%20https%3a%2f%2fwww.googleapis.com%2fauth%2fdrive%20https%3a%2f%2fwww.googleapis.com%2fauth%2fdrive.photos.readonly%20https%3a%2f%2fwww.googleapis.com%2fauth%2fpeopleapi.readonly\n",
            "\n",
            "Enter your authorization code:\n",
            "··········\n",
            "Mounted at /content/gdrive\n",
            "/content/gdrive/My Drive/Colab Notebooks/Algoritmos Bioinspirados/Proyecto Final\n",
            "Candidatos_supermercados.xlsx  OptimizacionMarket.ipynb\n",
            "earthHTML.html\t\t       proyectoFinal.ipynb\n",
            "mapTimer.html\t\t       proyectoFinal-previousVersion.ipynb\n",
            "monoSolution.html\n"
          ],
          "name": "stdout"
        }
      ]
    },
    {
      "cell_type": "markdown",
      "metadata": {
        "id": "CeT2tUeka3ES",
        "colab_type": "text"
      },
      "source": [
        "**b) Leyendo la información proporcionada**"
      ]
    },
    {
      "cell_type": "code",
      "metadata": {
        "id": "eYJUckB_a3ET",
        "colab_type": "code",
        "outputId": "68e5aef1-2d48-41aa-a155-1fa3e0d7210d",
        "colab": {
          "base_uri": "https://localhost:8080/",
          "height": 204
        }
      },
      "source": [
        "dataset=pd.read_excel('Candidatos_supermercados.xlsx')\n",
        "dataset.head()"
      ],
      "execution_count": 5,
      "outputs": [
        {
          "output_type": "execute_result",
          "data": {
            "text/html": [
              "<div>\n",
              "<style scoped>\n",
              "    .dataframe tbody tr th:only-of-type {\n",
              "        vertical-align: middle;\n",
              "    }\n",
              "\n",
              "    .dataframe tbody tr th {\n",
              "        vertical-align: top;\n",
              "    }\n",
              "\n",
              "    .dataframe thead th {\n",
              "        text-align: right;\n",
              "    }\n",
              "</style>\n",
              "<table border=\"1\" class=\"dataframe\">\n",
              "  <thead>\n",
              "    <tr style=\"text-align: right;\">\n",
              "      <th></th>\n",
              "      <th>ID</th>\n",
              "      <th>Descripcion</th>\n",
              "      <th>Latitud</th>\n",
              "      <th>Longitud</th>\n",
              "      <th>Poblacion500m</th>\n",
              "    </tr>\n",
              "  </thead>\n",
              "  <tbody>\n",
              "    <tr>\n",
              "      <th>0</th>\n",
              "      <td>Punto 1</td>\n",
              "      <td>Esq. Benavides con Nicolas Dueñas</td>\n",
              "      <td>-12.04861</td>\n",
              "      <td>-77.06496</td>\n",
              "      <td>16500</td>\n",
              "    </tr>\n",
              "    <tr>\n",
              "      <th>1</th>\n",
              "      <td>Ponto 2</td>\n",
              "      <td>Sta Bernardita con Republica de Venezuela</td>\n",
              "      <td>-12.05956</td>\n",
              "      <td>-77.07583</td>\n",
              "      <td>18000</td>\n",
              "    </tr>\n",
              "    <tr>\n",
              "      <th>2</th>\n",
              "      <td>Ponto 3</td>\n",
              "      <td>Santa Susana con Santa Gertrudis</td>\n",
              "      <td>-12.06524</td>\n",
              "      <td>-77.07334</td>\n",
              "      <td>17000</td>\n",
              "    </tr>\n",
              "    <tr>\n",
              "      <th>3</th>\n",
              "      <td>Ponto 4</td>\n",
              "      <td>Belizario Sosa Pelaez</td>\n",
              "      <td>-12.05998</td>\n",
              "      <td>-77.06300</td>\n",
              "      <td>15000</td>\n",
              "    </tr>\n",
              "    <tr>\n",
              "      <th>4</th>\n",
              "      <td>Ponto 5</td>\n",
              "      <td>Esq. Aurelio Garcia y Miranono Arredondo</td>\n",
              "      <td>-12.05541</td>\n",
              "      <td>-77.07497</td>\n",
              "      <td>17100</td>\n",
              "    </tr>\n",
              "  </tbody>\n",
              "</table>\n",
              "</div>"
            ],
            "text/plain": [
              "        ID                                Descripcion  ...  Longitud  Poblacion500m\n",
              "0  Punto 1          Esq. Benavides con Nicolas Dueñas  ... -77.06496          16500\n",
              "1  Ponto 2  Sta Bernardita con Republica de Venezuela  ... -77.07583          18000\n",
              "2  Ponto 3           Santa Susana con Santa Gertrudis  ... -77.07334          17000\n",
              "3  Ponto 4                      Belizario Sosa Pelaez  ... -77.06300          15000\n",
              "4  Ponto 5   Esq. Aurelio Garcia y Miranono Arredondo  ... -77.07497          17100\n",
              "\n",
              "[5 rows x 5 columns]"
            ]
          },
          "metadata": {
            "tags": []
          },
          "execution_count": 5
        }
      ]
    },
    {
      "cell_type": "markdown",
      "metadata": {
        "id": "HTad8roUa3EX",
        "colab_type": "text"
      },
      "source": [
        "**c) Cálculo de las distancias entre cada punto**"
      ]
    },
    {
      "cell_type": "markdown",
      "metadata": {
        "id": "HYcnhcBia3EX",
        "colab_type": "text"
      },
      "source": [
        "Función para el cálculo de las distancias entre dos puntos teniendo la latitud y longitud de las coordenadas"
      ]
    },
    {
      "cell_type": "code",
      "metadata": {
        "id": "VFSiOvcVa3EY",
        "colab_type": "code",
        "colab": {}
      },
      "source": [
        "lista_total_distancias={}\n",
        "radio_tierra=6378 #radio ecuatorial\n",
        "def getDistances(dataset):\n",
        "    \"\"\"Función para el cálculo de las distancias entre todos los puntos teniendo la latitud y longitud de las coordenadas.\n",
        "    \n",
        "    Para el cálculo de las distancias entre los puntos se hace uso de Haversine Formula\n",
        "    Parámetros:\n",
        "                -dataset: Dataset del tipo dataFrame pandas\n",
        "                \n",
        "    Retorna: Un diccionario de la forma {(punto1,punto2):distancia}\n",
        "    \"\"\"\n",
        "    valores=dataset[['Latitud','Longitud']].values\n",
        "    for i in range(len(valores)):\n",
        "        for j in range(i+1,len(valores)):\n",
        "            dif_lat=valores[j][0] - valores[i][0] #Hallamos la diferencia de latitud\n",
        "            dif_lon=valores[j][1] - valores[i][1] #Hallamos la diferencia de longitud\n",
        "            a=pow(math.sin(dif_lat/2),2)+(math.cos(valores[i][0])*(math.cos(valores[j][0])))*pow(math.sin(dif_lon/2),2)\n",
        "            c=2*math.asin(min(1,math.sqrt(a)))\n",
        "            lista_total_distancias[(i,j)]=radio_tierra * c "
      ],
      "execution_count": 0,
      "outputs": []
    },
    {
      "cell_type": "code",
      "metadata": {
        "id": "mq4nFODda3Ea",
        "colab_type": "code",
        "colab": {}
      },
      "source": [
        "getDistances(dataset)"
      ],
      "execution_count": 0,
      "outputs": []
    },
    {
      "cell_type": "code",
      "metadata": {
        "id": "R1ZmOlFZa3Ed",
        "colab_type": "code",
        "outputId": "69164d58-3e3a-4ae0-baec-0709c220f2e6",
        "colab": {
          "base_uri": "https://localhost:8080/",
          "height": 34
        }
      },
      "source": [
        "lista_total_distancias[(0,1)]"
      ],
      "execution_count": 8,
      "outputs": [
        {
          "output_type": "execute_result",
          "data": {
            "text/plain": [
              "92.35295446475958"
            ]
          },
          "metadata": {
            "tags": []
          },
          "execution_count": 8
        }
      ]
    },
    {
      "cell_type": "markdown",
      "metadata": {
        "id": "uAteAP7ga3Eg",
        "colab_type": "text"
      },
      "source": [
        "**d) Definición del objeto Market para el problema**"
      ]
    },
    {
      "cell_type": "markdown",
      "metadata": {
        "id": "y9FrJfV6a3Ei",
        "colab_type": "text"
      },
      "source": [
        "Un objeto de la clase Market almacena las instancias del dataframe"
      ]
    },
    {
      "cell_type": "code",
      "metadata": {
        "id": "a52QlQi4a3Ej",
        "colab_type": "code",
        "colab": {}
      },
      "source": [
        "class Market(object):\n",
        "    def __init__(self,ID,descr,pob,latitud,longitud):\n",
        "        self.id=ID\n",
        "        self.descr=descr\n",
        "        self.pob=pob\n",
        "        self.lat=latitud\n",
        "        self.lon=longitud"
      ],
      "execution_count": 0,
      "outputs": []
    },
    {
      "cell_type": "markdown",
      "metadata": {
        "id": "oUTzTpd4a3El",
        "colab_type": "text"
      },
      "source": [
        "**e) Definición de la estructura de un individuo en el AG con sus operadores genéticos**"
      ]
    },
    {
      "cell_type": "code",
      "metadata": {
        "id": "KDXXyOeza3Em",
        "colab_type": "code",
        "colab": {}
      },
      "source": [
        "class Individual:\n",
        "    \"\"\" Implementa el individuo del AG. Un individuo tiene un cromosoma que es una lista de num_markets elementos (genes),\n",
        "       cada gen i puede asumir dos posibles alelos: 0 o 1 (no incluir/incluir en la solución el market i del pool) \"\"\"\n",
        "\n",
        "    def __init__(self, chromosome,maxMark=10):  # el constructor recibe un cromosoma\n",
        "        self.chromosome = chromosome[:]  \n",
        "        self.fitness = -1  # -1 indica que el individuo no ha sido evaluado\n",
        "        self.maxMark=maxMark #Cantidad Máxima de markets que desea obtener en la solución\n",
        "\n",
        "    def crossover_onepoint(self, other):\n",
        "        \"Retorna dos nuevos individuos del cruzamiento de un punto entre individuos self y other \"\n",
        "        c = randrange(len(self.chromosome))\n",
        "        ind1 = Individual(self.chromosome[:c] + other.chromosome[c:],self.maxMark)\n",
        "        ind2 = Individual(other.chromosome[:c] + self.chromosome[c:],self.maxMark)\n",
        "        ind1,ind2=self.__verify([ind1,ind2])\n",
        "        return [ind1, ind2]   \n",
        "    \n",
        "    def crossover_uniform(self, other):\n",
        "        chromosome1 = []\n",
        "        chromosome2 = []\n",
        "        \"Retorna dos nuevos individuos del cruzamiento uniforme entre self y other \"\n",
        "        for i in range(len(self.chromosome)):\n",
        "            if uniform(0, 1) < 0.5:\n",
        "                chromosome1.append(self.chromosome[i])\n",
        "                chromosome2.append(other.chromosome[i])\n",
        "            else:\n",
        "                chromosome1.append(other.chromosome[i])\n",
        "                chromosome2.append(self.chromosome[i])\n",
        "        ind1 = Individual(chromosome1,self.maxMark)\n",
        "        ind2 = Individual(chromosome2,self.maxMark)\n",
        "        ind1,ind2=self.__verify([ind1,ind2])\n",
        "        return [ind1, ind2] \n",
        "    \n",
        "    \n",
        "    def mutation_flip(self):\n",
        "        \"Cambia aleatoriamente el alelo de un gen. Se tiene en consideración la cantidad máxima de markets que debe contar una posible solución.\"\n",
        "        new_chromosome = deepcopy(self.chromosome)\n",
        "        mutGene = randrange(0,len(new_chromosome))   # escoge un gen para mutar\n",
        "        if new_chromosome[mutGene] == 0:\n",
        "            #Cambiaremos un cero a un uno, por lo que habrá un uno mas, por lo que se deberá cambiar otro uno a cero\n",
        "            index_unos=[i for i in range(len(new_chromosome)) if new_chromosome[i] == 1]\n",
        "            index_uno=sample(index_unos,1) #Obtenemos un index de todos los unos para cambiarlo a cero\n",
        "            new_chromosome[mutGene] = 1 #Cambiamos a uno un cero\n",
        "            new_chromosome[index_uno[0]]=0 #Cambiamos a cero un uno\n",
        "        else:\n",
        "            index_ceros=[i for i in range(len(new_chromosome)) if new_chromosome[i] == 0]\n",
        "            index_cero=sample(index_ceros,1) #Obtenemos un index de todos los unos para cambiarlo a cero\n",
        "            new_chromosome[mutGene] = 0 #Compensamos\n",
        "            new_chromosome[index_cero[0]]=1 #Cambiamos a uno un cero\n",
        "            \n",
        "        return Individual(new_chromosome,self.maxMark)\n",
        "        \n",
        "    \n",
        "    def __verify(self,individuos):\n",
        "        \"\"\"Funcion para forzar que existan la cantidad máxima de markets(unos) dentro del cromosoma.\n",
        "        \"\"\"\n",
        "        resultado=[]\n",
        "        for ind in individuos:\n",
        "            cant_unos=ind.chromosome.count(1)\n",
        "            index_unos=[i for i in range(len(ind.chromosome)) if ind.chromosome[i] == 1] #Obtenemos los index de los unos dentro del cromosoma\n",
        "            if cant_unos >self.maxMark: #Verificando si el individuo tiene la cantidad maxima de markets(unos) aceptables \n",
        "                index_unos2chg=sample(index_unos,cant_unos - self.maxMark)# Obtenemos los index que cambiaremos a cero porque se pasó del máximo\n",
        "                for index in index_unos2chg:\n",
        "                    ind.chromosome[index]=0\n",
        "            elif cant_unos < self.maxMark: #Si el individuo tiene menos de la cantidad máxima \n",
        "                index_unos2chg=set(range(len(ind.chromosome))) - set(index_unos) #Quitamos los index en los cuales se encuentran los unos\n",
        "                random_index=sample(index_unos2chg,self.maxMark - cant_unos) #Generamos index aletorios para completar a la cantidad máxima\n",
        "                for index in random_index:\n",
        "                    ind.chromosome[index]=1\n",
        "            resultado.append(ind)\n",
        "        return resultado\n"
      ],
      "execution_count": 0,
      "outputs": []
    },
    {
      "cell_type": "markdown",
      "metadata": {
        "id": "78ubdtuma3Ep",
        "colab_type": "text"
      },
      "source": [
        "**f) Función para obtener el fitness del cromosoma**"
      ]
    },
    {
      "cell_type": "markdown",
      "metadata": {
        "id": "j8SixwRla3Eq",
        "colab_type": "text"
      },
      "source": [
        "Haciendo uso del diccionario hallado previamente."
      ]
    },
    {
      "cell_type": "code",
      "metadata": {
        "id": "watZ9cQfa3Eq",
        "colab_type": "code",
        "colab": {}
      },
      "source": [
        "def get_fitness_lista(chromosome, markets):\n",
        "    \"\"\"Retorna el fitness del cromosoma pasado. Fitness es el valor total de los markets incluidos en el cromosoma\n",
        "        \"\"\"\n",
        "    fitness=0\n",
        "    markets_elegidos=[]\n",
        "    sum_pob=0\n",
        "    sum_dist=0\n",
        "    for i in range(len(markets)):\n",
        "        if chromosome[i] == 1:  # si el market i esta incluido en el cromosoma, acumula su poblacion y distancia\n",
        "            sum_pob += markets[i].pob\n",
        "            markets_elegidos.append(i)\n",
        "            \n",
        "    for j in markets_elegidos:\n",
        "        for k in markets_elegidos[j+1:]:\n",
        "            sum_dist=sum_dist+lista_total_distancias[(j,k)] # Hacemos uso del diccionario calculado previamente\n",
        "    \n",
        "    return [sum_pob,sum_dist] #Se enviará de esta manera y se obtendrá las sumas por separado para la experimentación y registro de estos experimentos"
      ],
      "execution_count": 0,
      "outputs": []
    },
    {
      "cell_type": "markdown",
      "metadata": {
        "id": "rxovJvC_a3Es",
        "colab_type": "text"
      },
      "source": [
        "Calculando las distancias en cada instante"
      ]
    },
    {
      "cell_type": "code",
      "metadata": {
        "id": "OqUFXlAEa3Et",
        "colab_type": "code",
        "colab": {}
      },
      "source": [
        "def get_fitness(chromosome, markets):\n",
        "    \"\"\"Retorna el fitness del cromosoma pasado. Fitness es el valor total de los markets incluidos en el cromosoma\n",
        "        \"\"\"\n",
        "    fitness = 0 # initialize fitness to 0\n",
        "    lista_distancias=[]\n",
        "    sum_pob=0\n",
        "    sum_dist=0\n",
        "    for i in range(len(markets)):\n",
        "        if chromosome[i] == 1:  # si el market i esta incluido en el cromosoma, acumula su poblacion y distancia\n",
        "            sum_pob += markets[i].pob\n",
        "            lista_distancias.append((markets[i].lat,markets[i].lon))\n",
        "            \n",
        "    radio_tierra=6378 #radio ecuatorial\n",
        "    for i in range(len(lista_distancias)):\n",
        "        for j in lista_distancias[i+1:]:\n",
        "            dif_lat=j[0] - lista_distancias[i][0] #Hallamos la diferencia de latitud\n",
        "            dif_lon=j[1] - lista_distancias[i][1] #Hallamos la diferencia de longitud\n",
        "            a=pow(math.sin(dif_lat/2),2)+(math.cos(lista_distancias[i][0])*(math.cos(j[0])))*pow(math.sin(dif_lon/2),2)\n",
        "            c=2*math.asin(min(1,math.sqrt(a)))\n",
        "            sum_dist+=radio_tierra * c \n",
        "    fitness=sum_pob + sum_dist\n",
        "    \n",
        "    return fitness"
      ],
      "execution_count": 0,
      "outputs": []
    },
    {
      "cell_type": "markdown",
      "metadata": {
        "id": "ME-FTXF2a3Ev",
        "colab_type": "text"
      },
      "source": [
        "**g) Funcion para evaluar una población de individuos**"
      ]
    },
    {
      "cell_type": "code",
      "metadata": {
        "id": "tP-BMpHCa3Ev",
        "colab_type": "code",
        "colab": {}
      },
      "source": [
        "def evaluate_population(population, markets):\n",
        "    \"\"\" Evalua una poblacion de individuos con la funcion get_fitness \"\"\"\n",
        "    pop_size = len(population)\n",
        "    for i in range(pop_size):\n",
        "        if population[i].fitness == -1:    # evalua solo si el individuo no esta evaluado\n",
        "            #Se puede hacer uso de las dos funciones para obtener los fitness\n",
        "            #population[i].fitness = get_fitness(population[i].chromosome, markets) \n",
        "            population[i].fitness = sum(get_fitness_lista(population[i].chromosome, markets))"
      ],
      "execution_count": 0,
      "outputs": []
    },
    {
      "cell_type": "markdown",
      "metadata": {
        "id": "fySRXQq5a3Ey",
        "colab_type": "text"
      },
      "source": [
        "**h) Funcion para inicializar aleatoriamente una población de individuos**"
      ]
    },
    {
      "cell_type": "code",
      "metadata": {
        "id": "x32setS5a3Ez",
        "colab_type": "code",
        "colab": {}
      },
      "source": [
        "def init_population(pop_size, chromosome_size=60,maxMark=10):\n",
        "    \"\"\"Inicializa una poblacion de pop_size individuos, cada cromosoma de individuo de tamaño chromosome_size.\n",
        "       \"\"\"\n",
        "    population = []\n",
        "    for i in range(pop_size):\n",
        "        index_unos=sample(range(chromosome_size),maxMark)\n",
        "        new_chromosome=[0 if i not in index_unos else 1 for i in range(chromosome_size)]\n",
        "        population.append( Individual(new_chromosome,maxMark))\n",
        "    return population"
      ],
      "execution_count": 0,
      "outputs": []
    },
    {
      "cell_type": "markdown",
      "metadata": {
        "id": "mcrDShRza3E2",
        "colab_type": "text"
      },
      "source": [
        "**i) Funciones para escoger individuos aleatoriamente para el cruzamiento**"
      ]
    },
    {
      "cell_type": "markdown",
      "metadata": {
        "id": "OkIWEFCfa3E2",
        "colab_type": "text"
      },
      "source": [
        "Seleccion por ruleta"
      ]
    },
    {
      "cell_type": "code",
      "metadata": {
        "id": "ETbeqKTCa3E3",
        "colab_type": "code",
        "colab": {}
      },
      "source": [
        "def select_parents_roulette(population):\n",
        "    pop_size = len(population)\n",
        "    \n",
        "    # Escoje el primer padre\n",
        "    sumfitness = sum([indiv.fitness for indiv in population])  # suma total del fitness de la poblacion\n",
        "    pickfitness = uniform(0, sumfitness)   # escoge un numero aleatorio entre 0 y sumfitness\n",
        "    cumfitness = 0     # fitness acumulado\n",
        "    for i in range(pop_size):\n",
        "        cumfitness += population[i].fitness\n",
        "        if cumfitness > pickfitness: \n",
        "            iParent1 = i\n",
        "            break\n",
        "    \n",
        "    # Escoje el segundo padre, desconsiderando el primer padre\n",
        "    sumfitness = sumfitness - population[iParent1].fitness # retira el fitness del padre ya escogido\n",
        "    pickfitness = uniform(0, sumfitness)   # escoge un numero aleatorio entre 0 y sumfitness\n",
        "    cumfitness = 0     # fitness acumulado\n",
        "    for i in range(pop_size):\n",
        "        if i == iParent1: continue   # si es el primer padre \n",
        "        cumfitness += population[i].fitness\n",
        "        if cumfitness > pickfitness: \n",
        "            iParent2 = i\n",
        "            break        \n",
        "    return (population[iParent1], population[iParent2])"
      ],
      "execution_count": 0,
      "outputs": []
    },
    {
      "cell_type": "markdown",
      "metadata": {
        "id": "5K286IPra3E5",
        "colab_type": "text"
      },
      "source": [
        "Seleccion por Stochastic universal sampling"
      ]
    },
    {
      "cell_type": "code",
      "metadata": {
        "id": "6Uufcjaca3E6",
        "colab_type": "code",
        "colab": {}
      },
      "source": [
        "def sus(poblacion,num_padres):\n",
        "    poblacion_local=poblacion[:]\n",
        "    padres=[]\n",
        "    fitness_total=sum([chromosome.fitness for chromosome in poblacion_local])\n",
        "    agujas=np.linspace(0,fitness_total,num_padres+1)\n",
        "    r_aleatorios=[int(uniform(agujas[i],agujas[i+1])) for i in range(len(agujas)-1)]\n",
        "    for r in r_aleatorios:\n",
        "        fitness_acumulado=0\n",
        "        for chromosome in poblacion_local:\n",
        "            fitness_acumulado+=chromosome.fitness\n",
        "            if fitness_acumulado >= r:\n",
        "                padres.append(chromosome)\n",
        "                break\n",
        "                \n",
        "    return padres"
      ],
      "execution_count": 0,
      "outputs": []
    },
    {
      "cell_type": "markdown",
      "metadata": {
        "id": "nwFQ2zoVa3E9",
        "colab_type": "text"
      },
      "source": [
        "**j) Funcion que selecciona la poblacion de la sgte generacion, dada la poblacion actual y poblacion de hijos**"
      ]
    },
    {
      "cell_type": "code",
      "metadata": {
        "id": "0H0ZYk-5a3E9",
        "colab_type": "code",
        "colab": {}
      },
      "source": [
        "def select_survivors(population, offspring_population, numsurvivors):\n",
        "    next_population = []\n",
        "    population.extend(offspring_population) # une las dos poblaciones\n",
        "    isurvivors = sorted(range(len(population)), key=lambda i: population[i].fitness, reverse=True)[:numsurvivors]\n",
        "    for i in range(numsurvivors):\n",
        "        next_population.append(population[isurvivors[i]])\n",
        "    return next_population"
      ],
      "execution_count": 0,
      "outputs": []
    },
    {
      "cell_type": "markdown",
      "metadata": {
        "id": "9qSb-4UPa3E_",
        "colab_type": "text"
      },
      "source": [
        "**k) Algoritmo Genetico para encontrar soluciones**"
      ]
    },
    {
      "cell_type": "code",
      "metadata": {
        "id": "dzZgJstDa3FA",
        "colab_type": "code",
        "colab": {}
      },
      "source": [
        "def genetic_algorithm(population, markets, ngen=100, pmut=0.1, crossover=\"onepoint\", mutation=\"flip\",select='roulette'):\n",
        "    \"\"\"Algoritmo Genetico para el problema de la mochila\n",
        "        markets:      pool de markets a escoger. Debe ser una lista de objetos de clase Market\n",
        "        ngen:       maximo numero de generaciones \n",
        "        pmut:       tasa de mutacion\n",
        "        crossover:  operador de cruzamiento\n",
        "        mutation:   operador de mutacion\n",
        "    \"\"\"\n",
        "    history_population = []\n",
        "\n",
        "    pop_size = len(population)\n",
        "    evaluate_population(population, markets)  # evalua la poblacion inicial\n",
        "    ibest = sorted(range(len(population)), key=lambda i: population[i].fitness, reverse=True)[:1]  # mejor individuo\n",
        "    bestfitness = [population[ibest[0]].fitness]  # fitness del mejor individuo\n",
        "    print(\"Poblacion inicial, best_fitness = {}\".format(population[ibest[0]].fitness))\n",
        "\n",
        "    for g in range(ngen):   # Por cada generacion\n",
        "\n",
        "        ## Selecciona parejas de individuos (mating_pool) para cruzamiento con el metodo de la ruleta\n",
        "        mating_pool = []\n",
        "        if select == 'roulette':\n",
        "            for i in range(int(pop_size/2)): mating_pool.append(select_parents_roulette(population)) \n",
        "        elif select == 'sus':\n",
        "            for i in range(int(pop_size/2)): mating_pool.append(sus(population,2)) \n",
        "\n",
        "        ## Crea la poblacion descendencia cruzando las parejas del mating pool \n",
        "        offspring_population = []\n",
        "        for i in range(len(mating_pool)): \n",
        "            if crossover == \"onepoint\":\n",
        "                offspring_population.extend( mating_pool[i][0].crossover_onepoint(mating_pool[i][1]) ) # cruzamiento 1 punto\n",
        "            elif crossover == \"uniform\":\n",
        "                offspring_population.extend( mating_pool[i][0].crossover_uniform(mating_pool[i][1]) ) # cruzamiento uniforme\n",
        "            else:\n",
        "                raise NotImplementedError\n",
        "\n",
        "        ## Aplica el operador de mutacion con probabilidad pmut en cada hijo generado\n",
        "        for i in range(len(offspring_population)):\n",
        "            if uniform(0, 1) < pmut: \n",
        "                if mutation == \"flip\":\n",
        "                    offspring_population[i] = offspring_population[i].mutation_flip() # cambia el alelo de un gen\n",
        "                else:\n",
        "                    raise NotImplementedError   \n",
        "\n",
        "        ## Evalua la poblacion descendencia creada\n",
        "        evaluate_population(offspring_population, markets)   # evalua la poblacion descendencia\n",
        "\n",
        "        ## Selecciona pop_size individuos para la sgte. generación de la union de la pob. actual y  pob. descendencia\n",
        "        population = select_survivors(population, offspring_population, pop_size)\n",
        "\n",
        "        ## Almacena la historia del fitness del mejor individuo\n",
        "        ibest = sorted(range(len(population)), key=lambda i: population[i].fitness, reverse=True)[:1]\n",
        "        bestfitness.append(population[ibest[0]].fitness)\n",
        "        history_population.append(population[ibest[0]].chromosome) # Agregando el historial de mejores cromosomas\n",
        "\n",
        "        if (g % 10 == 0):  # muestra resultados cada 10 generaciones\n",
        "            print(\"generacion {}, Mejor fitness = {})\".format(g, population[ibest[0]].fitness))\n",
        "\n",
        "    print(\"Mejor individuo en la ultima generacion = {} (fitness = {})\".format(population[ibest[0]].chromosome, population[ibest[0]].fitness))\n",
        "    return population[ibest[0]], bestfitness, history_population  # devuelve el mejor individuo y la lista de mejores fitness x gen"
      ],
      "execution_count": 0,
      "outputs": []
    },
    {
      "cell_type": "markdown",
      "metadata": {
        "id": "GMkqclRoa3FF",
        "colab_type": "text"
      },
      "source": [
        "**l) Creación del marketpool**"
      ]
    },
    {
      "cell_type": "code",
      "metadata": {
        "id": "qYCE58Moa3FH",
        "colab_type": "code",
        "colab": {}
      },
      "source": [
        "marketPool=[]\n",
        "for i in range(len(dataset)):\n",
        "    ID=dataset.iloc[i].ID\n",
        "    descp=dataset.iloc[i].Descripcion\n",
        "    lat=dataset.iloc[i].Latitud\n",
        "    lon=dataset.iloc[i].Longitud\n",
        "    pob=dataset.iloc[i].Poblacion500m\n",
        "    marketPool.append(Market(ID,descp,pob,lat,lon))"
      ],
      "execution_count": 0,
      "outputs": []
    },
    {
      "cell_type": "code",
      "metadata": {
        "id": "OAGnumAsa3FL",
        "colab_type": "code",
        "outputId": "265c77f7-98fa-49b6-bc2b-ebe95d5aeb59",
        "colab": {
          "base_uri": "https://localhost:8080/",
          "height": 34
        }
      },
      "source": [
        "marketPool[0].pob"
      ],
      "execution_count": 20,
      "outputs": [
        {
          "output_type": "execute_result",
          "data": {
            "text/plain": [
              "16500"
            ]
          },
          "metadata": {
            "tags": []
          },
          "execution_count": 20
        }
      ]
    },
    {
      "cell_type": "markdown",
      "metadata": {
        "id": "hk6czvala3FN",
        "colab_type": "text"
      },
      "source": [
        "**m) Ejecución del algoritmo**"
      ]
    },
    {
      "cell_type": "code",
      "metadata": {
        "id": "KKsw4Dnza3FO",
        "colab_type": "code",
        "outputId": "2ef92b74-1692-4aae-8388-0b46f28aa12e",
        "colab": {
          "base_uri": "https://localhost:8080/",
          "height": 1000
        }
      },
      "source": [
        "## Hiperparametros del algoritmo genetico\n",
        "POP_SIZE = 50       # numero de individuos\n",
        "GENERATIONS = 500   # numero de generaciones\n",
        "PMUT = 1        # tasa de mutacion\n",
        "\n",
        "## Inicializa una poblacion inicial de forma aleatoria\n",
        "population = init_population(POP_SIZE,maxMark=10)\n",
        "\n",
        "# Evolue la poblacion con el algoritmo genetico (cruzamiento 'onepoint', )\n",
        "best_ind, bestfitness, history_population = genetic_algorithm(population, marketPool, GENERATIONS, PMUT, crossover=\"uniform\", mutation=\"flip\",select='roulette')\n",
        "\n",
        "# muestra la evolucion del mejor fitness\n",
        "plt.plot(bestfitness)\n",
        "plt.show()"
      ],
      "execution_count": 21,
      "outputs": [
        {
          "output_type": "stream",
          "text": [
            "Poblacion inicial, best_fitness = 168828.52327241638\n",
            "generacion 0, Mejor fitness = 170137.37810460827)\n",
            "generacion 10, Mejor fitness = 189096.38742850482)\n",
            "generacion 20, Mejor fitness = 191626.57387174177)\n",
            "generacion 30, Mejor fitness = 192835.88587000384)\n",
            "generacion 40, Mejor fitness = 193048.62489038808)\n",
            "generacion 50, Mejor fitness = 193048.62489038808)\n",
            "generacion 60, Mejor fitness = 193248.67046399458)\n",
            "generacion 70, Mejor fitness = 193248.67046399458)\n",
            "generacion 80, Mejor fitness = 193248.67046399458)\n",
            "generacion 90, Mejor fitness = 193248.67046399458)\n",
            "generacion 100, Mejor fitness = 193248.67046399458)\n",
            "generacion 110, Mejor fitness = 193248.67046399458)\n",
            "generacion 120, Mejor fitness = 193409.90950866626)\n",
            "generacion 130, Mejor fitness = 193409.90950866626)\n",
            "generacion 140, Mejor fitness = 193409.90950866626)\n",
            "generacion 150, Mejor fitness = 193409.90950866626)\n",
            "generacion 160, Mejor fitness = 193409.90950866626)\n",
            "generacion 170, Mejor fitness = 193409.90950866626)\n",
            "generacion 180, Mejor fitness = 193409.90950866626)\n",
            "generacion 190, Mejor fitness = 193409.90950866626)\n",
            "generacion 200, Mejor fitness = 193409.90950866626)\n",
            "generacion 210, Mejor fitness = 193409.90950866626)\n",
            "generacion 220, Mejor fitness = 193409.90950866626)\n",
            "generacion 230, Mejor fitness = 193409.90950866626)\n",
            "generacion 240, Mejor fitness = 193409.90950866626)\n",
            "generacion 250, Mejor fitness = 193409.90950866626)\n",
            "generacion 260, Mejor fitness = 193409.90950866626)\n",
            "generacion 270, Mejor fitness = 193409.90950866626)\n",
            "generacion 280, Mejor fitness = 193409.90950866626)\n",
            "generacion 290, Mejor fitness = 193409.90950866626)\n",
            "generacion 300, Mejor fitness = 193409.90950866626)\n",
            "generacion 310, Mejor fitness = 193409.90950866626)\n",
            "generacion 320, Mejor fitness = 193409.90950866626)\n",
            "generacion 330, Mejor fitness = 193409.90950866626)\n",
            "generacion 340, Mejor fitness = 193409.90950866626)\n",
            "generacion 350, Mejor fitness = 193409.90950866626)\n",
            "generacion 360, Mejor fitness = 193409.90950866626)\n",
            "generacion 370, Mejor fitness = 193409.90950866626)\n",
            "generacion 380, Mejor fitness = 193409.90950866626)\n",
            "generacion 390, Mejor fitness = 193409.90950866626)\n",
            "generacion 400, Mejor fitness = 193409.90950866626)\n",
            "generacion 410, Mejor fitness = 193409.90950866626)\n",
            "generacion 420, Mejor fitness = 193409.90950866626)\n",
            "generacion 430, Mejor fitness = 193409.90950866626)\n",
            "generacion 440, Mejor fitness = 193409.90950866626)\n",
            "generacion 450, Mejor fitness = 193409.90950866626)\n",
            "generacion 460, Mejor fitness = 193409.90950866626)\n",
            "generacion 470, Mejor fitness = 193409.90950866626)\n",
            "generacion 480, Mejor fitness = 193409.90950866626)\n",
            "generacion 490, Mejor fitness = 193409.90950866626)\n",
            "Mejor individuo en la ultima generacion = [1, 1, 1, 0, 0, 0, 0, 0, 0, 0, 0, 0, 0, 0, 0, 0, 0, 0, 0, 0, 0, 0, 0, 0, 0, 0, 0, 0, 0, 0, 0, 0, 0, 0, 0, 0, 0, 0, 0, 0, 0, 0, 0, 0, 0, 0, 0, 0, 1, 1, 1, 0, 0, 0, 0, 1, 1, 0, 1, 1] (fitness = 193409.90950866626)\n"
          ],
          "name": "stdout"
        },
        {
          "output_type": "display_data",
          "data": {
            "image/png": "[encoded data removed]",
            "text/plain": [
              "<Figure size 432x288 with 1 Axes>"
            ]
          },
          "metadata": {
            "tags": []
          }
        }
      ]
    },
    {
      "cell_type": "markdown",
      "metadata": {
        "id": "11axIFh-go31",
        "colab_type": "text"
      },
      "source": [
        "Solución de manera gráfica"
      ]
    },
    {
      "cell_type": "code",
      "metadata": {
        "id": "EOslOmXdfP0L",
        "colab_type": "code",
        "outputId": "90825f95-c422-48da-d93e-1c28a77df674",
        "colab": {
          "base_uri": "https://localhost:8080/",
          "height": 1000
        }
      },
      "source": [
        "m = folium.Map(\n",
        "    location=[-12.0431805, -77.0282364], zoom_start=13, zoomControl= False, min_zoom=13, max_zoom=13)\n",
        "\n",
        "[(folium.Marker([marketPool[i].lat, marketPool[i].lon], icon=folium.Icon(color='blue')).add_to(m)) for i in range(len(best_ind.chromosome)) if best_ind.chromosome[i]==1]\n",
        "[(folium.Marker([marketPool[i].lat, marketPool[i].lon], icon=folium.Icon(color='red')).add_to(m)) for i in range(len(best_ind.chromosome)) if best_ind.chromosome[i]==0]\n",
        "points = [(marketPool[i].lat, marketPool[i].lon) for i in range(len(best_ind.chromosome)) if best_ind.chromosome[i]==1]\n",
        "points.append(points[0])\n",
        "folium.PolyLine(points, color=\"red\", weight=2.5, opacity=1).add_to(m)\n",
        "\n",
        "m"
      ],
      "execution_count": 22,
      "outputs": [
        {
          "output_type": "execute_result",
          "data": {
            "text/html": [
              "<div style=\"width:100%;\"><div style=\"position:relative;width:100%;height:0;padding-bottom:60%;\"><iframe src=\"data:text/html;charset=utf-8;base64,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\" style=\"position:absolute;width:100%;height:100%;left:0;top:0;border:none !important;\" allowfullscreen webkitallowfullscreen mozallowfullscreen></iframe></div></div>"
            ],
            "text/plain": [
              "<folium.folium.Map at 0x7fa2810812e8>"
            ]
          },
          "metadata": {
            "tags": []
          },
          "execution_count": 22
        }
      ]
    },
    {
      "cell_type": "code",
      "metadata": {
        "id": "v5n0wOEHhiG5",
        "colab_type": "code",
        "colab": {}
      },
      "source": [
        "today = datetime.datetime.now()\n",
        "\n",
        "def create_geojson_features(df):\n",
        "    print('> Creating GeoJSON features...')\n",
        "    history = []\n",
        "    for index, row in enumerate(df):\n",
        "      itemHistory = []\n",
        "      for chromo in range(len(best_ind.chromosome)):\n",
        "        feature = {\n",
        "            'type': 'Feature',\n",
        "            'geometry': {\n",
        "                'type':'Point', \n",
        "                'coordinates':[marketPool[chromo].lon, marketPool[chromo].lat]\n",
        "            },\n",
        "            'properties': {\n",
        "                'time': (today + timedelta(days=index)).__str__(),\n",
        "                'style': {'color' : 'blue' if row[chromo] == 1 else 'red' },\n",
        "                'icon': 'circle',\n",
        "                'iconstyle':{\n",
        "                    'fillColor': {'color' : 'blue' if row[chromo] == 1 else 'red' },\n",
        "                    'fillOpacity': 0.8,\n",
        "                    'stroke': 'true',\n",
        "                    'radius': 7\n",
        "                }\n",
        "            }\n",
        "        }\n",
        "        itemHistory.append(feature)\n",
        "      history.append(itemHistory)\n",
        "    return history"
      ],
      "execution_count": 0,
      "outputs": []
    },
    {
      "cell_type": "code",
      "metadata": {
        "id": "WrNyQHUkh0qi",
        "colab_type": "code",
        "colab": {}
      },
      "source": [
        "def make_map(features):\n",
        "    print('> Making map...')\n",
        "    coords_lima=[-12.0431805, -77.0282364]\n",
        "    mapLima = folium.Map(location=coords_lima, zoom_start=13, zoomControl= False, min_zoom=13, max_zoom=13, control_scale=True)\n",
        "\n",
        "    TimestampedGeoJson(\n",
        "        {'type': 'FeatureCollection',\n",
        "        'features': np.array(features).flatten().tolist()}\n",
        "        , add_last_point=True\n",
        "        , auto_play=False\n",
        "        , loop=False\n",
        "        , max_speed=1\n",
        "        , loop_button=True\n",
        "        , date_options='DD'\n",
        "        , time_slider_drag_update=True\n",
        "    ).add_to(mapLima)\n",
        "    \n",
        "    print('> Done.')\n",
        "    return mapLima\n",
        "def plot_solution_map(df):\n",
        "    features = create_geojson_features(df)\n",
        "    return make_map(features)"
      ],
      "execution_count": 0,
      "outputs": []
    },
    {
      "cell_type": "markdown",
      "metadata": {
        "id": "K_6NeU90wjgK",
        "colab_type": "text"
      },
      "source": [
        "Para revisar la solución de manera mas dinánica se puede ir al archivo **html** generado con nombre **monoSolution.html**"
      ]
    },
    {
      "cell_type": "code",
      "metadata": {
        "id": "J1qerf2biPRy",
        "colab_type": "code",
        "outputId": "00376e29-78ff-43b6-9a62-8e181e3a76ce",
        "colab": {
          "base_uri": "https://localhost:8080/",
          "height": 68
        }
      },
      "source": [
        "solutionOverTime = plot_solution_map(history_population)\n",
        "solutionOverTime.save('monoSolution.html')"
      ],
      "execution_count": 27,
      "outputs": [
        {
          "output_type": "stream",
          "text": [
            "> Creating GeoJSON features...\n",
            "> Making map...\n",
            "> Done.\n"
          ],
          "name": "stdout"
        }
      ]
    },
    {
      "cell_type": "markdown",
      "metadata": {
        "id": "49xmrW2aa3FS",
        "colab_type": "text"
      },
      "source": [
        "**n) Experimentación con el algoritmo**"
      ]
    },
    {
      "cell_type": "markdown",
      "metadata": {
        "id": "J-aTlO_ya3FT",
        "colab_type": "text"
      },
      "source": [
        "Experimente varias veces el\n",
        "algoritmo implementado con una población de 100 individuos y 500 generaciones (se\n",
        "sugiere ejecutar 10 veces) y registre en una tabla los mejores individuos de cada ejecución,\n",
        "sus fitness y los componentes del fitness desagregados (suma de distancias y suma de\n",
        "población)."
      ]
    },
    {
      "cell_type": "code",
      "metadata": {
        "id": "oS-Vo6baa3FV",
        "colab_type": "code",
        "outputId": "fe0eeaa1-281c-4582-b596-e59818618322",
        "colab": {
          "base_uri": "https://localhost:8080/",
          "height": 1000
        }
      },
      "source": [
        "## Hiperparametros del algoritmo genetico\n",
        "POP_SIZE = 100       # numero de individuos\n",
        "GENERATIONS = 500   # numero de generaciones\n",
        "PMUT = 0.1        # tasa de mutacion\n",
        "individuos,fitness,sum_distancia,sum_poblacion=([] for _ in range(4))\n",
        "for _ in range(10):\n",
        "    population = init_population(POP_SIZE,maxMark=10);\n",
        "    best_ind, bestfitness, _ = genetic_algorithm(population, marketPool, GENERATIONS, PMUT, crossover=\"uniform\", mutation=\"flip\",select='roulette');\n",
        "    individuos.append(best_ind)\n",
        "    fitness.append(best_ind.fitness)\n",
        "    sum_distancia.append(get_fitness_lista(best_ind.chromosome,marketPool)[1])\n",
        "    sum_poblacion.append(get_fitness_lista(best_ind.chromosome,marketPool)[0])"
      ],
      "execution_count": 29,
      "outputs": [
        {
          "output_type": "stream",
          "text": [
            "Poblacion inicial, best_fitness = 177746.1953837895\n",
            "generacion 0, Mejor fitness = 179622.03760066713)\n",
            "generacion 10, Mejor fitness = 191347.06528100537)\n",
            "generacion 20, Mejor fitness = 193202.93798991878)\n",
            "generacion 30, Mejor fitness = 193409.90950866626)\n",
            "generacion 40, Mejor fitness = 193409.90950866626)\n",
            "generacion 50, Mejor fitness = 193409.90950866626)\n",
            "generacion 60, Mejor fitness = 193409.90950866626)\n",
            "generacion 70, Mejor fitness = 193409.90950866626)\n",
            "generacion 80, Mejor fitness = 193409.90950866626)\n",
            "generacion 90, Mejor fitness = 193409.90950866626)\n",
            "generacion 100, Mejor fitness = 193409.90950866626)\n",
            "generacion 110, Mejor fitness = 193409.90950866626)\n",
            "generacion 120, Mejor fitness = 193409.90950866626)\n",
            "generacion 130, Mejor fitness = 193409.90950866626)\n",
            "generacion 140, Mejor fitness = 193409.90950866626)\n",
            "generacion 150, Mejor fitness = 193409.90950866626)\n",
            "generacion 160, Mejor fitness = 193409.90950866626)\n",
            "generacion 170, Mejor fitness = 193409.90950866626)\n",
            "generacion 180, Mejor fitness = 193409.90950866626)\n",
            "generacion 190, Mejor fitness = 193409.90950866626)\n",
            "generacion 200, Mejor fitness = 193409.90950866626)\n",
            "generacion 210, Mejor fitness = 193409.90950866626)\n",
            "generacion 220, Mejor fitness = 193409.90950866626)\n",
            "generacion 230, Mejor fitness = 193409.90950866626)\n",
            "generacion 240, Mejor fitness = 193409.90950866626)\n",
            "generacion 250, Mejor fitness = 193409.90950866626)\n",
            "generacion 260, Mejor fitness = 193409.90950866626)\n",
            "generacion 270, Mejor fitness = 193409.90950866626)\n",
            "generacion 280, Mejor fitness = 193409.90950866626)\n",
            "generacion 290, Mejor fitness = 193409.90950866626)\n",
            "generacion 300, Mejor fitness = 193409.90950866626)\n",
            "generacion 310, Mejor fitness = 193409.90950866626)\n",
            "generacion 320, Mejor fitness = 193409.90950866626)\n",
            "generacion 330, Mejor fitness = 193409.90950866626)\n",
            "generacion 340, Mejor fitness = 193409.90950866626)\n",
            "generacion 350, Mejor fitness = 193409.90950866626)\n",
            "generacion 360, Mejor fitness = 193409.90950866626)\n",
            "generacion 370, Mejor fitness = 193409.90950866626)\n",
            "generacion 380, Mejor fitness = 193409.90950866626)\n",
            "generacion 390, Mejor fitness = 193409.90950866626)\n",
            "generacion 400, Mejor fitness = 193409.90950866626)\n",
            "generacion 410, Mejor fitness = 193409.90950866626)\n",
            "generacion 420, Mejor fitness = 193409.90950866626)\n",
            "generacion 430, Mejor fitness = 193409.90950866626)\n",
            "generacion 440, Mejor fitness = 193409.90950866626)\n",
            "generacion 450, Mejor fitness = 193409.90950866626)\n",
            "generacion 460, Mejor fitness = 193409.90950866626)\n",
            "generacion 470, Mejor fitness = 193409.90950866626)\n",
            "generacion 480, Mejor fitness = 193409.90950866626)\n",
            "generacion 490, Mejor fitness = 193409.90950866626)\n",
            "Mejor individuo en la ultima generacion = [1, 1, 1, 0, 0, 0, 0, 0, 0, 0, 0, 0, 0, 0, 0, 0, 0, 0, 0, 0, 0, 0, 0, 0, 0, 0, 0, 0, 0, 0, 0, 0, 0, 0, 0, 0, 0, 0, 0, 0, 0, 0, 0, 0, 0, 0, 0, 0, 1, 1, 1, 0, 0, 0, 0, 1, 1, 0, 1, 1] (fitness = 193409.90950866626)\n",
            "Poblacion inicial, best_fitness = 170850\n",
            "generacion 0, Mejor fitness = 178061.6463812294)\n",
            "generacion 10, Mejor fitness = 190861.7609393507)\n",
            "generacion 20, Mejor fitness = 192867.2827163914)\n",
            "generacion 30, Mejor fitness = 193409.90950866626)\n",
            "generacion 40, Mejor fitness = 193409.90950866626)\n",
            "generacion 50, Mejor fitness = 193409.90950866626)\n",
            "generacion 60, Mejor fitness = 193409.90950866626)\n",
            "generacion 70, Mejor fitness = 193409.90950866626)\n",
            "generacion 80, Mejor fitness = 193409.90950866626)\n",
            "generacion 90, Mejor fitness = 193409.90950866626)\n",
            "generacion 100, Mejor fitness = 193409.90950866626)\n",
            "generacion 110, Mejor fitness = 193409.90950866626)\n",
            "generacion 120, Mejor fitness = 193409.90950866626)\n",
            "generacion 130, Mejor fitness = 193409.90950866626)\n",
            "generacion 140, Mejor fitness = 193409.90950866626)\n",
            "generacion 150, Mejor fitness = 193409.90950866626)\n",
            "generacion 160, Mejor fitness = 193409.90950866626)\n",
            "generacion 170, Mejor fitness = 193409.90950866626)\n",
            "generacion 180, Mejor fitness = 193409.90950866626)\n",
            "generacion 190, Mejor fitness = 193409.90950866626)\n",
            "generacion 200, Mejor fitness = 193409.90950866626)\n",
            "generacion 210, Mejor fitness = 193409.90950866626)\n",
            "generacion 220, Mejor fitness = 193409.90950866626)\n",
            "generacion 230, Mejor fitness = 193409.90950866626)\n",
            "generacion 240, Mejor fitness = 193409.90950866626)\n",
            "generacion 250, Mejor fitness = 193409.90950866626)\n",
            "generacion 260, Mejor fitness = 193409.90950866626)\n",
            "generacion 270, Mejor fitness = 193409.90950866626)\n",
            "generacion 280, Mejor fitness = 193409.90950866626)\n",
            "generacion 290, Mejor fitness = 193409.90950866626)\n",
            "generacion 300, Mejor fitness = 193409.90950866626)\n",
            "generacion 310, Mejor fitness = 193409.90950866626)\n",
            "generacion 320, Mejor fitness = 193409.90950866626)\n",
            "generacion 330, Mejor fitness = 193409.90950866626)\n",
            "generacion 340, Mejor fitness = 193409.90950866626)\n",
            "generacion 350, Mejor fitness = 193409.90950866626)\n",
            "generacion 360, Mejor fitness = 193409.90950866626)\n",
            "generacion 370, Mejor fitness = 193409.90950866626)\n",
            "generacion 380, Mejor fitness = 193409.90950866626)\n",
            "generacion 390, Mejor fitness = 193409.90950866626)\n",
            "generacion 400, Mejor fitness = 193409.90950866626)\n",
            "generacion 410, Mejor fitness = 193409.90950866626)\n",
            "generacion 420, Mejor fitness = 193409.90950866626)\n",
            "generacion 430, Mejor fitness = 193409.90950866626)\n",
            "generacion 440, Mejor fitness = 193409.90950866626)\n",
            "generacion 450, Mejor fitness = 193409.90950866626)\n",
            "generacion 460, Mejor fitness = 193409.90950866626)\n",
            "generacion 470, Mejor fitness = 193409.90950866626)\n",
            "generacion 480, Mejor fitness = 193409.90950866626)\n",
            "generacion 490, Mejor fitness = 193409.90950866626)\n",
            "Mejor individuo en la ultima generacion = [1, 1, 1, 0, 0, 0, 0, 0, 0, 0, 0, 0, 0, 0, 0, 0, 0, 0, 0, 0, 0, 0, 0, 0, 0, 0, 0, 0, 0, 0, 0, 0, 0, 0, 0, 0, 0, 0, 0, 0, 0, 0, 0, 0, 0, 0, 0, 0, 1, 1, 1, 0, 0, 0, 0, 1, 1, 0, 1, 1] (fitness = 193409.90950866626)\n",
            "Poblacion inicial, best_fitness = 180560.25606570893\n",
            "generacion 0, Mejor fitness = 180560.25606570893)\n",
            "generacion 10, Mejor fitness = 192183.09746887145)\n",
            "generacion 20, Mejor fitness = 193202.93798991878)\n",
            "generacion 30, Mejor fitness = 193409.90950866626)\n",
            "generacion 40, Mejor fitness = 193409.90950866626)\n",
            "generacion 50, Mejor fitness = 193409.90950866626)\n",
            "generacion 60, Mejor fitness = 193409.90950866626)\n",
            "generacion 70, Mejor fitness = 193409.90950866626)\n",
            "generacion 80, Mejor fitness = 193409.90950866626)\n",
            "generacion 90, Mejor fitness = 193409.90950866626)\n",
            "generacion 100, Mejor fitness = 193409.90950866626)\n",
            "generacion 110, Mejor fitness = 193409.90950866626)\n",
            "generacion 120, Mejor fitness = 193409.90950866626)\n",
            "generacion 130, Mejor fitness = 193409.90950866626)\n",
            "generacion 140, Mejor fitness = 193409.90950866626)\n",
            "generacion 150, Mejor fitness = 193409.90950866626)\n",
            "generacion 160, Mejor fitness = 193409.90950866626)\n",
            "generacion 170, Mejor fitness = 193409.90950866626)\n",
            "generacion 180, Mejor fitness = 193409.90950866626)\n",
            "generacion 190, Mejor fitness = 193409.90950866626)\n",
            "generacion 200, Mejor fitness = 193409.90950866626)\n",
            "generacion 210, Mejor fitness = 193409.90950866626)\n",
            "generacion 220, Mejor fitness = 193409.90950866626)\n",
            "generacion 230, Mejor fitness = 193409.90950866626)\n",
            "generacion 240, Mejor fitness = 193409.90950866626)\n",
            "generacion 250, Mejor fitness = 193409.90950866626)\n",
            "generacion 260, Mejor fitness = 193409.90950866626)\n",
            "generacion 270, Mejor fitness = 193409.90950866626)\n",
            "generacion 280, Mejor fitness = 193409.90950866626)\n",
            "generacion 290, Mejor fitness = 193409.90950866626)\n",
            "generacion 300, Mejor fitness = 193409.90950866626)\n",
            "generacion 310, Mejor fitness = 193409.90950866626)\n",
            "generacion 320, Mejor fitness = 193409.90950866626)\n",
            "generacion 330, Mejor fitness = 193409.90950866626)\n",
            "generacion 340, Mejor fitness = 193409.90950866626)\n",
            "generacion 350, Mejor fitness = 193409.90950866626)\n",
            "generacion 360, Mejor fitness = 193409.90950866626)\n",
            "generacion 370, Mejor fitness = 193409.90950866626)\n",
            "generacion 380, Mejor fitness = 193409.90950866626)\n",
            "generacion 390, Mejor fitness = 193409.90950866626)\n",
            "generacion 400, Mejor fitness = 193409.90950866626)\n",
            "generacion 410, Mejor fitness = 193409.90950866626)\n",
            "generacion 420, Mejor fitness = 193409.90950866626)\n",
            "generacion 430, Mejor fitness = 193409.90950866626)\n",
            "generacion 440, Mejor fitness = 193409.90950866626)\n",
            "generacion 450, Mejor fitness = 193409.90950866626)\n",
            "generacion 460, Mejor fitness = 193409.90950866626)\n",
            "generacion 470, Mejor fitness = 193409.90950866626)\n",
            "generacion 480, Mejor fitness = 193409.90950866626)\n",
            "generacion 490, Mejor fitness = 193409.90950866626)\n",
            "Mejor individuo en la ultima generacion = [1, 1, 1, 0, 0, 0, 0, 0, 0, 0, 0, 0, 0, 0, 0, 0, 0, 0, 0, 0, 0, 0, 0, 0, 0, 0, 0, 0, 0, 0, 0, 0, 0, 0, 0, 0, 0, 0, 0, 0, 0, 0, 0, 0, 0, 0, 0, 0, 1, 1, 1, 0, 0, 0, 0, 1, 1, 0, 1, 1] (fitness = 193409.90950866626)\n",
            "Poblacion inicial, best_fitness = 176186.86534026524\n",
            "generacion 0, Mejor fitness = 177098.76408446496)\n",
            "generacion 10, Mejor fitness = 191429.1634975283)\n",
            "generacion 20, Mejor fitness = 193409.90950866626)\n",
            "generacion 30, Mejor fitness = 193409.90950866626)\n",
            "generacion 40, Mejor fitness = 193409.90950866626)\n",
            "generacion 50, Mejor fitness = 193409.90950866626)\n",
            "generacion 60, Mejor fitness = 193409.90950866626)\n",
            "generacion 70, Mejor fitness = 193409.90950866626)\n",
            "generacion 80, Mejor fitness = 193409.90950866626)\n",
            "generacion 90, Mejor fitness = 193409.90950866626)\n",
            "generacion 100, Mejor fitness = 193409.90950866626)\n",
            "generacion 110, Mejor fitness = 193409.90950866626)\n",
            "generacion 120, Mejor fitness = 193409.90950866626)\n",
            "generacion 130, Mejor fitness = 193409.90950866626)\n",
            "generacion 140, Mejor fitness = 193409.90950866626)\n",
            "generacion 150, Mejor fitness = 193409.90950866626)\n",
            "generacion 160, Mejor fitness = 193409.90950866626)\n",
            "generacion 170, Mejor fitness = 193409.90950866626)\n",
            "generacion 180, Mejor fitness = 193409.90950866626)\n",
            "generacion 190, Mejor fitness = 193409.90950866626)\n",
            "generacion 200, Mejor fitness = 193409.90950866626)\n",
            "generacion 210, Mejor fitness = 193409.90950866626)\n",
            "generacion 220, Mejor fitness = 193409.90950866626)\n",
            "generacion 230, Mejor fitness = 193409.90950866626)\n",
            "generacion 240, Mejor fitness = 193409.90950866626)\n",
            "generacion 250, Mejor fitness = 193409.90950866626)\n",
            "generacion 260, Mejor fitness = 193409.90950866626)\n",
            "generacion 270, Mejor fitness = 193409.90950866626)\n",
            "generacion 280, Mejor fitness = 193409.90950866626)\n",
            "generacion 290, Mejor fitness = 193409.90950866626)\n",
            "generacion 300, Mejor fitness = 193409.90950866626)\n",
            "generacion 310, Mejor fitness = 193409.90950866626)\n",
            "generacion 320, Mejor fitness = 193409.90950866626)\n",
            "generacion 330, Mejor fitness = 193409.90950866626)\n",
            "generacion 340, Mejor fitness = 193409.90950866626)\n",
            "generacion 350, Mejor fitness = 193409.90950866626)\n",
            "generacion 360, Mejor fitness = 193409.90950866626)\n",
            "generacion 370, Mejor fitness = 193409.90950866626)\n",
            "generacion 380, Mejor fitness = 193409.90950866626)\n",
            "generacion 390, Mejor fitness = 193409.90950866626)\n",
            "generacion 400, Mejor fitness = 193409.90950866626)\n",
            "generacion 410, Mejor fitness = 193409.90950866626)\n",
            "generacion 420, Mejor fitness = 193409.90950866626)\n",
            "generacion 430, Mejor fitness = 193409.90950866626)\n",
            "generacion 440, Mejor fitness = 193409.90950866626)\n",
            "generacion 450, Mejor fitness = 193409.90950866626)\n",
            "generacion 460, Mejor fitness = 193409.90950866626)\n",
            "generacion 470, Mejor fitness = 193409.90950866626)\n",
            "generacion 480, Mejor fitness = 193409.90950866626)\n",
            "generacion 490, Mejor fitness = 193409.90950866626)\n",
            "Mejor individuo en la ultima generacion = [1, 1, 1, 0, 0, 0, 0, 0, 0, 0, 0, 0, 0, 0, 0, 0, 0, 0, 0, 0, 0, 0, 0, 0, 0, 0, 0, 0, 0, 0, 0, 0, 0, 0, 0, 0, 0, 0, 0, 0, 0, 0, 0, 0, 0, 0, 0, 0, 1, 1, 1, 0, 0, 0, 0, 1, 1, 0, 1, 1] (fitness = 193409.90950866626)\n",
            "Poblacion inicial, best_fitness = 170121.09038199022\n",
            "generacion 0, Mejor fitness = 170121.09038199022)\n",
            "generacion 10, Mejor fitness = 189906.62608149284)\n",
            "generacion 20, Mejor fitness = 193409.90950866626)\n",
            "generacion 30, Mejor fitness = 193409.90950866626)\n",
            "generacion 40, Mejor fitness = 193409.90950866626)\n",
            "generacion 50, Mejor fitness = 193409.90950866626)\n",
            "generacion 60, Mejor fitness = 193409.90950866626)\n",
            "generacion 70, Mejor fitness = 193409.90950866626)\n",
            "generacion 80, Mejor fitness = 193409.90950866626)\n",
            "generacion 90, Mejor fitness = 193409.90950866626)\n",
            "generacion 100, Mejor fitness = 193409.90950866626)\n",
            "generacion 110, Mejor fitness = 193409.90950866626)\n",
            "generacion 120, Mejor fitness = 193409.90950866626)\n",
            "generacion 130, Mejor fitness = 193409.90950866626)\n",
            "generacion 140, Mejor fitness = 193409.90950866626)\n",
            "generacion 150, Mejor fitness = 193409.90950866626)\n",
            "generacion 160, Mejor fitness = 193409.90950866626)\n",
            "generacion 170, Mejor fitness = 193409.90950866626)\n",
            "generacion 180, Mejor fitness = 193409.90950866626)\n",
            "generacion 190, Mejor fitness = 193409.90950866626)\n",
            "generacion 200, Mejor fitness = 193409.90950866626)\n",
            "generacion 210, Mejor fitness = 193409.90950866626)\n",
            "generacion 220, Mejor fitness = 193409.90950866626)\n",
            "generacion 230, Mejor fitness = 193409.90950866626)\n",
            "generacion 240, Mejor fitness = 193409.90950866626)\n",
            "generacion 250, Mejor fitness = 193409.90950866626)\n",
            "generacion 260, Mejor fitness = 193409.90950866626)\n",
            "generacion 270, Mejor fitness = 193409.90950866626)\n",
            "generacion 280, Mejor fitness = 193409.90950866626)\n",
            "generacion 290, Mejor fitness = 193409.90950866626)\n",
            "generacion 300, Mejor fitness = 193409.90950866626)\n",
            "generacion 310, Mejor fitness = 193409.90950866626)\n",
            "generacion 320, Mejor fitness = 193409.90950866626)\n",
            "generacion 330, Mejor fitness = 193409.90950866626)\n",
            "generacion 340, Mejor fitness = 193409.90950866626)\n",
            "generacion 350, Mejor fitness = 193409.90950866626)\n",
            "generacion 360, Mejor fitness = 193409.90950866626)\n",
            "generacion 370, Mejor fitness = 193409.90950866626)\n",
            "generacion 380, Mejor fitness = 193409.90950866626)\n",
            "generacion 390, Mejor fitness = 193409.90950866626)\n",
            "generacion 400, Mejor fitness = 193409.90950866626)\n",
            "generacion 410, Mejor fitness = 193409.90950866626)\n",
            "generacion 420, Mejor fitness = 193409.90950866626)\n",
            "generacion 430, Mejor fitness = 193409.90950866626)\n",
            "generacion 440, Mejor fitness = 193409.90950866626)\n",
            "generacion 450, Mejor fitness = 193409.90950866626)\n",
            "generacion 460, Mejor fitness = 193409.90950866626)\n",
            "generacion 470, Mejor fitness = 193409.90950866626)\n",
            "generacion 480, Mejor fitness = 193409.90950866626)\n",
            "generacion 490, Mejor fitness = 193409.90950866626)\n",
            "Mejor individuo en la ultima generacion = [1, 1, 1, 0, 0, 0, 0, 0, 0, 0, 0, 0, 0, 0, 0, 0, 0, 0, 0, 0, 0, 0, 0, 0, 0, 0, 0, 0, 0, 0, 0, 0, 0, 0, 0, 0, 0, 0, 0, 0, 0, 0, 0, 0, 0, 0, 0, 0, 1, 1, 1, 0, 0, 0, 0, 1, 1, 0, 1, 1] (fitness = 193409.90950866626)\n",
            "Poblacion inicial, best_fitness = 173541.51623367672\n",
            "generacion 0, Mejor fitness = 173541.51623367672)\n",
            "generacion 10, Mejor fitness = 190264.9129455674)\n",
            "generacion 20, Mejor fitness = 193409.90950866626)\n",
            "generacion 30, Mejor fitness = 193409.90950866626)\n",
            "generacion 40, Mejor fitness = 193409.90950866626)\n",
            "generacion 50, Mejor fitness = 193409.90950866626)\n",
            "generacion 60, Mejor fitness = 193409.90950866626)\n",
            "generacion 70, Mejor fitness = 193409.90950866626)\n",
            "generacion 80, Mejor fitness = 193409.90950866626)\n",
            "generacion 90, Mejor fitness = 193409.90950866626)\n",
            "generacion 100, Mejor fitness = 193409.90950866626)\n",
            "generacion 110, Mejor fitness = 193409.90950866626)\n",
            "generacion 120, Mejor fitness = 193409.90950866626)\n",
            "generacion 130, Mejor fitness = 193409.90950866626)\n",
            "generacion 140, Mejor fitness = 193409.90950866626)\n",
            "generacion 150, Mejor fitness = 193409.90950866626)\n",
            "generacion 160, Mejor fitness = 193409.90950866626)\n",
            "generacion 170, Mejor fitness = 193409.90950866626)\n",
            "generacion 180, Mejor fitness = 193409.90950866626)\n",
            "generacion 190, Mejor fitness = 193409.90950866626)\n",
            "generacion 200, Mejor fitness = 193409.90950866626)\n",
            "generacion 210, Mejor fitness = 193409.90950866626)\n",
            "generacion 220, Mejor fitness = 193409.90950866626)\n",
            "generacion 230, Mejor fitness = 193409.90950866626)\n",
            "generacion 240, Mejor fitness = 193409.90950866626)\n",
            "generacion 250, Mejor fitness = 193409.90950866626)\n",
            "generacion 260, Mejor fitness = 193409.90950866626)\n",
            "generacion 270, Mejor fitness = 193409.90950866626)\n",
            "generacion 280, Mejor fitness = 193409.90950866626)\n",
            "generacion 290, Mejor fitness = 193409.90950866626)\n",
            "generacion 300, Mejor fitness = 193409.90950866626)\n",
            "generacion 310, Mejor fitness = 193409.90950866626)\n",
            "generacion 320, Mejor fitness = 193409.90950866626)\n",
            "generacion 330, Mejor fitness = 193409.90950866626)\n",
            "generacion 340, Mejor fitness = 193409.90950866626)\n",
            "generacion 350, Mejor fitness = 193409.90950866626)\n",
            "generacion 360, Mejor fitness = 193409.90950866626)\n",
            "generacion 370, Mejor fitness = 193409.90950866626)\n",
            "generacion 380, Mejor fitness = 193409.90950866626)\n",
            "generacion 390, Mejor fitness = 193409.90950866626)\n",
            "generacion 400, Mejor fitness = 193409.90950866626)\n",
            "generacion 410, Mejor fitness = 193409.90950866626)\n",
            "generacion 420, Mejor fitness = 193409.90950866626)\n",
            "generacion 430, Mejor fitness = 193409.90950866626)\n",
            "generacion 440, Mejor fitness = 193409.90950866626)\n",
            "generacion 450, Mejor fitness = 193409.90950866626)\n",
            "generacion 460, Mejor fitness = 193409.90950866626)\n",
            "generacion 470, Mejor fitness = 193409.90950866626)\n",
            "generacion 480, Mejor fitness = 193409.90950866626)\n",
            "generacion 490, Mejor fitness = 193409.90950866626)\n",
            "Mejor individuo en la ultima generacion = [1, 1, 1, 0, 0, 0, 0, 0, 0, 0, 0, 0, 0, 0, 0, 0, 0, 0, 0, 0, 0, 0, 0, 0, 0, 0, 0, 0, 0, 0, 0, 0, 0, 0, 0, 0, 0, 0, 0, 0, 0, 0, 0, 0, 0, 0, 0, 0, 1, 1, 1, 0, 0, 0, 0, 1, 1, 0, 1, 1] (fitness = 193409.90950866626)\n",
            "Poblacion inicial, best_fitness = 181769.04320874065\n",
            "generacion 0, Mejor fitness = 181769.04320874065)\n",
            "generacion 10, Mejor fitness = 192715.92030395998)\n",
            "generacion 20, Mejor fitness = 193353.41645631232)\n",
            "generacion 30, Mejor fitness = 193409.90950866626)\n",
            "generacion 40, Mejor fitness = 193409.90950866626)\n",
            "generacion 50, Mejor fitness = 193409.90950866626)\n",
            "generacion 60, Mejor fitness = 193409.90950866626)\n",
            "generacion 70, Mejor fitness = 193409.90950866626)\n",
            "generacion 80, Mejor fitness = 193409.90950866626)\n",
            "generacion 90, Mejor fitness = 193409.90950866626)\n",
            "generacion 100, Mejor fitness = 193409.90950866626)\n",
            "generacion 110, Mejor fitness = 193409.90950866626)\n",
            "generacion 120, Mejor fitness = 193409.90950866626)\n",
            "generacion 130, Mejor fitness = 193409.90950866626)\n",
            "generacion 140, Mejor fitness = 193409.90950866626)\n",
            "generacion 150, Mejor fitness = 193409.90950866626)\n",
            "generacion 160, Mejor fitness = 193409.90950866626)\n",
            "generacion 170, Mejor fitness = 193409.90950866626)\n",
            "generacion 180, Mejor fitness = 193409.90950866626)\n",
            "generacion 190, Mejor fitness = 193409.90950866626)\n",
            "generacion 200, Mejor fitness = 193409.90950866626)\n",
            "generacion 210, Mejor fitness = 193409.90950866626)\n",
            "generacion 220, Mejor fitness = 193409.90950866626)\n",
            "generacion 230, Mejor fitness = 193409.90950866626)\n",
            "generacion 240, Mejor fitness = 193409.90950866626)\n",
            "generacion 250, Mejor fitness = 193409.90950866626)\n",
            "generacion 260, Mejor fitness = 193409.90950866626)\n",
            "generacion 270, Mejor fitness = 193409.90950866626)\n",
            "generacion 280, Mejor fitness = 193409.90950866626)\n",
            "generacion 290, Mejor fitness = 193409.90950866626)\n",
            "generacion 300, Mejor fitness = 193409.90950866626)\n",
            "generacion 310, Mejor fitness = 193409.90950866626)\n",
            "generacion 320, Mejor fitness = 193409.90950866626)\n",
            "generacion 330, Mejor fitness = 193409.90950866626)\n",
            "generacion 340, Mejor fitness = 193409.90950866626)\n",
            "generacion 350, Mejor fitness = 193409.90950866626)\n",
            "generacion 360, Mejor fitness = 193409.90950866626)\n",
            "generacion 370, Mejor fitness = 193409.90950866626)\n",
            "generacion 380, Mejor fitness = 193409.90950866626)\n",
            "generacion 390, Mejor fitness = 193409.90950866626)\n",
            "generacion 400, Mejor fitness = 193409.90950866626)\n",
            "generacion 410, Mejor fitness = 193409.90950866626)\n",
            "generacion 420, Mejor fitness = 193409.90950866626)\n",
            "generacion 430, Mejor fitness = 193409.90950866626)\n",
            "generacion 440, Mejor fitness = 193409.90950866626)\n",
            "generacion 450, Mejor fitness = 193409.90950866626)\n",
            "generacion 460, Mejor fitness = 193409.90950866626)\n",
            "generacion 470, Mejor fitness = 193409.90950866626)\n",
            "generacion 480, Mejor fitness = 193409.90950866626)\n",
            "generacion 490, Mejor fitness = 193409.90950866626)\n",
            "Mejor individuo en la ultima generacion = [1, 1, 1, 0, 0, 0, 0, 0, 0, 0, 0, 0, 0, 0, 0, 0, 0, 0, 0, 0, 0, 0, 0, 0, 0, 0, 0, 0, 0, 0, 0, 0, 0, 0, 0, 0, 0, 0, 0, 0, 0, 0, 0, 0, 0, 0, 0, 0, 1, 1, 1, 0, 0, 0, 0, 1, 1, 0, 1, 1] (fitness = 193409.90950866626)\n",
            "Poblacion inicial, best_fitness = 182707.4489216271\n",
            "generacion 0, Mejor fitness = 182707.4489216271)\n",
            "generacion 10, Mejor fitness = 190360.08810289306)\n",
            "generacion 20, Mejor fitness = 193409.90950866626)\n",
            "generacion 30, Mejor fitness = 193409.90950866626)\n",
            "generacion 40, Mejor fitness = 193409.90950866626)\n",
            "generacion 50, Mejor fitness = 193409.90950866626)\n",
            "generacion 60, Mejor fitness = 193409.90950866626)\n",
            "generacion 70, Mejor fitness = 193409.90950866626)\n",
            "generacion 80, Mejor fitness = 193409.90950866626)\n",
            "generacion 90, Mejor fitness = 193409.90950866626)\n",
            "generacion 100, Mejor fitness = 193409.90950866626)\n",
            "generacion 110, Mejor fitness = 193409.90950866626)\n",
            "generacion 120, Mejor fitness = 193409.90950866626)\n",
            "generacion 130, Mejor fitness = 193409.90950866626)\n",
            "generacion 140, Mejor fitness = 193409.90950866626)\n",
            "generacion 150, Mejor fitness = 193409.90950866626)\n",
            "generacion 160, Mejor fitness = 193409.90950866626)\n",
            "generacion 170, Mejor fitness = 193409.90950866626)\n",
            "generacion 180, Mejor fitness = 193409.90950866626)\n",
            "generacion 190, Mejor fitness = 193409.90950866626)\n",
            "generacion 200, Mejor fitness = 193409.90950866626)\n",
            "generacion 210, Mejor fitness = 193409.90950866626)\n",
            "generacion 220, Mejor fitness = 193409.90950866626)\n",
            "generacion 230, Mejor fitness = 193409.90950866626)\n",
            "generacion 240, Mejor fitness = 193409.90950866626)\n",
            "generacion 250, Mejor fitness = 193409.90950866626)\n",
            "generacion 260, Mejor fitness = 193409.90950866626)\n",
            "generacion 270, Mejor fitness = 193409.90950866626)\n",
            "generacion 280, Mejor fitness = 193409.90950866626)\n",
            "generacion 290, Mejor fitness = 193409.90950866626)\n",
            "generacion 300, Mejor fitness = 193409.90950866626)\n",
            "generacion 310, Mejor fitness = 193409.90950866626)\n",
            "generacion 320, Mejor fitness = 193409.90950866626)\n",
            "generacion 330, Mejor fitness = 193409.90950866626)\n",
            "generacion 340, Mejor fitness = 193409.90950866626)\n",
            "generacion 350, Mejor fitness = 193409.90950866626)\n",
            "generacion 360, Mejor fitness = 193409.90950866626)\n",
            "generacion 370, Mejor fitness = 193409.90950866626)\n",
            "generacion 380, Mejor fitness = 193409.90950866626)\n",
            "generacion 390, Mejor fitness = 193409.90950866626)\n",
            "generacion 400, Mejor fitness = 193409.90950866626)\n",
            "generacion 410, Mejor fitness = 193409.90950866626)\n",
            "generacion 420, Mejor fitness = 193409.90950866626)\n",
            "generacion 430, Mejor fitness = 193409.90950866626)\n",
            "generacion 440, Mejor fitness = 193409.90950866626)\n",
            "generacion 450, Mejor fitness = 193409.90950866626)\n",
            "generacion 460, Mejor fitness = 193409.90950866626)\n",
            "generacion 470, Mejor fitness = 193409.90950866626)\n",
            "generacion 480, Mejor fitness = 193409.90950866626)\n",
            "generacion 490, Mejor fitness = 193409.90950866626)\n",
            "Mejor individuo en la ultima generacion = [1, 1, 1, 0, 0, 0, 0, 0, 0, 0, 0, 0, 0, 0, 0, 0, 0, 0, 0, 0, 0, 0, 0, 0, 0, 0, 0, 0, 0, 0, 0, 0, 0, 0, 0, 0, 0, 0, 0, 0, 0, 0, 0, 0, 0, 0, 0, 0, 1, 1, 1, 0, 0, 0, 0, 1, 1, 0, 1, 1] (fitness = 193409.90950866626)\n",
            "Poblacion inicial, best_fitness = 173117.15582321427\n",
            "generacion 0, Mejor fitness = 178817.16611571907)\n",
            "generacion 10, Mejor fitness = 188756.31289291222)\n",
            "generacion 20, Mejor fitness = 192905.7630845095)\n",
            "generacion 30, Mejor fitness = 193409.90950866626)\n",
            "generacion 40, Mejor fitness = 193409.90950866626)\n",
            "generacion 50, Mejor fitness = 193409.90950866626)\n",
            "generacion 60, Mejor fitness = 193409.90950866626)\n",
            "generacion 70, Mejor fitness = 193409.90950866626)\n",
            "generacion 80, Mejor fitness = 193409.90950866626)\n",
            "generacion 90, Mejor fitness = 193409.90950866626)\n",
            "generacion 100, Mejor fitness = 193409.90950866626)\n",
            "generacion 110, Mejor fitness = 193409.90950866626)\n",
            "generacion 120, Mejor fitness = 193409.90950866626)\n",
            "generacion 130, Mejor fitness = 193409.90950866626)\n",
            "generacion 140, Mejor fitness = 193409.90950866626)\n",
            "generacion 150, Mejor fitness = 193409.90950866626)\n",
            "generacion 160, Mejor fitness = 193409.90950866626)\n",
            "generacion 170, Mejor fitness = 193409.90950866626)\n",
            "generacion 180, Mejor fitness = 193409.90950866626)\n",
            "generacion 190, Mejor fitness = 193409.90950866626)\n",
            "generacion 200, Mejor fitness = 193409.90950866626)\n",
            "generacion 210, Mejor fitness = 193409.90950866626)\n",
            "generacion 220, Mejor fitness = 193409.90950866626)\n",
            "generacion 230, Mejor fitness = 193409.90950866626)\n",
            "generacion 240, Mejor fitness = 193409.90950866626)\n",
            "generacion 250, Mejor fitness = 193409.90950866626)\n",
            "generacion 260, Mejor fitness = 193409.90950866626)\n",
            "generacion 270, Mejor fitness = 193409.90950866626)\n",
            "generacion 280, Mejor fitness = 193409.90950866626)\n",
            "generacion 290, Mejor fitness = 193409.90950866626)\n",
            "generacion 300, Mejor fitness = 193409.90950866626)\n",
            "generacion 310, Mejor fitness = 193409.90950866626)\n",
            "generacion 320, Mejor fitness = 193409.90950866626)\n",
            "generacion 330, Mejor fitness = 193409.90950866626)\n",
            "generacion 340, Mejor fitness = 193409.90950866626)\n",
            "generacion 350, Mejor fitness = 193409.90950866626)\n",
            "generacion 360, Mejor fitness = 193409.90950866626)\n",
            "generacion 370, Mejor fitness = 193409.90950866626)\n",
            "generacion 380, Mejor fitness = 193409.90950866626)\n",
            "generacion 390, Mejor fitness = 193409.90950866626)\n",
            "generacion 400, Mejor fitness = 193409.90950866626)\n",
            "generacion 410, Mejor fitness = 193409.90950866626)\n",
            "generacion 420, Mejor fitness = 193409.90950866626)\n",
            "generacion 430, Mejor fitness = 193409.90950866626)\n",
            "generacion 440, Mejor fitness = 193409.90950866626)\n",
            "generacion 450, Mejor fitness = 193409.90950866626)\n",
            "generacion 460, Mejor fitness = 193409.90950866626)\n",
            "generacion 470, Mejor fitness = 193409.90950866626)\n",
            "generacion 480, Mejor fitness = 193409.90950866626)\n",
            "generacion 490, Mejor fitness = 193409.90950866626)\n",
            "Mejor individuo en la ultima generacion = [1, 1, 1, 0, 0, 0, 0, 0, 0, 0, 0, 0, 0, 0, 0, 0, 0, 0, 0, 0, 0, 0, 0, 0, 0, 0, 0, 0, 0, 0, 0, 0, 0, 0, 0, 0, 0, 0, 0, 0, 0, 0, 0, 0, 0, 0, 0, 0, 1, 1, 1, 0, 0, 0, 0, 1, 1, 0, 1, 1] (fitness = 193409.90950866626)\n",
            "Poblacion inicial, best_fitness = 182209.40085964574\n",
            "generacion 0, Mejor fitness = 182209.40085964574)\n",
            "generacion 10, Mejor fitness = 191996.05215211483)\n",
            "generacion 20, Mejor fitness = 193353.41645631232)\n",
            "generacion 30, Mejor fitness = 193409.90950866626)\n",
            "generacion 40, Mejor fitness = 193409.90950866626)\n",
            "generacion 50, Mejor fitness = 193409.90950866626)\n",
            "generacion 60, Mejor fitness = 193409.90950866626)\n",
            "generacion 70, Mejor fitness = 193409.90950866626)\n",
            "generacion 80, Mejor fitness = 193409.90950866626)\n",
            "generacion 90, Mejor fitness = 193409.90950866626)\n",
            "generacion 100, Mejor fitness = 193409.90950866626)\n",
            "generacion 110, Mejor fitness = 193409.90950866626)\n",
            "generacion 120, Mejor fitness = 193409.90950866626)\n",
            "generacion 130, Mejor fitness = 193409.90950866626)\n",
            "generacion 140, Mejor fitness = 193409.90950866626)\n",
            "generacion 150, Mejor fitness = 193409.90950866626)\n",
            "generacion 160, Mejor fitness = 193409.90950866626)\n",
            "generacion 170, Mejor fitness = 193409.90950866626)\n",
            "generacion 180, Mejor fitness = 193409.90950866626)\n",
            "generacion 190, Mejor fitness = 193409.90950866626)\n",
            "generacion 200, Mejor fitness = 193409.90950866626)\n",
            "generacion 210, Mejor fitness = 193409.90950866626)\n",
            "generacion 220, Mejor fitness = 193409.90950866626)\n",
            "generacion 230, Mejor fitness = 193409.90950866626)\n",
            "generacion 240, Mejor fitness = 193409.90950866626)\n",
            "generacion 250, Mejor fitness = 193409.90950866626)\n",
            "generacion 260, Mejor fitness = 193409.90950866626)\n",
            "generacion 270, Mejor fitness = 193409.90950866626)\n",
            "generacion 280, Mejor fitness = 193409.90950866626)\n",
            "generacion 290, Mejor fitness = 193409.90950866626)\n",
            "generacion 300, Mejor fitness = 193409.90950866626)\n",
            "generacion 310, Mejor fitness = 193409.90950866626)\n",
            "generacion 320, Mejor fitness = 193409.90950866626)\n",
            "generacion 330, Mejor fitness = 193409.90950866626)\n",
            "generacion 340, Mejor fitness = 193409.90950866626)\n",
            "generacion 350, Mejor fitness = 193409.90950866626)\n",
            "generacion 360, Mejor fitness = 193409.90950866626)\n",
            "generacion 370, Mejor fitness = 193409.90950866626)\n",
            "generacion 380, Mejor fitness = 193409.90950866626)\n",
            "generacion 390, Mejor fitness = 193409.90950866626)\n",
            "generacion 400, Mejor fitness = 193409.90950866626)\n",
            "generacion 410, Mejor fitness = 193409.90950866626)\n",
            "generacion 420, Mejor fitness = 193409.90950866626)\n",
            "generacion 430, Mejor fitness = 193409.90950866626)\n",
            "generacion 440, Mejor fitness = 193409.90950866626)\n",
            "generacion 450, Mejor fitness = 193409.90950866626)\n",
            "generacion 460, Mejor fitness = 193409.90950866626)\n",
            "generacion 470, Mejor fitness = 193409.90950866626)\n",
            "generacion 480, Mejor fitness = 193409.90950866626)\n",
            "generacion 490, Mejor fitness = 193409.90950866626)\n",
            "Mejor individuo en la ultima generacion = [1, 1, 1, 0, 0, 0, 0, 0, 0, 0, 0, 0, 0, 0, 0, 0, 0, 0, 0, 0, 0, 0, 0, 0, 0, 0, 0, 0, 0, 0, 0, 0, 0, 0, 0, 0, 0, 0, 0, 0, 0, 0, 0, 0, 0, 0, 0, 0, 1, 1, 1, 0, 0, 0, 0, 1, 1, 0, 1, 1] (fitness = 193409.90950866626)\n"
          ],
          "name": "stdout"
        }
      ]
    },
    {
      "cell_type": "code",
      "metadata": {
        "id": "-vYMN6hza3FX",
        "colab_type": "code",
        "outputId": "8342f057-98a9-4b17-874d-ae922590a916",
        "colab": {
          "base_uri": "https://localhost:8080/",
          "height": 359
        }
      },
      "source": [
        "resultados_mono_obj=pd.DataFrame({'individuos':individuos,'fitness':fitness,'suma_distancia':sum_distancia,'suma_poblacion':sum_poblacion})\n",
        "resultados_mono_obj"
      ],
      "execution_count": 30,
      "outputs": [
        {
          "output_type": "execute_result",
          "data": {
            "text/html": [
              "<div>\n",
              "<style scoped>\n",
              "    .dataframe tbody tr th:only-of-type {\n",
              "        vertical-align: middle;\n",
              "    }\n",
              "\n",
              "    .dataframe tbody tr th {\n",
              "        vertical-align: top;\n",
              "    }\n",
              "\n",
              "    .dataframe thead th {\n",
              "        text-align: right;\n",
              "    }\n",
              "</style>\n",
              "<table border=\"1\" class=\"dataframe\">\n",
              "  <thead>\n",
              "    <tr style=\"text-align: right;\">\n",
              "      <th></th>\n",
              "      <th>individuos</th>\n",
              "      <th>fitness</th>\n",
              "      <th>suma_distancia</th>\n",
              "      <th>suma_poblacion</th>\n",
              "    </tr>\n",
              "  </thead>\n",
              "  <tbody>\n",
              "    <tr>\n",
              "      <th>0</th>\n",
              "      <td>&lt;__main__.Individual object at 0x7fa281111b70&gt;</td>\n",
              "      <td>193409.909509</td>\n",
              "      <td>10309.909509</td>\n",
              "      <td>183100</td>\n",
              "    </tr>\n",
              "    <tr>\n",
              "      <th>1</th>\n",
              "      <td>&lt;__main__.Individual object at 0x7fa28109c7f0&gt;</td>\n",
              "      <td>193409.909509</td>\n",
              "      <td>10309.909509</td>\n",
              "      <td>183100</td>\n",
              "    </tr>\n",
              "    <tr>\n",
              "      <th>2</th>\n",
              "      <td>&lt;__main__.Individual object at 0x7fa2814d8940&gt;</td>\n",
              "      <td>193409.909509</td>\n",
              "      <td>10309.909509</td>\n",
              "      <td>183100</td>\n",
              "    </tr>\n",
              "    <tr>\n",
              "      <th>3</th>\n",
              "      <td>&lt;__main__.Individual object at 0x7fa28109c128&gt;</td>\n",
              "      <td>193409.909509</td>\n",
              "      <td>10309.909509</td>\n",
              "      <td>183100</td>\n",
              "    </tr>\n",
              "    <tr>\n",
              "      <th>4</th>\n",
              "      <td>&lt;__main__.Individual object at 0x7fa281079f98&gt;</td>\n",
              "      <td>193409.909509</td>\n",
              "      <td>10309.909509</td>\n",
              "      <td>183100</td>\n",
              "    </tr>\n",
              "    <tr>\n",
              "      <th>5</th>\n",
              "      <td>&lt;__main__.Individual object at 0x7fa28104c438&gt;</td>\n",
              "      <td>193409.909509</td>\n",
              "      <td>10309.909509</td>\n",
              "      <td>183100</td>\n",
              "    </tr>\n",
              "    <tr>\n",
              "      <th>6</th>\n",
              "      <td>&lt;__main__.Individual object at 0x7fa27dd271d0&gt;</td>\n",
              "      <td>193409.909509</td>\n",
              "      <td>10309.909509</td>\n",
              "      <td>183100</td>\n",
              "    </tr>\n",
              "    <tr>\n",
              "      <th>7</th>\n",
              "      <td>&lt;__main__.Individual object at 0x7fa280bc6b38&gt;</td>\n",
              "      <td>193409.909509</td>\n",
              "      <td>10309.909509</td>\n",
              "      <td>183100</td>\n",
              "    </tr>\n",
              "    <tr>\n",
              "      <th>8</th>\n",
              "      <td>&lt;__main__.Individual object at 0x7fa27dd270f0&gt;</td>\n",
              "      <td>193409.909509</td>\n",
              "      <td>10309.909509</td>\n",
              "      <td>183100</td>\n",
              "    </tr>\n",
              "    <tr>\n",
              "      <th>9</th>\n",
              "      <td>&lt;__main__.Individual object at 0x7fa28104ce80&gt;</td>\n",
              "      <td>193409.909509</td>\n",
              "      <td>10309.909509</td>\n",
              "      <td>183100</td>\n",
              "    </tr>\n",
              "  </tbody>\n",
              "</table>\n",
              "</div>"
            ],
            "text/plain": [
              "                                       individuos  ...  suma_poblacion\n",
              "0  <__main__.Individual object at 0x7fa281111b70>  ...          183100\n",
              "1  <__main__.Individual object at 0x7fa28109c7f0>  ...          183100\n",
              "2  <__main__.Individual object at 0x7fa2814d8940>  ...          183100\n",
              "3  <__main__.Individual object at 0x7fa28109c128>  ...          183100\n",
              "4  <__main__.Individual object at 0x7fa281079f98>  ...          183100\n",
              "5  <__main__.Individual object at 0x7fa28104c438>  ...          183100\n",
              "6  <__main__.Individual object at 0x7fa27dd271d0>  ...          183100\n",
              "7  <__main__.Individual object at 0x7fa280bc6b38>  ...          183100\n",
              "8  <__main__.Individual object at 0x7fa27dd270f0>  ...          183100\n",
              "9  <__main__.Individual object at 0x7fa28104ce80>  ...          183100\n",
              "\n",
              "[10 rows x 4 columns]"
            ]
          },
          "metadata": {
            "tags": []
          },
          "execution_count": 30
        }
      ]
    },
    {
      "cell_type": "markdown",
      "metadata": {
        "id": "o3XPpzeMa3Fa",
        "colab_type": "text"
      },
      "source": [
        "## **2) Algoritmo multi-objetivo NSGA-II**"
      ]
    },
    {
      "cell_type": "markdown",
      "metadata": {
        "id": "zssQGLS1a3Fa",
        "colab_type": "text"
      },
      "source": [
        "**a) Función para obtener los fitness para los dos objetivos**"
      ]
    },
    {
      "cell_type": "code",
      "metadata": {
        "id": "5rjPHrcda3Fb",
        "colab_type": "code",
        "colab": {}
      },
      "source": [
        "def get_fitness_nsga(chromosome, markets):\n",
        "    fitnesses=np.zeros(2) #cantidad de objetivos a medir\n",
        "    markets_elegidos=[]\n",
        "    sum_pob=0\n",
        "    sum_dist=0\n",
        "    for i in range(len(markets)):\n",
        "        if chromosome[i] == 1:  # si el market i esta incluido en el cromosoma, acumula su poblacion y distancia\n",
        "            sum_pob += markets[i].pob\n",
        "            markets_elegidos.append(i)\n",
        "            \n",
        "    for j in markets_elegidos:\n",
        "        for k in markets_elegidos[j+1:]:\n",
        "            sum_dist=sum_dist+lista_total_distancias[(j,k)]\n",
        "    fitnesses[0]=sum_pob\n",
        "    fitnesses[1]=sum_dist\n",
        "    return fitnesses"
      ],
      "execution_count": 0,
      "outputs": []
    },
    {
      "cell_type": "markdown",
      "metadata": {
        "id": "0xAG9vD2a3Fe",
        "colab_type": "text"
      },
      "source": [
        "**b) Funcion para evaluar una población de individuos**"
      ]
    },
    {
      "cell_type": "code",
      "metadata": {
        "id": "zGe1vgOoa3Ff",
        "colab_type": "code",
        "colab": {}
      },
      "source": [
        "def evaluate_population_nsga(population, markets):\n",
        "    \"\"\" Evalua una poblacion de individuos con la funcion get_fitness \"\"\"\n",
        "    pop_size = len(population)\n",
        "    for i in range(pop_size):\n",
        "        if population[i].fitness == -1:    # evalua solo si el individuo no esta evaluado\n",
        "            population[i].fitness = get_fitness_nsga(population[i].chromosome, markets)"
      ],
      "execution_count": 0,
      "outputs": []
    },
    {
      "cell_type": "markdown",
      "metadata": {
        "id": "e0hH_37va3Fk",
        "colab_type": "text"
      },
      "source": [
        "**c) Funcion para la obtencion de la poblacion descendiente**"
      ]
    },
    {
      "cell_type": "code",
      "metadata": {
        "id": "o4h1JWaPa3Fm",
        "colab_type": "code",
        "colab": {}
      },
      "source": [
        "def build_offspring_population(population, crossover, mutation, pmut):     \n",
        "    \"\"\" Construye una poblacion hija con los operadores de cruzamiento y mutacion pasados\n",
        "        crossover:  operador de cruzamiento\n",
        "        mutation:   operador de mutacion\n",
        "        pmut:       taza de mutacion\n",
        "    \"\"\"\n",
        "    pop_size = len(population)\n",
        "    \n",
        "    ## Selecciona parejas de individuos (mating_pool) para cruzamiento con el metodo de la ruleta\n",
        "    mating_pool = []\n",
        "    for i in range(int(pop_size/2)): \n",
        "        # escoge dos individuos diferentes aleatoriamente de la poblacion\n",
        "        permut = np.random.permutation( pop_size )\n",
        "        mating_pool.append( (population[permut[0]], population[permut[1]] ) ) \n",
        "        \n",
        "    ## Crea la poblacion descendencia cruzando las parejas del mating pool \n",
        "    offspring_population = []\n",
        "    for i in range(len(mating_pool)): \n",
        "        if crossover == \"onepoint\":\n",
        "            offspring_population.extend( mating_pool[i][0].crossover_onepoint(mating_pool[i][1]) ) # cruzamiento 1 punto\n",
        "        elif crossover == \"uniform\":\n",
        "            offspring_population.extend( mating_pool[i][0].crossover_uniform(mating_pool[i][1]) ) # cruzamiento uniforme\n",
        "        else:\n",
        "            raise NotImplementedError\n",
        "\n",
        "    ## Aplica el operador de mutacion con probabilidad pmut en cada hijo generado\n",
        "    for i in range(len(offspring_population)):\n",
        "        if uniform(0, 1) < pmut: \n",
        "            if mutation == \"flip\":\n",
        "                offspring_population[i] = offspring_population[i].mutation_flip() # cambia el alelo de un gen\n",
        "            else:\n",
        "                raise NotImplementedError   \n",
        "                \n",
        "    return offspring_population\n"
      ],
      "execution_count": 0,
      "outputs": []
    },
    {
      "cell_type": "markdown",
      "metadata": {
        "id": "3r5Ardqla3Fq",
        "colab_type": "text"
      },
      "source": [
        "**d) Funcion para la obtencion de las distancias crowding**"
      ]
    },
    {
      "cell_type": "code",
      "metadata": {
        "id": "A9FI8FLpa3Fr",
        "colab_type": "code",
        "colab": {}
      },
      "source": [
        "def get_crowding_distances(fitnesses):\n",
        "    \"\"\"\n",
        "    La distancia crowding de un individuo es la diferencia del fitness mas proximo hacia arriba menos el fitness mas proximo \n",
        "    hacia abajo. El valor crowding total es la suma de todas las distancias crowdings para todos los fitness\n",
        "    \"\"\"\n",
        "    #fitnesses de la forma np.array( [ [23,23],[12,21],[2,2] ])\n",
        "    pop_size = len(fitnesses[:, 0])\n",
        "    num_objectives = len(fitnesses[0, :])\n",
        "\n",
        "    # crea matriz crowding. Filas representan individuos, columnas representan objectives\n",
        "    crowding_matrix = np.zeros((pop_size, num_objectives))\n",
        "\n",
        "    # normaliza los fitnesses entre 0 y 1 (ptp es max - min)\n",
        "    # Es importante normalizar los fitness porque pueden venir con diferentes unidades de medida\n",
        "    normalized_fitnesses = (fitnesses - fitnesses.min(0)) / fitnesses.ptp(0)\n",
        "\n",
        "    for col in range(num_objectives):   # Por cada objective\n",
        "        crowding = np.zeros(pop_size)\n",
        "\n",
        "        # puntos extremos tienen maximo crowding\n",
        "        crowding[0] = 1\n",
        "        crowding[pop_size - 1] = 1\n",
        "\n",
        "        # ordena los fitness normalizados del objectivo actual\n",
        "        sorted_fitnesses = np.sort(normalized_fitnesses[:, col])\n",
        "        sorted_fitnesses_index = np.argsort(normalized_fitnesses[:, col])\n",
        "\n",
        "        # Calcula la distancia crowding de cada individuo como la diferencia de score de los vecinos\n",
        "        crowding[1:pop_size - 1] = (sorted_fitnesses[2:pop_size] - sorted_fitnesses[0:pop_size - 2])\n",
        "\n",
        "        # obtiene el ordenamiento original\n",
        "        re_sort_order = np.argsort(sorted_fitnesses_index)\n",
        "        sorted_crowding = crowding[re_sort_order]\n",
        "\n",
        "        # Salva las distancias crowdingpara el objetivo que se esta iterando\n",
        "        crowding_matrix[:, col] = sorted_crowding\n",
        "\n",
        "    # Obtiene las distancias crowding finales sumando las distancias crowding de cada objetivo \n",
        "    crowding_distances = np.sum(crowding_matrix, axis=1)\n",
        "\n",
        "    return crowding_distances"
      ],
      "execution_count": 0,
      "outputs": []
    },
    {
      "cell_type": "markdown",
      "metadata": {
        "id": "YJS7Xnxaa3Fu",
        "colab_type": "text"
      },
      "source": [
        "**e) Funcion para la seleccion por distancia crowding**"
      ]
    },
    {
      "cell_type": "code",
      "metadata": {
        "id": "sgNZbN7ua3Fv",
        "colab_type": "code",
        "colab": {}
      },
      "source": [
        "def select_by_crowding(population, num_individuals):\n",
        "    \"\"\"\n",
        "    Selecciona una poblacion de individuos basado en torneos de pares de individuos: dos individuos se escoge al azar\n",
        "    y se selecciona el mejor segun la distancia crowding. Se repite hasta obtener num_individuals individuos\n",
        "    \"\"\"    \n",
        "    population = deepcopy(population)\n",
        "    pop_size = len(population)\n",
        "    num_objectives = len(population[0].fitness)\n",
        "    \n",
        "    # extrae los fitness de la poblacion en la matriz fitnesses\n",
        "    fitnesses = np.zeros([pop_size, num_objectives])\n",
        "    for i in range(pop_size): fitnesses[i,:] = population[i].fitness\n",
        "        \n",
        "    # obtiene las  distancias  crowding\n",
        "    crowding_distances = get_crowding_distances(fitnesses)   \n",
        "    \n",
        "    population_selected = []   # poblacion escogida\n",
        "\n",
        "    for i in range(num_individuals):  # por cada individuo a seleccionar\n",
        "\n",
        "        # escoje dos individuos aleatoriamente de la poblacion no escogida aun\n",
        "        permut = np.random.permutation( len(population) )\n",
        "        ind1_id = permut[0]\n",
        "        ind2_id = permut[1]\n",
        "\n",
        "        # Si ind1_id es el mejor\n",
        "        if crowding_distances[ind1_id] >= crowding_distances[ind2_id]:\n",
        "\n",
        "            # traslada el individuo ind1 de population a la lista de individuos seleccionados\n",
        "            population_selected.append( population.pop(ind1_id) )\n",
        "            # remueve la distancia crowding del individuo seleccionado\n",
        "            crowding_distances = np.delete(crowding_distances, ind1_id, axis=0)\n",
        "            \n",
        "        else:  # Si ind2_id es el mejor\n",
        "            \n",
        "            # traslada el individuo ind2 de population a la lista de individuos seleccionados\n",
        "            population_selected.append( population.pop(ind2_id) )\n",
        "            # remueve la distancia crowding del individuo seleccionado\n",
        "            crowding_distances = np.delete(crowding_distances, ind2_id, axis=0)\n",
        "\n",
        "    return (population_selected)"
      ],
      "execution_count": 0,
      "outputs": []
    },
    {
      "cell_type": "markdown",
      "metadata": {
        "id": "W-p3XfqTa3Fx",
        "colab_type": "text"
      },
      "source": [
        "**f) Funcion para de la frontera de pareto**"
      ]
    },
    {
      "cell_type": "code",
      "metadata": {
        "id": "vrOPHlUNa3Fy",
        "colab_type": "code",
        "colab": {}
      },
      "source": [
        "def get_paretofront_population(population):\n",
        "    \"\"\"\n",
        "    Obtiene de population la poblacion de individups de la frontera de Pareto, \n",
        "    \"\"\"\n",
        "    population = deepcopy(population)\n",
        "    pop_size = len(population)\n",
        "    \n",
        "    # todos los individuos son inicialmente asumidos como la frontera de Pareto\n",
        "    pareto_front = np.ones(pop_size, dtype=bool)\n",
        "    \n",
        "    for i in range(pop_size): # Compara cada individuo contra todos los demas\n",
        "        for j in range(pop_size):\n",
        "            # Chequea si individuo 'i' es dominado por individuo 'j'\n",
        "            if all(population[j].fitness >= population[i].fitness) and any(population[j].fitness > population[i].fitness): #NO es OR ?\n",
        "                # j domina i -> señaliza que individuo 'i' como no siendo parte de la frontera de Pareto\n",
        "                pareto_front[i] = 0\n",
        "                break   # Para la busqueda para 'i' (no es necesario hacer mas comparaciones)\n",
        "\n",
        "    paretofront_population = []\n",
        "    for i in range(pop_size):  # construye la lista de individuos de la frontera de Pareto \n",
        "        if pareto_front[i] == 1: paretofront_population.append(population[i])\n",
        "        \n",
        "    return paretofront_population"
      ],
      "execution_count": 0,
      "outputs": []
    },
    {
      "cell_type": "markdown",
      "metadata": {
        "id": "9OK3N4HGa3F0",
        "colab_type": "text"
      },
      "source": [
        "**g) Funcion para la obtencion de la siguiente poblacion**"
      ]
    },
    {
      "cell_type": "code",
      "metadata": {
        "id": "ZK4vuFJZa3F1",
        "colab_type": "code",
        "colab": {}
      },
      "source": [
        "def build_next_population(population, min_pop_size, max_pop_size):\n",
        "    \"\"\"\n",
        "    Construye la poblacion de la siguiente generacion añadiendo sucesivas fronteras de Pareto hasta \n",
        "    tener una poblacion de al menos min_pop_size individuos. Reduce la frontera de Pareto con el metodo de\n",
        "    crowding distance si al agregar la frontera excede el tamaño maximo de la poblacion (max_pop_size)\n",
        "    \"\"\"\n",
        "    population = deepcopy(population)\n",
        "    pareto_front = []\n",
        "    next_population = []\n",
        "    \n",
        "    while len(next_population) < min_pop_size:   # mientras la poblacion no tenga el tamaño minimo\n",
        "        # obtiene la poblacion frontera de Pareto actual\n",
        "        paretofront_population = get_paretofront_population(population)\n",
        "        \n",
        "        # si poblacion actual + paretofront excede el maximo permitido -> reduce paretofront con el metodo de crowding\n",
        "        combined_population_size = len(next_population) + len(paretofront_population)\n",
        "        if  combined_population_size > max_pop_size:\n",
        "            paretofront_population = select_by_crowding( paretofront_population, max_pop_size-len(next_population) ) \n",
        "        \n",
        "        # Adiciona la frontera de Pareto (original o reducida) a la poblacion en construccion\n",
        "        next_population.extend( paretofront_population )\n",
        "    \n",
        "        # remueve de population los individuos que fueron agregados a next_population \n",
        "        for i in range( len(paretofront_population) ):\n",
        "            for j in range( len(population) ):\n",
        "                if all( np.asarray(paretofront_population[i].chromosome) == np.asarray(population[j].chromosome) ):\n",
        "                    del(population[j])\n",
        "                    break\n",
        "                    \n",
        "    return next_population"
      ],
      "execution_count": 0,
      "outputs": []
    },
    {
      "cell_type": "markdown",
      "metadata": {
        "id": "d8zBp1iKa3F2",
        "colab_type": "text"
      },
      "source": [
        "**h) Ejecucion del algoritmo**"
      ]
    },
    {
      "cell_type": "code",
      "metadata": {
        "collapsed": true,
        "jupyter": {
          "outputs_hidden": true
        },
        "id": "3RXr_iSta3F3",
        "colab_type": "code",
        "outputId": "6579dba2-3d61-4f5c-bb74-2108cc0885b8",
        "colab": {
          "base_uri": "https://localhost:8080/",
          "height": 867
        }
      },
      "source": [
        "## Hiperparametros del algoritmo genetico\n",
        "POP_SIZE = 50       # numero de individuos\n",
        "GENERATIONS = 500   # numero de generaciones\n",
        "PMUT = 1        # taza de mutacion\n",
        "MIN_POP_SIZE = 100    # numero de individuos minimo\n",
        "MAX_POP_SIZE = 100    # numero de individuos maximo\n",
        "\n",
        "## Inicializa una poblacion inicial de forma aleatoria\n",
        "P = init_population(POP_SIZE,maxMark=10)\n",
        "\n",
        "evaluate_population_nsga(P,marketPool)    #  evalua la poblacion inicial\n",
        "## Ejecuta los ciclos evolutivos \n",
        "for g in range(GENERATIONS):   # Por cada generacion\n",
        "    \n",
        "    if g %10 == 0:\n",
        "        print ('Generacion {} (de {}) '.format(g, GENERATIONS))\n",
        "    \n",
        "    ## genera y evalua la poblacion hija    \n",
        "    Q = build_offspring_population(P, \"uniform\", \"flip\", PMUT)\n",
        "    evaluate_population_nsga(Q, marketPool)\n",
        "    \n",
        "    ## une la poblacion padre y la poblacion hija\n",
        "    P.extend(Q) \n",
        "    \n",
        "    ## Construye la poblacion de la siguiente generacion\n",
        "    P = build_next_population(P, MIN_POP_SIZE, MAX_POP_SIZE)\n",
        "\n",
        "# Obtiene la poblacion de la frontera de pareto final \n",
        "pareto_front_population = get_paretofront_population(P)"
      ],
      "execution_count": 38,
      "outputs": [
        {
          "output_type": "stream",
          "text": [
            "Generacion 0 (de 500) \n",
            "Generacion 10 (de 500) \n",
            "Generacion 20 (de 500) \n",
            "Generacion 30 (de 500) \n",
            "Generacion 40 (de 500) \n",
            "Generacion 50 (de 500) \n",
            "Generacion 60 (de 500) \n",
            "Generacion 70 (de 500) \n",
            "Generacion 80 (de 500) \n",
            "Generacion 90 (de 500) \n",
            "Generacion 100 (de 500) \n",
            "Generacion 110 (de 500) \n",
            "Generacion 120 (de 500) \n",
            "Generacion 130 (de 500) \n",
            "Generacion 140 (de 500) \n",
            "Generacion 150 (de 500) \n",
            "Generacion 160 (de 500) \n",
            "Generacion 170 (de 500) \n",
            "Generacion 180 (de 500) \n",
            "Generacion 190 (de 500) \n",
            "Generacion 200 (de 500) \n",
            "Generacion 210 (de 500) \n",
            "Generacion 220 (de 500) \n",
            "Generacion 230 (de 500) \n",
            "Generacion 240 (de 500) \n",
            "Generacion 250 (de 500) \n",
            "Generacion 260 (de 500) \n",
            "Generacion 270 (de 500) \n",
            "Generacion 280 (de 500) \n",
            "Generacion 290 (de 500) \n",
            "Generacion 300 (de 500) \n",
            "Generacion 310 (de 500) \n",
            "Generacion 320 (de 500) \n",
            "Generacion 330 (de 500) \n",
            "Generacion 340 (de 500) \n",
            "Generacion 350 (de 500) \n",
            "Generacion 360 (de 500) \n",
            "Generacion 370 (de 500) \n",
            "Generacion 380 (de 500) \n",
            "Generacion 390 (de 500) \n",
            "Generacion 400 (de 500) \n",
            "Generacion 410 (de 500) \n",
            "Generacion 420 (de 500) \n",
            "Generacion 430 (de 500) \n",
            "Generacion 440 (de 500) \n",
            "Generacion 450 (de 500) \n",
            "Generacion 460 (de 500) \n",
            "Generacion 470 (de 500) \n",
            "Generacion 480 (de 500) \n",
            "Generacion 490 (de 500) \n"
          ],
          "name": "stdout"
        }
      ]
    },
    {
      "cell_type": "markdown",
      "metadata": {
        "id": "ippHlyJGa3F5",
        "colab_type": "text"
      },
      "source": [
        "**i) Visualizacion de la frontera de pareto**"
      ]
    },
    {
      "cell_type": "code",
      "metadata": {
        "id": "GkImmB6Va3F5",
        "colab_type": "code",
        "outputId": "698e016a-ff7e-4cb3-e191-dc9949895952",
        "colab": {
          "base_uri": "https://localhost:8080/",
          "height": 279
        }
      },
      "source": [
        "## Plotea los individuos de la frontera de Pareto final\n",
        "CHROMOSOME_SIZE = 60 \n",
        "pop_size = len(pareto_front_population)\n",
        "num_objectives = len(pareto_front_population[0].fitness)\n",
        "    \n",
        "# extrae los fitness de la poblacion en la matriz fitnesses\n",
        "fitnesses = np.zeros([pop_size, num_objectives])\n",
        "for i in range(pop_size): fitnesses[i,:] = pareto_front_population[i].fitness\n",
        "\n",
        "x = fitnesses[:, 0]/CHROMOSOME_SIZE*100\n",
        "y = fitnesses[:, 1]/CHROMOSOME_SIZE*100\n",
        "plt.xlabel('Objectivo Poblacion - % maximo obtenible') #Primer objetivo: Maximizar el valor de la mochila\n",
        "plt.ylabel('Objectivo Distancia - % maximo obtenible') #Segundo objetivo: Minimizar el peso de la mochila\n",
        "plt.scatter(x,y)\n",
        "#plt.savefig('pareto.png')\n",
        "plt.show()\n"
      ],
      "execution_count": 43,
      "outputs": [
        {
          "output_type": "display_data",
          "data": {
            "image/png": "[encoded data removed]",
            "text/plain": [
              "<Figure size 432x288 with 1 Axes>"
            ]
          },
          "metadata": {
            "tags": []
          }
        }
      ]
    },
    {
      "cell_type": "markdown",
      "metadata": {
        "id": "-oSV9h-Ma3F7",
        "colab_type": "text"
      },
      "source": [
        "**Verificacion si la solucion que nos otorgó el mono objetivo es parte de las soluciones obtenidas por NSGA-II**"
      ]
    },
    {
      "cell_type": "code",
      "metadata": {
        "id": "q4WKGQ_4a3F8",
        "colab_type": "code",
        "outputId": "20c29f3c-6686-412b-8361-b030ffd46b4b",
        "colab": {
          "base_uri": "https://localhost:8080/",
          "height": 34
        }
      },
      "source": [
        "cromosomas=[indi.chromosome for indi in pareto_front_population]\n",
        "valor=True if best_ind.chromosome in cromosomas else False\n",
        "valor"
      ],
      "execution_count": 45,
      "outputs": [
        {
          "output_type": "execute_result",
          "data": {
            "text/plain": [
              "False"
            ]
          },
          "metadata": {
            "tags": []
          },
          "execution_count": 45
        }
      ]
    },
    {
      "cell_type": "markdown",
      "metadata": {
        "id": "5KPeJu3uo16R",
        "colab_type": "text"
      },
      "source": [
        "Vemos que la primera solución de pareto optimiza a los lugares que poseen una mayor distancia entre ellos, esto se observa en el gráfico"
      ]
    },
    {
      "cell_type": "code",
      "metadata": {
        "id": "Kl4gRQlano5R",
        "colab_type": "code",
        "colab": {
          "base_uri": "https://localhost:8080/",
          "height": 1000
        },
        "outputId": "6950de12-5907-4c60-adfa-09b68b3e39fa"
      },
      "source": [
        "m = folium.Map(\n",
        "    location=[-12.0431805, -77.0282364], zoom_start=13, zoomControl= False, min_zoom=13, max_zoom=13)\n",
        "\n",
        "[(folium.Marker([marketPool[i].lat, marketPool[i].lon], icon=folium.Icon(color='red')).add_to(m)) for i in range(len(pareto_front_population[0].chromosome)) if pareto_front_population[0].chromosome[i]==0]\n",
        "[(folium.Marker([marketPool[i].lat, marketPool[i].lon], icon=folium.Icon(color='blue')).add_to(m)) for i in range(len(pareto_front_population[0].chromosome)) if pareto_front_population[0].chromosome[i]==1]\n",
        "points = [(marketPool[i].lat, marketPool[i].lon) for i in range(len(pareto_front_population[0].chromosome)) if pareto_front_population[0].chromosome[i]==1]\n",
        "points.append(points[0])\n",
        "folium.PolyLine(points, color=\"red\", weight=2.5, opacity=1).add_to(m)\n",
        "\n",
        "m"
      ],
      "execution_count": 66,
      "outputs": [
        {
          "output_type": "execute_result",
          "data": {
            "text/html": [
              "<div style=\"width:100%;\"><div style=\"position:relative;width:100%;height:0;padding-bottom:60%;\"><iframe src=\"data:text/html;charset=utf-8;base64,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\" style=\"position:absolute;width:100%;height:100%;left:0;top:0;border:none !important;\" allowfullscreen webkitallowfullscreen mozallowfullscreen></iframe></div></div>"
            ],
            "text/plain": [
              "<folium.folium.Map at 0x7fa281105940>"
            ]
          },
          "metadata": {
            "tags": []
          },
          "execution_count": 66
        }
      ]
    },
    {
      "cell_type": "code",
      "metadata": {
        "id": "fjEnWtlVtWo8",
        "colab_type": "code",
        "colab": {
          "base_uri": "https://localhost:8080/",
          "height": 34
        },
        "outputId": "ce9d6a7d-6c84-4718-a0ff-844e6fb6fa14"
      },
      "source": [
        "print(\"Esta solución tiene como cantidad de población {} y un maximo de distancia de entre locales de {}\".format(pareto_front_population[0].fitness[0], pareto_front_population[0].fitness[1]))"
      ],
      "execution_count": 67,
      "outputs": [
        {
          "output_type": "stream",
          "text": [
            "Esta solución tiene como cantidad de población 155450.0 y un maximo de distancia de entre locales de 17074.19720378955\n"
          ],
          "name": "stdout"
        }
      ]
    },
    {
      "cell_type": "markdown",
      "metadata": {
        "id": "bgGhw7bEprZ_",
        "colab_type": "text"
      },
      "source": [
        "Ahora probaremos con la frontera de parto que intenta maximizar la distancia entre las ciudades y la población. Este valor estaba ubicado aproximadamente en la mitad"
      ]
    },
    {
      "cell_type": "code",
      "metadata": {
        "id": "4W6vUuLSpqe8",
        "colab_type": "code",
        "colab": {
          "base_uri": "https://localhost:8080/",
          "height": 1000
        },
        "outputId": "165c009b-8831-45f7-949e-e445c0bc9dfa"
      },
      "source": [
        "indexMid = int(round(len(pareto_front_population)/2, 0))\n",
        "m = folium.Map(\n",
        "    location=[-12.0431805, -77.0282364], zoom_start=13, zoomControl= False, min_zoom=13, max_zoom=13)\n",
        "\n",
        "[(folium.Marker([marketPool[i].lat, marketPool[i].lon], icon=folium.Icon(color='red')).add_to(m)) for i in range(len(pareto_front_population[indexMid].chromosome)) if pareto_front_population[indexMid].chromosome[i]==0]\n",
        "[(folium.Marker([marketPool[i].lat, marketPool[i].lon], icon=folium.Icon(color='blue')).add_to(m)) for i in range(len(pareto_front_population[indexMid].chromosome)) if pareto_front_population[indexMid].chromosome[i]==1]\n",
        "points = [(marketPool[i].lat, marketPool[i].lon) for i in range(len(pareto_front_population[indexMid].chromosome)) if pareto_front_population[indexMid].chromosome[i]==1]\n",
        "points.append(points[0])\n",
        "folium.PolyLine(points, color=\"red\", weight=2.5, opacity=1).add_to(m)\n",
        "\n",
        "m"
      ],
      "execution_count": 68,
      "outputs": [
        {
          "output_type": "execute_result",
          "data": {
            "text/html": [
              "<div style=\"width:100%;\"><div style=\"position:relative;width:100%;height:0;padding-bottom:60%;\"><iframe src=\"data:text/html;charset=utf-8;base64,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\" style=\"position:absolute;width:100%;height:100%;left:0;top:0;border:none !important;\" allowfullscreen webkitallowfullscreen mozallowfullscreen></iframe></div></div>"
            ],
            "text/plain": [
              "<folium.folium.Map at 0x7fa27f1456a0>"
            ]
          },
          "metadata": {
            "tags": []
          },
          "execution_count": 68
        }
      ]
    },
    {
      "cell_type": "code",
      "metadata": {
        "id": "9F63eRa3t28y",
        "colab_type": "code",
        "colab": {
          "base_uri": "https://localhost:8080/",
          "height": 34
        },
        "outputId": "766131e7-4e89-4715-a549-2596b181dcc1"
      },
      "source": [
        "print(\"Esta solución tiene como cantidad de población {} y un maximo de distancia de entre locales de {}\".format(pareto_front_population[indexMid].fitness[0], pareto_front_population[indexMid].fitness[1]))"
      ],
      "execution_count": 69,
      "outputs": [
        {
          "output_type": "stream",
          "text": [
            "Esta solución tiene como cantidad de población 172200.0 y un maximo de distancia de entre locales de 13346.587521777441\n"
          ],
          "name": "stdout"
        }
      ]
    },
    {
      "cell_type": "markdown",
      "metadata": {
        "id": "PVgjo-2Va3F9",
        "colab_type": "text"
      },
      "source": [
        "**j) Experimentación con el algoritmo**"
      ]
    },
    {
      "cell_type": "markdown",
      "metadata": {
        "id": "uhQGVCXQa3F-",
        "colab_type": "text"
      },
      "source": [
        "Experimente varias\n",
        "veces el algoritmo implementado con una población de 100 individuos y 500 generaciones\n",
        "(se sugiere ejecutar 10 veces). En cada ejecución registre los individuos de la frontera de\n",
        "Pareto final, así como los valores de las funciones objetivos de dichos individuo. Realice\n",
        "Plots de las fronteras de Pareto encontradas, ubicando en dichos plots los puntos de los\n",
        "mejores individuos encontrados con el algoritmo mono-objetivo."
      ]
    },
    {
      "cell_type": "code",
      "metadata": {
        "collapsed": true,
        "jupyter": {
          "outputs_hidden": true
        },
        "id": "IaqnfKN_a3F_",
        "colab_type": "code",
        "outputId": "f069296e-046e-4b6f-afda-5a8121df3aee",
        "colab": {
          "base_uri": "https://localhost:8080/",
          "height": 1000
        }
      },
      "source": [
        "## Hiperparametros del algoritmo genetico\n",
        "POP_SIZE = 100       # numero de individuos\n",
        "GENERATIONS = 500   # numero de generaciones\n",
        "PMUT = 1       # tasa de mutacion, influye en el resultado\n",
        "MIN_POP_SIZE = 100    # numero de individuos minimo\n",
        "MAX_POP_SIZE = 100    # numero de individuos maximo\n",
        "\n",
        "num_iteracion,individuos_pareto,obj_pob,obj_dist=([] for _ in range(4))\n",
        "for i in range(10):\n",
        "    \n",
        "    ## Inicializa una poblacion inicial de forma aleatoria\n",
        "    P = init_population(POP_SIZE,maxMark=10)\n",
        "\n",
        "    evaluate_population_nsga(P,marketPool)    #  evalua la poblacion inicial\n",
        "    print(f'Iteracion {i+1}')\n",
        "    ## Ejecuta los ciclos evolutivos \n",
        "    for g in range(GENERATIONS):   # Por cada generacion\n",
        "        if g %10 == 0:\n",
        "            print ('Generacion {} (de {}) '.format(g, GENERATIONS))\n",
        "\n",
        "        ## genera y evalua la poblacion hija    \n",
        "        Q = build_offspring_population(P, \"uniform\", \"flip\", PMUT)\n",
        "        evaluate_population_nsga(Q, marketPool)\n",
        "\n",
        "        ## une la poblacion padre y la poblacion hija\n",
        "        P.extend(Q) \n",
        "\n",
        "        ## Construye la poblacion de la siguiente generacion\n",
        "        P = build_next_population(P, MIN_POP_SIZE, MAX_POP_SIZE)\n",
        "\n",
        "    # Obtiene la poblacion de la frontera de pareto final \n",
        "    pareto_front_population = get_paretofront_population(P) \n",
        "    \n",
        "    num_iteracion.append([i for _ in range(len(pareto_front_population)) ]) #Almacenamos el numero de iteracion para distingirlos en el dataframe\n",
        "    individuos_pareto.append(pareto_front_population) #Almacenamos los individuos que se encuentran en la frontera de pareto\n",
        "    obj_pob.append([individuo.fitness[0] for individuo in pareto_front_population]) #Almacenamos el objetivo poblacion de cada individuo\n",
        "    obj_dist.append([individuo.fitness[1] for individuo in pareto_front_population]) #Almacenamos el objetivo distancia de cada individuo"
      ],
      "execution_count": 65,
      "outputs": [
        {
          "output_type": "stream",
          "text": [
            "Iteracion 1\n",
            "Generacion 0 (de 500) \n",
            "Generacion 10 (de 500) \n",
            "Generacion 20 (de 500) \n",
            "Generacion 30 (de 500) \n",
            "Generacion 40 (de 500) \n",
            "Generacion 50 (de 500) \n",
            "Generacion 60 (de 500) \n",
            "Generacion 70 (de 500) \n",
            "Generacion 80 (de 500) \n",
            "Generacion 90 (de 500) \n",
            "Generacion 100 (de 500) \n",
            "Generacion 110 (de 500) \n",
            "Generacion 120 (de 500) \n",
            "Generacion 130 (de 500) \n",
            "Generacion 140 (de 500) \n",
            "Generacion 150 (de 500) \n",
            "Generacion 160 (de 500) \n",
            "Generacion 170 (de 500) \n",
            "Generacion 180 (de 500) \n",
            "Generacion 190 (de 500) \n",
            "Generacion 200 (de 500) \n",
            "Generacion 210 (de 500) \n",
            "Generacion 220 (de 500) \n",
            "Generacion 230 (de 500) \n",
            "Generacion 240 (de 500) \n",
            "Generacion 250 (de 500) \n",
            "Generacion 260 (de 500) \n",
            "Generacion 270 (de 500) \n",
            "Generacion 280 (de 500) \n",
            "Generacion 290 (de 500) \n",
            "Generacion 300 (de 500) \n",
            "Generacion 310 (de 500) \n",
            "Generacion 320 (de 500) \n",
            "Generacion 330 (de 500) \n",
            "Generacion 340 (de 500) \n",
            "Generacion 350 (de 500) \n",
            "Generacion 360 (de 500) \n",
            "Generacion 370 (de 500) \n",
            "Generacion 380 (de 500) \n",
            "Generacion 390 (de 500) \n",
            "Generacion 400 (de 500) \n",
            "Generacion 410 (de 500) \n",
            "Generacion 420 (de 500) \n",
            "Generacion 430 (de 500) \n",
            "Generacion 440 (de 500) \n",
            "Generacion 450 (de 500) \n",
            "Generacion 460 (de 500) \n",
            "Generacion 470 (de 500) \n",
            "Generacion 480 (de 500) \n",
            "Generacion 490 (de 500) \n",
            "Iteracion 2\n",
            "Generacion 0 (de 500) \n",
            "Generacion 10 (de 500) \n",
            "Generacion 20 (de 500) \n",
            "Generacion 30 (de 500) \n",
            "Generacion 40 (de 500) \n",
            "Generacion 50 (de 500) \n",
            "Generacion 60 (de 500) \n",
            "Generacion 70 (de 500) \n",
            "Generacion 80 (de 500) \n",
            "Generacion 90 (de 500) \n",
            "Generacion 100 (de 500) \n",
            "Generacion 110 (de 500) \n",
            "Generacion 120 (de 500) \n",
            "Generacion 130 (de 500) \n",
            "Generacion 140 (de 500) \n",
            "Generacion 150 (de 500) \n",
            "Generacion 160 (de 500) \n",
            "Generacion 170 (de 500) \n",
            "Generacion 180 (de 500) \n",
            "Generacion 190 (de 500) \n",
            "Generacion 200 (de 500) \n",
            "Generacion 210 (de 500) \n",
            "Generacion 220 (de 500) \n",
            "Generacion 230 (de 500) \n",
            "Generacion 240 (de 500) \n",
            "Generacion 250 (de 500) \n",
            "Generacion 260 (de 500) \n",
            "Generacion 270 (de 500) \n",
            "Generacion 280 (de 500) \n",
            "Generacion 290 (de 500) \n",
            "Generacion 300 (de 500) \n",
            "Generacion 310 (de 500) \n",
            "Generacion 320 (de 500) \n",
            "Generacion 330 (de 500) \n",
            "Generacion 340 (de 500) \n",
            "Generacion 350 (de 500) \n",
            "Generacion 360 (de 500) \n",
            "Generacion 370 (de 500) \n",
            "Generacion 380 (de 500) \n",
            "Generacion 390 (de 500) \n",
            "Generacion 400 (de 500) \n",
            "Generacion 410 (de 500) \n",
            "Generacion 420 (de 500) \n",
            "Generacion 430 (de 500) \n",
            "Generacion 440 (de 500) \n",
            "Generacion 450 (de 500) \n",
            "Generacion 460 (de 500) \n",
            "Generacion 470 (de 500) \n",
            "Generacion 480 (de 500) \n",
            "Generacion 490 (de 500) \n",
            "Iteracion 3\n",
            "Generacion 0 (de 500) \n",
            "Generacion 10 (de 500) \n",
            "Generacion 20 (de 500) \n",
            "Generacion 30 (de 500) \n",
            "Generacion 40 (de 500) \n",
            "Generacion 50 (de 500) \n",
            "Generacion 60 (de 500) \n",
            "Generacion 70 (de 500) \n",
            "Generacion 80 (de 500) \n",
            "Generacion 90 (de 500) \n",
            "Generacion 100 (de 500) \n",
            "Generacion 110 (de 500) \n",
            "Generacion 120 (de 500) \n",
            "Generacion 130 (de 500) \n",
            "Generacion 140 (de 500) \n",
            "Generacion 150 (de 500) \n",
            "Generacion 160 (de 500) \n",
            "Generacion 170 (de 500) \n",
            "Generacion 180 (de 500) \n",
            "Generacion 190 (de 500) \n",
            "Generacion 200 (de 500) \n",
            "Generacion 210 (de 500) \n",
            "Generacion 220 (de 500) \n",
            "Generacion 230 (de 500) \n",
            "Generacion 240 (de 500) \n",
            "Generacion 250 (de 500) \n",
            "Generacion 260 (de 500) \n",
            "Generacion 270 (de 500) \n",
            "Generacion 280 (de 500) \n",
            "Generacion 290 (de 500) \n",
            "Generacion 300 (de 500) \n",
            "Generacion 310 (de 500) \n",
            "Generacion 320 (de 500) \n",
            "Generacion 330 (de 500) \n",
            "Generacion 340 (de 500) \n",
            "Generacion 350 (de 500) \n",
            "Generacion 360 (de 500) \n",
            "Generacion 370 (de 500) \n",
            "Generacion 380 (de 500) \n",
            "Generacion 390 (de 500) \n",
            "Generacion 400 (de 500) \n",
            "Generacion 410 (de 500) \n",
            "Generacion 420 (de 500) \n",
            "Generacion 430 (de 500) \n",
            "Generacion 440 (de 500) \n",
            "Generacion 450 (de 500) \n",
            "Generacion 460 (de 500) \n",
            "Generacion 470 (de 500) \n",
            "Generacion 480 (de 500) \n",
            "Generacion 490 (de 500) \n",
            "Iteracion 4\n",
            "Generacion 0 (de 500) \n",
            "Generacion 10 (de 500) \n",
            "Generacion 20 (de 500) \n",
            "Generacion 30 (de 500) \n",
            "Generacion 40 (de 500) \n",
            "Generacion 50 (de 500) \n",
            "Generacion 60 (de 500) \n",
            "Generacion 70 (de 500) \n",
            "Generacion 80 (de 500) \n",
            "Generacion 90 (de 500) \n",
            "Generacion 100 (de 500) \n",
            "Generacion 110 (de 500) \n",
            "Generacion 120 (de 500) \n",
            "Generacion 130 (de 500) \n",
            "Generacion 140 (de 500) \n",
            "Generacion 150 (de 500) \n",
            "Generacion 160 (de 500) \n",
            "Generacion 170 (de 500) \n",
            "Generacion 180 (de 500) \n",
            "Generacion 190 (de 500) \n",
            "Generacion 200 (de 500) \n",
            "Generacion 210 (de 500) \n",
            "Generacion 220 (de 500) \n",
            "Generacion 230 (de 500) \n",
            "Generacion 240 (de 500) \n",
            "Generacion 250 (de 500) \n",
            "Generacion 260 (de 500) \n",
            "Generacion 270 (de 500) \n",
            "Generacion 280 (de 500) \n",
            "Generacion 290 (de 500) \n",
            "Generacion 300 (de 500) \n",
            "Generacion 310 (de 500) \n",
            "Generacion 320 (de 500) \n",
            "Generacion 330 (de 500) \n",
            "Generacion 340 (de 500) \n",
            "Generacion 350 (de 500) \n",
            "Generacion 360 (de 500) \n",
            "Generacion 370 (de 500) \n",
            "Generacion 380 (de 500) \n",
            "Generacion 390 (de 500) \n",
            "Generacion 400 (de 500) \n",
            "Generacion 410 (de 500) \n",
            "Generacion 420 (de 500) \n",
            "Generacion 430 (de 500) \n",
            "Generacion 440 (de 500) \n",
            "Generacion 450 (de 500) \n",
            "Generacion 460 (de 500) \n",
            "Generacion 470 (de 500) \n",
            "Generacion 480 (de 500) \n",
            "Generacion 490 (de 500) \n",
            "Iteracion 5\n",
            "Generacion 0 (de 500) \n",
            "Generacion 10 (de 500) \n",
            "Generacion 20 (de 500) \n",
            "Generacion 30 (de 500) \n",
            "Generacion 40 (de 500) \n",
            "Generacion 50 (de 500) \n",
            "Generacion 60 (de 500) \n",
            "Generacion 70 (de 500) \n",
            "Generacion 80 (de 500) \n",
            "Generacion 90 (de 500) \n",
            "Generacion 100 (de 500) \n",
            "Generacion 110 (de 500) \n",
            "Generacion 120 (de 500) \n",
            "Generacion 130 (de 500) \n",
            "Generacion 140 (de 500) \n",
            "Generacion 150 (de 500) \n",
            "Generacion 160 (de 500) \n",
            "Generacion 170 (de 500) \n",
            "Generacion 180 (de 500) \n",
            "Generacion 190 (de 500) \n",
            "Generacion 200 (de 500) \n",
            "Generacion 210 (de 500) \n",
            "Generacion 220 (de 500) \n",
            "Generacion 230 (de 500) \n",
            "Generacion 240 (de 500) \n",
            "Generacion 250 (de 500) \n",
            "Generacion 260 (de 500) \n",
            "Generacion 270 (de 500) \n",
            "Generacion 280 (de 500) \n",
            "Generacion 290 (de 500) \n",
            "Generacion 300 (de 500) \n",
            "Generacion 310 (de 500) \n",
            "Generacion 320 (de 500) \n",
            "Generacion 330 (de 500) \n",
            "Generacion 340 (de 500) \n",
            "Generacion 350 (de 500) \n",
            "Generacion 360 (de 500) \n",
            "Generacion 370 (de 500) \n",
            "Generacion 380 (de 500) \n",
            "Generacion 390 (de 500) \n",
            "Generacion 400 (de 500) \n",
            "Generacion 410 (de 500) \n",
            "Generacion 420 (de 500) \n",
            "Generacion 430 (de 500) \n",
            "Generacion 440 (de 500) \n",
            "Generacion 450 (de 500) \n",
            "Generacion 460 (de 500) \n",
            "Generacion 470 (de 500) \n",
            "Generacion 480 (de 500) \n",
            "Generacion 490 (de 500) \n",
            "Iteracion 6\n",
            "Generacion 0 (de 500) \n",
            "Generacion 10 (de 500) \n",
            "Generacion 20 (de 500) \n",
            "Generacion 30 (de 500) \n",
            "Generacion 40 (de 500) \n",
            "Generacion 50 (de 500) \n",
            "Generacion 60 (de 500) \n",
            "Generacion 70 (de 500) \n",
            "Generacion 80 (de 500) \n",
            "Generacion 90 (de 500) \n",
            "Generacion 100 (de 500) \n",
            "Generacion 110 (de 500) \n",
            "Generacion 120 (de 500) \n",
            "Generacion 130 (de 500) \n",
            "Generacion 140 (de 500) \n",
            "Generacion 150 (de 500) \n",
            "Generacion 160 (de 500) \n",
            "Generacion 170 (de 500) \n",
            "Generacion 180 (de 500) \n",
            "Generacion 190 (de 500) \n",
            "Generacion 200 (de 500) \n",
            "Generacion 210 (de 500) \n",
            "Generacion 220 (de 500) \n",
            "Generacion 230 (de 500) \n",
            "Generacion 240 (de 500) \n",
            "Generacion 250 (de 500) \n",
            "Generacion 260 (de 500) \n",
            "Generacion 270 (de 500) \n",
            "Generacion 280 (de 500) \n",
            "Generacion 290 (de 500) \n",
            "Generacion 300 (de 500) \n",
            "Generacion 310 (de 500) \n",
            "Generacion 320 (de 500) \n",
            "Generacion 330 (de 500) \n",
            "Generacion 340 (de 500) \n",
            "Generacion 350 (de 500) \n",
            "Generacion 360 (de 500) \n",
            "Generacion 370 (de 500) \n",
            "Generacion 380 (de 500) \n",
            "Generacion 390 (de 500) \n",
            "Generacion 400 (de 500) \n",
            "Generacion 410 (de 500) \n",
            "Generacion 420 (de 500) \n",
            "Generacion 430 (de 500) \n",
            "Generacion 440 (de 500) \n",
            "Generacion 450 (de 500) \n",
            "Generacion 460 (de 500) \n",
            "Generacion 470 (de 500) \n",
            "Generacion 480 (de 500) \n",
            "Generacion 490 (de 500) \n",
            "Iteracion 7\n",
            "Generacion 0 (de 500) \n",
            "Generacion 10 (de 500) \n",
            "Generacion 20 (de 500) \n",
            "Generacion 30 (de 500) \n",
            "Generacion 40 (de 500) \n",
            "Generacion 50 (de 500) \n",
            "Generacion 60 (de 500) \n",
            "Generacion 70 (de 500) \n",
            "Generacion 80 (de 500) \n",
            "Generacion 90 (de 500) \n",
            "Generacion 100 (de 500) \n",
            "Generacion 110 (de 500) \n",
            "Generacion 120 (de 500) \n",
            "Generacion 130 (de 500) \n",
            "Generacion 140 (de 500) \n",
            "Generacion 150 (de 500) \n",
            "Generacion 160 (de 500) \n",
            "Generacion 170 (de 500) \n",
            "Generacion 180 (de 500) \n",
            "Generacion 190 (de 500) \n",
            "Generacion 200 (de 500) \n",
            "Generacion 210 (de 500) \n",
            "Generacion 220 (de 500) \n",
            "Generacion 230 (de 500) \n",
            "Generacion 240 (de 500) \n",
            "Generacion 250 (de 500) \n",
            "Generacion 260 (de 500) \n",
            "Generacion 270 (de 500) \n",
            "Generacion 280 (de 500) \n",
            "Generacion 290 (de 500) \n",
            "Generacion 300 (de 500) \n",
            "Generacion 310 (de 500) \n",
            "Generacion 320 (de 500) \n",
            "Generacion 330 (de 500) \n",
            "Generacion 340 (de 500) \n",
            "Generacion 350 (de 500) \n",
            "Generacion 360 (de 500) \n",
            "Generacion 370 (de 500) \n",
            "Generacion 380 (de 500) \n",
            "Generacion 390 (de 500) \n",
            "Generacion 400 (de 500) \n",
            "Generacion 410 (de 500) \n",
            "Generacion 420 (de 500) \n",
            "Generacion 430 (de 500) \n",
            "Generacion 440 (de 500) \n",
            "Generacion 450 (de 500) \n",
            "Generacion 460 (de 500) \n",
            "Generacion 470 (de 500) \n",
            "Generacion 480 (de 500) \n",
            "Generacion 490 (de 500) \n",
            "Iteracion 8\n",
            "Generacion 0 (de 500) \n",
            "Generacion 10 (de 500) \n",
            "Generacion 20 (de 500) \n",
            "Generacion 30 (de 500) \n",
            "Generacion 40 (de 500) \n",
            "Generacion 50 (de 500) \n",
            "Generacion 60 (de 500) \n",
            "Generacion 70 (de 500) \n",
            "Generacion 80 (de 500) \n",
            "Generacion 90 (de 500) \n",
            "Generacion 100 (de 500) \n",
            "Generacion 110 (de 500) \n",
            "Generacion 120 (de 500) \n",
            "Generacion 130 (de 500) \n",
            "Generacion 140 (de 500) \n",
            "Generacion 150 (de 500) \n",
            "Generacion 160 (de 500) \n",
            "Generacion 170 (de 500) \n",
            "Generacion 180 (de 500) \n",
            "Generacion 190 (de 500) \n",
            "Generacion 200 (de 500) \n",
            "Generacion 210 (de 500) \n",
            "Generacion 220 (de 500) \n",
            "Generacion 230 (de 500) \n",
            "Generacion 240 (de 500) \n",
            "Generacion 250 (de 500) \n",
            "Generacion 260 (de 500) \n",
            "Generacion 270 (de 500) \n",
            "Generacion 280 (de 500) \n",
            "Generacion 290 (de 500) \n",
            "Generacion 300 (de 500) \n",
            "Generacion 310 (de 500) \n",
            "Generacion 320 (de 500) \n",
            "Generacion 330 (de 500) \n",
            "Generacion 340 (de 500) \n",
            "Generacion 350 (de 500) \n",
            "Generacion 360 (de 500) \n",
            "Generacion 370 (de 500) \n",
            "Generacion 380 (de 500) \n",
            "Generacion 390 (de 500) \n",
            "Generacion 400 (de 500) \n",
            "Generacion 410 (de 500) \n",
            "Generacion 420 (de 500) \n",
            "Generacion 430 (de 500) \n",
            "Generacion 440 (de 500) \n",
            "Generacion 450 (de 500) \n",
            "Generacion 460 (de 500) \n",
            "Generacion 470 (de 500) \n",
            "Generacion 480 (de 500) \n",
            "Generacion 490 (de 500) \n",
            "Iteracion 9\n",
            "Generacion 0 (de 500) \n",
            "Generacion 10 (de 500) \n",
            "Generacion 20 (de 500) \n",
            "Generacion 30 (de 500) \n",
            "Generacion 40 (de 500) \n",
            "Generacion 50 (de 500) \n",
            "Generacion 60 (de 500) \n",
            "Generacion 70 (de 500) \n",
            "Generacion 80 (de 500) \n",
            "Generacion 90 (de 500) \n",
            "Generacion 100 (de 500) \n",
            "Generacion 110 (de 500) \n",
            "Generacion 120 (de 500) \n",
            "Generacion 130 (de 500) \n",
            "Generacion 140 (de 500) \n",
            "Generacion 150 (de 500) \n",
            "Generacion 160 (de 500) \n",
            "Generacion 170 (de 500) \n",
            "Generacion 180 (de 500) \n",
            "Generacion 190 (de 500) \n",
            "Generacion 200 (de 500) \n",
            "Generacion 210 (de 500) \n",
            "Generacion 220 (de 500) \n",
            "Generacion 230 (de 500) \n",
            "Generacion 240 (de 500) \n",
            "Generacion 250 (de 500) \n",
            "Generacion 260 (de 500) \n",
            "Generacion 270 (de 500) \n",
            "Generacion 280 (de 500) \n",
            "Generacion 290 (de 500) \n",
            "Generacion 300 (de 500) \n",
            "Generacion 310 (de 500) \n",
            "Generacion 320 (de 500) \n",
            "Generacion 330 (de 500) \n",
            "Generacion 340 (de 500) \n",
            "Generacion 350 (de 500) \n",
            "Generacion 360 (de 500) \n",
            "Generacion 370 (de 500) \n",
            "Generacion 380 (de 500) \n",
            "Generacion 390 (de 500) \n",
            "Generacion 400 (de 500) \n",
            "Generacion 410 (de 500) \n",
            "Generacion 420 (de 500) \n",
            "Generacion 430 (de 500) \n",
            "Generacion 440 (de 500) \n",
            "Generacion 450 (de 500) \n",
            "Generacion 460 (de 500) \n",
            "Generacion 470 (de 500) \n",
            "Generacion 480 (de 500) \n",
            "Generacion 490 (de 500) \n",
            "Iteracion 10\n",
            "Generacion 0 (de 500) \n",
            "Generacion 10 (de 500) \n",
            "Generacion 20 (de 500) \n",
            "Generacion 30 (de 500) \n",
            "Generacion 40 (de 500) \n",
            "Generacion 50 (de 500) \n",
            "Generacion 60 (de 500) \n",
            "Generacion 70 (de 500) \n",
            "Generacion 80 (de 500) \n",
            "Generacion 90 (de 500) \n",
            "Generacion 100 (de 500) \n",
            "Generacion 110 (de 500) \n",
            "Generacion 120 (de 500) \n",
            "Generacion 130 (de 500) \n",
            "Generacion 140 (de 500) \n",
            "Generacion 150 (de 500) \n",
            "Generacion 160 (de 500) \n",
            "Generacion 170 (de 500) \n",
            "Generacion 180 (de 500) \n",
            "Generacion 190 (de 500) \n",
            "Generacion 200 (de 500) \n",
            "Generacion 210 (de 500) \n",
            "Generacion 220 (de 500) \n",
            "Generacion 230 (de 500) \n",
            "Generacion 240 (de 500) \n",
            "Generacion 250 (de 500) \n",
            "Generacion 260 (de 500) \n",
            "Generacion 270 (de 500) \n",
            "Generacion 280 (de 500) \n",
            "Generacion 290 (de 500) \n",
            "Generacion 300 (de 500) \n",
            "Generacion 310 (de 500) \n",
            "Generacion 320 (de 500) \n",
            "Generacion 330 (de 500) \n",
            "Generacion 340 (de 500) \n",
            "Generacion 350 (de 500) \n",
            "Generacion 360 (de 500) \n",
            "Generacion 370 (de 500) \n",
            "Generacion 380 (de 500) \n",
            "Generacion 390 (de 500) \n",
            "Generacion 400 (de 500) \n",
            "Generacion 410 (de 500) \n",
            "Generacion 420 (de 500) \n",
            "Generacion 430 (de 500) \n",
            "Generacion 440 (de 500) \n",
            "Generacion 450 (de 500) \n",
            "Generacion 460 (de 500) \n",
            "Generacion 470 (de 500) \n",
            "Generacion 480 (de 500) \n",
            "Generacion 490 (de 500) \n"
          ],
          "name": "stdout"
        }
      ]
    },
    {
      "cell_type": "markdown",
      "metadata": {
        "id": "_LjF__WQa3GD",
        "colab_type": "text"
      },
      "source": [
        "Flatten para cada lista"
      ]
    },
    {
      "cell_type": "code",
      "metadata": {
        "id": "-3wMPEWNa3GE",
        "colab_type": "code",
        "colab": {}
      },
      "source": [
        "num_iteracion=[item for sublist in num_iteracion for item in sublist]\n",
        "individuos_pareto=[item for sublist in individuos_pareto for item in sublist]\n",
        "obj_pob=[item for sublist in obj_pob for item in sublist]\n",
        "obj_dist=[item for sublist in obj_dist for item in sublist]"
      ],
      "execution_count": 0,
      "outputs": []
    },
    {
      "cell_type": "code",
      "metadata": {
        "id": "CGEE-nUwa3GG",
        "colab_type": "code",
        "outputId": "7b5811aa-5d41-418f-b457-5ffd84bf847e",
        "colab": {
          "base_uri": "https://localhost:8080/",
          "height": 419
        }
      },
      "source": [
        "resultados_multi_obj=pd.DataFrame({'numero_iteracion':num_iteracion,'individuos_pareto':individuos_pareto,\n",
        "                                   'objetivo_poblacion':obj_pob,'objetivo_distancia':obj_dist})\n",
        "resultados_multi_obj"
      ],
      "execution_count": 71,
      "outputs": [
        {
          "output_type": "execute_result",
          "data": {
            "text/html": [
              "<div>\n",
              "<style scoped>\n",
              "    .dataframe tbody tr th:only-of-type {\n",
              "        vertical-align: middle;\n",
              "    }\n",
              "\n",
              "    .dataframe tbody tr th {\n",
              "        vertical-align: top;\n",
              "    }\n",
              "\n",
              "    .dataframe thead th {\n",
              "        text-align: right;\n",
              "    }\n",
              "</style>\n",
              "<table border=\"1\" class=\"dataframe\">\n",
              "  <thead>\n",
              "    <tr style=\"text-align: right;\">\n",
              "      <th></th>\n",
              "      <th>numero_iteracion</th>\n",
              "      <th>individuos_pareto</th>\n",
              "      <th>objetivo_poblacion</th>\n",
              "      <th>objetivo_distancia</th>\n",
              "    </tr>\n",
              "  </thead>\n",
              "  <tbody>\n",
              "    <tr>\n",
              "      <th>0</th>\n",
              "      <td>0</td>\n",
              "      <td>&lt;__main__.Individual object at 0x7fa280bcc518&gt;</td>\n",
              "      <td>143950.0</td>\n",
              "      <td>19286.936616</td>\n",
              "    </tr>\n",
              "    <tr>\n",
              "      <th>1</th>\n",
              "      <td>0</td>\n",
              "      <td>&lt;__main__.Individual object at 0x7fa280bcc2e8&gt;</td>\n",
              "      <td>182900.0</td>\n",
              "      <td>9544.695441</td>\n",
              "    </tr>\n",
              "    <tr>\n",
              "      <th>2</th>\n",
              "      <td>0</td>\n",
              "      <td>&lt;__main__.Individual object at 0x7fa280bccf60&gt;</td>\n",
              "      <td>116950.0</td>\n",
              "      <td>23498.402253</td>\n",
              "    </tr>\n",
              "    <tr>\n",
              "      <th>3</th>\n",
              "      <td>0</td>\n",
              "      <td>&lt;__main__.Individual object at 0x7fa28104a2e8&gt;</td>\n",
              "      <td>130850.0</td>\n",
              "      <td>22043.450544</td>\n",
              "    </tr>\n",
              "    <tr>\n",
              "      <th>4</th>\n",
              "      <td>0</td>\n",
              "      <td>&lt;__main__.Individual object at 0x7fa28104af98&gt;</td>\n",
              "      <td>144950.0</td>\n",
              "      <td>19107.308152</td>\n",
              "    </tr>\n",
              "    <tr>\n",
              "      <th>...</th>\n",
              "      <td>...</td>\n",
              "      <td>...</td>\n",
              "      <td>...</td>\n",
              "      <td>...</td>\n",
              "    </tr>\n",
              "    <tr>\n",
              "      <th>995</th>\n",
              "      <td>9</td>\n",
              "      <td>&lt;__main__.Individual object at 0x7fa2810d7a90&gt;</td>\n",
              "      <td>129750.0</td>\n",
              "      <td>22108.758428</td>\n",
              "    </tr>\n",
              "    <tr>\n",
              "      <th>996</th>\n",
              "      <td>9</td>\n",
              "      <td>&lt;__main__.Individual object at 0x7fa27dcc47b8&gt;</td>\n",
              "      <td>130850.0</td>\n",
              "      <td>22043.450544</td>\n",
              "    </tr>\n",
              "    <tr>\n",
              "      <th>997</th>\n",
              "      <td>9</td>\n",
              "      <td>&lt;__main__.Individual object at 0x7fa27dcc4198&gt;</td>\n",
              "      <td>140350.0</td>\n",
              "      <td>20114.283787</td>\n",
              "    </tr>\n",
              "    <tr>\n",
              "      <th>998</th>\n",
              "      <td>9</td>\n",
              "      <td>&lt;__main__.Individual object at 0x7fa27dcc4908&gt;</td>\n",
              "      <td>167600.0</td>\n",
              "      <td>14599.491381</td>\n",
              "    </tr>\n",
              "    <tr>\n",
              "      <th>999</th>\n",
              "      <td>9</td>\n",
              "      <td>&lt;__main__.Individual object at 0x7fa27f1740f0&gt;</td>\n",
              "      <td>166950.0</td>\n",
              "      <td>14655.447011</td>\n",
              "    </tr>\n",
              "  </tbody>\n",
              "</table>\n",
              "<p>1000 rows × 4 columns</p>\n",
              "</div>"
            ],
            "text/plain": [
              "     numero_iteracion  ... objetivo_distancia\n",
              "0                   0  ...       19286.936616\n",
              "1                   0  ...        9544.695441\n",
              "2                   0  ...       23498.402253\n",
              "3                   0  ...       22043.450544\n",
              "4                   0  ...       19107.308152\n",
              "..                ...  ...                ...\n",
              "995                 9  ...       22108.758428\n",
              "996                 9  ...       22043.450544\n",
              "997                 9  ...       20114.283787\n",
              "998                 9  ...       14599.491381\n",
              "999                 9  ...       14655.447011\n",
              "\n",
              "[1000 rows x 4 columns]"
            ]
          },
          "metadata": {
            "tags": []
          },
          "execution_count": 71
        }
      ]
    },
    {
      "cell_type": "markdown",
      "metadata": {
        "id": "vz63KkFYa3GL",
        "colab_type": "text"
      },
      "source": [
        "**k) Plots de las fronteras de pareto**"
      ]
    },
    {
      "cell_type": "code",
      "metadata": {
        "id": "SVKMQt0Ea3GM",
        "colab_type": "code",
        "outputId": "3c9ebbd4-033b-4a64-c0bd-a296b1202c72",
        "colab": {
          "base_uri": "https://localhost:8080/",
          "height": 702
        }
      },
      "source": [
        "fig,axes=plt.subplots(nrows=2, ncols=5,figsize=(20,10))\n",
        "fig.tight_layout(pad=4)\n",
        "for i in range(10):\n",
        "    subplot=plt.subplot(2,5, i+1)    \n",
        "    plt.title(f'Iteración {i+1}', loc='center', fontsize=20, fontweight=0)\n",
        "    fitnesses = np.zeros([pop_size, num_objectives])\n",
        "    for j in range(pop_size): fitnesses[j,:] = resultados_multi_obj.individuos_pareto[resultados_multi_obj.numero_iteracion == i].iloc[j].fitness\n",
        "    x = fitnesses[:, 0]/CHROMOSOME_SIZE*100\n",
        "    y = fitnesses[:, 1]/CHROMOSOME_SIZE*100\n",
        "    plt.xlabel('Objectivo Poblacion - % maximo obtenible') #Primer objetivo: Maximizar el valor de la mochila\n",
        "    plt.ylabel('Objectivo Distancia - % maximo obtenible') #Segundo objetivo: Minimizar el peso de la mochila\n",
        "    plt.scatter(x,y)\n",
        "    #Plot de los mejores individuos encontrados con el algoritmo mono objetivo\n",
        "    x_multi=resultados_mono_obj.iloc[i].suma_poblacion/CHROMOSOME_SIZE*100\n",
        "    y_multi=resultados_mono_obj.iloc[i].suma_distancia/CHROMOSOME_SIZE*100\n",
        "    plt.scatter(x_multi,y_multi,c='red')"
      ],
      "execution_count": 72,
      "outputs": [
        {
          "output_type": "display_data",
          "data": {
            "image/png": "[encoded data removed]",
            "text/plain": [
              "<Figure size 1440x720 with 10 Axes>"
            ]
          },
          "metadata": {
            "tags": []
          }
        }
      ]
    },
    {
      "cell_type": "code",
      "metadata": {
        "id": "2P00OWlRbxlE",
        "colab_type": "code",
        "colab": {}
      },
      "source": [
        ""
      ],
      "execution_count": 0,
      "outputs": []
    }
  ]
}